{
 "cells": [
  {
   "cell_type": "code",
   "execution_count": 1,
   "metadata": {},
   "outputs": [],
   "source": [
    "import pandas as pd\n",
    "import numpy as np\n",
    "import pickle"
   ]
  },
  {
   "cell_type": "markdown",
   "metadata": {},
   "source": [
    "### Data"
   ]
  },
  {
   "cell_type": "markdown",
   "metadata": {},
   "source": [
    "Izquierda Diario"
   ]
  },
  {
   "cell_type": "code",
   "execution_count": 2,
   "metadata": {},
   "outputs": [],
   "source": [
    "df_izq = pickle.load(open('data/df_clean_izq.pkl','rb'))"
   ]
  },
  {
   "cell_type": "code",
   "execution_count": 3,
   "metadata": {},
   "outputs": [],
   "source": [
    "df_inflation_izq = df_izq[df_izq.topics == 'inflation']"
   ]
  },
  {
   "cell_type": "code",
   "execution_count": 4,
   "metadata": {},
   "outputs": [],
   "source": [
    "df_exchange_izq = df_izq[df_izq.topics == 'exchange']"
   ]
  },
  {
   "cell_type": "code",
   "execution_count": 5,
   "metadata": {},
   "outputs": [],
   "source": [
    "corpus_izq = df_inflation_izq.append(df_exchange_izq)"
   ]
  },
  {
   "cell_type": "markdown",
   "metadata": {},
   "source": [
    "Derecha Diario"
   ]
  },
  {
   "cell_type": "code",
   "execution_count": 6,
   "metadata": {},
   "outputs": [],
   "source": [
    "df_der = pickle.load(open('data/df_clean_der.pkl','rb'))"
   ]
  },
  {
   "cell_type": "code",
   "execution_count": 7,
   "metadata": {},
   "outputs": [],
   "source": [
    "df_inflation_der = df_der[df_der.topics == 'inflation']"
   ]
  },
  {
   "cell_type": "code",
   "execution_count": 8,
   "metadata": {},
   "outputs": [],
   "source": [
    "df_exchange_der = df_der[df_der.topics == 'exchange']"
   ]
  },
  {
   "cell_type": "code",
   "execution_count": 9,
   "metadata": {},
   "outputs": [],
   "source": [
    "corpus_der = df_inflation_der.append(df_exchange_der)"
   ]
  },
  {
   "cell_type": "markdown",
   "metadata": {},
   "source": [
    "### Tokenization"
   ]
  },
  {
   "cell_type": "code",
   "execution_count": 10,
   "metadata": {},
   "outputs": [],
   "source": [
    "import re\n",
    "import unidecode"
   ]
  },
  {
   "cell_type": "code",
   "execution_count": 11,
   "metadata": {},
   "outputs": [],
   "source": [
    "from nltk.corpus import stopwords\n",
    "import spacy\n",
    "from spacy.lang.es import Spanish"
   ]
  },
  {
   "cell_type": "code",
   "execution_count": 12,
   "metadata": {},
   "outputs": [],
   "source": [
    "parser = Spanish()\n",
    "stopwords_sp = stopwords.words('spanish') + ['si','dia', 'vez', 'fin','dias', 'dos', 'mas','ano', 'asi','puede', 'mes','incluso']"
   ]
  },
  {
   "cell_type": "code",
   "execution_count": 13,
   "metadata": {},
   "outputs": [],
   "source": [
    "def tokenizer(texto):\n",
    "\n",
    "    alphanumeric = re.sub(r'([^\\s\\w]|_)+', '', texto).lower()\n",
    "    no_accents = unidecode.unidecode(alphanumeric)\n",
    "    \n",
    "    tokens = parser(no_accents)\n",
    "    \n",
    "    tokens_list = [str(token) for token in tokens]\n",
    "    \n",
    "    tokens_clean = [token for token in tokens_list if token not in stopwords_sp and token.isalpha()]\n",
    "\n",
    "    return tokens_clean"
   ]
  },
  {
   "cell_type": "code",
   "execution_count": 14,
   "metadata": {},
   "outputs": [],
   "source": [
    "tokens_izq = [tokenizer(text) for text in corpus_izq.body]"
   ]
  },
  {
   "cell_type": "code",
   "execution_count": 15,
   "metadata": {},
   "outputs": [],
   "source": [
    "tokens_der = [tokenizer(text) for text in corpus_der.body]"
   ]
  },
  {
   "cell_type": "markdown",
   "metadata": {},
   "source": [
    "### Gensim"
   ]
  },
  {
   "cell_type": "markdown",
   "metadata": {},
   "source": [
    "Give ids to tokens with gensim Dictionary"
   ]
  },
  {
   "cell_type": "code",
   "execution_count": 16,
   "metadata": {},
   "outputs": [],
   "source": [
    "# import logging\n",
    "# logging.basicConfig(format='%(asctime)s : %(levelname)s : %(message)s', level=logging.INFO)"
   ]
  },
  {
   "cell_type": "code",
   "execution_count": 17,
   "metadata": {},
   "outputs": [],
   "source": [
    "from gensim.corpora import Dictionary"
   ]
  },
  {
   "cell_type": "code",
   "execution_count": 18,
   "metadata": {},
   "outputs": [],
   "source": [
    "# tokens input\n",
    "dictionary_izq = Dictionary(tokens_izq)\n",
    "dictionary_izq.filter_extremes(no_below=2, no_above=0.97, keep_n=None)\n",
    "\n",
    "# convert each document into the gensim bag-of-words\n",
    "corpus_izq = [dictionary_izq.doc2bow(text) for text in tokens_izq]"
   ]
  },
  {
   "cell_type": "code",
   "execution_count": 19,
   "metadata": {},
   "outputs": [],
   "source": [
    "# tokens input\n",
    "dictionary_der = Dictionary(tokens_der)\n",
    "dictionary_der.filter_extremes(no_below=2, no_above=0.97, keep_n=None)\n",
    "\n",
    "# convert each document into the gensim bag-of-words\n",
    "corpus_der = [dictionary_der.doc2bow(text) for text in tokens_der]"
   ]
  },
  {
   "cell_type": "markdown",
   "metadata": {},
   "source": [
    "### Latent Dirichlet Allocation (LDA)\n",
    "Check the unsupervised word classification using LDA"
   ]
  },
  {
   "cell_type": "code",
   "execution_count": 20,
   "metadata": {},
   "outputs": [],
   "source": [
    "from gensim import matutils, models\n",
    "import scipy.sparse"
   ]
  },
  {
   "cell_type": "markdown",
   "metadata": {},
   "source": [
    "Izquierda Diario"
   ]
  },
  {
   "cell_type": "code",
   "execution_count": 21,
   "metadata": {},
   "outputs": [],
   "source": [
    "# make a dictionary with the ids of each word assigned by Gensim dictionary method\n",
    "\n",
    "id_word_izq = dict((v, k) for k, v in dictionary_izq.token2id.items())"
   ]
  },
  {
   "cell_type": "code",
   "execution_count": 22,
   "metadata": {},
   "outputs": [],
   "source": [
    "# we already know that there are two topics\n",
    "\n",
    "lda_izq = models.LdaModel(corpus=corpus_izq, id2word=id_word_izq, num_topics=2, passes=20, random_state= 30)"
   ]
  },
  {
   "cell_type": "code",
   "execution_count": 23,
   "metadata": {},
   "outputs": [
    {
     "data": {
      "text/plain": [
       "[(0,\n",
       "  '0.020*\"precios\" + 0.014*\"inflacion\" + 0.014*\"aumento\" + 0.011*\"productos\" + 0.011*\"suba\" + 0.010*\"alimentos\" + 0.009*\"salarios\" + 0.009*\"trabajadores\" + 0.008*\"canasta\" + 0.008*\"indec\"'),\n",
       " (1,\n",
       "  '0.037*\"dolar\" + 0.013*\"dolares\" + 0.012*\"millones\" + 0.011*\"banco\" + 0.011*\"us\" + 0.010*\"central\" + 0.009*\"deuda\" + 0.009*\"guzman\" + 0.008*\"gobierno\" + 0.008*\"bonos\"')]"
      ]
     },
     "execution_count": 23,
     "metadata": {},
     "output_type": "execute_result"
    }
   ],
   "source": [
    "lda_izq.print_topics()"
   ]
  },
  {
   "cell_type": "code",
   "execution_count": 24,
   "metadata": {},
   "outputs": [
    {
     "data": {
      "text/html": [
       "\n",
       "<link rel=\"stylesheet\" type=\"text/css\" href=\"https://cdn.rawgit.com/bmabey/pyLDAvis/files/ldavis.v1.0.0.css\">\n",
       "\n",
       "\n",
       "<div id=\"ldavis_el307221402206091467044373704051\"></div>\n",
       "<script type=\"text/javascript\">\n",
       "\n",
       "var ldavis_el307221402206091467044373704051_data = {\"mdsDat\": {\"x\": [0.12753547728061676, -0.12753547728061676], \"y\": [0.0, 0.0], \"topics\": [1, 2], \"cluster\": [1, 1], \"Freq\": [56.06925964355469, 43.93073654174805]}, \"tinfo\": {\"Term\": [\"dolar\", \"precios\", \"dolares\", \"us\", \"banco\", \"alimentos\", \"guzman\", \"bonos\", \"central\", \"blue\", \"productos\", \"millones\", \"canasta\", \"contado\", \"indec\", \"deuda\", \"cambio\", \"mep\", \"salarios\", \"oficial\", \"inflacion\", \"liquidacion\", \"brecha\", \"basica\", \"aumentos\", \"bebidas\", \"mayorista\", \"cerro\", \"trabajadores\", \"indice\", \"alimentos\", \"canasta\", \"indec\", \"basica\", \"aumentos\", \"bebidas\", \"indice\", \"salario\", \"paritarias\", \"registro\", \"familia\", \"rubros\", \"supermercados\", \"enero\", \"mayoristas\", \"variacion\", \"adquisitivo\", \"familias\", \"aumentaron\", \"despidos\", \"trabajadoras\", \"tarifas\", \"cba\", \"julio\", \"rubro\", \"productos\", \"precios\", \"provincia\", \"primer\", \"congelamiento\", \"salarios\", \"nivel\", \"trabajadores\", \"inflacion\", \"suba\", \"meses\", \"ingresos\", \"aumento\", \"mismo\", \"ultimos\", \"incremento\", \"promedio\", \"general\", \"segun\", \"nacional\", \"respecto\", \"alza\", \"mientras\", \"tambien\", \"interesar\", \"gobierno\", \"dolar\", \"dolares\", \"us\", \"guzman\", \"bonos\", \"blue\", \"contado\", \"mep\", \"liquidacion\", \"cerro\", \"bono\", \"reservas\", \"fondo\", \"liqui\", \"paralelo\", \"vendio\", \"record\", \"fuga\", \"capitales\", \"mercados\", \"nuevas\", \"solidario\", \"billete\", \"martin\", \"banco\", \"presion\", \"emision\", \"licitacion\", \"cotizaciones\", \"cambiaria\", \"cambio\", \"central\", \"brecha\", \"deuda\", \"mayorista\", \"oficial\", \"millones\", \"mercado\", \"economia\", \"devaluacion\", \"medidas\", \"fmi\", \"pesos\", \"gobierno\", \"tipo\", \"interesar\", \"aumento\", \"grandes\", \"semana\"], \"Freq\": [125.0, 89.0, 44.0, 36.0, 38.0, 43.0, 29.0, 28.0, 34.0, 25.0, 49.0, 47.0, 36.0, 24.0, 35.0, 32.0, 24.0, 20.0, 40.0, 31.0, 70.0, 17.0, 20.0, 24.0, 23.0, 23.0, 21.0, 15.0, 41.0, 21.0, 43.47202682495117, 36.44765853881836, 34.690425872802734, 24.15166664123535, 23.274188995361328, 23.272680282592773, 21.5118350982666, 19.756669998168945, 18.879276275634766, 18.004974365234375, 16.246109008789062, 12.728885650634766, 11.855496406555176, 11.85204792022705, 10.978818893432617, 10.978432655334473, 10.977543830871582, 10.977423667907715, 10.977094650268555, 10.97492504119873, 10.974912643432617, 10.972466468811035, 10.09988784790039, 10.098758697509766, 10.095693588256836, 47.067501068115234, 85.6506118774414, 9.220582008361816, 9.220158576965332, 9.21976375579834, 38.38740539550781, 11.707910537719727, 37.40392303466797, 61.89122009277344, 45.379154205322266, 22.448951721191406, 20.299869537353516, 59.277870178222656, 20.864532470703125, 25.959569931030273, 29.451030731201172, 22.3032169342041, 13.610858917236328, 30.14164161682129, 15.787055969238281, 17.14645767211914, 17.10283088684082, 22.471824645996094, 21.481704711914062, 25.008146286010742, 24.72638702392578, 124.56648254394531, 43.74043273925781, 36.12857437133789, 29.330394744873047, 27.628252029418945, 25.079975128173828, 24.228944778442383, 19.976259231567383, 17.426206588745117, 14.878177642822266, 13.176929473876953, 12.326888084411621, 12.325078010559082, 11.476408958435059, 13.095032691955566, 10.627346992492676, 10.626779556274414, 10.626585960388184, 10.625836372375488, 10.624370574951172, 10.622715950012207, 9.777228355407715, 9.776281356811523, 9.775867462158203, 36.54049301147461, 14.613998413085938, 8.926868438720703, 8.926519393920898, 8.92599868774414, 8.925490379333496, 23.398761749267578, 32.57786560058594, 19.14522933959961, 29.342086791992188, 19.189170837402344, 27.33243179321289, 39.806907653808594, 16.440458297729492, 24.27168083190918, 13.201746940612793, 22.69578742980957, 14.05910587310791, 24.482633590698242, 27.9361572265625, 16.59701156616211, 23.41153335571289, 17.449535369873047, 13.659476280212402, 13.279699325561523], \"Total\": [125.0, 89.0, 44.0, 36.0, 38.0, 43.0, 29.0, 28.0, 34.0, 25.0, 49.0, 47.0, 36.0, 24.0, 35.0, 32.0, 24.0, 20.0, 40.0, 31.0, 70.0, 17.0, 20.0, 24.0, 23.0, 23.0, 21.0, 15.0, 41.0, 21.0, 43.90819549560547, 36.8806037902832, 35.1236686706543, 24.582212448120117, 23.703781127929688, 23.70372772216797, 21.946670532226562, 20.189809799194336, 19.31138038635254, 18.433055877685547, 16.676071166992188, 13.162095069885254, 12.283809661865234, 12.283689498901367, 11.405406951904297, 11.4053955078125, 11.405363082885742, 11.405362129211426, 11.405348777770996, 11.4052734375, 11.4052734375, 11.405186653137207, 10.52692985534668, 10.52688980102539, 10.526784896850586, 49.12501907348633, 89.47591400146484, 9.648438453674316, 9.648425102233887, 9.648409843444824, 40.343753814697266, 12.278929710388184, 41.16266632080078, 70.85834503173828, 55.02363967895508, 25.377748489379883, 22.75792121887207, 76.72740173339844, 23.626314163208008, 31.442615509033203, 37.506874084472656, 27.073833465576172, 14.890678405761719, 41.78082275390625, 18.36175537109375, 20.956331253051758, 20.95493507385254, 33.03184509277344, 31.299436569213867, 48.419677734375, 52.66254425048828, 125.89727783203125, 44.23481369018555, 36.58012390136719, 29.776979446411133, 28.07627296447754, 25.52505874633789, 24.674705505371094, 20.422861099243164, 17.871700286865234, 15.320476531982422, 13.619742393493652, 12.769359588623047, 12.769418716430664, 11.918988227844238, 13.62229061126709, 11.068571090698242, 11.06859016418457, 11.068595886230469, 11.068620681762695, 11.0686616897583, 11.068718910217285, 10.21818733215332, 10.218218803405762, 10.218233108520508, 38.32297897338867, 15.328937530517578, 9.367814064025879, 9.36782455444336, 9.367840766906738, 9.367857933044434, 24.7016544342041, 34.94002151489258, 20.4498348236084, 32.411476135253906, 21.32682228088379, 31.599395751953125, 47.87812423706055, 18.78223991394043, 30.822023391723633, 14.496907234191895, 29.99560546875, 16.225494384765625, 35.207366943359375, 52.66254425048828, 22.290889739990234, 48.419677734375, 76.72740173339844, 25.90176773071289, 17.12969398498535], \"Category\": [\"Default\", \"Default\", \"Default\", \"Default\", \"Default\", \"Default\", \"Default\", \"Default\", \"Default\", \"Default\", \"Default\", \"Default\", \"Default\", \"Default\", \"Default\", \"Default\", \"Default\", \"Default\", \"Default\", \"Default\", \"Default\", \"Default\", \"Default\", \"Default\", \"Default\", \"Default\", \"Default\", \"Default\", \"Default\", \"Default\", \"Topic1\", \"Topic1\", \"Topic1\", \"Topic1\", \"Topic1\", \"Topic1\", \"Topic1\", \"Topic1\", \"Topic1\", \"Topic1\", \"Topic1\", \"Topic1\", \"Topic1\", \"Topic1\", \"Topic1\", \"Topic1\", \"Topic1\", \"Topic1\", \"Topic1\", \"Topic1\", \"Topic1\", \"Topic1\", \"Topic1\", \"Topic1\", \"Topic1\", \"Topic1\", \"Topic1\", \"Topic1\", \"Topic1\", \"Topic1\", \"Topic1\", \"Topic1\", \"Topic1\", \"Topic1\", \"Topic1\", \"Topic1\", \"Topic1\", \"Topic1\", \"Topic1\", \"Topic1\", \"Topic1\", \"Topic1\", \"Topic1\", \"Topic1\", \"Topic1\", \"Topic1\", \"Topic1\", \"Topic1\", \"Topic1\", \"Topic1\", \"Topic1\", \"Topic2\", \"Topic2\", \"Topic2\", \"Topic2\", \"Topic2\", \"Topic2\", \"Topic2\", \"Topic2\", \"Topic2\", \"Topic2\", \"Topic2\", \"Topic2\", \"Topic2\", \"Topic2\", \"Topic2\", \"Topic2\", \"Topic2\", \"Topic2\", \"Topic2\", \"Topic2\", \"Topic2\", \"Topic2\", \"Topic2\", \"Topic2\", \"Topic2\", \"Topic2\", \"Topic2\", \"Topic2\", \"Topic2\", \"Topic2\", \"Topic2\", \"Topic2\", \"Topic2\", \"Topic2\", \"Topic2\", \"Topic2\", \"Topic2\", \"Topic2\", \"Topic2\", \"Topic2\", \"Topic2\", \"Topic2\", \"Topic2\", \"Topic2\", \"Topic2\", \"Topic2\", \"Topic2\", \"Topic2\", \"Topic2\"], \"logprob\": [30.0, 29.0, 28.0, 27.0, 26.0, 25.0, 24.0, 23.0, 22.0, 21.0, 20.0, 19.0, 18.0, 17.0, 16.0, 15.0, 14.0, 13.0, 12.0, 11.0, 10.0, 9.0, 8.0, 7.0, 6.0, 5.0, 4.0, 3.0, 2.0, 1.0, -4.593699932098389, -4.769999980926514, -4.819399833679199, -5.18149995803833, -5.218500137329102, -5.218599796295166, -5.2972002029418945, -5.382299900054932, -5.427800178527832, -5.475200176239014, -5.578000068664551, -5.822000026702881, -5.89300012588501, -5.8933000564575195, -5.969900131225586, -5.969900131225586, -5.96999979019165, -5.96999979019165, -5.96999979019165, -5.970200061798096, -5.970200061798096, -5.970399856567383, -6.053299903869629, -6.053400039672852, -6.053699970245361, -4.5142998695373535, -3.915600061416626, -6.144400119781494, -6.144400119781494, -6.144499778747559, -4.718100070953369, -5.905600070953369, -4.744100093841553, -4.240499973297119, -4.55079984664917, -5.2546000480651855, -5.355199813842773, -4.283599853515625, -5.3277997970581055, -5.109300136566162, -4.983099937438965, -5.261099815368652, -5.755000114440918, -4.95989990234375, -5.606599807739258, -5.52400016784668, -5.526599884033203, -5.253600120544434, -5.298600196838379, -5.146599769592285, -5.1579999923706055, -3.296999931335449, -4.343599796295166, -4.534800052642822, -4.743199825286865, -4.802999973297119, -4.899799823760986, -4.934299945831299, -5.127299785614014, -5.263899803161621, -5.421999931335449, -5.543399810791016, -5.610099792480469, -5.610199928283691, -5.681600093841553, -5.549600124359131, -5.758399963378906, -5.758500099182129, -5.758500099182129, -5.758600234985352, -5.758699893951416, -5.758900165557861, -5.841800212860107, -5.841899871826172, -5.841899871826172, -4.523399829864502, -5.439899921417236, -5.932799816131592, -5.932799816131592, -5.9328999519348145, -5.933000087738037, -4.969200134277344, -4.638199806213379, -5.1697998046875, -4.742800235748291, -5.167500019073486, -4.813799858093262, -4.43779993057251, -5.3221001625061035, -4.932600021362305, -5.541500091552734, -4.99970006942749, -5.478600025177002, -4.923900127410889, -4.791900157928467, -5.312600135803223, -4.968599796295166, -5.262599945068359, -5.507400035858154, -5.535600185394287], \"loglift\": [30.0, 29.0, 28.0, 27.0, 26.0, 25.0, 24.0, 23.0, 22.0, 21.0, 20.0, 19.0, 18.0, 17.0, 16.0, 15.0, 14.0, 13.0, 12.0, 11.0, 10.0, 9.0, 8.0, 7.0, 6.0, 5.0, 4.0, 3.0, 2.0, 1.0, 0.5685999989509583, 0.5667999982833862, 0.5662000179290771, 0.5608999729156494, 0.5602999925613403, 0.5601999759674072, 0.5586000084877014, 0.5569000244140625, 0.5559999942779541, 0.5551000237464905, 0.5525000095367432, 0.5450999736785889, 0.5430999994277954, 0.5428000092506409, 0.5404999852180481, 0.5404000282287598, 0.5404000282287598, 0.5403000116348267, 0.5403000116348267, 0.5400999784469604, 0.5400999784469604, 0.539900004863739, 0.5371999740600586, 0.5371000170707703, 0.5368000268936157, 0.5357999801635742, 0.5349000096321106, 0.5332000255584717, 0.5332000255584717, 0.5331000089645386, 0.5289000272750854, 0.531000018119812, 0.4828000068664551, 0.4433000087738037, 0.38589999079704285, 0.4560000002384186, 0.4643000066280365, 0.3206000030040741, 0.4542999863624573, 0.3869999945163727, 0.3368000090122223, 0.3847000002861023, 0.4887000024318695, 0.25209999084472656, 0.42750000953674316, 0.37790000438690186, 0.37549999356269836, 0.19339999556541443, 0.2021999955177307, -0.08209999650716782, -0.17749999463558197, 0.8119000196456909, 0.8112999796867371, 0.8101000189781189, 0.8073999881744385, 0.8065000176429749, 0.8050000071525574, 0.8043000102043152, 0.8004000186920166, 0.7972999811172485, 0.7932999730110168, 0.7894999980926514, 0.7872999906539917, 0.7871000170707703, 0.7846999764442444, 0.7831000089645386, 0.7818999886512756, 0.7817999720573425, 0.7817999720573425, 0.7817000150680542, 0.7815999984741211, 0.7814000248908997, 0.7784000039100647, 0.7782999873161316, 0.7782999873161316, 0.7749000191688538, 0.7748000025749207, 0.7742999792098999, 0.7742999792098999, 0.7742000222206116, 0.7742000222206116, 0.7684000134468079, 0.7526000142097473, 0.756600022315979, 0.7231000065803528, 0.7168999910354614, 0.6775000095367432, 0.6378999948501587, 0.6894000172615051, 0.5835999846458435, 0.7289999723434448, 0.5436999797821045, 0.6791999936103821, 0.4593000113964081, 0.18860000371932983, 0.5275999903678894, 0.09589999914169312, -0.6583999991416931, 0.1826999932527542, 0.5680000185966492]}, \"token.table\": {\"Topic\": [1, 1, 1, 2, 1, 1, 2, 1, 1, 2, 1, 1, 2, 2, 2, 2, 1, 2, 2, 1, 2, 1, 2, 1, 1, 2, 2, 1, 2, 2, 1, 1, 2, 1, 2, 1, 2, 2, 1, 2, 2, 1, 1, 1, 1, 2, 2, 2, 1, 2, 1, 2, 1, 2, 2, 1, 2, 1, 1, 1, 2, 1, 2, 1, 2, 1, 2, 2, 2, 2, 1, 2, 1, 1, 2, 2, 1, 2, 2, 1, 2, 1, 2, 1, 2, 1, 2, 1, 2, 1, 2, 2, 1, 2, 1, 2, 1, 1, 2, 1, 2, 1, 2, 1, 1, 2, 1, 2, 1, 2, 1, 2, 1, 2, 1, 1, 1, 1, 2, 1, 2, 1, 2, 2, 1, 2, 1, 1, 2, 1, 1, 2, 1, 1, 2, 1, 2, 2, 1, 2], \"Freq\": [0.9644585847854614, 0.9793160557746887, 0.8112647533416748, 0.19088582694530487, 0.9644597768783569, 0.7689560651779175, 0.22156360745429993, 0.970309317111969, 0.05218800902366638, 0.9654781818389893, 0.9763156771659851, 0.9703115224838257, 0.9786441326141357, 0.9794296622276306, 0.9544967412948608, 0.9972833395004272, 0.04890014976263046, 0.9291028380393982, 0.9607319235801697, 0.04048311710357666, 0.9311116933822632, 0.9761228561401367, 0.9938004016876221, 0.9499445557594299, 0.05724094808101654, 0.9444756507873535, 0.9790818095207214, 0.9327961802482605, 0.9726560115814209, 0.9607336521148682, 0.9644661545753479, 0.0925598070025444, 0.8947448134422302, 0.06898023188114166, 0.8967429995536804, 0.007942983880639076, 0.992872953414917, 0.9946916699409485, 0.22711032629013062, 0.7786639928817749, 0.9607363939285278, 0.9769051671028137, 0.959458589553833, 0.9644586443901062, 0.12326280772686005, 0.8628396391868591, 0.9397451877593994, 0.9938026666641235, 0.9401854872703552, 0.0671561062335968, 0.47472071647644043, 0.5316872000694275, 0.4632888436317444, 0.5405036211013794, 0.9739066958427429, 0.7731915712356567, 0.21329423785209656, 0.9964790344238281, 1.0024299621582031, 0.8749851584434509, 0.12701398134231567, 0.8788148760795593, 0.08788149058818817, 0.5163190364837646, 0.47501349449157715, 0.9499481916427612, 0.9607353210449219, 0.9228971004486084, 0.9512245655059814, 0.9786427617073059, 0.09377862513065338, 0.8908969163894653, 0.9644548296928406, 0.23336751759052277, 0.7667790055274963, 0.9792947173118591, 0.1064835712313652, 0.8518685698509216, 0.9937967658042908, 0.866901159286499, 0.11821379512548447, 0.6660239696502686, 0.3330119848251343, 0.16709092259407043, 0.8354546427726746, 0.8888394236564636, 0.1269770711660385, 0.8713763952255249, 0.16338306665420532, 0.9772838950157166, 0.08144032210111618, 0.9937916398048401, 0.12658469378948212, 0.8544467091560364, 0.07340909540653229, 0.9543182253837585, 0.9838758111000061, 0.3124346137046814, 0.6816754937171936, 0.9611524939537048, 0.04470476880669594, 0.06523609161376953, 0.978541374206543, 0.9327947497367859, 0.9567426443099976, 0.04071245342493057, 0.8125927448272705, 0.18468016386032104, 0.9327934384346008, 0.9938031435012817, 0.9765065312385559, 0.939749538898468, 0.8112106919288635, 0.19087310135364532, 0.9499576687812805, 0.9876847267150879, 0.990598738193512, 0.9419054388999939, 0.04957396909594536, 0.7180327773094177, 0.28721311688423157, 0.23351263999938965, 0.7589160799980164, 0.9786471724510193, 0.8178303241729736, 0.18174006044864655, 0.9768956303596497, 0.6709386110305786, 0.3194945752620697, 0.9644734859466553, 0.26916825771331787, 0.7626433968544006, 0.9644661545753479, 0.8988727927207947, 0.09717543423175812, 0.826903223991394, 0.1590198427438736, 0.9841409921646118, 0.9644558429718018, 0.9938048720359802], \"Term\": [\"adquisitivo\", \"alimentos\", \"alza\", \"alza\", \"aumentaron\", \"aumento\", \"aumento\", \"aumentos\", \"banco\", \"banco\", \"basica\", \"bebidas\", \"billete\", \"blue\", \"bono\", \"bonos\", \"brecha\", \"brecha\", \"cambiaria\", \"cambio\", \"cambio\", \"canasta\", \"capitales\", \"cba\", \"central\", \"central\", \"cerro\", \"congelamiento\", \"contado\", \"cotizaciones\", \"despidos\", \"deuda\", \"deuda\", \"devaluacion\", \"devaluacion\", \"dolar\", \"dolar\", \"dolares\", \"economia\", \"economia\", \"emision\", \"enero\", \"familia\", \"familias\", \"fmi\", \"fmi\", \"fondo\", \"fuga\", \"general\", \"general\", \"gobierno\", \"gobierno\", \"grandes\", \"grandes\", \"guzman\", \"incremento\", \"incremento\", \"indec\", \"indice\", \"inflacion\", \"inflacion\", \"ingresos\", \"ingresos\", \"interesar\", \"interesar\", \"julio\", \"licitacion\", \"liqui\", \"liquidacion\", \"martin\", \"mayorista\", \"mayorista\", \"mayoristas\", \"medidas\", \"medidas\", \"mep\", \"mercado\", \"mercado\", \"mercados\", \"meses\", \"meses\", \"mientras\", \"mientras\", \"millones\", \"millones\", \"mismo\", \"mismo\", \"nacional\", \"nacional\", \"nivel\", \"nivel\", \"nuevas\", \"oficial\", \"oficial\", \"paralelo\", \"paralelo\", \"paritarias\", \"pesos\", \"pesos\", \"precios\", \"precios\", \"presion\", \"presion\", \"primer\", \"productos\", \"productos\", \"promedio\", \"promedio\", \"provincia\", \"record\", \"registro\", \"reservas\", \"respecto\", \"respecto\", \"rubro\", \"rubros\", \"salario\", \"salarios\", \"salarios\", \"segun\", \"segun\", \"semana\", \"semana\", \"solidario\", \"suba\", \"suba\", \"supermercados\", \"tambien\", \"tambien\", \"tarifas\", \"tipo\", \"tipo\", \"trabajadoras\", \"trabajadores\", \"trabajadores\", \"ultimos\", \"ultimos\", \"us\", \"variacion\", \"vendio\"]}, \"R\": 30, \"lambda.step\": 0.01, \"plot.opts\": {\"xlab\": \"PC1\", \"ylab\": \"PC2\"}, \"topic.order\": [1, 2]};\n",
       "\n",
       "function LDAvis_load_lib(url, callback){\n",
       "  var s = document.createElement('script');\n",
       "  s.src = url;\n",
       "  s.async = true;\n",
       "  s.onreadystatechange = s.onload = callback;\n",
       "  s.onerror = function(){console.warn(\"failed to load library \" + url);};\n",
       "  document.getElementsByTagName(\"head\")[0].appendChild(s);\n",
       "}\n",
       "\n",
       "if(typeof(LDAvis) !== \"undefined\"){\n",
       "   // already loaded: just create the visualization\n",
       "   !function(LDAvis){\n",
       "       new LDAvis(\"#\" + \"ldavis_el307221402206091467044373704051\", ldavis_el307221402206091467044373704051_data);\n",
       "   }(LDAvis);\n",
       "}else if(typeof define === \"function\" && define.amd){\n",
       "   // require.js is available: use it to load d3/LDAvis\n",
       "   require.config({paths: {d3: \"https://cdnjs.cloudflare.com/ajax/libs/d3/3.5.5/d3.min\"}});\n",
       "   require([\"d3\"], function(d3){\n",
       "      window.d3 = d3;\n",
       "      LDAvis_load_lib(\"https://cdn.rawgit.com/bmabey/pyLDAvis/files/ldavis.v1.0.0.js\", function(){\n",
       "        new LDAvis(\"#\" + \"ldavis_el307221402206091467044373704051\", ldavis_el307221402206091467044373704051_data);\n",
       "      });\n",
       "    });\n",
       "}else{\n",
       "    // require.js not available: dynamically load d3 & LDAvis\n",
       "    LDAvis_load_lib(\"https://cdnjs.cloudflare.com/ajax/libs/d3/3.5.5/d3.min.js\", function(){\n",
       "         LDAvis_load_lib(\"https://cdn.rawgit.com/bmabey/pyLDAvis/files/ldavis.v1.0.0.js\", function(){\n",
       "                 new LDAvis(\"#\" + \"ldavis_el307221402206091467044373704051\", ldavis_el307221402206091467044373704051_data);\n",
       "            })\n",
       "         });\n",
       "}\n",
       "</script>"
      ],
      "text/plain": [
       "<IPython.core.display.HTML object>"
      ]
     },
     "execution_count": 24,
     "metadata": {},
     "output_type": "execute_result"
    }
   ],
   "source": [
    "import pyLDAvis.gensim\n",
    "\n",
    "lda_display = pyLDAvis.gensim.prepare(lda_izq, corpus_izq, dictionary_izq, sort_topics=False)\n",
    "\n",
    "pyLDAvis.display(lda_display)"
   ]
  },
  {
   "cell_type": "markdown",
   "metadata": {},
   "source": [
    "Derecha Diario"
   ]
  },
  {
   "cell_type": "code",
   "execution_count": 25,
   "metadata": {},
   "outputs": [
    {
     "name": "stderr",
     "output_type": "stream",
     "text": [
      "/home/guido/anaconda3/envs/dh/lib/python3.7/site-packages/ipykernel/ipkernel.py:287: DeprecationWarning: `should_run_async` will not call `transform_cell` automatically in the future. Please pass the result to `transformed_cell` argument and any exception that happen during thetransform in `preprocessing_exc_tuple` in IPython 7.17 and above.\n",
      "  and should_run_async(code)\n"
     ]
    }
   ],
   "source": [
    "# make a dictionary with the ids of each word assigned by Gensim dictionary method\n",
    "\n",
    "id_word_der = dict((v, k) for k, v in dictionary_der.token2id.items())"
   ]
  },
  {
   "cell_type": "code",
   "execution_count": 26,
   "metadata": {},
   "outputs": [
    {
     "name": "stderr",
     "output_type": "stream",
     "text": [
      "/home/guido/anaconda3/envs/dh/lib/python3.7/site-packages/ipykernel/ipkernel.py:287: DeprecationWarning: `should_run_async` will not call `transform_cell` automatically in the future. Please pass the result to `transformed_cell` argument and any exception that happen during thetransform in `preprocessing_exc_tuple` in IPython 7.17 and above.\n",
      "  and should_run_async(code)\n"
     ]
    }
   ],
   "source": [
    "# we already know that there are two topics\n",
    "\n",
    "lda_der = models.LdaModel(corpus=corpus_der, id2word=id_word_der, num_topics=2, passes=20, random_state= 30)"
   ]
  },
  {
   "cell_type": "code",
   "execution_count": 27,
   "metadata": {},
   "outputs": [
    {
     "name": "stderr",
     "output_type": "stream",
     "text": [
      "/home/guido/anaconda3/envs/dh/lib/python3.7/site-packages/ipykernel/ipkernel.py:287: DeprecationWarning: `should_run_async` will not call `transform_cell` automatically in the future. Please pass the result to `transformed_cell` argument and any exception that happen during thetransform in `preprocessing_exc_tuple` in IPython 7.17 and above.\n",
      "  and should_run_async(code)\n"
     ]
    },
    {
     "data": {
      "text/plain": [
       "[(0,\n",
       "  '0.016*\"dolar\" + 0.012*\"mercado\" + 0.010*\"gobierno\" + 0.009*\"tipo\" + 0.008*\"pesos\" + 0.007*\"banco\" + 0.007*\"dolares\" + 0.007*\"cambio\" + 0.006*\"medidas\" + 0.006*\"guzman\"'),\n",
       " (1,\n",
       "  '0.016*\"inflacion\" + 0.014*\"precios\" + 0.008*\"economia\" + 0.008*\"aumento\" + 0.008*\"gobierno\" + 0.007*\"monetaria\" + 0.007*\"argentina\" + 0.007*\"si\" + 0.006*\"dinero\" + 0.005*\"nivel\"')]"
      ]
     },
     "execution_count": 27,
     "metadata": {},
     "output_type": "execute_result"
    }
   ],
   "source": [
    "lda_der.print_topics()"
   ]
  },
  {
   "cell_type": "code",
   "execution_count": 28,
   "metadata": {},
   "outputs": [
    {
     "name": "stderr",
     "output_type": "stream",
     "text": [
      "/home/guido/anaconda3/envs/dh/lib/python3.7/site-packages/ipykernel/ipkernel.py:287: DeprecationWarning: `should_run_async` will not call `transform_cell` automatically in the future. Please pass the result to `transformed_cell` argument and any exception that happen during thetransform in `preprocessing_exc_tuple` in IPython 7.17 and above.\n",
      "  and should_run_async(code)\n"
     ]
    },
    {
     "data": {
      "text/html": [
       "\n",
       "<link rel=\"stylesheet\" type=\"text/css\" href=\"https://cdn.rawgit.com/bmabey/pyLDAvis/files/ldavis.v1.0.0.css\">\n",
       "\n",
       "\n",
       "<div id=\"ldavis_el30722140220608986320485256258\"></div>\n",
       "<script type=\"text/javascript\">\n",
       "\n",
       "var ldavis_el30722140220608986320485256258_data = {\"mdsDat\": {\"x\": [0.07863707840442656, -0.07863707840442656], \"y\": [0.0, 0.0], \"topics\": [1, 2], \"cluster\": [1, 1], \"Freq\": [46.005924224853516, 53.99407196044922]}, \"tinfo\": {\"Term\": [\"dolar\", \"precios\", \"inflacion\", \"dolares\", \"oficial\", \"mercado\", \"guzman\", \"cambio\", \"pesos\", \"brecha\", \"blue\", \"tipo\", \"actividad\", \"divisas\", \"dato\", \"dinero\", \"paralelo\", \"cambiario\", \"promedio\", \"semana\", \"cambios\", \"billetes\", \"ministro\", \"cambiaria\", \"impuesto\", \"velocidad\", \"ayer\", \"indec\", \"liquidacion\", \"ahorro\", \"dolares\", \"blue\", \"divisas\", \"dolar\", \"paralelo\", \"liquidacion\", \"bonos\", \"jornada\", \"cambios\", \"contado\", \"ganancias\", \"oficial\", \"monto\", \"bolsa\", \"local\", \"venta\", \"volatilidad\", \"centavos\", \"solidario\", \"dolarizacion\", \"falta\", \"ccl\", \"incertidumbre\", \"guzman\", \"final\", \"ayer\", \"dijo\", \"fmi\", \"titulos\", \"mep\", \"cambiario\", \"cambio\", \"brecha\", \"libre\", \"martin\", \"impuesto\", \"ministro\", \"semana\", \"mercado\", \"cambiaria\", \"pesos\", \"divisa\", \"tipo\", \"operaciones\", \"ahorro\", \"banco\", \"nuevas\", \"hoy\", \"gobierno\", \"central\", \"medidas\", \"bcra\", \"millones\", \"partir\", \"bancos\", \"pais\", \"cada\", \"parte\", \"economia\", \"monetaria\", \"habia\", \"argentina\", \"dato\", \"actividad\", \"promedio\", \"billetes\", \"velocidad\", \"rubro\", \"precios\", \"circulacion\", \"mensual\", \"alimentos\", \"alta\", \"trimestre\", \"anualizada\", \"regulados\", \"bebidas\", \"interanual\", \"repunte\", \"desocupacion\", \"brasil\", \"buenos\", \"tarifas\", \"denominacion\", \"registraron\", \"vestir\", \"prendas\", \"aires\", \"laboral\", \"casa\", \"teoria\", \"medicion\", \"indec\", \"inflacion\", \"aumentos\", \"cifras\", \"region\", \"indice\", \"dinero\", \"aislamiento\", \"junio\", \"general\", \"ipc\", \"aumento\", \"emision\", \"tendencia\", \"si\", \"nivel\", \"variacion\", \"comportamiento\", \"economia\", \"argentina\", \"monetaria\", \"economica\", \"bienes\", \"caso\", \"cuarentena\", \"gobierno\", \"tambien\", \"demanda\", \"ser\", \"pais\", \"gran\", \"medidas\", \"parte\", \"podria\", \"habia\", \"millones\"], \"Freq\": [102.0, 103.0, 123.0, 43.0, 37.0, 93.0, 38.0, 44.0, 63.0, 35.0, 24.0, 69.0, 27.0, 19.0, 25.0, 52.0, 18.0, 23.0, 22.0, 25.0, 16.0, 20.0, 24.0, 25.0, 22.0, 19.0, 16.0, 23.0, 13.0, 25.0, 42.479061126708984, 23.672054290771484, 19.402700424194336, 100.17354583740234, 17.66460609436035, 13.372279167175293, 13.348505973815918, 12.493559837341309, 15.807413101196289, 11.647503852844238, 11.635946273803711, 35.6718635559082, 10.779450416564941, 9.915290832519531, 10.715591430664062, 8.197080612182617, 8.196685791015625, 8.195762634277344, 8.190021514892578, 9.794989585876465, 8.153847694396973, 7.333465099334717, 8.10152816772461, 36.43887710571289, 6.468182563781738, 15.354682922363281, 6.463598728179932, 7.2421064376831055, 5.60840368270874, 5.607287406921387, 21.488012313842773, 40.03659439086914, 32.218387603759766, 15.842052459716797, 15.022364616394043, 20.069843292236328, 21.337949752807617, 22.025360107421875, 71.91419219970703, 21.827199935913086, 50.261722564697266, 11.84698486328125, 52.69981002807617, 17.977041244506836, 21.151744842529297, 42.665435791015625, 17.20941162109375, 27.56192970275879, 59.63673782348633, 33.80201721191406, 37.94295120239258, 27.218303680419922, 30.561901092529297, 22.085134506225586, 19.629091262817383, 31.071430206298828, 24.431848526000977, 23.86104393005371, 28.116851806640625, 26.831863403320312, 21.446977615356445, 21.555198669433594, 25.359119415283203, 27.06931495666504, 21.812297821044922, 20.065134048461914, 19.16126251220703, 14.717883110046387, 100.31939697265625, 14.693984985351562, 13.82396125793457, 12.928105354309082, 12.923006057739258, 15.492627143859863, 12.90615463256836, 12.043493270874023, 11.149528503417969, 10.251981735229492, 11.093365669250488, 9.3418607711792, 10.176081657409668, 8.472733497619629, 10.148837089538574, 8.456225395202637, 8.429333686828613, 7.581369400024414, 7.581031799316406, 7.580501556396484, 7.578492164611816, 7.576557159423828, 7.573712348937988, 7.572965145111084, 21.87335968017578, 112.23905944824219, 19.1407470703125, 10.887813568115234, 10.884387969970703, 24.58798599243164, 46.549163818359375, 19.613296508789062, 17.82470703125, 25.04319953918457, 14.677192687988281, 56.21553421020508, 36.24335861206055, 16.00542449951172, 46.8963737487793, 36.910892486572266, 17.2900447845459, 24.18745231628418, 60.15957260131836, 48.205078125, 52.5650520324707, 28.57232666015625, 19.9713191986084, 22.8515682220459, 24.281192779541016, 54.341461181640625, 27.045597076416016, 28.702260971069336, 23.25672721862793, 31.228233337402344, 25.075660705566406, 28.58554458618164, 25.298250198364258, 20.897066116333008, 22.440250396728516, 22.832014083862305], \"Total\": [102.0, 103.0, 123.0, 43.0, 37.0, 93.0, 38.0, 44.0, 63.0, 35.0, 24.0, 69.0, 27.0, 19.0, 25.0, 52.0, 18.0, 23.0, 22.0, 25.0, 16.0, 20.0, 24.0, 25.0, 22.0, 19.0, 16.0, 23.0, 13.0, 25.0, 43.175567626953125, 24.1820011138916, 19.865135192871094, 102.79058074951172, 18.139352798461914, 13.823267936706543, 13.823943138122559, 12.960670471191406, 16.417434692382812, 12.097070693969727, 12.097406387329102, 37.15953826904297, 11.234124183654785, 10.371085166931152, 11.235997200012207, 8.644696235656738, 8.64470386505127, 8.644739151000977, 8.644896507263184, 10.374720573425293, 8.645965576171875, 7.7816362380981445, 8.647505760192871, 38.91823196411133, 6.918628692626953, 16.432369232177734, 6.918744087219238, 7.784475326538086, 6.055445194244385, 6.055479526519775, 23.363018035888672, 44.15011215209961, 35.49183654785156, 17.30805206298828, 16.443580627441406, 22.518692016601562, 24.26035499572754, 25.129371643066406, 93.03959655761719, 25.13606071472168, 63.434513092041016, 12.981938362121582, 69.59805297851562, 20.80492401123047, 25.158931732177734, 62.79941177368164, 20.8309326171875, 39.218692779541016, 113.97819519042969, 52.39190673828125, 66.52849578857422, 41.01492691040039, 53.39391326904297, 31.3734073638916, 26.102798461914062, 62.29966354370117, 43.786163330078125, 49.15929412841797, 88.27642822265625, 79.39691162109375, 43.887229919433594, 69.7602767944336, 25.858814239501953, 27.640897750854492, 22.29030418395996, 20.507041931152344, 19.614316940307617, 15.153494834899902, 103.40105438232422, 15.152592658996582, 14.261139869689941, 13.368708610534668, 13.368539810180664, 16.04167938232422, 13.367878913879395, 12.476678848266602, 11.584322929382324, 10.691842079162598, 11.582298278808594, 9.798948287963867, 10.689173698425293, 8.907424926757812, 10.688277244567871, 8.90678882598877, 8.905814170837402, 8.015155792236328, 8.015143394470215, 8.01512622833252, 8.015058517456055, 8.014968872070312, 8.014871597290039, 8.014840126037598, 23.154924392700195, 123.64213562011719, 20.476119995117188, 11.575307846069336, 11.575309753417969, 26.69603729248047, 52.444583892822266, 21.354736328125, 19.569955825805664, 28.437089920043945, 16.014591217041016, 70.02262115478516, 43.476253509521484, 17.78421401977539, 60.223575592041016, 46.95039749145508, 19.552410125732422, 29.27216339111328, 88.27642822265625, 69.7602767944336, 79.39691162109375, 38.046531677246094, 23.955650329589844, 29.2283992767334, 31.86444664001465, 113.97819519042969, 43.17498016357422, 48.40769958496094, 33.55704116821289, 62.29966354370117, 40.5212287902832, 66.52849578857422, 49.15929412841797, 29.164384841918945, 43.887229919433594, 53.39391326904297], \"Category\": [\"Default\", \"Default\", \"Default\", \"Default\", \"Default\", \"Default\", \"Default\", \"Default\", \"Default\", \"Default\", \"Default\", \"Default\", \"Default\", \"Default\", \"Default\", \"Default\", \"Default\", \"Default\", \"Default\", \"Default\", \"Default\", \"Default\", \"Default\", \"Default\", \"Default\", \"Default\", \"Default\", \"Default\", \"Default\", \"Default\", \"Topic1\", \"Topic1\", \"Topic1\", \"Topic1\", \"Topic1\", \"Topic1\", \"Topic1\", \"Topic1\", \"Topic1\", \"Topic1\", \"Topic1\", \"Topic1\", \"Topic1\", \"Topic1\", \"Topic1\", \"Topic1\", \"Topic1\", \"Topic1\", \"Topic1\", \"Topic1\", \"Topic1\", \"Topic1\", \"Topic1\", \"Topic1\", \"Topic1\", \"Topic1\", \"Topic1\", \"Topic1\", \"Topic1\", \"Topic1\", \"Topic1\", \"Topic1\", \"Topic1\", \"Topic1\", \"Topic1\", \"Topic1\", \"Topic1\", \"Topic1\", \"Topic1\", \"Topic1\", \"Topic1\", \"Topic1\", \"Topic1\", \"Topic1\", \"Topic1\", \"Topic1\", \"Topic1\", \"Topic1\", \"Topic1\", \"Topic1\", \"Topic1\", \"Topic1\", \"Topic1\", \"Topic1\", \"Topic1\", \"Topic1\", \"Topic1\", \"Topic1\", \"Topic1\", \"Topic1\", \"Topic1\", \"Topic1\", \"Topic2\", \"Topic2\", \"Topic2\", \"Topic2\", \"Topic2\", \"Topic2\", \"Topic2\", \"Topic2\", \"Topic2\", \"Topic2\", \"Topic2\", \"Topic2\", \"Topic2\", \"Topic2\", \"Topic2\", \"Topic2\", \"Topic2\", \"Topic2\", \"Topic2\", \"Topic2\", \"Topic2\", \"Topic2\", \"Topic2\", \"Topic2\", \"Topic2\", \"Topic2\", \"Topic2\", \"Topic2\", \"Topic2\", \"Topic2\", \"Topic2\", \"Topic2\", \"Topic2\", \"Topic2\", \"Topic2\", \"Topic2\", \"Topic2\", \"Topic2\", \"Topic2\", \"Topic2\", \"Topic2\", \"Topic2\", \"Topic2\", \"Topic2\", \"Topic2\", \"Topic2\", \"Topic2\", \"Topic2\", \"Topic2\", \"Topic2\", \"Topic2\", \"Topic2\", \"Topic2\", \"Topic2\", \"Topic2\", \"Topic2\", \"Topic2\", \"Topic2\", \"Topic2\", \"Topic2\", \"Topic2\", \"Topic2\", \"Topic2\", \"Topic2\", \"Topic2\", \"Topic2\"], \"logprob\": [30.0, 29.0, 28.0, 27.0, 26.0, 25.0, 24.0, 23.0, 22.0, 21.0, 20.0, 19.0, 18.0, 17.0, 16.0, 15.0, 14.0, 13.0, 12.0, 11.0, 10.0, 9.0, 8.0, 7.0, 6.0, 5.0, 4.0, 3.0, 2.0, 1.0, -4.973800182342529, -5.558499813079834, -5.757400035858154, -4.115900039672852, -5.851200103759766, -6.1296000480651855, -6.131400108337402, -6.1975998878479, -5.962299823760986, -6.2677001953125, -6.268700122833252, -5.148399829864502, -6.345200061798096, -6.428699970245361, -6.351099967956543, -6.61899995803833, -6.619100093841553, -6.619200229644775, -6.619900226593018, -6.440899848937988, -6.624300003051758, -6.730299949645996, -6.63070011138916, -5.127200126647949, -6.855899810791016, -5.991399765014648, -6.856599807739258, -6.7428998947143555, -6.998499870300293, -6.998700141906738, -5.655300140380859, -5.0329999923706055, -5.25029993057251, -5.960100173950195, -6.013299942016602, -5.723599910736084, -5.662300109863281, -5.6305999755859375, -4.447299957275391, -5.639599800109863, -4.805600166320801, -6.250699996948242, -4.758200168609619, -5.833700180053711, -5.67110013961792, -4.969399929046631, -5.877299785614014, -5.406400203704834, -4.634500026702881, -5.202300071716309, -5.086699962615967, -5.418900012969971, -5.302999973297119, -5.627900123596191, -5.745800018310547, -5.286499977111816, -5.526899814605713, -5.55049991607666, -5.38640022277832, -5.433199882507324, -5.657199859619141, -5.652200222015381, -5.649799823760986, -5.584499835968018, -5.8003997802734375, -5.883900165557861, -5.929999828338623, -6.19379997253418, -4.274499893188477, -6.195499897003174, -6.256499767303467, -6.323500156402588, -6.32390022277832, -6.142499923706055, -6.325200080871582, -6.394400119781494, -6.471499919891357, -6.5553998947143555, -6.476600170135498, -6.648399829864502, -6.562900066375732, -6.745999813079834, -6.565499782562256, -6.748000144958496, -6.751200199127197, -6.8572001457214355, -6.8572998046875, -6.8572998046875, -6.857600212097168, -6.857800006866455, -6.8582000732421875, -6.85830020904541, -5.797599792480469, -4.162300109863281, -5.931099891662598, -6.495299816131592, -6.49560022354126, -5.680600166320801, -5.042399883270264, -5.906700134277344, -6.002299785614014, -5.662300109863281, -6.196599960327148, -4.853700160980225, -5.292600154876709, -6.110000133514404, -5.034999847412109, -5.274400234222412, -6.032800197601318, -5.6971001625061035, -4.785900115966797, -5.007400035858154, -4.92080020904541, -5.5304999351501465, -5.888599872589111, -5.753900051116943, -5.69320011138916, -4.887599945068359, -5.585400104522705, -5.525899887084961, -5.736299991607666, -5.4415998458862305, -5.660999774932861, -5.53000020980835, -5.652200222015381, -5.843299865722656, -5.771999835968018, -5.754700183868408], \"loglift\": [30.0, 29.0, 28.0, 27.0, 26.0, 25.0, 24.0, 23.0, 22.0, 21.0, 20.0, 19.0, 18.0, 17.0, 16.0, 15.0, 14.0, 13.0, 12.0, 11.0, 10.0, 9.0, 8.0, 7.0, 6.0, 5.0, 4.0, 3.0, 2.0, 1.0, 0.7601000070571899, 0.7551000118255615, 0.7527999877929688, 0.7505999803543091, 0.7498999834060669, 0.7432000041007996, 0.7414000034332275, 0.7397000193595886, 0.7384999990463257, 0.7384999990463257, 0.737500011920929, 0.7354999780654907, 0.7350999712944031, 0.7315000295639038, 0.7289999723434448, 0.7232000231742859, 0.7232000231742859, 0.7231000065803528, 0.7222999930381775, 0.7189000248908997, 0.7178000211715698, 0.7171000242233276, 0.7111999988555908, 0.7106000185012817, 0.7091000080108643, 0.7085999846458435, 0.7084000110626221, 0.704200029373169, 0.6996999979019165, 0.6995000243186951, 0.6927000284194946, 0.678600013256073, 0.6796000003814697, 0.6879000067710876, 0.6859999895095825, 0.661300003528595, 0.6480000019073486, 0.644599974155426, 0.5188000202178955, 0.6352999806404114, 0.5436000227928162, 0.6848999857902527, 0.4982999861240387, 0.630299985408783, 0.6029000282287598, 0.3898000121116638, 0.5853999853134155, 0.4237000048160553, 0.12870000302791595, 0.33820000290870667, 0.21490000188350677, 0.36640000343322754, 0.21850000321865082, 0.4253000020980835, 0.49140000343322754, 0.08070000261068344, 0.19300000369548798, 0.053599998354911804, -0.3677000105381012, -0.3084999918937683, 0.06040000170469284, -0.39800000190734863, 0.5968000292778015, 0.5953999757766724, 0.5946000218391418, 0.5945000052452087, 0.5928999781608582, 0.5871000289916992, 0.5860000252723694, 0.5856000185012817, 0.5852000117301941, 0.5827999711036682, 0.5824000239372253, 0.5814999938011169, 0.5810999870300293, 0.5809999704360962, 0.578000009059906, 0.5742999911308289, 0.573199987411499, 0.5684999823570251, 0.5670999884605408, 0.5662999749183655, 0.5644999742507935, 0.5644000172615051, 0.5612999796867371, 0.560699999332428, 0.5605999827384949, 0.5605000257492065, 0.5602999925613403, 0.5600000023841858, 0.5597000122070312, 0.5595999956130981, 0.5594000220298767, 0.5195000171661377, 0.5489000082015991, 0.5551000237464905, 0.5547999739646912, 0.5339999794960022, 0.4970000088214874, 0.5311999917030334, 0.5228999853134155, 0.48919999599456787, 0.5291000008583069, 0.396699994802475, 0.4343000054359436, 0.5109000205993652, 0.3662000000476837, 0.3756999969482422, 0.4932999908924103, 0.4255000054836273, 0.23280000686645508, 0.2467000037431717, 0.20389999449253082, 0.32989999651908875, 0.4343999922275543, 0.3702000081539154, 0.34450000524520874, -0.12439999729394913, 0.1485999971628189, 0.09359999746084213, 0.24959999322891235, -0.07429999858140945, 0.1363999992609024, -0.22840000689029694, -0.04800000041723251, 0.28299999237060547, -0.054499998688697815, -0.23319999873638153]}, \"token.table\": {\"Topic\": [1, 2, 1, 2, 2, 1, 2, 2, 2, 2, 1, 2, 1, 2, 1, 2, 1, 2, 1, 2, 1, 2, 1, 2, 2, 1, 2, 2, 1, 2, 1, 1, 1, 2, 1, 2, 2, 1, 2, 1, 2, 1, 2, 1, 2, 1, 2, 2, 1, 2, 1, 1, 1, 2, 1, 2, 2, 1, 2, 1, 1, 2, 2, 1, 2, 2, 2, 1, 1, 2, 1, 2, 1, 1, 2, 1, 2, 1, 2, 1, 2, 1, 2, 1, 2, 1, 1, 1, 2, 1, 1, 2, 1, 2, 1, 2, 1, 2, 1, 2, 1, 2, 1, 2, 1, 2, 1, 2, 1, 2, 1, 2, 2, 1, 2, 1, 1, 2, 2, 1, 2, 1, 1, 2, 1, 2, 2, 1, 2, 2, 1, 1, 2, 1, 2, 1, 2, 1, 2, 1, 1, 2, 1, 2, 1, 2, 1, 2, 1, 2, 1, 1, 2, 1, 2, 1, 2, 1, 2, 1, 2, 2, 2, 1, 2, 2, 2, 2, 2, 1, 2, 1, 2, 1, 2, 1, 1, 2, 1, 2, 1, 2, 2, 1, 2, 1, 1, 2, 1, 2, 2, 1, 2, 1], \"Freq\": [0.03617827594280243, 0.9768134355545044, 0.8346936106681824, 0.15898926556110382, 0.9981127977371216, 0.0936560407280922, 0.9365603923797607, 0.9724200367927551, 0.9724323153495789, 0.9724803566932678, 0.315365731716156, 0.6880706548690796, 0.19993539154529572, 0.7997415661811829, 0.04883737862110138, 0.9279101490974426, 0.9128324389457703, 0.06085549667477608, 0.6847198009490967, 0.31847432255744934, 0.766201376914978, 0.22986041009426117, 0.6582969427108765, 0.3413391411304474, 0.9495591521263123, 0.1669752150774002, 0.8348761200904846, 0.9752747416496277, 0.9924737215042114, 0.04135306924581528, 0.9642192721366882, 0.9403973817825317, 0.0935526043176651, 0.9355260133743286, 0.9016157984733582, 0.08452647924423218, 0.8981271386146545, 0.5481183528900146, 0.4339270293712616, 0.8752365708351135, 0.11935044080018997, 0.8988564610481262, 0.08560537546873093, 0.9059999585151672, 0.09059999883174896, 0.9745736718177795, 0.06091085448861122, 0.9981324076652527, 0.20527979731559753, 0.7869058847427368, 0.8995537161827087, 0.9254183173179626, 0.6489551663398743, 0.36265143752098083, 0.08639079332351685, 0.9502987265586853, 0.9899296164512634, 0.1708107441663742, 0.8198915719985962, 0.9919756650924683, 0.2510635256767273, 0.7531905174255371, 0.9667883515357971, 0.4131574034690857, 0.5990782380104065, 0.8981912732124329, 0.9184659123420715, 0.8672094345092773, 0.11440647393465042, 0.8961840867996216, 0.9243611693382263, 0.07703009992837906, 0.956449568271637, 0.9728518128395081, 0.029185554012656212, 0.9727723598480225, 0.02316124737262726, 0.9638813734054565, 0.09638813883066177, 0.3171854615211487, 0.6796831488609314, 0.23655244708061218, 0.762224555015564, 0.16100743412971497, 0.828038215637207, 0.9252870678901672, 0.867223858833313, 0.899225652217865, 0.1284608095884323, 0.9919481873512268, 0.10549602657556534, 0.8791335821151733, 0.5264164805412292, 0.47377482056617737, 0.3701763451099396, 0.6169605851173401, 0.9250163435935974, 0.051389794796705246, 0.47849908471107483, 0.5012847781181335, 0.7139452695846558, 0.305976539850235, 0.8881510496139526, 0.0888151079416275, 0.9251222610473633, 0.11564028263092041, 0.04318735748529434, 0.9501218795776367, 0.07491748780012131, 0.9364686012268066, 0.08896643668413162, 0.9058400392532349, 0.9352925419807434, 0.06244305521249771, 0.9366458058357239, 0.9258780479431152, 0.10219746828079224, 0.9197772145271301, 0.9981212019920349, 0.9244252443313599, 0.05777657777070999, 0.9404433369636536, 0.9789963364601135, 0.0889996662735939, 0.9122101068496704, 0.06081400439143181, 0.9981484413146973, 0.5711838006973267, 0.4359034299850464, 0.9816887378692627, 0.9908381104469299, 0.7738640904426575, 0.22571034729480743, 0.580590546131134, 0.4307607114315033, 0.8656097650527954, 0.12365853786468506, 0.34006360173225403, 0.6675322651863098, 0.9791595339775085, 0.21299074590206146, 0.7880657315254211, 0.8160940408706665, 0.19202212989330292, 0.968795657157898, 0.026910990476608276, 0.8651797771453857, 0.14419662952423096, 0.4975949823856354, 0.4975949823856354, 0.9923176765441895, 0.4882088005542755, 0.5085508227348328, 0.7012308239936829, 0.2868671417236328, 0.7882144451141357, 0.20493575930595398, 0.27430716156959534, 0.7200563549995422, 0.029013244435191154, 0.9671081304550171, 0.9981106519699097, 0.9869762063026428, 0.08639077842235565, 0.950298547744751, 0.8982895612716675, 0.9617944359779358, 0.9497251510620117, 0.9898706674575806, 0.8754695653915405, 0.11938221007585526, 0.2980000376701355, 0.685400128364563, 0.21586230397224426, 0.7804252505302429, 0.9254014492034912, 0.37058499455451965, 0.6253621578216553, 0.09356044977903366, 0.935604453086853, 0.11245928704738617, 0.8996742963790894, 0.9981445074081421, 0.7615155577659607, 0.24425970017910004, 0.9908437728881836, 0.062337614595890045, 0.9350641965866089, 0.10228917747735977, 0.869458019733429, 0.968680202960968, 0.9254229068756104, 0.9981091022491455, 0.9254220724105835], \"Term\": [\"actividad\", \"actividad\", \"ahorro\", \"ahorro\", \"aires\", \"aislamiento\", \"aislamiento\", \"alimentos\", \"alta\", \"anualizada\", \"argentina\", \"argentina\", \"aumento\", \"aumento\", \"aumentos\", \"aumentos\", \"ayer\", \"ayer\", \"banco\", \"banco\", \"bancos\", \"bancos\", \"bcra\", \"bcra\", \"bebidas\", \"bienes\", \"bienes\", \"billetes\", \"blue\", \"blue\", \"bolsa\", \"bonos\", \"brasil\", \"brasil\", \"brecha\", \"brecha\", \"buenos\", \"cada\", \"cada\", \"cambiaria\", \"cambiaria\", \"cambiario\", \"cambiario\", \"cambio\", \"cambio\", \"cambios\", \"cambios\", \"casa\", \"caso\", \"caso\", \"ccl\", \"centavos\", \"central\", \"central\", \"cifras\", \"cifras\", \"circulacion\", \"comportamiento\", \"comportamiento\", \"contado\", \"cuarentena\", \"cuarentena\", \"dato\", \"demanda\", \"demanda\", \"denominacion\", \"desocupacion\", \"dijo\", \"dinero\", \"dinero\", \"divisa\", \"divisa\", \"divisas\", \"dolar\", \"dolar\", \"dolares\", \"dolares\", \"dolarizacion\", \"dolarizacion\", \"economia\", \"economia\", \"economica\", \"economica\", \"emision\", \"emision\", \"falta\", \"final\", \"fmi\", \"fmi\", \"ganancias\", \"general\", \"general\", \"gobierno\", \"gobierno\", \"gran\", \"gran\", \"guzman\", \"guzman\", \"habia\", \"habia\", \"hoy\", \"hoy\", \"impuesto\", \"impuesto\", \"incertidumbre\", \"incertidumbre\", \"indec\", \"indec\", \"indice\", \"indice\", \"inflacion\", \"inflacion\", \"interanual\", \"ipc\", \"ipc\", \"jornada\", \"junio\", \"junio\", \"laboral\", \"libre\", \"libre\", \"liquidacion\", \"local\", \"local\", \"martin\", \"martin\", \"medicion\", \"medidas\", \"medidas\", \"mensual\", \"mep\", \"mercado\", \"mercado\", \"millones\", \"millones\", \"ministro\", \"ministro\", \"monetaria\", \"monetaria\", \"monto\", \"nivel\", \"nivel\", \"nuevas\", \"nuevas\", \"oficial\", \"oficial\", \"operaciones\", \"operaciones\", \"pais\", \"pais\", \"paralelo\", \"parte\", \"parte\", \"partir\", \"partir\", \"pesos\", \"pesos\", \"podria\", \"podria\", \"precios\", \"precios\", \"prendas\", \"promedio\", \"region\", \"region\", \"registraron\", \"regulados\", \"repunte\", \"rubro\", \"semana\", \"semana\", \"ser\", \"ser\", \"si\", \"si\", \"solidario\", \"tambien\", \"tambien\", \"tarifas\", \"tarifas\", \"tendencia\", \"tendencia\", \"teoria\", \"tipo\", \"tipo\", \"titulos\", \"trimestre\", \"trimestre\", \"variacion\", \"variacion\", \"velocidad\", \"venta\", \"vestir\", \"volatilidad\"]}, \"R\": 30, \"lambda.step\": 0.01, \"plot.opts\": {\"xlab\": \"PC1\", \"ylab\": \"PC2\"}, \"topic.order\": [1, 2]};\n",
       "\n",
       "function LDAvis_load_lib(url, callback){\n",
       "  var s = document.createElement('script');\n",
       "  s.src = url;\n",
       "  s.async = true;\n",
       "  s.onreadystatechange = s.onload = callback;\n",
       "  s.onerror = function(){console.warn(\"failed to load library \" + url);};\n",
       "  document.getElementsByTagName(\"head\")[0].appendChild(s);\n",
       "}\n",
       "\n",
       "if(typeof(LDAvis) !== \"undefined\"){\n",
       "   // already loaded: just create the visualization\n",
       "   !function(LDAvis){\n",
       "       new LDAvis(\"#\" + \"ldavis_el30722140220608986320485256258\", ldavis_el30722140220608986320485256258_data);\n",
       "   }(LDAvis);\n",
       "}else if(typeof define === \"function\" && define.amd){\n",
       "   // require.js is available: use it to load d3/LDAvis\n",
       "   require.config({paths: {d3: \"https://cdnjs.cloudflare.com/ajax/libs/d3/3.5.5/d3.min\"}});\n",
       "   require([\"d3\"], function(d3){\n",
       "      window.d3 = d3;\n",
       "      LDAvis_load_lib(\"https://cdn.rawgit.com/bmabey/pyLDAvis/files/ldavis.v1.0.0.js\", function(){\n",
       "        new LDAvis(\"#\" + \"ldavis_el30722140220608986320485256258\", ldavis_el30722140220608986320485256258_data);\n",
       "      });\n",
       "    });\n",
       "}else{\n",
       "    // require.js not available: dynamically load d3 & LDAvis\n",
       "    LDAvis_load_lib(\"https://cdnjs.cloudflare.com/ajax/libs/d3/3.5.5/d3.min.js\", function(){\n",
       "         LDAvis_load_lib(\"https://cdn.rawgit.com/bmabey/pyLDAvis/files/ldavis.v1.0.0.js\", function(){\n",
       "                 new LDAvis(\"#\" + \"ldavis_el30722140220608986320485256258\", ldavis_el30722140220608986320485256258_data);\n",
       "            })\n",
       "         });\n",
       "}\n",
       "</script>"
      ],
      "text/plain": [
       "<IPython.core.display.HTML object>"
      ]
     },
     "execution_count": 28,
     "metadata": {},
     "output_type": "execute_result"
    }
   ],
   "source": [
    "lda_display = pyLDAvis.gensim.prepare(lda_der, corpus_der, dictionary_der, sort_topics=False)\n",
    "pyLDAvis.display(lda_display)"
   ]
  },
  {
   "cell_type": "markdown",
   "metadata": {},
   "source": [
    "### Filtering by tags"
   ]
  },
  {
   "cell_type": "code",
   "execution_count": 29,
   "metadata": {},
   "outputs": [
    {
     "name": "stderr",
     "output_type": "stream",
     "text": [
      "/home/guido/anaconda3/envs/dh/lib/python3.7/site-packages/ipykernel/ipkernel.py:287: DeprecationWarning: `should_run_async` will not call `transform_cell` automatically in the future. Please pass the result to `transformed_cell` argument and any exception that happen during thetransform in `preprocessing_exc_tuple` in IPython 7.17 and above.\n",
      "  and should_run_async(code)\n"
     ]
    }
   ],
   "source": [
    "import nltk"
   ]
  },
  {
   "cell_type": "code",
   "execution_count": 30,
   "metadata": {},
   "outputs": [
    {
     "name": "stderr",
     "output_type": "stream",
     "text": [
      "/home/guido/anaconda3/envs/dh/lib/python3.7/site-packages/ipykernel/ipkernel.py:287: DeprecationWarning: `should_run_async` will not call `transform_cell` automatically in the future. Please pass the result to `transformed_cell` argument and any exception that happen during thetransform in `preprocessing_exc_tuple` in IPython 7.17 and above.\n",
      "  and should_run_async(code)\n"
     ]
    },
    {
     "data": {
      "text/plain": [
       "[('trata', 'NNS'),\n",
       " ('mismo', 'NNS'),\n",
       " ('aumento', 'IN'),\n",
       " ('aplico', 'JJ'),\n",
       " ('massalin', 'NN'),\n",
       " ('particulares', 'NNS'),\n",
       " ('pasado', 'VBP'),\n",
       " ('noviembre', 'JJ'),\n",
       " ('toca', 'NN'),\n",
       " ('marcas', 'NN')]"
      ]
     },
     "execution_count": 30,
     "metadata": {},
     "output_type": "execute_result"
    }
   ],
   "source": [
    "# tag is not accurate\n",
    "nltk.pos_tag(tokens_izq[0][:10])"
   ]
  },
  {
   "cell_type": "code",
   "execution_count": 31,
   "metadata": {},
   "outputs": [
    {
     "name": "stderr",
     "output_type": "stream",
     "text": [
      "/home/guido/anaconda3/envs/dh/lib/python3.7/site-packages/ipykernel/ipkernel.py:287: DeprecationWarning: `should_run_async` will not call `transform_cell` automatically in the future. Please pass the result to `transformed_cell` argument and any exception that happen during thetransform in `preprocessing_exc_tuple` in IPython 7.17 and above.\n",
      "  and should_run_async(code)\n"
     ]
    },
    {
     "name": "stdout",
     "output_type": "stream",
     "text": [
      "[polyglot_data] Downloading package embeddings2.es to\n",
      "[polyglot_data]     /home/guido/polyglot_data...\n",
      "[polyglot_data]   Package embeddings2.es is already up-to-date!\n",
      "[polyglot_data] Downloading package pos2.es to\n",
      "[polyglot_data]     /home/guido/polyglot_data...\n",
      "[polyglot_data]   Package pos2.es is already up-to-date!\n"
     ]
    }
   ],
   "source": [
    "from polyglot.text import Text\n",
    "!polyglot download embeddings2.es pos2.es"
   ]
  },
  {
   "cell_type": "code",
   "execution_count": 32,
   "metadata": {},
   "outputs": [
    {
     "name": "stderr",
     "output_type": "stream",
     "text": [
      "/home/guido/anaconda3/envs/dh/lib/python3.7/site-packages/ipykernel/ipkernel.py:287: DeprecationWarning: `should_run_async` will not call `transform_cell` automatically in the future. Please pass the result to `transformed_cell` argument and any exception that happen during thetransform in `preprocessing_exc_tuple` in IPython 7.17 and above.\n",
      "  and should_run_async(code)\n"
     ]
    }
   ],
   "source": [
    "def noun_only(tokens):\n",
    "    nouns = []\n",
    "    for token in tokens:\n",
    "        word_t = Text(token, hint_language_code='es')\n",
    "        if word_t.pos_tags[0][1] == 'NOUN':\n",
    "            nouns.append(word_t.pos_tags[0][0])\n",
    "    return nouns"
   ]
  },
  {
   "cell_type": "code",
   "execution_count": 33,
   "metadata": {},
   "outputs": [
    {
     "name": "stderr",
     "output_type": "stream",
     "text": [
      "/home/guido/anaconda3/envs/dh/lib/python3.7/site-packages/ipykernel/ipkernel.py:287: DeprecationWarning: `should_run_async` will not call `transform_cell` automatically in the future. Please pass the result to `transformed_cell` argument and any exception that happen during thetransform in `preprocessing_exc_tuple` in IPython 7.17 and above.\n",
      "  and should_run_async(code)\n"
     ]
    }
   ],
   "source": [
    "tokens_nouns_izq = [noun_only(token) for token in tokens_izq]\n",
    "tokens_nouns_der = [noun_only(token) for token in tokens_der]"
   ]
  },
  {
   "cell_type": "markdown",
   "metadata": {},
   "source": [
    "### New Noun Dictionary + LDA"
   ]
  },
  {
   "cell_type": "code",
   "execution_count": 34,
   "metadata": {},
   "outputs": [
    {
     "name": "stderr",
     "output_type": "stream",
     "text": [
      "/home/guido/anaconda3/envs/dh/lib/python3.7/site-packages/ipykernel/ipkernel.py:287: DeprecationWarning: `should_run_async` will not call `transform_cell` automatically in the future. Please pass the result to `transformed_cell` argument and any exception that happen during thetransform in `preprocessing_exc_tuple` in IPython 7.17 and above.\n",
      "  and should_run_async(code)\n"
     ]
    }
   ],
   "source": [
    "# tokens input\n",
    "dictionary_izq = Dictionary(tokens_nouns_izq)\n",
    "dictionary_izq.filter_extremes(no_below=2, no_above=0.97, keep_n=None)\n",
    "\n",
    "# convert each document into the gensim bag-of-words\n",
    "corpus_izq = [dictionary_izq.doc2bow(text) for text in tokens_nouns_izq]"
   ]
  },
  {
   "cell_type": "code",
   "execution_count": 35,
   "metadata": {},
   "outputs": [
    {
     "name": "stderr",
     "output_type": "stream",
     "text": [
      "/home/guido/anaconda3/envs/dh/lib/python3.7/site-packages/ipykernel/ipkernel.py:287: DeprecationWarning: `should_run_async` will not call `transform_cell` automatically in the future. Please pass the result to `transformed_cell` argument and any exception that happen during thetransform in `preprocessing_exc_tuple` in IPython 7.17 and above.\n",
      "  and should_run_async(code)\n"
     ]
    }
   ],
   "source": [
    "# tokens input\n",
    "dictionary_der = Dictionary(tokens_nouns_der)\n",
    "dictionary_der.filter_extremes(no_below=2, no_above=0.97, keep_n=None)\n",
    "\n",
    "# convert each document into the gensim bag-of-words\n",
    "corpus_der = [dictionary_der.doc2bow(text) for text in tokens_nouns_der]"
   ]
  },
  {
   "cell_type": "markdown",
   "metadata": {},
   "source": [
    "Izquierda Diario"
   ]
  },
  {
   "cell_type": "code",
   "execution_count": 36,
   "metadata": {},
   "outputs": [
    {
     "name": "stderr",
     "output_type": "stream",
     "text": [
      "/home/guido/anaconda3/envs/dh/lib/python3.7/site-packages/ipykernel/ipkernel.py:287: DeprecationWarning: `should_run_async` will not call `transform_cell` automatically in the future. Please pass the result to `transformed_cell` argument and any exception that happen during thetransform in `preprocessing_exc_tuple` in IPython 7.17 and above.\n",
      "  and should_run_async(code)\n"
     ]
    }
   ],
   "source": [
    "id_word_izq = dict((v, k) for k, v in dictionary_izq.token2id.items())"
   ]
  },
  {
   "cell_type": "code",
   "execution_count": 37,
   "metadata": {},
   "outputs": [
    {
     "name": "stderr",
     "output_type": "stream",
     "text": [
      "/home/guido/anaconda3/envs/dh/lib/python3.7/site-packages/ipykernel/ipkernel.py:287: DeprecationWarning: `should_run_async` will not call `transform_cell` automatically in the future. Please pass the result to `transformed_cell` argument and any exception that happen during thetransform in `preprocessing_exc_tuple` in IPython 7.17 and above.\n",
      "  and should_run_async(code)\n"
     ]
    }
   ],
   "source": [
    "lda_izq = models.LdaModel(corpus=corpus_izq, id2word=id_word_izq, num_topics=2, passes=20, random_state= 30)"
   ]
  },
  {
   "cell_type": "code",
   "execution_count": 38,
   "metadata": {},
   "outputs": [
    {
     "name": "stderr",
     "output_type": "stream",
     "text": [
      "/home/guido/anaconda3/envs/dh/lib/python3.7/site-packages/ipykernel/ipkernel.py:287: DeprecationWarning: `should_run_async` will not call `transform_cell` automatically in the future. Please pass the result to `transformed_cell` argument and any exception that happen during thetransform in `preprocessing_exc_tuple` in IPython 7.17 and above.\n",
      "  and should_run_async(code)\n"
     ]
    },
    {
     "data": {
      "text/plain": [
       "[(0,\n",
       "  '0.064*\"precios\" + 0.035*\"productos\" + 0.032*\"alimentos\" + 0.029*\"salarios\" + 0.022*\"incremento\" + 0.018*\"gobierno\" + 0.017*\"aumentos\" + 0.017*\"bebidas\" + 0.017*\"meses\" + 0.016*\"indice\"'),\n",
       " (1,\n",
       "  '0.039*\"banco\" + 0.031*\"deuda\" + 0.030*\"gobierno\" + 0.029*\"bonos\" + 0.026*\"economia\" + 0.025*\"medidas\" + 0.020*\"brecha\" + 0.019*\"mercado\" + 0.017*\"tipo\" + 0.016*\"presion\"')]"
      ]
     },
     "execution_count": 38,
     "metadata": {},
     "output_type": "execute_result"
    }
   ],
   "source": [
    "lda_izq.print_topics()"
   ]
  },
  {
   "cell_type": "code",
   "execution_count": 39,
   "metadata": {},
   "outputs": [
    {
     "name": "stderr",
     "output_type": "stream",
     "text": [
      "/home/guido/anaconda3/envs/dh/lib/python3.7/site-packages/ipykernel/ipkernel.py:287: DeprecationWarning: `should_run_async` will not call `transform_cell` automatically in the future. Please pass the result to `transformed_cell` argument and any exception that happen during thetransform in `preprocessing_exc_tuple` in IPython 7.17 and above.\n",
      "  and should_run_async(code)\n"
     ]
    },
    {
     "data": {
      "text/html": [
       "\n",
       "<link rel=\"stylesheet\" type=\"text/css\" href=\"https://cdn.rawgit.com/bmabey/pyLDAvis/files/ldavis.v1.0.0.css\">\n",
       "\n",
       "\n",
       "<div id=\"ldavis_el307221402203250522409448736610\"></div>\n",
       "<script type=\"text/javascript\">\n",
       "\n",
       "var ldavis_el307221402203250522409448736610_data = {\"mdsDat\": {\"x\": [0.15296113491058347, -0.15296113491058347], \"y\": [0.0, 0.0], \"topics\": [1, 2], \"cluster\": [1, 1], \"Freq\": [59.1000862121582, 40.89991760253906]}, \"tinfo\": {\"Term\": [\"precios\", \"banco\", \"bonos\", \"deuda\", \"alimentos\", \"productos\", \"salarios\", \"brecha\", \"economia\", \"mercado\", \"presion\", \"medidas\", \"bono\", \"aumentos\", \"bebidas\", \"reservas\", \"indice\", \"fuga\", \"capitales\", \"mercados\", \"salario\", \"billete\", \"bolsa\", \"tipo\", \"registro\", \"semana\", \"cotizaciones\", \"familia\", \"segmento\", \"retenciones\", \"alimentos\", \"aumentos\", \"bebidas\", \"salarios\", \"indice\", \"salario\", \"registro\", \"familia\", \"precios\", \"rubros\", \"nivel\", \"productos\", \"familias\", \"tarifas\", \"rubro\", \"congelamiento\", \"provincia\", \"transporte\", \"periodo\", \"relevamiento\", \"linea\", \"vida\", \"trabajo\", \"indumentaria\", \"empleo\", \"junta\", \"prendas\", \"producto\", \"servicios\", \"ataques\", \"costos\", \"meses\", \"ingresos\", \"pandemia\", \"golpe\", \"incremento\", \"respecto\", \"cuarentena\", \"sector\", \"costo\", \"caso\", \"informe\", \"poder\", \"precio\", \"gobierno\", \"empresas\", \"datos\", \"sectores\", \"bonos\", \"presion\", \"bono\", \"reservas\", \"banco\", \"fuga\", \"capitales\", \"mercados\", \"billete\", \"bolsa\", \"cotizaciones\", \"segmento\", \"retenciones\", \"bancos\", \"centavos\", \"mercado\", \"brecha\", \"plazo\", \"divisas\", \"tasas\", \"titulos\", \"venta\", \"tasa\", \"pagos\", \"estabilidad\", \"endeudamiento\", \"plan\", \"cambios\", \"exportaciones\", \"exportadores\", \"deuda\", \"problema\", \"economia\", \"medidas\", \"valor\", \"semana\", \"fondos\", \"tipo\", \"ministro\", \"ganancias\", \"gobierno\", \"pais\", \"medida\", \"restricciones\", \"crisis\", \"empresas\", \"incremento\"], \"Freq\": [92.0, 38.0, 28.0, 32.0, 45.0, 50.0, 41.0, 20.0, 31.0, 19.0, 15.0, 30.0, 13.0, 24.0, 24.0, 12.0, 22.0, 11.0, 11.0, 11.0, 20.0, 10.0, 10.0, 22.0, 18.0, 17.0, 9.0, 17.0, 8.0, 8.0, 44.77082061767578, 23.97330093383789, 23.970909118652344, 40.80249786376953, 22.15605926513672, 20.359647750854492, 18.552532196044922, 16.743724822998047, 89.83306121826172, 13.098930358886719, 12.189875602722168, 48.711605072021484, 11.307941436767578, 11.298367500305176, 10.38248062133789, 9.501715660095215, 9.50096607208252, 9.491013526916504, 8.597923278808594, 8.582697868347168, 7.692427158355713, 7.683001518249512, 7.661994934082031, 6.787028789520264, 5.882026195526123, 5.8817291259765625, 5.881675720214844, 5.880481719970703, 14.203557968139648, 4.977075576782227, 5.798123359680176, 23.60316276550293, 21.17674446105957, 8.235960006713867, 11.124600410461426, 30.321462631225586, 17.791152954101562, 13.811368942260742, 16.65546989440918, 16.568662643432617, 12.23087215423584, 13.065557479858398, 14.032946586608887, 14.799582481384277, 24.912078857421875, 14.252667427062988, 11.319480895996094, 11.463279724121094, 28.02908706665039, 15.045697212219238, 13.366530418395996, 12.504783630371094, 37.39665985107422, 10.780088424682617, 10.778775215148926, 10.770008087158203, 9.916013717651367, 9.880736351013184, 9.05281925201416, 8.192167282104492, 8.19106674194336, 7.330523490905762, 7.330422878265381, 17.906230926513672, 19.493999481201172, 6.467832565307617, 6.467367172241211, 5.605621814727783, 5.605515956878662, 5.6020121574401855, 4.743072509765625, 4.742927551269531, 4.742872714996338, 4.742849349975586, 4.742645740509033, 4.742574214935303, 4.742234706878662, 4.7418060302734375, 29.969690322875977, 6.300950527191162, 25.219993591308594, 23.689722061157227, 9.604877471923828, 13.894049644470215, 7.446209907531738, 16.891277313232422, 9.735405921936035, 10.134008407592773, 28.877685546875, 11.54964542388916, 7.461274147033691, 7.737849235534668, 10.435794830322266, 8.845667839050293, 8.198712348937988], \"Total\": [92.0, 38.0, 28.0, 32.0, 45.0, 50.0, 41.0, 20.0, 31.0, 19.0, 15.0, 30.0, 13.0, 24.0, 24.0, 12.0, 22.0, 11.0, 11.0, 11.0, 20.0, 10.0, 10.0, 22.0, 18.0, 17.0, 9.0, 17.0, 8.0, 8.0, 45.24052047729492, 24.42021942138672, 24.420103073120117, 41.60293960571289, 22.609338760375977, 20.79945182800293, 18.98906135559082, 17.17858123779297, 92.21990966796875, 13.556334495544434, 12.650871276855469, 50.601661682128906, 11.746707916259766, 11.746249198913574, 10.84046745300293, 9.936355590820312, 9.936320304870605, 9.935842514038086, 9.031147003173828, 9.030420303344727, 8.125856399536133, 8.125406265258789, 8.124407768249512, 7.220571517944336, 6.315305233001709, 6.315290451049805, 6.3152875900268555, 6.315231800079346, 15.333494186401367, 5.410040855407715, 6.311318397521973, 26.127641677856445, 23.425474166870117, 9.013971328735352, 12.600454330444336, 38.52017593383789, 21.540502548217773, 16.17742347717285, 20.62433624267578, 20.620235443115234, 14.377748489379883, 16.142181396484375, 17.912904739379883, 19.674144744873047, 53.789764404296875, 23.09833526611328, 14.334667205810547, 16.066478729248047, 28.48418426513672, 15.54876708984375, 13.82152271270752, 12.958976745605469, 38.88286590576172, 11.233942985534668, 11.234006881713867, 11.234429359436035, 10.371508598327637, 10.373218536376953, 9.509033203125, 8.64643383026123, 8.646486282348633, 7.783882141113281, 7.78388786315918, 19.027942657470703, 20.759750366210938, 6.921382904052734, 6.921406269073486, 6.058858394622803, 6.058864593505859, 6.059032440185547, 5.196352481842041, 5.196359634399414, 5.196362018585205, 5.196363925933838, 5.196372985839844, 5.196375846862793, 5.1963934898376465, 5.196413040161133, 32.914188385009766, 6.9295334815979, 31.339153289794922, 30.509756088256836, 11.292058944702148, 17.41631507873535, 8.683271408081055, 22.699363708496094, 12.190860748291016, 13.0763578414917, 53.789764404296875, 17.532569885253906, 9.587780952453613, 10.479351997375488, 21.20892333984375, 23.09833526611328, 38.52017593383789], \"Category\": [\"Default\", \"Default\", \"Default\", \"Default\", \"Default\", \"Default\", \"Default\", \"Default\", \"Default\", \"Default\", \"Default\", \"Default\", \"Default\", \"Default\", \"Default\", \"Default\", \"Default\", \"Default\", \"Default\", \"Default\", \"Default\", \"Default\", \"Default\", \"Default\", \"Default\", \"Default\", \"Default\", \"Default\", \"Default\", \"Default\", \"Topic1\", \"Topic1\", \"Topic1\", \"Topic1\", \"Topic1\", \"Topic1\", \"Topic1\", \"Topic1\", \"Topic1\", \"Topic1\", \"Topic1\", \"Topic1\", \"Topic1\", \"Topic1\", \"Topic1\", \"Topic1\", \"Topic1\", \"Topic1\", \"Topic1\", \"Topic1\", \"Topic1\", \"Topic1\", \"Topic1\", \"Topic1\", \"Topic1\", \"Topic1\", \"Topic1\", \"Topic1\", \"Topic1\", \"Topic1\", \"Topic1\", \"Topic1\", \"Topic1\", \"Topic1\", \"Topic1\", \"Topic1\", \"Topic1\", \"Topic1\", \"Topic1\", \"Topic1\", \"Topic1\", \"Topic1\", \"Topic1\", \"Topic1\", \"Topic1\", \"Topic1\", \"Topic1\", \"Topic1\", \"Topic2\", \"Topic2\", \"Topic2\", \"Topic2\", \"Topic2\", \"Topic2\", \"Topic2\", \"Topic2\", \"Topic2\", \"Topic2\", \"Topic2\", \"Topic2\", \"Topic2\", \"Topic2\", \"Topic2\", \"Topic2\", \"Topic2\", \"Topic2\", \"Topic2\", \"Topic2\", \"Topic2\", \"Topic2\", \"Topic2\", \"Topic2\", \"Topic2\", \"Topic2\", \"Topic2\", \"Topic2\", \"Topic2\", \"Topic2\", \"Topic2\", \"Topic2\", \"Topic2\", \"Topic2\", \"Topic2\", \"Topic2\", \"Topic2\", \"Topic2\", \"Topic2\", \"Topic2\", \"Topic2\", \"Topic2\", \"Topic2\", \"Topic2\", \"Topic2\", \"Topic2\", \"Topic2\"], \"logprob\": [30.0, 29.0, 28.0, 27.0, 26.0, 25.0, 24.0, 23.0, 22.0, 21.0, 20.0, 19.0, 18.0, 17.0, 16.0, 15.0, 14.0, 13.0, 12.0, 11.0, 10.0, 9.0, 8.0, 7.0, 6.0, 5.0, 4.0, 3.0, 2.0, 1.0, -3.439300060272217, -4.064000129699707, -4.0640997886657715, -3.5322000980377197, -4.1427998542785645, -4.22730016708374, -4.320300102233887, -4.422900199890137, -2.7428998947143555, -4.668399810791016, -4.740300178527832, -3.3550000190734863, -4.815400123596191, -4.816199779510498, -4.9008002281188965, -4.9893999099731445, -4.989500045776367, -4.990600109100342, -5.089399814605713, -5.09119987487793, -5.200699806213379, -5.201900005340576, -5.204599857330322, -5.325900077819824, -5.468999862670898, -5.469099998474121, -5.469099998474121, -5.469299793243408, -4.587399959564209, -5.636099815368652, -5.483399868011475, -4.079500198364258, -4.188000202178955, -5.132400035858154, -4.831699848175049, -3.8289999961853027, -4.362199783325195, -4.6153998374938965, -4.428199768066406, -4.4334001541137695, -4.7368998527526855, -4.670899868011475, -4.5995001792907715, -4.546299934387207, -4.025599956512451, -4.584000110626221, -4.8144001960754395, -4.801799774169922, -3.539599895477295, -4.1616997718811035, -4.28000020980835, -4.346700191497803, -3.251199960708618, -4.495100021362305, -4.495200157165527, -4.495999813079834, -4.57859992980957, -4.582200050354004, -4.6697001457214355, -4.769599914550781, -4.769800186157227, -4.880799770355225, -4.880799770355225, -3.987600088119507, -3.9026999473571777, -5.00600004196167, -5.00600004196167, -5.14900016784668, -5.14900016784668, -5.149700164794922, -5.316100120544434, -5.316100120544434, -5.316199779510498, -5.316199779510498, -5.316199779510498, -5.316199779510498, -5.316299915313721, -5.316400051116943, -3.472599983215332, -5.032100200653076, -3.64520001411438, -3.7077999114990234, -4.610499858856201, -4.241300106048584, -4.865099906921387, -4.046000003814697, -4.5970001220703125, -4.5569000244140625, -3.509700059890747, -4.42609977722168, -4.863100051879883, -4.826700210571289, -4.527599811553955, -4.69290018081665, -4.768799781799316], \"loglift\": [30.0, 29.0, 28.0, 27.0, 26.0, 25.0, 24.0, 23.0, 22.0, 21.0, 20.0, 19.0, 18.0, 17.0, 16.0, 15.0, 14.0, 13.0, 12.0, 11.0, 10.0, 9.0, 8.0, 7.0, 6.0, 5.0, 4.0, 3.0, 2.0, 1.0, 0.515500009059906, 0.5074999928474426, 0.5073999762535095, 0.5065000057220459, 0.5056999921798706, 0.5045999884605408, 0.5026999711990356, 0.5002999901771545, 0.49970000982284546, 0.49160000681877136, 0.4887999892234802, 0.4878999888896942, 0.4878999888896942, 0.4871000051498413, 0.4828000068664551, 0.4812000095844269, 0.4810999929904938, 0.48010000586509705, 0.47679999470710754, 0.47510001063346863, 0.47110000252723694, 0.4699999988079071, 0.4672999978065491, 0.46399998664855957, 0.45489999651908875, 0.454800009727478, 0.454800009727478, 0.4546000063419342, 0.44940000772476196, 0.4424999952316284, 0.44110000133514404, 0.4242999851703644, 0.42500001192092896, 0.435699999332428, 0.40139999985694885, 0.2865999937057495, 0.33469998836517334, 0.3677999973297119, 0.31220000982284546, 0.30720001459121704, 0.36419999599456787, 0.31450000405311584, 0.2818000018596649, 0.24120000004768372, -0.24379999935626984, 0.04309999942779541, 0.2897999882698059, 0.188400000333786, 0.8779000043869019, 0.8611999750137329, 0.8605999946594238, 0.8583999872207642, 0.8550999760627747, 0.8528000116348267, 0.8526999950408936, 0.8518000245094299, 0.8490999937057495, 0.8453999757766724, 0.8449000120162964, 0.8400999903678894, 0.839900016784668, 0.8339999914169312, 0.8339999914169312, 0.833299994468689, 0.8310999870300293, 0.8263000249862671, 0.826200008392334, 0.8162999749183655, 0.8162999749183655, 0.8155999779701233, 0.8027999997138977, 0.8026999831199646, 0.8026999831199646, 0.8026999831199646, 0.8026999831199646, 0.8026999831199646, 0.8026000261306763, 0.8025000095367432, 0.8003000020980835, 0.7990000247955322, 0.676800012588501, 0.640999972820282, 0.732200026512146, 0.6680999994277954, 0.7402999997138977, 0.5985000133514404, 0.6690999865531921, 0.6391000151634216, 0.2720000147819519, 0.4765999913215637, 0.6432999968528748, 0.5907999873161316, 0.18490000069141388, -0.0658000037074089, -0.6531999707221985]}, \"token.table\": {\"Topic\": [1, 1, 1, 1, 2, 2, 1, 2, 2, 2, 2, 1, 2, 2, 2, 1, 2, 2, 1, 1, 2, 1, 2, 2, 1, 2, 1, 2, 1, 2, 1, 2, 2, 1, 2, 1, 1, 2, 2, 2, 2, 2, 1, 1, 1, 2, 2, 1, 2, 1, 2, 1, 2, 1, 2, 1, 1, 1, 2, 1, 2, 1, 1, 1, 2, 1, 2, 1, 2, 2, 1, 2, 1, 2, 1, 2, 1, 2, 1, 2, 1, 2, 2, 1, 2, 1, 2, 1, 2, 1, 1, 2, 1, 2, 1, 1, 2, 1, 1, 1, 2, 1, 2, 1, 2, 2, 1, 1, 1, 1, 2, 1, 2, 1, 2, 2, 1, 2, 1, 2, 1, 2, 2, 1, 2, 2, 1, 1, 1, 2, 2, 1], \"Freq\": [0.9946835041046143, 0.9242074489593506, 0.9827921390533447, 0.025718268007040024, 0.9515759348869324, 0.8992941975593567, 0.982796847820282, 0.9641798734664917, 0.9640209674835205, 0.9405620694160461, 0.9830016493797302, 0.04817013442516327, 0.9152325987815857, 0.9622090458869934, 0.9791697859764099, 0.8346230387687683, 0.13910384476184845, 0.8992935419082642, 1.006405234336853, 0.8244328498840332, 0.19398421049118042, 0.95067298412323, 0.15844550728797913, 0.9464684724807739, 0.5186496376991272, 0.47149965167045593, 0.8654035925865173, 0.12362907826900482, 0.7673704624176025, 0.20928284525871277, 0.09114610403776169, 0.9114610552787781, 0.8668758869171143, 0.19145379960536957, 0.797724187374115, 0.9500728249549866, 0.60610431432724, 0.3896384835243225, 0.9622113108634949, 0.9622116088867188, 0.9622058272361755, 0.9622021913528442, 0.9896044135093689, 0.9364326000213623, 0.11516396701335907, 0.8061477541923523, 0.979175329208374, 0.2294216752052307, 0.764738917350769, 0.46477243304252625, 0.5391360521316528, 0.8729844093322754, 0.07936222106218338, 0.7788126468658447, 0.20768336951732635, 0.9730492234230042, 0.9694523215293884, 0.8053434491157532, 0.18584848940372467, 0.8964599967002869, 0.08537714183330536, 0.950075089931488, 0.9845116138458252, 0.20859883725643158, 0.7300959229469299, 0.2294348031282425, 0.7866336107254028, 0.05255429074168205, 0.9459772109985352, 0.9791329503059387, 0.918567419052124, 0.1148209273815155, 0.16405732929706573, 0.8202866315841675, 0.9485512971878052, 0.962212085723877, 0.3422202169895172, 0.6844404339790344, 0.887511134147644, 0.1109388917684555, 0.9965511560440063, 0.9622095823287964, 0.8668788075447083, 0.7815594673156738, 0.2233027070760727, 0.7624219655990601, 0.2541406452655792, 0.9759280681610107, 0.02168729156255722, 0.9500755071640015, 0.06431378424167633, 0.9647067189216614, 0.144309863448143, 0.8658591508865356, 0.9500839114189148, 0.9683476686477661, 0.039524395018815994, 1.0064088106155396, 1.0005760192871094, 0.9966313242912292, 1.003165602684021, 0.8356351256370544, 0.18569669127464294, 0.28627723455429077, 0.763405978679657, 0.9252313375473022, 0.922469437122345, 0.9589613080024719, 0.9615638256072998, 0.9855073094367981, 0.024036763235926628, 0.8242689371109009, 0.19394563138484955, 0.6846553087234497, 0.31120696663856506, 0.9252369403839111, 0.2296697050333023, 0.8038439750671387, 0.9130339026451111, 0.06521670520305634, 0.9364691376686096, 0.962213397026062, 0.9902855753898621, 0.2643245756626129, 0.748919665813446, 0.9902845621109009, 0.9846871495246887, 0.9058114290237427, 0.17711561918258667, 0.8855780959129333, 0.9902571439743042, 0.9845661520957947], \"Term\": [\"alimentos\", \"ataques\", \"aumentos\", \"banco\", \"banco\", \"bancos\", \"bebidas\", \"billete\", \"bolsa\", \"bono\", \"bonos\", \"brecha\", \"brecha\", \"cambios\", \"capitales\", \"caso\", \"caso\", \"centavos\", \"congelamiento\", \"costo\", \"costo\", \"costos\", \"costos\", \"cotizaciones\", \"crisis\", \"crisis\", \"cuarentena\", \"cuarentena\", \"datos\", \"datos\", \"deuda\", \"deuda\", \"divisas\", \"economia\", \"economia\", \"empleo\", \"empresas\", \"empresas\", \"endeudamiento\", \"estabilidad\", \"exportaciones\", \"exportadores\", \"familia\", \"familias\", \"fondos\", \"fondos\", \"fuga\", \"ganancias\", \"ganancias\", \"gobierno\", \"gobierno\", \"golpe\", \"golpe\", \"incremento\", \"incremento\", \"indice\", \"indumentaria\", \"informe\", \"informe\", \"ingresos\", \"ingresos\", \"junta\", \"linea\", \"medida\", \"medida\", \"medidas\", \"medidas\", \"mercado\", \"mercado\", \"mercados\", \"meses\", \"meses\", \"ministro\", \"ministro\", \"nivel\", \"pagos\", \"pais\", \"pais\", \"pandemia\", \"pandemia\", \"periodo\", \"plan\", \"plazo\", \"poder\", \"poder\", \"precio\", \"precio\", \"precios\", \"precios\", \"prendas\", \"presion\", \"presion\", \"problema\", \"problema\", \"producto\", \"productos\", \"productos\", \"provincia\", \"registro\", \"relevamiento\", \"reservas\", \"respecto\", \"respecto\", \"restricciones\", \"restricciones\", \"retenciones\", \"rubro\", \"rubros\", \"salario\", \"salarios\", \"salarios\", \"sector\", \"sector\", \"sectores\", \"sectores\", \"segmento\", \"semana\", \"semana\", \"servicios\", \"servicios\", \"tarifas\", \"tasa\", \"tasas\", \"tipo\", \"tipo\", \"titulos\", \"trabajo\", \"transporte\", \"valor\", \"valor\", \"venta\", \"vida\"]}, \"R\": 30, \"lambda.step\": 0.01, \"plot.opts\": {\"xlab\": \"PC1\", \"ylab\": \"PC2\"}, \"topic.order\": [1, 2]};\n",
       "\n",
       "function LDAvis_load_lib(url, callback){\n",
       "  var s = document.createElement('script');\n",
       "  s.src = url;\n",
       "  s.async = true;\n",
       "  s.onreadystatechange = s.onload = callback;\n",
       "  s.onerror = function(){console.warn(\"failed to load library \" + url);};\n",
       "  document.getElementsByTagName(\"head\")[0].appendChild(s);\n",
       "}\n",
       "\n",
       "if(typeof(LDAvis) !== \"undefined\"){\n",
       "   // already loaded: just create the visualization\n",
       "   !function(LDAvis){\n",
       "       new LDAvis(\"#\" + \"ldavis_el307221402203250522409448736610\", ldavis_el307221402203250522409448736610_data);\n",
       "   }(LDAvis);\n",
       "}else if(typeof define === \"function\" && define.amd){\n",
       "   // require.js is available: use it to load d3/LDAvis\n",
       "   require.config({paths: {d3: \"https://cdnjs.cloudflare.com/ajax/libs/d3/3.5.5/d3.min\"}});\n",
       "   require([\"d3\"], function(d3){\n",
       "      window.d3 = d3;\n",
       "      LDAvis_load_lib(\"https://cdn.rawgit.com/bmabey/pyLDAvis/files/ldavis.v1.0.0.js\", function(){\n",
       "        new LDAvis(\"#\" + \"ldavis_el307221402203250522409448736610\", ldavis_el307221402203250522409448736610_data);\n",
       "      });\n",
       "    });\n",
       "}else{\n",
       "    // require.js not available: dynamically load d3 & LDAvis\n",
       "    LDAvis_load_lib(\"https://cdnjs.cloudflare.com/ajax/libs/d3/3.5.5/d3.min.js\", function(){\n",
       "         LDAvis_load_lib(\"https://cdn.rawgit.com/bmabey/pyLDAvis/files/ldavis.v1.0.0.js\", function(){\n",
       "                 new LDAvis(\"#\" + \"ldavis_el307221402203250522409448736610\", ldavis_el307221402203250522409448736610_data);\n",
       "            })\n",
       "         });\n",
       "}\n",
       "</script>"
      ],
      "text/plain": [
       "<IPython.core.display.HTML object>"
      ]
     },
     "execution_count": 39,
     "metadata": {},
     "output_type": "execute_result"
    }
   ],
   "source": [
    "lda_display = pyLDAvis.gensim.prepare(lda_izq, corpus_izq, dictionary_izq, sort_topics=False)\n",
    "pyLDAvis.display(lda_display)"
   ]
  },
  {
   "cell_type": "markdown",
   "metadata": {},
   "source": [
    "Derecha Diario"
   ]
  },
  {
   "cell_type": "code",
   "execution_count": 40,
   "metadata": {},
   "outputs": [
    {
     "name": "stderr",
     "output_type": "stream",
     "text": [
      "/home/guido/anaconda3/envs/dh/lib/python3.7/site-packages/ipykernel/ipkernel.py:287: DeprecationWarning: `should_run_async` will not call `transform_cell` automatically in the future. Please pass the result to `transformed_cell` argument and any exception that happen during thetransform in `preprocessing_exc_tuple` in IPython 7.17 and above.\n",
      "  and should_run_async(code)\n"
     ]
    }
   ],
   "source": [
    "id_word_der = dict((v, k) for k, v in dictionary_der.token2id.items())"
   ]
  },
  {
   "cell_type": "code",
   "execution_count": 41,
   "metadata": {},
   "outputs": [
    {
     "name": "stderr",
     "output_type": "stream",
     "text": [
      "/home/guido/anaconda3/envs/dh/lib/python3.7/site-packages/ipykernel/ipkernel.py:287: DeprecationWarning: `should_run_async` will not call `transform_cell` automatically in the future. Please pass the result to `transformed_cell` argument and any exception that happen during thetransform in `preprocessing_exc_tuple` in IPython 7.17 and above.\n",
      "  and should_run_async(code)\n"
     ]
    }
   ],
   "source": [
    "lda_der = models.LdaModel(corpus=corpus_der, id2word=id_word_der, num_topics=2, passes=20, random_state= 30)"
   ]
  },
  {
   "cell_type": "code",
   "execution_count": 42,
   "metadata": {},
   "outputs": [
    {
     "name": "stderr",
     "output_type": "stream",
     "text": [
      "/home/guido/anaconda3/envs/dh/lib/python3.7/site-packages/ipykernel/ipkernel.py:287: DeprecationWarning: `should_run_async` will not call `transform_cell` automatically in the future. Please pass the result to `transformed_cell` argument and any exception that happen during thetransform in `preprocessing_exc_tuple` in IPython 7.17 and above.\n",
      "  and should_run_async(code)\n"
     ]
    },
    {
     "data": {
      "text/plain": [
       "[(0,\n",
       "  '0.033*\"gobierno\" + 0.030*\"mercado\" + 0.024*\"banco\" + 0.023*\"pais\" + 0.019*\"tipo\" + 0.017*\"medidas\" + 0.015*\"brecha\" + 0.014*\"demanda\" + 0.013*\"semana\" + 0.012*\"ministro\"'),\n",
       " (1,\n",
       "  '0.041*\"precios\" + 0.029*\"economia\" + 0.024*\"gobierno\" + 0.018*\"mercado\" + 0.016*\"tipo\" + 0.016*\"medidas\" + 0.016*\"nivel\" + 0.015*\"dinero\" + 0.011*\"cuarentena\" + 0.011*\"tasa\"')]"
      ]
     },
     "execution_count": 42,
     "metadata": {},
     "output_type": "execute_result"
    }
   ],
   "source": [
    "lda_der.print_topics()"
   ]
  },
  {
   "cell_type": "code",
   "execution_count": 43,
   "metadata": {},
   "outputs": [
    {
     "name": "stderr",
     "output_type": "stream",
     "text": [
      "/home/guido/anaconda3/envs/dh/lib/python3.7/site-packages/ipykernel/ipkernel.py:287: DeprecationWarning: `should_run_async` will not call `transform_cell` automatically in the future. Please pass the result to `transformed_cell` argument and any exception that happen during thetransform in `preprocessing_exc_tuple` in IPython 7.17 and above.\n",
      "  and should_run_async(code)\n"
     ]
    },
    {
     "data": {
      "text/html": [
       "\n",
       "<link rel=\"stylesheet\" type=\"text/css\" href=\"https://cdn.rawgit.com/bmabey/pyLDAvis/files/ldavis.v1.0.0.css\">\n",
       "\n",
       "\n",
       "<div id=\"ldavis_el307221402203345819689214814978\"></div>\n",
       "<script type=\"text/javascript\">\n",
       "\n",
       "var ldavis_el307221402203345819689214814978_data = {\"mdsDat\": {\"x\": [0.07813190668821333, -0.07813190668821333], \"y\": [0.0, 0.0], \"topics\": [1, 2], \"cluster\": [1, 1], \"Freq\": [42.4068603515625, 57.593135833740234]}, \"tinfo\": {\"Term\": [\"precios\", \"confianza\", \"semana\", \"banco\", \"bonos\", \"pais\", \"ministro\", \"indice\", \"jornada\", \"financiamiento\", \"brecha\", \"dato\", \"riesgo\", \"mercado\", \"aumentos\", \"bolsa\", \"operaciones\", \"empresa\", \"tasa\", \"centavos\", \"acuerdo\", \"importaciones\", \"gobierno\", \"puntos\", \"empresas\", \"salario\", \"ganancias\", \"billete\", \"economia\", \"segmento\", \"bonos\", \"empresa\", \"centavos\", \"bolsa\", \"billete\", \"jornada\", \"concepto\", \"acceso\", \"acuerdo\", \"fondos\", \"semanas\", \"acciones\", \"exportaciones\", \"plaza\", \"ofertas\", \"endeudamiento\", \"confianza\", \"objetivos\", \"salida\", \"consecuencias\", \"derechos\", \"grupo\", \"imagen\", \"vicepresidente\", \"venta\", \"importancia\", \"importaciones\", \"subida\", \"consenso\", \"arcas\", \"semana\", \"riesgo\", \"financiamiento\", \"ganancias\", \"ministro\", \"puntos\", \"segmento\", \"casa\", \"empresas\", \"valores\", \"banco\", \"pbi\", \"brecha\", \"pais\", \"operaciones\", \"mercado\", \"gobierno\", \"intereses\", \"bancos\", \"tipo\", \"demanda\", \"medidas\", \"deuda\", \"manera\", \"caida\", \"plazo\", \"expectativas\", \"valor\", \"dinero\", \"presidente\", \"economia\", \"respecto\", \"caso\", \"salario\", \"aumentos\", \"precios\", \"indice\", \"alimentos\", \"rubro\", \"bebidas\", \"trabajo\", \"tarifas\", \"dato\", \"niveles\", \"prendas\", \"productos\", \"control\", \"aires\", \"tendencia\", \"decada\", \"rubros\", \"vista\", \"salarios\", \"convertibilidad\", \"propuesta\", \"materia\", \"ingreso\", \"ley\", \"pobreza\", \"impacto\", \"estudios\", \"tasa\", \"proceso\", \"personas\", \"velocidad\", \"comportamiento\", \"historia\", \"posibilidad\", \"bienes\", \"cuarentena\", \"economia\", \"problema\", \"nivel\", \"servicios\", \"actividad\", \"ahorro\", \"informe\", \"dinero\", \"peso\", \"politica\", \"gobierno\", \"poder\", \"medidas\", \"tipo\", \"mercado\", \"sector\", \"demanda\", \"pais\", \"aislamiento\", \"caso\", \"banco\", \"presidente\", \"efecto\"], \"Freq\": [102.0, 23.0, 27.0, 66.0, 14.0, 65.0, 26.0, 26.0, 14.0, 20.0, 37.0, 25.0, 17.0, 97.0, 20.0, 11.0, 22.0, 9.0, 28.0, 9.0, 10.0, 12.0, 118.0, 13.0, 14.0, 15.0, 13.0, 8.0, 89.0, 13.0, 14.377443313598633, 8.922082901000977, 8.905610084533691, 10.670866966247559, 7.98248291015625, 13.215611457824707, 6.085608005523682, 7.785618782043457, 9.50481128692627, 5.163971900939941, 5.13657283782959, 5.9727277755737305, 5.115311622619629, 5.950024127960205, 5.076913833618164, 4.223801612854004, 21.086063385009766, 4.195226669311523, 7.462129592895508, 4.121499061584473, 3.286696195602417, 3.2861104011535645, 3.2858495712280273, 3.2856497764587402, 8.156927108764648, 3.2620012760162354, 10.581815719604492, 3.2262074947357178, 3.2075133323669434, 3.190829038619995, 23.07710075378418, 15.074222564697266, 17.257953643798828, 10.924160957336426, 21.19277572631836, 11.611102104187012, 10.782082557678223, 7.065639972686768, 12.065773010253906, 11.21279239654541, 43.664695739746094, 8.422623634338379, 26.640602111816406, 41.60385513305664, 16.552907943725586, 54.340110778808594, 60.26985168457031, 9.491415023803711, 17.16521453857422, 33.56713104248047, 25.005552291870117, 30.664113998413086, 11.712434768676758, 14.714359283447266, 16.024566650390625, 14.919358253479004, 12.569750785827637, 13.32207202911377, 16.10353660583496, 13.683445930480957, 17.88567543029785, 12.147592544555664, 11.888406753540039, 14.61594009399414, 19.76132583618164, 99.32330322265625, 25.6715145111084, 12.81973648071289, 14.490309715270996, 11.048504829406738, 10.173212051391602, 10.172942161560059, 24.579151153564453, 9.265130043029785, 7.5291266441345215, 9.195717811584473, 7.498036861419678, 7.4942450523376465, 16.632692337036133, 14.928262710571289, 6.634038925170898, 6.627757549285889, 8.279627799987793, 6.577064037322998, 5.699627876281738, 5.687032699584961, 6.496918678283691, 4.8716959953308105, 4.871674060821533, 15.42575454711914, 4.8700971603393555, 25.968608856201172, 4.863186359405518, 13.729235649108887, 17.45220375061035, 25.700069427490234, 13.491564750671387, 8.814142227172852, 20.753389358520508, 27.27337646484375, 71.72801208496094, 16.257064819335938, 38.3370246887207, 20.9205265045166, 22.9449520111084, 21.007362365722656, 13.091418266296387, 37.083553314208984, 21.21320152282715, 22.396791458129883, 58.33015060424805, 22.567285537719727, 38.411529541015625, 39.2172966003418, 43.54551315307617, 20.278629302978516, 25.143081665039062, 23.663068771362305, 16.344751358032227, 18.02369499206543, 22.605247497558594, 18.102550506591797, 16.523386001586914], \"Total\": [102.0, 23.0, 27.0, 66.0, 14.0, 65.0, 26.0, 26.0, 14.0, 20.0, 37.0, 25.0, 17.0, 97.0, 20.0, 11.0, 22.0, 9.0, 28.0, 9.0, 10.0, 12.0, 118.0, 13.0, 14.0, 15.0, 13.0, 8.0, 89.0, 13.0, 14.991907119750977, 9.366291999816895, 9.365347862243652, 11.237517356872559, 8.426952362060547, 14.039958953857422, 6.547240257263184, 8.415703773498535, 10.285270690917969, 5.60894775390625, 5.607356548309326, 6.540805816650391, 5.606097221374512, 6.539499282836914, 5.603960037231445, 4.6695756912231445, 23.34658432006836, 4.667930603027344, 8.397229194641113, 4.663656711578369, 3.730379819869995, 3.7303459644317627, 3.7303316593170166, 3.7303199768066406, 9.322731018066406, 3.7289316654205322, 12.11831283569336, 3.7268388271331787, 3.7258081436157227, 3.724794626235962, 27.003541946411133, 17.689260482788086, 20.471223831176758, 13.02371597290039, 26.010557174682617, 13.948667526245117, 13.015646934509277, 8.37460708618164, 14.86051082611084, 13.926076889038086, 66.26994323730469, 10.223674774169922, 37.83771896362305, 65.26692199707031, 22.203155517578125, 97.8856201171875, 118.60000610351562, 12.056307792663574, 27.55380630493164, 72.784423828125, 50.14863586425781, 69.07564544677734, 16.612340927124023, 24.75666046142578, 31.03295135498047, 27.42626190185547, 20.204967498779297, 24.67760467529297, 53.18708801269531, 31.785995483398438, 89.61368560791016, 27.268861770629883, 29.91210174560547, 15.088272094726562, 20.41434669494629, 102.98164367675781, 26.63376235961914, 13.317740440368652, 15.095783233642578, 11.545722007751465, 10.659099578857422, 10.659111976623535, 25.760263442993164, 9.774425506591797, 8.000323295593262, 9.778566360473633, 8.002147674560547, 8.00239086151123, 17.784650802612305, 16.008686065673828, 7.114872932434082, 7.115253448486328, 8.894333839416504, 7.118274211883545, 6.231739521026611, 6.23250150680542, 7.122989654541016, 5.342335224151611, 5.342336654663086, 16.917966842651367, 5.342430114746094, 28.494421005249023, 5.34283447265625, 15.141470909118652, 19.61398696899414, 29.449983596801758, 15.155759811401367, 9.801410675048828, 24.111845016479492, 32.173213958740234, 89.61368560791016, 18.7465877532959, 47.47569274902344, 25.04106903076172, 27.737205505371094, 25.975112915039062, 15.179880142211914, 53.18708801269531, 28.78076934814453, 31.52747344970703, 118.60000610351562, 32.45652770996094, 69.07564544677734, 72.784423828125, 97.8856201171875, 29.776350021362305, 50.14863586425781, 65.26692199707031, 21.559268951416016, 29.91210174560547, 66.26994323730469, 31.785995483398438, 24.366472244262695], \"Category\": [\"Default\", \"Default\", \"Default\", \"Default\", \"Default\", \"Default\", \"Default\", \"Default\", \"Default\", \"Default\", \"Default\", \"Default\", \"Default\", \"Default\", \"Default\", \"Default\", \"Default\", \"Default\", \"Default\", \"Default\", \"Default\", \"Default\", \"Default\", \"Default\", \"Default\", \"Default\", \"Default\", \"Default\", \"Default\", \"Default\", \"Topic1\", \"Topic1\", \"Topic1\", \"Topic1\", \"Topic1\", \"Topic1\", \"Topic1\", \"Topic1\", \"Topic1\", \"Topic1\", \"Topic1\", \"Topic1\", \"Topic1\", \"Topic1\", \"Topic1\", \"Topic1\", \"Topic1\", \"Topic1\", \"Topic1\", \"Topic1\", \"Topic1\", \"Topic1\", \"Topic1\", \"Topic1\", \"Topic1\", \"Topic1\", \"Topic1\", \"Topic1\", \"Topic1\", \"Topic1\", \"Topic1\", \"Topic1\", \"Topic1\", \"Topic1\", \"Topic1\", \"Topic1\", \"Topic1\", \"Topic1\", \"Topic1\", \"Topic1\", \"Topic1\", \"Topic1\", \"Topic1\", \"Topic1\", \"Topic1\", \"Topic1\", \"Topic1\", \"Topic1\", \"Topic1\", \"Topic1\", \"Topic1\", \"Topic1\", \"Topic1\", \"Topic1\", \"Topic1\", \"Topic1\", \"Topic1\", \"Topic1\", \"Topic1\", \"Topic1\", \"Topic1\", \"Topic1\", \"Topic1\", \"Topic2\", \"Topic2\", \"Topic2\", \"Topic2\", \"Topic2\", \"Topic2\", \"Topic2\", \"Topic2\", \"Topic2\", \"Topic2\", \"Topic2\", \"Topic2\", \"Topic2\", \"Topic2\", \"Topic2\", \"Topic2\", \"Topic2\", \"Topic2\", \"Topic2\", \"Topic2\", \"Topic2\", \"Topic2\", \"Topic2\", \"Topic2\", \"Topic2\", \"Topic2\", \"Topic2\", \"Topic2\", \"Topic2\", \"Topic2\", \"Topic2\", \"Topic2\", \"Topic2\", \"Topic2\", \"Topic2\", \"Topic2\", \"Topic2\", \"Topic2\", \"Topic2\", \"Topic2\", \"Topic2\", \"Topic2\", \"Topic2\", \"Topic2\", \"Topic2\", \"Topic2\", \"Topic2\", \"Topic2\", \"Topic2\", \"Topic2\", \"Topic2\", \"Topic2\", \"Topic2\", \"Topic2\", \"Topic2\", \"Topic2\", \"Topic2\", \"Topic2\", \"Topic2\", \"Topic2\"], \"logprob\": [30.0, 29.0, 28.0, 27.0, 26.0, 25.0, 24.0, 23.0, 22.0, 21.0, 20.0, 19.0, 18.0, 17.0, 16.0, 15.0, 14.0, 13.0, 12.0, 11.0, 10.0, 9.0, 8.0, 7.0, 6.0, 5.0, 4.0, 3.0, 2.0, 1.0, -4.829699993133545, -5.3069000244140625, -5.308700084686279, -5.127900123596191, -5.4182000160217285, -4.914000034332275, -5.689499855041504, -5.4430999755859375, -5.243599891662598, -5.853700160980225, -5.859000205993652, -5.708199977874756, -5.8632001876831055, -5.711999893188477, -5.870699882507324, -6.054699897766113, -4.446800231933594, -6.061500072479248, -5.485599994659424, -6.07919979095459, -6.305500030517578, -6.305699825286865, -6.305799961090088, -6.305799961090088, -5.396500110626221, -6.3130998611450195, -5.136300086975098, -6.324100017547607, -6.329899787902832, -6.335100173950195, -4.356599807739258, -4.782400131225586, -4.64709997177124, -5.104400157928467, -4.441699981689453, -5.043399810791016, -5.117499828338623, -5.540200233459473, -5.005000114440918, -5.0782999992370605, -3.718899965286255, -5.364500045776367, -4.2129998207092285, -3.767199993133545, -4.688799858093262, -3.5000998973846436, -3.3966000080108643, -5.244999885559082, -4.652500152587891, -3.9818999767303467, -4.276299953460693, -4.072299957275391, -5.034800052642822, -4.806600093841553, -4.72130012512207, -4.792699813842773, -4.964099884033203, -4.906000137329102, -4.716400146484375, -4.879199981689453, -4.611400127410889, -4.998300075531006, -5.019800186157227, -5.1194000244140625, -4.817800045013428, -3.2030999660491943, -4.556099891662598, -5.250500202178955, -5.127999782562256, -5.399199962615967, -5.4816999435424805, -5.481800079345703, -4.599599838256836, -5.575200080871582, -5.782700061798096, -5.582799911499023, -5.786900043487549, -5.787399768829346, -4.990099906921387, -5.098199844360352, -5.909299850463867, -5.910200119018555, -5.687699794769287, -5.917900085449219, -6.061100006103516, -6.063300132751465, -5.930200099945068, -6.218100070953369, -6.218100070953369, -5.065499782562256, -6.218400001525879, -4.544600009918213, -6.219799995422363, -5.182000160217285, -4.941999912261963, -4.554999828338623, -5.199399948120117, -5.625100135803223, -4.768799781799316, -4.49560022354126, -3.528599977493286, -5.013000011444092, -4.155099868774414, -4.760799884796143, -4.668399810791016, -4.7565999031066895, -5.229499816894531, -4.188300132751465, -4.7469000816345215, -4.692599773406982, -3.7353999614715576, -4.684999942779541, -4.15310001373291, -4.132400035858154, -4.027699947357178, -4.791900157928467, -4.576900005340576, -4.637599945068359, -5.007599830627441, -4.909800052642822, -4.683300018310547, -4.905399799346924, -4.996699810028076], \"loglift\": [30.0, 29.0, 28.0, 27.0, 26.0, 25.0, 24.0, 23.0, 22.0, 21.0, 20.0, 19.0, 18.0, 17.0, 16.0, 15.0, 14.0, 13.0, 12.0, 11.0, 10.0, 9.0, 8.0, 7.0, 6.0, 5.0, 4.0, 3.0, 2.0, 1.0, 0.8159999847412109, 0.8093000054359436, 0.8075000047683716, 0.8061000108718872, 0.8036999702453613, 0.7973999977111816, 0.7846999764442444, 0.7799999713897705, 0.7789000272750854, 0.7752000093460083, 0.7702000141143799, 0.7670000195503235, 0.7662000060081482, 0.7634000182151794, 0.7591000199317932, 0.7574999928474426, 0.7559999823570251, 0.7511000037193298, 0.739799976348877, 0.7343000173568726, 0.7311999797821045, 0.7311000227928162, 0.7310000061988831, 0.73089998960495, 0.7243000268936157, 0.7240999937057495, 0.7222999930381775, 0.7135999798774719, 0.7081000208854675, 0.7031000256538391, 0.7006999850273132, 0.6978999972343445, 0.6870999932289124, 0.6820999979972839, 0.652999997138977, 0.6743999719619751, 0.6696000099182129, 0.6879000067710876, 0.6495000123977661, 0.6412000060081482, 0.4406999945640564, 0.6640999913215637, 0.5070000290870667, 0.4075999855995178, 0.5641999840736389, 0.26930001378059387, 0.1808999925851822, 0.6187000274658203, 0.3846000134944916, 0.08389999717473984, 0.16200000047683716, 0.04580000042915344, 0.508400022983551, 0.3375999927520752, 0.19689999520778656, 0.24899999797344208, 0.3831999897956848, 0.24140000343322754, -0.336899995803833, 0.014999999664723873, -0.753600001335144, 0.04919999837875366, -0.06480000168085098, 0.5199999809265137, 0.5192999839782715, 0.5156000256538391, 0.5149999856948853, 0.513700008392334, 0.5108000040054321, 0.5077000260353088, 0.5051000118255615, 0.5051000118255615, 0.504800021648407, 0.4982999861240387, 0.491100013256073, 0.4902999997138977, 0.48669999837875366, 0.4862000048160553, 0.4848000109195709, 0.48190000653266907, 0.48179998993873596, 0.48080000281333923, 0.48019999265670776, 0.47269999980926514, 0.4625000059604645, 0.4602000117301941, 0.45980000495910645, 0.4595000147819519, 0.4595000147819519, 0.4593999981880188, 0.459199994802475, 0.45890000462532043, 0.4577000141143799, 0.453900009393692, 0.4350000023841858, 0.4156000018119812, 0.43549999594688416, 0.4456000030040741, 0.4018000066280365, 0.3865000009536743, 0.32910001277923584, 0.4092999994754791, 0.33799999952316284, 0.3720000088214874, 0.3621000051498413, 0.3395000100135803, 0.40380001068115234, 0.19110000133514404, 0.2467000037431717, 0.20980000495910645, -0.15790000557899475, 0.188400000333786, -0.035100001841783524, -0.066600002348423, -0.2581999897956848, 0.16760000586509705, -0.13860000669956207, -0.462799996137619, 0.27489998936653137, 0.04520000144839287, -0.5238000154495239, -0.01119999960064888, 0.16329999268054962]}, \"token.table\": {\"Topic\": [1, 2, 1, 2, 1, 2, 1, 2, 1, 2, 1, 2, 1, 2, 2, 1, 2, 1, 2, 1, 2, 1, 2, 2, 1, 2, 1, 1, 2, 1, 2, 1, 2, 1, 2, 1, 2, 1, 2, 1, 1, 2, 1, 1, 2, 1, 2, 1, 2, 1, 2, 1, 2, 1, 2, 1, 2, 1, 2, 1, 2, 1, 1, 2, 1, 2, 1, 2, 1, 2, 1, 1, 2, 1, 2, 1, 2, 1, 1, 2, 1, 1, 2, 1, 2, 1, 1, 2, 1, 1, 2, 1, 2, 1, 1, 2, 1, 2, 1, 2, 1, 2, 1, 2, 2, 1, 2, 1, 2, 1, 2, 1, 2, 1, 2, 1, 2, 1, 2, 1, 1, 2, 1, 2, 1, 2, 1, 2, 1, 2, 1, 2, 1, 2, 1, 2, 2, 1, 2, 1, 2, 1, 2, 1, 2, 2, 1, 2, 1, 2, 2, 1, 2, 1, 2, 1, 2, 1, 2, 1, 2, 1, 2, 2, 2, 1, 2, 1, 2, 1, 2, 1, 2, 1, 2, 1, 1, 2, 1, 2, 2, 1, 2, 1, 2, 1, 2, 2, 1, 2, 1, 2, 1, 2, 1, 2, 1, 2], \"Freq\": [0.9506037831306458, 0.11882547289133072, 0.9173181653022766, 0.15288636088371277, 0.18026329576969147, 0.8292111754417419, 0.9722641706466675, 0.09722641855478287, 0.19249194860458374, 0.8084661960601807, 0.12496265023946762, 0.8747385740280151, 0.2319188117980957, 0.7421401739120483, 0.9761415719985962, 0.805413544178009, 0.2684711813926697, 0.048985157161951065, 0.9797031879425049, 0.6639510989189148, 0.3470653295516968, 0.6169746518135071, 0.36292627453804016, 0.9527338147163391, 0.1244201734662056, 0.8709412217140198, 0.9493349194526672, 0.9788638949394226, 0.08898762613534927, 0.9338371753692627, 0.06670265644788742, 0.713573694229126, 0.29071518778800964, 0.5155810117721558, 0.48335719108581543, 0.8358601331710815, 0.11940858513116837, 0.4011754095554352, 0.601763129234314, 0.9609894156455994, 0.13582350313663483, 0.8828527927398682, 0.9164166450500488, 0.899489164352417, 0.08566563576459885, 0.8576960563659668, 0.2144240140914917, 0.8051944375038147, 0.26839813590049744, 0.12496645003557205, 0.874765157699585, 0.14048348367214203, 0.9833844304084778, 0.15540878474712372, 0.8392074108123779, 0.03881947696208954, 0.9704869985580444, 0.0624660886824131, 0.9369913339614868, 0.49851804971694946, 0.49851804971694946, 0.8042076826095581, 0.722354531288147, 0.3009810745716095, 0.3008248805999756, 0.6956575512886047, 0.20086218416690826, 0.8034487366676331, 0.3283199965953827, 0.6976799964904785, 0.9608924984931946, 0.8075092434883118, 0.20187731087207794, 0.8566088676452637, 0.9359036684036255, 0.6434061527252197, 0.39594224095344543, 0.8918860554695129, 0.8304339647293091, 0.14654716849327087, 0.8914328217506409, 0.8446130156517029, 0.15356600284576416, 0.5059021711349487, 0.48903876543045044, 0.8042149543762207, 0.13196302950382233, 0.8577597141265869, 0.804218053817749, 0.059108756482601166, 0.8866313695907593, 0.9077171087265015, 0.16503947973251343, 0.8045199513435364, 0.03754632920026779, 0.9762045741081238, 0.1317533403635025, 0.8563967347145081, 0.14039048552513123, 0.8423429131507874, 0.7464972138404846, 0.24883240461349487, 0.9259286522865295, 0.07122527807950974, 0.9359202980995178, 0.6058975458145142, 0.40393170714378357, 0.16044922173023224, 0.962695300579071, 0.44878336787223816, 0.550121545791626, 0.5516642928123474, 0.44950422644615173, 0.8073644638061523, 0.19222964346408844, 0.18957069516181946, 0.8004096150398254, 0.10230780392885208, 0.9207702279090881, 0.856910765171051, 0.8922262191772461, 0.1784452348947525, 0.7656569480895996, 0.27023187279701233, 0.6435112953186035, 0.36772072315216064, 0.7824975252151489, 0.19562438130378723, 0.06604377925395966, 0.9246129393577576, 0.2779633700847626, 0.7296538949012756, 0.9175014495849609, 0.15291690826416016, 0.5469210743904114, 0.4739982485771179, 0.9359200596809387, 0.30810442566871643, 0.7086402177810669, 0.2854653000831604, 0.6978040933609009, 0.10202612727880478, 0.918235182762146, 0.03884187340736389, 0.9613363742828369, 0.9999595880508423, 0.44044554233551025, 0.566287100315094, 0.10668608546257019, 0.8534886837005615, 0.9358328580856323, 0.10226447880268097, 0.9203802943229675, 0.16046883165836334, 0.9628130197525024, 0.8602972030639648, 0.14338287711143494, 0.44006237387657166, 0.5500779747962952, 0.8479721546173096, 0.1695944219827652, 0.06624366343021393, 0.9274113178253174, 0.9838545322418213, 0.9941496253013611, 0.1124311313033104, 0.8994490504264832, 0.8336083292961121, 0.11908689886331558, 0.3022533059120178, 0.6716740131378174, 0.8451366424560547, 0.15366120636463165, 0.8517401218414307, 0.1481287181377411, 0.8916857838630676, 0.15973758697509766, 0.8386223316192627, 0.8049717545509338, 0.2683239281177521, 0.938164472579956, 0.10528376698493958, 0.9124593138694763, 0.056228261440992355, 0.9558804631233215, 0.46713292598724365, 0.5358289480209351, 0.938165545463562, 0.5267934203147888, 0.44574829936027527, 0.7898850440979004, 0.21542319655418396, 0.10196805000305176, 0.8667284250259399, 0.8581176400184631, 0.10726470500230789, 0.8042205572128296, 0.9838019013404846], \"Term\": [\"acceso\", \"acceso\", \"acciones\", \"acciones\", \"actividad\", \"actividad\", \"acuerdo\", \"acuerdo\", \"ahorro\", \"ahorro\", \"aires\", \"aires\", \"aislamiento\", \"aislamiento\", \"alimentos\", \"arcas\", \"arcas\", \"aumentos\", \"aumentos\", \"banco\", \"banco\", \"bancos\", \"bancos\", \"bebidas\", \"bienes\", \"bienes\", \"billete\", \"bolsa\", \"bolsa\", \"bonos\", \"bonos\", \"brecha\", \"brecha\", \"caida\", \"caida\", \"casa\", \"casa\", \"caso\", \"caso\", \"centavos\", \"comportamiento\", \"comportamiento\", \"concepto\", \"confianza\", \"confianza\", \"consecuencias\", \"consecuencias\", \"consenso\", \"consenso\", \"control\", \"control\", \"convertibilidad\", \"convertibilidad\", \"cuarentena\", \"cuarentena\", \"dato\", \"dato\", \"decada\", \"decada\", \"demanda\", \"demanda\", \"derechos\", \"deuda\", \"deuda\", \"dinero\", \"dinero\", \"economia\", \"economia\", \"efecto\", \"efecto\", \"empresa\", \"empresas\", \"empresas\", \"endeudamiento\", \"estudios\", \"expectativas\", \"expectativas\", \"exportaciones\", \"financiamiento\", \"financiamiento\", \"fondos\", \"ganancias\", \"ganancias\", \"gobierno\", \"gobierno\", \"grupo\", \"historia\", \"historia\", \"imagen\", \"impacto\", \"impacto\", \"importaciones\", \"importaciones\", \"importancia\", \"indice\", \"indice\", \"informe\", \"informe\", \"ingreso\", \"ingreso\", \"intereses\", \"intereses\", \"jornada\", \"jornada\", \"ley\", \"manera\", \"manera\", \"materia\", \"materia\", \"medidas\", \"medidas\", \"mercado\", \"mercado\", \"ministro\", \"ministro\", \"nivel\", \"nivel\", \"niveles\", \"niveles\", \"objetivos\", \"ofertas\", \"ofertas\", \"operaciones\", \"operaciones\", \"pais\", \"pais\", \"pbi\", \"pbi\", \"personas\", \"personas\", \"peso\", \"peso\", \"plaza\", \"plaza\", \"plazo\", \"plazo\", \"pobreza\", \"poder\", \"poder\", \"politica\", \"politica\", \"posibilidad\", \"posibilidad\", \"precios\", \"precios\", \"prendas\", \"presidente\", \"presidente\", \"problema\", \"problema\", \"proceso\", \"productos\", \"productos\", \"propuesta\", \"propuesta\", \"puntos\", \"puntos\", \"respecto\", \"respecto\", \"riesgo\", \"riesgo\", \"rubro\", \"rubro\", \"rubros\", \"salario\", \"salarios\", \"salarios\", \"salida\", \"salida\", \"sector\", \"sector\", \"segmento\", \"segmento\", \"semana\", \"semana\", \"semanas\", \"servicios\", \"servicios\", \"subida\", \"subida\", \"tarifas\", \"tasa\", \"tasa\", \"tendencia\", \"tendencia\", \"tipo\", \"tipo\", \"trabajo\", \"valor\", \"valor\", \"valores\", \"valores\", \"velocidad\", \"velocidad\", \"venta\", \"venta\", \"vicepresidente\", \"vista\"]}, \"R\": 30, \"lambda.step\": 0.01, \"plot.opts\": {\"xlab\": \"PC1\", \"ylab\": \"PC2\"}, \"topic.order\": [1, 2]};\n",
       "\n",
       "function LDAvis_load_lib(url, callback){\n",
       "  var s = document.createElement('script');\n",
       "  s.src = url;\n",
       "  s.async = true;\n",
       "  s.onreadystatechange = s.onload = callback;\n",
       "  s.onerror = function(){console.warn(\"failed to load library \" + url);};\n",
       "  document.getElementsByTagName(\"head\")[0].appendChild(s);\n",
       "}\n",
       "\n",
       "if(typeof(LDAvis) !== \"undefined\"){\n",
       "   // already loaded: just create the visualization\n",
       "   !function(LDAvis){\n",
       "       new LDAvis(\"#\" + \"ldavis_el307221402203345819689214814978\", ldavis_el307221402203345819689214814978_data);\n",
       "   }(LDAvis);\n",
       "}else if(typeof define === \"function\" && define.amd){\n",
       "   // require.js is available: use it to load d3/LDAvis\n",
       "   require.config({paths: {d3: \"https://cdnjs.cloudflare.com/ajax/libs/d3/3.5.5/d3.min\"}});\n",
       "   require([\"d3\"], function(d3){\n",
       "      window.d3 = d3;\n",
       "      LDAvis_load_lib(\"https://cdn.rawgit.com/bmabey/pyLDAvis/files/ldavis.v1.0.0.js\", function(){\n",
       "        new LDAvis(\"#\" + \"ldavis_el307221402203345819689214814978\", ldavis_el307221402203345819689214814978_data);\n",
       "      });\n",
       "    });\n",
       "}else{\n",
       "    // require.js not available: dynamically load d3 & LDAvis\n",
       "    LDAvis_load_lib(\"https://cdnjs.cloudflare.com/ajax/libs/d3/3.5.5/d3.min.js\", function(){\n",
       "         LDAvis_load_lib(\"https://cdn.rawgit.com/bmabey/pyLDAvis/files/ldavis.v1.0.0.js\", function(){\n",
       "                 new LDAvis(\"#\" + \"ldavis_el307221402203345819689214814978\", ldavis_el307221402203345819689214814978_data);\n",
       "            })\n",
       "         });\n",
       "}\n",
       "</script>"
      ],
      "text/plain": [
       "<IPython.core.display.HTML object>"
      ]
     },
     "execution_count": 43,
     "metadata": {},
     "output_type": "execute_result"
    }
   ],
   "source": [
    "lda_display = pyLDAvis.gensim.prepare(lda_der, corpus_der, dictionary_der, sort_topics=False)\n",
    "pyLDAvis.display(lda_display)"
   ]
  }
 ],
 "metadata": {
  "kernelspec": {
   "display_name": "Python 3",
   "language": "python",
   "name": "python3"
  },
  "language_info": {
   "codemirror_mode": {
    "name": "ipython",
    "version": 3
   },
   "file_extension": ".py",
   "mimetype": "text/x-python",
   "name": "python",
   "nbconvert_exporter": "python",
   "pygments_lexer": "ipython3",
   "version": "3.7.7"
  }
 },
 "nbformat": 4,
 "nbformat_minor": 4
}
