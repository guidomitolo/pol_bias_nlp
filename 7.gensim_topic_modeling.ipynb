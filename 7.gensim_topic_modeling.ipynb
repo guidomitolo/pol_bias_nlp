{
 "cells": [
  {
   "cell_type": "code",
   "execution_count": 1,
   "metadata": {},
   "outputs": [],
   "source": [
    "import pandas as pd\n",
    "import numpy as np\n",
    "import pickle"
   ]
  },
  {
   "cell_type": "markdown",
   "metadata": {},
   "source": [
    "### Data"
   ]
  },
  {
   "cell_type": "markdown",
   "metadata": {},
   "source": [
    "Izquierda Diario"
   ]
  },
  {
   "cell_type": "code",
   "execution_count": 2,
   "metadata": {},
   "outputs": [],
   "source": [
    "df_izq = pickle.load(open('data/df_clean_izq.pkl','rb'))"
   ]
  },
  {
   "cell_type": "code",
   "execution_count": 3,
   "metadata": {},
   "outputs": [],
   "source": [
    "df_inflation_izq = df_izq[df_izq.topics == 'inflation']"
   ]
  },
  {
   "cell_type": "code",
   "execution_count": 4,
   "metadata": {},
   "outputs": [],
   "source": [
    "df_exchange_izq = df_izq[df_izq.topics == 'exchange']"
   ]
  },
  {
   "cell_type": "code",
   "execution_count": 5,
   "metadata": {},
   "outputs": [],
   "source": [
    "corpus_izq = df_inflation_izq.append(df_exchange_izq)"
   ]
  },
  {
   "cell_type": "markdown",
   "metadata": {},
   "source": [
    "Derecha Diario"
   ]
  },
  {
   "cell_type": "code",
   "execution_count": 6,
   "metadata": {},
   "outputs": [],
   "source": [
    "df_der = pickle.load(open('data/df_clean_der.pkl','rb'))"
   ]
  },
  {
   "cell_type": "code",
   "execution_count": 7,
   "metadata": {},
   "outputs": [],
   "source": [
    "df_inflation_der = df_der[df_der.topics == 'inflation']"
   ]
  },
  {
   "cell_type": "code",
   "execution_count": 8,
   "metadata": {},
   "outputs": [],
   "source": [
    "df_exchange_der = df_der[df_der.topics == 'exchange']"
   ]
  },
  {
   "cell_type": "code",
   "execution_count": 9,
   "metadata": {},
   "outputs": [],
   "source": [
    "corpus_der = df_inflation_der.append(df_exchange_der)"
   ]
  },
  {
   "cell_type": "markdown",
   "metadata": {},
   "source": [
    "### Tokenization"
   ]
  },
  {
   "cell_type": "code",
   "execution_count": 10,
   "metadata": {},
   "outputs": [],
   "source": [
    "import re\n",
    "import unidecode"
   ]
  },
  {
   "cell_type": "code",
   "execution_count": 11,
   "metadata": {},
   "outputs": [],
   "source": [
    "from nltk.corpus import stopwords\n",
    "import spacy\n",
    "from spacy.lang.es import Spanish"
   ]
  },
  {
   "cell_type": "code",
   "execution_count": 12,
   "metadata": {},
   "outputs": [],
   "source": [
    "parser = Spanish()\n",
    "stopwords_sp = stopwords.words('spanish') + ['si','dia', 'vez', 'fin','dias', 'dos', 'mas','ano', 'asi','puede', 'mes','incluso']"
   ]
  },
  {
   "cell_type": "code",
   "execution_count": 13,
   "metadata": {},
   "outputs": [],
   "source": [
    "def tokenizer(texto):\n",
    "\n",
    "    alphanumeric = re.sub(r'([^\\s\\w]|_)+', '', texto).lower()\n",
    "    no_accents = unidecode.unidecode(alphanumeric)\n",
    "    \n",
    "    tokens = parser(no_accents)\n",
    "    \n",
    "    tokens_list = [str(token) for token in tokens]\n",
    "    \n",
    "    tokens_clean = [token for token in tokens_list if token not in stopwords_sp and token.isalpha()]\n",
    "\n",
    "    return tokens_clean"
   ]
  },
  {
   "cell_type": "code",
   "execution_count": 14,
   "metadata": {},
   "outputs": [],
   "source": [
    "tokens_izq = [tokenizer(text) for text in corpus_izq.body]"
   ]
  },
  {
   "cell_type": "code",
   "execution_count": 15,
   "metadata": {},
   "outputs": [],
   "source": [
    "tokens_der = [tokenizer(text) for text in corpus_der.body]"
   ]
  },
  {
   "cell_type": "markdown",
   "metadata": {},
   "source": [
    "### Gensim"
   ]
  },
  {
   "cell_type": "markdown",
   "metadata": {},
   "source": [
    "Give ids to tokens with gensim Dictionary"
   ]
  },
  {
   "cell_type": "code",
   "execution_count": 16,
   "metadata": {},
   "outputs": [],
   "source": [
    "# import logging\n",
    "# logging.basicConfig(format='%(asctime)s : %(levelname)s : %(message)s', level=logging.INFO)"
   ]
  },
  {
   "cell_type": "code",
   "execution_count": 17,
   "metadata": {},
   "outputs": [],
   "source": [
    "from gensim.corpora import Dictionary"
   ]
  },
  {
   "cell_type": "code",
   "execution_count": 18,
   "metadata": {},
   "outputs": [],
   "source": [
    "# tokens input\n",
    "dictionary_izq = Dictionary(tokens_izq)\n",
    "dictionary_izq.filter_extremes(no_below=2, no_above=0.97, keep_n=None)\n",
    "\n",
    "# convert each document into the gensim bag-of-words\n",
    "corpus_izq = [dictionary_izq.doc2bow(text) for text in tokens_izq]"
   ]
  },
  {
   "cell_type": "code",
   "execution_count": 19,
   "metadata": {},
   "outputs": [],
   "source": [
    "# tokens input\n",
    "dictionary_der = Dictionary(tokens_der)\n",
    "dictionary_der.filter_extremes(no_below=2, no_above=0.97, keep_n=None)\n",
    "\n",
    "# convert each document into the gensim bag-of-words\n",
    "corpus_der = [dictionary_der.doc2bow(text) for text in tokens_der]"
   ]
  },
  {
   "cell_type": "markdown",
   "metadata": {},
   "source": [
    "### Latent Dirichlet Allocation (LDA)\n",
    "Check the unsupervised word classification using LDA"
   ]
  },
  {
   "cell_type": "code",
   "execution_count": 20,
   "metadata": {},
   "outputs": [],
   "source": [
    "from gensim import matutils, models\n",
    "import scipy.sparse"
   ]
  },
  {
   "cell_type": "markdown",
   "metadata": {},
   "source": [
    "Izquierda Diario"
   ]
  },
  {
   "cell_type": "code",
   "execution_count": 21,
   "metadata": {},
   "outputs": [],
   "source": [
    "# make a dictionary with the ids of each word assigned by Gensim dictionary method\n",
    "\n",
    "id_word_izq = dict((v, k) for k, v in dictionary_izq.token2id.items())"
   ]
  },
  {
   "cell_type": "code",
   "execution_count": 22,
   "metadata": {},
   "outputs": [],
   "source": [
    "# we already know that there are two topics\n",
    "\n",
    "lda_izq = models.LdaModel(corpus=corpus_izq, id2word=id_word_izq, num_topics=2, passes=20, random_state= 30)"
   ]
  },
  {
   "cell_type": "code",
   "execution_count": 23,
   "metadata": {},
   "outputs": [
    {
     "data": {
      "text/plain": [
       "[(0,\n",
       "  '0.034*\"dolar\" + 0.012*\"dolares\" + 0.011*\"millones\" + 0.010*\"banco\" + 0.010*\"us\" + 0.009*\"central\" + 0.008*\"deuda\" + 0.008*\"guzman\" + 0.008*\"oficial\" + 0.008*\"gobierno\"'),\n",
       " (1,\n",
       "  '0.020*\"precios\" + 0.014*\"inflacion\" + 0.013*\"aumento\" + 0.012*\"suba\" + 0.011*\"canasta\" + 0.010*\"alimentos\" + 0.010*\"productos\" + 0.009*\"salarios\" + 0.009*\"indec\" + 0.008*\"trabajadores\"')]"
      ]
     },
     "execution_count": 23,
     "metadata": {},
     "output_type": "execute_result"
    }
   ],
   "source": [
    "lda_izq.print_topics()"
   ]
  },
  {
   "cell_type": "code",
   "execution_count": 24,
   "metadata": {},
   "outputs": [
    {
     "data": {
      "text/html": [
       "\n",
       "<link rel=\"stylesheet\" type=\"text/css\" href=\"https://cdn.rawgit.com/bmabey/pyLDAvis/files/ldavis.v1.0.0.css\">\n",
       "\n",
       "\n",
       "<div id=\"ldavis_el113281401454421652004251856831\"></div>\n",
       "<script type=\"text/javascript\">\n",
       "\n",
       "var ldavis_el113281401454421652004251856831_data = {\"mdsDat\": {\"x\": [0.1255396008491516, -0.1255396008491516], \"y\": [0.0, 0.0], \"topics\": [1, 2], \"cluster\": [1, 1], \"Freq\": [45.799560546875, 54.200435638427734]}, \"tinfo\": {\"Term\": [\"dolar\", \"dolares\", \"precios\", \"us\", \"canasta\", \"alimentos\", \"guzman\", \"banco\", \"indec\", \"bonos\", \"productos\", \"blue\", \"millones\", \"contado\", \"central\", \"deuda\", \"salarios\", \"oficial\", \"cambio\", \"basica\", \"mep\", \"trabajadores\", \"bebidas\", \"economia\", \"inflacion\", \"liquidacion\", \"brecha\", \"indice\", \"cerro\", \"mayorista\", \"dolar\", \"dolares\", \"us\", \"bonos\", \"guzman\", \"blue\", \"contado\", \"mep\", \"liquidacion\", \"cerro\", \"bono\", \"presion\", \"liqui\", \"ypf\", \"reservas\", \"paralelo\", \"vendio\", \"record\", \"mercados\", \"nuevas\", \"solidario\", \"billete\", \"capitales\", \"martin\", \"bolsa\", \"cambiaria\", \"fuga\", \"licitacion\", \"cotizaciones\", \"emision\", \"cambio\", \"brecha\", \"banco\", \"deuda\", \"central\", \"oficial\", \"millones\", \"economia\", \"mayorista\", \"fmi\", \"devaluacion\", \"nuevo\", \"medidas\", \"fondo\", \"pesos\", \"mercado\", \"gobierno\", \"tipo\", \"interesar\", \"aumento\", \"pais\", \"grandes\", \"canasta\", \"indec\", \"alimentos\", \"basica\", \"salario\", \"familia\", \"bebidas\", \"indice\", \"paritarias\", \"registro\", \"supermercados\", \"cba\", \"julio\", \"aumentaron\", \"familias\", \"alimentaria\", \"menores\", \"necesito\", \"cbt\", \"rubros\", \"variacion\", \"provincia\", \"ultimo\", \"productos\", \"periodo\", \"marzo\", \"alcoholicas\", \"rubro\", \"mayoristas\", \"maximos\", \"salarios\", \"trabajadoras\", \"trabajadores\", \"precios\", \"adquisitivo\", \"general\", \"inflacion\", \"meses\", \"suba\", \"aumentos\", \"ingresos\", \"mismo\", \"ultimos\", \"respecto\", \"aumento\", \"incremento\", \"organismo\", \"costo\", \"segun\", \"mientras\", \"sector\", \"interesar\", \"gobierno\", \"tambien\", \"promedio\"], \"Freq\": [125.0, 44.0, 96.0, 36.0, 46.0, 44.0, 29.0, 39.0, 37.0, 28.0, 43.0, 25.0, 46.0, 24.0, 35.0, 33.0, 42.0, 31.0, 24.0, 27.0, 20.0, 39.0, 26.0, 30.0, 72.0, 17.0, 20.0, 22.0, 15.0, 21.0, 124.29391479492188, 43.83094024658203, 36.111576080322266, 27.663496017456055, 29.32425308227539, 25.12615966796875, 24.274673461914062, 20.01778793334961, 17.457073211669922, 14.901984214782715, 13.186607360839844, 14.830531120300293, 11.499401092529297, 11.478767395019531, 12.29720401763916, 13.115891456604004, 10.64944076538086, 10.644448280334473, 10.644050598144531, 10.62845230102539, 9.795198440551758, 9.79355525970459, 10.576589584350586, 9.754792213439941, 9.751949310302734, 8.937620162963867, 10.55785846710205, 8.925960540771484, 8.916126251220703, 8.908162117004395, 23.41519546508789, 19.175973892211914, 36.223236083984375, 30.17588233947754, 32.28583526611328, 28.47271156311035, 39.35100555419922, 26.965557098388672, 19.23016929626465, 14.529889106750488, 13.193962097167969, 15.610949516296387, 21.720983505249023, 11.897916793823242, 24.579376220703125, 18.01978302001953, 27.897294998168945, 16.590778350830078, 24.589014053344727, 24.71046257019043, 13.455183982849121, 13.649232864379883, 46.20665740966797, 37.34803009033203, 44.258731842041016, 26.81422233581543, 19.807220458984375, 18.935155868530273, 25.820545196533203, 21.501359939575195, 19.729415893554688, 18.010183334350586, 13.637855529785156, 11.889448165893555, 10.992243766784668, 10.98956298828125, 14.367152214050293, 10.12794017791748, 10.107105255126953, 9.247274398803711, 9.247268676757812, 13.450221061706543, 10.926095962524414, 9.243721008300781, 9.234636306762695, 41.90904235839844, 8.365525245666504, 8.364794731140137, 9.200874328613281, 9.200429916381836, 8.359126091003418, 8.357264518737793, 39.82880401611328, 10.841569900512695, 36.729164123535156, 88.11209106445312, 10.836287498474121, 14.638601303100586, 61.27685546875, 25.08380699157715, 51.32775115966797, 27.271726608276367, 22.27267074584961, 20.722261428833008, 27.23280906677246, 20.830324172973633, 55.4952392578125, 30.758203506469727, 12.945420265197754, 18.792041778564453, 28.63452911376953, 26.973491668701172, 17.410526275634766, 27.433168411254883, 27.536861419677734, 21.396583557128906, 18.81479263305664], \"Total\": [125.0, 44.0, 96.0, 36.0, 46.0, 44.0, 29.0, 39.0, 37.0, 28.0, 43.0, 25.0, 46.0, 24.0, 35.0, 33.0, 42.0, 31.0, 24.0, 27.0, 20.0, 39.0, 26.0, 30.0, 72.0, 17.0, 20.0, 22.0, 15.0, 21.0, 125.29776000976562, 44.32737731933594, 36.65974426269531, 28.13581657409668, 29.84156608581543, 25.578733444213867, 24.726564407348633, 20.4656982421875, 17.909393310546875, 15.3529052734375, 13.648981094360352, 15.355125427246094, 11.944113731384277, 11.944729804992676, 12.79807186126709, 13.651240348815918, 11.091894149780273, 11.092061042785645, 11.09207534790039, 11.092578887939453, 10.239818572998047, 10.23987102508545, 11.094318389892578, 10.241146087646484, 10.241130828857422, 9.387846946716309, 11.094944953918457, 9.388236999511719, 9.388562202453613, 9.388825416564941, 24.75509262084961, 20.49359703063965, 39.29812240600586, 33.33588409423828, 35.907379150390625, 31.631460189819336, 46.239627838134766, 30.80141258239746, 21.37260627746582, 16.245981216430664, 14.52916145324707, 17.971084594726562, 27.454696655273438, 12.81141185760498, 33.524410247802734, 22.29424285888672, 55.43415832519531, 23.223257064819336, 52.02218246459961, 80.20570373535156, 18.04371452331543, 24.203235626220703, 46.66953659057617, 37.859275817871094, 44.90172576904297, 27.29010772705078, 20.244569778442383, 19.36400032043457, 26.405593872070312, 22.004066467285156, 20.241975784301758, 18.4816837310791, 14.078424453735352, 12.31714153289795, 11.4357328414917, 11.435646057128906, 14.954229354858398, 10.555423736572266, 10.554732322692871, 9.674569129943848, 9.674569129943848, 14.072244644165039, 11.433553695678711, 9.674449920654297, 9.674145698547363, 43.972679138183594, 8.793676376342773, 8.793652534484863, 9.6730318069458, 9.673008918762207, 8.793463706970215, 8.793400764465332, 42.2005729675293, 11.430680274963379, 39.54299545288086, 96.60770416259766, 11.430557250976562, 15.814960479736328, 72.724853515625, 28.085487365722656, 63.02690887451172, 31.56549644470215, 25.43739128112793, 23.682559967041016, 33.26842498779297, 24.538225173950195, 80.20570373535156, 41.90483093261719, 14.055305480957031, 22.76746368408203, 40.13127899169922, 37.52070236206055, 21.870317459106445, 52.02218246459961, 55.43415832519531, 33.93030548095703, 27.881122589111328], \"Category\": [\"Default\", \"Default\", \"Default\", \"Default\", \"Default\", \"Default\", \"Default\", \"Default\", \"Default\", \"Default\", \"Default\", \"Default\", \"Default\", \"Default\", \"Default\", \"Default\", \"Default\", \"Default\", \"Default\", \"Default\", \"Default\", \"Default\", \"Default\", \"Default\", \"Default\", \"Default\", \"Default\", \"Default\", \"Default\", \"Default\", \"Topic1\", \"Topic1\", \"Topic1\", \"Topic1\", \"Topic1\", \"Topic1\", \"Topic1\", \"Topic1\", \"Topic1\", \"Topic1\", \"Topic1\", \"Topic1\", \"Topic1\", \"Topic1\", \"Topic1\", \"Topic1\", \"Topic1\", \"Topic1\", \"Topic1\", \"Topic1\", \"Topic1\", \"Topic1\", \"Topic1\", \"Topic1\", \"Topic1\", \"Topic1\", \"Topic1\", \"Topic1\", \"Topic1\", \"Topic1\", \"Topic1\", \"Topic1\", \"Topic1\", \"Topic1\", \"Topic1\", \"Topic1\", \"Topic1\", \"Topic1\", \"Topic1\", \"Topic1\", \"Topic1\", \"Topic1\", \"Topic1\", \"Topic1\", \"Topic1\", \"Topic1\", \"Topic1\", \"Topic1\", \"Topic1\", \"Topic1\", \"Topic1\", \"Topic1\", \"Topic2\", \"Topic2\", \"Topic2\", \"Topic2\", \"Topic2\", \"Topic2\", \"Topic2\", \"Topic2\", \"Topic2\", \"Topic2\", \"Topic2\", \"Topic2\", \"Topic2\", \"Topic2\", \"Topic2\", \"Topic2\", \"Topic2\", \"Topic2\", \"Topic2\", \"Topic2\", \"Topic2\", \"Topic2\", \"Topic2\", \"Topic2\", \"Topic2\", \"Topic2\", \"Topic2\", \"Topic2\", \"Topic2\", \"Topic2\", \"Topic2\", \"Topic2\", \"Topic2\", \"Topic2\", \"Topic2\", \"Topic2\", \"Topic2\", \"Topic2\", \"Topic2\", \"Topic2\", \"Topic2\", \"Topic2\", \"Topic2\", \"Topic2\", \"Topic2\", \"Topic2\", \"Topic2\", \"Topic2\", \"Topic2\", \"Topic2\", \"Topic2\", \"Topic2\", \"Topic2\", \"Topic2\", \"Topic2\"], \"logprob\": [30.0, 29.0, 28.0, 27.0, 26.0, 25.0, 24.0, 23.0, 22.0, 21.0, 20.0, 19.0, 18.0, 17.0, 16.0, 15.0, 14.0, 13.0, 12.0, 11.0, 10.0, 9.0, 8.0, 7.0, 6.0, 5.0, 4.0, 3.0, 2.0, 1.0, -3.388400077819824, -4.430699825286865, -4.6244001388549805, -4.890900135040283, -4.832600116729736, -4.987100124359131, -5.021599769592285, -5.214399814605713, -5.35129976272583, -5.509500026702881, -5.631800174713135, -5.514400005340576, -5.768700122833252, -5.770500183105469, -5.701700210571289, -5.637199878692627, -5.8454999923706055, -5.8460001945495605, -5.8460001945495605, -5.847499847412109, -5.929100036621094, -5.929299831390381, -5.852399826049805, -5.933300018310547, -5.933599948883057, -6.0208001136779785, -5.8541998863220215, -6.02209997177124, -6.023200035095215, -6.024099826812744, -5.057700157165527, -5.257400035858154, -4.621300220489502, -4.803999900817871, -4.736400127410889, -4.862100124359131, -4.53849983215332, -4.916500091552734, -5.2546000480651855, -5.534800052642822, -5.63129997253418, -5.463099956512451, -5.132800102233887, -5.7347002029418945, -5.009099960327148, -5.3196001052856445, -4.882500171661377, -5.402200222015381, -5.008699893951416, -5.003799915313721, -5.611700057983398, -5.597400188446045, -4.546299934387207, -4.759200096130371, -4.589399814605713, -5.0904998779296875, -5.393400192260742, -5.438399791717529, -5.128300189971924, -5.311299800872803, -5.397299766540527, -5.488500118255615, -5.766600131988525, -5.903800010681152, -5.9822998046875, -5.982500076293945, -5.7144999504089355, -6.064199924468994, -6.066199779510498, -6.155099868774414, -6.155099868774414, -5.7804999351501465, -5.98829984664917, -6.1554999351501465, -6.156499862670898, -4.644000053405762, -6.255300045013428, -6.25540018081665, -6.160200119018555, -6.160200119018555, -6.256100177764893, -6.25629997253418, -4.694900035858154, -5.996099948883057, -4.775899887084961, -3.9007999897003174, -5.996600151062012, -5.695799827575684, -4.264100074768066, -5.157199859619141, -4.441199779510498, -5.073599815368652, -5.276100158691406, -5.348199844360352, -5.074999809265137, -5.3429999351501465, -4.3632001876831055, -4.9532999992370605, -5.818699836730957, -5.446000099182129, -5.024799823760986, -5.08459997177124, -5.52239990234375, -5.067699909210205, -5.063899993896484, -5.316199779510498, -5.444799900054932], \"loglift\": [30.0, 29.0, 28.0, 27.0, 26.0, 25.0, 24.0, 23.0, 22.0, 21.0, 20.0, 19.0, 18.0, 17.0, 16.0, 15.0, 14.0, 13.0, 12.0, 11.0, 10.0, 9.0, 8.0, 7.0, 6.0, 5.0, 4.0, 3.0, 2.0, 1.0, 0.7728999853134155, 0.769599974155426, 0.7657999992370605, 0.7639999985694885, 0.7634000182151794, 0.7630000114440918, 0.762499988079071, 0.7588000297546387, 0.755299985408783, 0.7511000037193298, 0.746399998664856, 0.7461000084877014, 0.7429999709129333, 0.741100013256073, 0.7409999966621399, 0.7408999800682068, 0.7401999831199646, 0.7397000193595886, 0.7397000193595886, 0.7382000088691711, 0.7365000247955322, 0.736299991607666, 0.7330999970436096, 0.732200026512146, 0.7319999933242798, 0.7317000031471252, 0.7312999963760376, 0.730400025844574, 0.7293000221252441, 0.7282999753952026, 0.7251999974250793, 0.7143999934196472, 0.699400007724762, 0.6812999844551086, 0.6746000051498413, 0.6757000088691711, 0.6195999979972839, 0.6478999853134155, 0.6753000020980835, 0.6693000197410583, 0.684499979019165, 0.6401000022888184, 0.5465999841690063, 0.7069000005722046, 0.47049999237060547, 0.5680000185966492, 0.094200000166893, 0.444599986076355, 0.03150000050663948, -0.39649999141693115, 0.48750001192092896, 0.20810000598430634, 0.6025000214576721, 0.5989000201225281, 0.5981000065803528, 0.5949000120162964, 0.5906000137329102, 0.5900999903678894, 0.5900999903678894, 0.5893999934196472, 0.5867999792098999, 0.5866000056266785, 0.5806999802589417, 0.5770999789237976, 0.5728999972343445, 0.572700023651123, 0.5723999738693237, 0.5710999965667725, 0.569100022315979, 0.567300021648407, 0.567300021648407, 0.567300021648407, 0.5670999884605408, 0.5669000148773193, 0.5659999847412109, 0.5644000172615051, 0.5626000165939331, 0.5625, 0.5623999834060669, 0.5623999834060669, 0.5618000030517578, 0.5616000294685364, 0.5546000003814697, 0.5595999956130981, 0.5386999845504761, 0.5203999876976013, 0.5590999722480774, 0.5351999998092651, 0.44119998812675476, 0.49950000643730164, 0.40720000863075256, 0.46630001068115234, 0.4796000123023987, 0.4790000021457672, 0.4122999906539917, 0.4487000107765198, 0.24420000612735748, 0.30320000648498535, 0.5302000045776367, 0.4205999970436096, 0.27489998936653137, 0.2824000120162964, 0.38440001010894775, -0.027400000020861626, -0.08720000088214874, 0.15139999985694885, 0.219200000166893]}, \"token.table\": {\"Topic\": [1, 2, 2, 2, 1, 2, 2, 1, 2, 1, 2, 1, 2, 2, 1, 2, 1, 1, 1, 1, 1, 1, 2, 1, 1, 2, 2, 1, 2, 2, 2, 1, 2, 1, 1, 1, 2, 1, 1, 2, 1, 2, 1, 2, 1, 1, 2, 1, 2, 1, 2, 1, 2, 1, 2, 1, 2, 1, 2, 1, 2, 1, 2, 1, 2, 1, 2, 1, 2, 1, 2, 1, 2, 1, 2, 1, 2, 2, 1, 1, 1, 1, 2, 2, 1, 2, 2, 1, 2, 2, 1, 1, 2, 1, 1, 2, 1, 2, 1, 2, 1, 2, 2, 1, 1, 2, 1, 2, 1, 2, 1, 2, 1, 2, 1, 2, 2, 1, 2, 1, 2, 1, 2, 1, 2, 1, 2, 2, 1, 2, 1, 2, 1, 2, 2, 1, 2, 2, 1, 2, 1, 2, 1, 2, 1, 1, 2, 2, 1, 2, 1, 2, 1, 2, 1, 2, 2, 1, 2, 1, 2, 1, 2, 1, 1], \"Freq\": [0.08748479932546616, 0.9623327851295471, 0.9304218292236328, 0.9473802447319031, 0.02227085828781128, 0.9799177646636963, 0.9619045257568359, 0.3116985261440277, 0.6857367753982544, 0.1267206370830536, 0.8553643226623535, 0.916074275970459, 0.07633952796459198, 0.9893695116043091, 0.03787076473236084, 0.9846398234367371, 0.9765747785568237, 0.9773744344711304, 0.9764546751976013, 0.9524520635604858, 0.9951727986335754, 0.9271188378334045, 0.048795729875564575, 0.9586862921714783, 0.9291017651557922, 0.04039572924375534, 0.9856536984443665, 0.9914984703063965, 0.09013622999191284, 0.9742520451545715, 0.9302740097045898, 0.8911817073822021, 0.11139771342277527, 0.9770137667655945, 0.9706160426139832, 0.17568930983543396, 0.8345242142677307, 0.9586132168769836, 0.8999311327934265, 0.08999311178922653, 0.8947522640228271, 0.06882710009813309, 0.9896426200866699, 0.00798098836094141, 0.9926145672798157, 0.8765831589698792, 0.1298641711473465, 0.9585863351821899, 0.9812021851539612, 0.06687071174383163, 0.9361900091171265, 0.9233052730560303, 0.12310736626386642, 0.9366649389266968, 0.07805541157722473, 0.9914425015449524, 0.09013113379478455, 0.06323126703500748, 0.9484690427780151, 0.5051037073135376, 0.5051037073135376, 0.5784350633621216, 0.4544847011566162, 0.971798837184906, 0.03351030498743057, 0.2624995708465576, 0.7397714853286743, 0.026413606479763985, 0.9773034453392029, 0.04544614627957344, 0.9998151659965515, 0.1512550264596939, 0.8387778997421265, 0.1179366186261177, 0.8648685812950134, 0.4805642366409302, 0.5190093517303467, 0.9618972539901733, 0.9586464166641235, 0.9209557175636292, 0.9492225646972656, 0.9764531850814819, 0.9097471237182617, 0.9097731709480286, 0.8889884352684021, 0.09357772767543793, 0.909766674041748, 0.8013200759887695, 0.21854184567928314, 0.9474422931671143, 0.9772449135780334, 0.8073832988739014, 0.17941851913928986, 0.9916989803314209, 0.10681673139333725, 0.8901394605636597, 0.2931714951992035, 0.7196027636528015, 0.8434323668479919, 0.15138530731201172, 0.12667550146579742, 0.8867284655570984, 0.9302740097045898, 0.9916539788246155, 0.8903191089630127, 0.11128988862037659, 0.8851946592330933, 0.09484228491783142, 0.07114750891923904, 0.9249176383018494, 0.720472514629364, 0.27710479497909546, 0.9522944092750549, 0.07325341552495956, 0.04940229281783104, 0.988045871257782, 0.9097446203231812, 0.7457252740859985, 0.26846110820770264, 0.08280912786722183, 0.9109004139900208, 0.9768725037574768, 0.06512483209371567, 0.04548278823494911, 0.9551385045051575, 0.32279905676841736, 0.681464672088623, 0.9302854537963867, 0.991700291633606, 0.9739372134208679, 0.9376412630081177, 0.07813677191734314, 0.16301096975803375, 0.8558076024055481, 0.9304240345954895, 0.071061871945858, 0.9238042831420898, 0.9879192113876343, 0.047392722219228745, 0.9478543996810913, 0.18289628624916077, 0.777309238910675, 0.2741004228591919, 0.7226283550262451, 0.9765797853469849, 0.19039486348628998, 0.8091781735420227, 0.9944294691085815, 0.3831382989883423, 0.6189157366752625, 0.7320247888565063, 0.30142197012901306, 0.08748386055231094, 0.9623224139213562, 0.07586678862571716, 0.9356903433799744, 0.9303147196769714, 0.18035118281841278, 0.8115803599357605, 0.9820035696029663, 0.027277877554297447, 0.08746187388896942, 0.9620805978775024, 0.9917151927947998, 0.9209082126617432], \"Term\": [\"adquisitivo\", \"adquisitivo\", \"alcoholicas\", \"alimentaria\", \"alimentos\", \"alimentos\", \"aumentaron\", \"aumento\", \"aumento\", \"aumentos\", \"aumentos\", \"banco\", \"banco\", \"basica\", \"bebidas\", \"bebidas\", \"billete\", \"blue\", \"bolsa\", \"bono\", \"bonos\", \"brecha\", \"brecha\", \"cambiaria\", \"cambio\", \"cambio\", \"canasta\", \"capitales\", \"capitales\", \"cba\", \"cbt\", \"central\", \"central\", \"cerro\", \"contado\", \"costo\", \"costo\", \"cotizaciones\", \"deuda\", \"deuda\", \"devaluacion\", \"devaluacion\", \"dolar\", \"dolar\", \"dolares\", \"economia\", \"economia\", \"emision\", \"familia\", \"familias\", \"familias\", \"fmi\", \"fmi\", \"fondo\", \"fondo\", \"fuga\", \"fuga\", \"general\", \"general\", \"gobierno\", \"gobierno\", \"grandes\", \"grandes\", \"guzman\", \"guzman\", \"incremento\", \"incremento\", \"indec\", \"indec\", \"indice\", \"indice\", \"inflacion\", \"inflacion\", \"ingresos\", \"ingresos\", \"interesar\", \"interesar\", \"julio\", \"licitacion\", \"liqui\", \"liquidacion\", \"martin\", \"marzo\", \"maximos\", \"mayorista\", \"mayorista\", \"mayoristas\", \"medidas\", \"medidas\", \"menores\", \"mep\", \"mercado\", \"mercado\", \"mercados\", \"meses\", \"meses\", \"mientras\", \"mientras\", \"millones\", \"millones\", \"mismo\", \"mismo\", \"necesito\", \"nuevas\", \"nuevo\", \"nuevo\", \"oficial\", \"oficial\", \"organismo\", \"organismo\", \"pais\", \"pais\", \"paralelo\", \"paralelo\", \"paritarias\", \"paritarias\", \"periodo\", \"pesos\", \"pesos\", \"precios\", \"precios\", \"presion\", \"presion\", \"productos\", \"productos\", \"promedio\", \"promedio\", \"provincia\", \"record\", \"registro\", \"reservas\", \"reservas\", \"respecto\", \"respecto\", \"rubro\", \"rubros\", \"rubros\", \"salario\", \"salarios\", \"salarios\", \"sector\", \"sector\", \"segun\", \"segun\", \"solidario\", \"suba\", \"suba\", \"supermercados\", \"tambien\", \"tambien\", \"tipo\", \"tipo\", \"trabajadoras\", \"trabajadoras\", \"trabajadores\", \"trabajadores\", \"ultimo\", \"ultimos\", \"ultimos\", \"us\", \"us\", \"variacion\", \"variacion\", \"vendio\", \"ypf\"]}, \"R\": 30, \"lambda.step\": 0.01, \"plot.opts\": {\"xlab\": \"PC1\", \"ylab\": \"PC2\"}, \"topic.order\": [1, 2]};\n",
       "\n",
       "function LDAvis_load_lib(url, callback){\n",
       "  var s = document.createElement('script');\n",
       "  s.src = url;\n",
       "  s.async = true;\n",
       "  s.onreadystatechange = s.onload = callback;\n",
       "  s.onerror = function(){console.warn(\"failed to load library \" + url);};\n",
       "  document.getElementsByTagName(\"head\")[0].appendChild(s);\n",
       "}\n",
       "\n",
       "if(typeof(LDAvis) !== \"undefined\"){\n",
       "   // already loaded: just create the visualization\n",
       "   !function(LDAvis){\n",
       "       new LDAvis(\"#\" + \"ldavis_el113281401454421652004251856831\", ldavis_el113281401454421652004251856831_data);\n",
       "   }(LDAvis);\n",
       "}else if(typeof define === \"function\" && define.amd){\n",
       "   // require.js is available: use it to load d3/LDAvis\n",
       "   require.config({paths: {d3: \"https://cdnjs.cloudflare.com/ajax/libs/d3/3.5.5/d3.min\"}});\n",
       "   require([\"d3\"], function(d3){\n",
       "      window.d3 = d3;\n",
       "      LDAvis_load_lib(\"https://cdn.rawgit.com/bmabey/pyLDAvis/files/ldavis.v1.0.0.js\", function(){\n",
       "        new LDAvis(\"#\" + \"ldavis_el113281401454421652004251856831\", ldavis_el113281401454421652004251856831_data);\n",
       "      });\n",
       "    });\n",
       "}else{\n",
       "    // require.js not available: dynamically load d3 & LDAvis\n",
       "    LDAvis_load_lib(\"https://cdnjs.cloudflare.com/ajax/libs/d3/3.5.5/d3.min.js\", function(){\n",
       "         LDAvis_load_lib(\"https://cdn.rawgit.com/bmabey/pyLDAvis/files/ldavis.v1.0.0.js\", function(){\n",
       "                 new LDAvis(\"#\" + \"ldavis_el113281401454421652004251856831\", ldavis_el113281401454421652004251856831_data);\n",
       "            })\n",
       "         });\n",
       "}\n",
       "</script>"
      ],
      "text/plain": [
       "<IPython.core.display.HTML object>"
      ]
     },
     "execution_count": 24,
     "metadata": {},
     "output_type": "execute_result"
    }
   ],
   "source": [
    "import pyLDAvis.gensim\n",
    "\n",
    "lda_display = pyLDAvis.gensim.prepare(lda_izq, corpus_izq, dictionary_izq, sort_topics=False)\n",
    "\n",
    "pyLDAvis.display(lda_display)"
   ]
  },
  {
   "cell_type": "markdown",
   "metadata": {},
   "source": [
    "Derecha Diario"
   ]
  },
  {
   "cell_type": "code",
   "execution_count": 25,
   "metadata": {},
   "outputs": [
    {
     "name": "stderr",
     "output_type": "stream",
     "text": [
      "/home/guido/anaconda3/envs/dh/lib/python3.7/site-packages/ipykernel/ipkernel.py:287: DeprecationWarning: `should_run_async` will not call `transform_cell` automatically in the future. Please pass the result to `transformed_cell` argument and any exception that happen during thetransform in `preprocessing_exc_tuple` in IPython 7.17 and above.\n",
      "  and should_run_async(code)\n"
     ]
    }
   ],
   "source": [
    "# make a dictionary with the ids of each word assigned by Gensim dictionary method\n",
    "\n",
    "id_word_der = dict((v, k) for k, v in dictionary_der.token2id.items())"
   ]
  },
  {
   "cell_type": "code",
   "execution_count": 26,
   "metadata": {},
   "outputs": [
    {
     "name": "stderr",
     "output_type": "stream",
     "text": [
      "/home/guido/anaconda3/envs/dh/lib/python3.7/site-packages/ipykernel/ipkernel.py:287: DeprecationWarning: `should_run_async` will not call `transform_cell` automatically in the future. Please pass the result to `transformed_cell` argument and any exception that happen during thetransform in `preprocessing_exc_tuple` in IPython 7.17 and above.\n",
      "  and should_run_async(code)\n"
     ]
    }
   ],
   "source": [
    "# we already know that there are two topics\n",
    "\n",
    "lda_der = models.LdaModel(corpus=corpus_der, id2word=id_word_der, num_topics=2, passes=20, random_state= 30)"
   ]
  },
  {
   "cell_type": "code",
   "execution_count": 27,
   "metadata": {},
   "outputs": [
    {
     "name": "stderr",
     "output_type": "stream",
     "text": [
      "/home/guido/anaconda3/envs/dh/lib/python3.7/site-packages/ipykernel/ipkernel.py:287: DeprecationWarning: `should_run_async` will not call `transform_cell` automatically in the future. Please pass the result to `transformed_cell` argument and any exception that happen during thetransform in `preprocessing_exc_tuple` in IPython 7.17 and above.\n",
      "  and should_run_async(code)\n"
     ]
    },
    {
     "data": {
      "text/plain": [
       "[(0,\n",
       "  '0.011*\"inflacion\" + 0.009*\"precios\" + 0.008*\"dolar\" + 0.008*\"gobierno\" + 0.008*\"mercado\" + 0.007*\"economia\" + 0.007*\"tipo\" + 0.006*\"aumento\" + 0.005*\"monetaria\" + 0.004*\"argentina\"'),\n",
       " (1,\n",
       "  '0.008*\"precios\" + 0.008*\"gobierno\" + 0.008*\"inflacion\" + 0.007*\"dolar\" + 0.006*\"mercado\" + 0.006*\"monetaria\" + 0.006*\"economia\" + 0.005*\"argentina\" + 0.005*\"banco\" + 0.005*\"pais\"')]"
      ]
     },
     "execution_count": 27,
     "metadata": {},
     "output_type": "execute_result"
    }
   ],
   "source": [
    "lda_der.print_topics()"
   ]
  },
  {
   "cell_type": "code",
   "execution_count": 28,
   "metadata": {},
   "outputs": [
    {
     "name": "stderr",
     "output_type": "stream",
     "text": [
      "/home/guido/anaconda3/envs/dh/lib/python3.7/site-packages/ipykernel/ipkernel.py:287: DeprecationWarning: `should_run_async` will not call `transform_cell` automatically in the future. Please pass the result to `transformed_cell` argument and any exception that happen during thetransform in `preprocessing_exc_tuple` in IPython 7.17 and above.\n",
      "  and should_run_async(code)\n"
     ]
    },
    {
     "data": {
      "text/html": [
       "\n",
       "<link rel=\"stylesheet\" type=\"text/css\" href=\"https://cdn.rawgit.com/bmabey/pyLDAvis/files/ldavis.v1.0.0.css\">\n",
       "\n",
       "\n",
       "<div id=\"ldavis_el113281401454421669924840298464\"></div>\n",
       "<script type=\"text/javascript\">\n",
       "\n",
       "var ldavis_el113281401454421669924840298464_data = {\"mdsDat\": {\"x\": [0.042395763099193566, -0.042395763099193566], \"y\": [0.0, 0.0], \"topics\": [1, 2], \"cluster\": [1, 1], \"Freq\": [38.44129180908203, 61.5587043762207]}, \"tinfo\": {\"Term\": [\"billetes\", \"tasa\", \"general\", \"cerro\", \"regulados\", \"inflacion\", \"tipo\", \"bebidas\", \"region\", \"politica\", \"servicios\", \"control\", \"creciente\", \"promedio\", \"mercados\", \"aquellos\", \"dato\", \"aumentaron\", \"salario\", \"denominacion\", \"economia\", \"septiembre\", \"distorsion\", \"precios\", \"mercado\", \"bienes\", \"peso\", \"meses\", \"alimentos\", \"economico\", \"regulados\", \"region\", \"denominacion\", \"creciente\", \"distorsion\", \"billete\", \"billetes\", \"nucleo\", \"minima\", \"idea\", \"calzado\", \"convertibilidad\", \"rulo\", \"depresion\", \"pueda\", \"fines\", \"alcoholicas\", \"naturaleza\", \"equipamiento\", \"hogar\", \"barato\", \"diferencias\", \"incentivo\", \"salud\", \"establece\", \"inmediato\", \"pretender\", \"especulacion\", \"habian\", \"desorden\", \"bebidas\", \"proceso\", \"cerro\", \"tasa\", \"general\", \"casa\", \"vestir\", \"prendas\", \"control\", \"pasivos\", \"aquellos\", \"aumentaron\", \"servicios\", \"inflacion\", \"politica\", \"tipo\", \"mercados\", \"promedio\", \"septiembre\", \"precios\", \"economia\", \"dato\", \"mercado\", \"dolar\", \"bienes\", \"alimentos\", \"peso\", \"gobierno\", \"aumento\", \"comportamiento\", \"fuerte\", \"moneda\", \"monetaria\", \"pesos\", \"medidas\", \"cambio\", \"tambien\", \"argentina\", \"oficial\", \"bcra\", \"brecha\", \"cada\", \"pais\", \"banco\", \"dolares\", \"nivel\", \"central\", \"salario\", \"usd\", \"minimo\", \"datos\", \"pago\", \"primeros\", \"tendra\", \"van\", \"arriba\", \"teoria\", \"acceder\", \"salarial\", \"dijo\", \"confianza\", \"monto\", \"economicos\", \"gba\", \"exportaciones\", \"consultora\", \"concepto\", \"trabajadores\", \"proyecto\", \"cierta\", \"economico\", \"inicial\", \"alquileres\", \"hablando\", \"moderna\", \"subir\", \"calmar\", \"meses\", \"gasto\", \"forma\", \"ultimo\", \"ganancias\", \"tesoro\", \"publico\", \"deficit\", \"cuentas\", \"resultado\", \"aun\", \"pandemia\", \"cuenta\", \"parece\", \"viene\", \"solo\", \"guzman\", \"demanda\", \"emision\", \"contexto\", \"banco\", \"pais\", \"parte\", \"dinero\", \"gobierno\", \"presidente\", \"monetaria\", \"millones\", \"argentina\", \"precios\", \"central\", \"ser\", \"dolar\", \"sector\", \"inflacion\", \"mercado\", \"pesos\", \"medidas\", \"economia\", \"nivel\", \"aumento\", \"economica\", \"hoy\", \"cada\", \"tipo\", \"dolares\", \"cambio\", \"gran\"], \"Freq\": [21.0, 32.0, 31.0, 25.0, 15.0, 163.0, 88.0, 14.0, 11.0, 41.0, 28.0, 16.0, 9.0, 33.0, 27.0, 18.0, 33.0, 18.0, 19.0, 8.0, 111.0, 23.0, 8.0, 152.0, 115.0, 26.0, 30.0, 31.0, 20.0, 28.0, 15.040136337280273, 10.774738311767578, 8.197111129760742, 9.002982139587402, 8.149609565734863, 7.319645404815674, 20.247314453125, 7.288546085357666, 5.60527229309082, 5.59783935546875, 6.371532917022705, 6.354681491851807, 4.752276420593262, 4.749453067779541, 4.743598461151123, 5.5115885734558105, 4.723196506500244, 4.722130298614502, 3.887486457824707, 3.887424945831299, 3.887324333190918, 3.886887311935425, 3.8863837718963623, 3.885458469390869, 3.878270387649536, 3.871701955795288, 4.641088485717773, 5.413193225860596, 3.8542234897613525, 4.61266565322876, 12.964613914489746, 8.28012466430664, 20.62483024597168, 25.230548858642578, 24.39836311340332, 7.3751912117004395, 7.996514320373535, 7.992672443389893, 12.857160568237305, 6.5940423011779785, 13.532034873962402, 13.309345245361328, 19.269651412963867, 75.72547912597656, 24.83808135986328, 44.82649612426758, 17.615474700927734, 20.364900588989258, 15.596370697021484, 62.741973876953125, 49.11198043823242, 20.07853889465332, 50.06960678100586, 54.468658447265625, 16.386478424072266, 13.55869197845459, 18.219261169433594, 52.02526092529297, 37.373321533203125, 17.825759887695312, 19.68418312072754, 18.67719078063965, 33.01012420654297, 28.13382911682129, 27.8872127532959, 24.908008575439453, 22.726593017578125, 28.70277976989746, 21.754077911376953, 21.173187255859375, 19.699535369873047, 22.15792465209961, 23.49639129638672, 23.257265090942383, 21.32856559753418, 21.35658836364746, 20.99448013305664, 19.37061309814453, 16.6730899810791, 16.54133415222168, 12.135494232177734, 11.265373229980469, 10.308000564575195, 9.447422981262207, 8.557836532592773, 8.55429744720459, 8.51722526550293, 7.659069538116455, 7.647406101226807, 7.6449079513549805, 22.933740615844727, 12.725386619567871, 7.622665882110596, 7.607741355895996, 6.758466720581055, 7.602014541625977, 6.756839275360107, 6.751870632171631, 6.750329971313477, 6.7475786209106445, 26.957387924194336, 6.729690074920654, 6.698050498962402, 5.857624530792236, 5.857457637786865, 5.857420444488525, 5.85725212097168, 29.27101707458496, 10.03180980682373, 13.275349617004395, 17.304821014404297, 14.873048782348633, 13.233450889587402, 16.899789810180664, 22.02650260925293, 10.694218635559082, 14.416545867919922, 31.173614501953125, 21.397136688232422, 31.514558792114258, 28.62966537475586, 15.6693754196167, 30.663679122924805, 38.033958435058594, 45.79734802246094, 38.69227981567383, 18.248125076293945, 55.976844787597656, 54.825862884521484, 46.20155715942383, 43.44281005859375, 89.07807159423828, 29.24742889404297, 64.73638153076172, 45.77717208862305, 57.50910568237305, 89.61978912353516, 46.616920471191406, 33.54349136352539, 77.51382446289062, 29.242433547973633, 87.79702758789062, 65.87445068359375, 48.18547821044922, 47.541168212890625, 62.36557388305664, 40.82987976074219, 51.16962432861328, 33.64183807373047, 33.56256103515625, 38.1909065246582, 43.395294189453125, 35.44978713989258, 36.223876953125, 34.64022445678711], \"Total\": [21.0, 32.0, 31.0, 25.0, 15.0, 163.0, 88.0, 14.0, 11.0, 41.0, 28.0, 16.0, 9.0, 33.0, 27.0, 18.0, 33.0, 18.0, 19.0, 8.0, 111.0, 23.0, 8.0, 152.0, 115.0, 26.0, 30.0, 31.0, 20.0, 28.0, 15.578904151916504, 11.254961013793945, 8.661478042602539, 9.527939796447754, 8.663249969482422, 7.797712802886963, 21.66446876525879, 7.798939228057861, 6.068506717681885, 6.068770885467529, 6.936773300170898, 6.937360763549805, 5.203726768493652, 5.203834056854248, 5.204031944274902, 6.072165489196777, 5.204850196838379, 5.204819202423096, 4.339436054229736, 4.3394389152526855, 4.33944034576416, 4.339453220367432, 4.339478969573975, 4.339517593383789, 4.33976411819458, 4.339964389801025, 5.208081245422363, 6.076214790344238, 4.340707302093506, 5.208889007568359, 14.765960693359375, 9.558516502380371, 25.254426956176758, 32.2682991027832, 31.4025936126709, 8.695731163024902, 9.570640563964844, 9.570810317993164, 16.573524475097656, 7.828097343444824, 18.34748649597168, 18.35723114013672, 28.918922424316406, 163.5225067138672, 41.30072784423828, 88.22178649902344, 27.18703269958496, 33.379486083984375, 23.667869567871094, 152.36175537109375, 111.47755432128906, 33.3918342590332, 115.94406127929688, 131.98248291015625, 26.33846664428711, 20.14948081970215, 30.76728057861328, 141.10333251953125, 88.5429458618164, 30.784210205078125, 36.11347198486328, 34.353736877441406, 97.74650573730469, 76.31930541992188, 75.42838287353516, 61.13188552856445, 51.30877685546875, 86.21188354492188, 50.449119567871094, 47.76949691772461, 41.5221061706543, 60.34883117675781, 78.32225036621094, 79.2341079711914, 56.778350830078125, 62.18647003173828, 67.61140441894531, 19.813779830932617, 17.109451293945312, 17.103755950927734, 12.600296020507812, 11.70018482208252, 10.796064376831055, 9.896397590637207, 8.995396614074707, 8.995219230651855, 8.993518829345703, 8.093965530395508, 8.093413352966309, 8.093331336975098, 24.281835556030273, 13.48865795135498, 8.092273712158203, 8.091584205627441, 7.192452430725098, 8.091423034667969, 7.192373752593994, 7.192138195037842, 7.192102432250977, 7.191951751708984, 28.76964569091797, 7.191159725189209, 7.189657688140869, 6.290929794311523, 6.290923118591309, 6.290921688079834, 6.2909135818481445, 31.457822799682617, 10.784562110900879, 14.375558853149414, 18.863313674926758, 16.170047760009766, 14.373956680297852, 18.84675407409668, 25.108736038208008, 11.675997734069824, 16.151126861572266, 37.586849212646484, 25.082666397094727, 38.4652214050293, 34.888824462890625, 17.931541442871094, 38.43008041381836, 49.106319427490234, 61.5273551940918, 50.86210632324219, 21.495256423950195, 79.2341079711914, 78.32225036621094, 64.1369857788086, 59.70146942138672, 141.10333251953125, 37.50727844238281, 97.74650573730469, 64.98377990722656, 86.21188354492188, 152.36175537109375, 67.61140441894531, 45.46355056762695, 131.98248291015625, 38.37136459350586, 163.5225067138672, 115.94406127929688, 76.31930541992188, 75.42838287353516, 111.47755432128906, 62.18647003173828, 88.5429458618164, 47.19624328613281, 47.192970275878906, 60.34883117675781, 88.22178649902344, 56.778350830078125, 61.13188552856445, 54.15196990966797], \"Category\": [\"Default\", \"Default\", \"Default\", \"Default\", \"Default\", \"Default\", \"Default\", \"Default\", \"Default\", \"Default\", \"Default\", \"Default\", \"Default\", \"Default\", \"Default\", \"Default\", \"Default\", \"Default\", \"Default\", \"Default\", \"Default\", \"Default\", \"Default\", \"Default\", \"Default\", \"Default\", \"Default\", \"Default\", \"Default\", \"Default\", \"Topic1\", \"Topic1\", \"Topic1\", \"Topic1\", \"Topic1\", \"Topic1\", \"Topic1\", \"Topic1\", \"Topic1\", \"Topic1\", \"Topic1\", \"Topic1\", \"Topic1\", \"Topic1\", \"Topic1\", \"Topic1\", \"Topic1\", \"Topic1\", \"Topic1\", \"Topic1\", \"Topic1\", \"Topic1\", \"Topic1\", \"Topic1\", \"Topic1\", \"Topic1\", \"Topic1\", \"Topic1\", \"Topic1\", \"Topic1\", \"Topic1\", \"Topic1\", \"Topic1\", \"Topic1\", \"Topic1\", \"Topic1\", \"Topic1\", \"Topic1\", \"Topic1\", \"Topic1\", \"Topic1\", \"Topic1\", \"Topic1\", \"Topic1\", \"Topic1\", \"Topic1\", \"Topic1\", \"Topic1\", \"Topic1\", \"Topic1\", \"Topic1\", \"Topic1\", \"Topic1\", \"Topic1\", \"Topic1\", \"Topic1\", \"Topic1\", \"Topic1\", \"Topic1\", \"Topic1\", \"Topic1\", \"Topic1\", \"Topic1\", \"Topic1\", \"Topic1\", \"Topic1\", \"Topic1\", \"Topic1\", \"Topic1\", \"Topic1\", \"Topic1\", \"Topic1\", \"Topic1\", \"Topic1\", \"Topic1\", \"Topic1\", \"Topic1\", \"Topic2\", \"Topic2\", \"Topic2\", \"Topic2\", \"Topic2\", \"Topic2\", \"Topic2\", \"Topic2\", \"Topic2\", \"Topic2\", \"Topic2\", \"Topic2\", \"Topic2\", \"Topic2\", \"Topic2\", \"Topic2\", \"Topic2\", \"Topic2\", \"Topic2\", \"Topic2\", \"Topic2\", \"Topic2\", \"Topic2\", \"Topic2\", \"Topic2\", \"Topic2\", \"Topic2\", \"Topic2\", \"Topic2\", \"Topic2\", \"Topic2\", \"Topic2\", \"Topic2\", \"Topic2\", \"Topic2\", \"Topic2\", \"Topic2\", \"Topic2\", \"Topic2\", \"Topic2\", \"Topic2\", \"Topic2\", \"Topic2\", \"Topic2\", \"Topic2\", \"Topic2\", \"Topic2\", \"Topic2\", \"Topic2\", \"Topic2\", \"Topic2\", \"Topic2\", \"Topic2\", \"Topic2\", \"Topic2\", \"Topic2\", \"Topic2\", \"Topic2\", \"Topic2\", \"Topic2\", \"Topic2\", \"Topic2\", \"Topic2\", \"Topic2\", \"Topic2\", \"Topic2\", \"Topic2\", \"Topic2\", \"Topic2\", \"Topic2\", \"Topic2\", \"Topic2\", \"Topic2\", \"Topic2\", \"Topic2\", \"Topic2\", \"Topic2\", \"Topic2\"], \"logprob\": [30.0, 29.0, 28.0, 27.0, 26.0, 25.0, 24.0, 23.0, 22.0, 21.0, 20.0, 19.0, 18.0, 17.0, 16.0, 15.0, 14.0, 13.0, 12.0, 11.0, 10.0, 9.0, 8.0, 7.0, 6.0, 5.0, 4.0, 3.0, 2.0, 1.0, -6.093800067901611, -6.427299976348877, -6.700699806213379, -6.606900215148926, -6.706500053405762, -6.813899993896484, -5.796500205993652, -6.81820011138916, -7.0808000564575195, -7.082099914550781, -6.952700138092041, -6.9552998542785645, -7.2459001541137695, -7.246500015258789, -7.247700214385986, -7.097599983215332, -7.251999855041504, -7.252200126647949, -7.446700096130371, -7.446800231933594, -7.446800231933594, -7.446899890899658, -7.447000026702881, -7.447299957275391, -7.449100017547607, -7.450799942016602, -7.269599914550781, -7.115699768066406, -7.4552998542785645, -7.275700092315674, -6.242300033569336, -6.6905999183654785, -5.7779998779296875, -5.576399803161621, -5.610000133514404, -6.806399822235107, -6.725500106811523, -6.72599983215332, -6.2505998611450195, -6.918300151824951, -6.199399948120117, -6.216000080108643, -5.8460001945495605, -4.477399826049805, -5.592100143432617, -5.001699924468994, -5.935699939727783, -5.7906999588012695, -6.057499885559082, -4.665500164031982, -4.910399913787842, -5.804900169372559, -4.89109992980957, -4.8069000244140625, -6.007999897003174, -6.197500228881836, -5.9019999504089355, -4.852799892425537, -5.183499813079834, -5.923900127410889, -5.824699878692627, -5.877200126647949, -5.307700157165527, -5.46750020980835, -5.47629976272583, -5.589300155639648, -5.681000232696533, -5.447500228881836, -5.724699974060059, -5.751800060272217, -5.82390022277832, -5.706299781799316, -5.64769983291626, -5.657899856567383, -5.744500160217285, -5.743100166320801, -5.760200023651123, -6.311600208282471, -6.461599826812744, -6.4695000648498535, -6.779200077056885, -6.853600025177002, -6.942399978637695, -7.029600143432617, -7.128499984741211, -7.128900051116943, -7.133299827575684, -7.239500045776367, -7.241000175476074, -7.241300106048584, -6.1427998542785645, -6.731800079345703, -7.244200229644775, -7.246200084686279, -7.36460018157959, -7.2469000816345215, -7.364799976348877, -7.365499973297119, -7.365799903869629, -7.366199970245361, -5.981100082397461, -7.368800163269043, -7.373499870300293, -7.507599830627441, -7.507599830627441, -7.507699966430664, -7.507699966430664, -5.898799896240234, -6.969600200653076, -6.689499855041504, -6.4243998527526855, -6.575799942016602, -6.692599773406982, -6.4481000900268555, -6.18310022354126, -6.905700206756592, -6.60699987411499, -5.8358001708984375, -6.212100028991699, -5.824900150299072, -5.920899868011475, -6.52370023727417, -5.85230016708374, -5.636899948120117, -5.451099872589111, -5.619699954986572, -6.371300220489502, -5.250400066375732, -5.271200180053711, -5.442299842834473, -5.503900051116943, -4.785799980163574, -5.899600028991699, -5.105000019073486, -5.451600074768066, -5.223400115966797, -4.779799938201904, -5.4334001541137695, -5.762499809265137, -4.924900054931641, -5.899700164794922, -4.800300121307373, -5.087600231170654, -5.400300025939941, -5.41379976272583, -5.142300128936768, -5.565899848937988, -5.340199947357178, -5.7596001625061035, -5.76200008392334, -5.632800102233887, -5.505000114440918, -5.707200050354004, -5.6855998039245605, -5.730299949645996], \"loglift\": [30.0, 29.0, 28.0, 27.0, 26.0, 25.0, 24.0, 23.0, 22.0, 21.0, 20.0, 19.0, 18.0, 17.0, 16.0, 15.0, 14.0, 13.0, 12.0, 11.0, 10.0, 9.0, 8.0, 7.0, 6.0, 5.0, 4.0, 3.0, 2.0, 1.0, 0.920799970626831, 0.9124000072479248, 0.9009000062942505, 0.899399995803833, 0.8949000239372253, 0.892799973487854, 0.8884000182151794, 0.8884000182151794, 0.8766000270843506, 0.8752999901771545, 0.8709999918937683, 0.8683000206947327, 0.8652999997138977, 0.8647000193595886, 0.8633999824523926, 0.8592000007629395, 0.8589000105857849, 0.8586999773979187, 0.8460999727249146, 0.8460000157356262, 0.8460000157356262, 0.8458999991416931, 0.84579998254776, 0.8454999923706055, 0.8435999751091003, 0.8418999910354614, 0.8407999873161316, 0.840499997138977, 0.8371999859809875, 0.8345000147819519, 0.8259000182151794, 0.8125, 0.7534999847412109, 0.7099999785423279, 0.7037000060081482, 0.7912999987602234, 0.7763000130653381, 0.7757999897003174, 0.7020999789237976, 0.784500002861023, 0.6516000032424927, 0.6345000267028809, 0.5501000285148621, 0.18619999289512634, 0.44749999046325684, 0.27900001406669617, 0.5220999717712402, 0.461899995803833, 0.5389999747276306, 0.06880000233650208, 0.1362999975681305, 0.4474000036716461, 0.11630000174045563, 0.07100000232458115, 0.4814999997615814, 0.5598999857902527, 0.43209999799728394, -0.04170000180602074, 0.09350000321865082, 0.4097000062465668, 0.3492000102996826, 0.3465999960899353, -0.12950000166893005, -0.04190000146627426, -0.039000000804662704, 0.05820000171661377, 0.14169999957084656, -0.14380000531673431, 0.11490000039339066, 0.14239999651908875, 0.21040000021457672, -0.045899998396635056, -0.24789999425411224, -0.26980000734329224, -0.023099999874830246, -0.11270000040531158, -0.2134999930858612, 0.4625999927520752, 0.4593000113964081, 0.45170000195503235, 0.44760000705718994, 0.447299987077713, 0.4388999938964844, 0.43880000710487366, 0.43529999256134033, 0.4348999857902527, 0.4307999908924103, 0.4300000071525574, 0.4284999966621399, 0.42820000648498535, 0.42809998989105225, 0.4268999993801117, 0.4253999888896942, 0.4235000014305115, 0.42289999127388, 0.4228000044822693, 0.4226999878883362, 0.421999990940094, 0.42179998755455017, 0.4214000105857849, 0.42010000348091125, 0.4189000129699707, 0.41440001130104065, 0.4138000011444092, 0.4138000011444092, 0.4138000011444092, 0.4138000011444092, 0.413100004196167, 0.41280001401901245, 0.40560001134872437, 0.39890000224113464, 0.4016000032424927, 0.4025000035762787, 0.37610000371932983, 0.35420000553131104, 0.39730000495910645, 0.3716000020503998, 0.29809999465942383, 0.3262999951839447, 0.2858999967575073, 0.2874999940395355, 0.35030001401901245, 0.25940001010894775, 0.2296999990940094, 0.1898999959230423, 0.21170000731945038, 0.321399986743927, 0.13770000636577606, 0.12849999964237213, 0.15719999372959137, 0.1673000007867813, 0.025200000032782555, 0.23639999330043793, 0.0731000006198883, 0.1348000019788742, 0.08030000329017639, -0.045499999076128006, 0.11339999735355377, 0.181099995970726, -0.04699999839067459, 0.2134999930858612, -0.13670000433921814, -0.08020000159740448, 0.025299999862909317, 0.023600000888109207, -0.09560000151395798, 0.06449999660253525, -0.06319999694824219, 0.14659999310970306, 0.14429999887943268, 0.02759999968111515, -0.22429999709129333, 0.014100000262260437, -0.038100000470876694, 0.03840000182390213]}, \"token.table\": {\"Topic\": [2, 1, 1, 2, 2, 1, 2, 1, 2, 2, 1, 2, 1, 2, 1, 2, 1, 2, 1, 1, 2, 1, 2, 1, 2, 1, 1, 2, 1, 2, 1, 2, 2, 1, 2, 1, 2, 1, 2, 1, 2, 1, 2, 2, 1, 2, 2, 1, 2, 2, 1, 2, 1, 2, 1, 2, 1, 2, 1, 2, 1, 2, 1, 2, 2, 1, 2, 1, 2, 1, 1, 1, 2, 1, 2, 1, 2, 1, 2, 1, 2, 1, 2, 1, 2, 1, 2, 1, 2, 2, 1, 2, 1, 1, 2, 1, 2, 1, 2, 1, 2, 1, 2, 1, 2, 1, 2, 2, 1, 2, 1, 2, 1, 2, 1, 2, 1, 2, 1, 1, 2, 1, 1, 1, 2, 2, 1, 1, 2, 1, 2, 1, 2, 1, 2, 1, 2, 1, 1, 2, 2, 1, 2, 1, 2, 1, 2, 1, 1, 2, 1, 2, 1, 2, 2, 1, 2, 1, 2, 1, 2, 1, 2, 1, 2, 1, 2, 1, 2, 1, 2, 1, 2, 1, 2, 1, 2, 1, 2, 2, 1, 2, 1, 2, 2, 1, 2, 1, 1, 1, 2, 1, 2, 1, 2, 2, 1, 1, 2, 1, 2, 1, 2, 1, 2, 1, 2, 2, 1, 2, 1, 2, 2, 2, 1, 2, 1, 2, 2, 1, 2, 2, 2, 1, 2, 1, 2], \"Freq\": [0.9883906841278076, 0.9606424570083618, 0.6948069930076599, 0.34740349650382996, 0.9736207723617554, 0.7630472779273987, 0.2725169062614441, 0.3363805413246155, 0.672761082649231, 1.0005314350128174, 0.7081677913665771, 0.2723722457885742, 0.41787630319595337, 0.575991690158844, 0.15963029861450195, 0.8247565627098083, 0.2902790307998657, 0.7067663073539734, 0.9217778444290161, 0.4396110773086548, 0.565214216709137, 0.8804032802581787, 0.13544665277004242, 0.607476532459259, 0.3796728253364563, 0.8976991176605225, 0.9231705665588379, 0.046158529818058014, 0.48167112469673157, 0.5298382639884949, 0.3645472526550293, 0.6296725273132324, 0.95375657081604, 0.864955484867096, 0.1441592425107956, 0.40895187854766846, 0.5888907313346863, 0.80499267578125, 0.114998959004879, 0.3105984926223755, 0.6951490044593811, 0.8315373659133911, 0.19798508286476135, 0.9733101725578308, 0.5847153663635254, 0.42229440808296204, 0.973253071308136, 0.041183046996593475, 0.9472101330757141, 0.9887012243270874, 0.13956567645072937, 0.8373940587043762, 0.7843835353851318, 0.24134878814220428, 0.864882230758667, 0.14414703845977783, 0.9445903301239014, 0.10495448112487793, 0.18198257684707642, 0.831920325756073, 0.08564578741788864, 0.9421036243438721, 0.5989488363265991, 0.38931673765182495, 0.952358603477478, 0.11948032677173615, 0.8761890530586243, 0.26004692912101746, 0.7476349472999573, 0.923629879951477, 0.96083003282547, 0.9598975777626038, 0.1919795125722885, 0.9217751026153564, 0.9884681105613708, 0.2680000960826874, 0.7202503085136414, 0.9234409928321838, 0.11543012410402298, 0.40914520621299744, 0.590987503528595, 0.3698592782020569, 0.6164321303367615, 0.43955036997795105, 0.5561657547950745, 0.296633780002594, 0.7203963398933411, 0.06951771676540375, 0.9384891390800476, 0.9885973334312439, 0.23593203723430634, 0.7667791247367859, 0.9217787384986877, 0.822880744934082, 0.16457614302635193, 0.9217090606689453, 0.973242461681366, 0.9881153702735901, 0.16468589007854462, 0.06956250965595245, 0.9043126702308655, 0.5538099408149719, 0.44304797053337097, 0.06184273585677147, 0.9276410341262817, 0.09272513538599014, 0.927251398563385, 0.9886815547943115, 0.7642681002616882, 0.2229115217924118, 0.3685242533683777, 0.6307434439659119, 0.3693309724330902, 0.6463292241096497, 0.22400376200675964, 0.7738311290740967, 0.9215087890625, 0.9537540674209595, 0.92177814245224, 0.2966543436050415, 0.7204462885856628, 0.9886680841445923, 0.9217696189880371, 0.46476781368255615, 0.5381522178649902, 0.9734174013137817, 0.9216665625572205, 0.37121304869651794, 0.6363652348518372, 0.431242436170578, 0.5692400336265564, 0.6620803475379944, 0.36782240867614746, 0.06357719004154205, 0.9218692779541016, 0.2923806607723236, 0.7078689336776733, 0.9887111186981201, 0.05846669152379036, 0.9939337372779846, 0.9537550806999207, 0.5530693531036377, 0.46574264764785767, 0.3376079797744751, 0.6649854183197021, 0.07413636147975922, 0.9637726545333862, 0.9606481790542603, 0.33769404888153076, 0.6593074202537537, 0.8975579738616943, 0.12822256982326508, 0.4360829293727875, 0.5748366117477417, 0.940156102180481, 0.293658584356308, 0.702226996421814, 0.15947267413139343, 0.8372315764427185, 0.17197483777999878, 0.8312117457389832, 0.2806493043899536, 0.7172148823738098, 0.8942147493362427, 0.12774495780467987, 0.5850370526313782, 0.4225267767906189, 0.3668796420097351, 0.6289365291595459, 0.6053162217140198, 0.38740238547325134, 0.41348958015441895, 0.5906994342803955, 0.8358749151229858, 0.20896872878074646, 0.2132919281721115, 0.773183286190033, 0.9600464701652527, 0.19200929999351501, 0.9262634515762329, 0.8369499444961548, 0.10461874306201935, 0.5991703867912292, 0.3894607722759247, 0.9732897877693176, 0.1061190664768219, 0.9020121097564697, 0.9607934951782227, 0.9773467779159546, 0.9628404974937439, 0.0641893669962883, 0.12383037060499191, 0.8668125867843628, 0.9608498215675354, 0.9884580969810486, 0.9589285850524902, 0.9217614531517029, 0.23454990983009338, 0.7557719349861145, 0.6760219931602478, 0.3380109965801239, 0.2639476954936981, 0.7478518486022949, 0.6570092439651489, 0.34579434990882874, 0.20817026495933533, 0.8066597580909729, 0.9537553191184998, 0.4482663869857788, 0.565205454826355, 0.7747541666030884, 0.21693117916584015, 0.9094218015670776, 1.0007206201553345, 0.06957026571035385, 0.9044134616851807, 0.5100780725479126, 0.48740795254707336, 0.9732849597930908, 0.10602591186761856, 0.9012202620506287, 0.9936028718948364, 1.0005117654800415, 0.8358896970748901, 0.20897242426872253, 0.11153531074523926, 0.8922824859619141], \"Term\": [\"acceder\", \"alcoholicas\", \"alimentos\", \"alimentos\", \"alquileres\", \"aquellos\", \"aquellos\", \"argentina\", \"argentina\", \"arriba\", \"aumentaron\", \"aumentaron\", \"aumento\", \"aumento\", \"aun\", \"aun\", \"banco\", \"banco\", \"barato\", \"bcra\", \"bcra\", \"bebidas\", \"bebidas\", \"bienes\", \"bienes\", \"billete\", \"billetes\", \"billetes\", \"brecha\", \"brecha\", \"cada\", \"cada\", \"calmar\", \"calzado\", \"calzado\", \"cambio\", \"cambio\", \"casa\", \"casa\", \"central\", \"central\", \"cerro\", \"cerro\", \"cierta\", \"comportamiento\", \"comportamiento\", \"concepto\", \"confianza\", \"confianza\", \"consultora\", \"contexto\", \"contexto\", \"control\", \"control\", \"convertibilidad\", \"convertibilidad\", \"creciente\", \"creciente\", \"cuenta\", \"cuenta\", \"cuentas\", \"cuentas\", \"dato\", \"dato\", \"datos\", \"deficit\", \"deficit\", \"demanda\", \"demanda\", \"denominacion\", \"depresion\", \"desorden\", \"desorden\", \"diferencias\", \"dijo\", \"dinero\", \"dinero\", \"distorsion\", \"distorsion\", \"dolar\", \"dolar\", \"dolares\", \"dolares\", \"economia\", \"economia\", \"economica\", \"economica\", \"economico\", \"economico\", \"economicos\", \"emision\", \"emision\", \"equipamiento\", \"especulacion\", \"especulacion\", \"establece\", \"exportaciones\", \"fines\", \"fines\", \"forma\", \"forma\", \"fuerte\", \"fuerte\", \"ganancias\", \"ganancias\", \"gasto\", \"gasto\", \"gba\", \"general\", \"general\", \"gobierno\", \"gobierno\", \"gran\", \"gran\", \"guzman\", \"guzman\", \"habian\", \"hablando\", \"hogar\", \"hoy\", \"hoy\", \"idea\", \"incentivo\", \"inflacion\", \"inflacion\", \"inicial\", \"inmediato\", \"medidas\", \"medidas\", \"mercado\", \"mercado\", \"mercados\", \"mercados\", \"meses\", \"meses\", \"millones\", \"millones\", \"minima\", \"minimo\", \"minimo\", \"moderna\", \"moneda\", \"moneda\", \"monetaria\", \"monetaria\", \"monto\", \"monto\", \"naturaleza\", \"nivel\", \"nivel\", \"nucleo\", \"nucleo\", \"oficial\", \"oficial\", \"pago\", \"pais\", \"pais\", \"pandemia\", \"pandemia\", \"parece\", \"parece\", \"parte\", \"parte\", \"pasivos\", \"pasivos\", \"peso\", \"peso\", \"pesos\", \"pesos\", \"politica\", \"politica\", \"precios\", \"precios\", \"prendas\", \"prendas\", \"presidente\", \"presidente\", \"pretender\", \"pretender\", \"primeros\", \"proceso\", \"proceso\", \"promedio\", \"promedio\", \"proyecto\", \"publico\", \"publico\", \"pueda\", \"region\", \"regulados\", \"regulados\", \"resultado\", \"resultado\", \"rulo\", \"salarial\", \"salario\", \"salud\", \"sector\", \"sector\", \"septiembre\", \"septiembre\", \"ser\", \"ser\", \"servicios\", \"servicios\", \"solo\", \"solo\", \"subir\", \"tambien\", \"tambien\", \"tasa\", \"tasa\", \"tendra\", \"teoria\", \"tesoro\", \"tesoro\", \"tipo\", \"tipo\", \"trabajadores\", \"ultimo\", \"ultimo\", \"usd\", \"van\", \"vestir\", \"vestir\", \"viene\", \"viene\"]}, \"R\": 30, \"lambda.step\": 0.01, \"plot.opts\": {\"xlab\": \"PC1\", \"ylab\": \"PC2\"}, \"topic.order\": [1, 2]};\n",
       "\n",
       "function LDAvis_load_lib(url, callback){\n",
       "  var s = document.createElement('script');\n",
       "  s.src = url;\n",
       "  s.async = true;\n",
       "  s.onreadystatechange = s.onload = callback;\n",
       "  s.onerror = function(){console.warn(\"failed to load library \" + url);};\n",
       "  document.getElementsByTagName(\"head\")[0].appendChild(s);\n",
       "}\n",
       "\n",
       "if(typeof(LDAvis) !== \"undefined\"){\n",
       "   // already loaded: just create the visualization\n",
       "   !function(LDAvis){\n",
       "       new LDAvis(\"#\" + \"ldavis_el113281401454421669924840298464\", ldavis_el113281401454421669924840298464_data);\n",
       "   }(LDAvis);\n",
       "}else if(typeof define === \"function\" && define.amd){\n",
       "   // require.js is available: use it to load d3/LDAvis\n",
       "   require.config({paths: {d3: \"https://cdnjs.cloudflare.com/ajax/libs/d3/3.5.5/d3.min\"}});\n",
       "   require([\"d3\"], function(d3){\n",
       "      window.d3 = d3;\n",
       "      LDAvis_load_lib(\"https://cdn.rawgit.com/bmabey/pyLDAvis/files/ldavis.v1.0.0.js\", function(){\n",
       "        new LDAvis(\"#\" + \"ldavis_el113281401454421669924840298464\", ldavis_el113281401454421669924840298464_data);\n",
       "      });\n",
       "    });\n",
       "}else{\n",
       "    // require.js not available: dynamically load d3 & LDAvis\n",
       "    LDAvis_load_lib(\"https://cdnjs.cloudflare.com/ajax/libs/d3/3.5.5/d3.min.js\", function(){\n",
       "         LDAvis_load_lib(\"https://cdn.rawgit.com/bmabey/pyLDAvis/files/ldavis.v1.0.0.js\", function(){\n",
       "                 new LDAvis(\"#\" + \"ldavis_el113281401454421669924840298464\", ldavis_el113281401454421669924840298464_data);\n",
       "            })\n",
       "         });\n",
       "}\n",
       "</script>"
      ],
      "text/plain": [
       "<IPython.core.display.HTML object>"
      ]
     },
     "execution_count": 28,
     "metadata": {},
     "output_type": "execute_result"
    }
   ],
   "source": [
    "lda_display = pyLDAvis.gensim.prepare(lda_der, corpus_der, dictionary_der, sort_topics=False)\n",
    "pyLDAvis.display(lda_display)"
   ]
  },
  {
   "cell_type": "markdown",
   "metadata": {},
   "source": [
    "### Filtering by tags"
   ]
  },
  {
   "cell_type": "code",
   "execution_count": 29,
   "metadata": {},
   "outputs": [
    {
     "name": "stderr",
     "output_type": "stream",
     "text": [
      "/home/guido/anaconda3/envs/dh/lib/python3.7/site-packages/ipykernel/ipkernel.py:287: DeprecationWarning: `should_run_async` will not call `transform_cell` automatically in the future. Please pass the result to `transformed_cell` argument and any exception that happen during thetransform in `preprocessing_exc_tuple` in IPython 7.17 and above.\n",
      "  and should_run_async(code)\n"
     ]
    }
   ],
   "source": [
    "import nltk"
   ]
  },
  {
   "cell_type": "code",
   "execution_count": 30,
   "metadata": {},
   "outputs": [
    {
     "name": "stderr",
     "output_type": "stream",
     "text": [
      "/home/guido/anaconda3/envs/dh/lib/python3.7/site-packages/ipykernel/ipkernel.py:287: DeprecationWarning: `should_run_async` will not call `transform_cell` automatically in the future. Please pass the result to `transformed_cell` argument and any exception that happen during thetransform in `preprocessing_exc_tuple` in IPython 7.17 and above.\n",
      "  and should_run_async(code)\n"
     ]
    },
    {
     "data": {
      "text/plain": [
       "[('inflacion', 'NN'),\n",
       " ('detiene', 'NN'),\n",
       " ('mayoria', 'NN'),\n",
       " ('familias', 'NN'),\n",
       " ('presenta', 'NN'),\n",
       " ('dificil', 'NN'),\n",
       " ('afrontar', 'NN'),\n",
       " ('indice', 'NN'),\n",
       " ('precios', 'NNS'),\n",
       " ('mayoristas', 'NNS')]"
      ]
     },
     "execution_count": 30,
     "metadata": {},
     "output_type": "execute_result"
    }
   ],
   "source": [
    "# tag is not accurate\n",
    "nltk.pos_tag(tokens_izq[0][:10])"
   ]
  },
  {
   "cell_type": "code",
   "execution_count": 31,
   "metadata": {},
   "outputs": [
    {
     "name": "stderr",
     "output_type": "stream",
     "text": [
      "/home/guido/anaconda3/envs/dh/lib/python3.7/site-packages/ipykernel/ipkernel.py:287: DeprecationWarning: `should_run_async` will not call `transform_cell` automatically in the future. Please pass the result to `transformed_cell` argument and any exception that happen during thetransform in `preprocessing_exc_tuple` in IPython 7.17 and above.\n",
      "  and should_run_async(code)\n"
     ]
    },
    {
     "name": "stdout",
     "output_type": "stream",
     "text": [
      "[polyglot_data] Downloading package embeddings2.es to\n",
      "[polyglot_data]     /home/guido/polyglot_data...\n",
      "[polyglot_data]   Package embeddings2.es is already up-to-date!\n",
      "[polyglot_data] Downloading package pos2.es to\n",
      "[polyglot_data]     /home/guido/polyglot_data...\n",
      "[polyglot_data]   Package pos2.es is already up-to-date!\n"
     ]
    }
   ],
   "source": [
    "from polyglot.text import Text\n",
    "!polyglot download embeddings2.es pos2.es"
   ]
  },
  {
   "cell_type": "code",
   "execution_count": 32,
   "metadata": {},
   "outputs": [
    {
     "name": "stderr",
     "output_type": "stream",
     "text": [
      "/home/guido/anaconda3/envs/dh/lib/python3.7/site-packages/ipykernel/ipkernel.py:287: DeprecationWarning: `should_run_async` will not call `transform_cell` automatically in the future. Please pass the result to `transformed_cell` argument and any exception that happen during thetransform in `preprocessing_exc_tuple` in IPython 7.17 and above.\n",
      "  and should_run_async(code)\n"
     ]
    }
   ],
   "source": [
    "def noun_only(tokens):\n",
    "    nouns = []\n",
    "    for token in tokens:\n",
    "        word_t = Text(token, hint_language_code='es')\n",
    "        if word_t.pos_tags[0][1] == 'NOUN':\n",
    "            nouns.append(word_t.pos_tags[0][0])\n",
    "    return nouns"
   ]
  },
  {
   "cell_type": "code",
   "execution_count": 33,
   "metadata": {},
   "outputs": [
    {
     "name": "stderr",
     "output_type": "stream",
     "text": [
      "/home/guido/anaconda3/envs/dh/lib/python3.7/site-packages/ipykernel/ipkernel.py:287: DeprecationWarning: `should_run_async` will not call `transform_cell` automatically in the future. Please pass the result to `transformed_cell` argument and any exception that happen during thetransform in `preprocessing_exc_tuple` in IPython 7.17 and above.\n",
      "  and should_run_async(code)\n"
     ]
    }
   ],
   "source": [
    "tokens_nouns_izq = [noun_only(token) for token in tokens_izq]\n",
    "tokens_nouns_der = [noun_only(token) for token in tokens_der]"
   ]
  },
  {
   "cell_type": "markdown",
   "metadata": {},
   "source": [
    "### New Noun Dictionary + LDA"
   ]
  },
  {
   "cell_type": "code",
   "execution_count": 34,
   "metadata": {},
   "outputs": [
    {
     "name": "stderr",
     "output_type": "stream",
     "text": [
      "/home/guido/anaconda3/envs/dh/lib/python3.7/site-packages/ipykernel/ipkernel.py:287: DeprecationWarning: `should_run_async` will not call `transform_cell` automatically in the future. Please pass the result to `transformed_cell` argument and any exception that happen during thetransform in `preprocessing_exc_tuple` in IPython 7.17 and above.\n",
      "  and should_run_async(code)\n"
     ]
    }
   ],
   "source": [
    "# tokens input\n",
    "dictionary_izq = Dictionary(tokens_nouns_izq)\n",
    "dictionary_izq.filter_extremes(no_below=2, no_above=0.97, keep_n=None)\n",
    "\n",
    "# convert each document into the gensim bag-of-words\n",
    "corpus_izq = [dictionary_izq.doc2bow(text) for text in tokens_nouns_izq]"
   ]
  },
  {
   "cell_type": "code",
   "execution_count": 35,
   "metadata": {},
   "outputs": [
    {
     "name": "stderr",
     "output_type": "stream",
     "text": [
      "/home/guido/anaconda3/envs/dh/lib/python3.7/site-packages/ipykernel/ipkernel.py:287: DeprecationWarning: `should_run_async` will not call `transform_cell` automatically in the future. Please pass the result to `transformed_cell` argument and any exception that happen during thetransform in `preprocessing_exc_tuple` in IPython 7.17 and above.\n",
      "  and should_run_async(code)\n"
     ]
    }
   ],
   "source": [
    "# tokens input\n",
    "dictionary_der = Dictionary(tokens_nouns_der)\n",
    "dictionary_der.filter_extremes(no_below=2, no_above=0.97, keep_n=None)\n",
    "\n",
    "# convert each document into the gensim bag-of-words\n",
    "corpus_der = [dictionary_der.doc2bow(text) for text in tokens_nouns_der]"
   ]
  },
  {
   "cell_type": "markdown",
   "metadata": {},
   "source": [
    "Izquierda Diario"
   ]
  },
  {
   "cell_type": "code",
   "execution_count": 36,
   "metadata": {},
   "outputs": [
    {
     "name": "stderr",
     "output_type": "stream",
     "text": [
      "/home/guido/anaconda3/envs/dh/lib/python3.7/site-packages/ipykernel/ipkernel.py:287: DeprecationWarning: `should_run_async` will not call `transform_cell` automatically in the future. Please pass the result to `transformed_cell` argument and any exception that happen during thetransform in `preprocessing_exc_tuple` in IPython 7.17 and above.\n",
      "  and should_run_async(code)\n"
     ]
    }
   ],
   "source": [
    "id_word_izq = dict((v, k) for k, v in dictionary_izq.token2id.items())"
   ]
  },
  {
   "cell_type": "code",
   "execution_count": 37,
   "metadata": {},
   "outputs": [
    {
     "name": "stderr",
     "output_type": "stream",
     "text": [
      "/home/guido/anaconda3/envs/dh/lib/python3.7/site-packages/ipykernel/ipkernel.py:287: DeprecationWarning: `should_run_async` will not call `transform_cell` automatically in the future. Please pass the result to `transformed_cell` argument and any exception that happen during thetransform in `preprocessing_exc_tuple` in IPython 7.17 and above.\n",
      "  and should_run_async(code)\n"
     ]
    }
   ],
   "source": [
    "lda_izq = models.LdaModel(corpus=corpus_izq, id2word=id_word_izq, num_topics=2, passes=20, random_state= 30)"
   ]
  },
  {
   "cell_type": "code",
   "execution_count": 38,
   "metadata": {},
   "outputs": [
    {
     "name": "stderr",
     "output_type": "stream",
     "text": [
      "/home/guido/anaconda3/envs/dh/lib/python3.7/site-packages/ipykernel/ipkernel.py:287: DeprecationWarning: `should_run_async` will not call `transform_cell` automatically in the future. Please pass the result to `transformed_cell` argument and any exception that happen during thetransform in `preprocessing_exc_tuple` in IPython 7.17 and above.\n",
      "  and should_run_async(code)\n"
     ]
    },
    {
     "data": {
      "text/plain": [
       "[(0,\n",
       "  '0.038*\"banco\" + 0.032*\"deuda\" + 0.030*\"gobierno\" + 0.029*\"bonos\" + 0.025*\"economia\" + 0.023*\"medidas\" + 0.020*\"brecha\" + 0.018*\"mercado\" + 0.018*\"tipo\" + 0.015*\"presion\"'),\n",
       " (1,\n",
       "  '0.064*\"precios\" + 0.030*\"alimentos\" + 0.028*\"productos\" + 0.028*\"salarios\" + 0.023*\"incremento\" + 0.021*\"aumentos\" + 0.018*\"gobierno\" + 0.017*\"bebidas\" + 0.017*\"meses\" + 0.016*\"ingresos\"')]"
      ]
     },
     "execution_count": 38,
     "metadata": {},
     "output_type": "execute_result"
    }
   ],
   "source": [
    "lda_izq.print_topics()"
   ]
  },
  {
   "cell_type": "code",
   "execution_count": 39,
   "metadata": {},
   "outputs": [
    {
     "name": "stderr",
     "output_type": "stream",
     "text": [
      "/home/guido/anaconda3/envs/dh/lib/python3.7/site-packages/ipykernel/ipkernel.py:287: DeprecationWarning: `should_run_async` will not call `transform_cell` automatically in the future. Please pass the result to `transformed_cell` argument and any exception that happen during thetransform in `preprocessing_exc_tuple` in IPython 7.17 and above.\n",
      "  and should_run_async(code)\n"
     ]
    },
    {
     "data": {
      "text/html": [
       "\n",
       "<link rel=\"stylesheet\" type=\"text/css\" href=\"https://cdn.rawgit.com/bmabey/pyLDAvis/files/ldavis.v1.0.0.css\">\n",
       "\n",
       "\n",
       "<div id=\"ldavis_el113281401451348777764467291739\"></div>\n",
       "<script type=\"text/javascript\">\n",
       "\n",
       "var ldavis_el113281401451348777764467291739_data = {\"mdsDat\": {\"x\": [0.15096944570541382, -0.15096944570541382], \"y\": [0.0, 0.0], \"topics\": [1, 2], \"cluster\": [1, 1], \"Freq\": [38.82657241821289, 61.17341995239258]}, \"tinfo\": {\"Term\": [\"precios\", \"banco\", \"bonos\", \"deuda\", \"alimentos\", \"brecha\", \"salarios\", \"economia\", \"medidas\", \"aumentos\", \"productos\", \"presion\", \"bono\", \"reservas\", \"bebidas\", \"mercado\", \"fuga\", \"capitales\", \"mercados\", \"tipo\", \"indice\", \"billete\", \"bolsa\", \"semana\", \"ministro\", \"cotizaciones\", \"salario\", \"retenciones\", \"gobierno\", \"segmento\", \"bonos\", \"bono\", \"reservas\", \"fuga\", \"capitales\", \"presion\", \"mercados\", \"billete\", \"cotizaciones\", \"segmento\", \"bolsa\", \"centavos\", \"bancos\", \"brecha\", \"ministro\", \"retenciones\", \"plazo\", \"divisas\", \"banco\", \"tasas\", \"titulos\", \"fondos\", \"exportadores\", \"deuda\", \"exportaciones\", \"cambios\", \"tasa\", \"pagos\", \"endeudamiento\", \"subasta\", \"medidas\", \"economia\", \"valor\", \"mercado\", \"semana\", \"tipo\", \"gobierno\", \"ganancias\", \"medida\", \"pais\", \"restricciones\", \"crisis\", \"empresas\", \"ministerio\", \"incremento\", \"alimentos\", \"aumentos\", \"bebidas\", \"indice\", \"precios\", \"salario\", \"registro\", \"salarios\", \"familias\", \"rubros\", \"familia\", \"nivel\", \"productos\", \"transporte\", \"rubro\", \"provincia\", \"relevamiento\", \"periodo\", \"tarifas\", \"ciudad\", \"trabajo\", \"indumentaria\", \"costos\", \"aires\", \"hogar\", \"vida\", \"linea\", \"junta\", \"servicios\", \"producto\", \"pandemia\", \"meses\", \"ingresos\", \"construccion\", \"caso\", \"relacion\", \"respecto\", \"incremento\", \"costo\", \"golpe\", \"sector\", \"precio\", \"organismo\", \"poder\", \"informe\", \"gobierno\", \"empresas\", \"datos\", \"crisis\"], \"Freq\": [99.0, 39.0, 28.0, 33.0, 46.0, 20.0, 43.0, 31.0, 27.0, 32.0, 45.0, 15.0, 13.0, 12.0, 27.0, 22.0, 11.0, 11.0, 11.0, 23.0, 22.0, 10.0, 10.0, 17.0, 10.0, 9.0, 20.0, 9.0, 56.0, 8.0, 28.072723388671875, 13.387470245361328, 12.522262573242188, 10.7960844039917, 10.794455528259277, 14.92918872833252, 10.776229858398438, 9.931038856506348, 9.06675910949707, 8.20524787902832, 9.841651916503906, 7.342730522155762, 7.341141223907471, 19.55301284790039, 9.73648738861084, 8.922988891601562, 6.47797155380249, 6.475526332855225, 37.034114837646484, 5.614348888397217, 5.613481521606445, 7.970687389373779, 5.547877788543701, 30.901660919189453, 5.543273448944092, 4.750229835510254, 4.74974250793457, 4.749729156494141, 4.749082088470459, 4.747337818145752, 22.404539108276367, 24.715723037719727, 9.630005836486816, 17.569307327270508, 13.611224174499512, 17.230018615722656, 29.49126434326172, 9.148200035095215, 7.15962553024292, 11.488266944885254, 7.599266529083252, 9.601978302001953, 8.057425498962402, 7.581993579864502, 8.196344375610352, 45.76150131225586, 32.18330383300781, 26.739347457885742, 22.21894645690918, 97.62625122070312, 20.383764266967773, 18.580121994018555, 42.438499450683594, 14.934650421142578, 14.048599243164062, 19.290647506713867, 12.22917366027832, 43.396236419677734, 10.406189918518066, 9.519457817077637, 9.474385261535645, 8.609177589416504, 8.60734748840332, 8.6054105758667, 7.704428195953369, 7.69133186340332, 7.670024871826172, 6.800887107849121, 6.798011779785156, 6.7954020500183105, 6.792975425720215, 7.603198051452637, 6.756167411804199, 13.489895820617676, 5.895549774169922, 9.249134063720703, 26.28776741027832, 23.84282875061035, 11.491545677185059, 13.770679473876953, 11.378742218017578, 21.455419540405273, 34.94557189941406, 19.474098205566406, 12.008794784545898, 18.606395721435547, 17.634244918823242, 12.23246955871582, 14.952411651611328, 13.094401359558105, 27.099529266357422, 15.129358291625977, 12.07080078125, 13.507268905639648], \"Total\": [99.0, 39.0, 28.0, 33.0, 46.0, 20.0, 43.0, 31.0, 27.0, 32.0, 45.0, 15.0, 13.0, 12.0, 27.0, 22.0, 11.0, 11.0, 11.0, 23.0, 22.0, 10.0, 10.0, 17.0, 10.0, 9.0, 20.0, 9.0, 56.0, 8.0, 28.533767700195312, 13.845710754394531, 12.981778144836426, 11.253695487976074, 11.253778457641602, 15.582987785339355, 11.254678726196289, 10.389750480651855, 9.525768280029297, 8.661651611328125, 10.394185066223145, 7.79758358001709, 7.79766321182251, 20.79497718811035, 10.399405479431152, 9.53291130065918, 6.9336256980896, 6.933747291564941, 39.8795166015625, 6.069612503051758, 6.069655418395996, 8.673295021057129, 6.0728840827941895, 33.8358039855957, 6.073115348815918, 5.205621242523193, 5.2056474685668945, 5.205647945404053, 5.2056803703308105, 5.205763339996338, 27.9107608795166, 31.42422103881836, 11.312058448791504, 22.709293365478516, 17.46376609802246, 23.63367462158203, 56.59079360961914, 12.243608474731445, 8.713983535766602, 18.47771453857422, 10.506634712219238, 23.1092472076416, 23.186782836914062, 11.414865493774414, 43.14191436767578, 46.25101852416992, 32.64203643798828, 27.197845458984375, 22.661792755126953, 99.7058334350586, 20.8460750579834, 19.031869888305664, 43.50014114379883, 15.401630401611328, 14.495278358459473, 19.9298152923584, 12.68031120300293, 45.273860931396484, 10.86518669128418, 9.958807945251465, 9.956649780273438, 9.051301002502441, 9.051214218139648, 9.051115989685059, 8.144058227539062, 8.143428802490234, 8.142407417297363, 7.236874103546143, 7.236734390258789, 7.23660945892334, 7.236494541168213, 8.139204978942871, 7.234726905822754, 14.468523025512695, 6.3296051025390625, 9.945818901062012, 28.90415382385254, 26.195293426513672, 12.644960403442383, 15.345897674560547, 12.639571189880371, 25.2171688079834, 43.14191436767578, 23.394466400146484, 13.533681869506836, 22.488996505737305, 22.442527770996094, 14.408363342285156, 18.85835075378418, 16.17755699157715, 56.59079360961914, 23.186782836914062, 15.264629364013672, 23.1092472076416], \"Category\": [\"Default\", \"Default\", \"Default\", \"Default\", \"Default\", \"Default\", \"Default\", \"Default\", \"Default\", \"Default\", \"Default\", \"Default\", \"Default\", \"Default\", \"Default\", \"Default\", \"Default\", \"Default\", \"Default\", \"Default\", \"Default\", \"Default\", \"Default\", \"Default\", \"Default\", \"Default\", \"Default\", \"Default\", \"Default\", \"Default\", \"Topic1\", \"Topic1\", \"Topic1\", \"Topic1\", \"Topic1\", \"Topic1\", \"Topic1\", \"Topic1\", \"Topic1\", \"Topic1\", \"Topic1\", \"Topic1\", \"Topic1\", \"Topic1\", \"Topic1\", \"Topic1\", \"Topic1\", \"Topic1\", \"Topic1\", \"Topic1\", \"Topic1\", \"Topic1\", \"Topic1\", \"Topic1\", \"Topic1\", \"Topic1\", \"Topic1\", \"Topic1\", \"Topic1\", \"Topic1\", \"Topic1\", \"Topic1\", \"Topic1\", \"Topic1\", \"Topic1\", \"Topic1\", \"Topic1\", \"Topic1\", \"Topic1\", \"Topic1\", \"Topic1\", \"Topic1\", \"Topic1\", \"Topic1\", \"Topic1\", \"Topic2\", \"Topic2\", \"Topic2\", \"Topic2\", \"Topic2\", \"Topic2\", \"Topic2\", \"Topic2\", \"Topic2\", \"Topic2\", \"Topic2\", \"Topic2\", \"Topic2\", \"Topic2\", \"Topic2\", \"Topic2\", \"Topic2\", \"Topic2\", \"Topic2\", \"Topic2\", \"Topic2\", \"Topic2\", \"Topic2\", \"Topic2\", \"Topic2\", \"Topic2\", \"Topic2\", \"Topic2\", \"Topic2\", \"Topic2\", \"Topic2\", \"Topic2\", \"Topic2\", \"Topic2\", \"Topic2\", \"Topic2\", \"Topic2\", \"Topic2\", \"Topic2\", \"Topic2\", \"Topic2\", \"Topic2\", \"Topic2\", \"Topic2\", \"Topic2\", \"Topic2\", \"Topic2\", \"Topic2\", \"Topic2\"], \"logprob\": [30.0, 29.0, 28.0, 27.0, 26.0, 25.0, 24.0, 23.0, 22.0, 21.0, 20.0, 19.0, 18.0, 17.0, 16.0, 15.0, 14.0, 13.0, 12.0, 11.0, 10.0, 9.0, 8.0, 7.0, 6.0, 5.0, 4.0, 3.0, 2.0, 1.0, -3.5432000160217285, -4.283699989318848, -4.350500106811523, -4.498799800872803, -4.498899936676025, -4.174699783325195, -4.5005998611450195, -4.582300186157227, -4.673399925231934, -4.773200035095215, -4.591400146484375, -4.884300231933594, -4.884500026702881, -3.904900074005127, -4.602099895477295, -4.689300060272217, -5.0096001625061035, -5.010000228881836, -3.2660999298095703, -5.152699947357178, -5.1528000831604, -4.802199840545654, -5.164599895477295, -3.447200059890747, -5.16540002822876, -5.319799900054932, -5.319900035858154, -5.319900035858154, -5.320000171661377, -5.320400238037109, -3.768699884414673, -3.6705000400543213, -4.613100051879883, -4.0117998123168945, -4.267099857330322, -4.031300067901611, -3.4939000606536865, -4.664400100708008, -4.9095001220703125, -4.436699867248535, -4.849899768829346, -4.616000175476074, -4.791399955749512, -4.852200031280518, -4.7743000984191895, -3.5090999603271484, -3.8610999584198, -4.046500205993652, -4.231599807739258, -2.7513999938964844, -4.317800045013428, -4.4105000495910645, -3.5845000743865967, -4.628900051116943, -4.690100193023682, -4.373000144958496, -4.828800201416016, -3.5622000694274902, -4.990200042724609, -5.0792999267578125, -5.084000110626221, -5.179800033569336, -5.179999828338623, -5.180200099945068, -5.290800094604492, -5.292500019073486, -5.295300006866455, -5.415500164031982, -5.415999889373779, -5.416299819946289, -5.4166998863220215, -5.303999900817871, -5.422100067138672, -4.730599880218506, -5.5584001541137695, -5.108099937438965, -4.063499927520752, -4.161099910736084, -4.890999794006348, -4.710000038146973, -4.9008002281188965, -4.266600131988525, -3.7788000106811523, -4.363500118255615, -4.84689998626709, -4.40910005569458, -4.462699890136719, -4.828499794006348, -4.627699851989746, -4.76039981842041, -4.033100128173828, -4.616000175476074, -4.841800212860107, -4.729400157928467], \"loglift\": [30.0, 29.0, 28.0, 27.0, 26.0, 25.0, 24.0, 23.0, 22.0, 21.0, 20.0, 19.0, 18.0, 17.0, 16.0, 15.0, 14.0, 13.0, 12.0, 11.0, 10.0, 9.0, 8.0, 7.0, 6.0, 5.0, 4.0, 3.0, 2.0, 1.0, 0.9297999739646912, 0.9124000072479248, 0.9100000262260437, 0.9046000242233276, 0.9043999910354614, 0.9031999707221985, 0.9025999903678894, 0.9009000062942505, 0.8967000246047974, 0.8919000029563904, 0.8913999795913696, 0.8859999775886536, 0.885699987411499, 0.8845000267028809, 0.8802000284194946, 0.8798999786376953, 0.8780999779701233, 0.8776999711990356, 0.871999979019165, 0.8680999875068665, 0.867900013923645, 0.8615999817848206, 0.8555999994277954, 0.855400025844574, 0.8547999858856201, 0.8544999957084656, 0.8543999791145325, 0.8543999791145325, 0.8543000221252441, 0.8539000153541565, 0.7263000011444092, 0.7059000134468079, 0.785099983215332, 0.6894000172615051, 0.6967999935150146, 0.6299999952316284, 0.29429998993873596, 0.6546000242233276, 0.7495999932289124, 0.4708000123500824, 0.6220999956130981, 0.06780000030994415, -0.11089999973773956, 0.536899983882904, -0.7146999835968018, 0.48080000281333923, 0.4772999882698059, 0.47450000047683716, 0.4717000126838684, 0.47040000557899475, 0.4690000116825104, 0.4674000144004822, 0.4666999876499176, 0.46070000529289246, 0.4602000117301941, 0.45890000462532043, 0.4551999866962433, 0.44909998774528503, 0.44830000400543213, 0.4462999999523163, 0.44179999828338623, 0.4413999915122986, 0.44119998812675476, 0.4410000145435333, 0.4359999895095825, 0.4343000054359436, 0.4316999912261963, 0.4293000102043152, 0.42890000343322754, 0.428600013256073, 0.42820000648498535, 0.42329999804496765, 0.4230000078678131, 0.4214000105857849, 0.4203999936580658, 0.4187999963760376, 0.39660000801086426, 0.39739999175071716, 0.39579999446868896, 0.3831999897956848, 0.3864000141620636, 0.32989999651908875, 0.2808000147342682, 0.30799999833106995, 0.3718999922275543, 0.3018999993801117, 0.25029999017715454, 0.3276999890804291, 0.25940001010894775, 0.2800000011920929, -0.24490000307559967, 0.06449999660253525, 0.2567000091075897, -0.045499999076128006]}, \"token.table\": {\"Topic\": [2, 2, 2, 1, 2, 1, 2, 1, 1, 2, 1, 1, 1, 2, 1, 1, 1, 2, 1, 2, 1, 2, 1, 2, 2, 1, 1, 2, 1, 2, 1, 2, 1, 1, 2, 1, 2, 1, 1, 2, 1, 2, 1, 2, 2, 1, 2, 1, 1, 2, 1, 2, 1, 2, 2, 1, 2, 2, 2, 1, 2, 1, 2, 2, 1, 2, 1, 2, 1, 2, 1, 2, 1, 1, 2, 1, 2, 1, 2, 2, 1, 2, 1, 1, 2, 1, 2, 2, 1, 1, 2, 1, 2, 1, 2, 1, 2, 2, 1, 2, 2, 2, 1, 2, 2, 1, 1, 2, 1, 2, 1, 2, 2, 2, 2, 1, 2, 1, 2, 1, 1, 2, 1, 2, 1, 2, 1, 1, 1, 2, 1, 2, 2, 1, 2, 2], \"Freq\": [0.9672871232032776, 0.9945726990699768, 0.9803310036659241, 0.9277945756912231, 0.07522659003734589, 0.8977048397064209, 0.992725670337677, 0.9624870419502258, 0.9620763659477234, 0.0962076410651207, 0.938918948173523, 0.9812934994697571, 0.9617707133293152, 0.04808853566646576, 0.960500180721283, 0.9774494767189026, 0.1303279846906662, 0.912295937538147, 0.8977140188217163, 0.9823112487792969, 0.07908289134502411, 0.869911789894104, 0.17098060250282288, 0.8121578693389893, 0.9672684669494629, 0.9448056817054749, 0.43272721767425537, 0.6058180928230286, 0.19653277099132538, 0.7861310839653015, 0.9161892533302307, 0.08866347372531891, 0.8653329610824585, 0.7955646514892578, 0.22275811433792114, 0.34502413868904114, 0.6469202637672424, 0.9604892730712891, 0.9879608154296875, 0.16466014087200165, 0.9879984259605408, 0.16466639935970306, 0.05017608031630516, 0.953345537185669, 0.973922848701477, 0.922371506690979, 0.11529643833637238, 0.9774566888809204, 0.7350773811340332, 0.24502579867839813, 0.5124508738517761, 0.4771094024181366, 0.1477794498205185, 0.8866766691207886, 0.9673038125038147, 0.1854345202445984, 0.8112760186195374, 0.9707970023155212, 0.9825103878974915, 0.18544209003448486, 0.8035823702812195, 0.07634959369897842, 0.9161950945854187, 0.9675555229187012, 0.12286212295293808, 0.9828969836235046, 0.803306519985199, 0.2295161485671997, 0.7882264256477356, 0.21497085690498352, 0.7926270365715027, 0.220174178481102, 0.9773712754249573, 0.10379131138324738, 0.8995246887207031, 0.7008404731750488, 0.3504202365875244, 0.9615934491157532, 0.09615934640169144, 0.946349024772644, 0.1388082653284073, 0.8328496217727661, 0.9604952335357666, 0.59531170129776, 0.37883472442626953, 0.1005447655916214, 0.9049028754234314, 0.9943417310714722, 0.8653481006622314, 0.21210762858390808, 0.7954035997390747, 0.22279129922389984, 0.8020486831665039, 0.02005900628864765, 0.982891321182251, 0.9625881910324097, 0.06417254358530045, 0.9479264616966248, 0.04417560249567032, 0.9497753977775574, 0.9039185047149658, 0.9983254671096802, 0.07911660522222519, 0.8702827095985413, 0.9943321943283081, 1.0014036893844604, 0.15862208604812622, 0.8327659964561462, 0.761423647403717, 0.2855338752269745, 0.9440977573394775, 0.10489974915981293, 1.0041362047195435, 0.9658317565917969, 0.9594132304191589, 0.02298843115568161, 0.9655141234397888, 0.17786476016044617, 0.8448576331138611, 0.9236114025115967, 0.8016598224639893, 0.22904567420482635, 0.06911555677652359, 0.8985022306442261, 0.9604739546775818, 0.9943525195121765, 0.9604952931404114, 0.9885309934616089, 0.7193126082420349, 0.2538750469684601, 0.9885240197181702, 0.9823871850967407, 0.9203707575798035, 0.8840124011039734, 0.17680248618125916, 0.9673191905021667], \"Term\": [\"aires\", \"alimentos\", \"aumentos\", \"banco\", \"banco\", \"bancos\", \"bebidas\", \"billete\", \"bolsa\", \"bolsa\", \"bono\", \"bonos\", \"brecha\", \"brecha\", \"cambios\", \"capitales\", \"caso\", \"caso\", \"centavos\", \"ciudad\", \"construccion\", \"construccion\", \"costo\", \"costo\", \"costos\", \"cotizaciones\", \"crisis\", \"crisis\", \"datos\", \"datos\", \"deuda\", \"deuda\", \"divisas\", \"economia\", \"economia\", \"empresas\", \"empresas\", \"endeudamiento\", \"exportaciones\", \"exportaciones\", \"exportadores\", \"exportadores\", \"familia\", \"familia\", \"familias\", \"fondos\", \"fondos\", \"fuga\", \"ganancias\", \"ganancias\", \"gobierno\", \"gobierno\", \"golpe\", \"golpe\", \"hogar\", \"incremento\", \"incremento\", \"indice\", \"indumentaria\", \"informe\", \"informe\", \"ingresos\", \"ingresos\", \"junta\", \"linea\", \"linea\", \"medida\", \"medida\", \"medidas\", \"medidas\", \"mercado\", \"mercado\", \"mercados\", \"meses\", \"meses\", \"ministerio\", \"ministerio\", \"ministro\", \"ministro\", \"nivel\", \"organismo\", \"organismo\", \"pagos\", \"pais\", \"pais\", \"pandemia\", \"pandemia\", \"periodo\", \"plazo\", \"poder\", \"poder\", \"precio\", \"precio\", \"precios\", \"precios\", \"presion\", \"presion\", \"producto\", \"productos\", \"productos\", \"provincia\", \"registro\", \"relacion\", \"relacion\", \"relevamiento\", \"reservas\", \"respecto\", \"respecto\", \"restricciones\", \"restricciones\", \"retenciones\", \"retenciones\", \"rubro\", \"rubros\", \"salario\", \"salarios\", \"salarios\", \"sector\", \"sector\", \"segmento\", \"semana\", \"semana\", \"servicios\", \"servicios\", \"subasta\", \"tarifas\", \"tasa\", \"tasas\", \"tipo\", \"tipo\", \"titulos\", \"trabajo\", \"transporte\", \"valor\", \"valor\", \"vida\"]}, \"R\": 30, \"lambda.step\": 0.01, \"plot.opts\": {\"xlab\": \"PC1\", \"ylab\": \"PC2\"}, \"topic.order\": [1, 2]};\n",
       "\n",
       "function LDAvis_load_lib(url, callback){\n",
       "  var s = document.createElement('script');\n",
       "  s.src = url;\n",
       "  s.async = true;\n",
       "  s.onreadystatechange = s.onload = callback;\n",
       "  s.onerror = function(){console.warn(\"failed to load library \" + url);};\n",
       "  document.getElementsByTagName(\"head\")[0].appendChild(s);\n",
       "}\n",
       "\n",
       "if(typeof(LDAvis) !== \"undefined\"){\n",
       "   // already loaded: just create the visualization\n",
       "   !function(LDAvis){\n",
       "       new LDAvis(\"#\" + \"ldavis_el113281401451348777764467291739\", ldavis_el113281401451348777764467291739_data);\n",
       "   }(LDAvis);\n",
       "}else if(typeof define === \"function\" && define.amd){\n",
       "   // require.js is available: use it to load d3/LDAvis\n",
       "   require.config({paths: {d3: \"https://cdnjs.cloudflare.com/ajax/libs/d3/3.5.5/d3.min\"}});\n",
       "   require([\"d3\"], function(d3){\n",
       "      window.d3 = d3;\n",
       "      LDAvis_load_lib(\"https://cdn.rawgit.com/bmabey/pyLDAvis/files/ldavis.v1.0.0.js\", function(){\n",
       "        new LDAvis(\"#\" + \"ldavis_el113281401451348777764467291739\", ldavis_el113281401451348777764467291739_data);\n",
       "      });\n",
       "    });\n",
       "}else{\n",
       "    // require.js not available: dynamically load d3 & LDAvis\n",
       "    LDAvis_load_lib(\"https://cdnjs.cloudflare.com/ajax/libs/d3/3.5.5/d3.min.js\", function(){\n",
       "         LDAvis_load_lib(\"https://cdn.rawgit.com/bmabey/pyLDAvis/files/ldavis.v1.0.0.js\", function(){\n",
       "                 new LDAvis(\"#\" + \"ldavis_el113281401451348777764467291739\", ldavis_el113281401451348777764467291739_data);\n",
       "            })\n",
       "         });\n",
       "}\n",
       "</script>"
      ],
      "text/plain": [
       "<IPython.core.display.HTML object>"
      ]
     },
     "execution_count": 39,
     "metadata": {},
     "output_type": "execute_result"
    }
   ],
   "source": [
    "lda_display = pyLDAvis.gensim.prepare(lda_izq, corpus_izq, dictionary_izq, sort_topics=False)\n",
    "pyLDAvis.display(lda_display)"
   ]
  },
  {
   "cell_type": "markdown",
   "metadata": {},
   "source": [
    "Derecha Diario"
   ]
  },
  {
   "cell_type": "code",
   "execution_count": 40,
   "metadata": {},
   "outputs": [
    {
     "name": "stderr",
     "output_type": "stream",
     "text": [
      "/home/guido/anaconda3/envs/dh/lib/python3.7/site-packages/ipykernel/ipkernel.py:287: DeprecationWarning: `should_run_async` will not call `transform_cell` automatically in the future. Please pass the result to `transformed_cell` argument and any exception that happen during thetransform in `preprocessing_exc_tuple` in IPython 7.17 and above.\n",
      "  and should_run_async(code)\n"
     ]
    }
   ],
   "source": [
    "id_word_der = dict((v, k) for k, v in dictionary_der.token2id.items())"
   ]
  },
  {
   "cell_type": "code",
   "execution_count": 41,
   "metadata": {},
   "outputs": [
    {
     "name": "stderr",
     "output_type": "stream",
     "text": [
      "/home/guido/anaconda3/envs/dh/lib/python3.7/site-packages/ipykernel/ipkernel.py:287: DeprecationWarning: `should_run_async` will not call `transform_cell` automatically in the future. Please pass the result to `transformed_cell` argument and any exception that happen during thetransform in `preprocessing_exc_tuple` in IPython 7.17 and above.\n",
      "  and should_run_async(code)\n"
     ]
    }
   ],
   "source": [
    "lda_der = models.LdaModel(corpus=corpus_der, id2word=id_word_der, num_topics=2, passes=20, random_state= 30)"
   ]
  },
  {
   "cell_type": "code",
   "execution_count": 42,
   "metadata": {},
   "outputs": [
    {
     "name": "stderr",
     "output_type": "stream",
     "text": [
      "/home/guido/anaconda3/envs/dh/lib/python3.7/site-packages/ipykernel/ipkernel.py:287: DeprecationWarning: `should_run_async` will not call `transform_cell` automatically in the future. Please pass the result to `transformed_cell` argument and any exception that happen during thetransform in `preprocessing_exc_tuple` in IPython 7.17 and above.\n",
      "  and should_run_async(code)\n"
     ]
    },
    {
     "data": {
      "text/plain": [
       "[(0,\n",
       "  '0.037*\"mercado\" + 0.029*\"tipo\" + 0.029*\"gobierno\" + 0.025*\"banco\" + 0.018*\"medidas\" + 0.016*\"brecha\" + 0.016*\"pais\" + 0.014*\"demanda\" + 0.013*\"economia\" + 0.011*\"divisas\"'),\n",
       " (1,\n",
       "  '0.047*\"precios\" + 0.027*\"economia\" + 0.024*\"gobierno\" + 0.018*\"nivel\" + 0.014*\"dinero\" + 0.014*\"pais\" + 0.012*\"indice\" + 0.011*\"actividad\" + 0.011*\"medidas\" + 0.011*\"dato\"')]"
      ]
     },
     "execution_count": 42,
     "metadata": {},
     "output_type": "execute_result"
    }
   ],
   "source": [
    "lda_der.print_topics()"
   ]
  },
  {
   "cell_type": "code",
   "execution_count": 43,
   "metadata": {},
   "outputs": [
    {
     "name": "stderr",
     "output_type": "stream",
     "text": [
      "/home/guido/anaconda3/envs/dh/lib/python3.7/site-packages/ipykernel/ipkernel.py:287: DeprecationWarning: `should_run_async` will not call `transform_cell` automatically in the future. Please pass the result to `transformed_cell` argument and any exception that happen during thetransform in `preprocessing_exc_tuple` in IPython 7.17 and above.\n",
      "  and should_run_async(code)\n"
     ]
    },
    {
     "data": {
      "text/html": [
       "\n",
       "<link rel=\"stylesheet\" type=\"text/css\" href=\"https://cdn.rawgit.com/bmabey/pyLDAvis/files/ldavis.v1.0.0.css\">\n",
       "\n",
       "\n",
       "<div id=\"ldavis_el113281401451348539688295194203\"></div>\n",
       "<script type=\"text/javascript\">\n",
       "\n",
       "var ldavis_el113281401451348539688295194203_data = {\"mdsDat\": {\"x\": [0.08541513979434966, -0.08541513979434966], \"y\": [0.0, 0.0], \"topics\": [1, 2], \"cluster\": [1, 1], \"Freq\": [43.38138961791992, 56.618614196777344]}, \"tinfo\": {\"Term\": [\"precios\", \"mercado\", \"tipo\", \"brecha\", \"banco\", \"divisas\", \"operaciones\", \"dato\", \"bonos\", \"compra\", \"semana\", \"ahorro\", \"restricciones\", \"cambios\", \"bancos\", \"ganancias\", \"bolsa\", \"indice\", \"reservas\", \"rubro\", \"aumentos\", \"jornada\", \"importaciones\", \"alimentos\", \"nivel\", \"valores\", \"mercados\", \"venta\", \"ministro\", \"actividad\", \"bolsa\", \"compra\", \"jornada\", \"ganancias\", \"venta\", \"divisas\", \"bonos\", \"liquidez\", \"instrumentos\", \"operaciones\", \"billete\", \"acciones\", \"centavos\", \"titulos\", \"plaza\", \"vencimiento\", \"importaciones\", \"retenciones\", \"ofertas\", \"semanas\", \"entidades\", \"tarjeta\", \"autoridades\", \"volatilidad\", \"salto\", \"brecha\", \"maniobra\", \"ahorros\", \"cambios\", \"disparo\", \"concepto\", \"valores\", \"semana\", \"restricciones\", \"reservas\", \"ahorro\", \"tipo\", \"bancos\", \"mercado\", \"banco\", \"segmento\", \"mercados\", \"incertidumbre\", \"control\", \"ministro\", \"empresas\", \"gobierno\", \"medidas\", \"plazo\", \"valor\", \"demanda\", \"pais\", \"oferta\", \"presidente\", \"economia\", \"poder\", \"peso\", \"politica\", \"dinero\", \"rubro\", \"alimentos\", \"dato\", \"trabajo\", \"bebidas\", \"aires\", \"tarifas\", \"administracion\", \"mundo\", \"prendas\", \"gasto\", \"velocidad\", \"aumentos\", \"subsidios\", \"alquileres\", \"principios\", \"vista\", \"proyecto\", \"pobreza\", \"entrevista\", \"estrategia\", \"materia\", \"plan\", \"precios\", \"indice\", \"empleo\", \"mantenimiento\", \"consumo\", \"relevamiento\", \"motivo\", \"informe\", \"impuestos\", \"actividad\", \"registro\", \"nivel\", \"pandemia\", \"aislamiento\", \"cifras\", \"economista\", \"tendencia\", \"realidad\", \"rubros\", \"economia\", \"servicios\", \"comportamiento\", \"caso\", \"dinero\", \"sector\", \"bienes\", \"cuarentena\", \"gobierno\", \"tasa\", \"caida\", \"pais\", \"impacto\", \"medidas\", \"demanda\", \"politica\", \"crisis\", \"mercado\", \"efecto\", \"manera\"], \"Freq\": [159.0, 118.0, 90.0, 42.0, 80.0, 27.0, 27.0, 35.0, 20.0, 17.0, 26.0, 27.0, 25.0, 21.0, 27.0, 16.0, 15.0, 39.0, 23.0, 24.0, 29.0, 14.0, 16.0, 21.0, 64.0, 17.0, 28.0, 10.0, 34.0, 39.0, 14.746562004089355, 17.30394744873047, 13.840877532958984, 15.48725414276123, 10.271328926086426, 26.495983123779297, 19.580888748168945, 8.455322265625, 8.441844940185547, 26.096792221069336, 7.564526557922363, 6.683694839477539, 8.352337837219238, 5.806481838226318, 5.805905342102051, 5.80234432220459, 14.85738468170166, 4.920987129211426, 4.918323040008545, 4.916240215301514, 4.912664890289307, 4.905505180358887, 5.707775592803955, 8.95952320098877, 6.464963436126709, 37.92844772338867, 4.024925231933594, 5.628044128417969, 19.260589599609375, 3.982956647872925, 6.362583637237549, 14.88990306854248, 23.222848892211914, 21.581966400146484, 19.991125106811523, 23.30647850036621, 70.19847869873047, 22.5787353515625, 88.3364486694336, 60.422725677490234, 12.210865020751953, 20.854541778564453, 9.179473876953125, 13.493123054504395, 24.062278747558594, 18.94608497619629, 69.02507019042969, 42.74885559082031, 21.835567474365234, 22.505130767822266, 32.70674133300781, 37.63103485107422, 18.99032211303711, 21.176305770874023, 32.037811279296875, 19.706727981567383, 18.26447296142578, 18.0257625579834, 17.424259185791016, 23.539592742919922, 20.821067810058594, 34.396183013916016, 16.237110137939453, 15.314043998718262, 11.59645938873291, 16.030000686645508, 14.230964660644531, 15.98154067993164, 9.738986015319824, 10.587767601013184, 19.390771865844727, 28.19740867614746, 7.878689289093018, 6.970597267150879, 6.951572895050049, 6.937572956085205, 6.907052516937256, 6.0388360023498535, 6.896855354309082, 6.032759666442871, 6.882739067077637, 17.166860580444336, 147.2908477783203, 36.76495361328125, 5.111598014831543, 5.110982418060303, 5.105611324310303, 5.104609489440918, 6.800384521484375, 20.081790924072266, 5.944169044494629, 34.953914642333984, 16.442829132080078, 55.117183685302734, 22.71055793762207, 21.809438705444336, 14.709525108337402, 21.367984771728516, 19.78225326538086, 18.291120529174805, 11.535701751708984, 83.93777465820312, 25.09113883972168, 26.114654541015625, 26.887405395507812, 44.22967529296875, 30.46388053894043, 22.39997673034668, 33.28001403808594, 76.19642639160156, 25.647212982177734, 29.31892204284668, 42.765377044677734, 19.08960723876953, 34.654090881347656, 30.204864501953125, 24.994741439819336, 20.030933380126953, 30.069217681884766, 21.20543098449707, 20.423919677734375], \"Total\": [159.0, 118.0, 90.0, 42.0, 80.0, 27.0, 27.0, 35.0, 20.0, 17.0, 26.0, 27.0, 25.0, 21.0, 27.0, 16.0, 15.0, 39.0, 23.0, 24.0, 29.0, 14.0, 16.0, 21.0, 64.0, 17.0, 28.0, 10.0, 34.0, 39.0, 15.235788345336914, 17.926158905029297, 14.341052055358887, 16.136903762817383, 10.760039329528809, 27.798583984375, 20.62775421142578, 8.970664978027344, 8.97124195098877, 27.814239501953125, 8.075395584106445, 7.17970609664917, 8.974761962890625, 6.28386926651001, 6.283881664276123, 6.284021377563477, 16.1616268157959, 5.38834285736084, 5.388442039489746, 5.38852071762085, 5.388650417327881, 5.388946056365967, 6.287576198577881, 9.881193161010742, 7.188231945037842, 42.23491287231445, 4.493228912353516, 6.290777206420898, 21.570709228515625, 4.494851589202881, 7.192251205444336, 17.090755462646484, 26.99717903137207, 25.200969696044922, 23.402809143066406, 27.924375534057617, 90.27666473388672, 27.022619247436523, 118.40567016601562, 80.42723083496094, 14.405089378356934, 28.021121978759766, 10.802743911743164, 17.145801544189453, 34.407875061035156, 26.23548698425293, 145.22149658203125, 77.40294647216797, 34.495765686035156, 36.330284118652344, 62.91160583496094, 80.39640808105469, 29.025142669677734, 38.243717193603516, 115.9755859375, 37.37124252319336, 31.84528350830078, 43.020503997802734, 61.653934478759766, 24.16739273071289, 21.378719329833984, 35.32136917114258, 16.728864669799805, 15.798707962036133, 12.076936721801758, 16.72097396850586, 14.862215042114258, 16.7191162109375, 10.216102600097656, 11.143341064453125, 20.429134368896484, 29.714994430541992, 8.355119705200195, 7.425535202026367, 7.4247846603393555, 7.424215793609619, 7.423011779785156, 6.494998931884766, 7.422615051269531, 6.494747161865234, 7.422131538391113, 18.5543155670166, 159.558349609375, 39.886993408203125, 5.564642906188965, 5.564620018005371, 5.564413547515869, 5.56437349319458, 7.418928623199463, 22.245590209960938, 6.491315841674805, 39.81817626953125, 18.52678871154785, 64.75286102294922, 25.926008224487305, 24.99659538269043, 16.67070770263672, 24.97980499267578, 23.129344940185547, 21.282358169555664, 12.969549179077148, 115.9755859375, 30.49209976196289, 32.32127380371094, 34.14089584350586, 61.653934478759766, 39.64762496948242, 27.704463958740234, 46.915740966796875, 145.22149658203125, 34.09376907348633, 42.28956985473633, 80.39640808105469, 23.103031158447266, 77.40294647216797, 62.91160583496094, 43.020503997802734, 26.7193546295166, 118.40567016601562, 33.92512130737305, 32.10514450073242], \"Category\": [\"Default\", \"Default\", \"Default\", \"Default\", \"Default\", \"Default\", \"Default\", \"Default\", \"Default\", \"Default\", \"Default\", \"Default\", \"Default\", \"Default\", \"Default\", \"Default\", \"Default\", \"Default\", \"Default\", \"Default\", \"Default\", \"Default\", \"Default\", \"Default\", \"Default\", \"Default\", \"Default\", \"Default\", \"Default\", \"Default\", \"Topic1\", \"Topic1\", \"Topic1\", \"Topic1\", \"Topic1\", \"Topic1\", \"Topic1\", \"Topic1\", \"Topic1\", \"Topic1\", \"Topic1\", \"Topic1\", \"Topic1\", \"Topic1\", \"Topic1\", \"Topic1\", \"Topic1\", \"Topic1\", \"Topic1\", \"Topic1\", \"Topic1\", \"Topic1\", \"Topic1\", \"Topic1\", \"Topic1\", \"Topic1\", \"Topic1\", \"Topic1\", \"Topic1\", \"Topic1\", \"Topic1\", \"Topic1\", \"Topic1\", \"Topic1\", \"Topic1\", \"Topic1\", \"Topic1\", \"Topic1\", \"Topic1\", \"Topic1\", \"Topic1\", \"Topic1\", \"Topic1\", \"Topic1\", \"Topic1\", \"Topic1\", \"Topic1\", \"Topic1\", \"Topic1\", \"Topic1\", \"Topic1\", \"Topic1\", \"Topic1\", \"Topic1\", \"Topic1\", \"Topic1\", \"Topic1\", \"Topic1\", \"Topic1\", \"Topic2\", \"Topic2\", \"Topic2\", \"Topic2\", \"Topic2\", \"Topic2\", \"Topic2\", \"Topic2\", \"Topic2\", \"Topic2\", \"Topic2\", \"Topic2\", \"Topic2\", \"Topic2\", \"Topic2\", \"Topic2\", \"Topic2\", \"Topic2\", \"Topic2\", \"Topic2\", \"Topic2\", \"Topic2\", \"Topic2\", \"Topic2\", \"Topic2\", \"Topic2\", \"Topic2\", \"Topic2\", \"Topic2\", \"Topic2\", \"Topic2\", \"Topic2\", \"Topic2\", \"Topic2\", \"Topic2\", \"Topic2\", \"Topic2\", \"Topic2\", \"Topic2\", \"Topic2\", \"Topic2\", \"Topic2\", \"Topic2\", \"Topic2\", \"Topic2\", \"Topic2\", \"Topic2\", \"Topic2\", \"Topic2\", \"Topic2\", \"Topic2\", \"Topic2\", \"Topic2\", \"Topic2\", \"Topic2\", \"Topic2\", \"Topic2\", \"Topic2\", \"Topic2\", \"Topic2\", \"Topic2\", \"Topic2\"], \"logprob\": [30.0, 29.0, 28.0, 27.0, 26.0, 25.0, 24.0, 23.0, 22.0, 21.0, 20.0, 19.0, 18.0, 17.0, 16.0, 15.0, 14.0, 13.0, 12.0, 11.0, 10.0, 9.0, 8.0, 7.0, 6.0, 5.0, 4.0, 3.0, 2.0, 1.0, -5.087399959564209, -4.927499771118164, -5.1508002281188965, -5.038400173187256, -5.449100017547607, -4.501500129699707, -4.803899765014648, -5.643700122833252, -5.645299911499023, -4.516600131988525, -5.755000114440918, -5.878799915313721, -5.655900001525879, -6.019499778747559, -6.019599914550781, -6.020199775695801, -5.079999923706055, -6.184899806976318, -6.185500144958496, -6.1859002113342285, -6.186600208282471, -6.1880998611450195, -6.036600112915039, -5.585700035095215, -5.912099838256836, -4.1427998542785645, -6.385900020599365, -6.0507001876831055, -4.820400238037109, -6.396399974822998, -5.927999973297119, -5.0777997970581055, -4.633299827575684, -4.706600189208984, -4.783199787139893, -4.629700183868408, -3.527100086212158, -4.661399841308594, -3.297300100326538, -3.6770999431610107, -5.276100158691406, -4.740900039672852, -5.561500072479248, -5.176300048828125, -4.597799777984619, -4.836900234222412, -3.5439999103546143, -4.023099899291992, -4.694900035858154, -4.664700031280518, -4.290900230407715, -4.150599956512451, -4.834499835968018, -4.725599765777588, -4.311500072479248, -4.797500133514404, -4.873499870300293, -4.88670015335083, -4.920599937438965, -4.886099815368652, -5.008800029754639, -4.506800174713135, -5.257500171661377, -5.315999984741211, -5.594099998474121, -5.270299911499023, -5.3892998695373535, -5.2733001708984375, -5.768599987030029, -5.685100078582764, -5.079999923706055, -4.70550012588501, -5.980599880218506, -6.103099822998047, -6.105800151824951, -6.107800006866455, -6.112199783325195, -6.246600151062012, -6.113699913024902, -6.247600078582764, -6.115699768066406, -5.2017998695373535, -3.0524001121520996, -4.440199851989746, -6.4131999015808105, -6.413400173187256, -6.414400100708008, -6.414599895477295, -6.127799987792969, -5.044899940490723, -6.262400150299072, -4.490699768066406, -5.244900226593018, -4.035299777984619, -4.921899795532227, -4.962399959564209, -5.356299877166748, -4.982900142669678, -5.059999942779541, -5.138299942016602, -5.599299907684326, -3.6147000789642334, -4.822199821472168, -4.782299995422363, -4.7530999183654785, -4.25540018081665, -4.628200054168701, -4.935699939727783, -4.53980016708374, -3.711400032043457, -4.800300121307373, -4.666500091552734, -4.289000034332275, -5.095600128173828, -4.499300003051758, -4.6367998123168945, -4.826099872589111, -5.047500133514404, -4.641300201416016, -4.990499973297119, -5.02810001373291], \"loglift\": [30.0, 29.0, 28.0, 27.0, 26.0, 25.0, 24.0, 23.0, 22.0, 21.0, 20.0, 19.0, 18.0, 17.0, 16.0, 15.0, 14.0, 13.0, 12.0, 11.0, 10.0, 9.0, 8.0, 7.0, 6.0, 5.0, 4.0, 3.0, 2.0, 1.0, 0.8025000095367432, 0.7997999787330627, 0.7996000051498413, 0.7940000295639038, 0.7886999845504761, 0.7871000170707703, 0.7831000089645386, 0.7760000228881836, 0.7742999792098999, 0.771399974822998, 0.7698000073432922, 0.7635999917984009, 0.7633000016212463, 0.7560999989509583, 0.7559999823570251, 0.7554000020027161, 0.7509999871253967, 0.7444000244140625, 0.7439000010490417, 0.743399977684021, 0.7426999807357788, 0.741100013256073, 0.7383999824523926, 0.7372000217437744, 0.7290999889373779, 0.7275999784469604, 0.7250999808311462, 0.723800003528595, 0.7218999862670898, 0.7142000198364258, 0.7125999927520752, 0.6973000168800354, 0.684499979019165, 0.6801000237464905, 0.6776000261306763, 0.6543999910354614, 0.5835999846458435, 0.6554999947547913, 0.5422000288963318, 0.5491999983787537, 0.6699000000953674, 0.5397999882698059, 0.6722999811172485, 0.5956000089645386, 0.47749999165534973, 0.5095999836921692, 0.09130000323057175, 0.24150000512599945, 0.37779998779296875, 0.3562000095844269, 0.1809999942779541, 0.07599999755620956, 0.4108999967575073, 0.24400000274181366, -0.4512999951839447, 0.19519999623298645, 0.2791999876499176, -0.034699998795986176, -0.4284999966621399, 0.5425000190734863, 0.5424000024795532, 0.5422999858856201, 0.5389999747276306, 0.5376999974250793, 0.5281999707221985, 0.5266000032424927, 0.5253999829292297, 0.5236999988555908, 0.5210000276565552, 0.5177000164985657, 0.516700029373169, 0.5163999795913696, 0.5101000070571899, 0.5055999755859375, 0.503000020980835, 0.5009999871253967, 0.4968000054359436, 0.4959999918937683, 0.49540001153945923, 0.4950000047683716, 0.4934000074863434, 0.491100013256073, 0.4887999892234802, 0.48730000853538513, 0.4839000105857849, 0.4837999939918518, 0.4828000068664551, 0.48260000348091125, 0.48179998993873596, 0.46650001406669617, 0.48080000281333923, 0.43849998712539673, 0.4494999945163727, 0.4077000021934509, 0.43639999628067017, 0.4323999881744385, 0.44369998574256897, 0.41269999742507935, 0.4124999940395355, 0.4174000024795532, 0.45170000195503235, 0.24549999833106995, 0.37389999628067017, 0.3555999994277954, 0.33000001311302185, 0.23669999837875366, 0.3052999973297119, 0.3562999963760376, 0.22540000081062317, -0.07609999924898148, 0.2842000126838684, 0.20250000059604645, -0.06239999830722809, 0.3779999911785126, -0.23479999601840973, -0.164900004863739, 0.025800000876188278, 0.2806999981403351, -0.801800012588501, 0.09889999777078629, 0.11649999767541885]}, \"token.table\": {\"Topic\": [1, 1, 2, 1, 2, 1, 2, 1, 2, 2, 1, 2, 1, 2, 2, 1, 2, 1, 2, 1, 2, 1, 2, 2, 1, 2, 1, 2, 1, 1, 2, 1, 2, 1, 2, 1, 2, 1, 2, 1, 2, 1, 2, 1, 2, 1, 2, 1, 2, 2, 1, 2, 1, 2, 1, 2, 1, 2, 1, 2, 1, 2, 1, 2, 1, 2, 1, 2, 1, 2, 1, 2, 2, 1, 2, 1, 1, 2, 2, 1, 2, 1, 2, 1, 2, 1, 2, 1, 2, 1, 2, 1, 2, 1, 2, 1, 2, 1, 2, 1, 2, 1, 2, 1, 2, 1, 2, 1, 2, 1, 2, 1, 2, 1, 2, 1, 2, 1, 2, 1, 2, 1, 2, 1, 2, 1, 1, 2, 1, 2, 1, 2, 1, 2, 1, 2, 1, 1, 2, 2, 1, 2, 1, 2, 1, 2, 2, 1, 2, 2, 1, 2, 1, 2, 1, 2, 2, 1, 2, 1, 2, 1, 1, 2, 1, 2, 1, 2, 1, 2, 1, 2, 1, 2, 1, 1, 2, 2, 1, 2, 1, 1, 2, 1, 2, 1, 2, 1, 2, 1, 2, 1, 2, 1, 2, 1, 1, 2, 1, 2], \"Freq\": [0.974970281124115, 0.12557078897953033, 0.8789955377578735, 0.0672847181558609, 0.941986083984375, 0.8236531615257263, 0.17905503511428833, 0.9537771940231323, 0.15896287560462952, 0.9936294555664062, 0.12001634389162064, 0.8801198601722717, 0.04677548632025719, 0.98228520154953, 0.9426929950714111, 0.06730608642101288, 0.9422852396965027, 0.9542627930641174, 0.1590438038110733, 0.7460159659385681, 0.2486719936132431, 0.8511388301849365, 0.14802414178848267, 0.9494447112083435, 0.1804763376712799, 0.7940958738327026, 0.9906635284423828, 0.12383294105529785, 0.9845240712165833, 0.9695674777030945, 0.0484783761203289, 0.8997295498847961, 0.09470837563276291, 0.30740439891815186, 0.685748279094696, 0.880824089050293, 0.09271832555532455, 0.20503269135951996, 0.7908403873443604, 0.8913885354995728, 0.1114235669374466, 0.1199709102511406, 0.8997818231582642, 0.1856362521648407, 0.8044237494468689, 0.9483347535133362, 0.055784400552511215, 0.8342311382293701, 0.13903851807117462, 0.8985673189163208, 0.7582030892372131, 0.23329326510429382, 0.26198238134384155, 0.748521089553833, 0.29840731620788574, 0.7033886313438416, 0.02831147238612175, 0.9625900983810425, 0.5245454907417297, 0.47685953974723816, 0.2757326066493988, 0.7136608362197876, 0.8899070024490356, 0.2224767506122589, 0.9352994561195374, 0.03597305715084076, 0.27592015266418457, 0.7242903709411621, 0.1601293534040451, 0.8406791090965271, 0.3831968605518341, 0.619010329246521, 0.8985302448272705, 0.7242099046707153, 0.2668141722679138, 0.9278761148452759, 0.13472341001033783, 0.9430638551712036, 0.9238234758377075, 0.9295463562011719, 0.061969757080078125, 0.08973969519138336, 0.9871366024017334, 0.47513628005981445, 0.5233384966850281, 0.17313745617866516, 0.8224028944969177, 0.9281243681907654, 0.061874959617853165, 0.1540519744157791, 0.9243118166923523, 0.833121657371521, 0.18513815104961395, 0.07521248608827591, 0.9276207089424133, 0.08990545570850372, 0.8990545868873596, 0.8917382955551147, 0.11146728694438934, 0.9762184619903564, 0.06972989439964294, 0.8917956352233887, 0.11147445440292358, 0.37377187609672546, 0.6229531168937683, 0.8902283906936646, 0.8985339403152466, 0.134732186794281, 0.943125307559967, 0.5555344223976135, 0.4521791636943817, 0.7432076334953308, 0.25336623191833496, 0.7494346499443054, 0.2498115599155426, 0.6975147128105164, 0.29063114523887634, 0.1347903460264206, 0.9435324668884277, 0.059811774641275406, 0.9569883942604065, 0.15443332493305206, 0.8493832945823669, 0.6546048521995544, 0.3445288836956024, 0.9279119968414307, 0.9347729682922363, 0.07190561294555664, 0.4726579189300537, 0.5348497629165649, 0.11571391671895981, 0.8871400356292725, 0.5652328133583069, 0.4396255314350128, 0.05389581620693207, 0.9162288904190063, 0.9548238515853882, 0.6377594470977783, 0.37685784697532654, 0.9237876534461975, 0.53517085313797, 0.48165377974510193, 0.418405145406723, 0.5811182260513306, 0.07520759850740433, 0.9212930798530579, 0.9788468480110168, 0.5491098165512085, 0.44451746344566345, 0.942788302898407, 0.1347162127494812, 0.9430134296417236, 0.14096182584762573, 0.8457709550857544, 0.10795179009437561, 0.8636143207550049, 0.8985737562179565, 0.8545982837677002, 0.12818974256515503, 0.8729822635650635, 0.15872405469417572, 0.9279291033744812, 0.04137806594371796, 0.993073582649231, 0.07710368186235428, 0.9252442121505737, 0.8346976041793823, 0.13911627233028412, 0.22699972987174988, 0.7566657662391663, 0.8330389261245728, 0.13883982598781586, 0.8519408702850342, 0.14816363155841827, 0.9278984665870667, 0.16397689282894135, 0.8198844790458679, 0.9574967622756958, 0.05980512872338295, 0.9568820595741272, 0.9278252124786377, 0.2346469759941101, 0.762602686882019, 0.12970535457134247, 0.8647024035453796, 0.7753942012786865, 0.22154119610786438, 0.9548256993293762, 0.9564307332038879, 0.6330806612968445, 0.3853534460067749, 0.8776674866676331, 0.1170223280787468, 0.048949699848890305, 0.9300442934036255, 0.9548026323318481, 0.9293646216392517, 0.9428605437278748, 0.9108211994171143, 0.1012023538351059], \"Term\": [\"acciones\", \"actividad\", \"actividad\", \"administracion\", \"administracion\", \"ahorro\", \"ahorro\", \"ahorros\", \"ahorros\", \"aires\", \"aislamiento\", \"aislamiento\", \"alimentos\", \"alimentos\", \"alquileres\", \"aumentos\", \"aumentos\", \"autoridades\", \"autoridades\", \"banco\", \"banco\", \"bancos\", \"bancos\", \"bebidas\", \"bienes\", \"bienes\", \"billete\", \"billete\", \"bolsa\", \"bonos\", \"bonos\", \"brecha\", \"brecha\", \"caida\", \"caida\", \"cambios\", \"cambios\", \"caso\", \"caso\", \"centavos\", \"centavos\", \"cifras\", \"cifras\", \"comportamiento\", \"comportamiento\", \"compra\", \"compra\", \"concepto\", \"concepto\", \"consumo\", \"control\", \"control\", \"crisis\", \"crisis\", \"cuarentena\", \"cuarentena\", \"dato\", \"dato\", \"demanda\", \"demanda\", \"dinero\", \"dinero\", \"disparo\", \"disparo\", \"divisas\", \"divisas\", \"economia\", \"economia\", \"economista\", \"economista\", \"efecto\", \"efecto\", \"empleo\", \"empresas\", \"empresas\", \"entidades\", \"entrevista\", \"entrevista\", \"estrategia\", \"ganancias\", \"ganancias\", \"gasto\", \"gasto\", \"gobierno\", \"gobierno\", \"impacto\", \"impacto\", \"importaciones\", \"importaciones\", \"impuestos\", \"impuestos\", \"incertidumbre\", \"incertidumbre\", \"indice\", \"indice\", \"informe\", \"informe\", \"instrumentos\", \"instrumentos\", \"jornada\", \"jornada\", \"liquidez\", \"liquidez\", \"manera\", \"manera\", \"maniobra\", \"mantenimiento\", \"materia\", \"materia\", \"medidas\", \"medidas\", \"mercado\", \"mercado\", \"mercados\", \"mercados\", \"ministro\", \"ministro\", \"motivo\", \"motivo\", \"mundo\", \"mundo\", \"nivel\", \"nivel\", \"oferta\", \"oferta\", \"ofertas\", \"operaciones\", \"operaciones\", \"pais\", \"pais\", \"pandemia\", \"pandemia\", \"peso\", \"peso\", \"plan\", \"plan\", \"plaza\", \"plazo\", \"plazo\", \"pobreza\", \"poder\", \"poder\", \"politica\", \"politica\", \"precios\", \"precios\", \"prendas\", \"presidente\", \"presidente\", \"principios\", \"proyecto\", \"proyecto\", \"realidad\", \"realidad\", \"registro\", \"registro\", \"relevamiento\", \"reservas\", \"reservas\", \"restricciones\", \"restricciones\", \"retenciones\", \"rubro\", \"rubro\", \"rubros\", \"rubros\", \"salto\", \"salto\", \"sector\", \"sector\", \"segmento\", \"segmento\", \"semana\", \"semana\", \"semanas\", \"servicios\", \"servicios\", \"subsidios\", \"tarifas\", \"tarifas\", \"tarjeta\", \"tasa\", \"tasa\", \"tendencia\", \"tendencia\", \"tipo\", \"tipo\", \"titulos\", \"trabajo\", \"valor\", \"valor\", \"valores\", \"valores\", \"velocidad\", \"velocidad\", \"vencimiento\", \"venta\", \"vista\", \"volatilidad\", \"volatilidad\"]}, \"R\": 30, \"lambda.step\": 0.01, \"plot.opts\": {\"xlab\": \"PC1\", \"ylab\": \"PC2\"}, \"topic.order\": [1, 2]};\n",
       "\n",
       "function LDAvis_load_lib(url, callback){\n",
       "  var s = document.createElement('script');\n",
       "  s.src = url;\n",
       "  s.async = true;\n",
       "  s.onreadystatechange = s.onload = callback;\n",
       "  s.onerror = function(){console.warn(\"failed to load library \" + url);};\n",
       "  document.getElementsByTagName(\"head\")[0].appendChild(s);\n",
       "}\n",
       "\n",
       "if(typeof(LDAvis) !== \"undefined\"){\n",
       "   // already loaded: just create the visualization\n",
       "   !function(LDAvis){\n",
       "       new LDAvis(\"#\" + \"ldavis_el113281401451348539688295194203\", ldavis_el113281401451348539688295194203_data);\n",
       "   }(LDAvis);\n",
       "}else if(typeof define === \"function\" && define.amd){\n",
       "   // require.js is available: use it to load d3/LDAvis\n",
       "   require.config({paths: {d3: \"https://cdnjs.cloudflare.com/ajax/libs/d3/3.5.5/d3.min\"}});\n",
       "   require([\"d3\"], function(d3){\n",
       "      window.d3 = d3;\n",
       "      LDAvis_load_lib(\"https://cdn.rawgit.com/bmabey/pyLDAvis/files/ldavis.v1.0.0.js\", function(){\n",
       "        new LDAvis(\"#\" + \"ldavis_el113281401451348539688295194203\", ldavis_el113281401451348539688295194203_data);\n",
       "      });\n",
       "    });\n",
       "}else{\n",
       "    // require.js not available: dynamically load d3 & LDAvis\n",
       "    LDAvis_load_lib(\"https://cdnjs.cloudflare.com/ajax/libs/d3/3.5.5/d3.min.js\", function(){\n",
       "         LDAvis_load_lib(\"https://cdn.rawgit.com/bmabey/pyLDAvis/files/ldavis.v1.0.0.js\", function(){\n",
       "                 new LDAvis(\"#\" + \"ldavis_el113281401451348539688295194203\", ldavis_el113281401451348539688295194203_data);\n",
       "            })\n",
       "         });\n",
       "}\n",
       "</script>"
      ],
      "text/plain": [
       "<IPython.core.display.HTML object>"
      ]
     },
     "execution_count": 43,
     "metadata": {},
     "output_type": "execute_result"
    }
   ],
   "source": [
    "lda_display = pyLDAvis.gensim.prepare(lda_der, corpus_der, dictionary_der, sort_topics=False)\n",
    "pyLDAvis.display(lda_display)"
   ]
  },
  {
   "cell_type": "code",
   "execution_count": null,
   "metadata": {},
   "outputs": [],
   "source": []
  }
 ],
 "metadata": {
  "kernelspec": {
   "display_name": "Python 3",
   "language": "python",
   "name": "python3"
  },
  "language_info": {
   "codemirror_mode": {
    "name": "ipython",
    "version": 3
   },
   "file_extension": ".py",
   "mimetype": "text/x-python",
   "name": "python",
   "nbconvert_exporter": "python",
   "pygments_lexer": "ipython3",
   "version": "3.7.7"
  }
 },
 "nbformat": 4,
 "nbformat_minor": 4
}
