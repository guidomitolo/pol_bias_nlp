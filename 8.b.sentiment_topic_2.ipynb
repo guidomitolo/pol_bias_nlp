{
 "cells": [
  {
   "cell_type": "markdown",
   "metadata": {},
   "source": [
    "## Sentiment Analisys\n",
    "### Input: article lead"
   ]
  },
  {
   "cell_type": "markdown",
   "metadata": {},
   "source": [
    "## Load Data"
   ]
  },
  {
   "cell_type": "code",
   "execution_count": 1,
   "metadata": {},
   "outputs": [],
   "source": [
    "import pandas as pd\n",
    "import numpy as np\n",
    "import pickle"
   ]
  },
  {
   "cell_type": "code",
   "execution_count": 2,
   "metadata": {},
   "outputs": [],
   "source": [
    "data = pickle.load(open('data/df_clean_izq.pkl','rb'))"
   ]
  },
  {
   "cell_type": "code",
   "execution_count": 3,
   "metadata": {},
   "outputs": [
    {
     "data": {
      "text/plain": [
       "(34, 7)"
      ]
     },
     "execution_count": 3,
     "metadata": {},
     "output_type": "execute_result"
    }
   ],
   "source": [
    "inf_izq = data.loc[data.topics == 'inflation']\n",
    "inf_izq.shape"
   ]
  },
  {
   "cell_type": "code",
   "execution_count": 4,
   "metadata": {},
   "outputs": [],
   "source": [
    "data = pickle.load(open('data/df_clean_der.pkl','rb'))"
   ]
  },
  {
   "cell_type": "code",
   "execution_count": 5,
   "metadata": {},
   "outputs": [
    {
     "data": {
      "text/plain": [
       "(33, 7)"
      ]
     },
     "execution_count": 5,
     "metadata": {},
     "output_type": "execute_result"
    }
   ],
   "source": [
    "inf_der = data.loc[data.topics == 'inflation']\n",
    "inf_der.shape"
   ]
  },
  {
   "cell_type": "markdown",
   "metadata": {},
   "source": [
    "## Text Blob\n",
    "Translation with TextBlob and googletrans"
   ]
  },
  {
   "cell_type": "code",
   "execution_count": 6,
   "metadata": {},
   "outputs": [],
   "source": [
    "from textblob import TextBlob\n",
    "from googletrans import Translator"
   ]
  },
  {
   "cell_type": "markdown",
   "metadata": {},
   "source": [
    "#### Parts of Speech(POS) Tagging\n",
    "#### Spanish VS English (Example)\n",
    "There are evident issues in the tagging process before translation that lead to the imposibility of getting the sentiment scores."
   ]
  },
  {
   "cell_type": "code",
   "execution_count": 7,
   "metadata": {},
   "outputs": [
    {
     "name": "stdout",
     "output_type": "stream",
     "text": [
      "Input en español:\n",
      "Será de un 7% y se aplicará a las marcas que fabrica la tabacalera British American Tobacco (BAT), como Lucky Strike.\n",
      "\n",
      "POS: [('Será', 'NNP'), ('de', 'NNP'), ('un', 'FW'), ('7', 'CD'), ('%', 'NN'), ('y', 'CC'), ('se', 'NN'), ('aplicará', 'VBP'), ('a', 'DT'), ('las', 'JJ'), ('marcas', 'NN'), ('que', 'NN'), ('fabrica', 'NN'), ('la', 'VBP'), ('tabacalera', 'NN'), ('British', 'JJ'), ('American', 'JJ'), ('Tobacco', 'NNP'), ('BAT', 'NNP'), ('como', 'JJ'), ('Lucky', 'NNP'), ('Strike', 'NN')]\n",
      "\n",
      "Sustantivos: ['será', '% y se aplicará', 'las marcas que fabrica', 'tobacco', 'bat', 'lucky strike']\n",
      "\n",
      "Sentiment(polarity=0.1111111111111111, subjectivity=0.2777777777777778) \n",
      "\n",
      "Traducción:\n",
      "It will be 7% and will be applied to brands manufactured by the British American Tobacco (BAT) tobacco company, such as Lucky Strike.\n",
      "\n",
      "POS: [('It', 'PRP'), ('will', 'MD'), ('be', 'VB'), ('7', 'CD'), ('%', 'NN'), ('and', 'CC'), ('will', 'MD'), ('be', 'VB'), ('applied', 'VBN'), ('to', 'TO'), ('brands', 'NNS'), ('manufactured', 'VBN'), ('by', 'IN'), ('the', 'DT'), ('British', 'JJ'), ('American', 'JJ'), ('Tobacco', 'NNP'), ('BAT', 'NNP'), ('tobacco', 'NN'), ('company', 'NN'), ('such', 'JJ'), ('as', 'IN'), ('Lucky', 'NNP'), ('Strike', 'NNP')]\n",
      "\n",
      "Sustantivos: ['tobacco', 'bat', 'tobacco company', 'lucky strike']\n",
      "\n",
      "Sentiment(polarity=0.08333333333333333, subjectivity=0.33333333333333337)\n"
     ]
    }
   ],
   "source": [
    "print(f'Input en español:\\n{inf_izq.iloc[0].lead}\\n')\n",
    "text = TextBlob(inf_izq.iloc[0].lead)\n",
    "\n",
    "print(f'POS: {text.tags}\\n')\n",
    "\n",
    "print(f'Sustantivos: {text.noun_phrases}\\n')\n",
    "\n",
    "print(text.sentiment,'\\n')\n",
    "\n",
    "translator = Translator()\n",
    "translation = translator.translate(inf_izq.iloc[0].lead, src='es', dest='en')\n",
    "\n",
    "print(f'Traducción:\\n{translation.text}\\n')\n",
    "text = TextBlob(translation.text)\n",
    "\n",
    "print(f'POS: {text.tags}\\n')\n",
    "\n",
    "print(f'Sustantivos: {text.noun_phrases}\\n') \n",
    "\n",
    "print(text.sentiment)"
   ]
  },
  {
   "cell_type": "code",
   "execution_count": 9,
   "metadata": {},
   "outputs": [
    {
     "name": "stdout",
     "output_type": "stream",
     "text": [
      "Input en español: Desde la década de 1940 Argentina padece una economía inflacionaria, con la sola excepción del Plan de Convertibilidad entre 1991 y 2001. ¿Qué es la inflación y cuáles fueron las diferentes estrategias utilizadas a lo largo de la historia argentina?\n",
      "\n",
      "POS: [('Será', 'NNP'), ('de', 'NNP'), ('un', 'FW'), ('7', 'CD'), ('%', 'NN'), ('y', 'CC'), ('se', 'NN'), ('aplicará', 'VBP'), ('a', 'DT'), ('las', 'JJ'), ('marcas', 'NN'), ('que', 'NN'), ('fabrica', 'NN'), ('la', 'VBP'), ('tabacalera', 'NN'), ('British', 'JJ'), ('American', 'JJ'), ('Tobacco', 'NNP'), ('BAT', 'NNP'), ('como', 'JJ'), ('Lucky', 'NNP'), ('Strike', 'NN')]\n",
      "\n",
      "Sustantivos: ['será', '% y se aplicará', 'las marcas que fabrica', 'tobacco', 'bat', 'lucky strike']\n",
      "\n",
      "Sentiment(polarity=0.1111111111111111, subjectivity=0.2777777777777778) \n",
      "\n",
      "Traducción: Since the 1940s Argentina has suffered from an inflationary economy, with the sole exception of the Convertibility Plan between 1991 and 2001. What is inflation and what were the different strategies used throughout Argentine history?\n",
      "\n",
      "POS: [('Since', 'IN'), ('the', 'DT'), ('1940s', 'CD'), ('Argentina', 'NNP'), ('has', 'VBZ'), ('suffered', 'VBN'), ('from', 'IN'), ('an', 'DT'), ('inflationary', 'JJ'), ('economy', 'NN'), ('with', 'IN'), ('the', 'DT'), ('sole', 'JJ'), ('exception', 'NN'), ('of', 'IN'), ('the', 'DT'), ('Convertibility', 'NNP'), ('Plan', 'NNP'), ('between', 'IN'), ('1991', 'CD'), ('and', 'CC'), ('2001', 'CD'), ('What', 'WP'), ('is', 'VBZ'), ('inflation', 'NN'), ('and', 'CC'), ('what', 'WDT'), ('were', 'VBD'), ('the', 'DT'), ('different', 'JJ'), ('strategies', 'NNS'), ('used', 'VBN'), ('throughout', 'IN'), ('Argentine', 'NNP'), ('history', 'NN')]\n",
      "\n",
      "Sustantivos: ['argentina', 'inflationary economy', 'sole exception', 'convertibility', 'different strategies', 'argentine']\n",
      "\n",
      "Sentiment(polarity=0.0, subjectivity=0.425)\n"
     ]
    }
   ],
   "source": [
    "print(f'Input en español: {inf_der.iloc[0].lead}\\n')\n",
    "text = TextBlob(inf_izq.iloc[0].lead)\n",
    "\n",
    "print(f'POS: {text.tags}\\n')\n",
    "\n",
    "print(f'Sustantivos: {text.noun_phrases}\\n')\n",
    "\n",
    "print(text.sentiment,'\\n')\n",
    "\n",
    "translator = Translator()\n",
    "translation = translator.translate(inf_der.iloc[0].lead, src='es', dest='en')\n",
    "\n",
    "print(f'Traducción: {translation.text}\\n')\n",
    "text = TextBlob(translation.text)\n",
    "\n",
    "print(f'POS: {text.tags}\\n')\n",
    "\n",
    "print(f'Sustantivos: {text.noun_phrases}\\n') \n",
    "\n",
    "print(text.sentiment)"
   ]
  },
  {
   "cell_type": "markdown",
   "metadata": {},
   "source": [
    "### Datasets - Sentiment Analisys"
   ]
  },
  {
   "cell_type": "markdown",
   "metadata": {},
   "source": [
    "#### 1. \"derecha diario\""
   ]
  },
  {
   "cell_type": "markdown",
   "metadata": {},
   "source": [
    "Text blob with google translator"
   ]
  },
  {
   "cell_type": "code",
   "execution_count": 10,
   "metadata": {},
   "outputs": [],
   "source": [
    "translator = Translator()\n",
    "pol_t = lambda x: np.around(TextBlob(translator.translate(x, src='es', dest='en').text).sentiment.polarity, 3)\n",
    "sub_t = lambda x: np.around(TextBlob(translator.translate(x, src='es', dest='en').text).sentiment.subjectivity, 3)"
   ]
  },
  {
   "cell_type": "code",
   "execution_count": 11,
   "metadata": {},
   "outputs": [
    {
     "name": "stderr",
     "output_type": "stream",
     "text": [
      "/home/guido/anaconda3/envs/dh/lib/python3.7/site-packages/ipykernel_launcher.py:1: SettingWithCopyWarning: \n",
      "A value is trying to be set on a copy of a slice from a DataFrame.\n",
      "Try using .loc[row_indexer,col_indexer] = value instead\n",
      "\n",
      "See the caveats in the documentation: https://pandas.pydata.org/pandas-docs/stable/user_guide/indexing.html#returning-a-view-versus-a-copy\n",
      "  \"\"\"Entry point for launching an IPython kernel.\n",
      "/home/guido/anaconda3/envs/dh/lib/python3.7/site-packages/ipykernel_launcher.py:2: SettingWithCopyWarning: \n",
      "A value is trying to be set on a copy of a slice from a DataFrame.\n",
      "Try using .loc[row_indexer,col_indexer] = value instead\n",
      "\n",
      "See the caveats in the documentation: https://pandas.pydata.org/pandas-docs/stable/user_guide/indexing.html#returning-a-view-versus-a-copy\n",
      "  \n"
     ]
    }
   ],
   "source": [
    "inf_der['polarity'] = inf_der.lead.apply(pol_t)\n",
    "inf_der['subjectivity'] = inf_der.lead.apply(sub_t)"
   ]
  },
  {
   "cell_type": "code",
   "execution_count": 12,
   "metadata": {},
   "outputs": [
    {
     "name": "stdout",
     "output_type": "stream",
     "text": [
      "Polarity: 0.11348484848484848\n",
      "Subjectivity: 0.48012121212121217\n"
     ]
    }
   ],
   "source": [
    "print(f'Polarity: {inf_der.polarity.mean()}\\nSubjectivity: {inf_der.subjectivity.mean()}')"
   ]
  },
  {
   "cell_type": "markdown",
   "metadata": {},
   "source": [
    "Text blob wit textblob translator"
   ]
  },
  {
   "cell_type": "code",
   "execution_count": 13,
   "metadata": {},
   "outputs": [],
   "source": [
    "pol = lambda x: np.around(TextBlob(x).translate(to='en').sentiment.polarity, 3)\n",
    "sub = lambda x: np.around(TextBlob(x).translate(to='en').sentiment.subjectivity, 3)"
   ]
  },
  {
   "cell_type": "code",
   "execution_count": 14,
   "metadata": {},
   "outputs": [
    {
     "name": "stderr",
     "output_type": "stream",
     "text": [
      "/home/guido/anaconda3/envs/dh/lib/python3.7/site-packages/ipykernel_launcher.py:1: SettingWithCopyWarning: \n",
      "A value is trying to be set on a copy of a slice from a DataFrame.\n",
      "Try using .loc[row_indexer,col_indexer] = value instead\n",
      "\n",
      "See the caveats in the documentation: https://pandas.pydata.org/pandas-docs/stable/user_guide/indexing.html#returning-a-view-versus-a-copy\n",
      "  \"\"\"Entry point for launching an IPython kernel.\n",
      "/home/guido/anaconda3/envs/dh/lib/python3.7/site-packages/ipykernel_launcher.py:2: SettingWithCopyWarning: \n",
      "A value is trying to be set on a copy of a slice from a DataFrame.\n",
      "Try using .loc[row_indexer,col_indexer] = value instead\n",
      "\n",
      "See the caveats in the documentation: https://pandas.pydata.org/pandas-docs/stable/user_guide/indexing.html#returning-a-view-versus-a-copy\n",
      "  \n"
     ]
    }
   ],
   "source": [
    "inf_der['polarity'] = inf_der.lead.apply(pol)\n",
    "inf_der['subjectivity'] = inf_der.lead.apply(sub)"
   ]
  },
  {
   "cell_type": "code",
   "execution_count": 15,
   "metadata": {},
   "outputs": [
    {
     "name": "stdout",
     "output_type": "stream",
     "text": [
      "Polarity: 0.11290909090909089\n",
      "Subjectivity: 0.4803333333333333\n"
     ]
    }
   ],
   "source": [
    "print(f'Polarity: {inf_der.polarity.mean()}\\nSubjectivity: {inf_der.subjectivity.mean()}')"
   ]
  },
  {
   "cell_type": "markdown",
   "metadata": {},
   "source": [
    "#### 2. \"izquierda diario\""
   ]
  },
  {
   "cell_type": "code",
   "execution_count": 16,
   "metadata": {},
   "outputs": [],
   "source": [
    "inf_izq['polarity'] = inf_izq.lead.apply(pol)\n",
    "inf_izq['subjectivity'] = inf_izq.lead.apply(sub)"
   ]
  },
  {
   "cell_type": "code",
   "execution_count": 17,
   "metadata": {},
   "outputs": [
    {
     "name": "stdout",
     "output_type": "stream",
     "text": [
      "Polarity: 0.07202941176470588\n",
      "Subjectivity: 0.40885294117647053\n"
     ]
    }
   ],
   "source": [
    "print(f'Polarity: {inf_izq.polarity.mean()}\\nSubjectivity: {inf_izq.subjectivity.mean()}')"
   ]
  },
  {
   "cell_type": "code",
   "execution_count": 18,
   "metadata": {},
   "outputs": [],
   "source": [
    "inf_izq['polarity'] = inf_izq.lead.apply(pol_t)\n",
    "inf_izq['subjectivity'] = inf_izq.lead.apply(sub_t)"
   ]
  },
  {
   "cell_type": "code",
   "execution_count": 19,
   "metadata": {},
   "outputs": [
    {
     "name": "stdout",
     "output_type": "stream",
     "text": [
      "Polarity: 0.0663235294117647\n",
      "Subjectivity: 0.4091470588235294\n"
     ]
    }
   ],
   "source": [
    "print(f'Polarity: {inf_izq.polarity.mean()}\\nSubjectivity: {inf_izq.subjectivity.mean()}')"
   ]
  }
 ],
 "metadata": {
  "kernelspec": {
   "display_name": "Python 3",
   "language": "python",
   "name": "python3"
  },
  "language_info": {
   "codemirror_mode": {
    "name": "ipython",
    "version": 3
   },
   "file_extension": ".py",
   "mimetype": "text/x-python",
   "name": "python",
   "nbconvert_exporter": "python",
   "pygments_lexer": "ipython3",
   "version": "3.7.7"
  }
 },
 "nbformat": 4,
 "nbformat_minor": 4
}
