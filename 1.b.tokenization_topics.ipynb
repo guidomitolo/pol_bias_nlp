{
 "cells": [
  {
   "cell_type": "code",
   "execution_count": 1,
   "metadata": {},
   "outputs": [],
   "source": [
    "import nltk\n",
    "import pandas as pd\n",
    "import numpy as np\n",
    "import pickle\n",
    "\n",
    "from nltk.tokenize import word_tokenize\n",
    "from nltk.corpus import stopwords\n",
    "from sklearn.feature_extraction.text import CountVectorizer"
   ]
  },
  {
   "cell_type": "markdown",
   "metadata": {},
   "source": [
    "### Load Data\n",
    "#### Load \"derecha diario\" dataset from csv."
   ]
  },
  {
   "cell_type": "code",
   "execution_count": 2,
   "metadata": {},
   "outputs": [],
   "source": [
    "df = pd.read_csv('./data/derecha_econ_news.csv', index_col=0)"
   ]
  },
  {
   "cell_type": "code",
   "execution_count": 3,
   "metadata": {},
   "outputs": [
    {
     "data": {
      "text/plain": [
       "(480, 6)"
      ]
     },
     "execution_count": 3,
     "metadata": {},
     "output_type": "execute_result"
    }
   ],
   "source": [
    "df.shape"
   ]
  },
  {
   "cell_type": "code",
   "execution_count": 4,
   "metadata": {},
   "outputs": [
    {
     "data": {
      "text/html": [
       "<div>\n",
       "<style scoped>\n",
       "    .dataframe tbody tr th:only-of-type {\n",
       "        vertical-align: middle;\n",
       "    }\n",
       "\n",
       "    .dataframe tbody tr th {\n",
       "        vertical-align: top;\n",
       "    }\n",
       "\n",
       "    .dataframe thead th {\n",
       "        text-align: right;\n",
       "    }\n",
       "</style>\n",
       "<table border=\"1\" class=\"dataframe\">\n",
       "  <thead>\n",
       "    <tr style=\"text-align: right;\">\n",
       "      <th></th>\n",
       "      <th>date</th>\n",
       "      <th>flyer</th>\n",
       "      <th>title</th>\n",
       "      <th>lead</th>\n",
       "      <th>body</th>\n",
       "      <th>url</th>\n",
       "    </tr>\n",
       "  </thead>\n",
       "  <tbody>\n",
       "    <tr>\n",
       "      <th>0</th>\n",
       "      <td>17/03/2021</td>\n",
       "      <td>Economía</td>\n",
       "      <td>Argentina y España lideran los peores resultad...</td>\n",
       "      <td>La coalición social-comunista española y el ki...</td>\n",
       "      <td>Argentina y España se posicionan como los país...</td>\n",
       "      <td>https://derechadiario.com.ar/economia/argentin...</td>\n",
       "    </tr>\n",
       "    <tr>\n",
       "      <th>1</th>\n",
       "      <td>17/03/2021</td>\n",
       "      <td>Economía</td>\n",
       "      <td>Bomba de las Leliq: el Banco Central tuvo que ...</td>\n",
       "      <td>La política de esterilización que emprendió el...</td>\n",
       "      <td>Después de un 2020 marcado por la emisión mone...</td>\n",
       "      <td>https://derechadiario.com.ar/economia/bomba-de...</td>\n",
       "    </tr>\n",
       "    <tr>\n",
       "      <th>2</th>\n",
       "      <td>17/03/2021</td>\n",
       "      <td>Economía</td>\n",
       "      <td>Estados Unidos: en febrero se desaceleró el cr...</td>\n",
       "      <td>En medio de tormentas invernales y subas en lo...</td>\n",
       "      <td>La actividad del sector servicios en los Estad...</td>\n",
       "      <td>https://derechadiario.com.ar/economia/estados-...</td>\n",
       "    </tr>\n",
       "    <tr>\n",
       "      <th>3</th>\n",
       "      <td>17/03/2021</td>\n",
       "      <td>Economía</td>\n",
       "      <td>La producción industrial de Estados Unidos cay...</td>\n",
       "      <td>Las medidas energéticas del Gobierno demócrata...</td>\n",
       "      <td>La Reserva Federal informó sobre una dura cont...</td>\n",
       "      <td>https://derechadiario.com.ar/economia/la-produ...</td>\n",
       "    </tr>\n",
       "    <tr>\n",
       "      <th>4</th>\n",
       "      <td>16/03/2021</td>\n",
       "      <td>Economía</td>\n",
       "      <td>Fracaso del sistema de jubilación estatal: un ...</td>\n",
       "      <td>El sistema de pensiones argentino no es capaz ...</td>\n",
       "      <td>La estatización del sistema privado AFJP y el ...</td>\n",
       "      <td>https://derechadiario.com.ar/economia/fracaso-...</td>\n",
       "    </tr>\n",
       "  </tbody>\n",
       "</table>\n",
       "</div>"
      ],
      "text/plain": [
       "         date     flyer                                              title  \\\n",
       "0  17/03/2021  Economía  Argentina y España lideran los peores resultad...   \n",
       "1  17/03/2021  Economía  Bomba de las Leliq: el Banco Central tuvo que ...   \n",
       "2  17/03/2021  Economía  Estados Unidos: en febrero se desaceleró el cr...   \n",
       "3  17/03/2021  Economía  La producción industrial de Estados Unidos cay...   \n",
       "4  16/03/2021  Economía  Fracaso del sistema de jubilación estatal: un ...   \n",
       "\n",
       "                                                lead  \\\n",
       "0  La coalición social-comunista española y el ki...   \n",
       "1  La política de esterilización que emprendió el...   \n",
       "2  En medio de tormentas invernales y subas en lo...   \n",
       "3  Las medidas energéticas del Gobierno demócrata...   \n",
       "4  El sistema de pensiones argentino no es capaz ...   \n",
       "\n",
       "                                                body  \\\n",
       "0  Argentina y España se posicionan como los país...   \n",
       "1  Después de un 2020 marcado por la emisión mone...   \n",
       "2  La actividad del sector servicios en los Estad...   \n",
       "3  La Reserva Federal informó sobre una dura cont...   \n",
       "4  La estatización del sistema privado AFJP y el ...   \n",
       "\n",
       "                                                 url  \n",
       "0  https://derechadiario.com.ar/economia/argentin...  \n",
       "1  https://derechadiario.com.ar/economia/bomba-de...  \n",
       "2  https://derechadiario.com.ar/economia/estados-...  \n",
       "3  https://derechadiario.com.ar/economia/la-produ...  \n",
       "4  https://derechadiario.com.ar/economia/fracaso-...  "
      ]
     },
     "execution_count": 4,
     "metadata": {},
     "output_type": "execute_result"
    }
   ],
   "source": [
    "df.head(5)"
   ]
  },
  {
   "cell_type": "code",
   "execution_count": 5,
   "metadata": {},
   "outputs": [],
   "source": [
    "# remove unicode\n",
    "df.body.replace('\\n', ' ', regex=True ,inplace=True)\n",
    "df.body.replace('\\xa0', ' ', regex=True ,inplace=True)"
   ]
  },
  {
   "cell_type": "markdown",
   "metadata": {},
   "source": [
    "### Topics\n",
    "Selection of topics from news titles of the portal's economic section."
   ]
  },
  {
   "cell_type": "code",
   "execution_count": 6,
   "metadata": {},
   "outputs": [
    {
     "data": {
      "text/plain": [
       "(64, 6)"
      ]
     },
     "execution_count": 6,
     "metadata": {},
     "output_type": "execute_result"
    }
   ],
   "source": [
    "inflation = df.loc[df.title.str.contains('inflacion|inflación|emisión|salarios|salario|indec', na=False)]\n",
    "inflation.shape"
   ]
  },
  {
   "cell_type": "code",
   "execution_count": 7,
   "metadata": {},
   "outputs": [
    {
     "data": {
      "text/plain": [
       "(40, 6)"
      ]
     },
     "execution_count": 7,
     "metadata": {},
     "output_type": "execute_result"
    }
   ],
   "source": [
    "exchange = df.loc[df.title.str.contains('dolar|dólar|dolares|dólares|dolarización|cambio|cepo', na=False)]\n",
    "exchange.shape"
   ]
  },
  {
   "cell_type": "markdown",
   "metadata": {},
   "source": [
    "### Corpus (Body)\n",
    "Clipping of the selected news body from 2020 and erasing nulls"
   ]
  },
  {
   "cell_type": "markdown",
   "metadata": {},
   "source": [
    "#### Topic: Inflation"
   ]
  },
  {
   "cell_type": "code",
   "execution_count": 8,
   "metadata": {},
   "outputs": [
    {
     "data": {
      "text/plain": [
       "45"
      ]
     },
     "execution_count": 8,
     "metadata": {},
     "output_type": "execute_result"
    }
   ],
   "source": [
    "year = inflation.date.str.contains('2020', na=False)\n",
    "year.sum()"
   ]
  },
  {
   "cell_type": "code",
   "execution_count": 9,
   "metadata": {},
   "outputs": [
    {
     "name": "stderr",
     "output_type": "stream",
     "text": [
      "/home/guido/anaconda3/envs/dh/lib/python3.7/site-packages/ipykernel_launcher.py:2: SettingWithCopyWarning: \n",
      "A value is trying to be set on a copy of a slice from a DataFrame\n",
      "\n",
      "See the caveats in the documentation: https://pandas.pydata.org/pandas-docs/stable/user_guide/indexing.html#returning-a-view-versus-a-copy\n",
      "  \n"
     ]
    },
    {
     "data": {
      "text/plain": [
       "(45, 6)"
      ]
     },
     "execution_count": 9,
     "metadata": {},
     "output_type": "execute_result"
    }
   ],
   "source": [
    "inflation_2020 = inflation[year]\n",
    "inflation_2020.dropna(inplace=True)\n",
    "inflation_2020.shape"
   ]
  },
  {
   "cell_type": "code",
   "execution_count": 10,
   "metadata": {},
   "outputs": [],
   "source": [
    "inflation_2020 = inflation_2020.reset_index()"
   ]
  },
  {
   "cell_type": "code",
   "execution_count": 11,
   "metadata": {},
   "outputs": [],
   "source": [
    "inflation_2020.insert(loc=1, column='topics', value='inflation')"
   ]
  },
  {
   "cell_type": "code",
   "execution_count": 12,
   "metadata": {},
   "outputs": [
    {
     "data": {
      "text/html": [
       "<div>\n",
       "<style scoped>\n",
       "    .dataframe tbody tr th:only-of-type {\n",
       "        vertical-align: middle;\n",
       "    }\n",
       "\n",
       "    .dataframe tbody tr th {\n",
       "        vertical-align: top;\n",
       "    }\n",
       "\n",
       "    .dataframe thead th {\n",
       "        text-align: right;\n",
       "    }\n",
       "</style>\n",
       "<table border=\"1\" class=\"dataframe\">\n",
       "  <thead>\n",
       "    <tr style=\"text-align: right;\">\n",
       "      <th></th>\n",
       "      <th>index</th>\n",
       "      <th>topics</th>\n",
       "      <th>date</th>\n",
       "      <th>flyer</th>\n",
       "      <th>title</th>\n",
       "      <th>lead</th>\n",
       "      <th>body</th>\n",
       "      <th>url</th>\n",
       "    </tr>\n",
       "  </thead>\n",
       "  <tbody>\n",
       "    <tr>\n",
       "      <th>0</th>\n",
       "      <td>110</td>\n",
       "      <td>inflation</td>\n",
       "      <td>24/12/2020</td>\n",
       "      <td>Economía</td>\n",
       "      <td>Represión inflacionaria y riesgo para 2021: Mo...</td>\n",
       "      <td>La famosa multinacional financiera alerta sobr...</td>\n",
       "      <td>En medio de una época típicamente marcada por ...</td>\n",
       "      <td>https://derechadiario.com.ar/economia/represio...</td>\n",
       "    </tr>\n",
       "    <tr>\n",
       "      <th>1</th>\n",
       "      <td>121</td>\n",
       "      <td>inflation</td>\n",
       "      <td>16/12/2020</td>\n",
       "      <td>Economía</td>\n",
       "      <td>A pesar de las medidas de último recurso de Gu...</td>\n",
       "      <td>El INDEC difundió los resultados del índice de...</td>\n",
       "      <td>El Instituto Nacional de Estadística y Censos ...</td>\n",
       "      <td>https://derechadiario.com.ar/economia/a-pesar-...</td>\n",
       "    </tr>\n",
       "    <tr>\n",
       "      <th>2</th>\n",
       "      <td>122</td>\n",
       "      <td>inflation</td>\n",
       "      <td>15/12/2020</td>\n",
       "      <td>Economía</td>\n",
       "      <td>La AFIP no da respiro: el mínimo no imponible ...</td>\n",
       "      <td>El Mínimo No Imponible sólo aumentará 35,38% y...</td>\n",
       "      <td>Desde 2018, según lo establecido por la Ley 27...</td>\n",
       "      <td>https://derechadiario.com.ar/economia/la-afip-...</td>\n",
       "    </tr>\n",
       "    <tr>\n",
       "      <th>3</th>\n",
       "      <td>124</td>\n",
       "      <td>inflation</td>\n",
       "      <td>14/12/2020</td>\n",
       "      <td>Economía</td>\n",
       "      <td>Fracaso de los Precios Máximos: 580 negocios f...</td>\n",
       "      <td>Pese a los rigurosos controles de la Secretarí...</td>\n",
       "      <td>El Índice de Precios al Consumidor y las expec...</td>\n",
       "      <td>https://derechadiario.com.ar/economia/fracaso-...</td>\n",
       "    </tr>\n",
       "    <tr>\n",
       "      <th>4</th>\n",
       "      <td>126</td>\n",
       "      <td>inflation</td>\n",
       "      <td>12/12/2020</td>\n",
       "      <td>Economía</td>\n",
       "      <td>Crece el empleo estatal mientras cae el sector...</td>\n",
       "      <td>Pese al cepo laboral y las restricciones, el s...</td>\n",
       "      <td>Según el INDEC, el sector privado formal habrí...</td>\n",
       "      <td>https://derechadiario.com.ar/economia/crece-el...</td>\n",
       "    </tr>\n",
       "  </tbody>\n",
       "</table>\n",
       "</div>"
      ],
      "text/plain": [
       "   index     topics        date     flyer  \\\n",
       "0    110  inflation  24/12/2020  Economía   \n",
       "1    121  inflation  16/12/2020  Economía   \n",
       "2    122  inflation  15/12/2020  Economía   \n",
       "3    124  inflation  14/12/2020  Economía   \n",
       "4    126  inflation  12/12/2020  Economía   \n",
       "\n",
       "                                               title  \\\n",
       "0  Represión inflacionaria y riesgo para 2021: Mo...   \n",
       "1  A pesar de las medidas de último recurso de Gu...   \n",
       "2  La AFIP no da respiro: el mínimo no imponible ...   \n",
       "3  Fracaso de los Precios Máximos: 580 negocios f...   \n",
       "4  Crece el empleo estatal mientras cae el sector...   \n",
       "\n",
       "                                                lead  \\\n",
       "0  La famosa multinacional financiera alerta sobr...   \n",
       "1  El INDEC difundió los resultados del índice de...   \n",
       "2  El Mínimo No Imponible sólo aumentará 35,38% y...   \n",
       "3  Pese a los rigurosos controles de la Secretarí...   \n",
       "4  Pese al cepo laboral y las restricciones, el s...   \n",
       "\n",
       "                                                body  \\\n",
       "0  En medio de una época típicamente marcada por ...   \n",
       "1  El Instituto Nacional de Estadística y Censos ...   \n",
       "2  Desde 2018, según lo establecido por la Ley 27...   \n",
       "3  El Índice de Precios al Consumidor y las expec...   \n",
       "4  Según el INDEC, el sector privado formal habrí...   \n",
       "\n",
       "                                                 url  \n",
       "0  https://derechadiario.com.ar/economia/represio...  \n",
       "1  https://derechadiario.com.ar/economia/a-pesar-...  \n",
       "2  https://derechadiario.com.ar/economia/la-afip-...  \n",
       "3  https://derechadiario.com.ar/economia/fracaso-...  \n",
       "4  https://derechadiario.com.ar/economia/crece-el...  "
      ]
     },
     "execution_count": 12,
     "metadata": {},
     "output_type": "execute_result"
    }
   ],
   "source": [
    "inflation_2020.head(5)"
   ]
  },
  {
   "cell_type": "markdown",
   "metadata": {},
   "source": [
    "#### Topic: Currency Exchange"
   ]
  },
  {
   "cell_type": "code",
   "execution_count": 13,
   "metadata": {},
   "outputs": [
    {
     "data": {
      "text/plain": [
       "33"
      ]
     },
     "execution_count": 13,
     "metadata": {},
     "output_type": "execute_result"
    }
   ],
   "source": [
    "year = exchange.date.str.contains('2020', na=False)\n",
    "year.sum()"
   ]
  },
  {
   "cell_type": "code",
   "execution_count": 14,
   "metadata": {},
   "outputs": [
    {
     "name": "stderr",
     "output_type": "stream",
     "text": [
      "/home/guido/anaconda3/envs/dh/lib/python3.7/site-packages/ipykernel_launcher.py:1: UserWarning: Boolean Series key will be reindexed to match DataFrame index.\n",
      "  \"\"\"Entry point for launching an IPython kernel.\n",
      "/home/guido/anaconda3/envs/dh/lib/python3.7/site-packages/ipykernel_launcher.py:2: SettingWithCopyWarning: \n",
      "A value is trying to be set on a copy of a slice from a DataFrame\n",
      "\n",
      "See the caveats in the documentation: https://pandas.pydata.org/pandas-docs/stable/user_guide/indexing.html#returning-a-view-versus-a-copy\n",
      "  \n"
     ]
    },
    {
     "data": {
      "text/plain": [
       "(33, 6)"
      ]
     },
     "execution_count": 14,
     "metadata": {},
     "output_type": "execute_result"
    }
   ],
   "source": [
    "exchange_2020 = exchange[df.date.str.contains('2020', na=False)]\n",
    "exchange_2020.dropna(inplace=True)\n",
    "exchange_2020.shape"
   ]
  },
  {
   "cell_type": "code",
   "execution_count": 15,
   "metadata": {},
   "outputs": [],
   "source": [
    "exchange_2020 = exchange_2020.reset_index()"
   ]
  },
  {
   "cell_type": "code",
   "execution_count": 16,
   "metadata": {},
   "outputs": [],
   "source": [
    "exchange_2020.insert(loc=1, column='topics', value='exchange')"
   ]
  },
  {
   "cell_type": "code",
   "execution_count": 17,
   "metadata": {},
   "outputs": [
    {
     "data": {
      "text/html": [
       "<div>\n",
       "<style scoped>\n",
       "    .dataframe tbody tr th:only-of-type {\n",
       "        vertical-align: middle;\n",
       "    }\n",
       "\n",
       "    .dataframe tbody tr th {\n",
       "        vertical-align: top;\n",
       "    }\n",
       "\n",
       "    .dataframe thead th {\n",
       "        text-align: right;\n",
       "    }\n",
       "</style>\n",
       "<table border=\"1\" class=\"dataframe\">\n",
       "  <thead>\n",
       "    <tr style=\"text-align: right;\">\n",
       "      <th></th>\n",
       "      <th>index</th>\n",
       "      <th>topics</th>\n",
       "      <th>date</th>\n",
       "      <th>flyer</th>\n",
       "      <th>title</th>\n",
       "      <th>lead</th>\n",
       "      <th>body</th>\n",
       "      <th>url</th>\n",
       "    </tr>\n",
       "  </thead>\n",
       "  <tbody>\n",
       "    <tr>\n",
       "      <th>0</th>\n",
       "      <td>102</td>\n",
       "      <td>exchange</td>\n",
       "      <td>30/12/2020</td>\n",
       "      <td>Economía</td>\n",
       "      <td>El Banco Central Argentino va a restringir las...</td>\n",
       "      <td>La autoridad monetaria argentina seguirá restr...</td>\n",
       "      <td>El tipo de cambio en los mercados oficiales se...</td>\n",
       "      <td>https://derechadiario.com.ar/economia/el-banco...</td>\n",
       "    </tr>\n",
       "    <tr>\n",
       "      <th>1</th>\n",
       "      <td>130</td>\n",
       "      <td>exchange</td>\n",
       "      <td>09/12/2020</td>\n",
       "      <td>Economía</td>\n",
       "      <td>El reconocido ejecutivo Mark Mobius usó el fra...</td>\n",
       "      <td>El famoso hombre de las finanzas internacional...</td>\n",
       "      <td>Mark Mobius, el reconocido gestor de mercados ...</td>\n",
       "      <td>https://derechadiario.com.ar/economia/el-recon...</td>\n",
       "    </tr>\n",
       "    <tr>\n",
       "      <th>2</th>\n",
       "      <td>149</td>\n",
       "      <td>exchange</td>\n",
       "      <td>24/11/2020</td>\n",
       "      <td>Economía</td>\n",
       "      <td>El economista Steve Hanke advierte que la infl...</td>\n",
       "      <td>El economista norteamericano de la Universidad...</td>\n",
       "      <td>El economista Steve Hanke, profesor e investig...</td>\n",
       "      <td>https://derechadiario.com.ar/economia/el-econo...</td>\n",
       "    </tr>\n",
       "    <tr>\n",
       "      <th>3</th>\n",
       "      <td>154</td>\n",
       "      <td>exchange</td>\n",
       "      <td>18/11/2020</td>\n",
       "      <td>Economía</td>\n",
       "      <td>Desesperación en el régimen chavista: el Banco...</td>\n",
       "      <td>Tras casi cinco años de hiperinflación, el Ban...</td>\n",
       "      <td>Según un reciente informe de Bloomberg, fuente...</td>\n",
       "      <td>https://derechadiario.com.ar/economia/desesper...</td>\n",
       "    </tr>\n",
       "    <tr>\n",
       "      <th>4</th>\n",
       "      <td>159</td>\n",
       "      <td>exchange</td>\n",
       "      <td>13/11/2020</td>\n",
       "      <td>Economía</td>\n",
       "      <td>Nueva subida del dólar blue: ya acumula $23 en...</td>\n",
       "      <td>Tras haber caído por debajo de los $150, el dó...</td>\n",
       "      <td>Hoy el dólar libre llegó a venderse a $174 en ...</td>\n",
       "      <td>https://derechadiario.com.ar/economia/nueva-su...</td>\n",
       "    </tr>\n",
       "  </tbody>\n",
       "</table>\n",
       "</div>"
      ],
      "text/plain": [
       "   index    topics        date     flyer  \\\n",
       "0    102  exchange  30/12/2020  Economía   \n",
       "1    130  exchange  09/12/2020  Economía   \n",
       "2    149  exchange  24/11/2020  Economía   \n",
       "3    154  exchange  18/11/2020  Economía   \n",
       "4    159  exchange  13/11/2020  Economía   \n",
       "\n",
       "                                               title  \\\n",
       "0  El Banco Central Argentino va a restringir las...   \n",
       "1  El reconocido ejecutivo Mark Mobius usó el fra...   \n",
       "2  El economista Steve Hanke advierte que la infl...   \n",
       "3  Desesperación en el régimen chavista: el Banco...   \n",
       "4  Nueva subida del dólar blue: ya acumula $23 en...   \n",
       "\n",
       "                                                lead  \\\n",
       "0  La autoridad monetaria argentina seguirá restr...   \n",
       "1  El famoso hombre de las finanzas internacional...   \n",
       "2  El economista norteamericano de la Universidad...   \n",
       "3  Tras casi cinco años de hiperinflación, el Ban...   \n",
       "4  Tras haber caído por debajo de los $150, el dó...   \n",
       "\n",
       "                                                body  \\\n",
       "0  El tipo de cambio en los mercados oficiales se...   \n",
       "1  Mark Mobius, el reconocido gestor de mercados ...   \n",
       "2  El economista Steve Hanke, profesor e investig...   \n",
       "3  Según un reciente informe de Bloomberg, fuente...   \n",
       "4  Hoy el dólar libre llegó a venderse a $174 en ...   \n",
       "\n",
       "                                                 url  \n",
       "0  https://derechadiario.com.ar/economia/el-banco...  \n",
       "1  https://derechadiario.com.ar/economia/el-recon...  \n",
       "2  https://derechadiario.com.ar/economia/el-econo...  \n",
       "3  https://derechadiario.com.ar/economia/desesper...  \n",
       "4  https://derechadiario.com.ar/economia/nueva-su...  "
      ]
     },
     "execution_count": 17,
     "metadata": {},
     "output_type": "execute_result"
    }
   ],
   "source": [
    "exchange_2020.head(5)"
   ]
  },
  {
   "cell_type": "code",
   "execution_count": 18,
   "metadata": {},
   "outputs": [
    {
     "data": {
      "text/plain": [
       "(78, 8)"
      ]
     },
     "execution_count": 18,
     "metadata": {},
     "output_type": "execute_result"
    }
   ],
   "source": [
    "data_clean = inflation_2020.append(exchange_2020)\n",
    "data_clean.shape"
   ]
  },
  {
   "cell_type": "markdown",
   "metadata": {},
   "source": [
    "I drop those news labeled under both topics"
   ]
  },
  {
   "cell_type": "code",
   "execution_count": 19,
   "metadata": {},
   "outputs": [
    {
     "data": {
      "text/plain": [
       "(72, 8)"
      ]
     },
     "execution_count": 19,
     "metadata": {},
     "output_type": "execute_result"
    }
   ],
   "source": [
    "data_clean = data_clean.drop_duplicates(subset='index',keep=False)\n",
    "data_clean.shape"
   ]
  },
  {
   "cell_type": "markdown",
   "metadata": {},
   "source": [
    "Check the number of words per article's body and discard those incompleted"
   ]
  },
  {
   "cell_type": "code",
   "execution_count": 20,
   "metadata": {},
   "outputs": [
    {
     "data": {
      "text/plain": [
       "0"
      ]
     },
     "execution_count": 20,
     "metadata": {},
     "output_type": "execute_result"
    }
   ],
   "source": [
    "filter = data_clean.body.apply(lambda x: len(word_tokenize(x))) < 150\n",
    "filter.sum()"
   ]
  },
  {
   "cell_type": "code",
   "execution_count": 21,
   "metadata": {},
   "outputs": [],
   "source": [
    "data_clean.drop(data_clean[filter].index, axis=0, inplace=True)"
   ]
  },
  {
   "cell_type": "markdown",
   "metadata": {},
   "source": [
    "#### Save selection"
   ]
  },
  {
   "cell_type": "code",
   "execution_count": 22,
   "metadata": {},
   "outputs": [],
   "source": [
    "data_clean.reset_index(drop=True, inplace=True)"
   ]
  },
  {
   "cell_type": "code",
   "execution_count": 23,
   "metadata": {},
   "outputs": [],
   "source": [
    "data_clean.drop('index', axis=1, inplace=True)"
   ]
  },
  {
   "cell_type": "code",
   "execution_count": 24,
   "metadata": {},
   "outputs": [
    {
     "name": "stdout",
     "output_type": "stream",
     "text": [
      "num inflation news: 42\n",
      "num exchange news: 30\n"
     ]
    }
   ],
   "source": [
    "print('num inflation news:', data_clean.loc[data_clean.topics == 'inflation',].shape[0])\n",
    "print('num exchange news:', data_clean.loc[data_clean.topics == 'exchange',].shape[0])"
   ]
  },
  {
   "cell_type": "code",
   "execution_count": 25,
   "metadata": {},
   "outputs": [
    {
     "data": {
      "text/html": [
       "<div>\n",
       "<style scoped>\n",
       "    .dataframe tbody tr th:only-of-type {\n",
       "        vertical-align: middle;\n",
       "    }\n",
       "\n",
       "    .dataframe tbody tr th {\n",
       "        vertical-align: top;\n",
       "    }\n",
       "\n",
       "    .dataframe thead th {\n",
       "        text-align: right;\n",
       "    }\n",
       "</style>\n",
       "<table border=\"1\" class=\"dataframe\">\n",
       "  <thead>\n",
       "    <tr style=\"text-align: right;\">\n",
       "      <th></th>\n",
       "      <th>topics</th>\n",
       "      <th>date</th>\n",
       "      <th>flyer</th>\n",
       "      <th>title</th>\n",
       "      <th>lead</th>\n",
       "      <th>body</th>\n",
       "      <th>url</th>\n",
       "    </tr>\n",
       "  </thead>\n",
       "  <tbody>\n",
       "    <tr>\n",
       "      <th>59</th>\n",
       "      <td>exchange</td>\n",
       "      <td>11/06/2020</td>\n",
       "      <td>Economía</td>\n",
       "      <td>El Banco Central dispone una pequeña flexibili...</td>\n",
       "      <td>El titular del BCRA Miguel Pesce, dispuso una ...</td>\n",
       "      <td>En un golpe de confianza producido por la recu...</td>\n",
       "      <td>https://derechadiario.com.ar/economia/el-banco...</td>\n",
       "    </tr>\n",
       "    <tr>\n",
       "      <th>18</th>\n",
       "      <td>inflation</td>\n",
       "      <td>11/09/2020</td>\n",
       "      <td>Economía</td>\n",
       "      <td>Presupuesto 2021: el Gobierno estima una recup...</td>\n",
       "      <td>El ministerio de Economía prepara su ley de pr...</td>\n",
       "      <td>El Gobierno está preparando los primeros borra...</td>\n",
       "      <td>https://derechadiario.com.ar/economia/presupue...</td>\n",
       "    </tr>\n",
       "    <tr>\n",
       "      <th>0</th>\n",
       "      <td>inflation</td>\n",
       "      <td>24/12/2020</td>\n",
       "      <td>Economía</td>\n",
       "      <td>Represión inflacionaria y riesgo para 2021: Mo...</td>\n",
       "      <td>La famosa multinacional financiera alerta sobr...</td>\n",
       "      <td>En medio de una época típicamente marcada por ...</td>\n",
       "      <td>https://derechadiario.com.ar/economia/represio...</td>\n",
       "    </tr>\n",
       "    <tr>\n",
       "      <th>2</th>\n",
       "      <td>inflation</td>\n",
       "      <td>15/12/2020</td>\n",
       "      <td>Economía</td>\n",
       "      <td>La AFIP no da respiro: el mínimo no imponible ...</td>\n",
       "      <td>El Mínimo No Imponible sólo aumentará 35,38% y...</td>\n",
       "      <td>Desde 2018, según lo establecido por la Ley 27...</td>\n",
       "      <td>https://derechadiario.com.ar/economia/la-afip-...</td>\n",
       "    </tr>\n",
       "    <tr>\n",
       "      <th>71</th>\n",
       "      <td>exchange</td>\n",
       "      <td>23/02/2020</td>\n",
       "      <td>Economía</td>\n",
       "      <td>Los argentinos quieren un cambio en su moneda</td>\n",
       "      <td>De acuerdo al estudio “Cryptocurrencies and th...</td>\n",
       "      <td>Los ciudadanos de países con poca confianza en...</td>\n",
       "      <td>https://derechadiario.com.ar/economia/los-arge...</td>\n",
       "    </tr>\n",
       "  </tbody>\n",
       "</table>\n",
       "</div>"
      ],
      "text/plain": [
       "       topics        date     flyer  \\\n",
       "59   exchange  11/06/2020  Economía   \n",
       "18  inflation  11/09/2020  Economía   \n",
       "0   inflation  24/12/2020  Economía   \n",
       "2   inflation  15/12/2020  Economía   \n",
       "71   exchange  23/02/2020  Economía   \n",
       "\n",
       "                                                title  \\\n",
       "59  El Banco Central dispone una pequeña flexibili...   \n",
       "18  Presupuesto 2021: el Gobierno estima una recup...   \n",
       "0   Represión inflacionaria y riesgo para 2021: Mo...   \n",
       "2   La AFIP no da respiro: el mínimo no imponible ...   \n",
       "71      Los argentinos quieren un cambio en su moneda   \n",
       "\n",
       "                                                 lead  \\\n",
       "59  El titular del BCRA Miguel Pesce, dispuso una ...   \n",
       "18  El ministerio de Economía prepara su ley de pr...   \n",
       "0   La famosa multinacional financiera alerta sobr...   \n",
       "2   El Mínimo No Imponible sólo aumentará 35,38% y...   \n",
       "71  De acuerdo al estudio “Cryptocurrencies and th...   \n",
       "\n",
       "                                                 body  \\\n",
       "59  En un golpe de confianza producido por la recu...   \n",
       "18  El Gobierno está preparando los primeros borra...   \n",
       "0   En medio de una época típicamente marcada por ...   \n",
       "2   Desde 2018, según lo establecido por la Ley 27...   \n",
       "71  Los ciudadanos de países con poca confianza en...   \n",
       "\n",
       "                                                  url  \n",
       "59  https://derechadiario.com.ar/economia/el-banco...  \n",
       "18  https://derechadiario.com.ar/economia/presupue...  \n",
       "0   https://derechadiario.com.ar/economia/represio...  \n",
       "2   https://derechadiario.com.ar/economia/la-afip-...  \n",
       "71  https://derechadiario.com.ar/economia/los-arge...  "
      ]
     },
     "execution_count": 25,
     "metadata": {},
     "output_type": "execute_result"
    }
   ],
   "source": [
    "data_clean.sample(5)"
   ]
  },
  {
   "cell_type": "code",
   "execution_count": 26,
   "metadata": {},
   "outputs": [],
   "source": [
    "pickle.dump(data_clean, open( \"data/df_clean_der.pkl\", \"wb\" ))"
   ]
  },
  {
   "cell_type": "code",
   "execution_count": 27,
   "metadata": {},
   "outputs": [
    {
     "data": {
      "text/plain": [
       "(72, 7)"
      ]
     },
     "execution_count": 27,
     "metadata": {},
     "output_type": "execute_result"
    }
   ],
   "source": [
    "corpus = data_clean\n",
    "corpus.shape"
   ]
  },
  {
   "cell_type": "markdown",
   "metadata": {},
   "source": [
    "### Tokenization\n",
    "#### Manual"
   ]
  },
  {
   "cell_type": "code",
   "execution_count": 28,
   "metadata": {},
   "outputs": [],
   "source": [
    "import re\n",
    "import unidecode"
   ]
  },
  {
   "cell_type": "markdown",
   "metadata": {},
   "source": [
    "\"Stop words\", special characters, accents and numbers are removed"
   ]
  },
  {
   "cell_type": "code",
   "execution_count": 29,
   "metadata": {},
   "outputs": [],
   "source": [
    "stopwords_sp = stopwords.words('spanish')"
   ]
  },
  {
   "cell_type": "code",
   "execution_count": 30,
   "metadata": {},
   "outputs": [],
   "source": [
    "def tokenizer(texto):\n",
    "\n",
    "    alphanumeric = re.sub(r'([^\\s\\w]|_)+', '', texto).lower()\n",
    "    no_accents = unidecode.unidecode(alphanumeric)\n",
    "    \n",
    "    tockens = word_tokenize(no_accents)\n",
    "    \n",
    "    tockens_clean = [tocken for tocken in tockens if tocken not in stopwords_sp and tocken.isalpha()]\n",
    "    \n",
    "    terminos = tockens_clean\n",
    "\n",
    "    return terminos"
   ]
  },
  {
   "cell_type": "code",
   "execution_count": 31,
   "metadata": {},
   "outputs": [],
   "source": [
    "tokenized = [tokenizer(documento) for documento in corpus.body]"
   ]
  },
  {
   "cell_type": "code",
   "execution_count": 32,
   "metadata": {},
   "outputs": [],
   "source": [
    "vocabulario = sorted(list(set([word for group in tokenized for word in group])))"
   ]
  },
  {
   "cell_type": "code",
   "execution_count": 33,
   "metadata": {},
   "outputs": [
    {
     "data": {
      "text/plain": [
       "5373"
      ]
     },
     "execution_count": 33,
     "metadata": {},
     "output_type": "execute_result"
    }
   ],
   "source": [
    "len(vocabulario)"
   ]
  },
  {
   "cell_type": "markdown",
   "metadata": {},
   "source": [
    "#### CountVectorizer"
   ]
  },
  {
   "cell_type": "code",
   "execution_count": 34,
   "metadata": {},
   "outputs": [],
   "source": [
    "from sklearn.feature_extraction.text import CountVectorizer"
   ]
  },
  {
   "cell_type": "markdown",
   "metadata": {},
   "source": [
    "Removal of special characters function to load in vectorizer"
   ]
  },
  {
   "cell_type": "code",
   "execution_count": 35,
   "metadata": {},
   "outputs": [],
   "source": [
    "def removal(text):\n",
    "    text = re.sub(r'(\\d|\\$|\\%|\\+)', '', text.lower())\n",
    "    return re.sub(r'\\d+', '', text)"
   ]
  },
  {
   "cell_type": "code",
   "execution_count": 36,
   "metadata": {},
   "outputs": [],
   "source": [
    "vectorizer = CountVectorizer(stop_words = stopwords_sp, lowercase = True, strip_accents='unicode', preprocessor=removal)"
   ]
  },
  {
   "cell_type": "code",
   "execution_count": 37,
   "metadata": {},
   "outputs": [
    {
     "data": {
      "text/plain": [
       "CountVectorizer(preprocessor=<function removal at 0x7fb6dcb33290>,\n",
       "                stop_words=['de', 'la', 'que', 'el', 'en', 'y', 'a', 'los',\n",
       "                            'del', 'se', 'las', 'por', 'un', 'para', 'con',\n",
       "                            'no', 'una', 'su', 'al', 'lo', 'como', 'más',\n",
       "                            'pero', 'sus', 'le', 'ya', 'o', 'este', 'sí',\n",
       "                            'porque', ...],\n",
       "                strip_accents='unicode')"
      ]
     },
     "execution_count": 37,
     "metadata": {},
     "output_type": "execute_result"
    }
   ],
   "source": [
    "vectorizer.fit(corpus.body)"
   ]
  },
  {
   "cell_type": "code",
   "execution_count": 38,
   "metadata": {},
   "outputs": [
    {
     "data": {
      "text/plain": [
       "(5233, 5233)"
      ]
     },
     "execution_count": 38,
     "metadata": {},
     "output_type": "execute_result"
    }
   ],
   "source": [
    "len(vectorizer.vocabulary_), len(vectorizer.get_feature_names())"
   ]
  },
  {
   "cell_type": "markdown",
   "metadata": {},
   "source": [
    "I prefare the manual tokenization results since the process is clearer and there are more terms."
   ]
  },
  {
   "cell_type": "markdown",
   "metadata": {},
   "source": [
    "### Pickle"
   ]
  },
  {
   "cell_type": "markdown",
   "metadata": {},
   "source": [
    "Manual tokens"
   ]
  },
  {
   "cell_type": "code",
   "execution_count": 39,
   "metadata": {},
   "outputs": [],
   "source": [
    "def token_matrix_maker(data, vocabulario):\n",
    "    matriz = np.zeros(shape = (len(data), len(vocabulario)), dtype='int')\n",
    "    for i, documento in enumerate(data):\n",
    "        for termino in documento:\n",
    "            matriz[i, vocabulario.index(termino)] += 1\n",
    "    return matriz"
   ]
  },
  {
   "cell_type": "code",
   "execution_count": 40,
   "metadata": {},
   "outputs": [],
   "source": [
    "matrix = token_matrix_maker(tokenized, vocabulario)"
   ]
  },
  {
   "cell_type": "code",
   "execution_count": 41,
   "metadata": {},
   "outputs": [],
   "source": [
    "# make dataframe\n",
    "token_df = pd.DataFrame(matrix, columns=vocabulario, index = ['doc' + str(i + 1) for i in range(len(tokenized))] )"
   ]
  },
  {
   "cell_type": "code",
   "execution_count": 42,
   "metadata": {},
   "outputs": [],
   "source": [
    "# add classification column\n",
    "topics = ['inflation' for i in range((corpus.topics == 'inflation').sum())] + ['exchange' for i in range((corpus.topics == 'exchange').sum())]\n",
    "token_df.insert(loc=0, column='topics', value=topics)"
   ]
  },
  {
   "cell_type": "code",
   "execution_count": 43,
   "metadata": {},
   "outputs": [
    {
     "data": {
      "text/html": [
       "<div>\n",
       "<style scoped>\n",
       "    .dataframe tbody tr th:only-of-type {\n",
       "        vertical-align: middle;\n",
       "    }\n",
       "\n",
       "    .dataframe tbody tr th {\n",
       "        vertical-align: top;\n",
       "    }\n",
       "\n",
       "    .dataframe thead th {\n",
       "        text-align: right;\n",
       "    }\n",
       "</style>\n",
       "<table border=\"1\" class=\"dataframe\">\n",
       "  <thead>\n",
       "    <tr style=\"text-align: right;\">\n",
       "      <th></th>\n",
       "      <th>topics</th>\n",
       "      <th>abajo</th>\n",
       "      <th>abandonara</th>\n",
       "      <th>abandone</th>\n",
       "      <th>abastecimiento</th>\n",
       "      <th>abatida</th>\n",
       "      <th>abierta</th>\n",
       "      <th>abierto</th>\n",
       "      <th>abismal</th>\n",
       "      <th>abismalesen</th>\n",
       "      <th>...</th>\n",
       "      <th>woyecheszen</th>\n",
       "      <th>xx</th>\n",
       "      <th>yaguarete</th>\n",
       "      <th>york</th>\n",
       "      <th>ypf</th>\n",
       "      <th>yuanes</th>\n",
       "      <th>zamora</th>\n",
       "      <th>zona</th>\n",
       "      <th>zonaprop</th>\n",
       "      <th>zonas</th>\n",
       "    </tr>\n",
       "  </thead>\n",
       "  <tbody>\n",
       "    <tr>\n",
       "      <th>doc1</th>\n",
       "      <td>inflation</td>\n",
       "      <td>0</td>\n",
       "      <td>0</td>\n",
       "      <td>0</td>\n",
       "      <td>0</td>\n",
       "      <td>0</td>\n",
       "      <td>0</td>\n",
       "      <td>0</td>\n",
       "      <td>0</td>\n",
       "      <td>0</td>\n",
       "      <td>...</td>\n",
       "      <td>0</td>\n",
       "      <td>0</td>\n",
       "      <td>0</td>\n",
       "      <td>0</td>\n",
       "      <td>0</td>\n",
       "      <td>0</td>\n",
       "      <td>0</td>\n",
       "      <td>0</td>\n",
       "      <td>0</td>\n",
       "      <td>0</td>\n",
       "    </tr>\n",
       "    <tr>\n",
       "      <th>doc2</th>\n",
       "      <td>inflation</td>\n",
       "      <td>0</td>\n",
       "      <td>0</td>\n",
       "      <td>0</td>\n",
       "      <td>0</td>\n",
       "      <td>0</td>\n",
       "      <td>0</td>\n",
       "      <td>0</td>\n",
       "      <td>0</td>\n",
       "      <td>0</td>\n",
       "      <td>...</td>\n",
       "      <td>0</td>\n",
       "      <td>0</td>\n",
       "      <td>0</td>\n",
       "      <td>0</td>\n",
       "      <td>0</td>\n",
       "      <td>0</td>\n",
       "      <td>0</td>\n",
       "      <td>0</td>\n",
       "      <td>0</td>\n",
       "      <td>0</td>\n",
       "    </tr>\n",
       "    <tr>\n",
       "      <th>doc3</th>\n",
       "      <td>inflation</td>\n",
       "      <td>0</td>\n",
       "      <td>0</td>\n",
       "      <td>0</td>\n",
       "      <td>0</td>\n",
       "      <td>0</td>\n",
       "      <td>0</td>\n",
       "      <td>0</td>\n",
       "      <td>0</td>\n",
       "      <td>0</td>\n",
       "      <td>...</td>\n",
       "      <td>0</td>\n",
       "      <td>0</td>\n",
       "      <td>0</td>\n",
       "      <td>0</td>\n",
       "      <td>0</td>\n",
       "      <td>0</td>\n",
       "      <td>0</td>\n",
       "      <td>0</td>\n",
       "      <td>0</td>\n",
       "      <td>0</td>\n",
       "    </tr>\n",
       "    <tr>\n",
       "      <th>doc4</th>\n",
       "      <td>inflation</td>\n",
       "      <td>0</td>\n",
       "      <td>0</td>\n",
       "      <td>0</td>\n",
       "      <td>0</td>\n",
       "      <td>0</td>\n",
       "      <td>0</td>\n",
       "      <td>0</td>\n",
       "      <td>0</td>\n",
       "      <td>0</td>\n",
       "      <td>...</td>\n",
       "      <td>0</td>\n",
       "      <td>0</td>\n",
       "      <td>0</td>\n",
       "      <td>0</td>\n",
       "      <td>0</td>\n",
       "      <td>0</td>\n",
       "      <td>0</td>\n",
       "      <td>0</td>\n",
       "      <td>0</td>\n",
       "      <td>0</td>\n",
       "    </tr>\n",
       "    <tr>\n",
       "      <th>doc5</th>\n",
       "      <td>inflation</td>\n",
       "      <td>0</td>\n",
       "      <td>0</td>\n",
       "      <td>0</td>\n",
       "      <td>0</td>\n",
       "      <td>0</td>\n",
       "      <td>0</td>\n",
       "      <td>0</td>\n",
       "      <td>0</td>\n",
       "      <td>0</td>\n",
       "      <td>...</td>\n",
       "      <td>0</td>\n",
       "      <td>0</td>\n",
       "      <td>0</td>\n",
       "      <td>0</td>\n",
       "      <td>0</td>\n",
       "      <td>0</td>\n",
       "      <td>0</td>\n",
       "      <td>0</td>\n",
       "      <td>0</td>\n",
       "      <td>0</td>\n",
       "    </tr>\n",
       "    <tr>\n",
       "      <th>...</th>\n",
       "      <td>...</td>\n",
       "      <td>...</td>\n",
       "      <td>...</td>\n",
       "      <td>...</td>\n",
       "      <td>...</td>\n",
       "      <td>...</td>\n",
       "      <td>...</td>\n",
       "      <td>...</td>\n",
       "      <td>...</td>\n",
       "      <td>...</td>\n",
       "      <td>...</td>\n",
       "      <td>...</td>\n",
       "      <td>...</td>\n",
       "      <td>...</td>\n",
       "      <td>...</td>\n",
       "      <td>...</td>\n",
       "      <td>...</td>\n",
       "      <td>...</td>\n",
       "      <td>...</td>\n",
       "      <td>...</td>\n",
       "      <td>...</td>\n",
       "    </tr>\n",
       "    <tr>\n",
       "      <th>doc68</th>\n",
       "      <td>exchange</td>\n",
       "      <td>0</td>\n",
       "      <td>0</td>\n",
       "      <td>0</td>\n",
       "      <td>0</td>\n",
       "      <td>0</td>\n",
       "      <td>0</td>\n",
       "      <td>0</td>\n",
       "      <td>1</td>\n",
       "      <td>0</td>\n",
       "      <td>...</td>\n",
       "      <td>0</td>\n",
       "      <td>0</td>\n",
       "      <td>0</td>\n",
       "      <td>0</td>\n",
       "      <td>0</td>\n",
       "      <td>0</td>\n",
       "      <td>0</td>\n",
       "      <td>0</td>\n",
       "      <td>0</td>\n",
       "      <td>0</td>\n",
       "    </tr>\n",
       "    <tr>\n",
       "      <th>doc69</th>\n",
       "      <td>exchange</td>\n",
       "      <td>0</td>\n",
       "      <td>0</td>\n",
       "      <td>0</td>\n",
       "      <td>0</td>\n",
       "      <td>0</td>\n",
       "      <td>0</td>\n",
       "      <td>0</td>\n",
       "      <td>0</td>\n",
       "      <td>0</td>\n",
       "      <td>...</td>\n",
       "      <td>0</td>\n",
       "      <td>0</td>\n",
       "      <td>0</td>\n",
       "      <td>0</td>\n",
       "      <td>0</td>\n",
       "      <td>0</td>\n",
       "      <td>0</td>\n",
       "      <td>0</td>\n",
       "      <td>0</td>\n",
       "      <td>0</td>\n",
       "    </tr>\n",
       "    <tr>\n",
       "      <th>doc70</th>\n",
       "      <td>exchange</td>\n",
       "      <td>0</td>\n",
       "      <td>0</td>\n",
       "      <td>0</td>\n",
       "      <td>0</td>\n",
       "      <td>0</td>\n",
       "      <td>0</td>\n",
       "      <td>0</td>\n",
       "      <td>0</td>\n",
       "      <td>0</td>\n",
       "      <td>...</td>\n",
       "      <td>0</td>\n",
       "      <td>0</td>\n",
       "      <td>0</td>\n",
       "      <td>0</td>\n",
       "      <td>0</td>\n",
       "      <td>0</td>\n",
       "      <td>0</td>\n",
       "      <td>0</td>\n",
       "      <td>0</td>\n",
       "      <td>0</td>\n",
       "    </tr>\n",
       "    <tr>\n",
       "      <th>doc71</th>\n",
       "      <td>exchange</td>\n",
       "      <td>0</td>\n",
       "      <td>0</td>\n",
       "      <td>0</td>\n",
       "      <td>0</td>\n",
       "      <td>0</td>\n",
       "      <td>0</td>\n",
       "      <td>0</td>\n",
       "      <td>0</td>\n",
       "      <td>0</td>\n",
       "      <td>...</td>\n",
       "      <td>0</td>\n",
       "      <td>0</td>\n",
       "      <td>0</td>\n",
       "      <td>0</td>\n",
       "      <td>2</td>\n",
       "      <td>0</td>\n",
       "      <td>0</td>\n",
       "      <td>0</td>\n",
       "      <td>0</td>\n",
       "      <td>0</td>\n",
       "    </tr>\n",
       "    <tr>\n",
       "      <th>doc72</th>\n",
       "      <td>exchange</td>\n",
       "      <td>0</td>\n",
       "      <td>0</td>\n",
       "      <td>0</td>\n",
       "      <td>0</td>\n",
       "      <td>0</td>\n",
       "      <td>0</td>\n",
       "      <td>1</td>\n",
       "      <td>0</td>\n",
       "      <td>0</td>\n",
       "      <td>...</td>\n",
       "      <td>0</td>\n",
       "      <td>0</td>\n",
       "      <td>0</td>\n",
       "      <td>0</td>\n",
       "      <td>0</td>\n",
       "      <td>0</td>\n",
       "      <td>0</td>\n",
       "      <td>0</td>\n",
       "      <td>0</td>\n",
       "      <td>0</td>\n",
       "    </tr>\n",
       "  </tbody>\n",
       "</table>\n",
       "<p>72 rows × 5374 columns</p>\n",
       "</div>"
      ],
      "text/plain": [
       "          topics  abajo  abandonara  abandone  abastecimiento  abatida  \\\n",
       "doc1   inflation      0           0         0               0        0   \n",
       "doc2   inflation      0           0         0               0        0   \n",
       "doc3   inflation      0           0         0               0        0   \n",
       "doc4   inflation      0           0         0               0        0   \n",
       "doc5   inflation      0           0         0               0        0   \n",
       "...          ...    ...         ...       ...             ...      ...   \n",
       "doc68   exchange      0           0         0               0        0   \n",
       "doc69   exchange      0           0         0               0        0   \n",
       "doc70   exchange      0           0         0               0        0   \n",
       "doc71   exchange      0           0         0               0        0   \n",
       "doc72   exchange      0           0         0               0        0   \n",
       "\n",
       "       abierta  abierto  abismal  abismalesen  ...  woyecheszen  xx  \\\n",
       "doc1         0        0        0            0  ...            0   0   \n",
       "doc2         0        0        0            0  ...            0   0   \n",
       "doc3         0        0        0            0  ...            0   0   \n",
       "doc4         0        0        0            0  ...            0   0   \n",
       "doc5         0        0        0            0  ...            0   0   \n",
       "...        ...      ...      ...          ...  ...          ...  ..   \n",
       "doc68        0        0        1            0  ...            0   0   \n",
       "doc69        0        0        0            0  ...            0   0   \n",
       "doc70        0        0        0            0  ...            0   0   \n",
       "doc71        0        0        0            0  ...            0   0   \n",
       "doc72        0        1        0            0  ...            0   0   \n",
       "\n",
       "       yaguarete  york  ypf  yuanes  zamora  zona  zonaprop  zonas  \n",
       "doc1           0     0    0       0       0     0         0      0  \n",
       "doc2           0     0    0       0       0     0         0      0  \n",
       "doc3           0     0    0       0       0     0         0      0  \n",
       "doc4           0     0    0       0       0     0         0      0  \n",
       "doc5           0     0    0       0       0     0         0      0  \n",
       "...          ...   ...  ...     ...     ...   ...       ...    ...  \n",
       "doc68          0     0    0       0       0     0         0      0  \n",
       "doc69          0     0    0       0       0     0         0      0  \n",
       "doc70          0     0    0       0       0     0         0      0  \n",
       "doc71          0     0    2       0       0     0         0      0  \n",
       "doc72          0     0    0       0       0     0         0      0  \n",
       "\n",
       "[72 rows x 5374 columns]"
      ]
     },
     "execution_count": 43,
     "metadata": {},
     "output_type": "execute_result"
    }
   ],
   "source": [
    "token_df"
   ]
  },
  {
   "cell_type": "code",
   "execution_count": 44,
   "metadata": {},
   "outputs": [],
   "source": [
    "token_df.to_pickle('tokens/topic_tokens_der.pkl')"
   ]
  },
  {
   "cell_type": "markdown",
   "metadata": {},
   "source": [
    "#### CV tokens"
   ]
  },
  {
   "cell_type": "code",
   "execution_count": 45,
   "metadata": {},
   "outputs": [],
   "source": [
    "pickle.dump(vectorizer, open( \"tokens/cv_der.pkl\", \"wb\" ))"
   ]
  }
 ],
 "metadata": {
  "kernelspec": {
   "display_name": "Python 3",
   "language": "python",
   "name": "python3"
  },
  "language_info": {
   "codemirror_mode": {
    "name": "ipython",
    "version": 3
   },
   "file_extension": ".py",
   "mimetype": "text/x-python",
   "name": "python",
   "nbconvert_exporter": "python",
   "pygments_lexer": "ipython3",
   "version": "3.7.7"
  }
 },
 "nbformat": 4,
 "nbformat_minor": 4
}
