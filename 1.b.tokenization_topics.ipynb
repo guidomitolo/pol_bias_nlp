{
 "cells": [
  {
   "cell_type": "code",
   "execution_count": 84,
   "metadata": {},
   "outputs": [],
   "source": [
    "import nltk\n",
    "import pandas as pd\n",
    "import numpy as np\n",
    "import pickle\n",
    "\n",
    "from nltk.tokenize import word_tokenize\n",
    "from nltk.corpus import stopwords\n",
    "from sklearn.feature_extraction.text import CountVectorizer"
   ]
  },
  {
   "cell_type": "markdown",
   "metadata": {},
   "source": [
    "### Load Data\n",
    "#### Load \"derecha diario\" dataset from csv."
   ]
  },
  {
   "cell_type": "code",
   "execution_count": 85,
   "metadata": {},
   "outputs": [],
   "source": [
    "df = pd.read_csv('./data/derecha_econ_news.csv')"
   ]
  },
  {
   "cell_type": "code",
   "execution_count": 86,
   "metadata": {},
   "outputs": [
    {
     "data": {
      "text/plain": [
       "(339, 7)"
      ]
     },
     "execution_count": 86,
     "metadata": {},
     "output_type": "execute_result"
    }
   ],
   "source": [
    "df.shape"
   ]
  },
  {
   "cell_type": "code",
   "execution_count": 87,
   "metadata": {},
   "outputs": [
    {
     "data": {
      "text/html": [
       "<div>\n",
       "<style scoped>\n",
       "    .dataframe tbody tr th:only-of-type {\n",
       "        vertical-align: middle;\n",
       "    }\n",
       "\n",
       "    .dataframe tbody tr th {\n",
       "        vertical-align: top;\n",
       "    }\n",
       "\n",
       "    .dataframe thead th {\n",
       "        text-align: right;\n",
       "    }\n",
       "</style>\n",
       "<table border=\"1\" class=\"dataframe\">\n",
       "  <thead>\n",
       "    <tr style=\"text-align: right;\">\n",
       "      <th></th>\n",
       "      <th>Unnamed: 0</th>\n",
       "      <th>date</th>\n",
       "      <th>flyer</th>\n",
       "      <th>title</th>\n",
       "      <th>lead</th>\n",
       "      <th>body</th>\n",
       "      <th>url</th>\n",
       "    </tr>\n",
       "  </thead>\n",
       "  <tbody>\n",
       "    <tr>\n",
       "      <th>0</th>\n",
       "      <td>0</td>\n",
       "      <td>30/11/2020</td>\n",
       "      <td>Economía</td>\n",
       "      <td>Economía española: en 12 meses se perdieron 10...</td>\n",
       "      <td>Debido a la segunda ola del coronavirus, se pr...</td>\n",
       "      <td>Según el registro de la Seguridad Social españ...</td>\n",
       "      <td>https://derechadiario.com.ar/economia/economia...</td>\n",
       "    </tr>\n",
       "    <tr>\n",
       "      <th>1</th>\n",
       "      <td>1</td>\n",
       "      <td>29/11/2020</td>\n",
       "      <td>Economía</td>\n",
       "      <td>La enfermedad crónica que tiene Argentina: cas...</td>\n",
       "      <td>Desde la década de 1940 Argentina padece una e...</td>\n",
       "      <td>Argentina sirve como uno de los países más par...</td>\n",
       "      <td>https://derechadiario.com.ar/economia/la-enfer...</td>\n",
       "    </tr>\n",
       "    <tr>\n",
       "      <th>2</th>\n",
       "      <td>2</td>\n",
       "      <td>29/11/2020</td>\n",
       "      <td>Economía</td>\n",
       "      <td>El reconocido ejecutivo Mark Mobius recomienda...</td>\n",
       "      <td>El famoso hombre de las finanzas internacional...</td>\n",
       "      <td>Mark Mobius, el reconocido gestor de mercados ...</td>\n",
       "      <td>https://derechadiario.com.ar/economia/el-recon...</td>\n",
       "    </tr>\n",
       "    <tr>\n",
       "      <th>3</th>\n",
       "      <td>3</td>\n",
       "      <td>28/11/2020</td>\n",
       "      <td>Economía</td>\n",
       "      <td>Ajuste a los jubilados: el aumento por decreto...</td>\n",
       "      <td>El Gobierno decretó un pobre aumento en torno ...</td>\n",
       "      <td>Alberto Fernández consolidó su reforma del sis...</td>\n",
       "      <td>https://derechadiario.com.ar/economia/ajuste-a...</td>\n",
       "    </tr>\n",
       "    <tr>\n",
       "      <th>4</th>\n",
       "      <td>4</td>\n",
       "      <td>27/11/2020</td>\n",
       "      <td>Economía</td>\n",
       "      <td>Brasil creó 395.000 puestos de trabajo en octu...</td>\n",
       "      <td>El Ministerio de Economía de Brasil confirmó u...</td>\n",
       "      <td>Con el acelerado ritmo de actividad en la econ...</td>\n",
       "      <td>https://derechadiario.com.ar/economia/brasil-c...</td>\n",
       "    </tr>\n",
       "  </tbody>\n",
       "</table>\n",
       "</div>"
      ],
      "text/plain": [
       "   Unnamed: 0        date     flyer  \\\n",
       "0           0  30/11/2020  Economía   \n",
       "1           1  29/11/2020  Economía   \n",
       "2           2  29/11/2020  Economía   \n",
       "3           3  28/11/2020  Economía   \n",
       "4           4  27/11/2020  Economía   \n",
       "\n",
       "                                               title  \\\n",
       "0  Economía española: en 12 meses se perdieron 10...   \n",
       "1  La enfermedad crónica que tiene Argentina: cas...   \n",
       "2  El reconocido ejecutivo Mark Mobius recomienda...   \n",
       "3  Ajuste a los jubilados: el aumento por decreto...   \n",
       "4  Brasil creó 395.000 puestos de trabajo en octu...   \n",
       "\n",
       "                                                lead  \\\n",
       "0  Debido a la segunda ola del coronavirus, se pr...   \n",
       "1  Desde la década de 1940 Argentina padece una e...   \n",
       "2  El famoso hombre de las finanzas internacional...   \n",
       "3  El Gobierno decretó un pobre aumento en torno ...   \n",
       "4  El Ministerio de Economía de Brasil confirmó u...   \n",
       "\n",
       "                                                body  \\\n",
       "0  Según el registro de la Seguridad Social españ...   \n",
       "1  Argentina sirve como uno de los países más par...   \n",
       "2  Mark Mobius, el reconocido gestor de mercados ...   \n",
       "3  Alberto Fernández consolidó su reforma del sis...   \n",
       "4  Con el acelerado ritmo de actividad en la econ...   \n",
       "\n",
       "                                                 url  \n",
       "0  https://derechadiario.com.ar/economia/economia...  \n",
       "1  https://derechadiario.com.ar/economia/la-enfer...  \n",
       "2  https://derechadiario.com.ar/economia/el-recon...  \n",
       "3  https://derechadiario.com.ar/economia/ajuste-a...  \n",
       "4  https://derechadiario.com.ar/economia/brasil-c...  "
      ]
     },
     "execution_count": 87,
     "metadata": {},
     "output_type": "execute_result"
    }
   ],
   "source": [
    "df.head(5)"
   ]
  },
  {
   "cell_type": "markdown",
   "metadata": {},
   "source": [
    "### Topics\n",
    "Arbitrary selection of topics from news flyers of the portal's economic section."
   ]
  },
  {
   "cell_type": "code",
   "execution_count": 88,
   "metadata": {},
   "outputs": [
    {
     "data": {
      "text/plain": [
       "(32,)"
      ]
     },
     "execution_count": 88,
     "metadata": {},
     "output_type": "execute_result"
    }
   ],
   "source": [
    "exchange = df.title[df.title.str.contains('dolar|dólar|dolares|dólares|dolarización|cambio|cepo')]\n",
    "exchange.shape"
   ]
  },
  {
   "cell_type": "code",
   "execution_count": 89,
   "metadata": {},
   "outputs": [
    {
     "data": {
      "text/plain": [
       "(38,)"
      ]
     },
     "execution_count": 89,
     "metadata": {},
     "output_type": "execute_result"
    }
   ],
   "source": [
    "inflation = df.title[df.title.str.contains('inflacion|inflación|emisión|salarios|salario|indec')]\n",
    "inflation.shape"
   ]
  },
  {
   "cell_type": "markdown",
   "metadata": {},
   "source": [
    "### Corpus (Body)\n",
    "Clipping of the selected news bodies"
   ]
  },
  {
   "cell_type": "markdown",
   "metadata": {},
   "source": [
    "#### Topic: Inflation"
   ]
  },
  {
   "cell_type": "code",
   "execution_count": 90,
   "metadata": {},
   "outputs": [
    {
     "data": {
      "text/plain": [
       "(38, 7)"
      ]
     },
     "execution_count": 90,
     "metadata": {},
     "output_type": "execute_result"
    }
   ],
   "source": [
    "inflation = df.loc[df.title.str.contains('inflacion|inflación|emisión|salarios|salario|indec', na=False)]\n",
    "inflation.shape"
   ]
  },
  {
   "cell_type": "code",
   "execution_count": 91,
   "metadata": {},
   "outputs": [
    {
     "data": {
      "text/plain": [
       "1      29/11/2020\n",
       "8      24/11/2020\n",
       "20     12/11/2020\n",
       "22     11/11/2020\n",
       "24     09/11/2020\n",
       "31     02/11/2020\n",
       "41     24/10/2020\n",
       "43     23/10/2020\n",
       "54     15/10/2020\n",
       "56     14/10/2020\n",
       "58     12/10/2020\n",
       "81     16/09/2020\n",
       "88     11/09/2020\n",
       "90     09/09/2020\n",
       "97     01/09/2020\n",
       "102    27/08/2020\n",
       "113    14/08/2020\n",
       "114    14/08/2020\n",
       "132    21/07/2020\n",
       "135    15/07/2020\n",
       "165    12/06/2020\n",
       "184    27/05/2020\n",
       "190    22/05/2020\n",
       "196    17/05/2020\n",
       "198    15/05/2020\n",
       "206    11/05/2020\n",
       "210    08/05/2020\n",
       "215    06/05/2020\n",
       "221    01/05/2020\n",
       "223    30/04/2020\n",
       "226    28/04/2020\n",
       "233    22/04/2020\n",
       "241    18/04/2020\n",
       "247    15/04/2020\n",
       "266    06/04/2020\n",
       "272    02/04/2020\n",
       "298    17/03/2020\n",
       "305    12/03/2020\n",
       "Name: date, dtype: object"
      ]
     },
     "execution_count": 91,
     "metadata": {},
     "output_type": "execute_result"
    }
   ],
   "source": [
    "inflation.date"
   ]
  },
  {
   "cell_type": "code",
   "execution_count": 92,
   "metadata": {},
   "outputs": [
    {
     "name": "stderr",
     "output_type": "stream",
     "text": [
      "/home/guido/anaconda3/envs/dh/lib/python3.7/site-packages/ipykernel_launcher.py:1: SettingWithCopyWarning: \n",
      "A value is trying to be set on a copy of a slice from a DataFrame\n",
      "\n",
      "See the caveats in the documentation: https://pandas.pydata.org/pandas-docs/stable/user_guide/indexing.html#returning-a-view-versus-a-copy\n",
      "  \"\"\"Entry point for launching an IPython kernel.\n"
     ]
    },
    {
     "data": {
      "text/plain": [
       "(36, 7)"
      ]
     },
     "execution_count": 92,
     "metadata": {},
     "output_type": "execute_result"
    }
   ],
   "source": [
    "inflation.dropna(inplace=True)\n",
    "inflation.shape"
   ]
  },
  {
   "cell_type": "code",
   "execution_count": 93,
   "metadata": {},
   "outputs": [],
   "source": [
    "inflation = inflation.reset_index()"
   ]
  },
  {
   "cell_type": "code",
   "execution_count": 94,
   "metadata": {},
   "outputs": [],
   "source": [
    "inflation.insert(loc=1, column='topics', value='inflation')"
   ]
  },
  {
   "cell_type": "code",
   "execution_count": 95,
   "metadata": {},
   "outputs": [
    {
     "data": {
      "text/html": [
       "<div>\n",
       "<style scoped>\n",
       "    .dataframe tbody tr th:only-of-type {\n",
       "        vertical-align: middle;\n",
       "    }\n",
       "\n",
       "    .dataframe tbody tr th {\n",
       "        vertical-align: top;\n",
       "    }\n",
       "\n",
       "    .dataframe thead th {\n",
       "        text-align: right;\n",
       "    }\n",
       "</style>\n",
       "<table border=\"1\" class=\"dataframe\">\n",
       "  <thead>\n",
       "    <tr style=\"text-align: right;\">\n",
       "      <th></th>\n",
       "      <th>index</th>\n",
       "      <th>topics</th>\n",
       "      <th>Unnamed: 0</th>\n",
       "      <th>date</th>\n",
       "      <th>flyer</th>\n",
       "      <th>title</th>\n",
       "      <th>lead</th>\n",
       "      <th>body</th>\n",
       "      <th>url</th>\n",
       "    </tr>\n",
       "  </thead>\n",
       "  <tbody>\n",
       "    <tr>\n",
       "      <th>0</th>\n",
       "      <td>1</td>\n",
       "      <td>inflation</td>\n",
       "      <td>1</td>\n",
       "      <td>29/11/2020</td>\n",
       "      <td>Economía</td>\n",
       "      <td>La enfermedad crónica que tiene Argentina: cas...</td>\n",
       "      <td>Desde la década de 1940 Argentina padece una e...</td>\n",
       "      <td>Argentina sirve como uno de los países más par...</td>\n",
       "      <td>https://derechadiario.com.ar/economia/la-enfer...</td>\n",
       "    </tr>\n",
       "    <tr>\n",
       "      <th>1</th>\n",
       "      <td>8</td>\n",
       "      <td>inflation</td>\n",
       "      <td>8</td>\n",
       "      <td>24/11/2020</td>\n",
       "      <td>Economía</td>\n",
       "      <td>El economista Steve Hanke advierte que la infl...</td>\n",
       "      <td>El economista norteamericano de la Universidad...</td>\n",
       "      <td>El economista Steve Hanke, profesor e investig...</td>\n",
       "      <td>https://derechadiario.com.ar/economia/el-econo...</td>\n",
       "    </tr>\n",
       "    <tr>\n",
       "      <th>2</th>\n",
       "      <td>20</td>\n",
       "      <td>inflation</td>\n",
       "      <td>20</td>\n",
       "      <td>12/11/2020</td>\n",
       "      <td>Economía</td>\n",
       "      <td>Se acelera el aumento de precios: la inflación...</td>\n",
       "      <td>El Índice de Precios al Consumidor aumentó un ...</td>\n",
       "      <td>El INDEC divulgó las cifras oficiales para el ...</td>\n",
       "      <td>https://derechadiario.com.ar/economia/se-acele...</td>\n",
       "    </tr>\n",
       "    <tr>\n",
       "      <th>3</th>\n",
       "      <td>22</td>\n",
       "      <td>inflation</td>\n",
       "      <td>22</td>\n",
       "      <td>11/11/2020</td>\n",
       "      <td>Economía</td>\n",
       "      <td>Socialismo y miseria: la economía venezolana c...</td>\n",
       "      <td>El régimen del dictador Maduro continúa destru...</td>\n",
       "      <td>Desde la toma ilegal del poder de Maduro hace ...</td>\n",
       "      <td>https://derechadiario.com.ar/economia/socialis...</td>\n",
       "    </tr>\n",
       "    <tr>\n",
       "      <th>4</th>\n",
       "      <td>24</td>\n",
       "      <td>inflation</td>\n",
       "      <td>24</td>\n",
       "      <td>09/11/2020</td>\n",
       "      <td>Economía</td>\n",
       "      <td>“Efecto Lipovetzky”: los alquileres siguen aum...</td>\n",
       "      <td>La iniciativa del PRO, formulada originalmente...</td>\n",
       "      <td>En un año marcado por las nuevas regulaciones ...</td>\n",
       "      <td>https://derechadiario.com.ar/economia/efecto-l...</td>\n",
       "    </tr>\n",
       "  </tbody>\n",
       "</table>\n",
       "</div>"
      ],
      "text/plain": [
       "   index     topics  Unnamed: 0        date     flyer  \\\n",
       "0      1  inflation           1  29/11/2020  Economía   \n",
       "1      8  inflation           8  24/11/2020  Economía   \n",
       "2     20  inflation          20  12/11/2020  Economía   \n",
       "3     22  inflation          22  11/11/2020  Economía   \n",
       "4     24  inflation          24  09/11/2020  Economía   \n",
       "\n",
       "                                               title  \\\n",
       "0  La enfermedad crónica que tiene Argentina: cas...   \n",
       "1  El economista Steve Hanke advierte que la infl...   \n",
       "2  Se acelera el aumento de precios: la inflación...   \n",
       "3  Socialismo y miseria: la economía venezolana c...   \n",
       "4  “Efecto Lipovetzky”: los alquileres siguen aum...   \n",
       "\n",
       "                                                lead  \\\n",
       "0  Desde la década de 1940 Argentina padece una e...   \n",
       "1  El economista norteamericano de la Universidad...   \n",
       "2  El Índice de Precios al Consumidor aumentó un ...   \n",
       "3  El régimen del dictador Maduro continúa destru...   \n",
       "4  La iniciativa del PRO, formulada originalmente...   \n",
       "\n",
       "                                                body  \\\n",
       "0  Argentina sirve como uno de los países más par...   \n",
       "1  El economista Steve Hanke, profesor e investig...   \n",
       "2  El INDEC divulgó las cifras oficiales para el ...   \n",
       "3  Desde la toma ilegal del poder de Maduro hace ...   \n",
       "4  En un año marcado por las nuevas regulaciones ...   \n",
       "\n",
       "                                                 url  \n",
       "0  https://derechadiario.com.ar/economia/la-enfer...  \n",
       "1  https://derechadiario.com.ar/economia/el-econo...  \n",
       "2  https://derechadiario.com.ar/economia/se-acele...  \n",
       "3  https://derechadiario.com.ar/economia/socialis...  \n",
       "4  https://derechadiario.com.ar/economia/efecto-l...  "
      ]
     },
     "execution_count": 95,
     "metadata": {},
     "output_type": "execute_result"
    }
   ],
   "source": [
    "inflation.head(5)"
   ]
  },
  {
   "cell_type": "markdown",
   "metadata": {},
   "source": [
    "#### Topic: Currency Exchange"
   ]
  },
  {
   "cell_type": "code",
   "execution_count": 96,
   "metadata": {},
   "outputs": [
    {
     "data": {
      "text/plain": [
       "(32, 7)"
      ]
     },
     "execution_count": 96,
     "metadata": {},
     "output_type": "execute_result"
    }
   ],
   "source": [
    "exchange = df.loc[df.title.str.contains('dolar|dólar|dolares|dólares|dolarización|cambio|cepo', na=False)]\n",
    "exchange.shape"
   ]
  },
  {
   "cell_type": "code",
   "execution_count": 97,
   "metadata": {},
   "outputs": [
    {
     "data": {
      "text/plain": [
       "2      29/11/2020\n",
       "8      24/11/2020\n",
       "13     18/11/2020\n",
       "18     13/11/2020\n",
       "39     26/10/2020\n",
       "42     23/10/2020\n",
       "49     19/10/2020\n",
       "55     15/10/2020\n",
       "60     09/10/2020\n",
       "63     07/10/2020\n",
       "65     05/10/2020\n",
       "68     02/10/2020\n",
       "74     25/09/2020\n",
       "82     16/09/2020\n",
       "83     15/09/2020\n",
       "90     09/09/2020\n",
       "113    14/08/2020\n",
       "128    25/07/2020\n",
       "145    03/07/2020\n",
       "166    11/06/2020\n",
       "171    07/06/2020\n",
       "181    29/05/2020\n",
       "218    04/05/2020\n",
       "227    27/04/2020\n",
       "228    27/04/2020\n",
       "232    23/04/2020\n",
       "242    17/04/2020\n",
       "243    17/04/2020\n",
       "248    14/04/2020\n",
       "267    04/04/2020\n",
       "307    12/03/2020\n",
       "331    23/02/2020\n",
       "Name: date, dtype: object"
      ]
     },
     "execution_count": 97,
     "metadata": {},
     "output_type": "execute_result"
    }
   ],
   "source": [
    "exchange.date"
   ]
  },
  {
   "cell_type": "code",
   "execution_count": 98,
   "metadata": {},
   "outputs": [
    {
     "name": "stderr",
     "output_type": "stream",
     "text": [
      "/home/guido/anaconda3/envs/dh/lib/python3.7/site-packages/ipykernel_launcher.py:1: SettingWithCopyWarning: \n",
      "A value is trying to be set on a copy of a slice from a DataFrame\n",
      "\n",
      "See the caveats in the documentation: https://pandas.pydata.org/pandas-docs/stable/user_guide/indexing.html#returning-a-view-versus-a-copy\n",
      "  \"\"\"Entry point for launching an IPython kernel.\n"
     ]
    }
   ],
   "source": [
    "exchange.dropna(inplace=True)"
   ]
  },
  {
   "cell_type": "code",
   "execution_count": 99,
   "metadata": {},
   "outputs": [
    {
     "data": {
      "text/plain": [
       "(31, 8)"
      ]
     },
     "execution_count": 99,
     "metadata": {},
     "output_type": "execute_result"
    }
   ],
   "source": [
    "exchange = exchange.reset_index()\n",
    "exchange.shape"
   ]
  },
  {
   "cell_type": "code",
   "execution_count": 100,
   "metadata": {},
   "outputs": [],
   "source": [
    "exchange.insert(loc=1, column='topics', value='exchange')"
   ]
  },
  {
   "cell_type": "code",
   "execution_count": 101,
   "metadata": {},
   "outputs": [
    {
     "data": {
      "text/html": [
       "<div>\n",
       "<style scoped>\n",
       "    .dataframe tbody tr th:only-of-type {\n",
       "        vertical-align: middle;\n",
       "    }\n",
       "\n",
       "    .dataframe tbody tr th {\n",
       "        vertical-align: top;\n",
       "    }\n",
       "\n",
       "    .dataframe thead th {\n",
       "        text-align: right;\n",
       "    }\n",
       "</style>\n",
       "<table border=\"1\" class=\"dataframe\">\n",
       "  <thead>\n",
       "    <tr style=\"text-align: right;\">\n",
       "      <th></th>\n",
       "      <th>index</th>\n",
       "      <th>topics</th>\n",
       "      <th>Unnamed: 0</th>\n",
       "      <th>date</th>\n",
       "      <th>flyer</th>\n",
       "      <th>title</th>\n",
       "      <th>lead</th>\n",
       "      <th>body</th>\n",
       "      <th>url</th>\n",
       "    </tr>\n",
       "  </thead>\n",
       "  <tbody>\n",
       "    <tr>\n",
       "      <th>0</th>\n",
       "      <td>2</td>\n",
       "      <td>exchange</td>\n",
       "      <td>2</td>\n",
       "      <td>29/11/2020</td>\n",
       "      <td>Economía</td>\n",
       "      <td>El reconocido ejecutivo Mark Mobius recomienda...</td>\n",
       "      <td>El famoso hombre de las finanzas internacional...</td>\n",
       "      <td>Mark Mobius, el reconocido gestor de mercados ...</td>\n",
       "      <td>https://derechadiario.com.ar/economia/el-recon...</td>\n",
       "    </tr>\n",
       "    <tr>\n",
       "      <th>1</th>\n",
       "      <td>8</td>\n",
       "      <td>exchange</td>\n",
       "      <td>8</td>\n",
       "      <td>24/11/2020</td>\n",
       "      <td>Economía</td>\n",
       "      <td>El economista Steve Hanke advierte que la infl...</td>\n",
       "      <td>El economista norteamericano de la Universidad...</td>\n",
       "      <td>El economista Steve Hanke, profesor e investig...</td>\n",
       "      <td>https://derechadiario.com.ar/economia/el-econo...</td>\n",
       "    </tr>\n",
       "    <tr>\n",
       "      <th>2</th>\n",
       "      <td>13</td>\n",
       "      <td>exchange</td>\n",
       "      <td>13</td>\n",
       "      <td>18/11/2020</td>\n",
       "      <td>Economía</td>\n",
       "      <td>Desesperación en el régimen chavista: el Banco...</td>\n",
       "      <td>Tras casi cinco años de hiperinflación, el Ban...</td>\n",
       "      <td>Según un reciente informe de Bloomberg, fuente...</td>\n",
       "      <td>https://derechadiario.com.ar/economia/desesper...</td>\n",
       "    </tr>\n",
       "    <tr>\n",
       "      <th>3</th>\n",
       "      <td>18</td>\n",
       "      <td>exchange</td>\n",
       "      <td>18</td>\n",
       "      <td>13/11/2020</td>\n",
       "      <td>Economía</td>\n",
       "      <td>Nueva subida del dólar blue: ya acumula $23 en...</td>\n",
       "      <td>Tras haber caído por debajo de los $150, el dó...</td>\n",
       "      <td>Hoy el dólar libre llegó a venderse a $174 en ...</td>\n",
       "      <td>https://derechadiario.com.ar/economia/nueva-su...</td>\n",
       "    </tr>\n",
       "    <tr>\n",
       "      <th>4</th>\n",
       "      <td>39</td>\n",
       "      <td>exchange</td>\n",
       "      <td>39</td>\n",
       "      <td>26/10/2020</td>\n",
       "      <td>Economía</td>\n",
       "      <td>El Gobierno lanza una mega-licitación de pesos...</td>\n",
       "      <td>El ministro Guzmán preparó una serie de instru...</td>\n",
       "      <td>Después de casi dos semanas de constantes aume...</td>\n",
       "      <td>https://derechadiario.com.ar/economia/el-gobie...</td>\n",
       "    </tr>\n",
       "  </tbody>\n",
       "</table>\n",
       "</div>"
      ],
      "text/plain": [
       "   index    topics  Unnamed: 0        date     flyer  \\\n",
       "0      2  exchange           2  29/11/2020  Economía   \n",
       "1      8  exchange           8  24/11/2020  Economía   \n",
       "2     13  exchange          13  18/11/2020  Economía   \n",
       "3     18  exchange          18  13/11/2020  Economía   \n",
       "4     39  exchange          39  26/10/2020  Economía   \n",
       "\n",
       "                                               title  \\\n",
       "0  El reconocido ejecutivo Mark Mobius recomienda...   \n",
       "1  El economista Steve Hanke advierte que la infl...   \n",
       "2  Desesperación en el régimen chavista: el Banco...   \n",
       "3  Nueva subida del dólar blue: ya acumula $23 en...   \n",
       "4  El Gobierno lanza una mega-licitación de pesos...   \n",
       "\n",
       "                                                lead  \\\n",
       "0  El famoso hombre de las finanzas internacional...   \n",
       "1  El economista norteamericano de la Universidad...   \n",
       "2  Tras casi cinco años de hiperinflación, el Ban...   \n",
       "3  Tras haber caído por debajo de los $150, el dó...   \n",
       "4  El ministro Guzmán preparó una serie de instru...   \n",
       "\n",
       "                                                body  \\\n",
       "0  Mark Mobius, el reconocido gestor de mercados ...   \n",
       "1  El economista Steve Hanke, profesor e investig...   \n",
       "2  Según un reciente informe de Bloomberg, fuente...   \n",
       "3  Hoy el dólar libre llegó a venderse a $174 en ...   \n",
       "4  Después de casi dos semanas de constantes aume...   \n",
       "\n",
       "                                                 url  \n",
       "0  https://derechadiario.com.ar/economia/el-recon...  \n",
       "1  https://derechadiario.com.ar/economia/el-econo...  \n",
       "2  https://derechadiario.com.ar/economia/desesper...  \n",
       "3  https://derechadiario.com.ar/economia/nueva-su...  \n",
       "4  https://derechadiario.com.ar/economia/el-gobie...  "
      ]
     },
     "execution_count": 101,
     "metadata": {},
     "output_type": "execute_result"
    }
   ],
   "source": [
    "exchange.head(5)"
   ]
  },
  {
   "cell_type": "markdown",
   "metadata": {},
   "source": [
    "#### Save selection"
   ]
  },
  {
   "cell_type": "code",
   "execution_count": 102,
   "metadata": {},
   "outputs": [],
   "source": [
    "data_clean = inflation.append(exchange)"
   ]
  },
  {
   "cell_type": "code",
   "execution_count": 103,
   "metadata": {},
   "outputs": [],
   "source": [
    "pickle.dump(data_clean, open( \"data/df_clean_der.pkl\", \"wb\" ))"
   ]
  },
  {
   "cell_type": "code",
   "execution_count": 104,
   "metadata": {},
   "outputs": [
    {
     "data": {
      "text/plain": [
       "(67, 9)"
      ]
     },
     "execution_count": 104,
     "metadata": {},
     "output_type": "execute_result"
    }
   ],
   "source": [
    "corpus = inflation.append(exchange)\n",
    "corpus.shape"
   ]
  },
  {
   "cell_type": "code",
   "execution_count": 105,
   "metadata": {},
   "outputs": [
    {
     "data": {
      "text/html": [
       "<div>\n",
       "<style scoped>\n",
       "    .dataframe tbody tr th:only-of-type {\n",
       "        vertical-align: middle;\n",
       "    }\n",
       "\n",
       "    .dataframe tbody tr th {\n",
       "        vertical-align: top;\n",
       "    }\n",
       "\n",
       "    .dataframe thead th {\n",
       "        text-align: right;\n",
       "    }\n",
       "</style>\n",
       "<table border=\"1\" class=\"dataframe\">\n",
       "  <thead>\n",
       "    <tr style=\"text-align: right;\">\n",
       "      <th></th>\n",
       "      <th>index</th>\n",
       "      <th>topics</th>\n",
       "      <th>Unnamed: 0</th>\n",
       "      <th>date</th>\n",
       "      <th>flyer</th>\n",
       "      <th>title</th>\n",
       "      <th>lead</th>\n",
       "      <th>body</th>\n",
       "      <th>url</th>\n",
       "    </tr>\n",
       "  </thead>\n",
       "  <tbody>\n",
       "    <tr>\n",
       "      <th>19</th>\n",
       "      <td>135</td>\n",
       "      <td>inflation</td>\n",
       "      <td>135</td>\n",
       "      <td>15/07/2020</td>\n",
       "      <td>Economía</td>\n",
       "      <td>Con la economía postrada, la inflación de juni...</td>\n",
       "      <td>Según el informe presentado hoy por el INDEC, ...</td>\n",
       "      <td>El Índice de Precios al Consumidor (IPC) que m...</td>\n",
       "      <td>https://derechadiario.com.ar/economia/con-la-e...</td>\n",
       "    </tr>\n",
       "    <tr>\n",
       "      <th>6</th>\n",
       "      <td>49</td>\n",
       "      <td>exchange</td>\n",
       "      <td>49</td>\n",
       "      <td>19/10/2020</td>\n",
       "      <td>Economía</td>\n",
       "      <td>El plan económico de Biden haría a todas las f...</td>\n",
       "      <td>Según las estimaciones de la Hoover Institutio...</td>\n",
       "      <td>La progresiva radicalización hacia la izquierd...</td>\n",
       "      <td>https://derechadiario.com.ar/economia/el-plan-...</td>\n",
       "    </tr>\n",
       "    <tr>\n",
       "      <th>25</th>\n",
       "      <td>210</td>\n",
       "      <td>inflation</td>\n",
       "      <td>210</td>\n",
       "      <td>08/05/2020</td>\n",
       "      <td>Economía</td>\n",
       "      <td>Broda advirtió que 2020 podría cerrar con tasa...</td>\n",
       "      <td>En una entrevista para Radio Mitre, el famoso ...</td>\n",
       "      <td>En medio de la parálisis económica y las expec...</td>\n",
       "      <td>https://derechadiario.com.ar/economia/broda-ad...</td>\n",
       "    </tr>\n",
       "    <tr>\n",
       "      <th>2</th>\n",
       "      <td>13</td>\n",
       "      <td>exchange</td>\n",
       "      <td>13</td>\n",
       "      <td>18/11/2020</td>\n",
       "      <td>Economía</td>\n",
       "      <td>Desesperación en el régimen chavista: el Banco...</td>\n",
       "      <td>Tras casi cinco años de hiperinflación, el Ban...</td>\n",
       "      <td>Según un reciente informe de Bloomberg, fuente...</td>\n",
       "      <td>https://derechadiario.com.ar/economia/desesper...</td>\n",
       "    </tr>\n",
       "    <tr>\n",
       "      <th>14</th>\n",
       "      <td>97</td>\n",
       "      <td>inflation</td>\n",
       "      <td>97</td>\n",
       "      <td>01/09/2020</td>\n",
       "      <td>Economía</td>\n",
       "      <td>Página 12, el kirchnerismo y el terraplanismo ...</td>\n",
       "      <td>Tras el reciente comportamiento del nivel de p...</td>\n",
       "      <td>Recientemente, el diario ultra kirchnerista Pá...</td>\n",
       "      <td>https://derechadiario.com.ar/economia/pagina-1...</td>\n",
       "    </tr>\n",
       "  </tbody>\n",
       "</table>\n",
       "</div>"
      ],
      "text/plain": [
       "    index     topics  Unnamed: 0        date     flyer  \\\n",
       "19    135  inflation         135  15/07/2020  Economía   \n",
       "6      49   exchange          49  19/10/2020  Economía   \n",
       "25    210  inflation         210  08/05/2020  Economía   \n",
       "2      13   exchange          13  18/11/2020  Economía   \n",
       "14     97  inflation          97  01/09/2020  Economía   \n",
       "\n",
       "                                                title  \\\n",
       "19  Con la economía postrada, la inflación de juni...   \n",
       "6   El plan económico de Biden haría a todas las f...   \n",
       "25  Broda advirtió que 2020 podría cerrar con tasa...   \n",
       "2   Desesperación en el régimen chavista: el Banco...   \n",
       "14  Página 12, el kirchnerismo y el terraplanismo ...   \n",
       "\n",
       "                                                 lead  \\\n",
       "19  Según el informe presentado hoy por el INDEC, ...   \n",
       "6   Según las estimaciones de la Hoover Institutio...   \n",
       "25  En una entrevista para Radio Mitre, el famoso ...   \n",
       "2   Tras casi cinco años de hiperinflación, el Ban...   \n",
       "14  Tras el reciente comportamiento del nivel de p...   \n",
       "\n",
       "                                                 body  \\\n",
       "19  El Índice de Precios al Consumidor (IPC) que m...   \n",
       "6   La progresiva radicalización hacia la izquierd...   \n",
       "25  En medio de la parálisis económica y las expec...   \n",
       "2   Según un reciente informe de Bloomberg, fuente...   \n",
       "14  Recientemente, el diario ultra kirchnerista Pá...   \n",
       "\n",
       "                                                  url  \n",
       "19  https://derechadiario.com.ar/economia/con-la-e...  \n",
       "6   https://derechadiario.com.ar/economia/el-plan-...  \n",
       "25  https://derechadiario.com.ar/economia/broda-ad...  \n",
       "2   https://derechadiario.com.ar/economia/desesper...  \n",
       "14  https://derechadiario.com.ar/economia/pagina-1...  "
      ]
     },
     "execution_count": 105,
     "metadata": {},
     "output_type": "execute_result"
    }
   ],
   "source": [
    "corpus.sample(5)"
   ]
  },
  {
   "cell_type": "markdown",
   "metadata": {},
   "source": [
    "I drop those news labeled under both topics"
   ]
  },
  {
   "cell_type": "code",
   "execution_count": 34,
   "metadata": {},
   "outputs": [],
   "source": [
    "corpus = corpus.drop_duplicates(subset='index',keep=False)"
   ]
  },
  {
   "cell_type": "code",
   "execution_count": 35,
   "metadata": {},
   "outputs": [
    {
     "data": {
      "text/plain": [
       "(61, 9)"
      ]
     },
     "execution_count": 35,
     "metadata": {},
     "output_type": "execute_result"
    }
   ],
   "source": [
    "corpus.shape"
   ]
  },
  {
   "cell_type": "markdown",
   "metadata": {},
   "source": [
    "### Tokenization\n",
    "#### Manual"
   ]
  },
  {
   "cell_type": "code",
   "execution_count": 36,
   "metadata": {},
   "outputs": [],
   "source": [
    "import re\n",
    "import unidecode"
   ]
  },
  {
   "cell_type": "markdown",
   "metadata": {},
   "source": [
    "\"Stop words\", special characters, accents and numbers are removed"
   ]
  },
  {
   "cell_type": "code",
   "execution_count": 37,
   "metadata": {},
   "outputs": [],
   "source": [
    "stopwords_sp = stopwords.words('spanish')"
   ]
  },
  {
   "cell_type": "code",
   "execution_count": 38,
   "metadata": {},
   "outputs": [],
   "source": [
    "def tokenizer(texto):\n",
    "\n",
    "    alphanumeric = re.sub(r'([^\\s\\w]|_)+', '', texto).lower()\n",
    "    no_accents = unidecode.unidecode(alphanumeric)\n",
    "    \n",
    "    tockens = word_tokenize(no_accents)\n",
    "    \n",
    "    tockens_clean = [tocken for tocken in tockens if tocken not in stopwords_sp and tocken.isalpha()]\n",
    "    \n",
    "    terminos = tockens_clean\n",
    "\n",
    "    return terminos"
   ]
  },
  {
   "cell_type": "code",
   "execution_count": 39,
   "metadata": {},
   "outputs": [],
   "source": [
    "tokenized = [tokenizer(documento) for documento in corpus.body]"
   ]
  },
  {
   "cell_type": "code",
   "execution_count": 40,
   "metadata": {},
   "outputs": [],
   "source": [
    "vocabulario = sorted(list(set([word for group in tokenized for word in group])))"
   ]
  },
  {
   "cell_type": "code",
   "execution_count": 41,
   "metadata": {},
   "outputs": [
    {
     "data": {
      "text/plain": [
       "4699"
      ]
     },
     "execution_count": 41,
     "metadata": {},
     "output_type": "execute_result"
    }
   ],
   "source": [
    "len(vocabulario)"
   ]
  },
  {
   "cell_type": "markdown",
   "metadata": {},
   "source": [
    "#### CountVectorizer"
   ]
  },
  {
   "cell_type": "code",
   "execution_count": 42,
   "metadata": {},
   "outputs": [],
   "source": [
    "from sklearn.feature_extraction.text import CountVectorizer"
   ]
  },
  {
   "cell_type": "markdown",
   "metadata": {},
   "source": [
    "Removal of special characters function to load in vectorizer"
   ]
  },
  {
   "cell_type": "code",
   "execution_count": 73,
   "metadata": {},
   "outputs": [],
   "source": [
    "def removal(text):\n",
    "    text = re.sub(r'(\\d|\\$|\\%|\\+)', '', text.lower())\n",
    "    return re.sub(r'\\d+', '', text)"
   ]
  },
  {
   "cell_type": "code",
   "execution_count": 74,
   "metadata": {},
   "outputs": [],
   "source": [
    "vectorizer = CountVectorizer(stop_words = stopwords_sp, lowercase = True, strip_accents='unicode', preprocessor=removal)"
   ]
  },
  {
   "cell_type": "code",
   "execution_count": 75,
   "metadata": {},
   "outputs": [
    {
     "data": {
      "text/plain": [
       "CountVectorizer(preprocessor=<function removal at 0x7f3bb5f4b050>,\n",
       "                stop_words=['de', 'la', 'que', 'el', 'en', 'y', 'a', 'los',\n",
       "                            'del', 'se', 'las', 'por', 'un', 'para', 'con',\n",
       "                            'no', 'una', 'su', 'al', 'lo', 'como', 'más',\n",
       "                            'pero', 'sus', 'le', 'ya', 'o', 'este', 'sí',\n",
       "                            'porque', ...],\n",
       "                strip_accents='unicode')"
      ]
     },
     "execution_count": 75,
     "metadata": {},
     "output_type": "execute_result"
    }
   ],
   "source": [
    "vectorizer.fit(corpus.body)"
   ]
  },
  {
   "cell_type": "code",
   "execution_count": 76,
   "metadata": {},
   "outputs": [
    {
     "data": {
      "text/plain": [
       "(4549, 4549)"
      ]
     },
     "execution_count": 76,
     "metadata": {},
     "output_type": "execute_result"
    }
   ],
   "source": [
    "len(vectorizer.vocabulary_), len(vectorizer.get_feature_names())"
   ]
  },
  {
   "cell_type": "markdown",
   "metadata": {},
   "source": [
    "I prefare the manual tokenization results since the process is clearer and there are more terms."
   ]
  },
  {
   "cell_type": "markdown",
   "metadata": {},
   "source": [
    "### Pickle"
   ]
  },
  {
   "cell_type": "markdown",
   "metadata": {},
   "source": [
    "Manual tokens"
   ]
  },
  {
   "cell_type": "code",
   "execution_count": 77,
   "metadata": {},
   "outputs": [],
   "source": [
    "def token_matrix_maker(data, vocabulario):\n",
    "    matriz = np.zeros(shape = (len(data), len(vocabulario)), dtype='int')\n",
    "    for i, documento in enumerate(data):\n",
    "        for termino in documento:\n",
    "            matriz[i, vocabulario.index(termino)] += 1\n",
    "    return matriz"
   ]
  },
  {
   "cell_type": "code",
   "execution_count": 78,
   "metadata": {},
   "outputs": [],
   "source": [
    "matrix = token_matrix_maker(tokenized, vocabulario)"
   ]
  },
  {
   "cell_type": "code",
   "execution_count": 79,
   "metadata": {},
   "outputs": [],
   "source": [
    "# make dataframe\n",
    "token_df = pd.DataFrame(matrix, columns=vocabulario, index = ['doc' + str(i + 1) for i in range(len(tokenized))] )"
   ]
  },
  {
   "cell_type": "code",
   "execution_count": 80,
   "metadata": {},
   "outputs": [],
   "source": [
    "# add classification column\n",
    "topics = ['inflation' for i in range((corpus.topics == 'inflation').sum())] + ['exchange' for i in range((corpus.topics == 'exchange').sum())]\n",
    "token_df.insert(loc=0, column='topics', value=topics)"
   ]
  },
  {
   "cell_type": "code",
   "execution_count": 81,
   "metadata": {},
   "outputs": [
    {
     "data": {
      "text/html": [
       "<div>\n",
       "<style scoped>\n",
       "    .dataframe tbody tr th:only-of-type {\n",
       "        vertical-align: middle;\n",
       "    }\n",
       "\n",
       "    .dataframe tbody tr th {\n",
       "        vertical-align: top;\n",
       "    }\n",
       "\n",
       "    .dataframe thead th {\n",
       "        text-align: right;\n",
       "    }\n",
       "</style>\n",
       "<table border=\"1\" class=\"dataframe\">\n",
       "  <thead>\n",
       "    <tr style=\"text-align: right;\">\n",
       "      <th></th>\n",
       "      <th>topics</th>\n",
       "      <th>abajo</th>\n",
       "      <th>abandonara</th>\n",
       "      <th>abandone</th>\n",
       "      <th>abastecimiento</th>\n",
       "      <th>abatida</th>\n",
       "      <th>abierta</th>\n",
       "      <th>abierto</th>\n",
       "      <th>aboga</th>\n",
       "      <th>abonados</th>\n",
       "      <th>...</th>\n",
       "      <th>woyecheszen</th>\n",
       "      <th>xx</th>\n",
       "      <th>yaguarete</th>\n",
       "      <th>york</th>\n",
       "      <th>ypf</th>\n",
       "      <th>yuanes</th>\n",
       "      <th>zamora</th>\n",
       "      <th>zona</th>\n",
       "      <th>zonaprop</th>\n",
       "      <th>zonas</th>\n",
       "    </tr>\n",
       "  </thead>\n",
       "  <tbody>\n",
       "    <tr>\n",
       "      <th>doc1</th>\n",
       "      <td>inflation</td>\n",
       "      <td>0</td>\n",
       "      <td>0</td>\n",
       "      <td>0</td>\n",
       "      <td>0</td>\n",
       "      <td>0</td>\n",
       "      <td>0</td>\n",
       "      <td>0</td>\n",
       "      <td>0</td>\n",
       "      <td>0</td>\n",
       "      <td>...</td>\n",
       "      <td>0</td>\n",
       "      <td>1</td>\n",
       "      <td>0</td>\n",
       "      <td>0</td>\n",
       "      <td>0</td>\n",
       "      <td>0</td>\n",
       "      <td>0</td>\n",
       "      <td>0</td>\n",
       "      <td>0</td>\n",
       "      <td>0</td>\n",
       "    </tr>\n",
       "    <tr>\n",
       "      <th>doc2</th>\n",
       "      <td>inflation</td>\n",
       "      <td>0</td>\n",
       "      <td>0</td>\n",
       "      <td>0</td>\n",
       "      <td>0</td>\n",
       "      <td>0</td>\n",
       "      <td>0</td>\n",
       "      <td>0</td>\n",
       "      <td>0</td>\n",
       "      <td>0</td>\n",
       "      <td>...</td>\n",
       "      <td>0</td>\n",
       "      <td>0</td>\n",
       "      <td>0</td>\n",
       "      <td>0</td>\n",
       "      <td>0</td>\n",
       "      <td>0</td>\n",
       "      <td>0</td>\n",
       "      <td>0</td>\n",
       "      <td>0</td>\n",
       "      <td>1</td>\n",
       "    </tr>\n",
       "    <tr>\n",
       "      <th>doc3</th>\n",
       "      <td>inflation</td>\n",
       "      <td>0</td>\n",
       "      <td>0</td>\n",
       "      <td>0</td>\n",
       "      <td>0</td>\n",
       "      <td>0</td>\n",
       "      <td>0</td>\n",
       "      <td>0</td>\n",
       "      <td>0</td>\n",
       "      <td>0</td>\n",
       "      <td>...</td>\n",
       "      <td>0</td>\n",
       "      <td>0</td>\n",
       "      <td>0</td>\n",
       "      <td>0</td>\n",
       "      <td>0</td>\n",
       "      <td>0</td>\n",
       "      <td>0</td>\n",
       "      <td>0</td>\n",
       "      <td>0</td>\n",
       "      <td>0</td>\n",
       "    </tr>\n",
       "    <tr>\n",
       "      <th>doc4</th>\n",
       "      <td>inflation</td>\n",
       "      <td>0</td>\n",
       "      <td>0</td>\n",
       "      <td>0</td>\n",
       "      <td>0</td>\n",
       "      <td>0</td>\n",
       "      <td>0</td>\n",
       "      <td>0</td>\n",
       "      <td>0</td>\n",
       "      <td>0</td>\n",
       "      <td>...</td>\n",
       "      <td>0</td>\n",
       "      <td>0</td>\n",
       "      <td>0</td>\n",
       "      <td>0</td>\n",
       "      <td>0</td>\n",
       "      <td>0</td>\n",
       "      <td>0</td>\n",
       "      <td>2</td>\n",
       "      <td>2</td>\n",
       "      <td>0</td>\n",
       "    </tr>\n",
       "    <tr>\n",
       "      <th>doc5</th>\n",
       "      <td>inflation</td>\n",
       "      <td>0</td>\n",
       "      <td>0</td>\n",
       "      <td>0</td>\n",
       "      <td>0</td>\n",
       "      <td>0</td>\n",
       "      <td>0</td>\n",
       "      <td>0</td>\n",
       "      <td>0</td>\n",
       "      <td>0</td>\n",
       "      <td>...</td>\n",
       "      <td>0</td>\n",
       "      <td>0</td>\n",
       "      <td>0</td>\n",
       "      <td>1</td>\n",
       "      <td>0</td>\n",
       "      <td>0</td>\n",
       "      <td>0</td>\n",
       "      <td>0</td>\n",
       "      <td>0</td>\n",
       "      <td>0</td>\n",
       "    </tr>\n",
       "    <tr>\n",
       "      <th>...</th>\n",
       "      <td>...</td>\n",
       "      <td>...</td>\n",
       "      <td>...</td>\n",
       "      <td>...</td>\n",
       "      <td>...</td>\n",
       "      <td>...</td>\n",
       "      <td>...</td>\n",
       "      <td>...</td>\n",
       "      <td>...</td>\n",
       "      <td>...</td>\n",
       "      <td>...</td>\n",
       "      <td>...</td>\n",
       "      <td>...</td>\n",
       "      <td>...</td>\n",
       "      <td>...</td>\n",
       "      <td>...</td>\n",
       "      <td>...</td>\n",
       "      <td>...</td>\n",
       "      <td>...</td>\n",
       "      <td>...</td>\n",
       "      <td>...</td>\n",
       "    </tr>\n",
       "    <tr>\n",
       "      <th>doc57</th>\n",
       "      <td>exchange</td>\n",
       "      <td>0</td>\n",
       "      <td>0</td>\n",
       "      <td>0</td>\n",
       "      <td>0</td>\n",
       "      <td>0</td>\n",
       "      <td>0</td>\n",
       "      <td>0</td>\n",
       "      <td>0</td>\n",
       "      <td>0</td>\n",
       "      <td>...</td>\n",
       "      <td>0</td>\n",
       "      <td>0</td>\n",
       "      <td>0</td>\n",
       "      <td>0</td>\n",
       "      <td>0</td>\n",
       "      <td>0</td>\n",
       "      <td>0</td>\n",
       "      <td>0</td>\n",
       "      <td>0</td>\n",
       "      <td>0</td>\n",
       "    </tr>\n",
       "    <tr>\n",
       "      <th>doc58</th>\n",
       "      <td>exchange</td>\n",
       "      <td>0</td>\n",
       "      <td>0</td>\n",
       "      <td>0</td>\n",
       "      <td>0</td>\n",
       "      <td>0</td>\n",
       "      <td>0</td>\n",
       "      <td>0</td>\n",
       "      <td>0</td>\n",
       "      <td>0</td>\n",
       "      <td>...</td>\n",
       "      <td>0</td>\n",
       "      <td>0</td>\n",
       "      <td>0</td>\n",
       "      <td>0</td>\n",
       "      <td>0</td>\n",
       "      <td>0</td>\n",
       "      <td>0</td>\n",
       "      <td>0</td>\n",
       "      <td>0</td>\n",
       "      <td>0</td>\n",
       "    </tr>\n",
       "    <tr>\n",
       "      <th>doc59</th>\n",
       "      <td>exchange</td>\n",
       "      <td>0</td>\n",
       "      <td>0</td>\n",
       "      <td>0</td>\n",
       "      <td>0</td>\n",
       "      <td>0</td>\n",
       "      <td>0</td>\n",
       "      <td>0</td>\n",
       "      <td>0</td>\n",
       "      <td>0</td>\n",
       "      <td>...</td>\n",
       "      <td>0</td>\n",
       "      <td>0</td>\n",
       "      <td>0</td>\n",
       "      <td>0</td>\n",
       "      <td>0</td>\n",
       "      <td>0</td>\n",
       "      <td>0</td>\n",
       "      <td>0</td>\n",
       "      <td>0</td>\n",
       "      <td>0</td>\n",
       "    </tr>\n",
       "    <tr>\n",
       "      <th>doc60</th>\n",
       "      <td>exchange</td>\n",
       "      <td>0</td>\n",
       "      <td>0</td>\n",
       "      <td>0</td>\n",
       "      <td>0</td>\n",
       "      <td>0</td>\n",
       "      <td>0</td>\n",
       "      <td>0</td>\n",
       "      <td>0</td>\n",
       "      <td>0</td>\n",
       "      <td>...</td>\n",
       "      <td>0</td>\n",
       "      <td>0</td>\n",
       "      <td>0</td>\n",
       "      <td>0</td>\n",
       "      <td>0</td>\n",
       "      <td>0</td>\n",
       "      <td>0</td>\n",
       "      <td>0</td>\n",
       "      <td>0</td>\n",
       "      <td>0</td>\n",
       "    </tr>\n",
       "    <tr>\n",
       "      <th>doc61</th>\n",
       "      <td>exchange</td>\n",
       "      <td>0</td>\n",
       "      <td>0</td>\n",
       "      <td>0</td>\n",
       "      <td>0</td>\n",
       "      <td>0</td>\n",
       "      <td>0</td>\n",
       "      <td>1</td>\n",
       "      <td>0</td>\n",
       "      <td>0</td>\n",
       "      <td>...</td>\n",
       "      <td>0</td>\n",
       "      <td>0</td>\n",
       "      <td>0</td>\n",
       "      <td>0</td>\n",
       "      <td>0</td>\n",
       "      <td>0</td>\n",
       "      <td>0</td>\n",
       "      <td>0</td>\n",
       "      <td>0</td>\n",
       "      <td>0</td>\n",
       "    </tr>\n",
       "  </tbody>\n",
       "</table>\n",
       "<p>61 rows × 4700 columns</p>\n",
       "</div>"
      ],
      "text/plain": [
       "          topics  abajo  abandonara  abandone  abastecimiento  abatida  \\\n",
       "doc1   inflation      0           0         0               0        0   \n",
       "doc2   inflation      0           0         0               0        0   \n",
       "doc3   inflation      0           0         0               0        0   \n",
       "doc4   inflation      0           0         0               0        0   \n",
       "doc5   inflation      0           0         0               0        0   \n",
       "...          ...    ...         ...       ...             ...      ...   \n",
       "doc57   exchange      0           0         0               0        0   \n",
       "doc58   exchange      0           0         0               0        0   \n",
       "doc59   exchange      0           0         0               0        0   \n",
       "doc60   exchange      0           0         0               0        0   \n",
       "doc61   exchange      0           0         0               0        0   \n",
       "\n",
       "       abierta  abierto  aboga  abonados  ...  woyecheszen  xx  yaguarete  \\\n",
       "doc1         0        0      0         0  ...            0   1          0   \n",
       "doc2         0        0      0         0  ...            0   0          0   \n",
       "doc3         0        0      0         0  ...            0   0          0   \n",
       "doc4         0        0      0         0  ...            0   0          0   \n",
       "doc5         0        0      0         0  ...            0   0          0   \n",
       "...        ...      ...    ...       ...  ...          ...  ..        ...   \n",
       "doc57        0        0      0         0  ...            0   0          0   \n",
       "doc58        0        0      0         0  ...            0   0          0   \n",
       "doc59        0        0      0         0  ...            0   0          0   \n",
       "doc60        0        0      0         0  ...            0   0          0   \n",
       "doc61        0        1      0         0  ...            0   0          0   \n",
       "\n",
       "       york  ypf  yuanes  zamora  zona  zonaprop  zonas  \n",
       "doc1      0    0       0       0     0         0      0  \n",
       "doc2      0    0       0       0     0         0      1  \n",
       "doc3      0    0       0       0     0         0      0  \n",
       "doc4      0    0       0       0     2         2      0  \n",
       "doc5      1    0       0       0     0         0      0  \n",
       "...     ...  ...     ...     ...   ...       ...    ...  \n",
       "doc57     0    0       0       0     0         0      0  \n",
       "doc58     0    0       0       0     0         0      0  \n",
       "doc59     0    0       0       0     0         0      0  \n",
       "doc60     0    0       0       0     0         0      0  \n",
       "doc61     0    0       0       0     0         0      0  \n",
       "\n",
       "[61 rows x 4700 columns]"
      ]
     },
     "execution_count": 81,
     "metadata": {},
     "output_type": "execute_result"
    }
   ],
   "source": [
    "token_df"
   ]
  },
  {
   "cell_type": "code",
   "execution_count": 82,
   "metadata": {},
   "outputs": [],
   "source": [
    "token_df.to_pickle('tokens/topic_tokens_der.pkl')"
   ]
  },
  {
   "cell_type": "markdown",
   "metadata": {},
   "source": [
    "#### CV tokens"
   ]
  },
  {
   "cell_type": "code",
   "execution_count": 83,
   "metadata": {},
   "outputs": [],
   "source": [
    "pickle.dump(vectorizer, open( \"tokens/cv_der.pkl\", \"wb\" ))"
   ]
  }
 ],
 "metadata": {
  "kernelspec": {
   "display_name": "Python 3",
   "language": "python",
   "name": "python3"
  },
  "language_info": {
   "codemirror_mode": {
    "name": "ipython",
    "version": 3
   },
   "file_extension": ".py",
   "mimetype": "text/x-python",
   "name": "python",
   "nbconvert_exporter": "python",
   "pygments_lexer": "ipython3",
   "version": "3.7.7"
  }
 },
 "nbformat": 4,
 "nbformat_minor": 4
}
