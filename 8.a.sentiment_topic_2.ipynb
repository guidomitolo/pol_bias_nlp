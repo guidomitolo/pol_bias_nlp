{
 "cells": [
  {
   "cell_type": "markdown",
   "metadata": {},
   "source": [
    "## Sentiment Analisys"
   ]
  },
  {
   "cell_type": "markdown",
   "metadata": {},
   "source": [
    "### Load Data"
   ]
  },
  {
   "cell_type": "code",
   "execution_count": 1,
   "metadata": {},
   "outputs": [],
   "source": [
    "import pandas as pd\n",
    "import numpy as np\n",
    "import pickle"
   ]
  },
  {
   "cell_type": "code",
   "execution_count": 2,
   "metadata": {},
   "outputs": [],
   "source": [
    "data = pickle.load(open('data/df_clean_izq.pkl','rb'))"
   ]
  },
  {
   "cell_type": "code",
   "execution_count": 3,
   "metadata": {},
   "outputs": [
    {
     "data": {
      "text/plain": [
       "(36, 7)"
      ]
     },
     "execution_count": 3,
     "metadata": {},
     "output_type": "execute_result"
    }
   ],
   "source": [
    "inf_izq = data.loc[data.topics == 'inflation']\n",
    "inf_izq.shape"
   ]
  },
  {
   "cell_type": "code",
   "execution_count": 4,
   "metadata": {},
   "outputs": [],
   "source": [
    "data = pickle.load(open('data/df_clean_der.pkl','rb'))"
   ]
  },
  {
   "cell_type": "code",
   "execution_count": 5,
   "metadata": {},
   "outputs": [
    {
     "data": {
      "text/plain": [
       "(42, 7)"
      ]
     },
     "execution_count": 5,
     "metadata": {},
     "output_type": "execute_result"
    }
   ],
   "source": [
    "inf_der = data.loc[data.topics == 'inflation']\n",
    "inf_der.shape"
   ]
  },
  {
   "cell_type": "markdown",
   "metadata": {},
   "source": [
    "### Parts of Speech (POS) Tagging and Sentiment Analysis\n",
    "\n",
    "- CC coordinating conjunction\n",
    "- CD cardinal digit\n",
    "- DT determiner\n",
    "- EX existential there\n",
    "- FW foreign word\n",
    "- IN preposition/subordinating conjunction\n",
    "- JJ This NLTK POS Tag is an adjective (large)\n",
    "- JJR adjective, comparative (larger)\n",
    "- JJS adjective, superlative (largest)\n",
    "- LS list market\n",
    "- MD modal (could, will)\n",
    "- NN noun, singular (cat, tree)\n",
    "- NNS noun plural (desks)\n",
    "- NNP proper noun, singular (sarah)\n",
    "- NNPS proper noun, plural (indians or americans)\n",
    "- PDT predeterminer (all, both, half)\n",
    "- POS possessive ending (parent\\ 's)\n",
    "- PRP personal pronoun (hers, herself, him,himself)\n",
    "- PRPS possessive pronoun (her, his, mine, my, our )\n",
    "- RB adverb (occasionally, swiftly)\n",
    "- RBR adverb, comparative (greater)\n",
    "- RBS adverb, superlative (biggest)\n",
    "- RP particle (about)\n",
    "- TO infinite marker (to)\n",
    "- UH interjection (goodbye)\n",
    "- VB verb (ask)\n",
    "- VBG verb gerund (judging)\n",
    "- VBD verb past tense (pleaded)\n",
    "- VBN verb past participle (reunified)\n",
    "- VBP verb, present tense not 3rd person singular(wrap)\n",
    "- VBZ verb, present tense with 3rd person singular (bases)\n",
    "- WDT wh-determiner (that, what)\n",
    "- WP wh- pronoun (who)\n",
    "- WRB wh- adverb (how) "
   ]
  },
  {
   "cell_type": "code",
   "execution_count": 6,
   "metadata": {},
   "outputs": [],
   "source": [
    "import nltk"
   ]
  },
  {
   "cell_type": "code",
   "execution_count": 7,
   "metadata": {},
   "outputs": [],
   "source": [
    "from nltk.sentiment import SentimentIntensityAnalyzer"
   ]
  },
  {
   "cell_type": "code",
   "execution_count": 8,
   "metadata": {},
   "outputs": [],
   "source": [
    "# nltk.download('vader_lexicon')"
   ]
  },
  {
   "cell_type": "code",
   "execution_count": 9,
   "metadata": {},
   "outputs": [],
   "source": [
    "from textblob import TextBlob\n",
    "from googletrans import Translator"
   ]
  },
  {
   "cell_type": "markdown",
   "metadata": {},
   "source": [
    "### NLTK vs TextBlob (tagging)"
   ]
  },
  {
   "cell_type": "markdown",
   "metadata": {},
   "source": [
    "Import tokens for nltk tagging"
   ]
  },
  {
   "cell_type": "code",
   "execution_count": 10,
   "metadata": {},
   "outputs": [],
   "source": [
    "token_df = pd.read_pickle('tokens/topic_tokens_izq.pkl')"
   ]
  },
  {
   "cell_type": "code",
   "execution_count": 11,
   "metadata": {},
   "outputs": [],
   "source": [
    "token_df = token_df[token_df.topics == 'inflation']"
   ]
  },
  {
   "cell_type": "code",
   "execution_count": 12,
   "metadata": {},
   "outputs": [],
   "source": [
    "token_df.drop(['topics'], axis=1, inplace=True)"
   ]
  },
  {
   "cell_type": "code",
   "execution_count": 13,
   "metadata": {},
   "outputs": [
    {
     "data": {
      "text/plain": [
       "39"
      ]
     },
     "execution_count": 13,
     "metadata": {},
     "output_type": "execute_result"
    }
   ],
   "source": [
    "# made a corpus from tokens in df\n",
    "corpus = []\n",
    "for row in range(len(token_df)):\n",
    "    corpus.append(token_df.iloc[row,(token_df.iloc[row] == 1).values].index.tolist())\n",
    "len(corpus)"
   ]
  },
  {
   "cell_type": "markdown",
   "metadata": {},
   "source": [
    "nltk (tokens) vs textblob (text)"
   ]
  },
  {
   "cell_type": "code",
   "execution_count": 14,
   "metadata": {},
   "outputs": [
    {
     "data": {
      "text/plain": [
       "None"
      ]
     },
     "metadata": {},
     "output_type": "display_data"
    },
    {
     "data": {
      "text/plain": [
       "'JJ'"
      ]
     },
     "metadata": {},
     "output_type": "display_data"
    },
    {
     "data": {
      "text/plain": [
       "None"
      ]
     },
     "metadata": {},
     "output_type": "display_data"
    },
    {
     "data": {
      "text/plain": [
       "None"
      ]
     },
     "metadata": {},
     "output_type": "display_data"
    },
    {
     "data": {
      "text/plain": [
       "None"
      ]
     },
     "metadata": {},
     "output_type": "display_data"
    },
    {
     "data": {
      "text/plain": [
       "None"
      ]
     },
     "metadata": {},
     "output_type": "display_data"
    }
   ],
   "source": [
    "display( dict(nltk.pos_tag(corpus[0])).get('comision'),\n",
    "        dict(nltk.pos_tag(corpus[0])).get('nacional'),\n",
    "        dict(nltk.pos_tag(corpus[0])).get('valores'),\n",
    "        dict(nltk.pos_tag(corpus[0])).get('cantidad'),\n",
    "        dict(nltk.pos_tag(corpus[0])).get('tener'),\n",
    "        dict(nltk.pos_tag(corpus[0])).get('venderlo'),\n",
    "       )"
   ]
  },
  {
   "cell_type": "code",
   "execution_count": 15,
   "metadata": {},
   "outputs": [
    {
     "name": "stdout",
     "output_type": "stream",
     "text": [
      "[('La', 'NNP'), ('inflación', 'VBZ'), ('no', 'DT'), ('se', 'JJ'), ('detiene', 'NN'), ('y', 'NN'), ('el', 'FW'), ('fin', 'NN'), ('de', 'IN'), ('año', 'FW'), ('para', 'NN'), ('la', 'FW'), ('mayoría', 'FW'), ('de', 'FW'), ('las', 'FW'), ('familias', 'FW'), ('se', 'FW'), ('presenta', 'FW'), ('difícil', 'FW'), ('de', 'FW'), ('afrontar', 'FW'), ('El', 'NNP'), ('índice', 'NNP'), ('de', 'FW'), ('precios', 'FW'), ('mayoristas', 'NNS'), ('aumentó', 'VBP'), ('durante', 'JJ'), ('noviembre', 'RB'), ('4,2', 'CD'), ('%', 'NN'), ('mientras', 'FW'), ('que', 'NN'), ('el', 'FW'), ('costo', 'NN'), ('de', 'IN'), ('la', 'FW'), ('construcción', 'FW'), ('registró', 'FW'), ('un', 'JJ'), ('incremento', 'NN'), ('de', 'IN'), ('12,4', 'CD'), ('%', 'NN'), ('según', 'JJ'), ('informó', 'NN'), ('este', 'NN'), ('lunes', 'NNS'), ('el', 'VBP'), ('Instituto', 'NNP'), ('Nacional', 'NNP'), ('de', 'FW'), ('estadística', 'FW'), ('y', 'FW'), ('Censos', 'NNP'), ('Indec', 'NNP'), ('De', 'NNP'), ('esta', 'FW'), ('forma', 'NN'), ('en', 'FW')]\n"
     ]
    }
   ],
   "source": [
    "text = TextBlob(inf_izq.iloc[0, -2])\n",
    "print(text.tags[:60])"
   ]
  },
  {
   "cell_type": "markdown",
   "metadata": {},
   "source": [
    "### Text Blob and language\n",
    "Translation with TextBlob and googletrans"
   ]
  },
  {
   "cell_type": "markdown",
   "metadata": {},
   "source": [
    "#### Spanish VS English (Example)\n",
    "There are evident issues in the tagging process before translation that lead to the imposibility of getting the sentiment scores."
   ]
  },
  {
   "cell_type": "code",
   "execution_count": 16,
   "metadata": {},
   "outputs": [
    {
     "name": "stdout",
     "output_type": "stream",
     "text": [
      "Input en español:\n",
      "Al mismo tiempo los precios mayoristas del conjunto de los ramas crecieron un 4,2 % consolidando la suba de la inflación. Los salarios cada vez alcanzan para menos y la vivienda propia se torna cada vez más inaccesible.\n",
      "\n",
      "POS:\n",
      "[('Al', 'NNP'), ('mismo', 'NNP'), ('tiempo', 'VBD'), ('los', 'JJ'), ('precios', 'NNS'), ('mayoristas', 'VBP'), ('del', 'FW'), ('conjunto', 'NN'), ('de', 'FW'), ('los', 'FW'), ('ramas', 'FW'), ('crecieron', 'NN'), ('un', 'JJ'), ('4,2', 'CD'), ('%', 'NN'), ('consolidando', 'NN'), ('la', 'NN'), ('suba', 'FW'), ('de', 'FW'), ('la', 'FW'), ('inflación', 'NN'), ('Los', 'NNP'), ('salarios', 'NNS'), ('cada', 'VBP'), ('vez', 'JJ'), ('alcanzan', 'NN'), ('para', 'NN'), ('menos', 'FW'), ('y', 'NN'), ('la', 'FW'), ('vivienda', 'FW'), ('propia', 'FW'), ('se', 'FW'), ('torna', 'FW'), ('cada', 'NN'), ('vez', 'NN'), ('más', 'NN'), ('inaccesible', 'JJ')]\n",
      "\n",
      "Sustantivos:\n",
      "['al', 'mismo tiempo los precios mayoristas del conjunto', 'los ramas crecieron un', '% consolidando', 'los', 'salarios cada vez alcanzan para menos y', 'vivienda propia se torna cada vez más inaccesible']\n",
      "\n",
      "Sentiment(polarity=0.0, subjectivity=0.0) \n",
      "\n"
     ]
    }
   ],
   "source": [
    "# Spanish\n",
    "print(f'Input en español:\\n{inf_izq.iloc[0].lead}\\n')\n",
    "\n",
    "text = TextBlob(inf_izq.iloc[0].lead)\n",
    "print(f'POS:\\n{text.tags}\\n')\n",
    "\n",
    "print(f'Sustantivos:\\n{text.noun_phrases}\\n')\n",
    "\n",
    "print(text.sentiment,'\\n')"
   ]
  },
  {
   "cell_type": "code",
   "execution_count": 17,
   "metadata": {},
   "outputs": [
    {
     "name": "stdout",
     "output_type": "stream",
     "text": [
      "Traducción:\n",
      "At the same time the wholesale prices of the branches grew by 4.2% consolidating the increase in inflation.Salaries increasingly reach and their own housing becomes increasingly inaccessible.\n",
      "\n",
      "POS:\n",
      "[('At', 'IN'), ('the', 'DT'), ('same', 'JJ'), ('time', 'NN'), ('the', 'DT'), ('wholesale', 'JJ'), ('prices', 'NNS'), ('of', 'IN'), ('the', 'DT'), ('branches', 'NNS'), ('grew', 'VBD'), ('by', 'IN'), ('4.2', 'CD'), ('%', 'NN'), ('consolidating', 'VBG'), ('the', 'DT'), ('increase', 'NN'), ('in', 'IN'), ('inflation.Salaries', 'NNS'), ('increasingly', 'RB'), ('reach', 'VBP'), ('and', 'CC'), ('their', 'PRP$'), ('own', 'JJ'), ('housing', 'NN'), ('becomes', 'NNS'), ('increasingly', 'RB'), ('inaccessible', 'JJ')]\n",
      "\n",
      "Sustantivos:\n",
      "['wholesale prices']\n",
      "\n",
      "Sentiment(polarity=0.3, subjectivity=0.5625)\n"
     ]
    }
   ],
   "source": [
    "# English\n",
    "translator = Translator()\n",
    "translation = translator.translate(inf_izq.iloc[0].lead, src='es', dest='en')\n",
    "\n",
    "print(f'Traducción:\\n{translation.text}\\n')\n",
    "\n",
    "text = TextBlob(translation.text)\n",
    "print(f'POS:\\n{text.tags}\\n')\n",
    "\n",
    "print(f'Sustantivos:\\n{text.noun_phrases}\\n') \n",
    "\n",
    "print(text.sentiment)"
   ]
  },
  {
   "cell_type": "code",
   "execution_count": 18,
   "metadata": {},
   "outputs": [
    {
     "name": "stdout",
     "output_type": "stream",
     "text": [
      "Input en español: La famosa multinacional financiera alerta sobre los peligros inflacionarios a raíz de la caída en la demanda de pesos en cara a 2021. Además, el economista Steve Hanke asegura que la inflación argentina está fuertemente reprimida, y la real podría llegar a los tres dígitos.\n",
      "\n",
      "POS:\n",
      "[('La', 'NNP'), ('famosa', 'VBD'), ('multinacional', 'JJ'), ('financiera', 'NN'), ('alerta', 'NN'), ('sobre', 'NN'), ('los', 'NN'), ('peligros', 'JJ'), ('inflacionarios', 'VBZ'), ('a', 'DT'), ('raíz', 'NN'), ('de', 'IN'), ('la', 'FW'), ('caída', 'FW'), ('en', 'FW'), ('la', 'FW'), ('demanda', 'FW'), ('de', 'FW'), ('pesos', 'FW'), ('en', 'FW'), ('cara', 'NN'), ('a', 'DT'), ('2021', 'CD'), ('Además', 'NNP'), ('el', 'NN'), ('economista', 'NN'), ('Steve', 'NNP'), ('Hanke', 'NNP'), ('asegura', 'NN'), ('que', 'NN'), ('la', 'NN'), ('inflación', 'JJ'), ('argentina', 'NN'), ('está', 'NN'), ('fuertemente', 'NN'), ('reprimida', 'NN'), ('y', 'RB'), ('la', 'JJ'), ('real', 'JJ'), ('podría', 'NN'), ('llegar', 'VBD'), ('a', 'DT'), ('los', 'NN'), ('tres', 'VBZ'), ('dígitos', 'NNS')]\n",
      "\n",
      "Sustantivos:\n",
      "['famosa multinacional financiera alerta sobre los peligros inflacionarios', 'además', 'el economista', 'steve hanke', 'asegura que', 'inflación argentina está fuertemente reprimida', 'real podría llegar', 'los tres dígitos']\n",
      "\n",
      "Sentiment(polarity=0.2, subjectivity=0.30000000000000004) \n",
      "\n"
     ]
    }
   ],
   "source": [
    "print(f'Input en español: {inf_der.iloc[0].lead}\\n')\n",
    "text = TextBlob(inf_der.iloc[0].lead)\n",
    "\n",
    "print(f'POS:\\n{text.tags}\\n')\n",
    "\n",
    "print(f'Sustantivos:\\n{text.noun_phrases}\\n')\n",
    "\n",
    "print(text.sentiment,'\\n')"
   ]
  },
  {
   "cell_type": "code",
   "execution_count": 19,
   "metadata": {},
   "outputs": [
    {
     "name": "stdout",
     "output_type": "stream",
     "text": [
      "Traducción: The famous financial multinational alert on inflationary dangers as a result of the fall in demand for pesos in face 2021. In addition, economist Steve Hanke ensures that Argentine inflation is strongly repressed, and the real could reach the three digits.\n",
      "\n",
      "POS:\n",
      "[('The', 'DT'), ('famous', 'JJ'), ('financial', 'JJ'), ('multinational', 'JJ'), ('alert', 'NN'), ('on', 'IN'), ('inflationary', 'JJ'), ('dangers', 'NNS'), ('as', 'IN'), ('a', 'DT'), ('result', 'NN'), ('of', 'IN'), ('the', 'DT'), ('fall', 'NN'), ('in', 'IN'), ('demand', 'NN'), ('for', 'IN'), ('pesos', 'NN'), ('in', 'IN'), ('face', 'NN'), ('2021', 'CD'), ('In', 'IN'), ('addition', 'NN'), ('economist', 'NN'), ('Steve', 'NNP'), ('Hanke', 'NNP'), ('ensures', 'VBZ'), ('that', 'IN'), ('Argentine', 'NNP'), ('inflation', 'NN'), ('is', 'VBZ'), ('strongly', 'RB'), ('repressed', 'VBN'), ('and', 'CC'), ('the', 'DT'), ('real', 'JJ'), ('could', 'MD'), ('reach', 'VB'), ('the', 'DT'), ('three', 'CD'), ('digits', 'NNS')]\n",
      "\n",
      "Sustantivos:\n",
      "['famous financial multinational', 'inflationary dangers', 'steve hanke', 'argentine']\n",
      "\n",
      "Sentiment(polarity=0.2833333333333333, subjectivity=0.5083333333333333)\n"
     ]
    }
   ],
   "source": [
    "translator = Translator()\n",
    "translation = translator.translate(inf_der.iloc[0].lead, src='es', dest='en')\n",
    "\n",
    "print(f'Traducción: {translation.text}\\n')\n",
    "text = TextBlob(translation.text)\n",
    "\n",
    "print(f'POS:\\n{text.tags}\\n')\n",
    "\n",
    "print(f'Sustantivos:\\n{text.noun_phrases}\\n') \n",
    "\n",
    "print(text.sentiment)"
   ]
  },
  {
   "cell_type": "markdown",
   "metadata": {},
   "source": [
    "### Datasets - Sentiment Analisys"
   ]
  },
  {
   "cell_type": "markdown",
   "metadata": {},
   "source": [
    "#### NLTK\n",
    "with nltk VADER (Valence Aware Dictionary and sEntiment Reasoner)"
   ]
  },
  {
   "cell_type": "code",
   "execution_count": 20,
   "metadata": {},
   "outputs": [
    {
     "name": "stdout",
     "output_type": "stream",
     "text": [
      "Example: {'neg': 0.04, 'neu': 0.96, 'pos': 0.0, 'compound': -0.9287}\n"
     ]
    }
   ],
   "source": [
    "# nltk sentiment\n",
    "sia = SentimentIntensityAnalyzer()\n",
    "print(f'Example: {sia.polarity_scores(inf_izq.iloc[0, :].body)}')"
   ]
  },
  {
   "cell_type": "code",
   "execution_count": 21,
   "metadata": {},
   "outputs": [],
   "source": [
    "def polarity(df):\n",
    "    nltk_pol = lambda x: sia.polarity_scores(x)\n",
    "    df_pol = df.body.apply(nltk_pol)\n",
    "    neg = 0; pos = 0; neu = 0\n",
    "    for row in list(df_pol.values):\n",
    "        pos += row['pos']\n",
    "        neg += row['neg']\n",
    "        neu += row['neu']\n",
    "        return {'neg': neg,\n",
    "                'pos': pos,\n",
    "                'neu': neu\n",
    "               }"
   ]
  },
  {
   "cell_type": "markdown",
   "metadata": {},
   "source": [
    "#### 1. \"derecha diario\""
   ]
  },
  {
   "cell_type": "markdown",
   "metadata": {},
   "source": [
    "nltk"
   ]
  },
  {
   "cell_type": "code",
   "execution_count": 22,
   "metadata": {},
   "outputs": [
    {
     "name": "stdout",
     "output_type": "stream",
     "text": [
      "NLTK\n",
      "{'neg': 0.025, 'pos': 0.008, 'neu': 0.967}\n"
     ]
    }
   ],
   "source": [
    "print(f'NLTK\\n{polarity(inf_der)}')"
   ]
  },
  {
   "cell_type": "markdown",
   "metadata": {},
   "source": [
    "Text blob with google translator"
   ]
  },
  {
   "cell_type": "code",
   "execution_count": 23,
   "metadata": {},
   "outputs": [],
   "source": [
    "translator = Translator()\n",
    "pol_t = lambda x: np.around(TextBlob(translator.translate(x, src='es', dest='en').text).sentiment.polarity, 3)\n",
    "sub_t = lambda x: np.around(TextBlob(translator.translate(x, src='es', dest='en').text).sentiment.subjectivity, 3)"
   ]
  },
  {
   "cell_type": "code",
   "execution_count": 24,
   "metadata": {},
   "outputs": [
    {
     "name": "stderr",
     "output_type": "stream",
     "text": [
      "/home/guido/anaconda3/envs/dh/lib/python3.7/site-packages/ipykernel_launcher.py:1: SettingWithCopyWarning: \n",
      "A value is trying to be set on a copy of a slice from a DataFrame.\n",
      "Try using .loc[row_indexer,col_indexer] = value instead\n",
      "\n",
      "See the caveats in the documentation: https://pandas.pydata.org/pandas-docs/stable/user_guide/indexing.html#returning-a-view-versus-a-copy\n",
      "  \"\"\"Entry point for launching an IPython kernel.\n",
      "/home/guido/anaconda3/envs/dh/lib/python3.7/site-packages/ipykernel_launcher.py:2: SettingWithCopyWarning: \n",
      "A value is trying to be set on a copy of a slice from a DataFrame.\n",
      "Try using .loc[row_indexer,col_indexer] = value instead\n",
      "\n",
      "See the caveats in the documentation: https://pandas.pydata.org/pandas-docs/stable/user_guide/indexing.html#returning-a-view-versus-a-copy\n",
      "  \n"
     ]
    }
   ],
   "source": [
    "inf_der['polarity'] = inf_der.lead.apply(pol_t)\n",
    "inf_der['subjectivity'] = inf_der.lead.apply(sub_t)"
   ]
  },
  {
   "cell_type": "code",
   "execution_count": 25,
   "metadata": {},
   "outputs": [
    {
     "name": "stdout",
     "output_type": "stream",
     "text": [
      "TextBlob\n",
      "Polarity: 0.10252380952380957\n",
      "Subjectivity: 0.4447142857142857\n"
     ]
    }
   ],
   "source": [
    "print(f'TextBlob\\nPolarity: {inf_der.polarity.mean()}\\nSubjectivity: {inf_der.subjectivity.mean()}')"
   ]
  },
  {
   "cell_type": "markdown",
   "metadata": {},
   "source": [
    "Text blob with textblob translator"
   ]
  },
  {
   "cell_type": "code",
   "execution_count": 26,
   "metadata": {},
   "outputs": [],
   "source": [
    "# pol = lambda x: np.around(TextBlob(x).translate(to='en').sentiment.polarity, 3)\n",
    "# sub = lambda x: np.around(TextBlob(x).translate(to='en').sentiment.subjectivity, 3)"
   ]
  },
  {
   "cell_type": "code",
   "execution_count": 27,
   "metadata": {},
   "outputs": [],
   "source": [
    "# inf_der['polarity'] = inf_der.lead.apply(pol)\n",
    "# inf_der['subjectivity'] = inf_der.lead.apply(sub)"
   ]
  },
  {
   "cell_type": "code",
   "execution_count": 28,
   "metadata": {},
   "outputs": [],
   "source": [
    "# print(f'Polarity: {inf_der.polarity.mean()}\\nSubjectivity: {inf_der.subjectivity.mean()}')"
   ]
  },
  {
   "cell_type": "markdown",
   "metadata": {},
   "source": [
    "#### 2. \"izquierda diario\""
   ]
  },
  {
   "cell_type": "markdown",
   "metadata": {},
   "source": [
    "nltk"
   ]
  },
  {
   "cell_type": "code",
   "execution_count": 29,
   "metadata": {},
   "outputs": [
    {
     "name": "stdout",
     "output_type": "stream",
     "text": [
      "NLTK\n",
      "{'neg': 0.04, 'pos': 0.0, 'neu': 0.96}\n"
     ]
    }
   ],
   "source": [
    "print(f'NLTK\\n{polarity(inf_izq)}')"
   ]
  },
  {
   "cell_type": "markdown",
   "metadata": {},
   "source": [
    "Text blob with google translator"
   ]
  },
  {
   "cell_type": "code",
   "execution_count": 30,
   "metadata": {},
   "outputs": [],
   "source": [
    "#inf_izq['polarity'] = inf_izq.lead.apply(pol)\n",
    "#inf_izq['subjectivity'] = inf_izq.lead.apply(sub)"
   ]
  },
  {
   "cell_type": "code",
   "execution_count": 31,
   "metadata": {},
   "outputs": [],
   "source": [
    "# print(f'Polarity: {inf_izq.polarity.mean()}\\nSubjectivity: {inf_izq.subjectivity.mean()}')"
   ]
  },
  {
   "cell_type": "code",
   "execution_count": 32,
   "metadata": {},
   "outputs": [],
   "source": [
    "inf_izq['polarity'] = inf_izq.lead.apply(pol_t)\n",
    "inf_izq['subjectivity'] = inf_izq.lead.apply(sub_t)"
   ]
  },
  {
   "cell_type": "code",
   "execution_count": 33,
   "metadata": {},
   "outputs": [
    {
     "name": "stdout",
     "output_type": "stream",
     "text": [
      "TextBlob\n",
      "Polarity: 0.11661111111111112\n",
      "Subjectivity: 0.4015833333333334\n"
     ]
    }
   ],
   "source": [
    "print(f'TextBlob\\nPolarity: {inf_izq.polarity.mean()}\\nSubjectivity: {inf_izq.subjectivity.mean()}')"
   ]
  }
 ],
 "metadata": {
  "kernelspec": {
   "display_name": "Python 3",
   "language": "python",
   "name": "python3"
  },
  "language_info": {
   "codemirror_mode": {
    "name": "ipython",
    "version": 3
   },
   "file_extension": ".py",
   "mimetype": "text/x-python",
   "name": "python",
   "nbconvert_exporter": "python",
   "pygments_lexer": "ipython3",
   "version": "3.7.7"
  }
 },
 "nbformat": 4,
 "nbformat_minor": 4
}
