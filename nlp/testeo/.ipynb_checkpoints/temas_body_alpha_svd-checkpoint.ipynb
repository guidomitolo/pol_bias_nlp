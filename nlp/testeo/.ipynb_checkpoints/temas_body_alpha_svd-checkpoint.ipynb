{
 "cells": [
  {
   "cell_type": "code",
   "execution_count": 1,
   "metadata": {},
   "outputs": [],
   "source": [
    "import nltk\n",
    "import pandas as pd\n",
    "import numpy as np\n",
    "from nltk.tokenize import word_tokenize, sent_tokenize\n",
    "from nltk.corpus import stopwords\n",
    "from sklearn.feature_extraction.text import CountVectorizer"
   ]
  },
  {
   "cell_type": "code",
   "execution_count": 2,
   "metadata": {},
   "outputs": [],
   "source": [
    "df = pd.read_csv('../data/izq_econ_news.csv')"
   ]
  },
  {
   "cell_type": "code",
   "execution_count": 3,
   "metadata": {},
   "outputs": [
    {
     "data": {
      "text/plain": [
       "(144, 7)"
      ]
     },
     "execution_count": 3,
     "metadata": {},
     "output_type": "execute_result"
    }
   ],
   "source": [
    "df.shape"
   ]
  },
  {
   "cell_type": "code",
   "execution_count": 4,
   "metadata": {},
   "outputs": [
    {
     "data": {
      "text/html": [
       "<div>\n",
       "<style scoped>\n",
       "    .dataframe tbody tr th:only-of-type {\n",
       "        vertical-align: middle;\n",
       "    }\n",
       "\n",
       "    .dataframe tbody tr th {\n",
       "        vertical-align: top;\n",
       "    }\n",
       "\n",
       "    .dataframe thead th {\n",
       "        text-align: right;\n",
       "    }\n",
       "</style>\n",
       "<table border=\"1\" class=\"dataframe\">\n",
       "  <thead>\n",
       "    <tr style=\"text-align: right;\">\n",
       "      <th></th>\n",
       "      <th>Unnamed: 0</th>\n",
       "      <th>date</th>\n",
       "      <th>flyer</th>\n",
       "      <th>lead</th>\n",
       "      <th>headline</th>\n",
       "      <th>body</th>\n",
       "      <th>url</th>\n",
       "    </tr>\n",
       "  </thead>\n",
       "  <tbody>\n",
       "    <tr>\n",
       "      <th>0</th>\n",
       "      <td>0</td>\n",
       "      <td>\\nLunes 30 de noviembre</td>\n",
       "      <td>SENADO</td>\n",
       "      <td>El objetivo sería “proteger a la Argentina de ...</td>\n",
       "      <td>¿Qué dice la ley de “sostenibilidad de la deud...</td>\n",
       "      <td>Este lunes los senadores dieron media sanción ...</td>\n",
       "      <td>https://www.laizquierdadiario.com/Economia/Que...</td>\n",
       "    </tr>\n",
       "    <tr>\n",
       "      <th>1</th>\n",
       "      <td>1</td>\n",
       "      <td>\\nLunes 30 de noviembre</td>\n",
       "      <td>ECONOMÍA</td>\n",
       "      <td>El ministro de Trabajo, Claudio Moroni, confir...</td>\n",
       "      <td>Doble indemnización: pese a no frenar los desp...</td>\n",
       "      <td>El Gobierno nacional prorrogó hasta el próximo...</td>\n",
       "      <td>https://www.laizquierdadiario.com/Economia/Dob...</td>\n",
       "    </tr>\n",
       "    <tr>\n",
       "      <th>2</th>\n",
       "      <td>2</td>\n",
       "      <td>\\nDomingo 29 de noviembre</td>\n",
       "      <td>AJUSTAN AL SALARIO</td>\n",
       "      <td>El último tramo del aumento se pagaría con el ...</td>\n",
       "      <td>Paritarias estatales de Jujuy: ¿qué cambia con...</td>\n",
       "      <td>El viernes 27/11 por la tarde el Gobierno lueg...</td>\n",
       "      <td>https://www.laizquierdadiario.com/Economia/Par...</td>\n",
       "    </tr>\n",
       "    <tr>\n",
       "      <th>3</th>\n",
       "      <td>3</td>\n",
       "      <td>\\nSábado 28 de noviembre</td>\n",
       "      <td>JUBILACIONES</td>\n",
       "      <td>El proyecto del Ejecutivo para una nueva ley d...</td>\n",
       "      <td>Escándalo: el Gobierno quiere descontar a los ...</td>\n",
       "      <td>En un nuevo intento de robo a los jubilados, e...</td>\n",
       "      <td>https://www.laizquierdadiario.com/Economia/Esc...</td>\n",
       "    </tr>\n",
       "    <tr>\n",
       "      <th>4</th>\n",
       "      <td>4</td>\n",
       "      <td>\\nSábado 28 de noviembre</td>\n",
       "      <td>A PEDIDO DEL FMI</td>\n",
       "      <td>Se oficializa el ataque a las jubilaciones y p...</td>\n",
       "      <td>Ajuste a jubilados: el Gobierno envió al Congr...</td>\n",
       "      <td>El Ejecutivo giró este sábado al Congreso su p...</td>\n",
       "      <td>https://www.laizquierdadiario.com/Economia/Aju...</td>\n",
       "    </tr>\n",
       "  </tbody>\n",
       "</table>\n",
       "</div>"
      ],
      "text/plain": [
       "   Unnamed: 0                       date                flyer  \\\n",
       "0           0    \\nLunes 30 de noviembre               SENADO   \n",
       "1           1    \\nLunes 30 de noviembre             ECONOMÍA   \n",
       "2           2  \\nDomingo 29 de noviembre  AJUSTAN AL SALARIO    \n",
       "3           3   \\nSábado 28 de noviembre         JUBILACIONES   \n",
       "4           4   \\nSábado 28 de noviembre     A PEDIDO DEL FMI   \n",
       "\n",
       "                                                lead  \\\n",
       "0  El objetivo sería “proteger a la Argentina de ...   \n",
       "1  El ministro de Trabajo, Claudio Moroni, confir...   \n",
       "2  El último tramo del aumento se pagaría con el ...   \n",
       "3  El proyecto del Ejecutivo para una nueva ley d...   \n",
       "4  Se oficializa el ataque a las jubilaciones y p...   \n",
       "\n",
       "                                            headline  \\\n",
       "0  ¿Qué dice la ley de “sostenibilidad de la deud...   \n",
       "1  Doble indemnización: pese a no frenar los desp...   \n",
       "2  Paritarias estatales de Jujuy: ¿qué cambia con...   \n",
       "3  Escándalo: el Gobierno quiere descontar a los ...   \n",
       "4  Ajuste a jubilados: el Gobierno envió al Congr...   \n",
       "\n",
       "                                                body  \\\n",
       "0  Este lunes los senadores dieron media sanción ...   \n",
       "1  El Gobierno nacional prorrogó hasta el próximo...   \n",
       "2  El viernes 27/11 por la tarde el Gobierno lueg...   \n",
       "3  En un nuevo intento de robo a los jubilados, e...   \n",
       "4  El Ejecutivo giró este sábado al Congreso su p...   \n",
       "\n",
       "                                                 url  \n",
       "0  https://www.laizquierdadiario.com/Economia/Que...  \n",
       "1  https://www.laizquierdadiario.com/Economia/Dob...  \n",
       "2  https://www.laizquierdadiario.com/Economia/Par...  \n",
       "3  https://www.laizquierdadiario.com/Economia/Esc...  \n",
       "4  https://www.laizquierdadiario.com/Economia/Aju...  "
      ]
     },
     "execution_count": 4,
     "metadata": {},
     "output_type": "execute_result"
    }
   ],
   "source": [
    "df.head(5)"
   ]
  },
  {
   "cell_type": "code",
   "execution_count": 5,
   "metadata": {},
   "outputs": [
    {
     "data": {
      "text/plain": [
       "array(['SENADO', 'ECONOMÍA', 'AJUSTAN AL SALARIO ', 'JUBILACIONES',\n",
       "       'A PEDIDO DEL FMI', 'CONSUMO', 'CIERRE DE MINA AGUILAR S.A.',\n",
       "       'BRECHA CAMBIARIA', 'INFORME INDEC', 'OPTIMISMO EN LOS “MERCADOS”',\n",
       "       'INFORME INDEC', 'LEVANTARLA EN PALA',\n",
       "       'SEMANA ECONÓMICA EN CLAVES', 'INFLACIÓN', 'ESTADOS UNIDOS',\n",
       "       'INFLACION', 'SOCIEDAD', 'AJUSTE A PEDIDO DEL FMI ',\n",
       "       'TARIFAS E INFLACIÓN', 'CHANTAJE EMPRESARIAL ', 'TRIBUNA ABIERTA',\n",
       "       'TUCUMÁN', 'CUMBRE DEL G20', 'PRECIOS', 'COMUNICADO DE PRENSA',\n",
       "       'DOBLE DISCURSO', 'LICITACIÓN', 'AJUSTE',\n",
       "       'ESTIMACIÓN JUNTA INTERNA ATE INDEC', 'INFORME INDEC', 'AJUSTE',\n",
       "       'ANUNCIO OFICIAL', 'EXPORTACIONES', 'DÓLAR Y BRECHA',\n",
       "       'CELEBRAN LAS PATRONALES AGRARIAS', 'INFORME INDEC', 'AJUSTE',\n",
       "       'PRESUPUESTO 2021', 'MULTINACIONALES MINERAS',\n",
       "       'GANANCIA EMPRESARIA', 'NO AL AJUSTE A PEDIDO DEL FMI',\n",
       "       'COMERCIO INTERNACIONAL', 'MULTINACIONALES MINERAS', 'ACTUALIDAD',\n",
       "       'ENTREVISTA', 'CONSUMO MASIVO', 'PATEANDO EL TABLERO ',\n",
       "       'Decile Como Quieras Ep 29', 'SAQUEO A LA CLASE TRABAJADORA',\n",
       "       'ANUNCIÓ OBRAS', 'CONGRESO NACIONAL', 'TIPO DE CAMBIO',\n",
       "       'BENEFICIOS PARA EMPRESAS',\n",
       "       'En Economía, DECÍMELA FÁCIL - CAPÍTULO 4', 'SUBA DE PRECIOS',\n",
       "       'BCRA', 'GOLPE AL BOLSILLO', 'INFORME INDEC', 'NUEVA MEDIDA',\n",
       "       'TIPO DE CAMBIO', 'EN EL FONDO', 'FESTEJA EL CAMPO',\n",
       "       'TENSION CAMBIARIA', 'JUBILACIONES', 'Deuda municipal',\n",
       "       'ALERTA SPOILER', 'ENDEUDAMIENTO', 'MISIÓN DEL FONDO EN ARGENTINA',\n",
       "       'ROBO A LOS JUBILADOS ', 'BUEN FIN CDMX', 'DÉFICIT HABITACIONAL',\n",
       "       'TIPO DE CAMBIO', 'CRISIS', 'CRISIS Y AJUSTE', 'ALERTA SPOILER',\n",
       "       'DEUDA EXTERNA', 'PANDEMIA, CRISIS Y AJUSTE', 'JUBILACIONES',\n",
       "       'DEUDA EXTERNA', 'DEUDA IMPAGABLE', 'DEUDA EXTERNA',\n",
       "       'DEFENSA DEL SALARIO ', 'ACTUALIDAD', 'ENDEUDAMIENTO',\n",
       "       'NEGOCIOS MILLONARIOS ', 'PÉRDIDA DE RESERVAS DEL BANCO CENTRAL',\n",
       "       'ECONOMÍA', 'ECONOMÍA INTERNACIONAL', 'INFORME INDEC',\n",
       "       'REUNIÓN CON LOS DUEÑOS DEL PAÍS', 'CRISIS ECONOMICA',\n",
       "       'CONGRESO NACIONAL', 'ENDEUDAMIENTO',\n",
       "       'ELECCIONES EN ESTADOS UNIDOS', 'CRISIS CAMBIARIA',\n",
       "       'CRISIS ECONOMICA', 'ACTUALIDAD', 'COMUNICADO DE PRENSA',\n",
       "       'SEMANARIO IDEAS DE IZQUIERDA', 'DÓLAR',\n",
       "       'HAY PRIORIDADES Y PRIORIDADES', 'ECONOMIA',\n",
       "       'LO MISMO DE SIEMPRE ', 'RECLAMOS', 'BCRA', 'INFORME ESPECIAL',\n",
       "       'ANUNCIO OFICIAL', 'Deuda Pública ', 'INFORME INDEC', nan,\n",
       "       'TIPO DE CAMBIO', 'ENDEUDAMIENTO', 'PRIORIDADES',\n",
       "       'CRISIS INTERNACIONAL', 'CHARLAS ENTRE AMIGOS', 'CRISIS',\n",
       "       'DECLARACIONES', 'BONO ATADO AL DÓLAR', 'Panorama Provincial',\n",
       "       'ACTUALIDAD', 'ALERTA SPOILER', 'TENSION CAMBIARIA',\n",
       "       'ECONOMÍA INTERNACIONAL', 'CRISIS DEL DÓLAR ', 'CRISIS ECONOMICA',\n",
       "       'TENSION CAMBIARIA', 'ACTUALIDAD', nan, 'A 91 AÑOS',\n",
       "       'ESTIMACIÓN JUNTA INTERNA ATE INDEC', 'CONGRESO NACIONAL',\n",
       "       'ECONOMIA', 'TENSIÓN CAMBIARIA ', 'CRÍTICAS AL GOBIERNO',\n",
       "       'ACTUALIDAD', 'NEGOCIAN NUEVO ACUERDO', 'PRESUPUESTO 2021',\n",
       "       'INFORME INDEC ', 'MERCADO DE DIVISAS',\n",
       "       'ENCUENTRO IBEROAMERICANO CON EMPRESARIOS', 'MEDIDAS OFICIALES',\n",
       "       'INDEC', 'TENSIÓN CAMBIARIA', 'NUEVAS MEDIDAS OFICIALES '],\n",
       "      dtype=object)"
      ]
     },
     "execution_count": 5,
     "metadata": {},
     "output_type": "execute_result"
    }
   ],
   "source": [
    "df.flyer.values"
   ]
  },
  {
   "cell_type": "markdown",
   "metadata": {},
   "source": [
    "Tópicos"
   ]
  },
  {
   "cell_type": "code",
   "execution_count": 6,
   "metadata": {},
   "outputs": [
    {
     "data": {
      "text/plain": [
       "(11, 7)"
      ]
     },
     "execution_count": 6,
     "metadata": {},
     "output_type": "execute_result"
    }
   ],
   "source": [
    "df[df.flyer.str.contains('DEUDA|Deuda|BONO', na=False)].shape"
   ]
  },
  {
   "cell_type": "code",
   "execution_count": 7,
   "metadata": {},
   "outputs": [
    {
     "data": {
      "text/plain": [
       "(13, 7)"
      ]
     },
     "execution_count": 7,
     "metadata": {},
     "output_type": "execute_result"
    }
   ],
   "source": [
    "df[df.flyer.str.contains('BRECHA|CAMBI|RESERV', na=False)].shape"
   ]
  },
  {
   "cell_type": "code",
   "execution_count": 8,
   "metadata": {},
   "outputs": [
    {
     "data": {
      "text/plain": [
       "(16, 7)"
      ]
     },
     "execution_count": 8,
     "metadata": {},
     "output_type": "execute_result"
    }
   ],
   "source": [
    "df[df.flyer.str.contains('INFLA|INDEC|SUBA|PRECIO', na=False)].shape"
   ]
  },
  {
   "cell_type": "code",
   "execution_count": 9,
   "metadata": {},
   "outputs": [
    {
     "data": {
      "text/plain": [
       "(5, 7)"
      ]
     },
     "execution_count": 9,
     "metadata": {},
     "output_type": "execute_result"
    }
   ],
   "source": [
    "df[df.flyer.str.contains('FMI|FONDO', na=False)].shape"
   ]
  },
  {
   "cell_type": "code",
   "execution_count": 10,
   "metadata": {},
   "outputs": [
    {
     "data": {
      "text/plain": [
       "(3, 7)"
      ]
     },
     "execution_count": 10,
     "metadata": {},
     "output_type": "execute_result"
    }
   ],
   "source": [
    "df[df.flyer.str.contains('SALARIO|OBRER|TRABAJA', na=False)].shape"
   ]
  },
  {
   "cell_type": "markdown",
   "metadata": {},
   "source": [
    "Corpus"
   ]
  },
  {
   "cell_type": "code",
   "execution_count": 11,
   "metadata": {},
   "outputs": [],
   "source": [
    "df_inflacion = df.loc[df.flyer.str.contains('INFLA|INDEC|SUBA|PRECIO', na=False),'body'].values"
   ]
  },
  {
   "cell_type": "code",
   "execution_count": 12,
   "metadata": {},
   "outputs": [],
   "source": [
    "df_cambio = df.loc[df.flyer.str.contains('BRECHA|CAMBI|RESERV', na=False), 'body'].values"
   ]
  },
  {
   "cell_type": "code",
   "execution_count": 13,
   "metadata": {},
   "outputs": [
    {
     "data": {
      "text/plain": [
       "29"
      ]
     },
     "execution_count": 13,
     "metadata": {},
     "output_type": "execute_result"
    }
   ],
   "source": [
    "corpus = list(df_inflacion) + list(df_cambio)\n",
    "len(corpus)"
   ]
  },
  {
   "cell_type": "markdown",
   "metadata": {},
   "source": [
    "#### Frecuencia de Palabras"
   ]
  },
  {
   "cell_type": "code",
   "execution_count": 29,
   "metadata": {},
   "outputs": [],
   "source": [
    "from nltk.probability import FreqDist\n",
    "import matplotlib.pyplot as plt\n",
    "from wordcloud import WordCloud"
   ]
  },
  {
   "cell_type": "code",
   "execution_count": 14,
   "metadata": {},
   "outputs": [],
   "source": [
    "stopwords_sp = stopwords.words('spanish')\n",
    "# agrego palabras poco informativas\n",
    "stopwords_sp.append('mas')\n",
    "stopwords_sp.append('ano')\n",
    "stopwords_sp.append('mes')\n",
    "stopwords_sp.append('u')\n",
    "stopwords_sp.append('s')"
   ]
  },
  {
   "cell_type": "code",
   "execution_count": 18,
   "metadata": {},
   "outputs": [],
   "source": [
    "tocken_manual_cambio = []\n",
    "\n",
    "for doc in df_cambio:\n",
    "    words_clean = []\n",
    "    for word in (word_tokenize(doc)):\n",
    "        if word.lower() not in stopwords_sp and word.isalpha():\n",
    "            words_clean.append(word.lower())\n",
    "    tocken_manual_cambio.append(words_clean)"
   ]
  },
  {
   "cell_type": "code",
   "execution_count": 19,
   "metadata": {},
   "outputs": [],
   "source": [
    "tocken_manual_infla = []\n",
    "\n",
    "for doc in df_inflacion:\n",
    "    words_clean = []\n",
    "    for word in (word_tokenize(doc)):\n",
    "        if word.lower() not in stopwords_sp and word.isalpha():\n",
    "            words_clean.append(word.lower())\n",
    "    tocken_manual_infla.append(words_clean)"
   ]
  },
  {
   "cell_type": "code",
   "execution_count": 20,
   "metadata": {},
   "outputs": [
    {
     "name": "stdout",
     "output_type": "stream",
     "text": [
      "16 13\n"
     ]
    }
   ],
   "source": [
    "print(len(tocken_manual_infla), len(tocken_manual_cambio))"
   ]
  },
  {
   "cell_type": "code",
   "execution_count": 23,
   "metadata": {},
   "outputs": [],
   "source": [
    "word_freq_1 = FreqDist(tocken_manual_infla[0])\n",
    "word_freq_2 = FreqDist(tocken_manual_infla[1])\n",
    "word_freq_3 = FreqDist(tocken_manual_cambio[0])\n",
    "word_freq_4 = FreqDist(tocken_manual_cambio[1])"
   ]
  },
  {
   "cell_type": "code",
   "execution_count": 24,
   "metadata": {},
   "outputs": [
    {
     "data": {
      "text/plain": [
       "[('millones', 6),\n",
       " ('exportaciones', 5),\n",
       " ('importaciones', 4),\n",
       " ('bienes', 4),\n",
       " ('indec', 3),\n",
       " ('interanual', 3),\n",
       " ('octubre', 2),\n",
       " ('bajaron', 2),\n",
       " ('caída', 2),\n",
       " ('precios', 2),\n",
       " ('descenso', 2),\n",
       " ('exportadores', 2),\n",
       " ('puede', 2),\n",
       " ('interesar', 2),\n",
       " ('combustibles', 2),\n",
       " ('manufacturas', 2),\n",
       " ('origen', 2),\n",
       " ('baja', 2),\n",
       " ('balanza', 2),\n",
       " ('superávit', 2),\n",
       " ('capital', 2),\n",
       " ('año', 2),\n",
       " ('comercio', 2),\n",
       " ('exterior', 2),\n",
       " ('informó', 1),\n",
       " ('alcanzaron', 1),\n",
       " ('peor', 1),\n",
       " ('diciembre', 1),\n",
       " ('desplomaron', 1),\n",
       " ('mejora', 1)]"
      ]
     },
     "execution_count": 24,
     "metadata": {},
     "output_type": "execute_result"
    }
   ],
   "source": [
    "word_freq_1.most_common(30)"
   ]
  },
  {
   "cell_type": "code",
   "execution_count": 25,
   "metadata": {},
   "outputs": [
    {
     "data": {
      "image/png": "[encoded data removed]",
      "text/plain": [
       "<Figure size 432x288 with 1 Axes>"
      ]
     },
     "metadata": {
      "needs_background": "light"
     },
     "output_type": "display_data"
    },
    {
     "data": {
      "text/plain": [
       "<matplotlib.axes._subplots.AxesSubplot at 0x7f10703ac050>"
      ]
     },
     "execution_count": 25,
     "metadata": {},
     "output_type": "execute_result"
    }
   ],
   "source": [
    "word_freq_1.plot(20)"
   ]
  },
  {
   "cell_type": "code",
   "execution_count": 26,
   "metadata": {},
   "outputs": [
    {
     "data": {
      "image/png": "[encoded data removed]",
      "text/plain": [
       "<Figure size 432x288 with 1 Axes>"
      ]
     },
     "metadata": {
      "needs_background": "light"
     },
     "output_type": "display_data"
    },
    {
     "data": {
      "text/plain": [
       "<matplotlib.axes._subplots.AxesSubplot at 0x7f106fbb2050>"
      ]
     },
     "execution_count": 26,
     "metadata": {},
     "output_type": "execute_result"
    }
   ],
   "source": [
    "word_freq_2.plot(20)"
   ]
  },
  {
   "cell_type": "code",
   "execution_count": 42,
   "metadata": {},
   "outputs": [
    {
     "data": {
      "image/png": "[encoded data removed]",
      "text/plain": [
       "<Figure size 864x864 with 1 Axes>"
      ]
     },
     "metadata": {
      "needs_background": "light"
     },
     "output_type": "display_data"
    }
   ],
   "source": [
    "wordcloud_1 = WordCloud(stopwords=stopwords_sp).generate(df_inflacion[0])\n",
    "plt.figure(figsize= (12, 12))\n",
    "plt.imshow(wordcloud_1)\n",
    "plt.axis('off')\n",
    "plt.show()"
   ]
  },
  {
   "cell_type": "code",
   "execution_count": 41,
   "metadata": {},
   "outputs": [
    {
     "data": {
      "image/png": "[encoded data removed]",
      "text/plain": [
       "<Figure size 864x864 with 1 Axes>"
      ]
     },
     "metadata": {
      "needs_background": "light"
     },
     "output_type": "display_data"
    }
   ],
   "source": [
    "wordcloud_2 = WordCloud(stopwords=stopwords_sp).generate(df_inflacion[1])\n",
    "plt.figure(figsize= (12, 12))\n",
    "plt.imshow(wordcloud_2)\n",
    "plt.axis('off')\n",
    "plt.show()"
   ]
  },
  {
   "cell_type": "code",
   "execution_count": 31,
   "metadata": {},
   "outputs": [
    {
     "data": {
      "image/png": "[encoded data removed]",
      "text/plain": [
       "<Figure size 432x288 with 1 Axes>"
      ]
     },
     "metadata": {
      "needs_background": "light"
     },
     "output_type": "display_data"
    },
    {
     "data": {
      "text/plain": [
       "<matplotlib.axes._subplots.AxesSubplot at 0x7f106f78d3d0>"
      ]
     },
     "execution_count": 31,
     "metadata": {},
     "output_type": "execute_result"
    }
   ],
   "source": [
    "word_freq_3.plot(20)"
   ]
  },
  {
   "cell_type": "code",
   "execution_count": 32,
   "metadata": {},
   "outputs": [
    {
     "data": {
      "image/png": "[encoded data removed]",
      "text/plain": [
       "<Figure size 432x288 with 1 Axes>"
      ]
     },
     "metadata": {
      "needs_background": "light"
     },
     "output_type": "display_data"
    },
    {
     "data": {
      "text/plain": [
       "<matplotlib.axes._subplots.AxesSubplot at 0x7f106f6ab050>"
      ]
     },
     "execution_count": 32,
     "metadata": {},
     "output_type": "execute_result"
    }
   ],
   "source": [
    "word_freq_4.plot(20)"
   ]
  },
  {
   "cell_type": "code",
   "execution_count": 40,
   "metadata": {},
   "outputs": [
    {
     "data": {
      "image/png": "[encoded data removed]",
      "text/plain": [
       "<Figure size 864x864 with 1 Axes>"
      ]
     },
     "metadata": {
      "needs_background": "light"
     },
     "output_type": "display_data"
    }
   ],
   "source": [
    "wordcloud_3 = WordCloud(stopwords=stopwords_sp).generate(df_cambio[0])\n",
    "plt.figure(figsize= (12, 12))\n",
    "plt.imshow(wordcloud_3)\n",
    "plt.axis('off')\n",
    "plt.show()"
   ]
  },
  {
   "cell_type": "code",
   "execution_count": 39,
   "metadata": {},
   "outputs": [
    {
     "data": {
      "image/png": "[encoded data removed]",
      "text/plain": [
       "<Figure size 864x864 with 1 Axes>"
      ]
     },
     "metadata": {
      "needs_background": "light"
     },
     "output_type": "display_data"
    }
   ],
   "source": [
    "wordcloud_4 = WordCloud(stopwords=stopwords_sp).generate(df_cambio[1])\n",
    "plt.figure(figsize= (12, 12))\n",
    "plt.imshow(wordcloud_4)\n",
    "plt.axis('off')\n",
    "plt.show()"
   ]
  },
  {
   "cell_type": "markdown",
   "metadata": {},
   "source": [
    "#### Tokenización y vectores\n",
    "#### CountVectorizer"
   ]
  },
  {
   "cell_type": "markdown",
   "metadata": {},
   "source": [
    "Remuevo nros. y carácters especiales"
   ]
  },
  {
   "cell_type": "code",
   "execution_count": 43,
   "metadata": {},
   "outputs": [],
   "source": [
    "import re"
   ]
  },
  {
   "cell_type": "code",
   "execution_count": 44,
   "metadata": {},
   "outputs": [],
   "source": [
    "corpus_alpha = []\n",
    "for doc in corpus:\n",
    "    corpus_alpha.append(re.sub(r'(\\d|\\$|\\%|\\+)', '', doc))"
   ]
  },
  {
   "cell_type": "code",
   "execution_count": 45,
   "metadata": {},
   "outputs": [
    {
     "name": "stderr",
     "output_type": "stream",
     "text": [
      "/home/guido/anaconda3/envs/dh/lib/python3.7/site-packages/sklearn/feature_extraction/text.py:386: UserWarning: Your stop_words may be inconsistent with your preprocessing. Tokenizing the stop words generated tokens ['eramos', 'estabamos', 'estais', 'estan', 'estara', 'estaran', 'estaras', 'estare', 'estareis', 'estaria', 'estariais', 'estariamos', 'estarian', 'estarias', 'esteis', 'esten', 'estes', 'estuvieramos', 'estuviesemos', 'fueramos', 'fuesemos', 'habeis', 'habia', 'habiais', 'habiamos', 'habian', 'habias', 'habra', 'habran', 'habras', 'habre', 'habreis', 'habria', 'habriais', 'habriamos', 'habrian', 'habrias', 'hayais', 'hubieramos', 'hubiesemos', 'mia', 'mias', 'mio', 'mios', 'seais', 'sera', 'seran', 'seras', 'sere', 'sereis', 'seria', 'seriais', 'seriamos', 'serian', 'serias', 'si', 'tambien', 'tendra', 'tendran', 'tendras', 'tendre', 'tendreis', 'tendria', 'tendriais', 'tendriamos', 'tendrian', 'tendrias', 'teneis', 'tengais', 'tenia', 'teniais', 'teniamos', 'tenian', 'tenias', 'tuvieramos', 'tuviesemos'] not in stop_words.\n",
      "  'stop_words.' % sorted(inconsistent))\n"
     ]
    },
    {
     "data": {
      "text/plain": [
       "CountVectorizer(stop_words=['de', 'la', 'que', 'el', 'en', 'y', 'a', 'los',\n",
       "                            'del', 'se', 'las', 'por', 'un', 'para', 'con',\n",
       "                            'no', 'una', 'su', 'al', 'lo', 'como', 'más',\n",
       "                            'pero', 'sus', 'le', 'ya', 'o', 'este', 'sí',\n",
       "                            'porque', ...],\n",
       "                strip_accents='unicode')"
      ]
     },
     "execution_count": 45,
     "metadata": {},
     "output_type": "execute_result"
    }
   ],
   "source": [
    "vectorizer = CountVectorizer(stop_words = stopwords_sp, lowercase = True, strip_accents='unicode')\n",
    "vectorizer.fit(corpus_alpha)"
   ]
  },
  {
   "cell_type": "code",
   "execution_count": 46,
   "metadata": {},
   "outputs": [
    {
     "name": "stdout",
     "output_type": "stream",
     "text": [
      "1933\n"
     ]
    }
   ],
   "source": [
    "print(len(vectorizer.vocabulary_))"
   ]
  },
  {
   "cell_type": "code",
   "execution_count": 86,
   "metadata": {},
   "outputs": [
    {
     "name": "stdout",
     "output_type": "stream",
     "text": [
      "  (0, 7)\t1\n",
      "  (0, 24)\t1\n",
      "  (0, 32)\t1\n",
      "  (0, 63)\t1\n",
      "  (0, 65)\t1\n",
      "  (0, 66)\t1\n",
      "  (0, 87)\t1\n",
      "  (0, 101)\t1\n",
      "  (0, 141)\t1\n",
      "  (0, 144)\t1\n",
      "  (0, 152)\t1\n",
      "  (0, 169)\t1\n",
      "  (0, 175)\t1\n",
      "  (0, 191)\t2\n",
      "  (0, 193)\t2\n",
      "  (0, 197)\t2\n",
      "  (0, 219)\t4\n",
      "  (0, 251)\t2\n",
      "  (0, 270)\t1\n",
      "  (0, 281)\t1\n",
      "  (0, 282)\t2\n",
      "  (0, 297)\t1\n",
      "  (0, 301)\t1\n",
      "  (0, 302)\t1\n",
      "  (0, 338)\t1\n",
      "  :\t:\n",
      "  (28, 1610)\t1\n",
      "  (28, 1621)\t1\n",
      "  (28, 1636)\t1\n",
      "  (28, 1651)\t1\n",
      "  (28, 1653)\t1\n",
      "  (28, 1658)\t1\n",
      "  (28, 1669)\t1\n",
      "  (28, 1683)\t1\n",
      "  (28, 1693)\t1\n",
      "  (28, 1702)\t1\n",
      "  (28, 1704)\t1\n",
      "  (28, 1708)\t1\n",
      "  (28, 1712)\t1\n",
      "  (28, 1737)\t1\n",
      "  (28, 1757)\t1\n",
      "  (28, 1767)\t1\n",
      "  (28, 1773)\t1\n",
      "  (28, 1805)\t1\n",
      "  (28, 1809)\t1\n",
      "  (28, 1823)\t1\n",
      "  (28, 1867)\t1\n",
      "  (28, 1887)\t3\n",
      "  (28, 1904)\t1\n",
      "  (28, 1916)\t1\n",
      "  (28, 1925)\t1\n"
     ]
    }
   ],
   "source": [
    "matriz_densa = vectorizer.transform(corpus);\n",
    "print(matriz_densa)"
   ]
  },
  {
   "cell_type": "code",
   "execution_count": 87,
   "metadata": {},
   "outputs": [
    {
     "data": {
      "text/plain": [
       "matrix([[0, 0, 0, ..., 0, 0, 0]])"
      ]
     },
     "execution_count": 87,
     "metadata": {},
     "output_type": "execute_result"
    }
   ],
   "source": [
    "matriz_dispersa = matriz_densa.todense()\n",
    "matriz_dispersa[0]"
   ]
  },
  {
   "cell_type": "code",
   "execution_count": 88,
   "metadata": {},
   "outputs": [
    {
     "data": {
      "text/plain": [
       "['abajo',\n",
       " 'abril',\n",
       " 'abrupta',\n",
       " 'absorber',\n",
       " 'aca',\n",
       " 'acceder',\n",
       " 'acceso',\n",
       " 'accesorios',\n",
       " 'aceitera',\n",
       " 'aceites',\n",
       " 'acelera',\n",
       " 'aceleracion',\n",
       " 'aceleraran',\n",
       " 'aceleraria',\n",
       " 'acelero',\n",
       " 'acero',\n",
       " 'achique',\n",
       " 'acordando',\n",
       " 'acordar',\n",
       " 'acreedores']"
      ]
     },
     "execution_count": 88,
     "metadata": {},
     "output_type": "execute_result"
    }
   ],
   "source": [
    "vectorizer.get_feature_names()[:20]"
   ]
  },
  {
   "cell_type": "code",
   "execution_count": 89,
   "metadata": {},
   "outputs": [],
   "source": [
    "dummies = pd.DataFrame(matriz_dispersa, columns=vectorizer.get_feature_names())"
   ]
  },
  {
   "cell_type": "code",
   "execution_count": 90,
   "metadata": {},
   "outputs": [
    {
     "data": {
      "text/html": [
       "<div>\n",
       "<style scoped>\n",
       "    .dataframe tbody tr th:only-of-type {\n",
       "        vertical-align: middle;\n",
       "    }\n",
       "\n",
       "    .dataframe tbody tr th {\n",
       "        vertical-align: top;\n",
       "    }\n",
       "\n",
       "    .dataframe thead th {\n",
       "        text-align: right;\n",
       "    }\n",
       "</style>\n",
       "<table border=\"1\" class=\"dataframe\">\n",
       "  <thead>\n",
       "    <tr style=\"text-align: right;\">\n",
       "      <th></th>\n",
       "      <th>abajo</th>\n",
       "      <th>abril</th>\n",
       "      <th>abrupta</th>\n",
       "      <th>absorber</th>\n",
       "      <th>aca</th>\n",
       "      <th>acceder</th>\n",
       "      <th>acceso</th>\n",
       "      <th>accesorios</th>\n",
       "      <th>aceitera</th>\n",
       "      <th>aceites</th>\n",
       "      <th>...</th>\n",
       "      <th>vuelve</th>\n",
       "      <th>vuelven</th>\n",
       "      <th>vulnerables</th>\n",
       "      <th>vulnerados</th>\n",
       "      <th>wall</th>\n",
       "      <th>yendo</th>\n",
       "      <th>yeso</th>\n",
       "      <th>ylfisfn</th>\n",
       "      <th>ypf</th>\n",
       "      <th>zgpwxzhy</th>\n",
       "    </tr>\n",
       "  </thead>\n",
       "  <tbody>\n",
       "    <tr>\n",
       "      <th>0</th>\n",
       "      <td>0</td>\n",
       "      <td>0</td>\n",
       "      <td>0</td>\n",
       "      <td>0</td>\n",
       "      <td>0</td>\n",
       "      <td>0</td>\n",
       "      <td>0</td>\n",
       "      <td>1</td>\n",
       "      <td>0</td>\n",
       "      <td>0</td>\n",
       "      <td>...</td>\n",
       "      <td>0</td>\n",
       "      <td>0</td>\n",
       "      <td>0</td>\n",
       "      <td>0</td>\n",
       "      <td>0</td>\n",
       "      <td>0</td>\n",
       "      <td>0</td>\n",
       "      <td>0</td>\n",
       "      <td>0</td>\n",
       "      <td>0</td>\n",
       "    </tr>\n",
       "    <tr>\n",
       "      <th>1</th>\n",
       "      <td>0</td>\n",
       "      <td>0</td>\n",
       "      <td>0</td>\n",
       "      <td>0</td>\n",
       "      <td>0</td>\n",
       "      <td>0</td>\n",
       "      <td>0</td>\n",
       "      <td>0</td>\n",
       "      <td>0</td>\n",
       "      <td>0</td>\n",
       "      <td>...</td>\n",
       "      <td>0</td>\n",
       "      <td>0</td>\n",
       "      <td>0</td>\n",
       "      <td>0</td>\n",
       "      <td>0</td>\n",
       "      <td>0</td>\n",
       "      <td>0</td>\n",
       "      <td>0</td>\n",
       "      <td>0</td>\n",
       "      <td>0</td>\n",
       "    </tr>\n",
       "    <tr>\n",
       "      <th>2</th>\n",
       "      <td>0</td>\n",
       "      <td>0</td>\n",
       "      <td>0</td>\n",
       "      <td>0</td>\n",
       "      <td>0</td>\n",
       "      <td>0</td>\n",
       "      <td>0</td>\n",
       "      <td>0</td>\n",
       "      <td>0</td>\n",
       "      <td>0</td>\n",
       "      <td>...</td>\n",
       "      <td>0</td>\n",
       "      <td>0</td>\n",
       "      <td>0</td>\n",
       "      <td>0</td>\n",
       "      <td>0</td>\n",
       "      <td>0</td>\n",
       "      <td>0</td>\n",
       "      <td>0</td>\n",
       "      <td>0</td>\n",
       "      <td>0</td>\n",
       "    </tr>\n",
       "    <tr>\n",
       "      <th>3</th>\n",
       "      <td>0</td>\n",
       "      <td>0</td>\n",
       "      <td>0</td>\n",
       "      <td>0</td>\n",
       "      <td>1</td>\n",
       "      <td>0</td>\n",
       "      <td>0</td>\n",
       "      <td>0</td>\n",
       "      <td>0</td>\n",
       "      <td>0</td>\n",
       "      <td>...</td>\n",
       "      <td>0</td>\n",
       "      <td>0</td>\n",
       "      <td>0</td>\n",
       "      <td>0</td>\n",
       "      <td>0</td>\n",
       "      <td>0</td>\n",
       "      <td>0</td>\n",
       "      <td>0</td>\n",
       "      <td>4</td>\n",
       "      <td>0</td>\n",
       "    </tr>\n",
       "    <tr>\n",
       "      <th>4</th>\n",
       "      <td>0</td>\n",
       "      <td>0</td>\n",
       "      <td>0</td>\n",
       "      <td>0</td>\n",
       "      <td>0</td>\n",
       "      <td>0</td>\n",
       "      <td>0</td>\n",
       "      <td>0</td>\n",
       "      <td>0</td>\n",
       "      <td>0</td>\n",
       "      <td>...</td>\n",
       "      <td>0</td>\n",
       "      <td>0</td>\n",
       "      <td>0</td>\n",
       "      <td>0</td>\n",
       "      <td>0</td>\n",
       "      <td>0</td>\n",
       "      <td>0</td>\n",
       "      <td>0</td>\n",
       "      <td>6</td>\n",
       "      <td>0</td>\n",
       "    </tr>\n",
       "    <tr>\n",
       "      <th>5</th>\n",
       "      <td>1</td>\n",
       "      <td>0</td>\n",
       "      <td>0</td>\n",
       "      <td>0</td>\n",
       "      <td>0</td>\n",
       "      <td>0</td>\n",
       "      <td>0</td>\n",
       "      <td>0</td>\n",
       "      <td>0</td>\n",
       "      <td>0</td>\n",
       "      <td>...</td>\n",
       "      <td>0</td>\n",
       "      <td>0</td>\n",
       "      <td>0</td>\n",
       "      <td>0</td>\n",
       "      <td>0</td>\n",
       "      <td>0</td>\n",
       "      <td>0</td>\n",
       "      <td>0</td>\n",
       "      <td>0</td>\n",
       "      <td>0</td>\n",
       "    </tr>\n",
       "    <tr>\n",
       "      <th>6</th>\n",
       "      <td>0</td>\n",
       "      <td>0</td>\n",
       "      <td>0</td>\n",
       "      <td>0</td>\n",
       "      <td>0</td>\n",
       "      <td>1</td>\n",
       "      <td>0</td>\n",
       "      <td>0</td>\n",
       "      <td>0</td>\n",
       "      <td>0</td>\n",
       "      <td>...</td>\n",
       "      <td>0</td>\n",
       "      <td>0</td>\n",
       "      <td>0</td>\n",
       "      <td>0</td>\n",
       "      <td>0</td>\n",
       "      <td>0</td>\n",
       "      <td>0</td>\n",
       "      <td>0</td>\n",
       "      <td>0</td>\n",
       "      <td>0</td>\n",
       "    </tr>\n",
       "    <tr>\n",
       "      <th>7</th>\n",
       "      <td>0</td>\n",
       "      <td>0</td>\n",
       "      <td>0</td>\n",
       "      <td>0</td>\n",
       "      <td>0</td>\n",
       "      <td>0</td>\n",
       "      <td>0</td>\n",
       "      <td>0</td>\n",
       "      <td>0</td>\n",
       "      <td>0</td>\n",
       "      <td>...</td>\n",
       "      <td>0</td>\n",
       "      <td>0</td>\n",
       "      <td>0</td>\n",
       "      <td>0</td>\n",
       "      <td>0</td>\n",
       "      <td>0</td>\n",
       "      <td>0</td>\n",
       "      <td>0</td>\n",
       "      <td>0</td>\n",
       "      <td>0</td>\n",
       "    </tr>\n",
       "    <tr>\n",
       "      <th>8</th>\n",
       "      <td>0</td>\n",
       "      <td>0</td>\n",
       "      <td>0</td>\n",
       "      <td>0</td>\n",
       "      <td>0</td>\n",
       "      <td>0</td>\n",
       "      <td>0</td>\n",
       "      <td>0</td>\n",
       "      <td>0</td>\n",
       "      <td>0</td>\n",
       "      <td>...</td>\n",
       "      <td>0</td>\n",
       "      <td>1</td>\n",
       "      <td>0</td>\n",
       "      <td>0</td>\n",
       "      <td>0</td>\n",
       "      <td>0</td>\n",
       "      <td>0</td>\n",
       "      <td>0</td>\n",
       "      <td>0</td>\n",
       "      <td>0</td>\n",
       "    </tr>\n",
       "    <tr>\n",
       "      <th>9</th>\n",
       "      <td>0</td>\n",
       "      <td>0</td>\n",
       "      <td>0</td>\n",
       "      <td>0</td>\n",
       "      <td>0</td>\n",
       "      <td>0</td>\n",
       "      <td>0</td>\n",
       "      <td>0</td>\n",
       "      <td>0</td>\n",
       "      <td>0</td>\n",
       "      <td>...</td>\n",
       "      <td>0</td>\n",
       "      <td>0</td>\n",
       "      <td>0</td>\n",
       "      <td>0</td>\n",
       "      <td>0</td>\n",
       "      <td>0</td>\n",
       "      <td>0</td>\n",
       "      <td>0</td>\n",
       "      <td>0</td>\n",
       "      <td>0</td>\n",
       "    </tr>\n",
       "    <tr>\n",
       "      <th>10</th>\n",
       "      <td>0</td>\n",
       "      <td>0</td>\n",
       "      <td>0</td>\n",
       "      <td>0</td>\n",
       "      <td>0</td>\n",
       "      <td>0</td>\n",
       "      <td>0</td>\n",
       "      <td>0</td>\n",
       "      <td>0</td>\n",
       "      <td>1</td>\n",
       "      <td>...</td>\n",
       "      <td>0</td>\n",
       "      <td>0</td>\n",
       "      <td>0</td>\n",
       "      <td>0</td>\n",
       "      <td>0</td>\n",
       "      <td>0</td>\n",
       "      <td>0</td>\n",
       "      <td>0</td>\n",
       "      <td>0</td>\n",
       "      <td>0</td>\n",
       "    </tr>\n",
       "    <tr>\n",
       "      <th>11</th>\n",
       "      <td>0</td>\n",
       "      <td>0</td>\n",
       "      <td>0</td>\n",
       "      <td>0</td>\n",
       "      <td>0</td>\n",
       "      <td>0</td>\n",
       "      <td>0</td>\n",
       "      <td>0</td>\n",
       "      <td>0</td>\n",
       "      <td>0</td>\n",
       "      <td>...</td>\n",
       "      <td>0</td>\n",
       "      <td>0</td>\n",
       "      <td>0</td>\n",
       "      <td>0</td>\n",
       "      <td>0</td>\n",
       "      <td>0</td>\n",
       "      <td>2</td>\n",
       "      <td>0</td>\n",
       "      <td>0</td>\n",
       "      <td>0</td>\n",
       "    </tr>\n",
       "    <tr>\n",
       "      <th>12</th>\n",
       "      <td>0</td>\n",
       "      <td>0</td>\n",
       "      <td>0</td>\n",
       "      <td>0</td>\n",
       "      <td>0</td>\n",
       "      <td>0</td>\n",
       "      <td>0</td>\n",
       "      <td>0</td>\n",
       "      <td>0</td>\n",
       "      <td>0</td>\n",
       "      <td>...</td>\n",
       "      <td>0</td>\n",
       "      <td>1</td>\n",
       "      <td>0</td>\n",
       "      <td>0</td>\n",
       "      <td>0</td>\n",
       "      <td>0</td>\n",
       "      <td>0</td>\n",
       "      <td>0</td>\n",
       "      <td>0</td>\n",
       "      <td>0</td>\n",
       "    </tr>\n",
       "    <tr>\n",
       "      <th>13</th>\n",
       "      <td>0</td>\n",
       "      <td>0</td>\n",
       "      <td>1</td>\n",
       "      <td>0</td>\n",
       "      <td>0</td>\n",
       "      <td>1</td>\n",
       "      <td>0</td>\n",
       "      <td>0</td>\n",
       "      <td>0</td>\n",
       "      <td>0</td>\n",
       "      <td>...</td>\n",
       "      <td>0</td>\n",
       "      <td>0</td>\n",
       "      <td>0</td>\n",
       "      <td>1</td>\n",
       "      <td>0</td>\n",
       "      <td>0</td>\n",
       "      <td>0</td>\n",
       "      <td>0</td>\n",
       "      <td>0</td>\n",
       "      <td>0</td>\n",
       "    </tr>\n",
       "    <tr>\n",
       "      <th>14</th>\n",
       "      <td>0</td>\n",
       "      <td>0</td>\n",
       "      <td>0</td>\n",
       "      <td>0</td>\n",
       "      <td>0</td>\n",
       "      <td>0</td>\n",
       "      <td>0</td>\n",
       "      <td>0</td>\n",
       "      <td>0</td>\n",
       "      <td>0</td>\n",
       "      <td>...</td>\n",
       "      <td>0</td>\n",
       "      <td>0</td>\n",
       "      <td>0</td>\n",
       "      <td>0</td>\n",
       "      <td>1</td>\n",
       "      <td>0</td>\n",
       "      <td>0</td>\n",
       "      <td>0</td>\n",
       "      <td>0</td>\n",
       "      <td>0</td>\n",
       "    </tr>\n",
       "    <tr>\n",
       "      <th>15</th>\n",
       "      <td>0</td>\n",
       "      <td>0</td>\n",
       "      <td>0</td>\n",
       "      <td>0</td>\n",
       "      <td>0</td>\n",
       "      <td>0</td>\n",
       "      <td>0</td>\n",
       "      <td>0</td>\n",
       "      <td>0</td>\n",
       "      <td>0</td>\n",
       "      <td>...</td>\n",
       "      <td>0</td>\n",
       "      <td>0</td>\n",
       "      <td>0</td>\n",
       "      <td>0</td>\n",
       "      <td>0</td>\n",
       "      <td>0</td>\n",
       "      <td>0</td>\n",
       "      <td>0</td>\n",
       "      <td>0</td>\n",
       "      <td>0</td>\n",
       "    </tr>\n",
       "    <tr>\n",
       "      <th>16</th>\n",
       "      <td>0</td>\n",
       "      <td>0</td>\n",
       "      <td>0</td>\n",
       "      <td>0</td>\n",
       "      <td>0</td>\n",
       "      <td>0</td>\n",
       "      <td>1</td>\n",
       "      <td>0</td>\n",
       "      <td>0</td>\n",
       "      <td>0</td>\n",
       "      <td>...</td>\n",
       "      <td>0</td>\n",
       "      <td>0</td>\n",
       "      <td>0</td>\n",
       "      <td>0</td>\n",
       "      <td>0</td>\n",
       "      <td>0</td>\n",
       "      <td>0</td>\n",
       "      <td>0</td>\n",
       "      <td>0</td>\n",
       "      <td>0</td>\n",
       "    </tr>\n",
       "    <tr>\n",
       "      <th>17</th>\n",
       "      <td>0</td>\n",
       "      <td>0</td>\n",
       "      <td>0</td>\n",
       "      <td>0</td>\n",
       "      <td>0</td>\n",
       "      <td>0</td>\n",
       "      <td>0</td>\n",
       "      <td>0</td>\n",
       "      <td>0</td>\n",
       "      <td>0</td>\n",
       "      <td>...</td>\n",
       "      <td>0</td>\n",
       "      <td>0</td>\n",
       "      <td>0</td>\n",
       "      <td>0</td>\n",
       "      <td>0</td>\n",
       "      <td>0</td>\n",
       "      <td>0</td>\n",
       "      <td>0</td>\n",
       "      <td>0</td>\n",
       "      <td>0</td>\n",
       "    </tr>\n",
       "    <tr>\n",
       "      <th>18</th>\n",
       "      <td>0</td>\n",
       "      <td>0</td>\n",
       "      <td>0</td>\n",
       "      <td>0</td>\n",
       "      <td>0</td>\n",
       "      <td>0</td>\n",
       "      <td>0</td>\n",
       "      <td>0</td>\n",
       "      <td>0</td>\n",
       "      <td>0</td>\n",
       "      <td>...</td>\n",
       "      <td>1</td>\n",
       "      <td>0</td>\n",
       "      <td>0</td>\n",
       "      <td>0</td>\n",
       "      <td>0</td>\n",
       "      <td>0</td>\n",
       "      <td>0</td>\n",
       "      <td>0</td>\n",
       "      <td>0</td>\n",
       "      <td>0</td>\n",
       "    </tr>\n",
       "    <tr>\n",
       "      <th>19</th>\n",
       "      <td>0</td>\n",
       "      <td>0</td>\n",
       "      <td>0</td>\n",
       "      <td>0</td>\n",
       "      <td>0</td>\n",
       "      <td>0</td>\n",
       "      <td>0</td>\n",
       "      <td>0</td>\n",
       "      <td>0</td>\n",
       "      <td>0</td>\n",
       "      <td>...</td>\n",
       "      <td>0</td>\n",
       "      <td>0</td>\n",
       "      <td>0</td>\n",
       "      <td>0</td>\n",
       "      <td>0</td>\n",
       "      <td>0</td>\n",
       "      <td>0</td>\n",
       "      <td>0</td>\n",
       "      <td>0</td>\n",
       "      <td>0</td>\n",
       "    </tr>\n",
       "    <tr>\n",
       "      <th>20</th>\n",
       "      <td>0</td>\n",
       "      <td>0</td>\n",
       "      <td>0</td>\n",
       "      <td>0</td>\n",
       "      <td>0</td>\n",
       "      <td>0</td>\n",
       "      <td>0</td>\n",
       "      <td>0</td>\n",
       "      <td>0</td>\n",
       "      <td>0</td>\n",
       "      <td>...</td>\n",
       "      <td>0</td>\n",
       "      <td>0</td>\n",
       "      <td>0</td>\n",
       "      <td>0</td>\n",
       "      <td>0</td>\n",
       "      <td>0</td>\n",
       "      <td>0</td>\n",
       "      <td>0</td>\n",
       "      <td>0</td>\n",
       "      <td>0</td>\n",
       "    </tr>\n",
       "    <tr>\n",
       "      <th>21</th>\n",
       "      <td>0</td>\n",
       "      <td>0</td>\n",
       "      <td>0</td>\n",
       "      <td>0</td>\n",
       "      <td>0</td>\n",
       "      <td>0</td>\n",
       "      <td>0</td>\n",
       "      <td>0</td>\n",
       "      <td>0</td>\n",
       "      <td>0</td>\n",
       "      <td>...</td>\n",
       "      <td>0</td>\n",
       "      <td>0</td>\n",
       "      <td>0</td>\n",
       "      <td>0</td>\n",
       "      <td>0</td>\n",
       "      <td>0</td>\n",
       "      <td>0</td>\n",
       "      <td>0</td>\n",
       "      <td>0</td>\n",
       "      <td>0</td>\n",
       "    </tr>\n",
       "    <tr>\n",
       "      <th>22</th>\n",
       "      <td>0</td>\n",
       "      <td>1</td>\n",
       "      <td>0</td>\n",
       "      <td>0</td>\n",
       "      <td>0</td>\n",
       "      <td>0</td>\n",
       "      <td>0</td>\n",
       "      <td>0</td>\n",
       "      <td>0</td>\n",
       "      <td>0</td>\n",
       "      <td>...</td>\n",
       "      <td>0</td>\n",
       "      <td>0</td>\n",
       "      <td>0</td>\n",
       "      <td>0</td>\n",
       "      <td>0</td>\n",
       "      <td>0</td>\n",
       "      <td>0</td>\n",
       "      <td>0</td>\n",
       "      <td>0</td>\n",
       "      <td>0</td>\n",
       "    </tr>\n",
       "    <tr>\n",
       "      <th>23</th>\n",
       "      <td>0</td>\n",
       "      <td>0</td>\n",
       "      <td>0</td>\n",
       "      <td>0</td>\n",
       "      <td>0</td>\n",
       "      <td>0</td>\n",
       "      <td>0</td>\n",
       "      <td>0</td>\n",
       "      <td>1</td>\n",
       "      <td>0</td>\n",
       "      <td>...</td>\n",
       "      <td>0</td>\n",
       "      <td>0</td>\n",
       "      <td>0</td>\n",
       "      <td>0</td>\n",
       "      <td>0</td>\n",
       "      <td>0</td>\n",
       "      <td>0</td>\n",
       "      <td>0</td>\n",
       "      <td>0</td>\n",
       "      <td>0</td>\n",
       "    </tr>\n",
       "    <tr>\n",
       "      <th>24</th>\n",
       "      <td>0</td>\n",
       "      <td>0</td>\n",
       "      <td>0</td>\n",
       "      <td>0</td>\n",
       "      <td>0</td>\n",
       "      <td>0</td>\n",
       "      <td>0</td>\n",
       "      <td>0</td>\n",
       "      <td>0</td>\n",
       "      <td>0</td>\n",
       "      <td>...</td>\n",
       "      <td>0</td>\n",
       "      <td>0</td>\n",
       "      <td>0</td>\n",
       "      <td>0</td>\n",
       "      <td>0</td>\n",
       "      <td>0</td>\n",
       "      <td>0</td>\n",
       "      <td>0</td>\n",
       "      <td>0</td>\n",
       "      <td>0</td>\n",
       "    </tr>\n",
       "    <tr>\n",
       "      <th>25</th>\n",
       "      <td>0</td>\n",
       "      <td>2</td>\n",
       "      <td>0</td>\n",
       "      <td>0</td>\n",
       "      <td>0</td>\n",
       "      <td>0</td>\n",
       "      <td>0</td>\n",
       "      <td>0</td>\n",
       "      <td>0</td>\n",
       "      <td>0</td>\n",
       "      <td>...</td>\n",
       "      <td>0</td>\n",
       "      <td>0</td>\n",
       "      <td>0</td>\n",
       "      <td>0</td>\n",
       "      <td>0</td>\n",
       "      <td>0</td>\n",
       "      <td>0</td>\n",
       "      <td>0</td>\n",
       "      <td>0</td>\n",
       "      <td>0</td>\n",
       "    </tr>\n",
       "    <tr>\n",
       "      <th>26</th>\n",
       "      <td>0</td>\n",
       "      <td>0</td>\n",
       "      <td>0</td>\n",
       "      <td>1</td>\n",
       "      <td>0</td>\n",
       "      <td>0</td>\n",
       "      <td>0</td>\n",
       "      <td>0</td>\n",
       "      <td>0</td>\n",
       "      <td>0</td>\n",
       "      <td>...</td>\n",
       "      <td>0</td>\n",
       "      <td>0</td>\n",
       "      <td>0</td>\n",
       "      <td>0</td>\n",
       "      <td>0</td>\n",
       "      <td>0</td>\n",
       "      <td>0</td>\n",
       "      <td>0</td>\n",
       "      <td>0</td>\n",
       "      <td>0</td>\n",
       "    </tr>\n",
       "    <tr>\n",
       "      <th>27</th>\n",
       "      <td>0</td>\n",
       "      <td>0</td>\n",
       "      <td>0</td>\n",
       "      <td>0</td>\n",
       "      <td>0</td>\n",
       "      <td>0</td>\n",
       "      <td>0</td>\n",
       "      <td>0</td>\n",
       "      <td>0</td>\n",
       "      <td>0</td>\n",
       "      <td>...</td>\n",
       "      <td>0</td>\n",
       "      <td>0</td>\n",
       "      <td>0</td>\n",
       "      <td>0</td>\n",
       "      <td>1</td>\n",
       "      <td>1</td>\n",
       "      <td>0</td>\n",
       "      <td>0</td>\n",
       "      <td>0</td>\n",
       "      <td>0</td>\n",
       "    </tr>\n",
       "    <tr>\n",
       "      <th>28</th>\n",
       "      <td>0</td>\n",
       "      <td>0</td>\n",
       "      <td>0</td>\n",
       "      <td>0</td>\n",
       "      <td>0</td>\n",
       "      <td>0</td>\n",
       "      <td>0</td>\n",
       "      <td>0</td>\n",
       "      <td>0</td>\n",
       "      <td>0</td>\n",
       "      <td>...</td>\n",
       "      <td>0</td>\n",
       "      <td>0</td>\n",
       "      <td>1</td>\n",
       "      <td>0</td>\n",
       "      <td>0</td>\n",
       "      <td>0</td>\n",
       "      <td>0</td>\n",
       "      <td>0</td>\n",
       "      <td>0</td>\n",
       "      <td>0</td>\n",
       "    </tr>\n",
       "  </tbody>\n",
       "</table>\n",
       "<p>29 rows × 1933 columns</p>\n",
       "</div>"
      ],
      "text/plain": [
       "    abajo  abril  abrupta  absorber  aca  acceder  acceso  accesorios  \\\n",
       "0       0      0        0         0    0        0       0           1   \n",
       "1       0      0        0         0    0        0       0           0   \n",
       "2       0      0        0         0    0        0       0           0   \n",
       "3       0      0        0         0    1        0       0           0   \n",
       "4       0      0        0         0    0        0       0           0   \n",
       "5       1      0        0         0    0        0       0           0   \n",
       "6       0      0        0         0    0        1       0           0   \n",
       "7       0      0        0         0    0        0       0           0   \n",
       "8       0      0        0         0    0        0       0           0   \n",
       "9       0      0        0         0    0        0       0           0   \n",
       "10      0      0        0         0    0        0       0           0   \n",
       "11      0      0        0         0    0        0       0           0   \n",
       "12      0      0        0         0    0        0       0           0   \n",
       "13      0      0        1         0    0        1       0           0   \n",
       "14      0      0        0         0    0        0       0           0   \n",
       "15      0      0        0         0    0        0       0           0   \n",
       "16      0      0        0         0    0        0       1           0   \n",
       "17      0      0        0         0    0        0       0           0   \n",
       "18      0      0        0         0    0        0       0           0   \n",
       "19      0      0        0         0    0        0       0           0   \n",
       "20      0      0        0         0    0        0       0           0   \n",
       "21      0      0        0         0    0        0       0           0   \n",
       "22      0      1        0         0    0        0       0           0   \n",
       "23      0      0        0         0    0        0       0           0   \n",
       "24      0      0        0         0    0        0       0           0   \n",
       "25      0      2        0         0    0        0       0           0   \n",
       "26      0      0        0         1    0        0       0           0   \n",
       "27      0      0        0         0    0        0       0           0   \n",
       "28      0      0        0         0    0        0       0           0   \n",
       "\n",
       "    aceitera  aceites  ...  vuelve  vuelven  vulnerables  vulnerados  wall  \\\n",
       "0          0        0  ...       0        0            0           0     0   \n",
       "1          0        0  ...       0        0            0           0     0   \n",
       "2          0        0  ...       0        0            0           0     0   \n",
       "3          0        0  ...       0        0            0           0     0   \n",
       "4          0        0  ...       0        0            0           0     0   \n",
       "5          0        0  ...       0        0            0           0     0   \n",
       "6          0        0  ...       0        0            0           0     0   \n",
       "7          0        0  ...       0        0            0           0     0   \n",
       "8          0        0  ...       0        1            0           0     0   \n",
       "9          0        0  ...       0        0            0           0     0   \n",
       "10         0        1  ...       0        0            0           0     0   \n",
       "11         0        0  ...       0        0            0           0     0   \n",
       "12         0        0  ...       0        1            0           0     0   \n",
       "13         0        0  ...       0        0            0           1     0   \n",
       "14         0        0  ...       0        0            0           0     1   \n",
       "15         0        0  ...       0        0            0           0     0   \n",
       "16         0        0  ...       0        0            0           0     0   \n",
       "17         0        0  ...       0        0            0           0     0   \n",
       "18         0        0  ...       1        0            0           0     0   \n",
       "19         0        0  ...       0        0            0           0     0   \n",
       "20         0        0  ...       0        0            0           0     0   \n",
       "21         0        0  ...       0        0            0           0     0   \n",
       "22         0        0  ...       0        0            0           0     0   \n",
       "23         1        0  ...       0        0            0           0     0   \n",
       "24         0        0  ...       0        0            0           0     0   \n",
       "25         0        0  ...       0        0            0           0     0   \n",
       "26         0        0  ...       0        0            0           0     0   \n",
       "27         0        0  ...       0        0            0           0     1   \n",
       "28         0        0  ...       0        0            1           0     0   \n",
       "\n",
       "    yendo  yeso  ylfisfn  ypf  zgpwxzhy  \n",
       "0       0     0        0    0         0  \n",
       "1       0     0        0    0         0  \n",
       "2       0     0        0    0         0  \n",
       "3       0     0        0    4         0  \n",
       "4       0     0        0    6         0  \n",
       "5       0     0        0    0         0  \n",
       "6       0     0        0    0         0  \n",
       "7       0     0        0    0         0  \n",
       "8       0     0        0    0         0  \n",
       "9       0     0        0    0         0  \n",
       "10      0     0        0    0         0  \n",
       "11      0     2        0    0         0  \n",
       "12      0     0        0    0         0  \n",
       "13      0     0        0    0         0  \n",
       "14      0     0        0    0         0  \n",
       "15      0     0        0    0         0  \n",
       "16      0     0        0    0         0  \n",
       "17      0     0        0    0         0  \n",
       "18      0     0        0    0         0  \n",
       "19      0     0        0    0         0  \n",
       "20      0     0        0    0         0  \n",
       "21      0     0        0    0         0  \n",
       "22      0     0        0    0         0  \n",
       "23      0     0        0    0         0  \n",
       "24      0     0        0    0         0  \n",
       "25      0     0        0    0         0  \n",
       "26      0     0        0    0         0  \n",
       "27      1     0        0    0         0  \n",
       "28      0     0        0    0         0  \n",
       "\n",
       "[29 rows x 1933 columns]"
      ]
     },
     "execution_count": 90,
     "metadata": {},
     "output_type": "execute_result"
    }
   ],
   "source": [
    "dummies"
   ]
  },
  {
   "cell_type": "markdown",
   "metadata": {},
   "source": [
    "#### Term Frequency Inverse Document Frequency (TF-IDF)\n",
    "TfidfVectorizer, TfidfTransformer"
   ]
  },
  {
   "cell_type": "code",
   "execution_count": 91,
   "metadata": {},
   "outputs": [],
   "source": [
    "from sklearn.feature_extraction.text import TfidfTransformer"
   ]
  },
  {
   "cell_type": "code",
   "execution_count": 92,
   "metadata": {},
   "outputs": [],
   "source": [
    "matriz_tfidf = TfidfTransformer().fit_transform(matriz_dispersa);"
   ]
  },
  {
   "cell_type": "code",
   "execution_count": 93,
   "metadata": {},
   "outputs": [
    {
     "name": "stdout",
     "output_type": "stream",
     "text": [
      "  (0, 1900)\t0.07324480327864759\n",
      "  (0, 1880)\t0.051544007281041714\n",
      "  (0, 1872)\t0.06523568515211565\n",
      "  (0, 1863)\t0.045861447536499705\n",
      "  (0, 1855)\t0.07324480327864759\n",
      "  (0, 1853)\t0.06523568515211565\n",
      "  (0, 1852)\t0.07324480327864759\n",
      "  (0, 1844)\t0.07324480327864759\n",
      "  (0, 1834)\t0.05514538963472735\n",
      "  (0, 1807)\t0.07324480327864759\n",
      "  (0, 1785)\t0.041453711763653416\n",
      "  (0, 1777)\t0.07324480327864759\n",
      "  (0, 1743)\t0.14648960655729518\n",
      "  (0, 1720)\t0.051544007281041714\n",
      "  (0, 1712)\t0.029843211283435842\n",
      "  (0, 1702)\t0.05514538963472735\n",
      "  (0, 1665)\t0.07324480327864759\n",
      "  (0, 1654)\t0.07324480327864759\n",
      "  (0, 1640)\t0.06523568515211565\n",
      "  (0, 1631)\t0.051544007281041714\n",
      "  (0, 1621)\t0.05955312540757364\n",
      "  (0, 1610)\t0.051544007281041714\n",
      "  (0, 1601)\t0.051544007281041714\n",
      "  (0, 1580)\t0.041453711763653416\n",
      "  (0, 1562)\t0.07324480327864759\n",
      "  :\t:\n",
      "  (28, 324)\t0.05229327750179174\n",
      "  (28, 308)\t0.07835985925154729\n",
      "  (28, 274)\t0.07835985925154729\n",
      "  (28, 271)\t0.07835985925154729\n",
      "  (28, 266)\t0.061913677251723774\n",
      "  (28, 265)\t0.05229327750179174\n",
      "  (28, 249)\t0.05508789500183229\n",
      "  (28, 230)\t0.14259599695574934\n",
      "  (28, 227)\t0.05508789500183229\n",
      "  (28, 225)\t0.0715340770016558\n",
      "  (28, 224)\t0.09958681392491656\n",
      "  (28, 209)\t0.058256171015043115\n",
      "  (28, 200)\t0.04356833591737879\n",
      "  (28, 191)\t0.04753199898524978\n",
      "  (28, 169)\t0.07169419100393645\n",
      "  (28, 148)\t0.15671971850309457\n",
      "  (28, 139)\t0.08798025900147932\n",
      "  (28, 125)\t0.05508789500183229\n",
      "  (28, 123)\t0.08798025900147932\n",
      "  (28, 121)\t0.08798025900147932\n",
      "  (28, 120)\t0.06623958896228178\n",
      "  (28, 109)\t0.08798025900147932\n",
      "  (28, 80)\t0.04753199898524978\n",
      "  (28, 28)\t0.061913677251723774\n",
      "  (28, 13)\t0.08798025900147932\n"
     ]
    }
   ],
   "source": [
    "print(matriz_tfidf)"
   ]
  },
  {
   "cell_type": "code",
   "execution_count": 94,
   "metadata": {},
   "outputs": [],
   "source": [
    "dummies_tfidf = pd.DataFrame(matriz_tfidf.todense(), columns = vectorizer.get_feature_names())"
   ]
  },
  {
   "cell_type": "code",
   "execution_count": 95,
   "metadata": {},
   "outputs": [
    {
     "data": {
      "text/html": [
       "<div>\n",
       "<style scoped>\n",
       "    .dataframe tbody tr th:only-of-type {\n",
       "        vertical-align: middle;\n",
       "    }\n",
       "\n",
       "    .dataframe tbody tr th {\n",
       "        vertical-align: top;\n",
       "    }\n",
       "\n",
       "    .dataframe thead th {\n",
       "        text-align: right;\n",
       "    }\n",
       "</style>\n",
       "<table border=\"1\" class=\"dataframe\">\n",
       "  <thead>\n",
       "    <tr style=\"text-align: right;\">\n",
       "      <th></th>\n",
       "      <th>abajo</th>\n",
       "      <th>abril</th>\n",
       "      <th>abrupta</th>\n",
       "      <th>absorber</th>\n",
       "      <th>aca</th>\n",
       "      <th>acceder</th>\n",
       "      <th>acceso</th>\n",
       "      <th>accesorios</th>\n",
       "      <th>aceitera</th>\n",
       "      <th>aceites</th>\n",
       "      <th>...</th>\n",
       "      <th>vuelve</th>\n",
       "      <th>vuelven</th>\n",
       "      <th>vulnerables</th>\n",
       "      <th>vulnerados</th>\n",
       "      <th>wall</th>\n",
       "      <th>yendo</th>\n",
       "      <th>yeso</th>\n",
       "      <th>ylfisfn</th>\n",
       "      <th>ypf</th>\n",
       "      <th>zgpwxzhy</th>\n",
       "    </tr>\n",
       "  </thead>\n",
       "  <tbody>\n",
       "    <tr>\n",
       "      <th>0</th>\n",
       "      <td>0.000000</td>\n",
       "      <td>0.0</td>\n",
       "      <td>0.0</td>\n",
       "      <td>0.0</td>\n",
       "      <td>0.000000</td>\n",
       "      <td>0.000000</td>\n",
       "      <td>0.0</td>\n",
       "      <td>0.073245</td>\n",
       "      <td>0.0</td>\n",
       "      <td>0.0</td>\n",
       "      <td>...</td>\n",
       "      <td>0.0</td>\n",
       "      <td>0.000000</td>\n",
       "      <td>0.0</td>\n",
       "      <td>0.0</td>\n",
       "      <td>0.0</td>\n",
       "      <td>0.0</td>\n",
       "      <td>0.0</td>\n",
       "      <td>0.0</td>\n",
       "      <td>0.000000</td>\n",
       "      <td>0.0</td>\n",
       "    </tr>\n",
       "    <tr>\n",
       "      <th>1</th>\n",
       "      <td>0.000000</td>\n",
       "      <td>0.0</td>\n",
       "      <td>0.0</td>\n",
       "      <td>0.0</td>\n",
       "      <td>0.000000</td>\n",
       "      <td>0.000000</td>\n",
       "      <td>0.0</td>\n",
       "      <td>0.000000</td>\n",
       "      <td>0.0</td>\n",
       "      <td>0.0</td>\n",
       "      <td>...</td>\n",
       "      <td>0.0</td>\n",
       "      <td>0.000000</td>\n",
       "      <td>0.0</td>\n",
       "      <td>0.0</td>\n",
       "      <td>0.0</td>\n",
       "      <td>0.0</td>\n",
       "      <td>0.0</td>\n",
       "      <td>0.0</td>\n",
       "      <td>0.000000</td>\n",
       "      <td>0.0</td>\n",
       "    </tr>\n",
       "    <tr>\n",
       "      <th>2</th>\n",
       "      <td>0.000000</td>\n",
       "      <td>0.0</td>\n",
       "      <td>0.0</td>\n",
       "      <td>0.0</td>\n",
       "      <td>0.000000</td>\n",
       "      <td>0.000000</td>\n",
       "      <td>0.0</td>\n",
       "      <td>0.000000</td>\n",
       "      <td>0.0</td>\n",
       "      <td>0.0</td>\n",
       "      <td>...</td>\n",
       "      <td>0.0</td>\n",
       "      <td>0.000000</td>\n",
       "      <td>0.0</td>\n",
       "      <td>0.0</td>\n",
       "      <td>0.0</td>\n",
       "      <td>0.0</td>\n",
       "      <td>0.0</td>\n",
       "      <td>0.0</td>\n",
       "      <td>0.000000</td>\n",
       "      <td>0.0</td>\n",
       "    </tr>\n",
       "    <tr>\n",
       "      <th>3</th>\n",
       "      <td>0.000000</td>\n",
       "      <td>0.0</td>\n",
       "      <td>0.0</td>\n",
       "      <td>0.0</td>\n",
       "      <td>0.069946</td>\n",
       "      <td>0.000000</td>\n",
       "      <td>0.0</td>\n",
       "      <td>0.000000</td>\n",
       "      <td>0.0</td>\n",
       "      <td>0.0</td>\n",
       "      <td>...</td>\n",
       "      <td>0.0</td>\n",
       "      <td>0.000000</td>\n",
       "      <td>0.0</td>\n",
       "      <td>0.0</td>\n",
       "      <td>0.0</td>\n",
       "      <td>0.0</td>\n",
       "      <td>0.0</td>\n",
       "      <td>0.0</td>\n",
       "      <td>0.249191</td>\n",
       "      <td>0.0</td>\n",
       "    </tr>\n",
       "    <tr>\n",
       "      <th>4</th>\n",
       "      <td>0.000000</td>\n",
       "      <td>0.0</td>\n",
       "      <td>0.0</td>\n",
       "      <td>0.0</td>\n",
       "      <td>0.000000</td>\n",
       "      <td>0.000000</td>\n",
       "      <td>0.0</td>\n",
       "      <td>0.000000</td>\n",
       "      <td>0.0</td>\n",
       "      <td>0.0</td>\n",
       "      <td>...</td>\n",
       "      <td>0.0</td>\n",
       "      <td>0.000000</td>\n",
       "      <td>0.0</td>\n",
       "      <td>0.0</td>\n",
       "      <td>0.0</td>\n",
       "      <td>0.0</td>\n",
       "      <td>0.0</td>\n",
       "      <td>0.0</td>\n",
       "      <td>0.348909</td>\n",
       "      <td>0.0</td>\n",
       "    </tr>\n",
       "    <tr>\n",
       "      <th>5</th>\n",
       "      <td>0.048084</td>\n",
       "      <td>0.0</td>\n",
       "      <td>0.0</td>\n",
       "      <td>0.0</td>\n",
       "      <td>0.000000</td>\n",
       "      <td>0.000000</td>\n",
       "      <td>0.0</td>\n",
       "      <td>0.000000</td>\n",
       "      <td>0.0</td>\n",
       "      <td>0.0</td>\n",
       "      <td>...</td>\n",
       "      <td>0.0</td>\n",
       "      <td>0.000000</td>\n",
       "      <td>0.0</td>\n",
       "      <td>0.0</td>\n",
       "      <td>0.0</td>\n",
       "      <td>0.0</td>\n",
       "      <td>0.0</td>\n",
       "      <td>0.0</td>\n",
       "      <td>0.000000</td>\n",
       "      <td>0.0</td>\n",
       "    </tr>\n",
       "    <tr>\n",
       "      <th>6</th>\n",
       "      <td>0.000000</td>\n",
       "      <td>0.0</td>\n",
       "      <td>0.0</td>\n",
       "      <td>0.0</td>\n",
       "      <td>0.000000</td>\n",
       "      <td>0.081201</td>\n",
       "      <td>0.0</td>\n",
       "      <td>0.000000</td>\n",
       "      <td>0.0</td>\n",
       "      <td>0.0</td>\n",
       "      <td>...</td>\n",
       "      <td>0.0</td>\n",
       "      <td>0.000000</td>\n",
       "      <td>0.0</td>\n",
       "      <td>0.0</td>\n",
       "      <td>0.0</td>\n",
       "      <td>0.0</td>\n",
       "      <td>0.0</td>\n",
       "      <td>0.0</td>\n",
       "      <td>0.000000</td>\n",
       "      <td>0.0</td>\n",
       "    </tr>\n",
       "    <tr>\n",
       "      <th>7</th>\n",
       "      <td>0.000000</td>\n",
       "      <td>0.0</td>\n",
       "      <td>0.0</td>\n",
       "      <td>0.0</td>\n",
       "      <td>0.000000</td>\n",
       "      <td>0.000000</td>\n",
       "      <td>0.0</td>\n",
       "      <td>0.000000</td>\n",
       "      <td>0.0</td>\n",
       "      <td>0.0</td>\n",
       "      <td>...</td>\n",
       "      <td>0.0</td>\n",
       "      <td>0.000000</td>\n",
       "      <td>0.0</td>\n",
       "      <td>0.0</td>\n",
       "      <td>0.0</td>\n",
       "      <td>0.0</td>\n",
       "      <td>0.0</td>\n",
       "      <td>0.0</td>\n",
       "      <td>0.000000</td>\n",
       "      <td>0.0</td>\n",
       "    </tr>\n",
       "    <tr>\n",
       "      <th>8</th>\n",
       "      <td>0.000000</td>\n",
       "      <td>0.0</td>\n",
       "      <td>0.0</td>\n",
       "      <td>0.0</td>\n",
       "      <td>0.000000</td>\n",
       "      <td>0.000000</td>\n",
       "      <td>0.0</td>\n",
       "      <td>0.000000</td>\n",
       "      <td>0.0</td>\n",
       "      <td>0.0</td>\n",
       "      <td>...</td>\n",
       "      <td>0.0</td>\n",
       "      <td>0.081619</td>\n",
       "      <td>0.0</td>\n",
       "      <td>0.0</td>\n",
       "      <td>0.0</td>\n",
       "      <td>0.0</td>\n",
       "      <td>0.0</td>\n",
       "      <td>0.0</td>\n",
       "      <td>0.000000</td>\n",
       "      <td>0.0</td>\n",
       "    </tr>\n",
       "    <tr>\n",
       "      <th>9</th>\n",
       "      <td>0.000000</td>\n",
       "      <td>0.0</td>\n",
       "      <td>0.0</td>\n",
       "      <td>0.0</td>\n",
       "      <td>0.000000</td>\n",
       "      <td>0.000000</td>\n",
       "      <td>0.0</td>\n",
       "      <td>0.000000</td>\n",
       "      <td>0.0</td>\n",
       "      <td>0.0</td>\n",
       "      <td>...</td>\n",
       "      <td>0.0</td>\n",
       "      <td>0.000000</td>\n",
       "      <td>0.0</td>\n",
       "      <td>0.0</td>\n",
       "      <td>0.0</td>\n",
       "      <td>0.0</td>\n",
       "      <td>0.0</td>\n",
       "      <td>0.0</td>\n",
       "      <td>0.000000</td>\n",
       "      <td>0.0</td>\n",
       "    </tr>\n",
       "  </tbody>\n",
       "</table>\n",
       "<p>10 rows × 1933 columns</p>\n",
       "</div>"
      ],
      "text/plain": [
       "      abajo  abril  abrupta  absorber       aca   acceder  acceso  accesorios  \\\n",
       "0  0.000000    0.0      0.0       0.0  0.000000  0.000000     0.0    0.073245   \n",
       "1  0.000000    0.0      0.0       0.0  0.000000  0.000000     0.0    0.000000   \n",
       "2  0.000000    0.0      0.0       0.0  0.000000  0.000000     0.0    0.000000   \n",
       "3  0.000000    0.0      0.0       0.0  0.069946  0.000000     0.0    0.000000   \n",
       "4  0.000000    0.0      0.0       0.0  0.000000  0.000000     0.0    0.000000   \n",
       "5  0.048084    0.0      0.0       0.0  0.000000  0.000000     0.0    0.000000   \n",
       "6  0.000000    0.0      0.0       0.0  0.000000  0.081201     0.0    0.000000   \n",
       "7  0.000000    0.0      0.0       0.0  0.000000  0.000000     0.0    0.000000   \n",
       "8  0.000000    0.0      0.0       0.0  0.000000  0.000000     0.0    0.000000   \n",
       "9  0.000000    0.0      0.0       0.0  0.000000  0.000000     0.0    0.000000   \n",
       "\n",
       "   aceitera  aceites  ...  vuelve   vuelven  vulnerables  vulnerados  wall  \\\n",
       "0       0.0      0.0  ...     0.0  0.000000          0.0         0.0   0.0   \n",
       "1       0.0      0.0  ...     0.0  0.000000          0.0         0.0   0.0   \n",
       "2       0.0      0.0  ...     0.0  0.000000          0.0         0.0   0.0   \n",
       "3       0.0      0.0  ...     0.0  0.000000          0.0         0.0   0.0   \n",
       "4       0.0      0.0  ...     0.0  0.000000          0.0         0.0   0.0   \n",
       "5       0.0      0.0  ...     0.0  0.000000          0.0         0.0   0.0   \n",
       "6       0.0      0.0  ...     0.0  0.000000          0.0         0.0   0.0   \n",
       "7       0.0      0.0  ...     0.0  0.000000          0.0         0.0   0.0   \n",
       "8       0.0      0.0  ...     0.0  0.081619          0.0         0.0   0.0   \n",
       "9       0.0      0.0  ...     0.0  0.000000          0.0         0.0   0.0   \n",
       "\n",
       "   yendo  yeso  ylfisfn       ypf  zgpwxzhy  \n",
       "0    0.0   0.0      0.0  0.000000       0.0  \n",
       "1    0.0   0.0      0.0  0.000000       0.0  \n",
       "2    0.0   0.0      0.0  0.000000       0.0  \n",
       "3    0.0   0.0      0.0  0.249191       0.0  \n",
       "4    0.0   0.0      0.0  0.348909       0.0  \n",
       "5    0.0   0.0      0.0  0.000000       0.0  \n",
       "6    0.0   0.0      0.0  0.000000       0.0  \n",
       "7    0.0   0.0      0.0  0.000000       0.0  \n",
       "8    0.0   0.0      0.0  0.000000       0.0  \n",
       "9    0.0   0.0      0.0  0.000000       0.0  \n",
       "\n",
       "[10 rows x 1933 columns]"
      ]
     },
     "execution_count": 95,
     "metadata": {},
     "output_type": "execute_result"
    }
   ],
   "source": [
    "dummies_tfidf.head(10)"
   ]
  },
  {
   "cell_type": "markdown",
   "metadata": {},
   "source": [
    "Terminos más relevantes por documento"
   ]
  },
  {
   "cell_type": "code",
   "execution_count": 96,
   "metadata": {},
   "outputs": [
    {
     "name": "stdout",
     "output_type": "stream",
     "text": [
      "0 exportaciones 0.3261784257605783\n",
      "1 emae 0.3809858273261209\n",
      "2 particulares 0.2261850263834256\n",
      "3 shell 0.34122599993312525\n",
      "4 ypf 0.34890940827368017\n",
      "5 trabajadores 0.29934849178252476\n",
      "6 canasta 0.28542603158803237\n",
      "7 productos 0.3271583909736756\n",
      "8 canasta 0.4016528077171914\n",
      "9 provincia 0.3532545382294679\n",
      "10 precios 0.24442704238266943\n",
      "11 construccion 0.5173779469369378\n",
      "12 salarios 0.40782455011928165\n",
      "13 canasta 0.24024133434874065\n",
      "14 sectores 0.1928547428289198\n",
      "15 construccion 0.31241557819621674\n",
      "16 local 0.23229953103330594\n",
      "17 dolar 0.29229641041422144\n",
      "18 dolar 0.24920449016168786\n",
      "19 billete 0.2175889683379768\n",
      "20 bonos 0.1747482881346121\n",
      "21 millones 0.26292805464028257\n",
      "22 fmi 0.2838457481101585\n",
      "23 exportaciones 0.19830364319811594\n",
      "24 dolar 0.30033423646327306\n",
      "25 martes 0.19902913257833815\n",
      "26 dolar 0.26239350785401855\n",
      "27 dolar 0.31612372805092653\n",
      "28 dolar 0.25092966851377757\n"
     ]
    }
   ],
   "source": [
    "for row in range(dummies_tfidf.shape[0]):\n",
    "    print(row, dummies_tfidf.iloc[row].sort_values(ascending=False).index[0], dummies_tfidf.iloc[row].sort_values(ascending=False)[0])"
   ]
  },
  {
   "cell_type": "code",
   "execution_count": 97,
   "metadata": {},
   "outputs": [
    {
     "name": "stdout",
     "output_type": "stream",
     "text": [
      "documento 0 \n",
      " ['exportaciones', 'millones', 'importaciones', 'bienes', 'exterior', 'origen', 'superavit', 'manufacturas', 'balanza', 'interanual', 'bajaron', 'exportadores', 'capital', 'combustibles', 'indec', 'descenso', 'caida', 'devaluacion', 'comercio', 'baja', 'evito', 'provisoria', 'paraguay', 'llamativo', 'senalan'] \n",
      "peso: 0.1132503878760365\n",
      "--------------\n",
      "documento 1 \n",
      " ['emae', 'interanual', 'actividad', 'septiembre', 'fmi', 'economica', 'caida', 'relacion', 'agosto', 'finales', 'empeoro', 'datoindecla', 'avanza', 'contraera', 'conforman', 'alzas', 'positiva', 'beneficio', 'vuelca', 'desestacionalizada', 'serie', 'crecio', 'destacaron', 'personales', 'pasar'] \n",
      "peso: 0.11418615078519512\n",
      "--------------\n",
      "documento 2 \n",
      " ['particulares', 'box', 'massalin', 'marcas', 'anunciado', 'incremento', 'vale', 'menciono', 'empobrecidos', 'strike', 'bat', 'jubilados', 'tobacco', 'costar', 'ipc', 'trimestral', 'philip', 'british', 'niegan', 'pauperrimo', 'diferentes', 'chesterfield', 'contar', 'rigor', 'dinamica'] \n",
      "peso: 0.11770740382580946\n",
      "--------------\n",
      "documento 3 \n",
      " ['shell', 'ypf', 'combustibles', 'marca', 'aumento', 'impacto', 'diesel', 'pasa', 'formula', 'power', 'goteo', 'similar', 'cuenta', 'diciembre', 'precios', 'subas', 'aumentos', 'suba', 'lunes', 'incremento', 'ajuste', 'fin', 'registrar', 'sumen', 'hiciera'] \n",
      "peso: 0.11083441247182114\n",
      "--------------\n",
      "documento 4 \n",
      " ['ypf', 'lee', 'buscando', 'combustibles', 'promedio', 'aumento', 'propia', 'comunicado', 'servicio', 'estaciones', 'nielsen', 'tanques', 'compania', 'aumentos', 'injustificable', 'estatal', 'petrolera', 'brechas', 'vez', 'resto', 'justificar', 'efecto', 'empresa', 'asi', 'partir'] \n",
      "peso: 0.11660787332027595\n",
      "--------------\n",
      "documento 5 \n",
      " ['trabajadores', 'salarios', 'sindicales', 'mismo', 'registrados', 'kilos', 'desplome', 'aumento', 'sector', 'inflacion', 'carne', 'salario', 'mientras', 'precios', 'patronales', 'paritarias', 'menos', 'cuota', 'porcentaje', 'paro', 'cuotas', 'habitante', 'periodo', 'segun', 'reclamo'] \n",
      "peso: 0.11224509846806556\n",
      "--------------\n",
      "documento 6 \n",
      " ['canasta', 'trabajadores', 'aun', 'populares', 'alimentaria', 'trabajo', 'necesidades', 'indec', 'paritarias', 'precios', 'anos', 'valor', 'servicios', 'sectores', 'descongelamiento', 'cumpla', 'nucleo', 'urgente', 'cuadro', 'explican', 'muestra', 'contiene', 'basicas', 'cierran', 'requerido'] \n",
      "peso: 0.10733889457980599\n",
      "--------------\n",
      "documento 7 \n",
      " ['productos', 'precios', 'importados', 'nacionales', 'indice', 'ipim', 'nivel', 'explica', 'registro', 'suba', 'internos', 'mayoristas', 'basicos', 'general', 'variacion', 'promedio', 'alza', 'periodo', 'octubre', 'inflacion', 'incremento', 'ipp', 'presiona', 'estiman', 'evolucion'] \n",
      "peso: 0.13388611263008407\n",
      "--------------\n",
      "documento 8 \n",
      " ['canasta', 'familia', 'basica', 'cba', 'alimentos', 'dos', 'alimentaria', 'incluye', 'indec', 'organismo', 'ser', 'total', 'inflacion', 'fin', 'incremento', 'termina', 'llego', 'realiza', 'diez', 'adultos', 'lejos', 'petroleras', 'cediendo', 'impulsada', 'cbt'] \n",
      "peso: 0.1198218581043155\n",
      "--------------\n",
      "documento 9 \n",
      " ['provincia', 'aumentos', 'va', 'empleo', 'precios', 'inflacion', 'aumentaron', 'rubros', 'respectivamente', 'alimentos', 'anterior', 'canasta', 'meses', 'verdadera', 'pasaje', 'directamente', 'acumulada', 'relevados', 'secretaria', 'configuran', 'investigaciones', 'estadisticas', 'economicas', 'mision', 'casos'] \n",
      "peso: 0.11218385883797723\n",
      "--------------\n",
      "documento 10 \n",
      " ['precios', 'division', 'bebidas', 'promedio', 'alimentos', 'registro', 'fin', 'incremento', 'alimenticias', 'alarmante', 'arriba', 'tuberculos', 'detiene', 'privatizadas', 'encima', 'seguira', 'equipamiento', 'numero', 'grasas', 'legumbres', 'regiones', 'calzado', 'lista', 'oficialismo', 'articulos'] \n",
      "peso: 0.10637239109732674\n",
      "--------------\n",
      "documento 11 \n",
      " ['construccion', 'industria', 'yeso', 'insumos', 'datos', 'trabajo', 'registraron', 'descenso', 'interanual', 'va', 'sector', 'metalicos', 'contraccion', 'pisos', 'metal', 'mosaicos', 'placas', 'minerales', 'ceramicos', 'pinturas', 'empleos', 'calcareos', 'cemento', 'ladrillos', 'despidieron'] \n",
      "peso: 0.10978168525850783\n",
      "--------------\n",
      "documento 12 \n",
      " ['salarios', 'sector', 'registrados', 'agosto', 'privado', 'publico', 'salario', 'pandemia', 'indec', 'trabajadores', 'indice', 'poder', 'registrado', 'retrocesos', 'siguio', 'derritiendose', 'asalariados', 'encender', 'real', 'compra', 'total', 'caida', 'observatorio', 'luis', 'respecto'] \n",
      "peso: 0.1317299046415149\n",
      "--------------\n",
      "documento 13 \n",
      " ['canasta', 'categoria', 'perdida', 'salario', 'indec', 'documento', 'paritaria', 'actual', 'trabajadores', 'deberia', 'suma', 'situacion', 'interna', 'pobreza', 'junta', 'tarifas', 'valor', 'bolsillo', 'servicios', 'sectores', 'cuanto', 'dnu', 'exiguas', 'sinep', 'lleno'] \n",
      "peso: 0.10249892707306635\n",
      "--------------\n",
      "documento 14 \n",
      " ['sectores', 'actividades', 'agosto', 'actividad', 'sociales', 'economica', 'servicios', 'interanual', 'respecto', 'registro', 'baja', 'previo', 'ensenanza', 'afiliacion', 'critica', 'intermediacion', 'derrumbe', 'ocho', 'minas', 'subsidios', 'caza', 'descensos', 'agricultura', 'pesca', 'hoteles'] \n",
      "peso: 0.11003484950549877\n",
      "--------------\n",
      "documento 15 \n",
      " ['construccion', 'suba', 'indice', 'costo', 'agosto', 'ultimo', 'consecuencia', 'precios', 'salarios', 'sector', 'respecto', 'rededor', 'obra', 'verdaderos', 'terrateniente', 'perdiendo', 'funcionamiento', 'surge', 'optaron', 'cifras', 'paraiso', 'correspondientes', 'usurpadores', 'gastos', 'datoindecel'] \n",
      "peso: 0.11849525890916485\n",
      "--------------\n",
      "documento 16 \n",
      " ['local', 'cnv', 'dias', 'bolsa', 'moneda', 'habiles', 'personas', 'humanas', 'negociable', 'permanencia', 'juridicas', 'resolucion', 'receptora', 'propias', 'transferencia', 'carteras', 'realizan', 'precio', 'alycs', 'dispuso', 'disminuyo', 'tres', 'netos', 'extranjera', 'dolar'] \n",
      "peso: 0.12010037631774681\n",
      "--------------\n",
      "documento 17 \n",
      " ['dolar', 'ccl', 'nuevas', 'mientras', 'dolares', 'fmi', 'subas', 'mep', 'oficial', 'desgaste', 'mantienen', 'areas', 'calma', 'relativa', 'rebaja', 'tonelada', 'parches', 'condensa', 'liquidar', 'ubican', 'venderse', 'contenerla', 'relacionada', 'superando', 'costa'] \n",
      "peso: 0.1209407179749227\n",
      "--------------\n",
      "documento 18 \n",
      " ['dolar', 'bonos', 'deuda', 'medida', 'presion', 'liqui', 'blue', 'central', 'mayorista', 'guzman', 'contado', 'cambio', 'dispara', 'permitieron', 'licitaciones', 'particular', 'ubica', 'ubico', 'obtengan', 'quitarle', 'continuo', 'vuelve', 'toco', 'banco', 'dolares'] \n",
      "peso: 0.12063396464159833\n",
      "--------------\n",
      "documento 19 \n",
      " ['billete', 'dolar', 'alcanzo', 'bonos', 'deuda', 'blue', 'pesos', 'brecha', 'millones', 'guzman', 'menos', 'rueda', 'temprano', 'cinco', 'privadas', 'negativo', 'vendieron', 'calcularon', 'consecutiva', 'capto', 'propuesto', 'operadores', 'debio', 'jornada', 'tercera'] \n",
      "peso: 0.12069183963276359\n",
      "--------------\n",
      "documento 20 \n",
      " ['bonos', 'fmi', 'oficial', 'dolar', 'habia', 'blue', 'volvio', 'piso', 'ultimas', 'pedido', 'semanas', 'deuda', 'guzman', 'si', 'luego', 'medidas', 'central', 'grandes', 'ajuste', 'aumentando', 'delegacion', 'sumamos', 'macrismo', 'estructurales', 'dejan'] \n",
      "peso: 0.10162222409523006\n",
      "--------------\n",
      "documento 21 \n",
      " ['millones', 'bono', 'dolar', 'fondos', 'lunes', 'pesos', 'bonos', 'cambio', 'guzman', 'deuda', 'conversion', 'vendia', 'tipos', 'ofrecia', 'subian', 'subia', 'salir', 'adjudicaron', 'beneficiados', 'tarde', 'expresidente', 'canjeo', 'nominados', 'ingresaron', 'pudieron'] \n",
      "peso: 0.124683289153656\n",
      "--------------\n",
      "documento 22 \n",
      " ['fmi', 'pago', 'central', 'millones', 'deficit', 'banco', 'fuga', 'reservas', 'frente', 'endeudamiento', 'capitales', 'ministro', 'deuda', 'gobierno', 'acuerdo', 'mil', 'debido', 'especulativos', 'judicialmente', 'obstante', 'prestamo', 'fondo', 'semana', 'intervencion', 'tensiones'] \n",
      "peso: 0.11043070125638098\n",
      "--------------\n",
      "documento 23 \n",
      " ['exportaciones', 'externa', 'grandes', 'guzman', 'dolar', 'problema', 'importaciones', 'dolares', 'capitales', 'millones', 'estructural', 'liquidacion', 'entrada', 'divisas', 'camino', 'agosto', 'beneficios', 'plan', 'tendencia', 'dio', 'bonos', 'deuda', 'situacion', 'haber', 'partir'] \n",
      "peso: 0.09739653836283929\n",
      "--------------\n",
      "documento 24 \n",
      " ['dolar', 'anual', 'pases', 'tasa', 'deuda', 'tasas', 'bonos', 'pase', 'pasivos', 'porcentual', 'jueves', 'bancos', 'leliq', 'punto', 'linked', 'reducir', 'central', 'guzman', 'titulos', 'licitacion', 'semana', 'martin', 'devaluacion', 'dias', 'economia'] \n",
      "peso: 0.1217973433968322\n",
      "--------------\n",
      "documento 25 \n",
      " ['martes', 'dolar', 'millones', 'deuda', 'bono', 'pesos', 'emision', 'hara', 'cotizacion', 'estan', 'devaluacion', 'subasta', 'interes', 'podria', 'tasa', 'emitido', 'abril', 'haber', 'ademas', 'habia', 'cotizaciones', 'ultimos', 'dias', 'economia', 'meses'] \n",
      "peso: 0.10466629533508129\n",
      "--------------\n",
      "documento 26 \n",
      " ['dolar', 'varios', 'licitacion', 'billete', 'pesos', 'espera', 'objetivo', 'linked', 'titulos', 'martes', 'moneda', 'pobreza', 'gobierno', 'semana', 'fondo', 'subio', 'cotizaciones', 'ganancias', 'liquidacion', 'estan', 'devaluacion', 'tipo', 'lunes', 'bonos', 'contado'] \n",
      "peso: 0.10385507320304758\n",
      "--------------\n",
      "documento 27 \n",
      " ['dolar', 'viernes', 'liquidacion', 'mayorista', 'mep', 'contado', 'oficial', 'iprofesional', 'proceso', 'venimos', 'depreciacion', 'descienden', 'gradual', 'radiales', 'informal', 'motivo', 'persistieron', 'velocidad', 'declaraciones', 'yendo', 'vamos', 'persistente', 'operen', 'tomen', 'financieras'] \n",
      "peso: 0.108469644078394\n",
      "--------------\n",
      "documento 28 \n",
      " ['dolar', 'vendio', 'medidas', 'norteamericana', 'pesar', 'divisa', 'ascenso', 'quieren', 'mayorista', 'brecha', 'oficial', 'guzman', 'cotizacion', 'liqui', 'blue', 'mep', 'contado', 'ganan', 'economistas', 'ingresen', 'opinan', 'oficiales', 'rava', 'reciente', 'fiscal'] \n",
      "peso: 0.11011329760977961\n",
      "--------------\n"
     ]
    }
   ],
   "source": [
    "for row in range(dummies_tfidf.shape[0]):\n",
    "    print('documento',row,'\\n',\n",
    "          list(dummies_tfidf.iloc[row].sort_values(ascending=False).index[0:25]), '\\n'\n",
    "          'peso:',\n",
    "          sum(dummies_tfidf.iloc[row].sort_values(ascending=False)[0:25]) / len(corpus))\n",
    "    print('--------------')"
   ]
  },
  {
   "cell_type": "markdown",
   "metadata": {},
   "source": [
    "#### Singular Value Decomposition (SVD)"
   ]
  },
  {
   "cell_type": "code",
   "execution_count": 98,
   "metadata": {},
   "outputs": [],
   "source": [
    "from sklearn.decomposition import TruncatedSVD"
   ]
  },
  {
   "cell_type": "code",
   "execution_count": 99,
   "metadata": {},
   "outputs": [],
   "source": [
    "svd = TruncatedSVD(n_components = 2) # n_components = Desired dimensionality of output data. Must be strictly less than the number of features.\n",
    "p = svd.fit_transform(matriz_tfidf)\n",
    "\n",
    "P = np.around(p,3)"
   ]
  },
  {
   "cell_type": "code",
   "execution_count": 149,
   "metadata": {},
   "outputs": [
    {
     "data": {
      "text/plain": [
       "array([0.276, 0.254, 0.144, 0.255, 0.21 , 0.381, 0.265, 0.272, 0.295,\n",
       "       0.257, 0.285, 0.201, 0.285, 0.27 , 0.222, 0.291, 0.324, 0.372,\n",
       "       0.535, 0.491, 0.493, 0.493, 0.38 , 0.485, 0.47 , 0.489, 0.511,\n",
       "       0.45 , 0.462])"
      ]
     },
     "execution_count": 149,
     "metadata": {},
     "output_type": "execute_result"
    }
   ],
   "source": [
    "P[:,0]"
   ]
  },
  {
   "cell_type": "code",
   "execution_count": 178,
   "metadata": {},
   "outputs": [
    {
     "data": {
      "text/plain": [
       "[0,\n",
       " 1,\n",
       " 2,\n",
       " 3,\n",
       " 4,\n",
       " 5,\n",
       " 6,\n",
       " 7,\n",
       " 8,\n",
       " 9,\n",
       " 10,\n",
       " 11,\n",
       " 12,\n",
       " 13,\n",
       " 14,\n",
       " 15,\n",
       " 16,\n",
       " 17,\n",
       " 18,\n",
       " 19,\n",
       " 20,\n",
       " 21,\n",
       " 22,\n",
       " 23,\n",
       " 24,\n",
       " 25,\n",
       " 26,\n",
       " 27,\n",
       " 28]"
      ]
     },
     "execution_count": 178,
     "metadata": {},
     "output_type": "execute_result"
    }
   ],
   "source": [
    "list(range(29))"
   ]
  },
  {
   "cell_type": "code",
   "execution_count": 151,
   "metadata": {},
   "outputs": [],
   "source": [
    "import plotly.graph_objects as go"
   ]
  },
  {
   "cell_type": "code",
   "execution_count": 195,
   "metadata": {},
   "outputs": [
    {
     "data": {
      "application/vnd.plotly.v1+json": {
       "config": {
        "plotlyServerURL": "https://plotly.com"
       },
       "data": [
        {
         "marker": {
          "color": [
           0,
           1,
           2,
           3,
           4,
           5,
           6,
           7,
           8,
           9,
           10,
           11,
           12,
           13,
           14,
           15,
           16,
           17,
           18,
           19,
           20,
           21,
           22,
           23,
           24,
           25,
           26,
           27,
           28
          ],
          "size": 10
         },
         "mode": "markers+text",
         "text": [
          "doc0",
          "doc1",
          "doc2",
          "doc3",
          "doc4",
          "doc5",
          "doc6",
          "doc7",
          "doc8",
          "doc9",
          "doc10",
          "doc11",
          "doc12",
          "doc13",
          "doc14",
          "doc15",
          "doc16",
          "doc17",
          "doc18",
          "doc19",
          "doc20",
          "doc21",
          "doc22",
          "doc23",
          "doc24",
          "doc25",
          "doc26",
          "doc27",
          "doc28"
         ],
         "textfont": {
          "color": "Blue",
          "size": 10
         },
         "textposition": "middle left",
         "type": "scatter",
         "x": [
          0.276,
          0.254,
          0.144,
          0.255,
          0.21,
          0.381,
          0.265,
          0.272,
          0.295,
          0.257,
          0.285,
          0.201,
          0.285,
          0.27,
          0.222,
          0.291,
          0.324,
          0.372,
          0.535,
          0.491,
          0.493,
          0.493,
          0.38,
          0.485,
          0.47,
          0.489,
          0.511,
          0.45,
          0.462
         ],
         "y": [
          0.1,
          0.253,
          0.189,
          0.219,
          0.169,
          0.485,
          0.451,
          0.419,
          0.447,
          0.365,
          0.336,
          0.233,
          0.415,
          0.401,
          0.249,
          0.405,
          -0.176,
          -0.187,
          -0.342,
          -0.283,
          -0.262,
          -0.315,
          -0.153,
          -0.104,
          -0.256,
          -0.222,
          -0.286,
          -0.213,
          -0.186
         ]
        }
       ],
       "layout": {
        "autosize": true,
        "template": {
         "data": {
          "bar": [
           {
            "error_x": {
             "color": "#2a3f5f"
            },
            "error_y": {
             "color": "#2a3f5f"
            },
            "marker": {
             "line": {
              "color": "#E5ECF6",
              "width": 0.5
             }
            },
            "type": "bar"
           }
          ],
          "barpolar": [
           {
            "marker": {
             "line": {
              "color": "#E5ECF6",
              "width": 0.5
             }
            },
            "type": "barpolar"
           }
          ],
          "carpet": [
           {
            "aaxis": {
             "endlinecolor": "#2a3f5f",
             "gridcolor": "white",
             "linecolor": "white",
             "minorgridcolor": "white",
             "startlinecolor": "#2a3f5f"
            },
            "baxis": {
             "endlinecolor": "#2a3f5f",
             "gridcolor": "white",
             "linecolor": "white",
             "minorgridcolor": "white",
             "startlinecolor": "#2a3f5f"
            },
            "type": "carpet"
           }
          ],
          "choropleth": [
           {
            "colorbar": {
             "outlinewidth": 0,
             "ticks": ""
            },
            "type": "choropleth"
           }
          ],
          "contour": [
           {
            "colorbar": {
             "outlinewidth": 0,
             "ticks": ""
            },
            "colorscale": [
             [
              0,
              "#0d0887"
             ],
             [
              0.1111111111111111,
              "#46039f"
             ],
             [
              0.2222222222222222,
              "#7201a8"
             ],
             [
              0.3333333333333333,
              "#9c179e"
             ],
             [
              0.4444444444444444,
              "#bd3786"
             ],
             [
              0.5555555555555556,
              "#d8576b"
             ],
             [
              0.6666666666666666,
              "#ed7953"
             ],
             [
              0.7777777777777778,
              "#fb9f3a"
             ],
             [
              0.8888888888888888,
              "#fdca26"
             ],
             [
              1,
              "#f0f921"
             ]
            ],
            "type": "contour"
           }
          ],
          "contourcarpet": [
           {
            "colorbar": {
             "outlinewidth": 0,
             "ticks": ""
            },
            "type": "contourcarpet"
           }
          ],
          "heatmap": [
           {
            "colorbar": {
             "outlinewidth": 0,
             "ticks": ""
            },
            "colorscale": [
             [
              0,
              "#0d0887"
             ],
             [
              0.1111111111111111,
              "#46039f"
             ],
             [
              0.2222222222222222,
              "#7201a8"
             ],
             [
              0.3333333333333333,
              "#9c179e"
             ],
             [
              0.4444444444444444,
              "#bd3786"
             ],
             [
              0.5555555555555556,
              "#d8576b"
             ],
             [
              0.6666666666666666,
              "#ed7953"
             ],
             [
              0.7777777777777778,
              "#fb9f3a"
             ],
             [
              0.8888888888888888,
              "#fdca26"
             ],
             [
              1,
              "#f0f921"
             ]
            ],
            "type": "heatmap"
           }
          ],
          "heatmapgl": [
           {
            "colorbar": {
             "outlinewidth": 0,
             "ticks": ""
            },
            "colorscale": [
             [
              0,
              "#0d0887"
             ],
             [
              0.1111111111111111,
              "#46039f"
             ],
             [
              0.2222222222222222,
              "#7201a8"
             ],
             [
              0.3333333333333333,
              "#9c179e"
             ],
             [
              0.4444444444444444,
              "#bd3786"
             ],
             [
              0.5555555555555556,
              "#d8576b"
             ],
             [
              0.6666666666666666,
              "#ed7953"
             ],
             [
              0.7777777777777778,
              "#fb9f3a"
             ],
             [
              0.8888888888888888,
              "#fdca26"
             ],
             [
              1,
              "#f0f921"
             ]
            ],
            "type": "heatmapgl"
           }
          ],
          "histogram": [
           {
            "marker": {
             "colorbar": {
              "outlinewidth": 0,
              "ticks": ""
             }
            },
            "type": "histogram"
           }
          ],
          "histogram2d": [
           {
            "colorbar": {
             "outlinewidth": 0,
             "ticks": ""
            },
            "colorscale": [
             [
              0,
              "#0d0887"
             ],
             [
              0.1111111111111111,
              "#46039f"
             ],
             [
              0.2222222222222222,
              "#7201a8"
             ],
             [
              0.3333333333333333,
              "#9c179e"
             ],
             [
              0.4444444444444444,
              "#bd3786"
             ],
             [
              0.5555555555555556,
              "#d8576b"
             ],
             [
              0.6666666666666666,
              "#ed7953"
             ],
             [
              0.7777777777777778,
              "#fb9f3a"
             ],
             [
              0.8888888888888888,
              "#fdca26"
             ],
             [
              1,
              "#f0f921"
             ]
            ],
            "type": "histogram2d"
           }
          ],
          "histogram2dcontour": [
           {
            "colorbar": {
             "outlinewidth": 0,
             "ticks": ""
            },
            "colorscale": [
             [
              0,
              "#0d0887"
             ],
             [
              0.1111111111111111,
              "#46039f"
             ],
             [
              0.2222222222222222,
              "#7201a8"
             ],
             [
              0.3333333333333333,
              "#9c179e"
             ],
             [
              0.4444444444444444,
              "#bd3786"
             ],
             [
              0.5555555555555556,
              "#d8576b"
             ],
             [
              0.6666666666666666,
              "#ed7953"
             ],
             [
              0.7777777777777778,
              "#fb9f3a"
             ],
             [
              0.8888888888888888,
              "#fdca26"
             ],
             [
              1,
              "#f0f921"
             ]
            ],
            "type": "histogram2dcontour"
           }
          ],
          "mesh3d": [
           {
            "colorbar": {
             "outlinewidth": 0,
             "ticks": ""
            },
            "type": "mesh3d"
           }
          ],
          "parcoords": [
           {
            "line": {
             "colorbar": {
              "outlinewidth": 0,
              "ticks": ""
             }
            },
            "type": "parcoords"
           }
          ],
          "pie": [
           {
            "automargin": true,
            "type": "pie"
           }
          ],
          "scatter": [
           {
            "marker": {
             "colorbar": {
              "outlinewidth": 0,
              "ticks": ""
             }
            },
            "type": "scatter"
           }
          ],
          "scatter3d": [
           {
            "line": {
             "colorbar": {
              "outlinewidth": 0,
              "ticks": ""
             }
            },
            "marker": {
             "colorbar": {
              "outlinewidth": 0,
              "ticks": ""
             }
            },
            "type": "scatter3d"
           }
          ],
          "scattercarpet": [
           {
            "marker": {
             "colorbar": {
              "outlinewidth": 0,
              "ticks": ""
             }
            },
            "type": "scattercarpet"
           }
          ],
          "scattergeo": [
           {
            "marker": {
             "colorbar": {
              "outlinewidth": 0,
              "ticks": ""
             }
            },
            "type": "scattergeo"
           }
          ],
          "scattergl": [
           {
            "marker": {
             "colorbar": {
              "outlinewidth": 0,
              "ticks": ""
             }
            },
            "type": "scattergl"
           }
          ],
          "scattermapbox": [
           {
            "marker": {
             "colorbar": {
              "outlinewidth": 0,
              "ticks": ""
             }
            },
            "type": "scattermapbox"
           }
          ],
          "scatterpolar": [
           {
            "marker": {
             "colorbar": {
              "outlinewidth": 0,
              "ticks": ""
             }
            },
            "type": "scatterpolar"
           }
          ],
          "scatterpolargl": [
           {
            "marker": {
             "colorbar": {
              "outlinewidth": 0,
              "ticks": ""
             }
            },
            "type": "scatterpolargl"
           }
          ],
          "scatterternary": [
           {
            "marker": {
             "colorbar": {
              "outlinewidth": 0,
              "ticks": ""
             }
            },
            "type": "scatterternary"
           }
          ],
          "surface": [
           {
            "colorbar": {
             "outlinewidth": 0,
             "ticks": ""
            },
            "colorscale": [
             [
              0,
              "#0d0887"
             ],
             [
              0.1111111111111111,
              "#46039f"
             ],
             [
              0.2222222222222222,
              "#7201a8"
             ],
             [
              0.3333333333333333,
              "#9c179e"
             ],
             [
              0.4444444444444444,
              "#bd3786"
             ],
             [
              0.5555555555555556,
              "#d8576b"
             ],
             [
              0.6666666666666666,
              "#ed7953"
             ],
             [
              0.7777777777777778,
              "#fb9f3a"
             ],
             [
              0.8888888888888888,
              "#fdca26"
             ],
             [
              1,
              "#f0f921"
             ]
            ],
            "type": "surface"
           }
          ],
          "table": [
           {
            "cells": {
             "fill": {
              "color": "#EBF0F8"
             },
             "line": {
              "color": "white"
             }
            },
            "header": {
             "fill": {
              "color": "#C8D4E3"
             },
             "line": {
              "color": "white"
             }
            },
            "type": "table"
           }
          ]
         },
         "layout": {
          "annotationdefaults": {
           "arrowcolor": "#2a3f5f",
           "arrowhead": 0,
           "arrowwidth": 1
          },
          "coloraxis": {
           "colorbar": {
            "outlinewidth": 0,
            "ticks": ""
           }
          },
          "colorscale": {
           "diverging": [
            [
             0,
             "#8e0152"
            ],
            [
             0.1,
             "#c51b7d"
            ],
            [
             0.2,
             "#de77ae"
            ],
            [
             0.3,
             "#f1b6da"
            ],
            [
             0.4,
             "#fde0ef"
            ],
            [
             0.5,
             "#f7f7f7"
            ],
            [
             0.6,
             "#e6f5d0"
            ],
            [
             0.7,
             "#b8e186"
            ],
            [
             0.8,
             "#7fbc41"
            ],
            [
             0.9,
             "#4d9221"
            ],
            [
             1,
             "#276419"
            ]
           ],
           "sequential": [
            [
             0,
             "#0d0887"
            ],
            [
             0.1111111111111111,
             "#46039f"
            ],
            [
             0.2222222222222222,
             "#7201a8"
            ],
            [
             0.3333333333333333,
             "#9c179e"
            ],
            [
             0.4444444444444444,
             "#bd3786"
            ],
            [
             0.5555555555555556,
             "#d8576b"
            ],
            [
             0.6666666666666666,
             "#ed7953"
            ],
            [
             0.7777777777777778,
             "#fb9f3a"
            ],
            [
             0.8888888888888888,
             "#fdca26"
            ],
            [
             1,
             "#f0f921"
            ]
           ],
           "sequentialminus": [
            [
             0,
             "#0d0887"
            ],
            [
             0.1111111111111111,
             "#46039f"
            ],
            [
             0.2222222222222222,
             "#7201a8"
            ],
            [
             0.3333333333333333,
             "#9c179e"
            ],
            [
             0.4444444444444444,
             "#bd3786"
            ],
            [
             0.5555555555555556,
             "#d8576b"
            ],
            [
             0.6666666666666666,
             "#ed7953"
            ],
            [
             0.7777777777777778,
             "#fb9f3a"
            ],
            [
             0.8888888888888888,
             "#fdca26"
            ],
            [
             1,
             "#f0f921"
            ]
           ]
          },
          "colorway": [
           "#636efa",
           "#EF553B",
           "#00cc96",
           "#ab63fa",
           "#FFA15A",
           "#19d3f3",
           "#FF6692",
           "#B6E880",
           "#FF97FF",
           "#FECB52"
          ],
          "font": {
           "color": "#2a3f5f"
          },
          "geo": {
           "bgcolor": "white",
           "lakecolor": "white",
           "landcolor": "#E5ECF6",
           "showlakes": true,
           "showland": true,
           "subunitcolor": "white"
          },
          "hoverlabel": {
           "align": "left"
          },
          "hovermode": "closest",
          "mapbox": {
           "style": "light"
          },
          "paper_bgcolor": "white",
          "plot_bgcolor": "#E5ECF6",
          "polar": {
           "angularaxis": {
            "gridcolor": "white",
            "linecolor": "white",
            "ticks": ""
           },
           "bgcolor": "#E5ECF6",
           "radialaxis": {
            "gridcolor": "white",
            "linecolor": "white",
            "ticks": ""
           }
          },
          "scene": {
           "xaxis": {
            "backgroundcolor": "#E5ECF6",
            "gridcolor": "white",
            "gridwidth": 2,
            "linecolor": "white",
            "showbackground": true,
            "ticks": "",
            "zerolinecolor": "white"
           },
           "yaxis": {
            "backgroundcolor": "#E5ECF6",
            "gridcolor": "white",
            "gridwidth": 2,
            "linecolor": "white",
            "showbackground": true,
            "ticks": "",
            "zerolinecolor": "white"
           },
           "zaxis": {
            "backgroundcolor": "#E5ECF6",
            "gridcolor": "white",
            "gridwidth": 2,
            "linecolor": "white",
            "showbackground": true,
            "ticks": "",
            "zerolinecolor": "white"
           }
          },
          "shapedefaults": {
           "line": {
            "color": "#2a3f5f"
           }
          },
          "ternary": {
           "aaxis": {
            "gridcolor": "white",
            "linecolor": "white",
            "ticks": ""
           },
           "baxis": {
            "gridcolor": "white",
            "linecolor": "white",
            "ticks": ""
           },
           "bgcolor": "#E5ECF6",
           "caxis": {
            "gridcolor": "white",
            "linecolor": "white",
            "ticks": ""
           }
          },
          "title": {
           "x": 0.05
          },
          "xaxis": {
           "automargin": true,
           "gridcolor": "white",
           "linecolor": "white",
           "ticks": "",
           "title": {
            "standoff": 15
           },
           "zerolinecolor": "white",
           "zerolinewidth": 2
          },
          "yaxis": {
           "automargin": true,
           "gridcolor": "white",
           "linecolor": "white",
           "ticks": "",
           "title": {
            "standoff": 15
           },
           "zerolinecolor": "white",
           "zerolinewidth": 2
          }
         }
        },
        "title": {
         "text": "Tópicos"
        },
        "xaxis": {
         "autorange": true,
         "range": [
          0.11454414696667616,
          0.5644558530333239
         ],
         "type": "linear",
         "zeroline": true
        },
        "yaxis": {
         "autorange": true,
         "range": [
          -0.4128600867678959,
          0.5558600867678959
         ],
         "type": "linear"
        }
       }
      },
      "image/png": "[encoded data removed]",
      "text/html": [
       "<div>                            <div id=\"160f1c59-ebbc-4c4d-825a-34d11edf0481\" class=\"plotly-graph-div\" style=\"height:525px; width:100%;\"></div>            <script type=\"text/javascript\">                require([\"plotly\"], function(Plotly) {                    window.PLOTLYENV=window.PLOTLYENV || {};                                    if (document.getElementById(\"160f1c59-ebbc-4c4d-825a-34d11edf0481\")) {                    Plotly.newPlot(                        \"160f1c59-ebbc-4c4d-825a-34d11edf0481\",                        [{\"marker\": {\"color\": [0, 1, 2, 3, 4, 5, 6, 7, 8, 9, 10, 11, 12, 13, 14, 15, 16, 17, 18, 19, 20, 21, 22, 23, 24, 25, 26, 27, 28], \"size\": 10}, \"mode\": \"markers+text\", \"text\": [\"doc0\", \"doc1\", \"doc2\", \"doc3\", \"doc4\", \"doc5\", \"doc6\", \"doc7\", \"doc8\", \"doc9\", \"doc10\", \"doc11\", \"doc12\", \"doc13\", \"doc14\", \"doc15\", \"doc16\", \"doc17\", \"doc18\", \"doc19\", \"doc20\", \"doc21\", \"doc22\", \"doc23\", \"doc24\", \"doc25\", \"doc26\", \"doc27\", \"doc28\"], \"textfont\": {\"color\": \"Blue\", \"size\": 10}, \"textposition\": \"middle left\", \"type\": \"scatter\", \"x\": [0.276, 0.254, 0.144, 0.255, 0.21, 0.381, 0.265, 0.272, 0.295, 0.257, 0.285, 0.201, 0.285, 0.27, 0.222, 0.291, 0.324, 0.372, 0.535, 0.491, 0.493, 0.493, 0.38, 0.485, 0.47, 0.489, 0.511, 0.45, 0.462], \"y\": [0.1, 0.253, 0.189, 0.219, 0.169, 0.485, 0.451, 0.419, 0.447, 0.365, 0.336, 0.233, 0.415, 0.401, 0.249, 0.405, -0.176, -0.187, -0.342, -0.283, -0.262, -0.315, -0.153, -0.104, -0.256, -0.222, -0.286, -0.213, -0.186]}],                        {\"template\": {\"data\": {\"bar\": [{\"error_x\": {\"color\": \"#2a3f5f\"}, \"error_y\": {\"color\": \"#2a3f5f\"}, \"marker\": {\"line\": {\"color\": \"#E5ECF6\", \"width\": 0.5}}, \"type\": \"bar\"}], \"barpolar\": [{\"marker\": {\"line\": {\"color\": \"#E5ECF6\", \"width\": 0.5}}, \"type\": \"barpolar\"}], \"carpet\": [{\"aaxis\": {\"endlinecolor\": \"#2a3f5f\", \"gridcolor\": \"white\", \"linecolor\": \"white\", \"minorgridcolor\": \"white\", \"startlinecolor\": \"#2a3f5f\"}, \"baxis\": {\"endlinecolor\": \"#2a3f5f\", \"gridcolor\": \"white\", \"linecolor\": \"white\", \"minorgridcolor\": \"white\", \"startlinecolor\": \"#2a3f5f\"}, \"type\": \"carpet\"}], \"choropleth\": [{\"colorbar\": {\"outlinewidth\": 0, \"ticks\": \"\"}, \"type\": \"choropleth\"}], \"contour\": [{\"colorbar\": {\"outlinewidth\": 0, \"ticks\": \"\"}, \"colorscale\": [[0.0, \"#0d0887\"], [0.1111111111111111, \"#46039f\"], [0.2222222222222222, \"#7201a8\"], [0.3333333333333333, \"#9c179e\"], [0.4444444444444444, \"#bd3786\"], [0.5555555555555556, \"#d8576b\"], [0.6666666666666666, \"#ed7953\"], [0.7777777777777778, \"#fb9f3a\"], [0.8888888888888888, \"#fdca26\"], [1.0, \"#f0f921\"]], \"type\": \"contour\"}], \"contourcarpet\": [{\"colorbar\": {\"outlinewidth\": 0, \"ticks\": \"\"}, \"type\": \"contourcarpet\"}], \"heatmap\": [{\"colorbar\": {\"outlinewidth\": 0, \"ticks\": \"\"}, \"colorscale\": [[0.0, \"#0d0887\"], [0.1111111111111111, \"#46039f\"], [0.2222222222222222, \"#7201a8\"], [0.3333333333333333, \"#9c179e\"], [0.4444444444444444, \"#bd3786\"], [0.5555555555555556, \"#d8576b\"], [0.6666666666666666, \"#ed7953\"], [0.7777777777777778, \"#fb9f3a\"], [0.8888888888888888, \"#fdca26\"], [1.0, \"#f0f921\"]], \"type\": \"heatmap\"}], \"heatmapgl\": [{\"colorbar\": {\"outlinewidth\": 0, \"ticks\": \"\"}, \"colorscale\": [[0.0, \"#0d0887\"], [0.1111111111111111, \"#46039f\"], [0.2222222222222222, \"#7201a8\"], [0.3333333333333333, \"#9c179e\"], [0.4444444444444444, \"#bd3786\"], [0.5555555555555556, \"#d8576b\"], [0.6666666666666666, \"#ed7953\"], [0.7777777777777778, \"#fb9f3a\"], [0.8888888888888888, \"#fdca26\"], [1.0, \"#f0f921\"]], \"type\": \"heatmapgl\"}], \"histogram\": [{\"marker\": {\"colorbar\": {\"outlinewidth\": 0, \"ticks\": \"\"}}, \"type\": \"histogram\"}], \"histogram2d\": [{\"colorbar\": {\"outlinewidth\": 0, \"ticks\": \"\"}, \"colorscale\": [[0.0, \"#0d0887\"], [0.1111111111111111, \"#46039f\"], [0.2222222222222222, \"#7201a8\"], [0.3333333333333333, \"#9c179e\"], [0.4444444444444444, \"#bd3786\"], [0.5555555555555556, \"#d8576b\"], [0.6666666666666666, \"#ed7953\"], [0.7777777777777778, \"#fb9f3a\"], [0.8888888888888888, \"#fdca26\"], [1.0, \"#f0f921\"]], \"type\": \"histogram2d\"}], \"histogram2dcontour\": [{\"colorbar\": {\"outlinewidth\": 0, \"ticks\": \"\"}, \"colorscale\": [[0.0, \"#0d0887\"], [0.1111111111111111, \"#46039f\"], [0.2222222222222222, \"#7201a8\"], [0.3333333333333333, \"#9c179e\"], [0.4444444444444444, \"#bd3786\"], [0.5555555555555556, \"#d8576b\"], [0.6666666666666666, \"#ed7953\"], [0.7777777777777778, \"#fb9f3a\"], [0.8888888888888888, \"#fdca26\"], [1.0, \"#f0f921\"]], \"type\": \"histogram2dcontour\"}], \"mesh3d\": [{\"colorbar\": {\"outlinewidth\": 0, \"ticks\": \"\"}, \"type\": \"mesh3d\"}], \"parcoords\": [{\"line\": {\"colorbar\": {\"outlinewidth\": 0, \"ticks\": \"\"}}, \"type\": \"parcoords\"}], \"pie\": [{\"automargin\": true, \"type\": \"pie\"}], \"scatter\": [{\"marker\": {\"colorbar\": {\"outlinewidth\": 0, \"ticks\": \"\"}}, \"type\": \"scatter\"}], \"scatter3d\": [{\"line\": {\"colorbar\": {\"outlinewidth\": 0, \"ticks\": \"\"}}, \"marker\": {\"colorbar\": {\"outlinewidth\": 0, \"ticks\": \"\"}}, \"type\": \"scatter3d\"}], \"scattercarpet\": [{\"marker\": {\"colorbar\": {\"outlinewidth\": 0, \"ticks\": \"\"}}, \"type\": \"scattercarpet\"}], \"scattergeo\": [{\"marker\": {\"colorbar\": {\"outlinewidth\": 0, \"ticks\": \"\"}}, \"type\": \"scattergeo\"}], \"scattergl\": [{\"marker\": {\"colorbar\": {\"outlinewidth\": 0, \"ticks\": \"\"}}, \"type\": \"scattergl\"}], \"scattermapbox\": [{\"marker\": {\"colorbar\": {\"outlinewidth\": 0, \"ticks\": \"\"}}, \"type\": \"scattermapbox\"}], \"scatterpolar\": [{\"marker\": {\"colorbar\": {\"outlinewidth\": 0, \"ticks\": \"\"}}, \"type\": \"scatterpolar\"}], \"scatterpolargl\": [{\"marker\": {\"colorbar\": {\"outlinewidth\": 0, \"ticks\": \"\"}}, \"type\": \"scatterpolargl\"}], \"scatterternary\": [{\"marker\": {\"colorbar\": {\"outlinewidth\": 0, \"ticks\": \"\"}}, \"type\": \"scatterternary\"}], \"surface\": [{\"colorbar\": {\"outlinewidth\": 0, \"ticks\": \"\"}, \"colorscale\": [[0.0, \"#0d0887\"], [0.1111111111111111, \"#46039f\"], [0.2222222222222222, \"#7201a8\"], [0.3333333333333333, \"#9c179e\"], [0.4444444444444444, \"#bd3786\"], [0.5555555555555556, \"#d8576b\"], [0.6666666666666666, \"#ed7953\"], [0.7777777777777778, \"#fb9f3a\"], [0.8888888888888888, \"#fdca26\"], [1.0, \"#f0f921\"]], \"type\": \"surface\"}], \"table\": [{\"cells\": {\"fill\": {\"color\": \"#EBF0F8\"}, \"line\": {\"color\": \"white\"}}, \"header\": {\"fill\": {\"color\": \"#C8D4E3\"}, \"line\": {\"color\": \"white\"}}, \"type\": \"table\"}]}, \"layout\": {\"annotationdefaults\": {\"arrowcolor\": \"#2a3f5f\", \"arrowhead\": 0, \"arrowwidth\": 1}, \"coloraxis\": {\"colorbar\": {\"outlinewidth\": 0, \"ticks\": \"\"}}, \"colorscale\": {\"diverging\": [[0, \"#8e0152\"], [0.1, \"#c51b7d\"], [0.2, \"#de77ae\"], [0.3, \"#f1b6da\"], [0.4, \"#fde0ef\"], [0.5, \"#f7f7f7\"], [0.6, \"#e6f5d0\"], [0.7, \"#b8e186\"], [0.8, \"#7fbc41\"], [0.9, \"#4d9221\"], [1, \"#276419\"]], \"sequential\": [[0.0, \"#0d0887\"], [0.1111111111111111, \"#46039f\"], [0.2222222222222222, \"#7201a8\"], [0.3333333333333333, \"#9c179e\"], [0.4444444444444444, \"#bd3786\"], [0.5555555555555556, \"#d8576b\"], [0.6666666666666666, \"#ed7953\"], [0.7777777777777778, \"#fb9f3a\"], [0.8888888888888888, \"#fdca26\"], [1.0, \"#f0f921\"]], \"sequentialminus\": [[0.0, \"#0d0887\"], [0.1111111111111111, \"#46039f\"], [0.2222222222222222, \"#7201a8\"], [0.3333333333333333, \"#9c179e\"], [0.4444444444444444, \"#bd3786\"], [0.5555555555555556, \"#d8576b\"], [0.6666666666666666, \"#ed7953\"], [0.7777777777777778, \"#fb9f3a\"], [0.8888888888888888, \"#fdca26\"], [1.0, \"#f0f921\"]]}, \"colorway\": [\"#636efa\", \"#EF553B\", \"#00cc96\", \"#ab63fa\", \"#FFA15A\", \"#19d3f3\", \"#FF6692\", \"#B6E880\", \"#FF97FF\", \"#FECB52\"], \"font\": {\"color\": \"#2a3f5f\"}, \"geo\": {\"bgcolor\": \"white\", \"lakecolor\": \"white\", \"landcolor\": \"#E5ECF6\", \"showlakes\": true, \"showland\": true, \"subunitcolor\": \"white\"}, \"hoverlabel\": {\"align\": \"left\"}, \"hovermode\": \"closest\", \"mapbox\": {\"style\": \"light\"}, \"paper_bgcolor\": \"white\", \"plot_bgcolor\": \"#E5ECF6\", \"polar\": {\"angularaxis\": {\"gridcolor\": \"white\", \"linecolor\": \"white\", \"ticks\": \"\"}, \"bgcolor\": \"#E5ECF6\", \"radialaxis\": {\"gridcolor\": \"white\", \"linecolor\": \"white\", \"ticks\": \"\"}}, \"scene\": {\"xaxis\": {\"backgroundcolor\": \"#E5ECF6\", \"gridcolor\": \"white\", \"gridwidth\": 2, \"linecolor\": \"white\", \"showbackground\": true, \"ticks\": \"\", \"zerolinecolor\": \"white\"}, \"yaxis\": {\"backgroundcolor\": \"#E5ECF6\", \"gridcolor\": \"white\", \"gridwidth\": 2, \"linecolor\": \"white\", \"showbackground\": true, \"ticks\": \"\", \"zerolinecolor\": \"white\"}, \"zaxis\": {\"backgroundcolor\": \"#E5ECF6\", \"gridcolor\": \"white\", \"gridwidth\": 2, \"linecolor\": \"white\", \"showbackground\": true, \"ticks\": \"\", \"zerolinecolor\": \"white\"}}, \"shapedefaults\": {\"line\": {\"color\": \"#2a3f5f\"}}, \"ternary\": {\"aaxis\": {\"gridcolor\": \"white\", \"linecolor\": \"white\", \"ticks\": \"\"}, \"baxis\": {\"gridcolor\": \"white\", \"linecolor\": \"white\", \"ticks\": \"\"}, \"bgcolor\": \"#E5ECF6\", \"caxis\": {\"gridcolor\": \"white\", \"linecolor\": \"white\", \"ticks\": \"\"}}, \"title\": {\"x\": 0.05}, \"xaxis\": {\"automargin\": true, \"gridcolor\": \"white\", \"linecolor\": \"white\", \"ticks\": \"\", \"title\": {\"standoff\": 15}, \"zerolinecolor\": \"white\", \"zerolinewidth\": 2}, \"yaxis\": {\"automargin\": true, \"gridcolor\": \"white\", \"linecolor\": \"white\", \"ticks\": \"\", \"title\": {\"standoff\": 15}, \"zerolinecolor\": \"white\", \"zerolinewidth\": 2}}}, \"title\": {\"text\": \"T\\u00f3picos\"}, \"xaxis\": {\"zeroline\": true}},                        {\"responsive\": true}                    ).then(function(){\n",
       "                            \n",
       "var gd = document.getElementById('160f1c59-ebbc-4c4d-825a-34d11edf0481');\n",
       "var x = new MutationObserver(function (mutations, observer) {{\n",
       "        var display = window.getComputedStyle(gd).display;\n",
       "        if (!display || display === 'none') {{\n",
       "            console.log([gd, 'removed!']);\n",
       "            Plotly.purge(gd);\n",
       "            observer.disconnect();\n",
       "        }}\n",
       "}});\n",
       "\n",
       "// Listen for the removal of the full notebook cells\n",
       "var notebookContainer = gd.closest('#notebook-container');\n",
       "if (notebookContainer) {{\n",
       "    x.observe(notebookContainer, {childList: true});\n",
       "}}\n",
       "\n",
       "// Listen for the clearing of the current output cell\n",
       "var outputEl = gd.closest('.output');\n",
       "if (outputEl) {{\n",
       "    x.observe(outputEl, {childList: true});\n",
       "}}\n",
       "\n",
       "                        })                };                });            </script>        </div>"
      ]
     },
     "metadata": {},
     "output_type": "display_data"
    }
   ],
   "source": [
    "fig = go.Figure()\n",
    "fig.add_trace(go.Scatter(\n",
    "    x = P[:,0], y = P[:,1],\n",
    "    mode ='markers+text',\n",
    "    text = ['doc' + str(i) for i in range(len(corpus))],\n",
    "    marker = dict(\n",
    "        size = 10,\n",
    "        color = list(range(29)),\n",
    "    ),\n",
    "    textposition=\"middle left\",\n",
    "    textfont=dict(\n",
    "        size=10,\n",
    "        color=\"Blue\"\n",
    "    )\n",
    "))\n",
    "fig.update_layout(title='Tópicos', xaxis_zeroline=True)\n",
    "\n",
    "fig.show()"
   ]
  },
  {
   "cell_type": "code",
   "execution_count": 103,
   "metadata": {},
   "outputs": [],
   "source": [
    "comp1, comp2 = svd.components_"
   ]
  },
  {
   "cell_type": "code",
   "execution_count": 104,
   "metadata": {},
   "outputs": [],
   "source": [
    "indices1 = np.argsort(comp1)"
   ]
  },
  {
   "cell_type": "code",
   "execution_count": 105,
   "metadata": {},
   "outputs": [
    {
     "data": {
      "text/plain": [
       "array([ 602,  549,  228, 1152,  856, 1422,  603, 1261, 1369,  315,  224,\n",
       "        200,  839,  949,  169,  409, 1141, 1712,  276,  227])"
      ]
     },
     "execution_count": 105,
     "metadata": {},
     "output_type": "execute_result"
    }
   ],
   "source": [
    "indices1 = indices1[::-1]\n",
    "indices1[:20]"
   ]
  },
  {
   "cell_type": "code",
   "execution_count": 106,
   "metadata": {},
   "outputs": [],
   "source": [
    "indices2 = np.argsort(comp2)\n",
    "indices2 = indices2[::-1]"
   ]
  },
  {
   "cell_type": "code",
   "execution_count": 107,
   "metadata": {},
   "outputs": [
    {
     "data": {
      "text/plain": [
       "array([ 276, 1422, 1639, 1809,  934, 1468, 1712,   56,  949,  939,  401,\n",
       "       1638, 1167, 1650,  169,  170, 1580,   93,  973,  932])"
      ]
     },
     "execution_count": 107,
     "metadata": {},
     "output_type": "execute_result"
    }
   ],
   "source": [
    "indices2[:20]"
   ]
  },
  {
   "cell_type": "code",
   "execution_count": 108,
   "metadata": {},
   "outputs": [
    {
     "name": "stdout",
     "output_type": "stream",
     "text": [
      "Dimensión 1:\n",
      "['dolar' 'deuda' 'bonos' 'millones' 'guzman' 'precios' 'dolares' 'oficial'\n",
      " 'pesos' 'central' 'blue' 'banco' 'gobierno' 'inflacion' 'aumento'\n",
      " 'contado' 'mep' 'suba' 'canasta' 'bono' 'trabajadores' 'puede' 'cambio'\n",
      " 'mayorista' 'economia' 'indec' 'brecha' 'salarios' 'fmi' 'mientras'\n",
      " 'dias' 'lunes' 'agosto' 'interesar' 'octubre' 'liquidacion' 'grandes'\n",
      " 'segun' 'devaluacion' 'sector' 'medidas' 'tambien' 'licitacion' 'liqui'\n",
      " 'productos' 'incremento' 'presion' 'mayor' 'semana' 'fondos']\n"
     ]
    }
   ],
   "source": [
    "dim1 = np.array(vectorizer.get_feature_names())[indices1]\n",
    "print(f'Dimensión 1:\\n{dim1[:50]}')"
   ]
  },
  {
   "cell_type": "code",
   "execution_count": 109,
   "metadata": {},
   "outputs": [
    {
     "name": "stdout",
     "output_type": "stream",
     "text": [
      "Dimensión 2:\n",
      "['canasta' 'precios' 'salarios' 'trabajadores' 'indec' 'productos' 'suba'\n",
      " 'agosto' 'inflacion' 'indice' 'construccion' 'salario' 'mismo' 'sector'\n",
      " 'aumento' 'aumentos' 'registro' 'alimentos' 'interanual' 'incremento'\n",
      " 'paritarias' 'basica' 'servicios' 'registrados' 'respecto' 'va'\n",
      " 'sectores' 'meses' 'periodo' 'septiembre' 'nacionales' 'fin' 'maximos'\n",
      " 'promedio' 'perdida' 'importados' 'alimentaria' 'octubre' 'registrado'\n",
      " 'tarifas' 'informe' 'relacion' 'publico' 'trabajo' 'segun' 'ipim'\n",
      " 'provincia' 'variacion' 'ultimo' 'bebidas']\n"
     ]
    }
   ],
   "source": [
    "dim2 = np.array(vectorizer.get_feature_names())[indices2]\n",
    "print(f'Dimensión 2:\\n{dim2[:50]}')"
   ]
  },
  {
   "cell_type": "code",
   "execution_count": null,
   "metadata": {},
   "outputs": [],
   "source": []
  }
 ],
 "metadata": {
  "kernelspec": {
   "display_name": "Python 3",
   "language": "python",
   "name": "python3"
  },
  "language_info": {
   "codemirror_mode": {
    "name": "ipython",
    "version": 3
   },
   "file_extension": ".py",
   "mimetype": "text/x-python",
   "name": "python",
   "nbconvert_exporter": "python",
   "pygments_lexer": "ipython3",
   "version": "3.7.7"
  }
 },
 "nbformat": 4,
 "nbformat_minor": 4
}
