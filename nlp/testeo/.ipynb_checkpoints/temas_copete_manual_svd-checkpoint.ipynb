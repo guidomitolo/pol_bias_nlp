{
 "cells": [
  {
   "cell_type": "code",
   "execution_count": 29,
   "metadata": {},
   "outputs": [],
   "source": [
    "import nltk\n",
    "import pandas as pd\n",
    "import numpy as np\n",
    "from nltk.tokenize import word_tokenize, sent_tokenize\n",
    "from nltk.corpus import stopwords\n",
    "from sklearn.feature_extraction.text import CountVectorizer"
   ]
  },
  {
   "cell_type": "code",
   "execution_count": 30,
   "metadata": {},
   "outputs": [],
   "source": [
    "df = pd.read_csv('../data/izq_econ_news.csv')"
   ]
  },
  {
   "cell_type": "code",
   "execution_count": 31,
   "metadata": {},
   "outputs": [
    {
     "data": {
      "text/plain": [
       "(144, 7)"
      ]
     },
     "execution_count": 31,
     "metadata": {},
     "output_type": "execute_result"
    }
   ],
   "source": [
    "df.shape"
   ]
  },
  {
   "cell_type": "code",
   "execution_count": 32,
   "metadata": {},
   "outputs": [
    {
     "data": {
      "text/html": [
       "<div>\n",
       "<style scoped>\n",
       "    .dataframe tbody tr th:only-of-type {\n",
       "        vertical-align: middle;\n",
       "    }\n",
       "\n",
       "    .dataframe tbody tr th {\n",
       "        vertical-align: top;\n",
       "    }\n",
       "\n",
       "    .dataframe thead th {\n",
       "        text-align: right;\n",
       "    }\n",
       "</style>\n",
       "<table border=\"1\" class=\"dataframe\">\n",
       "  <thead>\n",
       "    <tr style=\"text-align: right;\">\n",
       "      <th></th>\n",
       "      <th>Unnamed: 0</th>\n",
       "      <th>date</th>\n",
       "      <th>flyer</th>\n",
       "      <th>lead</th>\n",
       "      <th>headline</th>\n",
       "      <th>body</th>\n",
       "      <th>url</th>\n",
       "    </tr>\n",
       "  </thead>\n",
       "  <tbody>\n",
       "    <tr>\n",
       "      <th>0</th>\n",
       "      <td>0</td>\n",
       "      <td>\\nLunes 30 de noviembre</td>\n",
       "      <td>SENADO</td>\n",
       "      <td>El objetivo sería “proteger a la Argentina de ...</td>\n",
       "      <td>¿Qué dice la ley de “sostenibilidad de la deud...</td>\n",
       "      <td>Este lunes los senadores dieron media sanción ...</td>\n",
       "      <td>https://www.laizquierdadiario.com/Economia/Que...</td>\n",
       "    </tr>\n",
       "    <tr>\n",
       "      <th>1</th>\n",
       "      <td>1</td>\n",
       "      <td>\\nLunes 30 de noviembre</td>\n",
       "      <td>ECONOMÍA</td>\n",
       "      <td>El ministro de Trabajo, Claudio Moroni, confir...</td>\n",
       "      <td>Doble indemnización: pese a no frenar los desp...</td>\n",
       "      <td>El Gobierno nacional prorrogó hasta el próximo...</td>\n",
       "      <td>https://www.laizquierdadiario.com/Economia/Dob...</td>\n",
       "    </tr>\n",
       "    <tr>\n",
       "      <th>2</th>\n",
       "      <td>2</td>\n",
       "      <td>\\nDomingo 29 de noviembre</td>\n",
       "      <td>AJUSTAN AL SALARIO</td>\n",
       "      <td>El último tramo del aumento se pagaría con el ...</td>\n",
       "      <td>Paritarias estatales de Jujuy: ¿qué cambia con...</td>\n",
       "      <td>El viernes 27/11 por la tarde el Gobierno lueg...</td>\n",
       "      <td>https://www.laizquierdadiario.com/Economia/Par...</td>\n",
       "    </tr>\n",
       "    <tr>\n",
       "      <th>3</th>\n",
       "      <td>3</td>\n",
       "      <td>\\nSábado 28 de noviembre</td>\n",
       "      <td>JUBILACIONES</td>\n",
       "      <td>El proyecto del Ejecutivo para una nueva ley d...</td>\n",
       "      <td>Escándalo: el Gobierno quiere descontar a los ...</td>\n",
       "      <td>En un nuevo intento de robo a los jubilados, e...</td>\n",
       "      <td>https://www.laizquierdadiario.com/Economia/Esc...</td>\n",
       "    </tr>\n",
       "    <tr>\n",
       "      <th>4</th>\n",
       "      <td>4</td>\n",
       "      <td>\\nSábado 28 de noviembre</td>\n",
       "      <td>A PEDIDO DEL FMI</td>\n",
       "      <td>Se oficializa el ataque a las jubilaciones y p...</td>\n",
       "      <td>Ajuste a jubilados: el Gobierno envió al Congr...</td>\n",
       "      <td>El Ejecutivo giró este sábado al Congreso su p...</td>\n",
       "      <td>https://www.laizquierdadiario.com/Economia/Aju...</td>\n",
       "    </tr>\n",
       "  </tbody>\n",
       "</table>\n",
       "</div>"
      ],
      "text/plain": [
       "   Unnamed: 0                       date                flyer  \\\n",
       "0           0    \\nLunes 30 de noviembre               SENADO   \n",
       "1           1    \\nLunes 30 de noviembre             ECONOMÍA   \n",
       "2           2  \\nDomingo 29 de noviembre  AJUSTAN AL SALARIO    \n",
       "3           3   \\nSábado 28 de noviembre         JUBILACIONES   \n",
       "4           4   \\nSábado 28 de noviembre     A PEDIDO DEL FMI   \n",
       "\n",
       "                                                lead  \\\n",
       "0  El objetivo sería “proteger a la Argentina de ...   \n",
       "1  El ministro de Trabajo, Claudio Moroni, confir...   \n",
       "2  El último tramo del aumento se pagaría con el ...   \n",
       "3  El proyecto del Ejecutivo para una nueva ley d...   \n",
       "4  Se oficializa el ataque a las jubilaciones y p...   \n",
       "\n",
       "                                            headline  \\\n",
       "0  ¿Qué dice la ley de “sostenibilidad de la deud...   \n",
       "1  Doble indemnización: pese a no frenar los desp...   \n",
       "2  Paritarias estatales de Jujuy: ¿qué cambia con...   \n",
       "3  Escándalo: el Gobierno quiere descontar a los ...   \n",
       "4  Ajuste a jubilados: el Gobierno envió al Congr...   \n",
       "\n",
       "                                                body  \\\n",
       "0  Este lunes los senadores dieron media sanción ...   \n",
       "1  El Gobierno nacional prorrogó hasta el próximo...   \n",
       "2  El viernes 27/11 por la tarde el Gobierno lueg...   \n",
       "3  En un nuevo intento de robo a los jubilados, e...   \n",
       "4  El Ejecutivo giró este sábado al Congreso su p...   \n",
       "\n",
       "                                                 url  \n",
       "0  https://www.laizquierdadiario.com/Economia/Que...  \n",
       "1  https://www.laizquierdadiario.com/Economia/Dob...  \n",
       "2  https://www.laizquierdadiario.com/Economia/Par...  \n",
       "3  https://www.laizquierdadiario.com/Economia/Esc...  \n",
       "4  https://www.laizquierdadiario.com/Economia/Aju...  "
      ]
     },
     "execution_count": 32,
     "metadata": {},
     "output_type": "execute_result"
    }
   ],
   "source": [
    "df.head(5)"
   ]
  },
  {
   "cell_type": "code",
   "execution_count": 33,
   "metadata": {},
   "outputs": [
    {
     "data": {
      "text/plain": [
       "array(['SENADO', 'ECONOMÍA', 'AJUSTAN AL SALARIO ', 'JUBILACIONES',\n",
       "       'A PEDIDO DEL FMI', 'CONSUMO', 'CIERRE DE MINA AGUILAR S.A.',\n",
       "       'BRECHA CAMBIARIA', 'INFORME INDEC', 'OPTIMISMO EN LOS “MERCADOS”',\n",
       "       'INFORME INDEC', 'LEVANTARLA EN PALA',\n",
       "       'SEMANA ECONÓMICA EN CLAVES', 'INFLACIÓN', 'ESTADOS UNIDOS',\n",
       "       'INFLACION', 'SOCIEDAD', 'AJUSTE A PEDIDO DEL FMI ',\n",
       "       'TARIFAS E INFLACIÓN', 'CHANTAJE EMPRESARIAL ', 'TRIBUNA ABIERTA',\n",
       "       'TUCUMÁN', 'CUMBRE DEL G20', 'PRECIOS', 'COMUNICADO DE PRENSA',\n",
       "       'DOBLE DISCURSO', 'LICITACIÓN', 'AJUSTE',\n",
       "       'ESTIMACIÓN JUNTA INTERNA ATE INDEC', 'INFORME INDEC', 'AJUSTE',\n",
       "       'ANUNCIO OFICIAL', 'EXPORTACIONES', 'DÓLAR Y BRECHA',\n",
       "       'CELEBRAN LAS PATRONALES AGRARIAS', 'INFORME INDEC', 'AJUSTE',\n",
       "       'PRESUPUESTO 2021', 'MULTINACIONALES MINERAS',\n",
       "       'GANANCIA EMPRESARIA', 'NO AL AJUSTE A PEDIDO DEL FMI',\n",
       "       'COMERCIO INTERNACIONAL', 'MULTINACIONALES MINERAS', 'ACTUALIDAD',\n",
       "       'ENTREVISTA', 'CONSUMO MASIVO', 'PATEANDO EL TABLERO ',\n",
       "       'Decile Como Quieras Ep 29', 'SAQUEO A LA CLASE TRABAJADORA',\n",
       "       'ANUNCIÓ OBRAS', 'CONGRESO NACIONAL', 'TIPO DE CAMBIO',\n",
       "       'BENEFICIOS PARA EMPRESAS',\n",
       "       'En Economía, DECÍMELA FÁCIL - CAPÍTULO 4', 'SUBA DE PRECIOS',\n",
       "       'BCRA', 'GOLPE AL BOLSILLO', 'INFORME INDEC', 'NUEVA MEDIDA',\n",
       "       'TIPO DE CAMBIO', 'EN EL FONDO', 'FESTEJA EL CAMPO',\n",
       "       'TENSION CAMBIARIA', 'JUBILACIONES', 'Deuda municipal',\n",
       "       'ALERTA SPOILER', 'ENDEUDAMIENTO', 'MISIÓN DEL FONDO EN ARGENTINA',\n",
       "       'ROBO A LOS JUBILADOS ', 'BUEN FIN CDMX', 'DÉFICIT HABITACIONAL',\n",
       "       'TIPO DE CAMBIO', 'CRISIS', 'CRISIS Y AJUSTE', 'ALERTA SPOILER',\n",
       "       'DEUDA EXTERNA', 'PANDEMIA, CRISIS Y AJUSTE', 'JUBILACIONES',\n",
       "       'DEUDA EXTERNA', 'DEUDA IMPAGABLE', 'DEUDA EXTERNA',\n",
       "       'DEFENSA DEL SALARIO ', 'ACTUALIDAD', 'ENDEUDAMIENTO',\n",
       "       'NEGOCIOS MILLONARIOS ', 'PÉRDIDA DE RESERVAS DEL BANCO CENTRAL',\n",
       "       'ECONOMÍA', 'ECONOMÍA INTERNACIONAL', 'INFORME INDEC',\n",
       "       'REUNIÓN CON LOS DUEÑOS DEL PAÍS', 'CRISIS ECONOMICA',\n",
       "       'CONGRESO NACIONAL', 'ENDEUDAMIENTO',\n",
       "       'ELECCIONES EN ESTADOS UNIDOS', 'CRISIS CAMBIARIA',\n",
       "       'CRISIS ECONOMICA', 'ACTUALIDAD', 'COMUNICADO DE PRENSA',\n",
       "       'SEMANARIO IDEAS DE IZQUIERDA', 'DÓLAR',\n",
       "       'HAY PRIORIDADES Y PRIORIDADES', 'ECONOMIA',\n",
       "       'LO MISMO DE SIEMPRE ', 'RECLAMOS', 'BCRA', 'INFORME ESPECIAL',\n",
       "       'ANUNCIO OFICIAL', 'Deuda Pública ', 'INFORME INDEC', nan,\n",
       "       'TIPO DE CAMBIO', 'ENDEUDAMIENTO', 'PRIORIDADES',\n",
       "       'CRISIS INTERNACIONAL', 'CHARLAS ENTRE AMIGOS', 'CRISIS',\n",
       "       'DECLARACIONES', 'BONO ATADO AL DÓLAR', 'Panorama Provincial',\n",
       "       'ACTUALIDAD', 'ALERTA SPOILER', 'TENSION CAMBIARIA',\n",
       "       'ECONOMÍA INTERNACIONAL', 'CRISIS DEL DÓLAR ', 'CRISIS ECONOMICA',\n",
       "       'TENSION CAMBIARIA', 'ACTUALIDAD', nan, 'A 91 AÑOS',\n",
       "       'ESTIMACIÓN JUNTA INTERNA ATE INDEC', 'CONGRESO NACIONAL',\n",
       "       'ECONOMIA', 'TENSIÓN CAMBIARIA ', 'CRÍTICAS AL GOBIERNO',\n",
       "       'ACTUALIDAD', 'NEGOCIAN NUEVO ACUERDO', 'PRESUPUESTO 2021',\n",
       "       'INFORME INDEC ', 'MERCADO DE DIVISAS',\n",
       "       'ENCUENTRO IBEROAMERICANO CON EMPRESARIOS', 'MEDIDAS OFICIALES',\n",
       "       'INDEC', 'TENSIÓN CAMBIARIA', 'NUEVAS MEDIDAS OFICIALES '],\n",
       "      dtype=object)"
      ]
     },
     "execution_count": 33,
     "metadata": {},
     "output_type": "execute_result"
    }
   ],
   "source": [
    "df.flyer.values"
   ]
  },
  {
   "cell_type": "markdown",
   "metadata": {},
   "source": [
    "### Tópicos"
   ]
  },
  {
   "cell_type": "code",
   "execution_count": 34,
   "metadata": {},
   "outputs": [
    {
     "data": {
      "text/plain": [
       "(11, 7)"
      ]
     },
     "execution_count": 34,
     "metadata": {},
     "output_type": "execute_result"
    }
   ],
   "source": [
    "df[df.flyer.str.contains('DEUDA|Deuda|BONO', na=False)].shape"
   ]
  },
  {
   "cell_type": "code",
   "execution_count": 35,
   "metadata": {},
   "outputs": [
    {
     "data": {
      "text/plain": [
       "(13, 7)"
      ]
     },
     "execution_count": 35,
     "metadata": {},
     "output_type": "execute_result"
    }
   ],
   "source": [
    "df[df.flyer.str.contains('BRECHA|CAMBI|RESERV', na=False)].shape"
   ]
  },
  {
   "cell_type": "code",
   "execution_count": 36,
   "metadata": {},
   "outputs": [
    {
     "data": {
      "text/plain": [
       "(16, 7)"
      ]
     },
     "execution_count": 36,
     "metadata": {},
     "output_type": "execute_result"
    }
   ],
   "source": [
    "df[df.flyer.str.contains('INFLA|INDEC|SUBA|PRECIO', na=False)].shape"
   ]
  },
  {
   "cell_type": "code",
   "execution_count": 37,
   "metadata": {},
   "outputs": [
    {
     "data": {
      "text/plain": [
       "(5, 7)"
      ]
     },
     "execution_count": 37,
     "metadata": {},
     "output_type": "execute_result"
    }
   ],
   "source": [
    "df[df.flyer.str.contains('FMI|FONDO', na=False)].shape"
   ]
  },
  {
   "cell_type": "code",
   "execution_count": 38,
   "metadata": {},
   "outputs": [
    {
     "data": {
      "text/plain": [
       "(3, 7)"
      ]
     },
     "execution_count": 38,
     "metadata": {},
     "output_type": "execute_result"
    }
   ],
   "source": [
    "df[df.flyer.str.contains('SALARIO|OBRER|TRABAJA', na=False)].shape"
   ]
  },
  {
   "cell_type": "markdown",
   "metadata": {},
   "source": [
    "### Corpus (copetes)"
   ]
  },
  {
   "cell_type": "code",
   "execution_count": 39,
   "metadata": {},
   "outputs": [],
   "source": [
    "df_inflacion = df.loc[df.flyer.str.contains('INFLA|INDEC|SUBA|PRECIO', na=False),'lead'].values"
   ]
  },
  {
   "cell_type": "code",
   "execution_count": 40,
   "metadata": {},
   "outputs": [],
   "source": [
    "df_cambio = df.loc[df.flyer.str.contains('BRECHA|CAMBI|RESERV', na=False), 'lead'].values"
   ]
  },
  {
   "cell_type": "code",
   "execution_count": 41,
   "metadata": {},
   "outputs": [
    {
     "data": {
      "text/plain": [
       "29"
      ]
     },
     "execution_count": 41,
     "metadata": {},
     "output_type": "execute_result"
    }
   ],
   "source": [
    "corpus = list(df_inflacion) + list(df_cambio)\n",
    "len(corpus)"
   ]
  },
  {
   "cell_type": "code",
   "execution_count": 42,
   "metadata": {},
   "outputs": [
    {
     "data": {
      "text/plain": [
       "['Las exportaciones se derrumbaron un 21,6 % respecto al mismo mes del año anterior, la baja más pronunciada de los últimos cinco años. Los exportadores esperan un tipo de cambio más alto.',\n",
       " 'El Estimador Mensual de la Actividad Económica (EMAE) acumula una baja de 11,9 % en los nueve meses del año. Se estima que la economía caerá este año un 11,6 % interanual.',\n",
       " 'Será de un 7% y se aplicará a las marcas que fabrica la tabacalera British American Tobacco (BAT), como Lucky Strike.',\n",
       " 'El resto de las cadenas ajustarán sus valores en las próximas horas. Esto afectará a la ya acelerada inflación.',\n",
       " 'Es de un 2,5 % a partir de las 0 de hoy. Desde agosto, el liberal Guillermo Nielsen ajusta cada mes un poco más el precio en surtidores. Efecto arrastre en la economía y más inflación.',\n",
       " 'El poder de compra del salario cae con la suba de precios. Los acuerdos paritarios cierran por debajo de la inflación que será del 35,8 %, según estiman las consultoras. Sectores de trabajadores se movilizan en reclamo de recomposición salarial.',\n",
       " 'Es el monto de una canasta de consumos mínimos en octubre para un hogar de dos adultos mayores y dos menores, según publicó la Junta Interna de ATE Indec. Este año volverá a caer el poder adquisitivo de los salarios.',\n",
       " 'Es nivel más alto en lo que va del año y pone presión sobre la inflación de noviembre y diciembre. Los tarifazos que se vienen acelerarán aún más los precios.',\n",
       " 'El Indec informó que la Canasta Básica Total, que incluye alimentos, indumentaria y transporte, registró en octubre un incremento de 5,7 % respecto al mes anterior. La inflación se acelera, y se profundiza la caída del poder de compra de los salarios.',\n",
       " 'Mientras el Gobierno provincial se resiste a la apertura de paritarias salariales para miles de trabajadores y trabajadoras estatales, la DEIE informó este jueves que la inflación de octubre fue del 3,6 %. Los alimentos y la indumentaria fueron los rubros que más aumentaron',\n",
       " 'Es el registro más alto del año. En lo que va de 2020, según el Indec, el índice de precios al consumidor subió 26,9 %. El Gobierno negoció con alimenticias y supermercados para eliminar de la lista de Precios Máximos un importante número de artículos. Un golpe al bolsillo.',\n",
       " 'La construcción se desplomó 3,9 % en septiembre y la actividad industrial mejoró 3,4 %. La reapertura de actividades permitió a los sectores recuperar parte de la contracción de los últimos meses. En estos meses hubo un descenso del empleo.',\n",
       " 'El Indec publicó el índice de salarios de agosto que para el total registrado mostró una suba de 1,6 % respecto al mes anterior cuando la inflación de ese mes fue del 2,7 %. La mayor caída en agosto interanual correspondió a los salarios de los trabajadores del sector público.',\n",
       " 'Los trabajadores del Indec calcularon una canasta de consumos mínimos en septiembre para un hogar de dos adultos mayores y dos menores. Denuncian la paritaria miserable para los trabajadores estatales.',\n",
       " 'En los primeros ocho meses del año la economía acumuló un derrumbe de 12,5 % con relación al mismo período de 2019. Con respecto al mes previo, hubo una leve suba del 1,1 %.',\n",
       " 'Mientras los materiales para la construcción crecieron un 5,6 %, los salarios sólo un 0,6 %. El Gobierno había anunciado un programa de Precios Máximos para el sector que no logró evitar la suba.',\n",
       " 'La CNV anunció que reduce de tres a dos días hábiles la cantidad de días que el inversor tiene que tener un bono en su poder una vez que lo compra en pesos y antes de venderlo en dólares.',\n",
       " 'A pesar de las medidas pro mercado de Guzmán, el dólar paralelo abandonó la paz cambiaria. El “contado con liqui” escaló 1,3% y la brecha se mantuvo en 87,5%. El dólar MEP subió un 1,2% a $145,83, manteniendo una brecha de 82%.',\n",
       " 'Aumenta cinco pesos y es la tercera sesión consecutiva en alza. Los dólares financieros arrancaron al alza. El dólar ahorro supera los $ 140.',\n",
       " 'El dólar paralelo subió cinco pesos (+3,1 %) este jueves. Luego de un rebote de casi 9 % en la rueda anterior, el billete aún mantiene una baja de 28 pesos o 14,4 % desde el récord de $ 195 alcanzado el pasado 23 de octubre.',\n",
       " 'El dólar Contado con liquidación cerró en $149,58 y el MEP finalizó en $145,54. Las medidas para bajar las cotizaciones paralelas encontraron un límite.',\n",
       " 'Guzmán logró reducir la brecha cambiaria con mayor endeudamiento. Este lunes, el Ministerio de Economía canjeó títulos en pesos por dos bonos nominados en dólares que benefició a los fondos de inversión Pimco y Templeton.',\n",
       " 'Mientras el “súper cepo” cerró más el grifo al pequeño ahorrista que quiere protegerse frente a la inflación, el oficialismo preserva los dólares para pagar la fraudulenta deuda con el Fondo.',\n",
       " 'El campo liquidó poco más de U$S 1.700 millones en octubre, U$S 40 millones menos que en septiembre. La medida del Gobierno no logró su objetivo y el faltante de divisas se agrava.',\n",
       " 'El blue desciende hasta los $ 175 y el Banco Central aumentó los rendimientos de los pases hasta un punto y medio. El plan de Guzmán para cerrar la brecha cambiaria es un festival de bonos: más deuda.',\n",
       " 'También se emitirán bonos ligados a la inflación y a la tasa de interés. Buscan colocar el equivalente a U$S 1.000 millones y $ 60.000 millones. Ante la acumulación de fracasos ¿Esta medida podrá calmar a los especuladores?',\n",
       " 'Bajó $ 5 en relación al viernes y la brecha con el oficial se mantiene cerca de valores récord, en 143 %. El contado con liqui también descendió, cayendo a $ 165 pesos. Este martes el Gobierno realizará nuevos anuncios.',\n",
       " 'En la semana, acumula así una suba de $ 14 y mantiene una brecha de mayor al 147 % con el dólar mayorista. En tanto, las cotizaciones financieras, contado con liquidación y MEP, descienden a $ 171,96, y $ 156,99, respectivamente.',\n",
       " 'Este miércoles anota una nueva jornada de subas, el dólar blue que llegó a $ 183, se disparó el “contado con liqui” más de un 4 % a $ 179,32, y el MEP cerró a $ 169. Pese a las concesiones de Guzmán la brecha con el dólar oficial mayorista se amplía encendiendo las alarmas.']"
      ]
     },
     "execution_count": 42,
     "metadata": {},
     "output_type": "execute_result"
    }
   ],
   "source": [
    "corpus"
   ]
  },
  {
   "cell_type": "markdown",
   "metadata": {},
   "source": [
    "### Prueba nro. 1 - Vocabulario alfanumérico (sin stopwords) + Tf-IDf suavizado parcial"
   ]
  },
  {
   "cell_type": "markdown",
   "metadata": {},
   "source": [
    "#### Tokenización Manual (alfanumérica)"
   ]
  },
  {
   "cell_type": "code",
   "execution_count": 283,
   "metadata": {},
   "outputs": [],
   "source": [
    "def tokenizer(texto):\n",
    "    \n",
    "    import re\n",
    "    import unidecode\n",
    "\n",
    "    stopwords_sp = stopwords.words('spanish')\n",
    "        \n",
    "    alphanumeric = re.sub(r'([^\\s\\w]|_)+', '', texto).lower()\n",
    "    no_accents = unidecode.unidecode(alphanumeric)\n",
    "    \n",
    "    tockens = word_tokenize(no_accents)\n",
    "    \n",
    "    tockens_clean = [tocken for tocken in tockens if tocken not in stopwords_sp]\n",
    "    \n",
    "    terminos = tockens_clean\n",
    "\n",
    "    return terminos"
   ]
  },
  {
   "cell_type": "code",
   "execution_count": 284,
   "metadata": {},
   "outputs": [
    {
     "data": {
      "text/plain": [
       "29"
      ]
     },
     "execution_count": 284,
     "metadata": {},
     "output_type": "execute_result"
    }
   ],
   "source": [
    "tokenized = [tokenizer(documento) for documento in corpus]\n",
    "len(tokenized)"
   ]
  },
  {
   "cell_type": "code",
   "execution_count": 285,
   "metadata": {},
   "outputs": [
    {
     "data": {
      "text/plain": [
       "385"
      ]
     },
     "execution_count": 285,
     "metadata": {},
     "output_type": "execute_result"
    }
   ],
   "source": [
    "vocabulario = sorted(list(set([word for group in tokenized for word in group])))\n",
    "len(vocabulario)"
   ]
  },
  {
   "cell_type": "markdown",
   "metadata": {},
   "source": [
    "#### Vectorización"
   ]
  },
  {
   "cell_type": "code",
   "execution_count": 286,
   "metadata": {},
   "outputs": [],
   "source": [
    "matriz = np.zeros(shape = (len(tokenized), len(vocabulario)), dtype='int')"
   ]
  },
  {
   "cell_type": "code",
   "execution_count": 287,
   "metadata": {},
   "outputs": [
    {
     "data": {
      "text/plain": [
       "162"
      ]
     },
     "execution_count": 287,
     "metadata": {},
     "output_type": "execute_result"
    }
   ],
   "source": [
    "# hallar ubicación del término en el vocabulario\n",
    "vocabulario.index('dolar')"
   ]
  },
  {
   "cell_type": "code",
   "execution_count": 288,
   "metadata": {},
   "outputs": [],
   "source": [
    "for i, documento in enumerate(tokenized):\n",
    "    for termino in documento:\n",
    "        matriz[i, vocabulario.index(termino)] =+ 1"
   ]
  },
  {
   "cell_type": "code",
   "execution_count": 289,
   "metadata": {},
   "outputs": [
    {
     "data": {
      "text/plain": [
       "array([[0, 0, 0, ..., 0, 0, 0],\n",
       "       [0, 0, 0, ..., 0, 0, 0],\n",
       "       [0, 0, 0, ..., 0, 0, 0],\n",
       "       ...,\n",
       "       [0, 0, 0, ..., 0, 1, 0],\n",
       "       [0, 0, 0, ..., 0, 0, 0],\n",
       "       [0, 0, 0, ..., 0, 0, 0]])"
      ]
     },
     "execution_count": 289,
     "metadata": {},
     "output_type": "execute_result"
    }
   ],
   "source": [
    "matriz"
   ]
  },
  {
   "cell_type": "code",
   "execution_count": 290,
   "metadata": {},
   "outputs": [],
   "source": [
    "df_dummies = pd.DataFrame(matriz, columns=vocabulario, index = ['doc' + str(i + 1) for i in range(len(tokenized))] )"
   ]
  },
  {
   "cell_type": "code",
   "execution_count": 291,
   "metadata": {},
   "outputs": [
    {
     "data": {
      "text/html": [
       "<div>\n",
       "<style scoped>\n",
       "    .dataframe tbody tr th:only-of-type {\n",
       "        vertical-align: middle;\n",
       "    }\n",
       "\n",
       "    .dataframe tbody tr th {\n",
       "        vertical-align: top;\n",
       "    }\n",
       "\n",
       "    .dataframe thead th {\n",
       "        text-align: right;\n",
       "    }\n",
       "</style>\n",
       "<table border=\"1\" class=\"dataframe\">\n",
       "  <thead>\n",
       "    <tr style=\"text-align: right;\">\n",
       "      <th></th>\n",
       "      <th>0</th>\n",
       "      <th>06</th>\n",
       "      <th>1000</th>\n",
       "      <th>11</th>\n",
       "      <th>116</th>\n",
       "      <th>119</th>\n",
       "      <th>12</th>\n",
       "      <th>125</th>\n",
       "      <th>13</th>\n",
       "      <th>14</th>\n",
       "      <th>...</th>\n",
       "      <th>tres</th>\n",
       "      <th>ultimos</th>\n",
       "      <th>us</th>\n",
       "      <th>va</th>\n",
       "      <th>valores</th>\n",
       "      <th>venderlo</th>\n",
       "      <th>vez</th>\n",
       "      <th>vienen</th>\n",
       "      <th>viernes</th>\n",
       "      <th>volvera</th>\n",
       "    </tr>\n",
       "  </thead>\n",
       "  <tbody>\n",
       "    <tr>\n",
       "      <th>doc1</th>\n",
       "      <td>0</td>\n",
       "      <td>0</td>\n",
       "      <td>0</td>\n",
       "      <td>0</td>\n",
       "      <td>0</td>\n",
       "      <td>0</td>\n",
       "      <td>0</td>\n",
       "      <td>0</td>\n",
       "      <td>0</td>\n",
       "      <td>0</td>\n",
       "      <td>...</td>\n",
       "      <td>0</td>\n",
       "      <td>1</td>\n",
       "      <td>0</td>\n",
       "      <td>0</td>\n",
       "      <td>0</td>\n",
       "      <td>0</td>\n",
       "      <td>0</td>\n",
       "      <td>0</td>\n",
       "      <td>0</td>\n",
       "      <td>0</td>\n",
       "    </tr>\n",
       "    <tr>\n",
       "      <th>doc2</th>\n",
       "      <td>0</td>\n",
       "      <td>0</td>\n",
       "      <td>0</td>\n",
       "      <td>0</td>\n",
       "      <td>1</td>\n",
       "      <td>1</td>\n",
       "      <td>0</td>\n",
       "      <td>0</td>\n",
       "      <td>0</td>\n",
       "      <td>0</td>\n",
       "      <td>...</td>\n",
       "      <td>0</td>\n",
       "      <td>0</td>\n",
       "      <td>0</td>\n",
       "      <td>0</td>\n",
       "      <td>0</td>\n",
       "      <td>0</td>\n",
       "      <td>0</td>\n",
       "      <td>0</td>\n",
       "      <td>0</td>\n",
       "      <td>0</td>\n",
       "    </tr>\n",
       "    <tr>\n",
       "      <th>doc3</th>\n",
       "      <td>0</td>\n",
       "      <td>0</td>\n",
       "      <td>0</td>\n",
       "      <td>0</td>\n",
       "      <td>0</td>\n",
       "      <td>0</td>\n",
       "      <td>0</td>\n",
       "      <td>0</td>\n",
       "      <td>0</td>\n",
       "      <td>0</td>\n",
       "      <td>...</td>\n",
       "      <td>0</td>\n",
       "      <td>0</td>\n",
       "      <td>0</td>\n",
       "      <td>0</td>\n",
       "      <td>0</td>\n",
       "      <td>0</td>\n",
       "      <td>0</td>\n",
       "      <td>0</td>\n",
       "      <td>0</td>\n",
       "      <td>0</td>\n",
       "    </tr>\n",
       "    <tr>\n",
       "      <th>doc4</th>\n",
       "      <td>0</td>\n",
       "      <td>0</td>\n",
       "      <td>0</td>\n",
       "      <td>0</td>\n",
       "      <td>0</td>\n",
       "      <td>0</td>\n",
       "      <td>0</td>\n",
       "      <td>0</td>\n",
       "      <td>0</td>\n",
       "      <td>0</td>\n",
       "      <td>...</td>\n",
       "      <td>0</td>\n",
       "      <td>0</td>\n",
       "      <td>0</td>\n",
       "      <td>0</td>\n",
       "      <td>1</td>\n",
       "      <td>0</td>\n",
       "      <td>0</td>\n",
       "      <td>0</td>\n",
       "      <td>0</td>\n",
       "      <td>0</td>\n",
       "    </tr>\n",
       "    <tr>\n",
       "      <th>doc5</th>\n",
       "      <td>1</td>\n",
       "      <td>0</td>\n",
       "      <td>0</td>\n",
       "      <td>0</td>\n",
       "      <td>0</td>\n",
       "      <td>0</td>\n",
       "      <td>0</td>\n",
       "      <td>0</td>\n",
       "      <td>0</td>\n",
       "      <td>0</td>\n",
       "      <td>...</td>\n",
       "      <td>0</td>\n",
       "      <td>0</td>\n",
       "      <td>0</td>\n",
       "      <td>0</td>\n",
       "      <td>0</td>\n",
       "      <td>0</td>\n",
       "      <td>0</td>\n",
       "      <td>0</td>\n",
       "      <td>0</td>\n",
       "      <td>0</td>\n",
       "    </tr>\n",
       "    <tr>\n",
       "      <th>doc6</th>\n",
       "      <td>0</td>\n",
       "      <td>0</td>\n",
       "      <td>0</td>\n",
       "      <td>0</td>\n",
       "      <td>0</td>\n",
       "      <td>0</td>\n",
       "      <td>0</td>\n",
       "      <td>0</td>\n",
       "      <td>0</td>\n",
       "      <td>0</td>\n",
       "      <td>...</td>\n",
       "      <td>0</td>\n",
       "      <td>0</td>\n",
       "      <td>0</td>\n",
       "      <td>0</td>\n",
       "      <td>0</td>\n",
       "      <td>0</td>\n",
       "      <td>0</td>\n",
       "      <td>0</td>\n",
       "      <td>0</td>\n",
       "      <td>0</td>\n",
       "    </tr>\n",
       "    <tr>\n",
       "      <th>doc7</th>\n",
       "      <td>0</td>\n",
       "      <td>0</td>\n",
       "      <td>0</td>\n",
       "      <td>0</td>\n",
       "      <td>0</td>\n",
       "      <td>0</td>\n",
       "      <td>0</td>\n",
       "      <td>0</td>\n",
       "      <td>0</td>\n",
       "      <td>0</td>\n",
       "      <td>...</td>\n",
       "      <td>0</td>\n",
       "      <td>0</td>\n",
       "      <td>0</td>\n",
       "      <td>0</td>\n",
       "      <td>0</td>\n",
       "      <td>0</td>\n",
       "      <td>0</td>\n",
       "      <td>0</td>\n",
       "      <td>0</td>\n",
       "      <td>1</td>\n",
       "    </tr>\n",
       "    <tr>\n",
       "      <th>doc8</th>\n",
       "      <td>0</td>\n",
       "      <td>0</td>\n",
       "      <td>0</td>\n",
       "      <td>0</td>\n",
       "      <td>0</td>\n",
       "      <td>0</td>\n",
       "      <td>0</td>\n",
       "      <td>0</td>\n",
       "      <td>0</td>\n",
       "      <td>0</td>\n",
       "      <td>...</td>\n",
       "      <td>0</td>\n",
       "      <td>0</td>\n",
       "      <td>0</td>\n",
       "      <td>1</td>\n",
       "      <td>0</td>\n",
       "      <td>0</td>\n",
       "      <td>0</td>\n",
       "      <td>1</td>\n",
       "      <td>0</td>\n",
       "      <td>0</td>\n",
       "    </tr>\n",
       "    <tr>\n",
       "      <th>doc9</th>\n",
       "      <td>0</td>\n",
       "      <td>0</td>\n",
       "      <td>0</td>\n",
       "      <td>0</td>\n",
       "      <td>0</td>\n",
       "      <td>0</td>\n",
       "      <td>0</td>\n",
       "      <td>0</td>\n",
       "      <td>0</td>\n",
       "      <td>0</td>\n",
       "      <td>...</td>\n",
       "      <td>0</td>\n",
       "      <td>0</td>\n",
       "      <td>0</td>\n",
       "      <td>0</td>\n",
       "      <td>0</td>\n",
       "      <td>0</td>\n",
       "      <td>0</td>\n",
       "      <td>0</td>\n",
       "      <td>0</td>\n",
       "      <td>0</td>\n",
       "    </tr>\n",
       "    <tr>\n",
       "      <th>doc10</th>\n",
       "      <td>0</td>\n",
       "      <td>0</td>\n",
       "      <td>0</td>\n",
       "      <td>0</td>\n",
       "      <td>0</td>\n",
       "      <td>0</td>\n",
       "      <td>0</td>\n",
       "      <td>0</td>\n",
       "      <td>0</td>\n",
       "      <td>0</td>\n",
       "      <td>...</td>\n",
       "      <td>0</td>\n",
       "      <td>0</td>\n",
       "      <td>0</td>\n",
       "      <td>0</td>\n",
       "      <td>0</td>\n",
       "      <td>0</td>\n",
       "      <td>0</td>\n",
       "      <td>0</td>\n",
       "      <td>0</td>\n",
       "      <td>0</td>\n",
       "    </tr>\n",
       "    <tr>\n",
       "      <th>doc11</th>\n",
       "      <td>0</td>\n",
       "      <td>0</td>\n",
       "      <td>0</td>\n",
       "      <td>0</td>\n",
       "      <td>0</td>\n",
       "      <td>0</td>\n",
       "      <td>0</td>\n",
       "      <td>0</td>\n",
       "      <td>0</td>\n",
       "      <td>0</td>\n",
       "      <td>...</td>\n",
       "      <td>0</td>\n",
       "      <td>0</td>\n",
       "      <td>0</td>\n",
       "      <td>1</td>\n",
       "      <td>0</td>\n",
       "      <td>0</td>\n",
       "      <td>0</td>\n",
       "      <td>0</td>\n",
       "      <td>0</td>\n",
       "      <td>0</td>\n",
       "    </tr>\n",
       "    <tr>\n",
       "      <th>doc12</th>\n",
       "      <td>0</td>\n",
       "      <td>0</td>\n",
       "      <td>0</td>\n",
       "      <td>0</td>\n",
       "      <td>0</td>\n",
       "      <td>0</td>\n",
       "      <td>0</td>\n",
       "      <td>0</td>\n",
       "      <td>0</td>\n",
       "      <td>0</td>\n",
       "      <td>...</td>\n",
       "      <td>0</td>\n",
       "      <td>1</td>\n",
       "      <td>0</td>\n",
       "      <td>0</td>\n",
       "      <td>0</td>\n",
       "      <td>0</td>\n",
       "      <td>0</td>\n",
       "      <td>0</td>\n",
       "      <td>0</td>\n",
       "      <td>0</td>\n",
       "    </tr>\n",
       "    <tr>\n",
       "      <th>doc13</th>\n",
       "      <td>0</td>\n",
       "      <td>0</td>\n",
       "      <td>0</td>\n",
       "      <td>0</td>\n",
       "      <td>0</td>\n",
       "      <td>0</td>\n",
       "      <td>0</td>\n",
       "      <td>0</td>\n",
       "      <td>0</td>\n",
       "      <td>0</td>\n",
       "      <td>...</td>\n",
       "      <td>0</td>\n",
       "      <td>0</td>\n",
       "      <td>0</td>\n",
       "      <td>0</td>\n",
       "      <td>0</td>\n",
       "      <td>0</td>\n",
       "      <td>0</td>\n",
       "      <td>0</td>\n",
       "      <td>0</td>\n",
       "      <td>0</td>\n",
       "    </tr>\n",
       "    <tr>\n",
       "      <th>doc14</th>\n",
       "      <td>0</td>\n",
       "      <td>0</td>\n",
       "      <td>0</td>\n",
       "      <td>0</td>\n",
       "      <td>0</td>\n",
       "      <td>0</td>\n",
       "      <td>0</td>\n",
       "      <td>0</td>\n",
       "      <td>0</td>\n",
       "      <td>0</td>\n",
       "      <td>...</td>\n",
       "      <td>0</td>\n",
       "      <td>0</td>\n",
       "      <td>0</td>\n",
       "      <td>0</td>\n",
       "      <td>0</td>\n",
       "      <td>0</td>\n",
       "      <td>0</td>\n",
       "      <td>0</td>\n",
       "      <td>0</td>\n",
       "      <td>0</td>\n",
       "    </tr>\n",
       "    <tr>\n",
       "      <th>doc15</th>\n",
       "      <td>0</td>\n",
       "      <td>0</td>\n",
       "      <td>0</td>\n",
       "      <td>1</td>\n",
       "      <td>0</td>\n",
       "      <td>0</td>\n",
       "      <td>0</td>\n",
       "      <td>1</td>\n",
       "      <td>0</td>\n",
       "      <td>0</td>\n",
       "      <td>...</td>\n",
       "      <td>0</td>\n",
       "      <td>0</td>\n",
       "      <td>0</td>\n",
       "      <td>0</td>\n",
       "      <td>0</td>\n",
       "      <td>0</td>\n",
       "      <td>0</td>\n",
       "      <td>0</td>\n",
       "      <td>0</td>\n",
       "      <td>0</td>\n",
       "    </tr>\n",
       "    <tr>\n",
       "      <th>doc16</th>\n",
       "      <td>0</td>\n",
       "      <td>1</td>\n",
       "      <td>0</td>\n",
       "      <td>0</td>\n",
       "      <td>0</td>\n",
       "      <td>0</td>\n",
       "      <td>0</td>\n",
       "      <td>0</td>\n",
       "      <td>0</td>\n",
       "      <td>0</td>\n",
       "      <td>...</td>\n",
       "      <td>0</td>\n",
       "      <td>0</td>\n",
       "      <td>0</td>\n",
       "      <td>0</td>\n",
       "      <td>0</td>\n",
       "      <td>0</td>\n",
       "      <td>0</td>\n",
       "      <td>0</td>\n",
       "      <td>0</td>\n",
       "      <td>0</td>\n",
       "    </tr>\n",
       "    <tr>\n",
       "      <th>doc17</th>\n",
       "      <td>0</td>\n",
       "      <td>0</td>\n",
       "      <td>0</td>\n",
       "      <td>0</td>\n",
       "      <td>0</td>\n",
       "      <td>0</td>\n",
       "      <td>0</td>\n",
       "      <td>0</td>\n",
       "      <td>0</td>\n",
       "      <td>0</td>\n",
       "      <td>...</td>\n",
       "      <td>1</td>\n",
       "      <td>0</td>\n",
       "      <td>0</td>\n",
       "      <td>0</td>\n",
       "      <td>0</td>\n",
       "      <td>1</td>\n",
       "      <td>1</td>\n",
       "      <td>0</td>\n",
       "      <td>0</td>\n",
       "      <td>0</td>\n",
       "    </tr>\n",
       "    <tr>\n",
       "      <th>doc18</th>\n",
       "      <td>0</td>\n",
       "      <td>0</td>\n",
       "      <td>0</td>\n",
       "      <td>0</td>\n",
       "      <td>0</td>\n",
       "      <td>0</td>\n",
       "      <td>1</td>\n",
       "      <td>0</td>\n",
       "      <td>1</td>\n",
       "      <td>0</td>\n",
       "      <td>...</td>\n",
       "      <td>0</td>\n",
       "      <td>0</td>\n",
       "      <td>0</td>\n",
       "      <td>0</td>\n",
       "      <td>0</td>\n",
       "      <td>0</td>\n",
       "      <td>0</td>\n",
       "      <td>0</td>\n",
       "      <td>0</td>\n",
       "      <td>0</td>\n",
       "    </tr>\n",
       "    <tr>\n",
       "      <th>doc19</th>\n",
       "      <td>0</td>\n",
       "      <td>0</td>\n",
       "      <td>0</td>\n",
       "      <td>0</td>\n",
       "      <td>0</td>\n",
       "      <td>0</td>\n",
       "      <td>0</td>\n",
       "      <td>0</td>\n",
       "      <td>0</td>\n",
       "      <td>0</td>\n",
       "      <td>...</td>\n",
       "      <td>0</td>\n",
       "      <td>0</td>\n",
       "      <td>0</td>\n",
       "      <td>0</td>\n",
       "      <td>0</td>\n",
       "      <td>0</td>\n",
       "      <td>0</td>\n",
       "      <td>0</td>\n",
       "      <td>0</td>\n",
       "      <td>0</td>\n",
       "    </tr>\n",
       "    <tr>\n",
       "      <th>doc20</th>\n",
       "      <td>0</td>\n",
       "      <td>0</td>\n",
       "      <td>0</td>\n",
       "      <td>0</td>\n",
       "      <td>0</td>\n",
       "      <td>0</td>\n",
       "      <td>0</td>\n",
       "      <td>0</td>\n",
       "      <td>0</td>\n",
       "      <td>0</td>\n",
       "      <td>...</td>\n",
       "      <td>0</td>\n",
       "      <td>0</td>\n",
       "      <td>0</td>\n",
       "      <td>0</td>\n",
       "      <td>0</td>\n",
       "      <td>0</td>\n",
       "      <td>0</td>\n",
       "      <td>0</td>\n",
       "      <td>0</td>\n",
       "      <td>0</td>\n",
       "    </tr>\n",
       "    <tr>\n",
       "      <th>doc21</th>\n",
       "      <td>0</td>\n",
       "      <td>0</td>\n",
       "      <td>0</td>\n",
       "      <td>0</td>\n",
       "      <td>0</td>\n",
       "      <td>0</td>\n",
       "      <td>0</td>\n",
       "      <td>0</td>\n",
       "      <td>0</td>\n",
       "      <td>0</td>\n",
       "      <td>...</td>\n",
       "      <td>0</td>\n",
       "      <td>0</td>\n",
       "      <td>0</td>\n",
       "      <td>0</td>\n",
       "      <td>0</td>\n",
       "      <td>0</td>\n",
       "      <td>0</td>\n",
       "      <td>0</td>\n",
       "      <td>0</td>\n",
       "      <td>0</td>\n",
       "    </tr>\n",
       "    <tr>\n",
       "      <th>doc22</th>\n",
       "      <td>0</td>\n",
       "      <td>0</td>\n",
       "      <td>0</td>\n",
       "      <td>0</td>\n",
       "      <td>0</td>\n",
       "      <td>0</td>\n",
       "      <td>0</td>\n",
       "      <td>0</td>\n",
       "      <td>0</td>\n",
       "      <td>0</td>\n",
       "      <td>...</td>\n",
       "      <td>0</td>\n",
       "      <td>0</td>\n",
       "      <td>0</td>\n",
       "      <td>0</td>\n",
       "      <td>0</td>\n",
       "      <td>0</td>\n",
       "      <td>0</td>\n",
       "      <td>0</td>\n",
       "      <td>0</td>\n",
       "      <td>0</td>\n",
       "    </tr>\n",
       "    <tr>\n",
       "      <th>doc23</th>\n",
       "      <td>0</td>\n",
       "      <td>0</td>\n",
       "      <td>0</td>\n",
       "      <td>0</td>\n",
       "      <td>0</td>\n",
       "      <td>0</td>\n",
       "      <td>0</td>\n",
       "      <td>0</td>\n",
       "      <td>0</td>\n",
       "      <td>0</td>\n",
       "      <td>...</td>\n",
       "      <td>0</td>\n",
       "      <td>0</td>\n",
       "      <td>0</td>\n",
       "      <td>0</td>\n",
       "      <td>0</td>\n",
       "      <td>0</td>\n",
       "      <td>0</td>\n",
       "      <td>0</td>\n",
       "      <td>0</td>\n",
       "      <td>0</td>\n",
       "    </tr>\n",
       "    <tr>\n",
       "      <th>doc24</th>\n",
       "      <td>0</td>\n",
       "      <td>0</td>\n",
       "      <td>0</td>\n",
       "      <td>0</td>\n",
       "      <td>0</td>\n",
       "      <td>0</td>\n",
       "      <td>0</td>\n",
       "      <td>0</td>\n",
       "      <td>0</td>\n",
       "      <td>0</td>\n",
       "      <td>...</td>\n",
       "      <td>0</td>\n",
       "      <td>0</td>\n",
       "      <td>1</td>\n",
       "      <td>0</td>\n",
       "      <td>0</td>\n",
       "      <td>0</td>\n",
       "      <td>0</td>\n",
       "      <td>0</td>\n",
       "      <td>0</td>\n",
       "      <td>0</td>\n",
       "    </tr>\n",
       "    <tr>\n",
       "      <th>doc25</th>\n",
       "      <td>0</td>\n",
       "      <td>0</td>\n",
       "      <td>0</td>\n",
       "      <td>0</td>\n",
       "      <td>0</td>\n",
       "      <td>0</td>\n",
       "      <td>0</td>\n",
       "      <td>0</td>\n",
       "      <td>0</td>\n",
       "      <td>0</td>\n",
       "      <td>...</td>\n",
       "      <td>0</td>\n",
       "      <td>0</td>\n",
       "      <td>0</td>\n",
       "      <td>0</td>\n",
       "      <td>0</td>\n",
       "      <td>0</td>\n",
       "      <td>0</td>\n",
       "      <td>0</td>\n",
       "      <td>0</td>\n",
       "      <td>0</td>\n",
       "    </tr>\n",
       "    <tr>\n",
       "      <th>doc26</th>\n",
       "      <td>0</td>\n",
       "      <td>0</td>\n",
       "      <td>1</td>\n",
       "      <td>0</td>\n",
       "      <td>0</td>\n",
       "      <td>0</td>\n",
       "      <td>0</td>\n",
       "      <td>0</td>\n",
       "      <td>0</td>\n",
       "      <td>0</td>\n",
       "      <td>...</td>\n",
       "      <td>0</td>\n",
       "      <td>0</td>\n",
       "      <td>1</td>\n",
       "      <td>0</td>\n",
       "      <td>0</td>\n",
       "      <td>0</td>\n",
       "      <td>0</td>\n",
       "      <td>0</td>\n",
       "      <td>0</td>\n",
       "      <td>0</td>\n",
       "    </tr>\n",
       "    <tr>\n",
       "      <th>doc27</th>\n",
       "      <td>0</td>\n",
       "      <td>0</td>\n",
       "      <td>0</td>\n",
       "      <td>0</td>\n",
       "      <td>0</td>\n",
       "      <td>0</td>\n",
       "      <td>0</td>\n",
       "      <td>0</td>\n",
       "      <td>0</td>\n",
       "      <td>0</td>\n",
       "      <td>...</td>\n",
       "      <td>0</td>\n",
       "      <td>0</td>\n",
       "      <td>0</td>\n",
       "      <td>0</td>\n",
       "      <td>1</td>\n",
       "      <td>0</td>\n",
       "      <td>0</td>\n",
       "      <td>0</td>\n",
       "      <td>1</td>\n",
       "      <td>0</td>\n",
       "    </tr>\n",
       "    <tr>\n",
       "      <th>doc28</th>\n",
       "      <td>0</td>\n",
       "      <td>0</td>\n",
       "      <td>0</td>\n",
       "      <td>0</td>\n",
       "      <td>0</td>\n",
       "      <td>0</td>\n",
       "      <td>0</td>\n",
       "      <td>0</td>\n",
       "      <td>0</td>\n",
       "      <td>1</td>\n",
       "      <td>...</td>\n",
       "      <td>0</td>\n",
       "      <td>0</td>\n",
       "      <td>0</td>\n",
       "      <td>0</td>\n",
       "      <td>0</td>\n",
       "      <td>0</td>\n",
       "      <td>0</td>\n",
       "      <td>0</td>\n",
       "      <td>0</td>\n",
       "      <td>0</td>\n",
       "    </tr>\n",
       "    <tr>\n",
       "      <th>doc29</th>\n",
       "      <td>0</td>\n",
       "      <td>0</td>\n",
       "      <td>0</td>\n",
       "      <td>0</td>\n",
       "      <td>0</td>\n",
       "      <td>0</td>\n",
       "      <td>0</td>\n",
       "      <td>0</td>\n",
       "      <td>0</td>\n",
       "      <td>0</td>\n",
       "      <td>...</td>\n",
       "      <td>0</td>\n",
       "      <td>0</td>\n",
       "      <td>0</td>\n",
       "      <td>0</td>\n",
       "      <td>0</td>\n",
       "      <td>0</td>\n",
       "      <td>0</td>\n",
       "      <td>0</td>\n",
       "      <td>0</td>\n",
       "      <td>0</td>\n",
       "    </tr>\n",
       "  </tbody>\n",
       "</table>\n",
       "<p>29 rows × 385 columns</p>\n",
       "</div>"
      ],
      "text/plain": [
       "       0  06  1000  11  116  119  12  125  13  14  ...  tres  ultimos  us  va  \\\n",
       "doc1   0   0     0   0    0    0   0    0   0   0  ...     0        1   0   0   \n",
       "doc2   0   0     0   0    1    1   0    0   0   0  ...     0        0   0   0   \n",
       "doc3   0   0     0   0    0    0   0    0   0   0  ...     0        0   0   0   \n",
       "doc4   0   0     0   0    0    0   0    0   0   0  ...     0        0   0   0   \n",
       "doc5   1   0     0   0    0    0   0    0   0   0  ...     0        0   0   0   \n",
       "doc6   0   0     0   0    0    0   0    0   0   0  ...     0        0   0   0   \n",
       "doc7   0   0     0   0    0    0   0    0   0   0  ...     0        0   0   0   \n",
       "doc8   0   0     0   0    0    0   0    0   0   0  ...     0        0   0   1   \n",
       "doc9   0   0     0   0    0    0   0    0   0   0  ...     0        0   0   0   \n",
       "doc10  0   0     0   0    0    0   0    0   0   0  ...     0        0   0   0   \n",
       "doc11  0   0     0   0    0    0   0    0   0   0  ...     0        0   0   1   \n",
       "doc12  0   0     0   0    0    0   0    0   0   0  ...     0        1   0   0   \n",
       "doc13  0   0     0   0    0    0   0    0   0   0  ...     0        0   0   0   \n",
       "doc14  0   0     0   0    0    0   0    0   0   0  ...     0        0   0   0   \n",
       "doc15  0   0     0   1    0    0   0    1   0   0  ...     0        0   0   0   \n",
       "doc16  0   1     0   0    0    0   0    0   0   0  ...     0        0   0   0   \n",
       "doc17  0   0     0   0    0    0   0    0   0   0  ...     1        0   0   0   \n",
       "doc18  0   0     0   0    0    0   1    0   1   0  ...     0        0   0   0   \n",
       "doc19  0   0     0   0    0    0   0    0   0   0  ...     0        0   0   0   \n",
       "doc20  0   0     0   0    0    0   0    0   0   0  ...     0        0   0   0   \n",
       "doc21  0   0     0   0    0    0   0    0   0   0  ...     0        0   0   0   \n",
       "doc22  0   0     0   0    0    0   0    0   0   0  ...     0        0   0   0   \n",
       "doc23  0   0     0   0    0    0   0    0   0   0  ...     0        0   0   0   \n",
       "doc24  0   0     0   0    0    0   0    0   0   0  ...     0        0   1   0   \n",
       "doc25  0   0     0   0    0    0   0    0   0   0  ...     0        0   0   0   \n",
       "doc26  0   0     1   0    0    0   0    0   0   0  ...     0        0   1   0   \n",
       "doc27  0   0     0   0    0    0   0    0   0   0  ...     0        0   0   0   \n",
       "doc28  0   0     0   0    0    0   0    0   0   1  ...     0        0   0   0   \n",
       "doc29  0   0     0   0    0    0   0    0   0   0  ...     0        0   0   0   \n",
       "\n",
       "       valores  venderlo  vez  vienen  viernes  volvera  \n",
       "doc1         0         0    0       0        0        0  \n",
       "doc2         0         0    0       0        0        0  \n",
       "doc3         0         0    0       0        0        0  \n",
       "doc4         1         0    0       0        0        0  \n",
       "doc5         0         0    0       0        0        0  \n",
       "doc6         0         0    0       0        0        0  \n",
       "doc7         0         0    0       0        0        1  \n",
       "doc8         0         0    0       1        0        0  \n",
       "doc9         0         0    0       0        0        0  \n",
       "doc10        0         0    0       0        0        0  \n",
       "doc11        0         0    0       0        0        0  \n",
       "doc12        0         0    0       0        0        0  \n",
       "doc13        0         0    0       0        0        0  \n",
       "doc14        0         0    0       0        0        0  \n",
       "doc15        0         0    0       0        0        0  \n",
       "doc16        0         0    0       0        0        0  \n",
       "doc17        0         1    1       0        0        0  \n",
       "doc18        0         0    0       0        0        0  \n",
       "doc19        0         0    0       0        0        0  \n",
       "doc20        0         0    0       0        0        0  \n",
       "doc21        0         0    0       0        0        0  \n",
       "doc22        0         0    0       0        0        0  \n",
       "doc23        0         0    0       0        0        0  \n",
       "doc24        0         0    0       0        0        0  \n",
       "doc25        0         0    0       0        0        0  \n",
       "doc26        0         0    0       0        0        0  \n",
       "doc27        1         0    0       0        1        0  \n",
       "doc28        0         0    0       0        0        0  \n",
       "doc29        0         0    0       0        0        0  \n",
       "\n",
       "[29 rows x 385 columns]"
      ]
     },
     "execution_count": 291,
     "metadata": {},
     "output_type": "execute_result"
    }
   ],
   "source": [
    "df_dummies"
   ]
  },
  {
   "cell_type": "markdown",
   "metadata": {},
   "source": [
    "#### Métricas (Prueba nro. 1)"
   ]
  },
  {
   "cell_type": "code",
   "execution_count": 292,
   "metadata": {},
   "outputs": [],
   "source": [
    "def tf_idf(corpus, vocabulario):\n",
    "    \n",
    "    from nltk.tokenize import word_tokenize\n",
    "    \n",
    "    peso = []\n",
    "    for i, texto in enumerate(corpus):\n",
    "        for palabra in vocabulario:\n",
    "            # frecuencia de palabra en documento\n",
    "            tf = tokenizer(texto).count(palabra) / len(tokenizer(texto))\n",
    "            # frecuencia de palabra en corpus (por documento)\n",
    "            idf = np.log(len(corpus) / (sum([palabra in doc for doc in corpus]) + 1) )\n",
    "            # métrica\n",
    "            if tf * idf != 0:\n",
    "                peso.append((i, vocabulario.index(palabra), tf * idf))\n",
    "            \n",
    "    return peso"
   ]
  },
  {
   "cell_type": "code",
   "execution_count": 293,
   "metadata": {},
   "outputs": [],
   "source": [
    "relevancia = tf_idf(corpus, vocabulario)"
   ]
  },
  {
   "cell_type": "code",
   "execution_count": 294,
   "metadata": {},
   "outputs": [
    {
     "data": {
      "text/plain": [
       "555"
      ]
     },
     "execution_count": 294,
     "metadata": {},
     "output_type": "execute_result"
    }
   ],
   "source": [
    "len(relevancia)"
   ]
  },
  {
   "cell_type": "code",
   "execution_count": 295,
   "metadata": {},
   "outputs": [
    {
     "data": {
      "text/plain": [
       "[(0, 29, 0.1683647914993237),\n",
       " (0, 73, 0.09905007344332917),\n",
       " (0, 77, 0.13370743247132644),\n",
       " (0, 78, 0.1683647914993237),\n",
       " (0, 80, 0.08789289587761868),\n",
       " (0, 95, 0.05850356263251273),\n",
       " (0, 119, 0.13370743247132644),\n",
       " (0, 132, 0.09905007344332917),\n",
       " (0, 150, 0.13370743247132644),\n",
       " (0, 178, 0.13370743247132644),\n",
       " (0, 184, 0.13370743247132644),\n",
       " (0, 185, 0.13370743247132644),\n",
       " (0, 242, 0.22686835413183642),\n",
       " (0, 257, 0.06439271441533191),\n",
       " (0, 266, 0.11343417706591821),\n",
       " (0, 315, 0.13370743247132644),\n",
       " (0, 337, 0.08789289587761868),\n",
       " (0, 368, 0.13370743247132644),\n",
       " (0, 376, 0.1683647914993237),\n",
       " (1, 4, 0.198076225293322)]"
      ]
     },
     "execution_count": 295,
     "metadata": {},
     "output_type": "execute_result"
    }
   ],
   "source": [
    "relevancia[:20]"
   ]
  },
  {
   "cell_type": "code",
   "execution_count": 296,
   "metadata": {},
   "outputs": [
    {
     "data": {
      "text/plain": [
       "(29, 385)"
      ]
     },
     "execution_count": 296,
     "metadata": {},
     "output_type": "execute_result"
    }
   ],
   "source": [
    "matriz.shape"
   ]
  },
  {
   "cell_type": "code",
   "execution_count": 297,
   "metadata": {},
   "outputs": [
    {
     "data": {
      "text/plain": [
       "(29, 385)"
      ]
     },
     "execution_count": 297,
     "metadata": {},
     "output_type": "execute_result"
    }
   ],
   "source": [
    "len(tokenized), len(vocabulario)"
   ]
  },
  {
   "cell_type": "code",
   "execution_count": 298,
   "metadata": {},
   "outputs": [],
   "source": [
    "matriz_relevancia = np.zeros(shape = (len(tokenized), len(vocabulario)), dtype='float')\n",
    "for doc in range(len(tokenized)):\n",
    "    for ter in vocabulario:\n",
    "        for line in relevancia:\n",
    "            if doc == line[0]:\n",
    "                if vocabulario.index(ter) == line[1]:\n",
    "                    matriz_relevancia[doc, vocabulario.index(ter)] = line[2]"
   ]
  },
  {
   "cell_type": "code",
   "execution_count": 299,
   "metadata": {},
   "outputs": [
    {
     "data": {
      "text/plain": [
       "array([0.        , 0.        , 0.        , 0.        , 0.        ,\n",
       "       0.        , 0.        , 0.        , 0.        , 0.        ,\n",
       "       0.        , 0.        , 0.        , 0.        , 0.        ,\n",
       "       0.        , 0.        , 0.        , 0.        , 0.        ,\n",
       "       0.        , 0.        , 0.        , 0.        , 0.        ,\n",
       "       0.        , 0.        , 0.        , 0.        , 0.16836479,\n",
       "       0.        , 0.        , 0.        , 0.        , 0.        ,\n",
       "       0.        , 0.        , 0.        , 0.        , 0.        ,\n",
       "       0.        , 0.        , 0.        , 0.        , 0.        ,\n",
       "       0.        , 0.        , 0.        , 0.        , 0.        ,\n",
       "       0.        , 0.        , 0.        , 0.        , 0.        ,\n",
       "       0.        , 0.        , 0.        , 0.        , 0.        ,\n",
       "       0.        , 0.        , 0.        , 0.        , 0.        ,\n",
       "       0.        , 0.        , 0.        , 0.        , 0.        ,\n",
       "       0.        , 0.        , 0.        , 0.09905007, 0.        ,\n",
       "       0.        , 0.        , 0.13370743, 0.16836479, 0.        ,\n",
       "       0.0878929 , 0.        , 0.        , 0.        , 0.        ,\n",
       "       0.        , 0.        , 0.        , 0.        , 0.        ,\n",
       "       0.        , 0.        , 0.        , 0.        , 0.        ,\n",
       "       0.05850356, 0.        , 0.        , 0.        , 0.        ,\n",
       "       0.        , 0.        , 0.        , 0.        , 0.        ,\n",
       "       0.        , 0.        , 0.        , 0.        , 0.        ,\n",
       "       0.        , 0.        , 0.        , 0.        , 0.        ,\n",
       "       0.        , 0.        , 0.        , 0.        , 0.13370743,\n",
       "       0.        , 0.        , 0.        , 0.        , 0.        ,\n",
       "       0.        , 0.        , 0.        , 0.        , 0.        ,\n",
       "       0.        , 0.        , 0.09905007, 0.        , 0.        ,\n",
       "       0.        , 0.        , 0.        , 0.        , 0.        ,\n",
       "       0.        , 0.        , 0.        , 0.        , 0.        ,\n",
       "       0.        , 0.        , 0.        , 0.        , 0.        ,\n",
       "       0.13370743, 0.        , 0.        , 0.        , 0.        ,\n",
       "       0.        , 0.        , 0.        , 0.        , 0.        ,\n",
       "       0.        , 0.        , 0.        , 0.        , 0.        ,\n",
       "       0.        , 0.        , 0.        , 0.        , 0.        ,\n",
       "       0.        , 0.        , 0.        , 0.        , 0.        ,\n",
       "       0.        , 0.        , 0.        , 0.13370743, 0.        ,\n",
       "       0.        , 0.        , 0.        , 0.        , 0.13370743,\n",
       "       0.13370743, 0.        , 0.        , 0.        , 0.        ,\n",
       "       0.        , 0.        , 0.        , 0.        , 0.        ,\n",
       "       0.        , 0.        , 0.        , 0.        , 0.        ,\n",
       "       0.        , 0.        , 0.        , 0.        , 0.        ,\n",
       "       0.        , 0.        , 0.        , 0.        , 0.        ,\n",
       "       0.        , 0.        , 0.        , 0.        , 0.        ,\n",
       "       0.        , 0.        , 0.        , 0.        , 0.        ,\n",
       "       0.        , 0.        , 0.        , 0.        , 0.        ,\n",
       "       0.        , 0.        , 0.        , 0.        , 0.        ,\n",
       "       0.        , 0.        , 0.        , 0.        , 0.        ,\n",
       "       0.        , 0.        , 0.        , 0.        , 0.        ,\n",
       "       0.        , 0.        , 0.22686835, 0.        , 0.        ,\n",
       "       0.        , 0.        , 0.        , 0.        , 0.        ,\n",
       "       0.        , 0.        , 0.        , 0.        , 0.        ,\n",
       "       0.        , 0.        , 0.06439271, 0.        , 0.        ,\n",
       "       0.        , 0.        , 0.        , 0.        , 0.        ,\n",
       "       0.        , 0.11343418, 0.        , 0.        , 0.        ,\n",
       "       0.        , 0.        , 0.        , 0.        , 0.        ,\n",
       "       0.        , 0.        , 0.        , 0.        , 0.        ,\n",
       "       0.        , 0.        , 0.        , 0.        , 0.        ,\n",
       "       0.        , 0.        , 0.        , 0.        , 0.        ,\n",
       "       0.        , 0.        , 0.        , 0.        , 0.        ,\n",
       "       0.        , 0.        , 0.        , 0.        , 0.        ,\n",
       "       0.        , 0.        , 0.        , 0.        , 0.        ,\n",
       "       0.        , 0.        , 0.        , 0.        , 0.        ,\n",
       "       0.        , 0.        , 0.        , 0.        , 0.        ,\n",
       "       0.13370743, 0.        , 0.        , 0.        , 0.        ,\n",
       "       0.        , 0.        , 0.        , 0.        , 0.        ,\n",
       "       0.        , 0.        , 0.        , 0.        , 0.        ,\n",
       "       0.        , 0.        , 0.        , 0.        , 0.        ,\n",
       "       0.        , 0.        , 0.0878929 , 0.        , 0.        ,\n",
       "       0.        , 0.        , 0.        , 0.        , 0.        ,\n",
       "       0.        , 0.        , 0.        , 0.        , 0.        ,\n",
       "       0.        , 0.        , 0.        , 0.        , 0.        ,\n",
       "       0.        , 0.        , 0.        , 0.        , 0.        ,\n",
       "       0.        , 0.        , 0.        , 0.        , 0.        ,\n",
       "       0.        , 0.        , 0.        , 0.13370743, 0.        ,\n",
       "       0.        , 0.        , 0.        , 0.        , 0.        ,\n",
       "       0.        , 0.16836479, 0.        , 0.        , 0.        ,\n",
       "       0.        , 0.        , 0.        , 0.        , 0.        ])"
      ]
     },
     "execution_count": 299,
     "metadata": {},
     "output_type": "execute_result"
    }
   ],
   "source": [
    "matriz_relevancia[0]"
   ]
  },
  {
   "cell_type": "code",
   "execution_count": 300,
   "metadata": {},
   "outputs": [],
   "source": [
    "dummies_relevancia = pd.DataFrame(matriz_relevancia, columns=vocabulario, index=['doc' + str(i+1) for i in range(len(tokenized))])"
   ]
  },
  {
   "cell_type": "code",
   "execution_count": 301,
   "metadata": {},
   "outputs": [
    {
     "data": {
      "text/plain": [
       "mas        0.226868\n",
       "ultimos    0.168365\n",
       "anos       0.168365\n",
       "216        0.168365\n",
       "cambio     0.133707\n",
       "             ...   \n",
       "mensual    0.000000\n",
       "mep        0.000000\n",
       "mercado    0.000000\n",
       "meses      0.000000\n",
       "0          0.000000\n",
       "Name: doc1, Length: 385, dtype: float64"
      ]
     },
     "execution_count": 301,
     "metadata": {},
     "output_type": "execute_result"
    }
   ],
   "source": [
    "dummies_relevancia.loc['doc1',].sort_values(ascending=False)"
   ]
  },
  {
   "cell_type": "code",
   "execution_count": 302,
   "metadata": {},
   "outputs": [
    {
     "data": {
      "text/plain": [
       "ano          0.314606\n",
       "estimador    0.198076\n",
       "mensual      0.198076\n",
       "emae         0.198076\n",
       "economica    0.198076\n",
       "               ...   \n",
       "mes          0.000000\n",
       "mientras     0.000000\n",
       "miercoles    0.000000\n",
       "miles        0.000000\n",
       "0            0.000000\n",
       "Name: doc2, Length: 385, dtype: float64"
      ]
     },
     "execution_count": 302,
     "metadata": {},
     "output_type": "execute_result"
    }
   ],
   "source": [
    "dummies_relevancia.loc['doc2',].sort_values(ascending=False)"
   ]
  },
  {
   "cell_type": "markdown",
   "metadata": {},
   "source": [
    "Mayor coeficiente, mayor relevancia -> define con mayor nitidez al documento del resto del corpus"
   ]
  },
  {
   "cell_type": "markdown",
   "metadata": {},
   "source": [
    "#### Singular Value Decomposition (Prueba nro. 1)"
   ]
  },
  {
   "cell_type": "code",
   "execution_count": 303,
   "metadata": {},
   "outputs": [],
   "source": [
    "import matplotlib.pyplot as plt\n",
    "import matplotlib.patches as mpatches\n",
    "from sklearn.decomposition import TruncatedSVD"
   ]
  },
  {
   "cell_type": "code",
   "execution_count": 304,
   "metadata": {},
   "outputs": [
    {
     "name": "stdout",
     "output_type": "stream",
     "text": [
      "[[ 0.09437248  0.07573801]\n",
      " [ 0.07497703  0.07453463]\n",
      " [ 0.01035691  0.00204978]\n",
      " [ 0.86759527 -0.24553376]\n",
      " [ 0.21458729  0.05707719]\n",
      " [ 0.12577603  0.00700863]\n",
      " [ 0.05619506  0.03151973]\n",
      " [ 0.27479373  0.08350223]\n",
      " [ 0.14102952  0.01336403]\n",
      " [ 0.17071241  0.03708553]\n",
      " [ 0.08687257  0.06453255]\n",
      " [ 0.01923442  0.02034785]\n",
      " [ 0.14296986  0.02079087]\n",
      " [ 0.04099253  0.02129173]\n",
      " [ 0.05411573  0.05127691]\n",
      " [ 0.06679751  0.05283947]\n",
      " [ 0.02812797  0.06456742]\n",
      " [ 0.03821772  0.30630495]\n",
      " [ 0.04593355  0.3115197 ]\n",
      " [ 0.03383901  0.13141467]\n",
      " [ 0.06527873  0.60334823]\n",
      " [ 0.04409811  0.1031986 ]\n",
      " [ 0.19804637  0.12137553]\n",
      " [ 0.07663759  0.05311582]\n",
      " [ 0.05061628  0.08373174]\n",
      " [ 0.14315693  0.00358267]\n",
      " [ 0.05203233  0.05200031]\n",
      " [ 0.03349075  0.28661392]\n",
      " [ 0.05681224  0.29355607]]\n"
     ]
    }
   ],
   "source": [
    "svd = TruncatedSVD(n_components = 2) # n_components = Desired dimensionality of output data. Must be strictly less than the number of features.\n",
    "P = svd.fit_transform(matriz_relevancia)\n",
    "\n",
    "print(P)"
   ]
  },
  {
   "cell_type": "code",
   "execution_count": 305,
   "metadata": {},
   "outputs": [],
   "source": [
    "import plotly.graph_objects as go"
   ]
  },
  {
   "cell_type": "code",
   "execution_count": 306,
   "metadata": {},
   "outputs": [
    {
     "data": {
      "application/vnd.plotly.v1+json": {
       "config": {
        "plotlyServerURL": "https://plotly.com"
       },
       "data": [
        {
         "marker": {
          "color": [
           0,
           1,
           2,
           3,
           4,
           5,
           6,
           7,
           8,
           9,
           10,
           11,
           12,
           13,
           14,
           15,
           16,
           17,
           18,
           19,
           20,
           21,
           22,
           23,
           24,
           25,
           26,
           27,
           28
          ],
          "size": 10
         },
         "mode": "markers+text",
         "text": [
          "doc0",
          "doc1",
          "doc2",
          "doc3",
          "doc4",
          "doc5",
          "doc6",
          "doc7",
          "doc8",
          "doc9",
          "doc10",
          "doc11",
          "doc12",
          "doc13",
          "doc14",
          "doc15",
          "doc16",
          "doc17",
          "doc18",
          "doc19",
          "doc20",
          "doc21",
          "doc22",
          "doc23",
          "doc24",
          "doc25",
          "doc26",
          "doc27",
          "doc28"
         ],
         "textfont": {
          "color": "Blue",
          "size": 10
         },
         "textposition": "middle left",
         "type": "scatter",
         "x": [
          0.09437248192515593,
          0.07497703140642384,
          0.010356912565548897,
          0.8675952688854947,
          0.21458729327617349,
          0.12577603275121207,
          0.05619505505548205,
          0.27479372961330034,
          0.14102951927502638,
          0.17071241431827983,
          0.08687256879851821,
          0.01923442043489762,
          0.14296986417996943,
          0.04099252565032132,
          0.05411572654461927,
          0.06679750833126134,
          0.028127973241345902,
          0.0382177229267366,
          0.04593354967797543,
          0.033839010765098876,
          0.0652787257631629,
          0.04409811173039705,
          0.19804636818548832,
          0.0766375917571197,
          0.05061627570284188,
          0.143156931314206,
          0.052032331944206055,
          0.03349074975969117,
          0.05681224375965515
         ],
         "y": [
          0.07573801454708663,
          0.07453462985942393,
          0.0020497814559434567,
          -0.24553376258645354,
          0.05707718964818904,
          0.007008630729778245,
          0.0315197264236545,
          0.08350223429244459,
          0.013364028917208365,
          0.037085534591611624,
          0.06453254781068878,
          0.020347853069514494,
          0.02079087039234184,
          0.021291726627593325,
          0.051276907048122586,
          0.052839469275598454,
          0.06456742308096124,
          0.30630494926805163,
          0.311519703409311,
          0.13141467122010805,
          0.6033482290652589,
          0.10319860404011147,
          0.12137552539063727,
          0.05311581560356626,
          0.08373174475074997,
          0.0035826696993689526,
          0.052000309917621126,
          0.28661391809112463,
          0.29355607008710727
         ]
        }
       ],
       "layout": {
        "autosize": true,
        "template": {
         "data": {
          "bar": [
           {
            "error_x": {
             "color": "#2a3f5f"
            },
            "error_y": {
             "color": "#2a3f5f"
            },
            "marker": {
             "line": {
              "color": "#E5ECF6",
              "width": 0.5
             }
            },
            "type": "bar"
           }
          ],
          "barpolar": [
           {
            "marker": {
             "line": {
              "color": "#E5ECF6",
              "width": 0.5
             }
            },
            "type": "barpolar"
           }
          ],
          "carpet": [
           {
            "aaxis": {
             "endlinecolor": "#2a3f5f",
             "gridcolor": "white",
             "linecolor": "white",
             "minorgridcolor": "white",
             "startlinecolor": "#2a3f5f"
            },
            "baxis": {
             "endlinecolor": "#2a3f5f",
             "gridcolor": "white",
             "linecolor": "white",
             "minorgridcolor": "white",
             "startlinecolor": "#2a3f5f"
            },
            "type": "carpet"
           }
          ],
          "choropleth": [
           {
            "colorbar": {
             "outlinewidth": 0,
             "ticks": ""
            },
            "type": "choropleth"
           }
          ],
          "contour": [
           {
            "colorbar": {
             "outlinewidth": 0,
             "ticks": ""
            },
            "colorscale": [
             [
              0,
              "#0d0887"
             ],
             [
              0.1111111111111111,
              "#46039f"
             ],
             [
              0.2222222222222222,
              "#7201a8"
             ],
             [
              0.3333333333333333,
              "#9c179e"
             ],
             [
              0.4444444444444444,
              "#bd3786"
             ],
             [
              0.5555555555555556,
              "#d8576b"
             ],
             [
              0.6666666666666666,
              "#ed7953"
             ],
             [
              0.7777777777777778,
              "#fb9f3a"
             ],
             [
              0.8888888888888888,
              "#fdca26"
             ],
             [
              1,
              "#f0f921"
             ]
            ],
            "type": "contour"
           }
          ],
          "contourcarpet": [
           {
            "colorbar": {
             "outlinewidth": 0,
             "ticks": ""
            },
            "type": "contourcarpet"
           }
          ],
          "heatmap": [
           {
            "colorbar": {
             "outlinewidth": 0,
             "ticks": ""
            },
            "colorscale": [
             [
              0,
              "#0d0887"
             ],
             [
              0.1111111111111111,
              "#46039f"
             ],
             [
              0.2222222222222222,
              "#7201a8"
             ],
             [
              0.3333333333333333,
              "#9c179e"
             ],
             [
              0.4444444444444444,
              "#bd3786"
             ],
             [
              0.5555555555555556,
              "#d8576b"
             ],
             [
              0.6666666666666666,
              "#ed7953"
             ],
             [
              0.7777777777777778,
              "#fb9f3a"
             ],
             [
              0.8888888888888888,
              "#fdca26"
             ],
             [
              1,
              "#f0f921"
             ]
            ],
            "type": "heatmap"
           }
          ],
          "heatmapgl": [
           {
            "colorbar": {
             "outlinewidth": 0,
             "ticks": ""
            },
            "colorscale": [
             [
              0,
              "#0d0887"
             ],
             [
              0.1111111111111111,
              "#46039f"
             ],
             [
              0.2222222222222222,
              "#7201a8"
             ],
             [
              0.3333333333333333,
              "#9c179e"
             ],
             [
              0.4444444444444444,
              "#bd3786"
             ],
             [
              0.5555555555555556,
              "#d8576b"
             ],
             [
              0.6666666666666666,
              "#ed7953"
             ],
             [
              0.7777777777777778,
              "#fb9f3a"
             ],
             [
              0.8888888888888888,
              "#fdca26"
             ],
             [
              1,
              "#f0f921"
             ]
            ],
            "type": "heatmapgl"
           }
          ],
          "histogram": [
           {
            "marker": {
             "colorbar": {
              "outlinewidth": 0,
              "ticks": ""
             }
            },
            "type": "histogram"
           }
          ],
          "histogram2d": [
           {
            "colorbar": {
             "outlinewidth": 0,
             "ticks": ""
            },
            "colorscale": [
             [
              0,
              "#0d0887"
             ],
             [
              0.1111111111111111,
              "#46039f"
             ],
             [
              0.2222222222222222,
              "#7201a8"
             ],
             [
              0.3333333333333333,
              "#9c179e"
             ],
             [
              0.4444444444444444,
              "#bd3786"
             ],
             [
              0.5555555555555556,
              "#d8576b"
             ],
             [
              0.6666666666666666,
              "#ed7953"
             ],
             [
              0.7777777777777778,
              "#fb9f3a"
             ],
             [
              0.8888888888888888,
              "#fdca26"
             ],
             [
              1,
              "#f0f921"
             ]
            ],
            "type": "histogram2d"
           }
          ],
          "histogram2dcontour": [
           {
            "colorbar": {
             "outlinewidth": 0,
             "ticks": ""
            },
            "colorscale": [
             [
              0,
              "#0d0887"
             ],
             [
              0.1111111111111111,
              "#46039f"
             ],
             [
              0.2222222222222222,
              "#7201a8"
             ],
             [
              0.3333333333333333,
              "#9c179e"
             ],
             [
              0.4444444444444444,
              "#bd3786"
             ],
             [
              0.5555555555555556,
              "#d8576b"
             ],
             [
              0.6666666666666666,
              "#ed7953"
             ],
             [
              0.7777777777777778,
              "#fb9f3a"
             ],
             [
              0.8888888888888888,
              "#fdca26"
             ],
             [
              1,
              "#f0f921"
             ]
            ],
            "type": "histogram2dcontour"
           }
          ],
          "mesh3d": [
           {
            "colorbar": {
             "outlinewidth": 0,
             "ticks": ""
            },
            "type": "mesh3d"
           }
          ],
          "parcoords": [
           {
            "line": {
             "colorbar": {
              "outlinewidth": 0,
              "ticks": ""
             }
            },
            "type": "parcoords"
           }
          ],
          "pie": [
           {
            "automargin": true,
            "type": "pie"
           }
          ],
          "scatter": [
           {
            "marker": {
             "colorbar": {
              "outlinewidth": 0,
              "ticks": ""
             }
            },
            "type": "scatter"
           }
          ],
          "scatter3d": [
           {
            "line": {
             "colorbar": {
              "outlinewidth": 0,
              "ticks": ""
             }
            },
            "marker": {
             "colorbar": {
              "outlinewidth": 0,
              "ticks": ""
             }
            },
            "type": "scatter3d"
           }
          ],
          "scattercarpet": [
           {
            "marker": {
             "colorbar": {
              "outlinewidth": 0,
              "ticks": ""
             }
            },
            "type": "scattercarpet"
           }
          ],
          "scattergeo": [
           {
            "marker": {
             "colorbar": {
              "outlinewidth": 0,
              "ticks": ""
             }
            },
            "type": "scattergeo"
           }
          ],
          "scattergl": [
           {
            "marker": {
             "colorbar": {
              "outlinewidth": 0,
              "ticks": ""
             }
            },
            "type": "scattergl"
           }
          ],
          "scattermapbox": [
           {
            "marker": {
             "colorbar": {
              "outlinewidth": 0,
              "ticks": ""
             }
            },
            "type": "scattermapbox"
           }
          ],
          "scatterpolar": [
           {
            "marker": {
             "colorbar": {
              "outlinewidth": 0,
              "ticks": ""
             }
            },
            "type": "scatterpolar"
           }
          ],
          "scatterpolargl": [
           {
            "marker": {
             "colorbar": {
              "outlinewidth": 0,
              "ticks": ""
             }
            },
            "type": "scatterpolargl"
           }
          ],
          "scatterternary": [
           {
            "marker": {
             "colorbar": {
              "outlinewidth": 0,
              "ticks": ""
             }
            },
            "type": "scatterternary"
           }
          ],
          "surface": [
           {
            "colorbar": {
             "outlinewidth": 0,
             "ticks": ""
            },
            "colorscale": [
             [
              0,
              "#0d0887"
             ],
             [
              0.1111111111111111,
              "#46039f"
             ],
             [
              0.2222222222222222,
              "#7201a8"
             ],
             [
              0.3333333333333333,
              "#9c179e"
             ],
             [
              0.4444444444444444,
              "#bd3786"
             ],
             [
              0.5555555555555556,
              "#d8576b"
             ],
             [
              0.6666666666666666,
              "#ed7953"
             ],
             [
              0.7777777777777778,
              "#fb9f3a"
             ],
             [
              0.8888888888888888,
              "#fdca26"
             ],
             [
              1,
              "#f0f921"
             ]
            ],
            "type": "surface"
           }
          ],
          "table": [
           {
            "cells": {
             "fill": {
              "color": "#EBF0F8"
             },
             "line": {
              "color": "white"
             }
            },
            "header": {
             "fill": {
              "color": "#C8D4E3"
             },
             "line": {
              "color": "white"
             }
            },
            "type": "table"
           }
          ]
         },
         "layout": {
          "annotationdefaults": {
           "arrowcolor": "#2a3f5f",
           "arrowhead": 0,
           "arrowwidth": 1
          },
          "coloraxis": {
           "colorbar": {
            "outlinewidth": 0,
            "ticks": ""
           }
          },
          "colorscale": {
           "diverging": [
            [
             0,
             "#8e0152"
            ],
            [
             0.1,
             "#c51b7d"
            ],
            [
             0.2,
             "#de77ae"
            ],
            [
             0.3,
             "#f1b6da"
            ],
            [
             0.4,
             "#fde0ef"
            ],
            [
             0.5,
             "#f7f7f7"
            ],
            [
             0.6,
             "#e6f5d0"
            ],
            [
             0.7,
             "#b8e186"
            ],
            [
             0.8,
             "#7fbc41"
            ],
            [
             0.9,
             "#4d9221"
            ],
            [
             1,
             "#276419"
            ]
           ],
           "sequential": [
            [
             0,
             "#0d0887"
            ],
            [
             0.1111111111111111,
             "#46039f"
            ],
            [
             0.2222222222222222,
             "#7201a8"
            ],
            [
             0.3333333333333333,
             "#9c179e"
            ],
            [
             0.4444444444444444,
             "#bd3786"
            ],
            [
             0.5555555555555556,
             "#d8576b"
            ],
            [
             0.6666666666666666,
             "#ed7953"
            ],
            [
             0.7777777777777778,
             "#fb9f3a"
            ],
            [
             0.8888888888888888,
             "#fdca26"
            ],
            [
             1,
             "#f0f921"
            ]
           ],
           "sequentialminus": [
            [
             0,
             "#0d0887"
            ],
            [
             0.1111111111111111,
             "#46039f"
            ],
            [
             0.2222222222222222,
             "#7201a8"
            ],
            [
             0.3333333333333333,
             "#9c179e"
            ],
            [
             0.4444444444444444,
             "#bd3786"
            ],
            [
             0.5555555555555556,
             "#d8576b"
            ],
            [
             0.6666666666666666,
             "#ed7953"
            ],
            [
             0.7777777777777778,
             "#fb9f3a"
            ],
            [
             0.8888888888888888,
             "#fdca26"
            ],
            [
             1,
             "#f0f921"
            ]
           ]
          },
          "colorway": [
           "#636efa",
           "#EF553B",
           "#00cc96",
           "#ab63fa",
           "#FFA15A",
           "#19d3f3",
           "#FF6692",
           "#B6E880",
           "#FF97FF",
           "#FECB52"
          ],
          "font": {
           "color": "#2a3f5f"
          },
          "geo": {
           "bgcolor": "white",
           "lakecolor": "white",
           "landcolor": "#E5ECF6",
           "showlakes": true,
           "showland": true,
           "subunitcolor": "white"
          },
          "hoverlabel": {
           "align": "left"
          },
          "hovermode": "closest",
          "mapbox": {
           "style": "light"
          },
          "paper_bgcolor": "white",
          "plot_bgcolor": "#E5ECF6",
          "polar": {
           "angularaxis": {
            "gridcolor": "white",
            "linecolor": "white",
            "ticks": ""
           },
           "bgcolor": "#E5ECF6",
           "radialaxis": {
            "gridcolor": "white",
            "linecolor": "white",
            "ticks": ""
           }
          },
          "scene": {
           "xaxis": {
            "backgroundcolor": "#E5ECF6",
            "gridcolor": "white",
            "gridwidth": 2,
            "linecolor": "white",
            "showbackground": true,
            "ticks": "",
            "zerolinecolor": "white"
           },
           "yaxis": {
            "backgroundcolor": "#E5ECF6",
            "gridcolor": "white",
            "gridwidth": 2,
            "linecolor": "white",
            "showbackground": true,
            "ticks": "",
            "zerolinecolor": "white"
           },
           "zaxis": {
            "backgroundcolor": "#E5ECF6",
            "gridcolor": "white",
            "gridwidth": 2,
            "linecolor": "white",
            "showbackground": true,
            "ticks": "",
            "zerolinecolor": "white"
           }
          },
          "shapedefaults": {
           "line": {
            "color": "#2a3f5f"
           }
          },
          "ternary": {
           "aaxis": {
            "gridcolor": "white",
            "linecolor": "white",
            "ticks": ""
           },
           "baxis": {
            "gridcolor": "white",
            "linecolor": "white",
            "ticks": ""
           },
           "bgcolor": "#E5ECF6",
           "caxis": {
            "gridcolor": "white",
            "linecolor": "white",
            "ticks": ""
           }
          },
          "title": {
           "x": 0.05
          },
          "xaxis": {
           "automargin": true,
           "gridcolor": "white",
           "linecolor": "white",
           "ticks": "",
           "title": {
            "standoff": 15
           },
           "zerolinecolor": "white",
           "zerolinewidth": 2
          },
          "yaxis": {
           "automargin": true,
           "gridcolor": "white",
           "linecolor": "white",
           "ticks": "",
           "title": {
            "standoff": 15
           },
           "zerolinecolor": "white",
           "zerolinewidth": 2
          }
         }
        },
        "title": {
         "text": "Tópicos"
        },
        "xaxis": {
         "autorange": true,
         "range": [
          -0.05371685791926607,
          0.9316690393703096
         ],
         "type": "linear",
         "zeroline": true
        },
        "yaxis": {
         "autorange": true,
         "range": [
          -0.31826877054793434,
          0.6760832370267397
         ],
         "type": "linear"
        }
       }
      },
      "image/png": "[encoded data removed]",
      "text/html": [
       "<div>                            <div id=\"48b709ba-0ab2-4d43-bc5d-9de08db34cef\" class=\"plotly-graph-div\" style=\"height:525px; width:100%;\"></div>            <script type=\"text/javascript\">                require([\"plotly\"], function(Plotly) {                    window.PLOTLYENV=window.PLOTLYENV || {};                                    if (document.getElementById(\"48b709ba-0ab2-4d43-bc5d-9de08db34cef\")) {                    Plotly.newPlot(                        \"48b709ba-0ab2-4d43-bc5d-9de08db34cef\",                        [{\"marker\": {\"color\": [0, 1, 2, 3, 4, 5, 6, 7, 8, 9, 10, 11, 12, 13, 14, 15, 16, 17, 18, 19, 20, 21, 22, 23, 24, 25, 26, 27, 28], \"size\": 10}, \"mode\": \"markers+text\", \"text\": [\"doc0\", \"doc1\", \"doc2\", \"doc3\", \"doc4\", \"doc5\", \"doc6\", \"doc7\", \"doc8\", \"doc9\", \"doc10\", \"doc11\", \"doc12\", \"doc13\", \"doc14\", \"doc15\", \"doc16\", \"doc17\", \"doc18\", \"doc19\", \"doc20\", \"doc21\", \"doc22\", \"doc23\", \"doc24\", \"doc25\", \"doc26\", \"doc27\", \"doc28\"], \"textfont\": {\"color\": \"Blue\", \"size\": 10}, \"textposition\": \"middle left\", \"type\": \"scatter\", \"x\": [0.09437248192515593, 0.07497703140642384, 0.010356912565548897, 0.8675952688854947, 0.21458729327617349, 0.12577603275121207, 0.05619505505548205, 0.27479372961330034, 0.14102951927502638, 0.17071241431827983, 0.08687256879851821, 0.01923442043489762, 0.14296986417996943, 0.04099252565032132, 0.05411572654461927, 0.06679750833126134, 0.028127973241345902, 0.0382177229267366, 0.04593354967797543, 0.033839010765098876, 0.0652787257631629, 0.04409811173039705, 0.19804636818548832, 0.0766375917571197, 0.05061627570284188, 0.143156931314206, 0.052032331944206055, 0.03349074975969117, 0.05681224375965515], \"y\": [0.07573801454708663, 0.07453462985942393, 0.0020497814559434567, -0.24553376258645354, 0.05707718964818904, 0.007008630729778245, 0.0315197264236545, 0.08350223429244459, 0.013364028917208365, 0.037085534591611624, 0.06453254781068878, 0.020347853069514494, 0.02079087039234184, 0.021291726627593325, 0.051276907048122586, 0.052839469275598454, 0.06456742308096124, 0.30630494926805163, 0.311519703409311, 0.13141467122010805, 0.6033482290652589, 0.10319860404011147, 0.12137552539063727, 0.05311581560356626, 0.08373174475074997, 0.0035826696993689526, 0.052000309917621126, 0.28661391809112463, 0.29355607008710727]}],                        {\"template\": {\"data\": {\"bar\": [{\"error_x\": {\"color\": \"#2a3f5f\"}, \"error_y\": {\"color\": \"#2a3f5f\"}, \"marker\": {\"line\": {\"color\": \"#E5ECF6\", \"width\": 0.5}}, \"type\": \"bar\"}], \"barpolar\": [{\"marker\": {\"line\": {\"color\": \"#E5ECF6\", \"width\": 0.5}}, \"type\": \"barpolar\"}], \"carpet\": [{\"aaxis\": {\"endlinecolor\": \"#2a3f5f\", \"gridcolor\": \"white\", \"linecolor\": \"white\", \"minorgridcolor\": \"white\", \"startlinecolor\": \"#2a3f5f\"}, \"baxis\": {\"endlinecolor\": \"#2a3f5f\", \"gridcolor\": \"white\", \"linecolor\": \"white\", \"minorgridcolor\": \"white\", \"startlinecolor\": \"#2a3f5f\"}, \"type\": \"carpet\"}], \"choropleth\": [{\"colorbar\": {\"outlinewidth\": 0, \"ticks\": \"\"}, \"type\": \"choropleth\"}], \"contour\": [{\"colorbar\": {\"outlinewidth\": 0, \"ticks\": \"\"}, \"colorscale\": [[0.0, \"#0d0887\"], [0.1111111111111111, \"#46039f\"], [0.2222222222222222, \"#7201a8\"], [0.3333333333333333, \"#9c179e\"], [0.4444444444444444, \"#bd3786\"], [0.5555555555555556, \"#d8576b\"], [0.6666666666666666, \"#ed7953\"], [0.7777777777777778, \"#fb9f3a\"], [0.8888888888888888, \"#fdca26\"], [1.0, \"#f0f921\"]], \"type\": \"contour\"}], \"contourcarpet\": [{\"colorbar\": {\"outlinewidth\": 0, \"ticks\": \"\"}, \"type\": \"contourcarpet\"}], \"heatmap\": [{\"colorbar\": {\"outlinewidth\": 0, \"ticks\": \"\"}, \"colorscale\": [[0.0, \"#0d0887\"], [0.1111111111111111, \"#46039f\"], [0.2222222222222222, \"#7201a8\"], [0.3333333333333333, \"#9c179e\"], [0.4444444444444444, \"#bd3786\"], [0.5555555555555556, \"#d8576b\"], [0.6666666666666666, \"#ed7953\"], [0.7777777777777778, \"#fb9f3a\"], [0.8888888888888888, \"#fdca26\"], [1.0, \"#f0f921\"]], \"type\": \"heatmap\"}], \"heatmapgl\": [{\"colorbar\": {\"outlinewidth\": 0, \"ticks\": \"\"}, \"colorscale\": [[0.0, \"#0d0887\"], [0.1111111111111111, \"#46039f\"], [0.2222222222222222, \"#7201a8\"], [0.3333333333333333, \"#9c179e\"], [0.4444444444444444, \"#bd3786\"], [0.5555555555555556, \"#d8576b\"], [0.6666666666666666, \"#ed7953\"], [0.7777777777777778, \"#fb9f3a\"], [0.8888888888888888, \"#fdca26\"], [1.0, \"#f0f921\"]], \"type\": \"heatmapgl\"}], \"histogram\": [{\"marker\": {\"colorbar\": {\"outlinewidth\": 0, \"ticks\": \"\"}}, \"type\": \"histogram\"}], \"histogram2d\": [{\"colorbar\": {\"outlinewidth\": 0, \"ticks\": \"\"}, \"colorscale\": [[0.0, \"#0d0887\"], [0.1111111111111111, \"#46039f\"], [0.2222222222222222, \"#7201a8\"], [0.3333333333333333, \"#9c179e\"], [0.4444444444444444, \"#bd3786\"], [0.5555555555555556, \"#d8576b\"], [0.6666666666666666, \"#ed7953\"], [0.7777777777777778, \"#fb9f3a\"], [0.8888888888888888, \"#fdca26\"], [1.0, \"#f0f921\"]], \"type\": \"histogram2d\"}], \"histogram2dcontour\": [{\"colorbar\": {\"outlinewidth\": 0, \"ticks\": \"\"}, \"colorscale\": [[0.0, \"#0d0887\"], [0.1111111111111111, \"#46039f\"], [0.2222222222222222, \"#7201a8\"], [0.3333333333333333, \"#9c179e\"], [0.4444444444444444, \"#bd3786\"], [0.5555555555555556, \"#d8576b\"], [0.6666666666666666, \"#ed7953\"], [0.7777777777777778, \"#fb9f3a\"], [0.8888888888888888, \"#fdca26\"], [1.0, \"#f0f921\"]], \"type\": \"histogram2dcontour\"}], \"mesh3d\": [{\"colorbar\": {\"outlinewidth\": 0, \"ticks\": \"\"}, \"type\": \"mesh3d\"}], \"parcoords\": [{\"line\": {\"colorbar\": {\"outlinewidth\": 0, \"ticks\": \"\"}}, \"type\": \"parcoords\"}], \"pie\": [{\"automargin\": true, \"type\": \"pie\"}], \"scatter\": [{\"marker\": {\"colorbar\": {\"outlinewidth\": 0, \"ticks\": \"\"}}, \"type\": \"scatter\"}], \"scatter3d\": [{\"line\": {\"colorbar\": {\"outlinewidth\": 0, \"ticks\": \"\"}}, \"marker\": {\"colorbar\": {\"outlinewidth\": 0, \"ticks\": \"\"}}, \"type\": \"scatter3d\"}], \"scattercarpet\": [{\"marker\": {\"colorbar\": {\"outlinewidth\": 0, \"ticks\": \"\"}}, \"type\": \"scattercarpet\"}], \"scattergeo\": [{\"marker\": {\"colorbar\": {\"outlinewidth\": 0, \"ticks\": \"\"}}, \"type\": \"scattergeo\"}], \"scattergl\": [{\"marker\": {\"colorbar\": {\"outlinewidth\": 0, \"ticks\": \"\"}}, \"type\": \"scattergl\"}], \"scattermapbox\": [{\"marker\": {\"colorbar\": {\"outlinewidth\": 0, \"ticks\": \"\"}}, \"type\": \"scattermapbox\"}], \"scatterpolar\": [{\"marker\": {\"colorbar\": {\"outlinewidth\": 0, \"ticks\": \"\"}}, \"type\": \"scatterpolar\"}], \"scatterpolargl\": [{\"marker\": {\"colorbar\": {\"outlinewidth\": 0, \"ticks\": \"\"}}, \"type\": \"scatterpolargl\"}], \"scatterternary\": [{\"marker\": {\"colorbar\": {\"outlinewidth\": 0, \"ticks\": \"\"}}, \"type\": \"scatterternary\"}], \"surface\": [{\"colorbar\": {\"outlinewidth\": 0, \"ticks\": \"\"}, \"colorscale\": [[0.0, \"#0d0887\"], [0.1111111111111111, \"#46039f\"], [0.2222222222222222, \"#7201a8\"], [0.3333333333333333, \"#9c179e\"], [0.4444444444444444, \"#bd3786\"], [0.5555555555555556, \"#d8576b\"], [0.6666666666666666, \"#ed7953\"], [0.7777777777777778, \"#fb9f3a\"], [0.8888888888888888, \"#fdca26\"], [1.0, \"#f0f921\"]], \"type\": \"surface\"}], \"table\": [{\"cells\": {\"fill\": {\"color\": \"#EBF0F8\"}, \"line\": {\"color\": \"white\"}}, \"header\": {\"fill\": {\"color\": \"#C8D4E3\"}, \"line\": {\"color\": \"white\"}}, \"type\": \"table\"}]}, \"layout\": {\"annotationdefaults\": {\"arrowcolor\": \"#2a3f5f\", \"arrowhead\": 0, \"arrowwidth\": 1}, \"coloraxis\": {\"colorbar\": {\"outlinewidth\": 0, \"ticks\": \"\"}}, \"colorscale\": {\"diverging\": [[0, \"#8e0152\"], [0.1, \"#c51b7d\"], [0.2, \"#de77ae\"], [0.3, \"#f1b6da\"], [0.4, \"#fde0ef\"], [0.5, \"#f7f7f7\"], [0.6, \"#e6f5d0\"], [0.7, \"#b8e186\"], [0.8, \"#7fbc41\"], [0.9, \"#4d9221\"], [1, \"#276419\"]], \"sequential\": [[0.0, \"#0d0887\"], [0.1111111111111111, \"#46039f\"], [0.2222222222222222, \"#7201a8\"], [0.3333333333333333, \"#9c179e\"], [0.4444444444444444, \"#bd3786\"], [0.5555555555555556, \"#d8576b\"], [0.6666666666666666, \"#ed7953\"], [0.7777777777777778, \"#fb9f3a\"], [0.8888888888888888, \"#fdca26\"], [1.0, \"#f0f921\"]], \"sequentialminus\": [[0.0, \"#0d0887\"], [0.1111111111111111, \"#46039f\"], [0.2222222222222222, \"#7201a8\"], [0.3333333333333333, \"#9c179e\"], [0.4444444444444444, \"#bd3786\"], [0.5555555555555556, \"#d8576b\"], [0.6666666666666666, \"#ed7953\"], [0.7777777777777778, \"#fb9f3a\"], [0.8888888888888888, \"#fdca26\"], [1.0, \"#f0f921\"]]}, \"colorway\": [\"#636efa\", \"#EF553B\", \"#00cc96\", \"#ab63fa\", \"#FFA15A\", \"#19d3f3\", \"#FF6692\", \"#B6E880\", \"#FF97FF\", \"#FECB52\"], \"font\": {\"color\": \"#2a3f5f\"}, \"geo\": {\"bgcolor\": \"white\", \"lakecolor\": \"white\", \"landcolor\": \"#E5ECF6\", \"showlakes\": true, \"showland\": true, \"subunitcolor\": \"white\"}, \"hoverlabel\": {\"align\": \"left\"}, \"hovermode\": \"closest\", \"mapbox\": {\"style\": \"light\"}, \"paper_bgcolor\": \"white\", \"plot_bgcolor\": \"#E5ECF6\", \"polar\": {\"angularaxis\": {\"gridcolor\": \"white\", \"linecolor\": \"white\", \"ticks\": \"\"}, \"bgcolor\": \"#E5ECF6\", \"radialaxis\": {\"gridcolor\": \"white\", \"linecolor\": \"white\", \"ticks\": \"\"}}, \"scene\": {\"xaxis\": {\"backgroundcolor\": \"#E5ECF6\", \"gridcolor\": \"white\", \"gridwidth\": 2, \"linecolor\": \"white\", \"showbackground\": true, \"ticks\": \"\", \"zerolinecolor\": \"white\"}, \"yaxis\": {\"backgroundcolor\": \"#E5ECF6\", \"gridcolor\": \"white\", \"gridwidth\": 2, \"linecolor\": \"white\", \"showbackground\": true, \"ticks\": \"\", \"zerolinecolor\": \"white\"}, \"zaxis\": {\"backgroundcolor\": \"#E5ECF6\", \"gridcolor\": \"white\", \"gridwidth\": 2, \"linecolor\": \"white\", \"showbackground\": true, \"ticks\": \"\", \"zerolinecolor\": \"white\"}}, \"shapedefaults\": {\"line\": {\"color\": \"#2a3f5f\"}}, \"ternary\": {\"aaxis\": {\"gridcolor\": \"white\", \"linecolor\": \"white\", \"ticks\": \"\"}, \"baxis\": {\"gridcolor\": \"white\", \"linecolor\": \"white\", \"ticks\": \"\"}, \"bgcolor\": \"#E5ECF6\", \"caxis\": {\"gridcolor\": \"white\", \"linecolor\": \"white\", \"ticks\": \"\"}}, \"title\": {\"x\": 0.05}, \"xaxis\": {\"automargin\": true, \"gridcolor\": \"white\", \"linecolor\": \"white\", \"ticks\": \"\", \"title\": {\"standoff\": 15}, \"zerolinecolor\": \"white\", \"zerolinewidth\": 2}, \"yaxis\": {\"automargin\": true, \"gridcolor\": \"white\", \"linecolor\": \"white\", \"ticks\": \"\", \"title\": {\"standoff\": 15}, \"zerolinecolor\": \"white\", \"zerolinewidth\": 2}}}, \"title\": {\"text\": \"T\\u00f3picos\"}, \"xaxis\": {\"zeroline\": true}},                        {\"responsive\": true}                    ).then(function(){\n",
       "                            \n",
       "var gd = document.getElementById('48b709ba-0ab2-4d43-bc5d-9de08db34cef');\n",
       "var x = new MutationObserver(function (mutations, observer) {{\n",
       "        var display = window.getComputedStyle(gd).display;\n",
       "        if (!display || display === 'none') {{\n",
       "            console.log([gd, 'removed!']);\n",
       "            Plotly.purge(gd);\n",
       "            observer.disconnect();\n",
       "        }}\n",
       "}});\n",
       "\n",
       "// Listen for the removal of the full notebook cells\n",
       "var notebookContainer = gd.closest('#notebook-container');\n",
       "if (notebookContainer) {{\n",
       "    x.observe(notebookContainer, {childList: true});\n",
       "}}\n",
       "\n",
       "// Listen for the clearing of the current output cell\n",
       "var outputEl = gd.closest('.output');\n",
       "if (outputEl) {{\n",
       "    x.observe(outputEl, {childList: true});\n",
       "}}\n",
       "\n",
       "                        })                };                });            </script>        </div>"
      ]
     },
     "metadata": {},
     "output_type": "display_data"
    }
   ],
   "source": [
    "fig = go.Figure()\n",
    "fig.add_trace(go.Scatter(\n",
    "    x = P[:,0], y = P[:,1],\n",
    "    mode ='markers+text',\n",
    "    text = ['doc' + str(i) for i in range(len(corpus))],\n",
    "    marker = dict(\n",
    "        size = 10,\n",
    "        color = list(range(29)),\n",
    "    ),\n",
    "    textposition=\"middle left\",\n",
    "    textfont=dict(\n",
    "        size=10,\n",
    "        color=\"Blue\"\n",
    "    )\n",
    "))\n",
    "fig.update_layout(title='Tópicos', xaxis_zeroline=True)\n",
    "\n",
    "fig.show()"
   ]
  },
  {
   "cell_type": "code",
   "execution_count": 307,
   "metadata": {},
   "outputs": [],
   "source": [
    "comp1, comp2 = svd.components_"
   ]
  },
  {
   "cell_type": "code",
   "execution_count": 308,
   "metadata": {},
   "outputs": [],
   "source": [
    "indices1 = np.argsort(comp1)"
   ]
  },
  {
   "cell_type": "code",
   "execution_count": 309,
   "metadata": {},
   "outputs": [
    {
     "data": {
      "text/plain": [
       "array([214, 318,  68,  62, 205, 111, 338,  52, 379, 242,  77, 259, 197,\n",
       "       165, 210, 307,  94, 162,  53, 309])"
      ]
     },
     "execution_count": 309,
     "metadata": {},
     "output_type": "execute_result"
    }
   ],
   "source": [
    "indices1 = indices1[::-1]\n",
    "indices1[:20]"
   ]
  },
  {
   "cell_type": "code",
   "execution_count": 310,
   "metadata": {},
   "outputs": [],
   "source": [
    "indices2 = np.argsort(comp2)\n",
    "indices2 = indices2[::-1]"
   ]
  },
  {
   "cell_type": "code",
   "execution_count": 311,
   "metadata": {},
   "outputs": [
    {
     "data": {
      "text/plain": [
       "array([162, 255, 130, 229, 227,  13,  16, 189, 142, 145, 249, 163, 242,\n",
       "       285,  96, 173,  74, 201, 107, 351])"
      ]
     },
     "execution_count": 311,
     "metadata": {},
     "output_type": "execute_result"
    }
   ],
   "source": [
    "indices2[:20]"
   ]
  },
  {
   "cell_type": "code",
   "execution_count": 312,
   "metadata": {},
   "outputs": [
    {
     "name": "stdout",
     "output_type": "stream",
     "text": [
      "Dimensión 1:\n",
      "['inflacion' 'proximas' 'ajustaran' 'afectara' 'horas' 'cadenas' 'resto'\n",
      " 'acelerada' 'valores' 'mas' 'ano' 'mientras' 'gobierno' 'economia'\n",
      " 'indec' 'precios' 'aun' 'dolar' 'aceleraran' 'presion' 'cerro' 'dolares'\n",
      " 'agosto' 'millones' 'alto' 'publico' 'mes' 'informo' 'tarifazos'\n",
      " 'noviembre' 'nivel' 'diciembre' 'pone' 'vienen' 'salarios' 'trabajadores'\n",
      " 'caida' 'segun' '25' 'efecto' 'guillermo' 'nielsen' 'pequeno' 'octubre'\n",
      " 'respecto' 'mep' 'logro' 'total' 'indumentaria' 'alimentos' 'anterior'\n",
      " 'tambien' 'indice' 'arrastre' 'liberal' 'cada' 'partir' 'hoy'\n",
      " 'surtidores' 'guzman' 'suba' 'poder' 'cepo' 'pagar' 'oficialismo'\n",
      " 'fraudulenta' 'grifo' 'preserva' 'frente' 'fondo' 'ahorrista'\n",
      " 'protegerse' 'quiere' 'compra' 'us' 'deuda' 'deie' '36' 'ajusta'\n",
      " 'registro' 'canasta' 'maximos' 'super' 'bonos' 'interes' 'podra'\n",
      " 'acumulacion' 'buscan' 'emitiran' '60000' '1000' 'interanual' 'estatales'\n",
      " 'contado' 'liquidacion' 'subio' 'miles' 'paritarias' 'salariales'\n",
      " 'trabajadoras' 'aumentaron' 'resiste' 'provincial' 'rubros' '57' 'basica'\n",
      " 'jueves' 'brecha' 'precio' 'medida' '27' 'mostro' 'correspondio'\n",
      " 'recomposicion' '358' 'ultimos' 'sector' 'ligados' 'calmar' 'tasa'\n",
      " 'equivalente' 'fracasos' 'colocar' 'especuladores' 'meses' 'pesos' 'va'\n",
      " 'sectores' 'cinco' 'sera' 'apertura' 'relacion' 'mismo' 'dos'\n",
      " 'incremento' 'transporte' 'profundiza' 'incluye' 'minimos' 'alza'\n",
      " 'construccion' 'anos' '216' '14958' '14554' 'finalizo' 'limite'\n",
      " 'registrado' 'reclamo' 'debajo' 'estiman' 'cierran' 'acuerdos'\n",
      " 'movilizan' 'paritarios' 'consultoras' 'caera' 'mensual' 'emae'\n",
      " 'economica' 'estimador' '119' '116' 'actividad' '0' 'septiembre'\n",
      " 'cotizaciones' 'medidas' 'liquido' '1700' 'mayor' '16' 'salarial'\n",
      " 'cambiaria' '06' 'solo' 'habia' 'esperan' 'tipo' 'derrumbaron'\n",
      " 'exportaciones' 'pronunciada' 'exportadores' 'cambio' 'acumula'\n",
      " 'paralelas' 'bajar' 'encontraron' 'baja' 'acelera' 'record' 'nueve' 'cae'\n",
      " 'numero' 'articulos' 'negocio' '269' 'blue' 'agrava' 'menos' 'faltante'\n",
      " 'objetivo' 'divisas' 'campo' 'adultos' 'menores' 'mayores' 'hogar'\n",
      " 'consumos' 'dias' 'mantiene' 'estima' 'evitar' 'anunciado' 'materiales'\n",
      " '56' 'crecieron' 'programa' 'sesion' '125' 'periodo' 'acumulo' 'central'\n",
      " 'aumento' 'banco' '40' 'salario' 'alimenticias' 'supermercados' 'lista'\n",
      " 'consumidor' 'importante' '2020' 'bolsillo' 'golpe' 'eliminar' 'oficial'\n",
      " 'mayorista' 'liqui' 'interna' 'junta' 'volvera' '140' 'aumenta'\n",
      " 'financieros' 'ahorro' 'consecutiva' 'tercera' 'arrancaron' 'supera' '11'\n",
      " 'primeros' '2019' 'previo' 'leve' 'ocho' 'derrumbe' 'denuncian'\n",
      " 'descendio' 'realizara' 'pases' 'rendimientos' 'punto' 'plan' 'cerrar'\n",
      " 'medio' 'festival' '175' 'pimco' 'templeton' 'beneficio' 'titulos'\n",
      " 'ministerio' 'inversion' 'canjeo' 'amplia' 'llego' '17932' 'pese'\n",
      " 'disparo' 'miercoles' 'adquisitivo' 'ate' 'monto' 'paralelo' 'desciende'\n",
      " 'calcularon' 'miserable' '143' '165' 'anuncios' 'cayendo' 'bajo' 'martes'\n",
      " 'cerca' 'viernes' 'nuevos' '15699' '17196' 'endeudamiento' 'fondos'\n",
      " 'reducir' 'nominados' 'lunes' 'caer' '169' 'alarmas' 'subas' '183'\n",
      " 'encendiendo' 'concesiones' 'nueva' 'anota' 'jornada' '875' 'abandono'\n",
      " '14583' 'escalo' '13' 'cnv' 'habiles' 'paritaria' 'asi' 'semana'\n",
      " 'descienden' 'respectivamente' '147' 'financieras' '144' 'luego' '31'\n",
      " 'mantuvo' 'pesar' 'manteniendo' '82' 'paz' '12' 'venderlo' 'tres'\n",
      " 'cantidad' 'vez' 'inversor' 'anuncio' 'tener' 'reduce' 'mercado'\n",
      " 'alcanzado' 'billete' 'rebote' 'rueda' 'pasado' 'casi' '23' '195' '28'\n",
      " 'desplomo' 'contraccion' 'permitio' 'mejoro' '39' '34' 'aplicara'\n",
      " 'strike' 'tobacco' 'bat' 'lucky' 'british' 'american' 'bono' 'industrial'\n",
      " 'descenso' 'actividades' 'reapertura' 'recuperar' 'parte' 'empleo' '14'\n",
      " 'fabrica' 'marcas' 'tabacalera' 'pro' '4' '5' '9' '7']\n"
     ]
    }
   ],
   "source": [
    "dim1 = np.array(vocabulario)[indices1]\n",
    "print(f'Dimensión 1:\\n{dim1}')"
   ]
  },
  {
   "cell_type": "code",
   "execution_count": 313,
   "metadata": {},
   "outputs": [
    {
     "name": "stdout",
     "output_type": "stream",
     "text": [
      "Dimensión 2:\n",
      "['dolar' 'mep' 'cerro' 'liquidacion' 'limite' '14554' '14958' 'finalizo'\n",
      " 'contado' 'cotizaciones' 'medidas' 'dolares' 'mas' 'paralelas' 'bajar'\n",
      " 'encontraron' 'alza' 'guzman' 'brecha' 'sesion' 'subio' 'ano' 'pesos'\n",
      " 'cinco' 'mayorista' 'aumenta' 'ahorro' 'tercera' 'financieros' '140'\n",
      " 'arrancaron' 'consecutiva' 'supera' 'economia' '17196' '15699' 'mantiene'\n",
      " 'cambiaria' '13' '14583' '875' 'abandono' 'escalo' 'gobierno' 'paralelo'\n",
      " 'respectivamente' 'descienden' 'asi' '147' 'financieras' 'semana'\n",
      " 'acumula' 'mientras' 'liqui' 'llego' 'disparo' 'amplia' 'pese' '17932'\n",
      " 'miercoles' 'logro' 'aun' 'blue' '82' 'paz' 'pesar' 'mantuvo'\n",
      " 'manteniendo' '12' 'suba' 'mayor' '183' 'nueva' 'subas' 'encendiendo'\n",
      " 'jornada' 'concesiones' '169' 'alarmas' 'anota' 'mercado' 'precios'\n",
      " 'oficial' 'record' 'dias' 'alto' 'indec' 'pequeno' 'deuda' '14' 'meses'\n",
      " 'octubre' 'maximos' 'bonos' 'anterior' 'relacion' 'aceleraran' 'presion'\n",
      " 'pro' 'dos' 'oficialismo' 'fondo' 'pagar' 'preserva' 'cepo' 'grifo'\n",
      " 'quiere' 'protegerse' 'ahorrista' 'fraudulenta' 'frente' 'luego' '144'\n",
      " '31' 'ultimos' 'canjeo' 'beneficio' 'inversion' 'titulos' 'templeton'\n",
      " 'ministerio' 'pimco' 'baja' 'jueves' 'mes' 'mismo' '119' '116' 'caera'\n",
      " 'mensual' 'economica' 'emae' 'estimador' 'super' 'aumento' 'central'\n",
      " 'banco' 'actividad' 'segun' 'respecto' 'pone' 'noviembre' 'nivel'\n",
      " 'tarifazos' 'diciembre' 'vienen' 'millones' 'rueda' 'rebote' 'casi'\n",
      " 'billete' 'pasado' 'alcanzado' '28' '195' '23' 'construccion' '216'\n",
      " 'anos' 'endeudamiento' 'nominados' 'reducir' 'lunes' 'fondos' 'cnv'\n",
      " 'habiles' 'interanual' 'nueve' 'plan' 'festival' 'cerrar' 'pases' '175'\n",
      " 'rendimientos' 'medio' 'punto' 'salarios' '4' 'indice' 'agosto' 'efecto'\n",
      " 'guillermo' '25' 'nielsen' 'us' 'poder' 'septiembre' 'esperan' 'tipo'\n",
      " 'exportaciones' 'pronunciada' 'exportadores' 'cambio' 'derrumbaron'\n",
      " 'publico' 'periodo' 'acumulo' '125' 'estima' 'liquido' '1700' 'desciende'\n",
      " 'habia' 'solo' '06' 'venderlo' 'tener' 'vez' 'cantidad' 'anuncio'\n",
      " 'reduce' 'inversor' 'tres' 'trabajadores' 'minimos' 'compra' 'negocio'\n",
      " '269' 'articulos' 'numero' 'arrastre' 'cada' 'partir' 'liberal' 'hoy'\n",
      " 'surtidores' 'tambien' 'registro' 'derrumbe' 'primeros' 'previo' '2019'\n",
      " 'ocho' 'leve' '11' 'descendio' 'realizara' 'divisas' 'menos' 'agrava'\n",
      " 'campo' 'objetivo' 'faltante' 'anunciado' 'materiales' 'evitar'\n",
      " 'crecieron' '56' 'programa' 'informo' 'sector' 'canasta' 'ajusta' 'va'\n",
      " 'estatales' 'bolsillo' 'importante' 'golpe' 'supermercados' '2020'\n",
      " 'lista' 'consumidor' 'alimenticias' 'eliminar' '40' 'bono' 'anuncios'\n",
      " 'martes' 'cayendo' '165' 'bajo' 'nuevos' 'cerca' 'viernes' '143'\n",
      " 'mayores' 'hogar' 'adultos' 'consumos' 'menores' '9' 'deie' '36' 'precio'\n",
      " 'medida' 'alimentos' 'indumentaria' 'volvera' 'interna' 'junta' 'rubros'\n",
      " 'salariales' 'provincial' 'miles' 'resiste' 'paritarias' 'aumentaron'\n",
      " 'trabajadoras' 'caida' 'denuncian' '0' 'apertura' 'ate' 'adquisitivo'\n",
      " 'monto' 'sectores' 'total' 'mejoro' 'desplomo' '39' '34' 'permitio'\n",
      " 'contraccion' 'miserable' 'calcularon' 'caer' 'paritaria' 'empleo'\n",
      " 'industrial' 'recuperar' 'parte' 'reapertura' 'descenso' 'actividades'\n",
      " 'correspondio' 'mostro' '27' 'registrado' '5' '57' 'basica' '16'\n",
      " 'profundiza' 'transporte' 'incremento' 'incluye' 'sera' 'recomposicion'\n",
      " '358' 'acelera' 'cierran' 'debajo' 'consultoras' 'reclamo' 'movilizan'\n",
      " 'estiman' 'paritarios' 'acuerdos' 'salarial' 'cae' 'american' 'strike'\n",
      " 'tobacco' 'british' 'aplicara' 'lucky' 'bat' 'salario' 'marcas'\n",
      " 'tabacalera' 'fabrica' '1000' 'emitiran' 'podra' 'buscan' '60000'\n",
      " 'acumulacion' 'interes' 'colocar' 'ligados' 'equivalente' 'especuladores'\n",
      " 'tasa' 'calmar' 'fracasos' '7' 'inflacion' 'valores' 'cadenas' 'resto'\n",
      " 'horas' 'acelerada' 'proximas' 'afectara' 'ajustaran']\n"
     ]
    }
   ],
   "source": [
    "dim2 = np.array(vocabulario)[indices2]\n",
    "print(f'Dimensión 2:\\n{dim2}')"
   ]
  },
  {
   "cell_type": "markdown",
   "metadata": {},
   "source": [
    "### Prueba nro. 2 - Vocabulario alfabético (sin stopwords) + Tf-IDf suavizado total"
   ]
  },
  {
   "cell_type": "markdown",
   "metadata": {},
   "source": [
    "#### Tokenización Manual (Alfabética)"
   ]
  },
  {
   "cell_type": "code",
   "execution_count": 332,
   "metadata": {},
   "outputs": [],
   "source": [
    "stopwords_sp = stopwords.words('spanish')\n",
    "stopwords_sp.append('mas')\n",
    "stopwords_sp.append('ano')\n",
    "stopwords_sp.append('anos')\n",
    "stopwords_sp.append('mes')\n",
    "stopwords_sp.append('asi')\n",
    "stopwords_sp.append('casi')\n",
    "stopwords_sp.append('dos')\n",
    "stopwords_sp.append('vez')\n",
    "\n",
    "def alpha_tokenizer(texto):\n",
    "    \n",
    "    import re\n",
    "    import unidecode\n",
    "       \n",
    "    alphanumeric = re.sub(r'([^\\s\\w]|_)+', '', texto).lower()\n",
    "    no_accents = unidecode.unidecode(alphanumeric)\n",
    "    \n",
    "    tockens = word_tokenize(no_accents)\n",
    "    \n",
    "    tockens_clean = [tocken for tocken in tockens if tocken not in stopwords_sp and tocken.isalpha()]\n",
    "    \n",
    "    terminos = tockens_clean\n",
    "\n",
    "    return terminos"
   ]
  },
  {
   "cell_type": "code",
   "execution_count": 333,
   "metadata": {},
   "outputs": [
    {
     "data": {
      "text/plain": [
       "29"
      ]
     },
     "execution_count": 333,
     "metadata": {},
     "output_type": "execute_result"
    }
   ],
   "source": [
    "tokenized_alpha = [alpha_tokenizer(documento) for documento in corpus]\n",
    "len(tokenized_alpha)"
   ]
  },
  {
   "cell_type": "code",
   "execution_count": 334,
   "metadata": {},
   "outputs": [
    {
     "data": {
      "text/plain": [
       "385"
      ]
     },
     "execution_count": 334,
     "metadata": {},
     "output_type": "execute_result"
    }
   ],
   "source": [
    "vocabulario_alpha = sorted(list(set([word for group in tokenized_alpha for word in group])))\n",
    "len(vocabulario)"
   ]
  },
  {
   "cell_type": "markdown",
   "metadata": {},
   "source": [
    "#### Vectorización"
   ]
  },
  {
   "cell_type": "code",
   "execution_count": 335,
   "metadata": {},
   "outputs": [],
   "source": [
    "matriz_alpha = np.zeros(shape = (len(tokenized_alpha), len(vocabulario_alpha)), dtype='int')"
   ]
  },
  {
   "cell_type": "code",
   "execution_count": 336,
   "metadata": {},
   "outputs": [
    {
     "data": {
      "text/plain": [
       "108"
      ]
     },
     "execution_count": 336,
     "metadata": {},
     "output_type": "execute_result"
    }
   ],
   "source": [
    "# hallar ubicación del término en el vocabulario\n",
    "vocabulario_alpha.index('dolar')"
   ]
  },
  {
   "cell_type": "code",
   "execution_count": 337,
   "metadata": {},
   "outputs": [],
   "source": [
    "for i, documento in enumerate(tokenized_alpha):\n",
    "    for termino in documento:\n",
    "        matriz_alpha[i, vocabulario_alpha.index(termino)] =+ 1"
   ]
  },
  {
   "cell_type": "code",
   "execution_count": 338,
   "metadata": {},
   "outputs": [],
   "source": [
    "df_dummies_alpha = pd.DataFrame(matriz_alpha, columns=vocabulario_alpha, index = ['doc' + str(i + 1) for i in range(len(tokenized_alpha))] )"
   ]
  },
  {
   "cell_type": "code",
   "execution_count": 339,
   "metadata": {},
   "outputs": [
    {
     "data": {
      "text/html": [
       "<div>\n",
       "<style scoped>\n",
       "    .dataframe tbody tr th:only-of-type {\n",
       "        vertical-align: middle;\n",
       "    }\n",
       "\n",
       "    .dataframe tbody tr th {\n",
       "        vertical-align: top;\n",
       "    }\n",
       "\n",
       "    .dataframe thead th {\n",
       "        text-align: right;\n",
       "    }\n",
       "</style>\n",
       "<table border=\"1\" class=\"dataframe\">\n",
       "  <thead>\n",
       "    <tr style=\"text-align: right;\">\n",
       "      <th></th>\n",
       "      <th>abandono</th>\n",
       "      <th>acelera</th>\n",
       "      <th>acelerada</th>\n",
       "      <th>aceleraran</th>\n",
       "      <th>actividad</th>\n",
       "      <th>actividades</th>\n",
       "      <th>acuerdos</th>\n",
       "      <th>acumula</th>\n",
       "      <th>acumulacion</th>\n",
       "      <th>acumulo</th>\n",
       "      <th>...</th>\n",
       "      <th>transporte</th>\n",
       "      <th>tres</th>\n",
       "      <th>ultimos</th>\n",
       "      <th>us</th>\n",
       "      <th>va</th>\n",
       "      <th>valores</th>\n",
       "      <th>venderlo</th>\n",
       "      <th>vienen</th>\n",
       "      <th>viernes</th>\n",
       "      <th>volvera</th>\n",
       "    </tr>\n",
       "  </thead>\n",
       "  <tbody>\n",
       "    <tr>\n",
       "      <th>doc1</th>\n",
       "      <td>0</td>\n",
       "      <td>0</td>\n",
       "      <td>0</td>\n",
       "      <td>0</td>\n",
       "      <td>0</td>\n",
       "      <td>0</td>\n",
       "      <td>0</td>\n",
       "      <td>0</td>\n",
       "      <td>0</td>\n",
       "      <td>0</td>\n",
       "      <td>...</td>\n",
       "      <td>0</td>\n",
       "      <td>0</td>\n",
       "      <td>1</td>\n",
       "      <td>0</td>\n",
       "      <td>0</td>\n",
       "      <td>0</td>\n",
       "      <td>0</td>\n",
       "      <td>0</td>\n",
       "      <td>0</td>\n",
       "      <td>0</td>\n",
       "    </tr>\n",
       "    <tr>\n",
       "      <th>doc2</th>\n",
       "      <td>0</td>\n",
       "      <td>0</td>\n",
       "      <td>0</td>\n",
       "      <td>0</td>\n",
       "      <td>1</td>\n",
       "      <td>0</td>\n",
       "      <td>0</td>\n",
       "      <td>1</td>\n",
       "      <td>0</td>\n",
       "      <td>0</td>\n",
       "      <td>...</td>\n",
       "      <td>0</td>\n",
       "      <td>0</td>\n",
       "      <td>0</td>\n",
       "      <td>0</td>\n",
       "      <td>0</td>\n",
       "      <td>0</td>\n",
       "      <td>0</td>\n",
       "      <td>0</td>\n",
       "      <td>0</td>\n",
       "      <td>0</td>\n",
       "    </tr>\n",
       "    <tr>\n",
       "      <th>doc3</th>\n",
       "      <td>0</td>\n",
       "      <td>0</td>\n",
       "      <td>0</td>\n",
       "      <td>0</td>\n",
       "      <td>0</td>\n",
       "      <td>0</td>\n",
       "      <td>0</td>\n",
       "      <td>0</td>\n",
       "      <td>0</td>\n",
       "      <td>0</td>\n",
       "      <td>...</td>\n",
       "      <td>0</td>\n",
       "      <td>0</td>\n",
       "      <td>0</td>\n",
       "      <td>0</td>\n",
       "      <td>0</td>\n",
       "      <td>0</td>\n",
       "      <td>0</td>\n",
       "      <td>0</td>\n",
       "      <td>0</td>\n",
       "      <td>0</td>\n",
       "    </tr>\n",
       "    <tr>\n",
       "      <th>doc4</th>\n",
       "      <td>0</td>\n",
       "      <td>0</td>\n",
       "      <td>1</td>\n",
       "      <td>0</td>\n",
       "      <td>0</td>\n",
       "      <td>0</td>\n",
       "      <td>0</td>\n",
       "      <td>0</td>\n",
       "      <td>0</td>\n",
       "      <td>0</td>\n",
       "      <td>...</td>\n",
       "      <td>0</td>\n",
       "      <td>0</td>\n",
       "      <td>0</td>\n",
       "      <td>0</td>\n",
       "      <td>0</td>\n",
       "      <td>1</td>\n",
       "      <td>0</td>\n",
       "      <td>0</td>\n",
       "      <td>0</td>\n",
       "      <td>0</td>\n",
       "    </tr>\n",
       "    <tr>\n",
       "      <th>doc5</th>\n",
       "      <td>0</td>\n",
       "      <td>0</td>\n",
       "      <td>0</td>\n",
       "      <td>0</td>\n",
       "      <td>0</td>\n",
       "      <td>0</td>\n",
       "      <td>0</td>\n",
       "      <td>0</td>\n",
       "      <td>0</td>\n",
       "      <td>0</td>\n",
       "      <td>...</td>\n",
       "      <td>0</td>\n",
       "      <td>0</td>\n",
       "      <td>0</td>\n",
       "      <td>0</td>\n",
       "      <td>0</td>\n",
       "      <td>0</td>\n",
       "      <td>0</td>\n",
       "      <td>0</td>\n",
       "      <td>0</td>\n",
       "      <td>0</td>\n",
       "    </tr>\n",
       "    <tr>\n",
       "      <th>doc6</th>\n",
       "      <td>0</td>\n",
       "      <td>0</td>\n",
       "      <td>0</td>\n",
       "      <td>0</td>\n",
       "      <td>0</td>\n",
       "      <td>0</td>\n",
       "      <td>1</td>\n",
       "      <td>0</td>\n",
       "      <td>0</td>\n",
       "      <td>0</td>\n",
       "      <td>...</td>\n",
       "      <td>0</td>\n",
       "      <td>0</td>\n",
       "      <td>0</td>\n",
       "      <td>0</td>\n",
       "      <td>0</td>\n",
       "      <td>0</td>\n",
       "      <td>0</td>\n",
       "      <td>0</td>\n",
       "      <td>0</td>\n",
       "      <td>0</td>\n",
       "    </tr>\n",
       "    <tr>\n",
       "      <th>doc7</th>\n",
       "      <td>0</td>\n",
       "      <td>0</td>\n",
       "      <td>0</td>\n",
       "      <td>0</td>\n",
       "      <td>0</td>\n",
       "      <td>0</td>\n",
       "      <td>0</td>\n",
       "      <td>0</td>\n",
       "      <td>0</td>\n",
       "      <td>0</td>\n",
       "      <td>...</td>\n",
       "      <td>0</td>\n",
       "      <td>0</td>\n",
       "      <td>0</td>\n",
       "      <td>0</td>\n",
       "      <td>0</td>\n",
       "      <td>0</td>\n",
       "      <td>0</td>\n",
       "      <td>0</td>\n",
       "      <td>0</td>\n",
       "      <td>1</td>\n",
       "    </tr>\n",
       "    <tr>\n",
       "      <th>doc8</th>\n",
       "      <td>0</td>\n",
       "      <td>0</td>\n",
       "      <td>0</td>\n",
       "      <td>1</td>\n",
       "      <td>0</td>\n",
       "      <td>0</td>\n",
       "      <td>0</td>\n",
       "      <td>0</td>\n",
       "      <td>0</td>\n",
       "      <td>0</td>\n",
       "      <td>...</td>\n",
       "      <td>0</td>\n",
       "      <td>0</td>\n",
       "      <td>0</td>\n",
       "      <td>0</td>\n",
       "      <td>1</td>\n",
       "      <td>0</td>\n",
       "      <td>0</td>\n",
       "      <td>1</td>\n",
       "      <td>0</td>\n",
       "      <td>0</td>\n",
       "    </tr>\n",
       "    <tr>\n",
       "      <th>doc9</th>\n",
       "      <td>0</td>\n",
       "      <td>1</td>\n",
       "      <td>0</td>\n",
       "      <td>0</td>\n",
       "      <td>0</td>\n",
       "      <td>0</td>\n",
       "      <td>0</td>\n",
       "      <td>0</td>\n",
       "      <td>0</td>\n",
       "      <td>0</td>\n",
       "      <td>...</td>\n",
       "      <td>1</td>\n",
       "      <td>0</td>\n",
       "      <td>0</td>\n",
       "      <td>0</td>\n",
       "      <td>0</td>\n",
       "      <td>0</td>\n",
       "      <td>0</td>\n",
       "      <td>0</td>\n",
       "      <td>0</td>\n",
       "      <td>0</td>\n",
       "    </tr>\n",
       "    <tr>\n",
       "      <th>doc10</th>\n",
       "      <td>0</td>\n",
       "      <td>0</td>\n",
       "      <td>0</td>\n",
       "      <td>0</td>\n",
       "      <td>0</td>\n",
       "      <td>0</td>\n",
       "      <td>0</td>\n",
       "      <td>0</td>\n",
       "      <td>0</td>\n",
       "      <td>0</td>\n",
       "      <td>...</td>\n",
       "      <td>0</td>\n",
       "      <td>0</td>\n",
       "      <td>0</td>\n",
       "      <td>0</td>\n",
       "      <td>0</td>\n",
       "      <td>0</td>\n",
       "      <td>0</td>\n",
       "      <td>0</td>\n",
       "      <td>0</td>\n",
       "      <td>0</td>\n",
       "    </tr>\n",
       "    <tr>\n",
       "      <th>doc11</th>\n",
       "      <td>0</td>\n",
       "      <td>0</td>\n",
       "      <td>0</td>\n",
       "      <td>0</td>\n",
       "      <td>0</td>\n",
       "      <td>0</td>\n",
       "      <td>0</td>\n",
       "      <td>0</td>\n",
       "      <td>0</td>\n",
       "      <td>0</td>\n",
       "      <td>...</td>\n",
       "      <td>0</td>\n",
       "      <td>0</td>\n",
       "      <td>0</td>\n",
       "      <td>0</td>\n",
       "      <td>1</td>\n",
       "      <td>0</td>\n",
       "      <td>0</td>\n",
       "      <td>0</td>\n",
       "      <td>0</td>\n",
       "      <td>0</td>\n",
       "    </tr>\n",
       "    <tr>\n",
       "      <th>doc12</th>\n",
       "      <td>0</td>\n",
       "      <td>0</td>\n",
       "      <td>0</td>\n",
       "      <td>0</td>\n",
       "      <td>1</td>\n",
       "      <td>1</td>\n",
       "      <td>0</td>\n",
       "      <td>0</td>\n",
       "      <td>0</td>\n",
       "      <td>0</td>\n",
       "      <td>...</td>\n",
       "      <td>0</td>\n",
       "      <td>0</td>\n",
       "      <td>1</td>\n",
       "      <td>0</td>\n",
       "      <td>0</td>\n",
       "      <td>0</td>\n",
       "      <td>0</td>\n",
       "      <td>0</td>\n",
       "      <td>0</td>\n",
       "      <td>0</td>\n",
       "    </tr>\n",
       "    <tr>\n",
       "      <th>doc13</th>\n",
       "      <td>0</td>\n",
       "      <td>0</td>\n",
       "      <td>0</td>\n",
       "      <td>0</td>\n",
       "      <td>0</td>\n",
       "      <td>0</td>\n",
       "      <td>0</td>\n",
       "      <td>0</td>\n",
       "      <td>0</td>\n",
       "      <td>0</td>\n",
       "      <td>...</td>\n",
       "      <td>0</td>\n",
       "      <td>0</td>\n",
       "      <td>0</td>\n",
       "      <td>0</td>\n",
       "      <td>0</td>\n",
       "      <td>0</td>\n",
       "      <td>0</td>\n",
       "      <td>0</td>\n",
       "      <td>0</td>\n",
       "      <td>0</td>\n",
       "    </tr>\n",
       "    <tr>\n",
       "      <th>doc14</th>\n",
       "      <td>0</td>\n",
       "      <td>0</td>\n",
       "      <td>0</td>\n",
       "      <td>0</td>\n",
       "      <td>0</td>\n",
       "      <td>0</td>\n",
       "      <td>0</td>\n",
       "      <td>0</td>\n",
       "      <td>0</td>\n",
       "      <td>0</td>\n",
       "      <td>...</td>\n",
       "      <td>0</td>\n",
       "      <td>0</td>\n",
       "      <td>0</td>\n",
       "      <td>0</td>\n",
       "      <td>0</td>\n",
       "      <td>0</td>\n",
       "      <td>0</td>\n",
       "      <td>0</td>\n",
       "      <td>0</td>\n",
       "      <td>0</td>\n",
       "    </tr>\n",
       "    <tr>\n",
       "      <th>doc15</th>\n",
       "      <td>0</td>\n",
       "      <td>0</td>\n",
       "      <td>0</td>\n",
       "      <td>0</td>\n",
       "      <td>0</td>\n",
       "      <td>0</td>\n",
       "      <td>0</td>\n",
       "      <td>0</td>\n",
       "      <td>0</td>\n",
       "      <td>1</td>\n",
       "      <td>...</td>\n",
       "      <td>0</td>\n",
       "      <td>0</td>\n",
       "      <td>0</td>\n",
       "      <td>0</td>\n",
       "      <td>0</td>\n",
       "      <td>0</td>\n",
       "      <td>0</td>\n",
       "      <td>0</td>\n",
       "      <td>0</td>\n",
       "      <td>0</td>\n",
       "    </tr>\n",
       "    <tr>\n",
       "      <th>doc16</th>\n",
       "      <td>0</td>\n",
       "      <td>0</td>\n",
       "      <td>0</td>\n",
       "      <td>0</td>\n",
       "      <td>0</td>\n",
       "      <td>0</td>\n",
       "      <td>0</td>\n",
       "      <td>0</td>\n",
       "      <td>0</td>\n",
       "      <td>0</td>\n",
       "      <td>...</td>\n",
       "      <td>0</td>\n",
       "      <td>0</td>\n",
       "      <td>0</td>\n",
       "      <td>0</td>\n",
       "      <td>0</td>\n",
       "      <td>0</td>\n",
       "      <td>0</td>\n",
       "      <td>0</td>\n",
       "      <td>0</td>\n",
       "      <td>0</td>\n",
       "    </tr>\n",
       "    <tr>\n",
       "      <th>doc17</th>\n",
       "      <td>0</td>\n",
       "      <td>0</td>\n",
       "      <td>0</td>\n",
       "      <td>0</td>\n",
       "      <td>0</td>\n",
       "      <td>0</td>\n",
       "      <td>0</td>\n",
       "      <td>0</td>\n",
       "      <td>0</td>\n",
       "      <td>0</td>\n",
       "      <td>...</td>\n",
       "      <td>0</td>\n",
       "      <td>1</td>\n",
       "      <td>0</td>\n",
       "      <td>0</td>\n",
       "      <td>0</td>\n",
       "      <td>0</td>\n",
       "      <td>1</td>\n",
       "      <td>0</td>\n",
       "      <td>0</td>\n",
       "      <td>0</td>\n",
       "    </tr>\n",
       "    <tr>\n",
       "      <th>doc18</th>\n",
       "      <td>1</td>\n",
       "      <td>0</td>\n",
       "      <td>0</td>\n",
       "      <td>0</td>\n",
       "      <td>0</td>\n",
       "      <td>0</td>\n",
       "      <td>0</td>\n",
       "      <td>0</td>\n",
       "      <td>0</td>\n",
       "      <td>0</td>\n",
       "      <td>...</td>\n",
       "      <td>0</td>\n",
       "      <td>0</td>\n",
       "      <td>0</td>\n",
       "      <td>0</td>\n",
       "      <td>0</td>\n",
       "      <td>0</td>\n",
       "      <td>0</td>\n",
       "      <td>0</td>\n",
       "      <td>0</td>\n",
       "      <td>0</td>\n",
       "    </tr>\n",
       "    <tr>\n",
       "      <th>doc19</th>\n",
       "      <td>0</td>\n",
       "      <td>0</td>\n",
       "      <td>0</td>\n",
       "      <td>0</td>\n",
       "      <td>0</td>\n",
       "      <td>0</td>\n",
       "      <td>0</td>\n",
       "      <td>0</td>\n",
       "      <td>0</td>\n",
       "      <td>0</td>\n",
       "      <td>...</td>\n",
       "      <td>0</td>\n",
       "      <td>0</td>\n",
       "      <td>0</td>\n",
       "      <td>0</td>\n",
       "      <td>0</td>\n",
       "      <td>0</td>\n",
       "      <td>0</td>\n",
       "      <td>0</td>\n",
       "      <td>0</td>\n",
       "      <td>0</td>\n",
       "    </tr>\n",
       "    <tr>\n",
       "      <th>doc20</th>\n",
       "      <td>0</td>\n",
       "      <td>0</td>\n",
       "      <td>0</td>\n",
       "      <td>0</td>\n",
       "      <td>0</td>\n",
       "      <td>0</td>\n",
       "      <td>0</td>\n",
       "      <td>0</td>\n",
       "      <td>0</td>\n",
       "      <td>0</td>\n",
       "      <td>...</td>\n",
       "      <td>0</td>\n",
       "      <td>0</td>\n",
       "      <td>0</td>\n",
       "      <td>0</td>\n",
       "      <td>0</td>\n",
       "      <td>0</td>\n",
       "      <td>0</td>\n",
       "      <td>0</td>\n",
       "      <td>0</td>\n",
       "      <td>0</td>\n",
       "    </tr>\n",
       "    <tr>\n",
       "      <th>doc21</th>\n",
       "      <td>0</td>\n",
       "      <td>0</td>\n",
       "      <td>0</td>\n",
       "      <td>0</td>\n",
       "      <td>0</td>\n",
       "      <td>0</td>\n",
       "      <td>0</td>\n",
       "      <td>0</td>\n",
       "      <td>0</td>\n",
       "      <td>0</td>\n",
       "      <td>...</td>\n",
       "      <td>0</td>\n",
       "      <td>0</td>\n",
       "      <td>0</td>\n",
       "      <td>0</td>\n",
       "      <td>0</td>\n",
       "      <td>0</td>\n",
       "      <td>0</td>\n",
       "      <td>0</td>\n",
       "      <td>0</td>\n",
       "      <td>0</td>\n",
       "    </tr>\n",
       "    <tr>\n",
       "      <th>doc22</th>\n",
       "      <td>0</td>\n",
       "      <td>0</td>\n",
       "      <td>0</td>\n",
       "      <td>0</td>\n",
       "      <td>0</td>\n",
       "      <td>0</td>\n",
       "      <td>0</td>\n",
       "      <td>0</td>\n",
       "      <td>0</td>\n",
       "      <td>0</td>\n",
       "      <td>...</td>\n",
       "      <td>0</td>\n",
       "      <td>0</td>\n",
       "      <td>0</td>\n",
       "      <td>0</td>\n",
       "      <td>0</td>\n",
       "      <td>0</td>\n",
       "      <td>0</td>\n",
       "      <td>0</td>\n",
       "      <td>0</td>\n",
       "      <td>0</td>\n",
       "    </tr>\n",
       "    <tr>\n",
       "      <th>doc23</th>\n",
       "      <td>0</td>\n",
       "      <td>0</td>\n",
       "      <td>0</td>\n",
       "      <td>0</td>\n",
       "      <td>0</td>\n",
       "      <td>0</td>\n",
       "      <td>0</td>\n",
       "      <td>0</td>\n",
       "      <td>0</td>\n",
       "      <td>0</td>\n",
       "      <td>...</td>\n",
       "      <td>0</td>\n",
       "      <td>0</td>\n",
       "      <td>0</td>\n",
       "      <td>0</td>\n",
       "      <td>0</td>\n",
       "      <td>0</td>\n",
       "      <td>0</td>\n",
       "      <td>0</td>\n",
       "      <td>0</td>\n",
       "      <td>0</td>\n",
       "    </tr>\n",
       "    <tr>\n",
       "      <th>doc24</th>\n",
       "      <td>0</td>\n",
       "      <td>0</td>\n",
       "      <td>0</td>\n",
       "      <td>0</td>\n",
       "      <td>0</td>\n",
       "      <td>0</td>\n",
       "      <td>0</td>\n",
       "      <td>0</td>\n",
       "      <td>0</td>\n",
       "      <td>0</td>\n",
       "      <td>...</td>\n",
       "      <td>0</td>\n",
       "      <td>0</td>\n",
       "      <td>0</td>\n",
       "      <td>1</td>\n",
       "      <td>0</td>\n",
       "      <td>0</td>\n",
       "      <td>0</td>\n",
       "      <td>0</td>\n",
       "      <td>0</td>\n",
       "      <td>0</td>\n",
       "    </tr>\n",
       "    <tr>\n",
       "      <th>doc25</th>\n",
       "      <td>0</td>\n",
       "      <td>0</td>\n",
       "      <td>0</td>\n",
       "      <td>0</td>\n",
       "      <td>0</td>\n",
       "      <td>0</td>\n",
       "      <td>0</td>\n",
       "      <td>0</td>\n",
       "      <td>0</td>\n",
       "      <td>0</td>\n",
       "      <td>...</td>\n",
       "      <td>0</td>\n",
       "      <td>0</td>\n",
       "      <td>0</td>\n",
       "      <td>0</td>\n",
       "      <td>0</td>\n",
       "      <td>0</td>\n",
       "      <td>0</td>\n",
       "      <td>0</td>\n",
       "      <td>0</td>\n",
       "      <td>0</td>\n",
       "    </tr>\n",
       "    <tr>\n",
       "      <th>doc26</th>\n",
       "      <td>0</td>\n",
       "      <td>0</td>\n",
       "      <td>0</td>\n",
       "      <td>0</td>\n",
       "      <td>0</td>\n",
       "      <td>0</td>\n",
       "      <td>0</td>\n",
       "      <td>0</td>\n",
       "      <td>1</td>\n",
       "      <td>0</td>\n",
       "      <td>...</td>\n",
       "      <td>0</td>\n",
       "      <td>0</td>\n",
       "      <td>0</td>\n",
       "      <td>1</td>\n",
       "      <td>0</td>\n",
       "      <td>0</td>\n",
       "      <td>0</td>\n",
       "      <td>0</td>\n",
       "      <td>0</td>\n",
       "      <td>0</td>\n",
       "    </tr>\n",
       "    <tr>\n",
       "      <th>doc27</th>\n",
       "      <td>0</td>\n",
       "      <td>0</td>\n",
       "      <td>0</td>\n",
       "      <td>0</td>\n",
       "      <td>0</td>\n",
       "      <td>0</td>\n",
       "      <td>0</td>\n",
       "      <td>0</td>\n",
       "      <td>0</td>\n",
       "      <td>0</td>\n",
       "      <td>...</td>\n",
       "      <td>0</td>\n",
       "      <td>0</td>\n",
       "      <td>0</td>\n",
       "      <td>0</td>\n",
       "      <td>0</td>\n",
       "      <td>1</td>\n",
       "      <td>0</td>\n",
       "      <td>0</td>\n",
       "      <td>1</td>\n",
       "      <td>0</td>\n",
       "    </tr>\n",
       "    <tr>\n",
       "      <th>doc28</th>\n",
       "      <td>0</td>\n",
       "      <td>0</td>\n",
       "      <td>0</td>\n",
       "      <td>0</td>\n",
       "      <td>0</td>\n",
       "      <td>0</td>\n",
       "      <td>0</td>\n",
       "      <td>1</td>\n",
       "      <td>0</td>\n",
       "      <td>0</td>\n",
       "      <td>...</td>\n",
       "      <td>0</td>\n",
       "      <td>0</td>\n",
       "      <td>0</td>\n",
       "      <td>0</td>\n",
       "      <td>0</td>\n",
       "      <td>0</td>\n",
       "      <td>0</td>\n",
       "      <td>0</td>\n",
       "      <td>0</td>\n",
       "      <td>0</td>\n",
       "    </tr>\n",
       "    <tr>\n",
       "      <th>doc29</th>\n",
       "      <td>0</td>\n",
       "      <td>0</td>\n",
       "      <td>0</td>\n",
       "      <td>0</td>\n",
       "      <td>0</td>\n",
       "      <td>0</td>\n",
       "      <td>0</td>\n",
       "      <td>0</td>\n",
       "      <td>0</td>\n",
       "      <td>0</td>\n",
       "      <td>...</td>\n",
       "      <td>0</td>\n",
       "      <td>0</td>\n",
       "      <td>0</td>\n",
       "      <td>0</td>\n",
       "      <td>0</td>\n",
       "      <td>0</td>\n",
       "      <td>0</td>\n",
       "      <td>0</td>\n",
       "      <td>0</td>\n",
       "      <td>0</td>\n",
       "    </tr>\n",
       "  </tbody>\n",
       "</table>\n",
       "<p>29 rows × 327 columns</p>\n",
       "</div>"
      ],
      "text/plain": [
       "       abandono  acelera  acelerada  aceleraran  actividad  actividades  \\\n",
       "doc1          0        0          0           0          0            0   \n",
       "doc2          0        0          0           0          1            0   \n",
       "doc3          0        0          0           0          0            0   \n",
       "doc4          0        0          1           0          0            0   \n",
       "doc5          0        0          0           0          0            0   \n",
       "doc6          0        0          0           0          0            0   \n",
       "doc7          0        0          0           0          0            0   \n",
       "doc8          0        0          0           1          0            0   \n",
       "doc9          0        1          0           0          0            0   \n",
       "doc10         0        0          0           0          0            0   \n",
       "doc11         0        0          0           0          0            0   \n",
       "doc12         0        0          0           0          1            1   \n",
       "doc13         0        0          0           0          0            0   \n",
       "doc14         0        0          0           0          0            0   \n",
       "doc15         0        0          0           0          0            0   \n",
       "doc16         0        0          0           0          0            0   \n",
       "doc17         0        0          0           0          0            0   \n",
       "doc18         1        0          0           0          0            0   \n",
       "doc19         0        0          0           0          0            0   \n",
       "doc20         0        0          0           0          0            0   \n",
       "doc21         0        0          0           0          0            0   \n",
       "doc22         0        0          0           0          0            0   \n",
       "doc23         0        0          0           0          0            0   \n",
       "doc24         0        0          0           0          0            0   \n",
       "doc25         0        0          0           0          0            0   \n",
       "doc26         0        0          0           0          0            0   \n",
       "doc27         0        0          0           0          0            0   \n",
       "doc28         0        0          0           0          0            0   \n",
       "doc29         0        0          0           0          0            0   \n",
       "\n",
       "       acuerdos  acumula  acumulacion  acumulo  ...  transporte  tres  \\\n",
       "doc1          0        0            0        0  ...           0     0   \n",
       "doc2          0        1            0        0  ...           0     0   \n",
       "doc3          0        0            0        0  ...           0     0   \n",
       "doc4          0        0            0        0  ...           0     0   \n",
       "doc5          0        0            0        0  ...           0     0   \n",
       "doc6          1        0            0        0  ...           0     0   \n",
       "doc7          0        0            0        0  ...           0     0   \n",
       "doc8          0        0            0        0  ...           0     0   \n",
       "doc9          0        0            0        0  ...           1     0   \n",
       "doc10         0        0            0        0  ...           0     0   \n",
       "doc11         0        0            0        0  ...           0     0   \n",
       "doc12         0        0            0        0  ...           0     0   \n",
       "doc13         0        0            0        0  ...           0     0   \n",
       "doc14         0        0            0        0  ...           0     0   \n",
       "doc15         0        0            0        1  ...           0     0   \n",
       "doc16         0        0            0        0  ...           0     0   \n",
       "doc17         0        0            0        0  ...           0     1   \n",
       "doc18         0        0            0        0  ...           0     0   \n",
       "doc19         0        0            0        0  ...           0     0   \n",
       "doc20         0        0            0        0  ...           0     0   \n",
       "doc21         0        0            0        0  ...           0     0   \n",
       "doc22         0        0            0        0  ...           0     0   \n",
       "doc23         0        0            0        0  ...           0     0   \n",
       "doc24         0        0            0        0  ...           0     0   \n",
       "doc25         0        0            0        0  ...           0     0   \n",
       "doc26         0        0            1        0  ...           0     0   \n",
       "doc27         0        0            0        0  ...           0     0   \n",
       "doc28         0        1            0        0  ...           0     0   \n",
       "doc29         0        0            0        0  ...           0     0   \n",
       "\n",
       "       ultimos  us  va  valores  venderlo  vienen  viernes  volvera  \n",
       "doc1         1   0   0        0         0       0        0        0  \n",
       "doc2         0   0   0        0         0       0        0        0  \n",
       "doc3         0   0   0        0         0       0        0        0  \n",
       "doc4         0   0   0        1         0       0        0        0  \n",
       "doc5         0   0   0        0         0       0        0        0  \n",
       "doc6         0   0   0        0         0       0        0        0  \n",
       "doc7         0   0   0        0         0       0        0        1  \n",
       "doc8         0   0   1        0         0       1        0        0  \n",
       "doc9         0   0   0        0         0       0        0        0  \n",
       "doc10        0   0   0        0         0       0        0        0  \n",
       "doc11        0   0   1        0         0       0        0        0  \n",
       "doc12        1   0   0        0         0       0        0        0  \n",
       "doc13        0   0   0        0         0       0        0        0  \n",
       "doc14        0   0   0        0         0       0        0        0  \n",
       "doc15        0   0   0        0         0       0        0        0  \n",
       "doc16        0   0   0        0         0       0        0        0  \n",
       "doc17        0   0   0        0         1       0        0        0  \n",
       "doc18        0   0   0        0         0       0        0        0  \n",
       "doc19        0   0   0        0         0       0        0        0  \n",
       "doc20        0   0   0        0         0       0        0        0  \n",
       "doc21        0   0   0        0         0       0        0        0  \n",
       "doc22        0   0   0        0         0       0        0        0  \n",
       "doc23        0   0   0        0         0       0        0        0  \n",
       "doc24        0   1   0        0         0       0        0        0  \n",
       "doc25        0   0   0        0         0       0        0        0  \n",
       "doc26        0   1   0        0         0       0        0        0  \n",
       "doc27        0   0   0        1         0       0        1        0  \n",
       "doc28        0   0   0        0         0       0        0        0  \n",
       "doc29        0   0   0        0         0       0        0        0  \n",
       "\n",
       "[29 rows x 327 columns]"
      ]
     },
     "execution_count": 339,
     "metadata": {},
     "output_type": "execute_result"
    }
   ],
   "source": [
    "df_dummies_alpha"
   ]
  },
  {
   "cell_type": "markdown",
   "metadata": {},
   "source": [
    "#### Métricas (Prueba nro. 2)"
   ]
  },
  {
   "cell_type": "code",
   "execution_count": 340,
   "metadata": {},
   "outputs": [],
   "source": [
    "def tf_idf_2(corpus, vocabulario):\n",
    "    \n",
    "    peso = []\n",
    "    for i, texto in enumerate(corpus):\n",
    "        for palabra in vocabulario:\n",
    "            # frecuencia de palabra en documento\n",
    "            tf = alpha_tokenizer(texto).count(palabra) / len(alpha_tokenizer(texto))\n",
    "            # frecuencia de palabra en corpus (por documento)\n",
    "            idf = np.log( (len(corpus)) / (sum([palabra in doc for doc in corpus]) + 1) )\n",
    "            # métrica\n",
    "            if tf * idf != 0:\n",
    "                peso.append((i, vocabulario.index(palabra), tf * (idf)))\n",
    "            \n",
    "    return peso"
   ]
  },
  {
   "cell_type": "code",
   "execution_count": 341,
   "metadata": {},
   "outputs": [],
   "source": [
    "relevancia_alpha = tf_idf_2(corpus, vocabulario_alpha)"
   ]
  },
  {
   "cell_type": "code",
   "execution_count": 342,
   "metadata": {},
   "outputs": [
    {
     "data": {
      "text/plain": [
       "477"
      ]
     },
     "execution_count": 342,
     "metadata": {},
     "output_type": "execute_result"
    }
   ],
   "source": [
    "len(relevancia_alpha)"
   ]
  },
  {
   "cell_type": "code",
   "execution_count": 343,
   "metadata": {},
   "outputs": [
    {
     "data": {
      "text/plain": [
       "[(0, 23, 0.14150010491904166),\n",
       " (0, 28, 0.12556127982516954),\n",
       " (0, 42, 0.08357651804644675),\n",
       " (0, 66, 0.19101061781618062),\n",
       " (0, 78, 0.14150010491904166),\n",
       " (0, 96, 0.19101061781618062),\n",
       " (0, 123, 0.19101061781618062),\n",
       " (0, 129, 0.19101061781618062),\n",
       " (0, 130, 0.19101061781618062),\n",
       " (0, 209, 0.16204882437988313),\n",
       " (0, 258, 0.19101061781618062),\n",
       " (0, 280, 0.12556127982516954),\n",
       " (0, 311, 0.19101061781618062),\n",
       " (0, 319, 0.24052113071331957),\n",
       " (1, 4, 0.20570374226357915),\n",
       " (1, 7, 0.15238472837435257),\n",
       " (1, 42, 0.0900054809730965),\n",
       " (1, 61, 0.25902275615280573),\n",
       " (1, 110, 0.25902275615280573),\n",
       " (1, 111, 0.25902275615280573)]"
      ]
     },
     "execution_count": 343,
     "metadata": {},
     "output_type": "execute_result"
    }
   ],
   "source": [
    "relevancia_alpha[:20]"
   ]
  },
  {
   "cell_type": "code",
   "execution_count": 344,
   "metadata": {},
   "outputs": [
    {
     "data": {
      "text/plain": [
       "(29, 327)"
      ]
     },
     "execution_count": 344,
     "metadata": {},
     "output_type": "execute_result"
    }
   ],
   "source": [
    "matriz_alpha.shape"
   ]
  },
  {
   "cell_type": "code",
   "execution_count": 345,
   "metadata": {},
   "outputs": [
    {
     "data": {
      "text/plain": [
       "(29, 477, 327)"
      ]
     },
     "execution_count": 345,
     "metadata": {},
     "output_type": "execute_result"
    }
   ],
   "source": [
    "len(tokenized_alpha), len(relevancia_alpha), len(vocabulario_alpha)"
   ]
  },
  {
   "cell_type": "code",
   "execution_count": 346,
   "metadata": {},
   "outputs": [],
   "source": [
    "matriz_relevancia_alpha = np.zeros(shape = (len(tokenized_alpha), len(vocabulario_alpha)), dtype='float')\n",
    "for doc in range(len(tokenized_alpha)):\n",
    "    for ter in vocabulario_alpha:\n",
    "        for line in relevancia_alpha:\n",
    "            if doc == line[0]:\n",
    "                if vocabulario_alpha.index(ter) == line[1]:\n",
    "                    matriz_relevancia_alpha[doc, vocabulario_alpha.index(ter)] = line[2]"
   ]
  },
  {
   "cell_type": "code",
   "execution_count": 347,
   "metadata": {},
   "outputs": [
    {
     "data": {
      "text/plain": [
       "array([0.        , 0.        , 0.        , 0.        , 0.        ,\n",
       "       0.        , 0.        , 0.        , 0.        , 0.        ,\n",
       "       0.        , 0.        , 0.        , 0.        , 0.        ,\n",
       "       0.        , 0.        , 0.        , 0.        , 0.        ,\n",
       "       0.        , 0.        , 0.        , 0.1415001 , 0.        ,\n",
       "       0.        , 0.        , 0.        , 0.12556128, 0.        ,\n",
       "       0.        , 0.        , 0.        , 0.        , 0.        ,\n",
       "       0.        , 0.        , 0.        , 0.        , 0.        ,\n",
       "       0.        , 0.        , 0.08357652, 0.        , 0.        ,\n",
       "       0.        , 0.        , 0.        , 0.        , 0.        ,\n",
       "       0.        , 0.        , 0.        , 0.        , 0.        ,\n",
       "       0.        , 0.        , 0.        , 0.        , 0.        ,\n",
       "       0.        , 0.        , 0.        , 0.        , 0.        ,\n",
       "       0.        , 0.19101062, 0.        , 0.        , 0.        ,\n",
       "       0.        , 0.        , 0.        , 0.        , 0.        ,\n",
       "       0.        , 0.        , 0.        , 0.1415001 , 0.        ,\n",
       "       0.        , 0.        , 0.        , 0.        , 0.        ,\n",
       "       0.        , 0.        , 0.        , 0.        , 0.        ,\n",
       "       0.        , 0.        , 0.        , 0.        , 0.        ,\n",
       "       0.        , 0.19101062, 0.        , 0.        , 0.        ,\n",
       "       0.        , 0.        , 0.        , 0.        , 0.        ,\n",
       "       0.        , 0.        , 0.        , 0.        , 0.        ,\n",
       "       0.        , 0.        , 0.        , 0.        , 0.        ,\n",
       "       0.        , 0.        , 0.        , 0.        , 0.        ,\n",
       "       0.        , 0.        , 0.        , 0.19101062, 0.        ,\n",
       "       0.        , 0.        , 0.        , 0.        , 0.19101062,\n",
       "       0.19101062, 0.        , 0.        , 0.        , 0.        ,\n",
       "       0.        , 0.        , 0.        , 0.        , 0.        ,\n",
       "       0.        , 0.        , 0.        , 0.        , 0.        ,\n",
       "       0.        , 0.        , 0.        , 0.        , 0.        ,\n",
       "       0.        , 0.        , 0.        , 0.        , 0.        ,\n",
       "       0.        , 0.        , 0.        , 0.        , 0.        ,\n",
       "       0.        , 0.        , 0.        , 0.        , 0.        ,\n",
       "       0.        , 0.        , 0.        , 0.        , 0.        ,\n",
       "       0.        , 0.        , 0.        , 0.        , 0.        ,\n",
       "       0.        , 0.        , 0.        , 0.        , 0.        ,\n",
       "       0.        , 0.        , 0.        , 0.        , 0.        ,\n",
       "       0.        , 0.        , 0.        , 0.        , 0.        ,\n",
       "       0.        , 0.        , 0.        , 0.        , 0.        ,\n",
       "       0.        , 0.        , 0.        , 0.        , 0.        ,\n",
       "       0.        , 0.        , 0.        , 0.        , 0.        ,\n",
       "       0.        , 0.        , 0.        , 0.        , 0.16204882,\n",
       "       0.        , 0.        , 0.        , 0.        , 0.        ,\n",
       "       0.        , 0.        , 0.        , 0.        , 0.        ,\n",
       "       0.        , 0.        , 0.        , 0.        , 0.        ,\n",
       "       0.        , 0.        , 0.        , 0.        , 0.        ,\n",
       "       0.        , 0.        , 0.        , 0.        , 0.        ,\n",
       "       0.        , 0.        , 0.        , 0.        , 0.        ,\n",
       "       0.        , 0.        , 0.        , 0.        , 0.        ,\n",
       "       0.        , 0.        , 0.        , 0.        , 0.        ,\n",
       "       0.        , 0.        , 0.        , 0.        , 0.        ,\n",
       "       0.        , 0.        , 0.        , 0.19101062, 0.        ,\n",
       "       0.        , 0.        , 0.        , 0.        , 0.        ,\n",
       "       0.        , 0.        , 0.        , 0.        , 0.        ,\n",
       "       0.        , 0.        , 0.        , 0.        , 0.        ,\n",
       "       0.        , 0.        , 0.        , 0.        , 0.        ,\n",
       "       0.12556128, 0.        , 0.        , 0.        , 0.        ,\n",
       "       0.        , 0.        , 0.        , 0.        , 0.        ,\n",
       "       0.        , 0.        , 0.        , 0.        , 0.        ,\n",
       "       0.        , 0.        , 0.        , 0.        , 0.        ,\n",
       "       0.        , 0.        , 0.        , 0.        , 0.        ,\n",
       "       0.        , 0.        , 0.        , 0.        , 0.        ,\n",
       "       0.        , 0.19101062, 0.        , 0.        , 0.        ,\n",
       "       0.        , 0.        , 0.        , 0.        , 0.24052113,\n",
       "       0.        , 0.        , 0.        , 0.        , 0.        ,\n",
       "       0.        , 0.        ])"
      ]
     },
     "execution_count": 347,
     "metadata": {},
     "output_type": "execute_result"
    }
   ],
   "source": [
    "matriz_relevancia_alpha[0]"
   ]
  },
  {
   "cell_type": "code",
   "execution_count": 348,
   "metadata": {},
   "outputs": [],
   "source": [
    "dummies_relevancia_alpha = pd.DataFrame(matriz_relevancia_alpha, columns=vocabulario_alpha, index=['doc' + str(i+1) for i in range(len(tokenized))])"
   ]
  },
  {
   "cell_type": "code",
   "execution_count": 349,
   "metadata": {},
   "outputs": [
    {
     "data": {
      "text/plain": [
       "ultimos         0.240521\n",
       "pronunciada     0.191011\n",
       "cambio          0.191011\n",
       "exportadores    0.191011\n",
       "derrumbaron     0.191011\n",
       "                  ...   \n",
       "nominados       0.000000\n",
       "noviembre       0.000000\n",
       "nueva           0.000000\n",
       "nueve           0.000000\n",
       "abandono        0.000000\n",
       "Name: doc1, Length: 327, dtype: float64"
      ]
     },
     "execution_count": 349,
     "metadata": {},
     "output_type": "execute_result"
    }
   ],
   "source": [
    "dummies_relevancia_alpha.loc['doc1',].sort_values(ascending=False)"
   ]
  },
  {
   "cell_type": "code",
   "execution_count": 350,
   "metadata": {},
   "outputs": [
    {
     "data": {
      "text/plain": [
       "caera        0.259023\n",
       "economia     0.259023\n",
       "economica    0.259023\n",
       "emae         0.259023\n",
       "estimador    0.259023\n",
       "               ...   \n",
       "nuevos       0.000000\n",
       "numero       0.000000\n",
       "objetivo     0.000000\n",
       "ocho         0.000000\n",
       "abandono     0.000000\n",
       "Name: doc2, Length: 327, dtype: float64"
      ]
     },
     "execution_count": 350,
     "metadata": {},
     "output_type": "execute_result"
    }
   ],
   "source": [
    "dummies_relevancia_alpha.loc['doc2',].sort_values(ascending=False)"
   ]
  },
  {
   "cell_type": "markdown",
   "metadata": {},
   "source": [
    "Mayor coeficiente, mayor relevancia -> define con mayor nitidez al documento del resto del corpus"
   ]
  },
  {
   "cell_type": "markdown",
   "metadata": {},
   "source": [
    "#### Singular Value Decomposition (Prueba nro. 2)"
   ]
  },
  {
   "cell_type": "code",
   "execution_count": 351,
   "metadata": {},
   "outputs": [],
   "source": [
    "import matplotlib.pyplot as plt\n",
    "import matplotlib.patches as mpatches\n",
    "from sklearn.decomposition import TruncatedSVD"
   ]
  },
  {
   "cell_type": "code",
   "execution_count": 352,
   "metadata": {},
   "outputs": [
    {
     "name": "stdout",
     "output_type": "stream",
     "text": [
      "[[ 0.03472857  0.00578949]\n",
      " [ 0.06140317  0.02232591]\n",
      " [ 0.01310572  0.01498168]\n",
      " [ 0.57181848  0.63121015]\n",
      " [ 0.20515309  0.19533217]\n",
      " [ 0.10831541  0.09913298]\n",
      " [ 0.05442286  0.04443353]\n",
      " [ 0.21142156  0.18906473]\n",
      " [ 0.13271058  0.12051684]\n",
      " [ 0.1382329   0.11816547]\n",
      " [ 0.0768827   0.03413378]\n",
      " [ 0.02065898  0.01227497]\n",
      " [ 0.15801643  0.13724468]\n",
      " [ 0.04733425  0.04087936]\n",
      " [ 0.06640236  0.02625424]\n",
      " [ 0.08174511  0.04300251]\n",
      " [ 0.05741944 -0.01488723]\n",
      " [ 0.29517223 -0.29691579]\n",
      " [ 0.22629964 -0.20408963]\n",
      " [ 0.16137162 -0.11501366]\n",
      " [ 0.47256277 -0.48319148]\n",
      " [ 0.09386728 -0.03480621]\n",
      " [ 0.19484143  0.06523971]\n",
      " [ 0.05677202  0.03223135]\n",
      " [ 0.0584478  -0.04790966]\n",
      " [ 0.12663981  0.11735838]\n",
      " [ 0.09402422 -0.00992053]\n",
      " [ 0.29148175 -0.29217291]\n",
      " [ 0.27519216 -0.27491408]]\n"
     ]
    }
   ],
   "source": [
    "svd_alpha = TruncatedSVD(n_components = 2) # n_components = Desired dimensionality of output data. Must be strictly less than the number of features.\n",
    "P_alpha = svd_alpha.fit_transform(matriz_relevancia_alpha)\n",
    "\n",
    "print(P_alpha)"
   ]
  },
  {
   "cell_type": "code",
   "execution_count": 353,
   "metadata": {},
   "outputs": [],
   "source": [
    "import plotly.graph_objects as go"
   ]
  },
  {
   "cell_type": "code",
   "execution_count": 354,
   "metadata": {},
   "outputs": [
    {
     "data": {
      "application/vnd.plotly.v1+json": {
       "config": {
        "plotlyServerURL": "https://plotly.com"
       },
       "data": [
        {
         "marker": {
          "color": [
           0,
           1,
           2,
           3,
           4,
           5,
           6,
           7,
           8,
           9,
           10,
           11,
           12,
           13,
           14,
           15,
           16,
           17,
           18,
           19,
           20,
           21,
           22,
           23,
           24,
           25,
           26,
           27,
           28
          ],
          "size": 10
         },
         "mode": "markers+text",
         "text": [
          "doc0",
          "doc1",
          "doc2",
          "doc3",
          "doc4",
          "doc5",
          "doc6",
          "doc7",
          "doc8",
          "doc9",
          "doc10",
          "doc11",
          "doc12",
          "doc13",
          "doc14",
          "doc15",
          "doc16",
          "doc17",
          "doc18",
          "doc19",
          "doc20",
          "doc21",
          "doc22",
          "doc23",
          "doc24",
          "doc25",
          "doc26",
          "doc27",
          "doc28"
         ],
         "textfont": {
          "color": "Blue",
          "size": 10
         },
         "textposition": "middle left",
         "type": "scatter",
         "x": [
          0.03472857075551697,
          0.061403173759353016,
          0.013105720257958543,
          0.5718184848688661,
          0.20515309075350252,
          0.10831540847178861,
          0.054422863916040384,
          0.21142156086463035,
          0.13271058448094306,
          0.13823290269170724,
          0.0768827048331076,
          0.020658976351823254,
          0.1580164292433127,
          0.04733425396295931,
          0.06640236168169464,
          0.08174510897832236,
          0.0574194387511741,
          0.29517222802395643,
          0.22629963563598848,
          0.16137161732349212,
          0.47256277141272085,
          0.09386728241553365,
          0.19484143327248252,
          0.05677202349579867,
          0.058447799878838656,
          0.12663980724903193,
          0.09402422301432174,
          0.2914817541910192,
          0.2751921627320153
         ],
         "y": [
          0.00578948767697192,
          0.02232591138971177,
          0.014981679639079178,
          0.6312101458453804,
          0.1953321685908706,
          0.09913297894014422,
          0.04443352613293069,
          0.18906473320878073,
          0.12051684083461627,
          0.11816546924802492,
          0.034133777382957156,
          0.012274972225291376,
          0.13724467755250402,
          0.040879361612287585,
          0.026254244442492265,
          0.043002508212087835,
          -0.014887225524746006,
          -0.2969157860994389,
          -0.20408962811230996,
          -0.11501366257634034,
          -0.4831914772405702,
          -0.034806206545947606,
          0.06523970920932562,
          0.03223134674912606,
          -0.047909660117960995,
          0.11735838220833013,
          -0.009920526139704518,
          -0.2921729069858132,
          -0.2749140832431487
         ]
        }
       ],
       "layout": {
        "autosize": true,
        "template": {
         "data": {
          "bar": [
           {
            "error_x": {
             "color": "#2a3f5f"
            },
            "error_y": {
             "color": "#2a3f5f"
            },
            "marker": {
             "line": {
              "color": "#E5ECF6",
              "width": 0.5
             }
            },
            "type": "bar"
           }
          ],
          "barpolar": [
           {
            "marker": {
             "line": {
              "color": "#E5ECF6",
              "width": 0.5
             }
            },
            "type": "barpolar"
           }
          ],
          "carpet": [
           {
            "aaxis": {
             "endlinecolor": "#2a3f5f",
             "gridcolor": "white",
             "linecolor": "white",
             "minorgridcolor": "white",
             "startlinecolor": "#2a3f5f"
            },
            "baxis": {
             "endlinecolor": "#2a3f5f",
             "gridcolor": "white",
             "linecolor": "white",
             "minorgridcolor": "white",
             "startlinecolor": "#2a3f5f"
            },
            "type": "carpet"
           }
          ],
          "choropleth": [
           {
            "colorbar": {
             "outlinewidth": 0,
             "ticks": ""
            },
            "type": "choropleth"
           }
          ],
          "contour": [
           {
            "colorbar": {
             "outlinewidth": 0,
             "ticks": ""
            },
            "colorscale": [
             [
              0,
              "#0d0887"
             ],
             [
              0.1111111111111111,
              "#46039f"
             ],
             [
              0.2222222222222222,
              "#7201a8"
             ],
             [
              0.3333333333333333,
              "#9c179e"
             ],
             [
              0.4444444444444444,
              "#bd3786"
             ],
             [
              0.5555555555555556,
              "#d8576b"
             ],
             [
              0.6666666666666666,
              "#ed7953"
             ],
             [
              0.7777777777777778,
              "#fb9f3a"
             ],
             [
              0.8888888888888888,
              "#fdca26"
             ],
             [
              1,
              "#f0f921"
             ]
            ],
            "type": "contour"
           }
          ],
          "contourcarpet": [
           {
            "colorbar": {
             "outlinewidth": 0,
             "ticks": ""
            },
            "type": "contourcarpet"
           }
          ],
          "heatmap": [
           {
            "colorbar": {
             "outlinewidth": 0,
             "ticks": ""
            },
            "colorscale": [
             [
              0,
              "#0d0887"
             ],
             [
              0.1111111111111111,
              "#46039f"
             ],
             [
              0.2222222222222222,
              "#7201a8"
             ],
             [
              0.3333333333333333,
              "#9c179e"
             ],
             [
              0.4444444444444444,
              "#bd3786"
             ],
             [
              0.5555555555555556,
              "#d8576b"
             ],
             [
              0.6666666666666666,
              "#ed7953"
             ],
             [
              0.7777777777777778,
              "#fb9f3a"
             ],
             [
              0.8888888888888888,
              "#fdca26"
             ],
             [
              1,
              "#f0f921"
             ]
            ],
            "type": "heatmap"
           }
          ],
          "heatmapgl": [
           {
            "colorbar": {
             "outlinewidth": 0,
             "ticks": ""
            },
            "colorscale": [
             [
              0,
              "#0d0887"
             ],
             [
              0.1111111111111111,
              "#46039f"
             ],
             [
              0.2222222222222222,
              "#7201a8"
             ],
             [
              0.3333333333333333,
              "#9c179e"
             ],
             [
              0.4444444444444444,
              "#bd3786"
             ],
             [
              0.5555555555555556,
              "#d8576b"
             ],
             [
              0.6666666666666666,
              "#ed7953"
             ],
             [
              0.7777777777777778,
              "#fb9f3a"
             ],
             [
              0.8888888888888888,
              "#fdca26"
             ],
             [
              1,
              "#f0f921"
             ]
            ],
            "type": "heatmapgl"
           }
          ],
          "histogram": [
           {
            "marker": {
             "colorbar": {
              "outlinewidth": 0,
              "ticks": ""
             }
            },
            "type": "histogram"
           }
          ],
          "histogram2d": [
           {
            "colorbar": {
             "outlinewidth": 0,
             "ticks": ""
            },
            "colorscale": [
             [
              0,
              "#0d0887"
             ],
             [
              0.1111111111111111,
              "#46039f"
             ],
             [
              0.2222222222222222,
              "#7201a8"
             ],
             [
              0.3333333333333333,
              "#9c179e"
             ],
             [
              0.4444444444444444,
              "#bd3786"
             ],
             [
              0.5555555555555556,
              "#d8576b"
             ],
             [
              0.6666666666666666,
              "#ed7953"
             ],
             [
              0.7777777777777778,
              "#fb9f3a"
             ],
             [
              0.8888888888888888,
              "#fdca26"
             ],
             [
              1,
              "#f0f921"
             ]
            ],
            "type": "histogram2d"
           }
          ],
          "histogram2dcontour": [
           {
            "colorbar": {
             "outlinewidth": 0,
             "ticks": ""
            },
            "colorscale": [
             [
              0,
              "#0d0887"
             ],
             [
              0.1111111111111111,
              "#46039f"
             ],
             [
              0.2222222222222222,
              "#7201a8"
             ],
             [
              0.3333333333333333,
              "#9c179e"
             ],
             [
              0.4444444444444444,
              "#bd3786"
             ],
             [
              0.5555555555555556,
              "#d8576b"
             ],
             [
              0.6666666666666666,
              "#ed7953"
             ],
             [
              0.7777777777777778,
              "#fb9f3a"
             ],
             [
              0.8888888888888888,
              "#fdca26"
             ],
             [
              1,
              "#f0f921"
             ]
            ],
            "type": "histogram2dcontour"
           }
          ],
          "mesh3d": [
           {
            "colorbar": {
             "outlinewidth": 0,
             "ticks": ""
            },
            "type": "mesh3d"
           }
          ],
          "parcoords": [
           {
            "line": {
             "colorbar": {
              "outlinewidth": 0,
              "ticks": ""
             }
            },
            "type": "parcoords"
           }
          ],
          "pie": [
           {
            "automargin": true,
            "type": "pie"
           }
          ],
          "scatter": [
           {
            "marker": {
             "colorbar": {
              "outlinewidth": 0,
              "ticks": ""
             }
            },
            "type": "scatter"
           }
          ],
          "scatter3d": [
           {
            "line": {
             "colorbar": {
              "outlinewidth": 0,
              "ticks": ""
             }
            },
            "marker": {
             "colorbar": {
              "outlinewidth": 0,
              "ticks": ""
             }
            },
            "type": "scatter3d"
           }
          ],
          "scattercarpet": [
           {
            "marker": {
             "colorbar": {
              "outlinewidth": 0,
              "ticks": ""
             }
            },
            "type": "scattercarpet"
           }
          ],
          "scattergeo": [
           {
            "marker": {
             "colorbar": {
              "outlinewidth": 0,
              "ticks": ""
             }
            },
            "type": "scattergeo"
           }
          ],
          "scattergl": [
           {
            "marker": {
             "colorbar": {
              "outlinewidth": 0,
              "ticks": ""
             }
            },
            "type": "scattergl"
           }
          ],
          "scattermapbox": [
           {
            "marker": {
             "colorbar": {
              "outlinewidth": 0,
              "ticks": ""
             }
            },
            "type": "scattermapbox"
           }
          ],
          "scatterpolar": [
           {
            "marker": {
             "colorbar": {
              "outlinewidth": 0,
              "ticks": ""
             }
            },
            "type": "scatterpolar"
           }
          ],
          "scatterpolargl": [
           {
            "marker": {
             "colorbar": {
              "outlinewidth": 0,
              "ticks": ""
             }
            },
            "type": "scatterpolargl"
           }
          ],
          "scatterternary": [
           {
            "marker": {
             "colorbar": {
              "outlinewidth": 0,
              "ticks": ""
             }
            },
            "type": "scatterternary"
           }
          ],
          "surface": [
           {
            "colorbar": {
             "outlinewidth": 0,
             "ticks": ""
            },
            "colorscale": [
             [
              0,
              "#0d0887"
             ],
             [
              0.1111111111111111,
              "#46039f"
             ],
             [
              0.2222222222222222,
              "#7201a8"
             ],
             [
              0.3333333333333333,
              "#9c179e"
             ],
             [
              0.4444444444444444,
              "#bd3786"
             ],
             [
              0.5555555555555556,
              "#d8576b"
             ],
             [
              0.6666666666666666,
              "#ed7953"
             ],
             [
              0.7777777777777778,
              "#fb9f3a"
             ],
             [
              0.8888888888888888,
              "#fdca26"
             ],
             [
              1,
              "#f0f921"
             ]
            ],
            "type": "surface"
           }
          ],
          "table": [
           {
            "cells": {
             "fill": {
              "color": "#EBF0F8"
             },
             "line": {
              "color": "white"
             }
            },
            "header": {
             "fill": {
              "color": "#C8D4E3"
             },
             "line": {
              "color": "white"
             }
            },
            "type": "table"
           }
          ]
         },
         "layout": {
          "annotationdefaults": {
           "arrowcolor": "#2a3f5f",
           "arrowhead": 0,
           "arrowwidth": 1
          },
          "coloraxis": {
           "colorbar": {
            "outlinewidth": 0,
            "ticks": ""
           }
          },
          "colorscale": {
           "diverging": [
            [
             0,
             "#8e0152"
            ],
            [
             0.1,
             "#c51b7d"
            ],
            [
             0.2,
             "#de77ae"
            ],
            [
             0.3,
             "#f1b6da"
            ],
            [
             0.4,
             "#fde0ef"
            ],
            [
             0.5,
             "#f7f7f7"
            ],
            [
             0.6,
             "#e6f5d0"
            ],
            [
             0.7,
             "#b8e186"
            ],
            [
             0.8,
             "#7fbc41"
            ],
            [
             0.9,
             "#4d9221"
            ],
            [
             1,
             "#276419"
            ]
           ],
           "sequential": [
            [
             0,
             "#0d0887"
            ],
            [
             0.1111111111111111,
             "#46039f"
            ],
            [
             0.2222222222222222,
             "#7201a8"
            ],
            [
             0.3333333333333333,
             "#9c179e"
            ],
            [
             0.4444444444444444,
             "#bd3786"
            ],
            [
             0.5555555555555556,
             "#d8576b"
            ],
            [
             0.6666666666666666,
             "#ed7953"
            ],
            [
             0.7777777777777778,
             "#fb9f3a"
            ],
            [
             0.8888888888888888,
             "#fdca26"
            ],
            [
             1,
             "#f0f921"
            ]
           ],
           "sequentialminus": [
            [
             0,
             "#0d0887"
            ],
            [
             0.1111111111111111,
             "#46039f"
            ],
            [
             0.2222222222222222,
             "#7201a8"
            ],
            [
             0.3333333333333333,
             "#9c179e"
            ],
            [
             0.4444444444444444,
             "#bd3786"
            ],
            [
             0.5555555555555556,
             "#d8576b"
            ],
            [
             0.6666666666666666,
             "#ed7953"
            ],
            [
             0.7777777777777778,
             "#fb9f3a"
            ],
            [
             0.8888888888888888,
             "#fdca26"
            ],
            [
             1,
             "#f0f921"
            ]
           ]
          },
          "colorway": [
           "#636efa",
           "#EF553B",
           "#00cc96",
           "#ab63fa",
           "#FFA15A",
           "#19d3f3",
           "#FF6692",
           "#B6E880",
           "#FF97FF",
           "#FECB52"
          ],
          "font": {
           "color": "#2a3f5f"
          },
          "geo": {
           "bgcolor": "white",
           "lakecolor": "white",
           "landcolor": "#E5ECF6",
           "showlakes": true,
           "showland": true,
           "subunitcolor": "white"
          },
          "hoverlabel": {
           "align": "left"
          },
          "hovermode": "closest",
          "mapbox": {
           "style": "light"
          },
          "paper_bgcolor": "white",
          "plot_bgcolor": "#E5ECF6",
          "polar": {
           "angularaxis": {
            "gridcolor": "white",
            "linecolor": "white",
            "ticks": ""
           },
           "bgcolor": "#E5ECF6",
           "radialaxis": {
            "gridcolor": "white",
            "linecolor": "white",
            "ticks": ""
           }
          },
          "scene": {
           "xaxis": {
            "backgroundcolor": "#E5ECF6",
            "gridcolor": "white",
            "gridwidth": 2,
            "linecolor": "white",
            "showbackground": true,
            "ticks": "",
            "zerolinecolor": "white"
           },
           "yaxis": {
            "backgroundcolor": "#E5ECF6",
            "gridcolor": "white",
            "gridwidth": 2,
            "linecolor": "white",
            "showbackground": true,
            "ticks": "",
            "zerolinecolor": "white"
           },
           "zaxis": {
            "backgroundcolor": "#E5ECF6",
            "gridcolor": "white",
            "gridwidth": 2,
            "linecolor": "white",
            "showbackground": true,
            "ticks": "",
            "zerolinecolor": "white"
           }
          },
          "shapedefaults": {
           "line": {
            "color": "#2a3f5f"
           }
          },
          "ternary": {
           "aaxis": {
            "gridcolor": "white",
            "linecolor": "white",
            "ticks": ""
           },
           "baxis": {
            "gridcolor": "white",
            "linecolor": "white",
            "ticks": ""
           },
           "bgcolor": "#E5ECF6",
           "caxis": {
            "gridcolor": "white",
            "linecolor": "white",
            "ticks": ""
           }
          },
          "title": {
           "x": 0.05
          },
          "xaxis": {
           "automargin": true,
           "gridcolor": "white",
           "linecolor": "white",
           "ticks": "",
           "title": {
            "standoff": 15
           },
           "zerolinecolor": "white",
           "zerolinewidth": 2
          },
          "yaxis": {
           "automargin": true,
           "gridcolor": "white",
           "linecolor": "white",
           "ticks": "",
           "title": {
            "standoff": 15
           },
           "zerolinecolor": "white",
           "zerolinewidth": 2
          }
         }
        },
        "title": {
         "text": "Tópicos"
        },
        "xaxis": {
         "autorange": true,
         "range": [
          -0.028654932637109297,
          0.6135791377639339
         ],
         "type": "linear",
         "zeroline": true
        },
        "yaxis": {
         "autorange": true,
         "range": [
          -0.5786770826893665,
          0.7266957512941766
         ],
         "type": "linear"
        }
       }
      },
      "image/png": "[encoded data removed]",
      "text/html": [
       "<div>                            <div id=\"06aaec83-6c9e-4b0d-830e-9d59af387c6f\" class=\"plotly-graph-div\" style=\"height:525px; width:100%;\"></div>            <script type=\"text/javascript\">                require([\"plotly\"], function(Plotly) {                    window.PLOTLYENV=window.PLOTLYENV || {};                                    if (document.getElementById(\"06aaec83-6c9e-4b0d-830e-9d59af387c6f\")) {                    Plotly.newPlot(                        \"06aaec83-6c9e-4b0d-830e-9d59af387c6f\",                        [{\"marker\": {\"color\": [0, 1, 2, 3, 4, 5, 6, 7, 8, 9, 10, 11, 12, 13, 14, 15, 16, 17, 18, 19, 20, 21, 22, 23, 24, 25, 26, 27, 28], \"size\": 10}, \"mode\": \"markers+text\", \"text\": [\"doc0\", \"doc1\", \"doc2\", \"doc3\", \"doc4\", \"doc5\", \"doc6\", \"doc7\", \"doc8\", \"doc9\", \"doc10\", \"doc11\", \"doc12\", \"doc13\", \"doc14\", \"doc15\", \"doc16\", \"doc17\", \"doc18\", \"doc19\", \"doc20\", \"doc21\", \"doc22\", \"doc23\", \"doc24\", \"doc25\", \"doc26\", \"doc27\", \"doc28\"], \"textfont\": {\"color\": \"Blue\", \"size\": 10}, \"textposition\": \"middle left\", \"type\": \"scatter\", \"x\": [0.03472857075551697, 0.061403173759353016, 0.013105720257958543, 0.5718184848688661, 0.20515309075350252, 0.10831540847178861, 0.054422863916040384, 0.21142156086463035, 0.13271058448094306, 0.13823290269170724, 0.0768827048331076, 0.020658976351823254, 0.1580164292433127, 0.04733425396295931, 0.06640236168169464, 0.08174510897832236, 0.0574194387511741, 0.29517222802395643, 0.22629963563598848, 0.16137161732349212, 0.47256277141272085, 0.09386728241553365, 0.19484143327248252, 0.05677202349579867, 0.058447799878838656, 0.12663980724903193, 0.09402422301432174, 0.2914817541910192, 0.2751921627320153], \"y\": [0.00578948767697192, 0.02232591138971177, 0.014981679639079178, 0.6312101458453804, 0.1953321685908706, 0.09913297894014422, 0.04443352613293069, 0.18906473320878073, 0.12051684083461627, 0.11816546924802492, 0.034133777382957156, 0.012274972225291376, 0.13724467755250402, 0.040879361612287585, 0.026254244442492265, 0.043002508212087835, -0.014887225524746006, -0.2969157860994389, -0.20408962811230996, -0.11501366257634034, -0.4831914772405702, -0.034806206545947606, 0.06523970920932562, 0.03223134674912606, -0.047909660117960995, 0.11735838220833013, -0.009920526139704518, -0.2921729069858132, -0.2749140832431487]}],                        {\"template\": {\"data\": {\"bar\": [{\"error_x\": {\"color\": \"#2a3f5f\"}, \"error_y\": {\"color\": \"#2a3f5f\"}, \"marker\": {\"line\": {\"color\": \"#E5ECF6\", \"width\": 0.5}}, \"type\": \"bar\"}], \"barpolar\": [{\"marker\": {\"line\": {\"color\": \"#E5ECF6\", \"width\": 0.5}}, \"type\": \"barpolar\"}], \"carpet\": [{\"aaxis\": {\"endlinecolor\": \"#2a3f5f\", \"gridcolor\": \"white\", \"linecolor\": \"white\", \"minorgridcolor\": \"white\", \"startlinecolor\": \"#2a3f5f\"}, \"baxis\": {\"endlinecolor\": \"#2a3f5f\", \"gridcolor\": \"white\", \"linecolor\": \"white\", \"minorgridcolor\": \"white\", \"startlinecolor\": \"#2a3f5f\"}, \"type\": \"carpet\"}], \"choropleth\": [{\"colorbar\": {\"outlinewidth\": 0, \"ticks\": \"\"}, \"type\": \"choropleth\"}], \"contour\": [{\"colorbar\": {\"outlinewidth\": 0, \"ticks\": \"\"}, \"colorscale\": [[0.0, \"#0d0887\"], [0.1111111111111111, \"#46039f\"], [0.2222222222222222, \"#7201a8\"], [0.3333333333333333, \"#9c179e\"], [0.4444444444444444, \"#bd3786\"], [0.5555555555555556, \"#d8576b\"], [0.6666666666666666, \"#ed7953\"], [0.7777777777777778, \"#fb9f3a\"], [0.8888888888888888, \"#fdca26\"], [1.0, \"#f0f921\"]], \"type\": \"contour\"}], \"contourcarpet\": [{\"colorbar\": {\"outlinewidth\": 0, \"ticks\": \"\"}, \"type\": \"contourcarpet\"}], \"heatmap\": [{\"colorbar\": {\"outlinewidth\": 0, \"ticks\": \"\"}, \"colorscale\": [[0.0, \"#0d0887\"], [0.1111111111111111, \"#46039f\"], [0.2222222222222222, \"#7201a8\"], [0.3333333333333333, \"#9c179e\"], [0.4444444444444444, \"#bd3786\"], [0.5555555555555556, \"#d8576b\"], [0.6666666666666666, \"#ed7953\"], [0.7777777777777778, \"#fb9f3a\"], [0.8888888888888888, \"#fdca26\"], [1.0, \"#f0f921\"]], \"type\": \"heatmap\"}], \"heatmapgl\": [{\"colorbar\": {\"outlinewidth\": 0, \"ticks\": \"\"}, \"colorscale\": [[0.0, \"#0d0887\"], [0.1111111111111111, \"#46039f\"], [0.2222222222222222, \"#7201a8\"], [0.3333333333333333, \"#9c179e\"], [0.4444444444444444, \"#bd3786\"], [0.5555555555555556, \"#d8576b\"], [0.6666666666666666, \"#ed7953\"], [0.7777777777777778, \"#fb9f3a\"], [0.8888888888888888, \"#fdca26\"], [1.0, \"#f0f921\"]], \"type\": \"heatmapgl\"}], \"histogram\": [{\"marker\": {\"colorbar\": {\"outlinewidth\": 0, \"ticks\": \"\"}}, \"type\": \"histogram\"}], \"histogram2d\": [{\"colorbar\": {\"outlinewidth\": 0, \"ticks\": \"\"}, \"colorscale\": [[0.0, \"#0d0887\"], [0.1111111111111111, \"#46039f\"], [0.2222222222222222, \"#7201a8\"], [0.3333333333333333, \"#9c179e\"], [0.4444444444444444, \"#bd3786\"], [0.5555555555555556, \"#d8576b\"], [0.6666666666666666, \"#ed7953\"], [0.7777777777777778, \"#fb9f3a\"], [0.8888888888888888, \"#fdca26\"], [1.0, \"#f0f921\"]], \"type\": \"histogram2d\"}], \"histogram2dcontour\": [{\"colorbar\": {\"outlinewidth\": 0, \"ticks\": \"\"}, \"colorscale\": [[0.0, \"#0d0887\"], [0.1111111111111111, \"#46039f\"], [0.2222222222222222, \"#7201a8\"], [0.3333333333333333, \"#9c179e\"], [0.4444444444444444, \"#bd3786\"], [0.5555555555555556, \"#d8576b\"], [0.6666666666666666, \"#ed7953\"], [0.7777777777777778, \"#fb9f3a\"], [0.8888888888888888, \"#fdca26\"], [1.0, \"#f0f921\"]], \"type\": \"histogram2dcontour\"}], \"mesh3d\": [{\"colorbar\": {\"outlinewidth\": 0, \"ticks\": \"\"}, \"type\": \"mesh3d\"}], \"parcoords\": [{\"line\": {\"colorbar\": {\"outlinewidth\": 0, \"ticks\": \"\"}}, \"type\": \"parcoords\"}], \"pie\": [{\"automargin\": true, \"type\": \"pie\"}], \"scatter\": [{\"marker\": {\"colorbar\": {\"outlinewidth\": 0, \"ticks\": \"\"}}, \"type\": \"scatter\"}], \"scatter3d\": [{\"line\": {\"colorbar\": {\"outlinewidth\": 0, \"ticks\": \"\"}}, \"marker\": {\"colorbar\": {\"outlinewidth\": 0, \"ticks\": \"\"}}, \"type\": \"scatter3d\"}], \"scattercarpet\": [{\"marker\": {\"colorbar\": {\"outlinewidth\": 0, \"ticks\": \"\"}}, \"type\": \"scattercarpet\"}], \"scattergeo\": [{\"marker\": {\"colorbar\": {\"outlinewidth\": 0, \"ticks\": \"\"}}, \"type\": \"scattergeo\"}], \"scattergl\": [{\"marker\": {\"colorbar\": {\"outlinewidth\": 0, \"ticks\": \"\"}}, \"type\": \"scattergl\"}], \"scattermapbox\": [{\"marker\": {\"colorbar\": {\"outlinewidth\": 0, \"ticks\": \"\"}}, \"type\": \"scattermapbox\"}], \"scatterpolar\": [{\"marker\": {\"colorbar\": {\"outlinewidth\": 0, \"ticks\": \"\"}}, \"type\": \"scatterpolar\"}], \"scatterpolargl\": [{\"marker\": {\"colorbar\": {\"outlinewidth\": 0, \"ticks\": \"\"}}, \"type\": \"scatterpolargl\"}], \"scatterternary\": [{\"marker\": {\"colorbar\": {\"outlinewidth\": 0, \"ticks\": \"\"}}, \"type\": \"scatterternary\"}], \"surface\": [{\"colorbar\": {\"outlinewidth\": 0, \"ticks\": \"\"}, \"colorscale\": [[0.0, \"#0d0887\"], [0.1111111111111111, \"#46039f\"], [0.2222222222222222, \"#7201a8\"], [0.3333333333333333, \"#9c179e\"], [0.4444444444444444, \"#bd3786\"], [0.5555555555555556, \"#d8576b\"], [0.6666666666666666, \"#ed7953\"], [0.7777777777777778, \"#fb9f3a\"], [0.8888888888888888, \"#fdca26\"], [1.0, \"#f0f921\"]], \"type\": \"surface\"}], \"table\": [{\"cells\": {\"fill\": {\"color\": \"#EBF0F8\"}, \"line\": {\"color\": \"white\"}}, \"header\": {\"fill\": {\"color\": \"#C8D4E3\"}, \"line\": {\"color\": \"white\"}}, \"type\": \"table\"}]}, \"layout\": {\"annotationdefaults\": {\"arrowcolor\": \"#2a3f5f\", \"arrowhead\": 0, \"arrowwidth\": 1}, \"coloraxis\": {\"colorbar\": {\"outlinewidth\": 0, \"ticks\": \"\"}}, \"colorscale\": {\"diverging\": [[0, \"#8e0152\"], [0.1, \"#c51b7d\"], [0.2, \"#de77ae\"], [0.3, \"#f1b6da\"], [0.4, \"#fde0ef\"], [0.5, \"#f7f7f7\"], [0.6, \"#e6f5d0\"], [0.7, \"#b8e186\"], [0.8, \"#7fbc41\"], [0.9, \"#4d9221\"], [1, \"#276419\"]], \"sequential\": [[0.0, \"#0d0887\"], [0.1111111111111111, \"#46039f\"], [0.2222222222222222, \"#7201a8\"], [0.3333333333333333, \"#9c179e\"], [0.4444444444444444, \"#bd3786\"], [0.5555555555555556, \"#d8576b\"], [0.6666666666666666, \"#ed7953\"], [0.7777777777777778, \"#fb9f3a\"], [0.8888888888888888, \"#fdca26\"], [1.0, \"#f0f921\"]], \"sequentialminus\": [[0.0, \"#0d0887\"], [0.1111111111111111, \"#46039f\"], [0.2222222222222222, \"#7201a8\"], [0.3333333333333333, \"#9c179e\"], [0.4444444444444444, \"#bd3786\"], [0.5555555555555556, \"#d8576b\"], [0.6666666666666666, \"#ed7953\"], [0.7777777777777778, \"#fb9f3a\"], [0.8888888888888888, \"#fdca26\"], [1.0, \"#f0f921\"]]}, \"colorway\": [\"#636efa\", \"#EF553B\", \"#00cc96\", \"#ab63fa\", \"#FFA15A\", \"#19d3f3\", \"#FF6692\", \"#B6E880\", \"#FF97FF\", \"#FECB52\"], \"font\": {\"color\": \"#2a3f5f\"}, \"geo\": {\"bgcolor\": \"white\", \"lakecolor\": \"white\", \"landcolor\": \"#E5ECF6\", \"showlakes\": true, \"showland\": true, \"subunitcolor\": \"white\"}, \"hoverlabel\": {\"align\": \"left\"}, \"hovermode\": \"closest\", \"mapbox\": {\"style\": \"light\"}, \"paper_bgcolor\": \"white\", \"plot_bgcolor\": \"#E5ECF6\", \"polar\": {\"angularaxis\": {\"gridcolor\": \"white\", \"linecolor\": \"white\", \"ticks\": \"\"}, \"bgcolor\": \"#E5ECF6\", \"radialaxis\": {\"gridcolor\": \"white\", \"linecolor\": \"white\", \"ticks\": \"\"}}, \"scene\": {\"xaxis\": {\"backgroundcolor\": \"#E5ECF6\", \"gridcolor\": \"white\", \"gridwidth\": 2, \"linecolor\": \"white\", \"showbackground\": true, \"ticks\": \"\", \"zerolinecolor\": \"white\"}, \"yaxis\": {\"backgroundcolor\": \"#E5ECF6\", \"gridcolor\": \"white\", \"gridwidth\": 2, \"linecolor\": \"white\", \"showbackground\": true, \"ticks\": \"\", \"zerolinecolor\": \"white\"}, \"zaxis\": {\"backgroundcolor\": \"#E5ECF6\", \"gridcolor\": \"white\", \"gridwidth\": 2, \"linecolor\": \"white\", \"showbackground\": true, \"ticks\": \"\", \"zerolinecolor\": \"white\"}}, \"shapedefaults\": {\"line\": {\"color\": \"#2a3f5f\"}}, \"ternary\": {\"aaxis\": {\"gridcolor\": \"white\", \"linecolor\": \"white\", \"ticks\": \"\"}, \"baxis\": {\"gridcolor\": \"white\", \"linecolor\": \"white\", \"ticks\": \"\"}, \"bgcolor\": \"#E5ECF6\", \"caxis\": {\"gridcolor\": \"white\", \"linecolor\": \"white\", \"ticks\": \"\"}}, \"title\": {\"x\": 0.05}, \"xaxis\": {\"automargin\": true, \"gridcolor\": \"white\", \"linecolor\": \"white\", \"ticks\": \"\", \"title\": {\"standoff\": 15}, \"zerolinecolor\": \"white\", \"zerolinewidth\": 2}, \"yaxis\": {\"automargin\": true, \"gridcolor\": \"white\", \"linecolor\": \"white\", \"ticks\": \"\", \"title\": {\"standoff\": 15}, \"zerolinecolor\": \"white\", \"zerolinewidth\": 2}}}, \"title\": {\"text\": \"T\\u00f3picos\"}, \"xaxis\": {\"zeroline\": true}},                        {\"responsive\": true}                    ).then(function(){\n",
       "                            \n",
       "var gd = document.getElementById('06aaec83-6c9e-4b0d-830e-9d59af387c6f');\n",
       "var x = new MutationObserver(function (mutations, observer) {{\n",
       "        var display = window.getComputedStyle(gd).display;\n",
       "        if (!display || display === 'none') {{\n",
       "            console.log([gd, 'removed!']);\n",
       "            Plotly.purge(gd);\n",
       "            observer.disconnect();\n",
       "        }}\n",
       "}});\n",
       "\n",
       "// Listen for the removal of the full notebook cells\n",
       "var notebookContainer = gd.closest('#notebook-container');\n",
       "if (notebookContainer) {{\n",
       "    x.observe(notebookContainer, {childList: true});\n",
       "}}\n",
       "\n",
       "// Listen for the clearing of the current output cell\n",
       "var outputEl = gd.closest('.output');\n",
       "if (outputEl) {{\n",
       "    x.observe(outputEl, {childList: true});\n",
       "}}\n",
       "\n",
       "                        })                };                });            </script>        </div>"
      ]
     },
     "metadata": {},
     "output_type": "display_data"
    }
   ],
   "source": [
    "fig = go.Figure()\n",
    "fig.add_trace(go.Scatter(\n",
    "    x = P_alpha[:,0], y = P_alpha[:,1],\n",
    "    mode ='markers+text',\n",
    "    text = ['doc' + str(i) for i in range(len(corpus))],\n",
    "    marker = dict(\n",
    "        size = 10,\n",
    "        color = list(range(29)),\n",
    "    ),\n",
    "    textposition=\"middle left\",\n",
    "    textfont=dict(\n",
    "        size=10,\n",
    "        color=\"Blue\"\n",
    "    )\n",
    "))\n",
    "fig.update_layout(title='Tópicos', xaxis_zeroline=True)\n",
    "\n",
    "fig.show()"
   ]
  },
  {
   "cell_type": "code",
   "execution_count": 355,
   "metadata": {},
   "outputs": [],
   "source": [
    "comp1_alpha, comp2_alpha = svd_alpha.components_"
   ]
  },
  {
   "cell_type": "code",
   "execution_count": 356,
   "metadata": {},
   "outputs": [],
   "source": [
    "indices1_alpha = np.argsort(comp1_alpha)"
   ]
  },
  {
   "cell_type": "code",
   "execution_count": 357,
   "metadata": {},
   "outputs": [
    {
     "data": {
      "text/plain": [
       "array([159, 108, 199,  18, 261,  12,  76, 174,   2,  58, 281, 150,  88,\n",
       "       322,  91, 134, 172, 193, 109, 146])"
      ]
     },
     "execution_count": 357,
     "metadata": {},
     "output_type": "execute_result"
    }
   ],
   "source": [
    "indices1_alpha = indices1_alpha[::-1]\n",
    "indices1_alpha[:20]"
   ]
  },
  {
   "cell_type": "code",
   "execution_count": 358,
   "metadata": {},
   "outputs": [],
   "source": [
    "indices2_alpha = np.argsort(comp2_alpha)\n",
    "indices2_alpha = indices2_alpha[::-1]"
   ]
  },
  {
   "cell_type": "code",
   "execution_count": 359,
   "metadata": {},
   "outputs": [
    {
     "data": {
      "text/plain": [
       "array([159,  18, 261,  12,   2, 150, 281,  58, 322, 155,  13, 110, 262,\n",
       "       250,   3, 252, 112, 145, 214, 202])"
      ]
     },
     "execution_count": 359,
     "metadata": {},
     "output_type": "execute_result"
    }
   ],
   "source": [
    "indices2_alpha[:20]"
   ]
  },
  {
   "cell_type": "code",
   "execution_count": 360,
   "metadata": {},
   "outputs": [
    {
     "name": "stdout",
     "output_type": "stream",
     "text": [
      "Dimensión 1:\n",
      "['inflacion' 'dolar' 'mep' 'ajustaran' 'proximas' 'afectara' 'cerro'\n",
      " 'liquidacion' 'acelerada' 'cadenas' 'resto' 'horas' 'contado' 'valores'\n",
      " 'cotizaciones' 'finalizo' 'limite' 'medidas' 'dolares' 'guzman'\n",
      " 'encontraron' 'paralelas' 'bajar' 'brecha' 'economia' 'subio' 'alza'\n",
      " 'aun' 'gobierno' 'indec' 'mientras' 'pesos' 'mayorista' 'agosto'\n",
      " 'precios' 'mantiene' 'suba' 'publico' 'presion' 'aceleraran' 'sesion'\n",
      " 'cinco' 'paralelo' 'descienden' 'financieras' 'semana' 'respectivamente'\n",
      " 'salarios' 'escalo' 'abandono' 'guillermo' 'nielsen' 'efecto' 'acumula'\n",
      " 'millones' 'caida' 'cambiaria' 'trabajadores' 'liqui' 'mayor' 'informo'\n",
      " 'record' 'logro' 'octubre' 'alto' 'nivel' 'noviembre' 'vienen'\n",
      " 'tarifazos' 'diciembre' 'pone' 'anterior' 'consecutiva' 'supera'\n",
      " 'tercera' 'ahorro' 'arrancaron' 'aumenta' 'financieros' 'amplia'\n",
      " 'disparo' 'llego' 'pese' 'miercoles' 'manteniendo' 'mantuvo' 'paz'\n",
      " 'pesar' 'partir' 'arrastre' 'hoy' 'liberal' 'surtidores' 'cada' 'tambien'\n",
      " 'segun' 'respecto' 'indice' 'total' 'pequeno' 'blue' 'jueves' 'relacion'\n",
      " 'mercado' 'ajusta' 'oficial' 'alarmas' 'subas' 'concesiones' 'nueva'\n",
      " 'anota' 'encendiendo' 'jornada' 'poder' 'alimentos' 'indumentaria'\n",
      " 'compra' 'bonos' 'quiere' 'fondo' 'preserva' 'pagar' 'cepo' 'frente'\n",
      " 'ahorrista' 'fraudulenta' 'grifo' 'protegerse' 'oficialismo' 'maximos'\n",
      " 'luego' 'deuda' 'interanual' 'canasta' 'registro' 'precio' 'mostro'\n",
      " 'correspondio' 'sector' 'super' 'us' 'meses' 'dias' 'deie' 'acumulacion'\n",
      " 'interes' 'podra' 'buscan' 'emitiran' 'billete' 'pasado' 'rebote' 'rueda'\n",
      " 'alcanzado' 'estatales' 'basica' 'pro' 'construccion' 'registrado'\n",
      " 'minimos' 'salariales' 'trabajadoras' 'provincial' 'aumentaron' 'resiste'\n",
      " 'miles' 'rubros' 'paritarias' 'baja' 'medida' 'ligados' 'equivalente'\n",
      " 'colocar' 'tasa' 'calmar' 'fracasos' 'especuladores' 'periodo' 'acumulo'\n",
      " 'va' 'mismo' 'recomposicion' 'habia' 'solo' 'sera' 'transporte' 'incluye'\n",
      " 'incremento' 'profundiza' 'sectores' 'descendio' 'realizara' 'apertura'\n",
      " 'emae' 'economica' 'estimador' 'mensual' 'caera' 'actividad' 'septiembre'\n",
      " 'canjeo' 'templeton' 'beneficio' 'titulos' 'inversion' 'pimco'\n",
      " 'ministerio' 'previo' 'ocho' 'derrumbe' 'primeros' 'leve' 'debajo'\n",
      " 'cierran' 'consultoras' 'estiman' 'movilizan' 'paritarios' 'reclamo'\n",
      " 'acuerdos' 'evitar' 'materiales' 'crecieron' 'programa' 'anunciado'\n",
      " 'menores' 'consumos' 'mayores' 'hogar' 'adultos' 'nuevos' 'cerca' 'bajo'\n",
      " 'viernes' 'cayendo' 'anuncios' 'martes' 'acelera' 'nueve' 'liquido'\n",
      " 'nominados' 'lunes' 'reducir' 'fondos' 'endeudamiento' 'habiles' 'cnv'\n",
      " 'ultimos' 'banco' 'central' 'aumento' 'numero' 'articulos' 'negocio'\n",
      " 'salarial' 'estima' 'cae' 'denuncian' 'divisas' 'menos' 'agrava' 'campo'\n",
      " 'objetivo' 'faltante' 'venderlo' 'tener' 'inversor' 'reduce' 'cantidad'\n",
      " 'tres' 'anuncio' 'rendimientos' 'pases' 'medio' 'punto' 'plan' 'festival'\n",
      " 'cerrar' 'supermercados' 'alimenticias' 'lista' 'importante' 'eliminar'\n",
      " 'bolsillo' 'golpe' 'consumidor' 'volvera' 'junta' 'interna' 'salario'\n",
      " 'miserable' 'calcularon' 'desciende' 'monto' 'ate' 'adquisitivo'\n",
      " 'paritaria' 'tipo' 'derrumbaron' 'cambio' 'pronunciada' 'esperan'\n",
      " 'exportaciones' 'exportadores' 'caer' 'bono' 'strike' 'tobacco' 'lucky'\n",
      " 'bat' 'british' 'aplicara' 'american' 'mejoro' 'contraccion' 'permitio'\n",
      " 'desplomo' 'tabacalera' 'marcas' 'fabrica' 'recuperar' 'empleo'\n",
      " 'descenso' 'parte' 'industrial' 'reapertura' 'actividades']\n"
     ]
    }
   ],
   "source": [
    "dim1_alpha = np.array(vocabulario_alpha)[indices1_alpha]\n",
    "print(f'Dimensión 1:\\n{dim1_alpha}')"
   ]
  },
  {
   "cell_type": "code",
   "execution_count": 361,
   "metadata": {},
   "outputs": [
    {
     "name": "stdout",
     "output_type": "stream",
     "text": [
      "Dimensión 2:\n",
      "['inflacion' 'ajustaran' 'proximas' 'afectara' 'acelerada' 'horas' 'resto'\n",
      " 'cadenas' 'valores' 'indec' 'agosto' 'economia' 'publico' 'precios'\n",
      " 'aceleraran' 'presion' 'efecto' 'guillermo' 'nielsen' 'mientras'\n",
      " 'salarios' 'caida' 'informo' 'gobierno' 'trabajadores' 'noviembre' 'pone'\n",
      " 'diciembre' 'vienen' 'nivel' 'tarifazos' 'cada' 'arrastre' 'hoy'\n",
      " 'surtidores' 'partir' 'liberal' 'millones' 'total' 'alto' 'ajusta'\n",
      " 'segun' 'aun' 'indice' 'indumentaria' 'alimentos' 'respecto' 'precio'\n",
      " 'canasta' 'correspondio' 'mostro' 'acumulacion' 'buscan' 'podra'\n",
      " 'emitiran' 'interes' 'poder' 'deie' 'registro' 'basica' 'tambien'\n",
      " 'estatales' 'interanual' 'compra' 'sector' 'us' 'registrado' 'tasa'\n",
      " 'calmar' 'equivalente' 'especuladores' 'ligados' 'fracasos' 'colocar'\n",
      " 'sera' 'recomposicion' 'provincial' 'resiste' 'rubros' 'salariales'\n",
      " 'aumentaron' 'trabajadoras' 'paritarias' 'miles' 'minimos' 'profundiza'\n",
      " 'incluye' 'transporte' 'incremento' 'octubre' 'sectores' 'maximos'\n",
      " 'medida' 'va' 'apertura' 'estiman' 'cierran' 'paritarios' 'reclamo'\n",
      " 'movilizan' 'consultoras' 'debajo' 'acuerdos' 'pequeno' 'construccion'\n",
      " 'anterior' 'acelera' 'salarial' 'mayores' 'consumos' 'hogar' 'menores'\n",
      " 'adultos' 'meses' 'septiembre' 'protegerse' 'quiere' 'oficialismo'\n",
      " 'pagar' 'frente' 'fraudulenta' 'fondo' 'ahorrista' 'preserva' 'grifo'\n",
      " 'cepo' 'logro' 'cae' 'solo' 'habia' 'super' 'denuncian' 'salario' 'junta'\n",
      " 'volvera' 'interna' 'evitar' 'crecieron' 'materiales' 'anunciado'\n",
      " 'programa' 'actividad' 'miserable' 'calcularon' 'liquido' 'estimador'\n",
      " 'economica' 'mensual' 'emae' 'caera' 'periodo' 'acumulo' 'adquisitivo'\n",
      " 'monto' 'ate' 'paritaria' 'articulos' 'numero' 'negocio' 'mismo'\n",
      " 'objetivo' 'campo' 'agrava' 'menos' 'faltante' 'divisas' 'nueve' 'caer'\n",
      " 'leve' 'previo' 'derrumbe' 'primeros' 'ocho' 'relacion' 'tobacco'\n",
      " 'strike' 'british' 'bat' 'aplicara' 'lucky' 'american' 'estima'\n",
      " 'eliminar' 'bolsillo' 'alimenticias' 'lista' 'golpe' 'supermercados'\n",
      " 'importante' 'consumidor' 'ultimos' 'tabacalera' 'fabrica' 'marcas'\n",
      " 'bonos' 'mejoro' 'permitio' 'desplomo' 'contraccion' 'descenso' 'parte'\n",
      " 'industrial' 'recuperar' 'empleo' 'reapertura' 'actividades' 'deuda'\n",
      " 'tipo' 'esperan' 'exportaciones' 'pronunciada' 'exportadores' 'cambio'\n",
      " 'derrumbaron' 'jueves' 'nuevos' 'cayendo' 'martes' 'cerca' 'bajo'\n",
      " 'anuncios' 'viernes' 'realizara' 'descendio' 'bono' 'cantidad' 'reduce'\n",
      " 'venderlo' 'anuncio' 'tres' 'inversor' 'tener' 'habiles' 'cnv' 'baja'\n",
      " 'fondos' 'reducir' 'lunes' 'endeudamiento' 'nominados' 'suba' 'canjeo'\n",
      " 'templeton' 'beneficio' 'pimco' 'ministerio' 'titulos' 'inversion' 'dias'\n",
      " 'desciende' 'festival' 'rendimientos' 'pases' 'medio' 'punto' 'plan'\n",
      " 'cerrar' 'central' 'banco' 'aumento' 'rebote' 'rueda' 'billete'\n",
      " 'alcanzado' 'pasado' 'luego' 'mayor' 'pro' 'record' 'oficial' 'subas'\n",
      " 'encendiendo' 'anota' 'alarmas' 'concesiones' 'nueva' 'jornada' 'mercado'\n",
      " 'blue' 'acumula' 'cambiaria' 'liqui' 'aumenta' 'arrancaron' 'financieros'\n",
      " 'consecutiva' 'ahorro' 'tercera' 'supera' 'manteniendo' 'paz' 'mantuvo'\n",
      " 'pesar' 'cinco' 'miercoles' 'amplia' 'llego' 'pese' 'disparo' 'dolares'\n",
      " 'pesos' 'paralelo' 'sesion' 'escalo' 'abandono' 'mantiene' 'descienden'\n",
      " 'semana' 'financieras' 'respectivamente' 'subio' 'mayorista' 'alza'\n",
      " 'brecha' 'guzman' 'paralelas' 'bajar' 'encontraron' 'medidas'\n",
      " 'cotizaciones' 'finalizo' 'limite' 'contado' 'cerro' 'liquidacion' 'mep'\n",
      " 'dolar']\n"
     ]
    }
   ],
   "source": [
    "dim2_alpha = np.array(vocabulario_alpha)[indices2_alpha]\n",
    "print(f'Dimensión 2:\\n{dim2_alpha}')"
   ]
  },
  {
   "cell_type": "markdown",
   "metadata": {},
   "source": [
    "#### Bayes (Prueba nro. 2)"
   ]
  },
  {
   "cell_type": "code",
   "execution_count": 362,
   "metadata": {},
   "outputs": [],
   "source": [
    "target = list(np.ones(shape=len(df_inflacion))) + list(np.zeros(len(df_cambio)))"
   ]
  },
  {
   "cell_type": "code",
   "execution_count": 363,
   "metadata": {},
   "outputs": [
    {
     "data": {
      "text/html": [
       "<div>\n",
       "<style scoped>\n",
       "    .dataframe tbody tr th:only-of-type {\n",
       "        vertical-align: middle;\n",
       "    }\n",
       "\n",
       "    .dataframe tbody tr th {\n",
       "        vertical-align: top;\n",
       "    }\n",
       "\n",
       "    .dataframe thead th {\n",
       "        text-align: right;\n",
       "    }\n",
       "</style>\n",
       "<table border=\"1\" class=\"dataframe\">\n",
       "  <thead>\n",
       "    <tr style=\"text-align: right;\">\n",
       "      <th></th>\n",
       "      <th>0</th>\n",
       "      <th>1</th>\n",
       "    </tr>\n",
       "  </thead>\n",
       "  <tbody>\n",
       "    <tr>\n",
       "      <th>0</th>\n",
       "      <td>Las exportaciones se derrumbaron un 21,6 % res...</td>\n",
       "      <td>1</td>\n",
       "    </tr>\n",
       "    <tr>\n",
       "      <th>1</th>\n",
       "      <td>El Estimador Mensual de la Actividad Económica...</td>\n",
       "      <td>1</td>\n",
       "    </tr>\n",
       "    <tr>\n",
       "      <th>2</th>\n",
       "      <td>Será de un 7% y se aplicará a las marcas que f...</td>\n",
       "      <td>1</td>\n",
       "    </tr>\n",
       "    <tr>\n",
       "      <th>3</th>\n",
       "      <td>El resto de las cadenas ajustarán sus valores ...</td>\n",
       "      <td>1</td>\n",
       "    </tr>\n",
       "    <tr>\n",
       "      <th>4</th>\n",
       "      <td>Es de un 2,5 % a partir de las 0 de hoy. Desde...</td>\n",
       "      <td>1</td>\n",
       "    </tr>\n",
       "    <tr>\n",
       "      <th>5</th>\n",
       "      <td>El poder de compra del salario cae con la suba...</td>\n",
       "      <td>1</td>\n",
       "    </tr>\n",
       "    <tr>\n",
       "      <th>6</th>\n",
       "      <td>Es el monto de una canasta de consumos mínimos...</td>\n",
       "      <td>1</td>\n",
       "    </tr>\n",
       "    <tr>\n",
       "      <th>7</th>\n",
       "      <td>Es nivel más alto en lo que va del año y pone ...</td>\n",
       "      <td>1</td>\n",
       "    </tr>\n",
       "    <tr>\n",
       "      <th>8</th>\n",
       "      <td>El Indec informó que la Canasta Básica Total, ...</td>\n",
       "      <td>1</td>\n",
       "    </tr>\n",
       "    <tr>\n",
       "      <th>9</th>\n",
       "      <td>Mientras el Gobierno provincial se resiste a l...</td>\n",
       "      <td>1</td>\n",
       "    </tr>\n",
       "    <tr>\n",
       "      <th>10</th>\n",
       "      <td>Es el registro más alto del año. En lo que va ...</td>\n",
       "      <td>1</td>\n",
       "    </tr>\n",
       "    <tr>\n",
       "      <th>11</th>\n",
       "      <td>La construcción se desplomó 3,9 % en septiembr...</td>\n",
       "      <td>1</td>\n",
       "    </tr>\n",
       "    <tr>\n",
       "      <th>12</th>\n",
       "      <td>El Indec publicó el índice de salarios de agos...</td>\n",
       "      <td>1</td>\n",
       "    </tr>\n",
       "    <tr>\n",
       "      <th>13</th>\n",
       "      <td>Los trabajadores del Indec calcularon una cana...</td>\n",
       "      <td>1</td>\n",
       "    </tr>\n",
       "    <tr>\n",
       "      <th>14</th>\n",
       "      <td>En los primeros ocho meses del año la economía...</td>\n",
       "      <td>1</td>\n",
       "    </tr>\n",
       "    <tr>\n",
       "      <th>15</th>\n",
       "      <td>Mientras los materiales para la construcción c...</td>\n",
       "      <td>1</td>\n",
       "    </tr>\n",
       "    <tr>\n",
       "      <th>16</th>\n",
       "      <td>La CNV anunció que reduce de tres a dos días h...</td>\n",
       "      <td>0</td>\n",
       "    </tr>\n",
       "    <tr>\n",
       "      <th>17</th>\n",
       "      <td>A pesar de las medidas pro mercado de Guzmán, ...</td>\n",
       "      <td>0</td>\n",
       "    </tr>\n",
       "    <tr>\n",
       "      <th>18</th>\n",
       "      <td>Aumenta cinco pesos y es la tercera sesión con...</td>\n",
       "      <td>0</td>\n",
       "    </tr>\n",
       "    <tr>\n",
       "      <th>19</th>\n",
       "      <td>El dólar paralelo subió cinco pesos (+3,1 %) e...</td>\n",
       "      <td>0</td>\n",
       "    </tr>\n",
       "    <tr>\n",
       "      <th>20</th>\n",
       "      <td>El dólar Contado con liquidación cerró en $149...</td>\n",
       "      <td>0</td>\n",
       "    </tr>\n",
       "    <tr>\n",
       "      <th>21</th>\n",
       "      <td>Guzmán logró reducir la brecha cambiaria con m...</td>\n",
       "      <td>0</td>\n",
       "    </tr>\n",
       "    <tr>\n",
       "      <th>22</th>\n",
       "      <td>Mientras el “súper cepo” cerró más el grifo al...</td>\n",
       "      <td>0</td>\n",
       "    </tr>\n",
       "    <tr>\n",
       "      <th>23</th>\n",
       "      <td>El campo liquidó poco más de U$S 1.700 millone...</td>\n",
       "      <td>0</td>\n",
       "    </tr>\n",
       "    <tr>\n",
       "      <th>24</th>\n",
       "      <td>El blue desciende hasta los $ 175 y el Banco C...</td>\n",
       "      <td>0</td>\n",
       "    </tr>\n",
       "    <tr>\n",
       "      <th>25</th>\n",
       "      <td>También se emitirán bonos ligados a la inflaci...</td>\n",
       "      <td>0</td>\n",
       "    </tr>\n",
       "    <tr>\n",
       "      <th>26</th>\n",
       "      <td>Bajó $ 5 en relación al viernes y la brecha co...</td>\n",
       "      <td>0</td>\n",
       "    </tr>\n",
       "    <tr>\n",
       "      <th>27</th>\n",
       "      <td>En la semana, acumula así una suba de $ 14 y m...</td>\n",
       "      <td>0</td>\n",
       "    </tr>\n",
       "    <tr>\n",
       "      <th>28</th>\n",
       "      <td>Este miércoles anota una nueva jornada de suba...</td>\n",
       "      <td>0</td>\n",
       "    </tr>\n",
       "  </tbody>\n",
       "</table>\n",
       "</div>"
      ],
      "text/plain": [
       "                                                    0  1\n",
       "0   Las exportaciones se derrumbaron un 21,6 % res...  1\n",
       "1   El Estimador Mensual de la Actividad Económica...  1\n",
       "2   Será de un 7% y se aplicará a las marcas que f...  1\n",
       "3   El resto de las cadenas ajustarán sus valores ...  1\n",
       "4   Es de un 2,5 % a partir de las 0 de hoy. Desde...  1\n",
       "5   El poder de compra del salario cae con la suba...  1\n",
       "6   Es el monto de una canasta de consumos mínimos...  1\n",
       "7   Es nivel más alto en lo que va del año y pone ...  1\n",
       "8   El Indec informó que la Canasta Básica Total, ...  1\n",
       "9   Mientras el Gobierno provincial se resiste a l...  1\n",
       "10  Es el registro más alto del año. En lo que va ...  1\n",
       "11  La construcción se desplomó 3,9 % en septiembr...  1\n",
       "12  El Indec publicó el índice de salarios de agos...  1\n",
       "13  Los trabajadores del Indec calcularon una cana...  1\n",
       "14  En los primeros ocho meses del año la economía...  1\n",
       "15  Mientras los materiales para la construcción c...  1\n",
       "16  La CNV anunció que reduce de tres a dos días h...  0\n",
       "17  A pesar de las medidas pro mercado de Guzmán, ...  0\n",
       "18  Aumenta cinco pesos y es la tercera sesión con...  0\n",
       "19  El dólar paralelo subió cinco pesos (+3,1 %) e...  0\n",
       "20  El dólar Contado con liquidación cerró en $149...  0\n",
       "21  Guzmán logró reducir la brecha cambiaria con m...  0\n",
       "22  Mientras el “súper cepo” cerró más el grifo al...  0\n",
       "23  El campo liquidó poco más de U$S 1.700 millone...  0\n",
       "24  El blue desciende hasta los $ 175 y el Banco C...  0\n",
       "25  También se emitirán bonos ligados a la inflaci...  0\n",
       "26  Bajó $ 5 en relación al viernes y la brecha co...  0\n",
       "27  En la semana, acumula así una suba de $ 14 y m...  0\n",
       "28  Este miércoles anota una nueva jornada de suba...  0"
      ]
     },
     "execution_count": 363,
     "metadata": {},
     "output_type": "execute_result"
    }
   ],
   "source": [
    "df = pd.DataFrame([corpus, target]).transpose()\n",
    "df"
   ]
  },
  {
   "cell_type": "markdown",
   "metadata": {},
   "source": [
    "#### Train - Test Split"
   ]
  },
  {
   "cell_type": "code",
   "execution_count": 364,
   "metadata": {},
   "outputs": [],
   "source": [
    "from sklearn.model_selection import train_test_split"
   ]
  },
  {
   "cell_type": "code",
   "execution_count": 365,
   "metadata": {},
   "outputs": [],
   "source": [
    "train,test,y_train,y_test = train_test_split(df.iloc[:,0],df.iloc[:,1], train_size=0.75)"
   ]
  },
  {
   "cell_type": "markdown",
   "metadata": {},
   "source": [
    "#### Vectorizer"
   ]
  },
  {
   "cell_type": "code",
   "execution_count": 366,
   "metadata": {},
   "outputs": [],
   "source": [
    "from sklearn.feature_extraction.text import TfidfTransformer"
   ]
  },
  {
   "cell_type": "code",
   "execution_count": 396,
   "metadata": {},
   "outputs": [],
   "source": [
    "def matrix_maker(data, vocabulario):\n",
    "    matriz = np.zeros(shape = (len(data), len(vocabulario)), dtype='int')\n",
    "    for i, documento in enumerate(data):\n",
    "        for termino in documento:\n",
    "            matriz[i, vocabulario.index(termino)] =+ 1\n",
    "    return matriz"
   ]
  },
  {
   "cell_type": "code",
   "execution_count": 401,
   "metadata": {},
   "outputs": [],
   "source": [
    "X_train = train.apply(alpha_tokenizer)"
   ]
  },
  {
   "cell_type": "code",
   "execution_count": 402,
   "metadata": {},
   "outputs": [
    {
     "data": {
      "text/plain": [
       "array([[0, 0, 0, ..., 0, 0, 0],\n",
       "       [0, 0, 0, ..., 0, 0, 0],\n",
       "       [0, 0, 0, ..., 0, 0, 0],\n",
       "       ...,\n",
       "       [0, 0, 0, ..., 0, 0, 0],\n",
       "       [0, 1, 0, ..., 0, 0, 0],\n",
       "       [0, 0, 0, ..., 0, 0, 0]])"
      ]
     },
     "execution_count": 402,
     "metadata": {},
     "output_type": "execute_result"
    }
   ],
   "source": [
    "matriz_train = matrix_maker(X_train, vocabulario_alpha)\n",
    "matriz_train"
   ]
  },
  {
   "cell_type": "code",
   "execution_count": 410,
   "metadata": {},
   "outputs": [],
   "source": [
    "X_train_tfidf = tf_idf_2(train, vocabulario_alpha)"
   ]
  },
  {
   "cell_type": "code",
   "execution_count": 411,
   "metadata": {},
   "outputs": [],
   "source": [
    "matriz_train_tfidf = np.zeros(shape = (len(X_train), len(vocabulario_alpha)), dtype='float')\n",
    "for doc in range(len(X_train)):\n",
    "    for ter in vocabulario_alpha:\n",
    "        for line in X_train_tfidf:\n",
    "            if doc == line[0]:\n",
    "                if vocabulario_alpha.index(ter) == line[1]:\n",
    "                    matriz_train_tfidf[doc, vocabulario_alpha.index(ter)] = line[2]"
   ]
  },
  {
   "cell_type": "code",
   "execution_count": 434,
   "metadata": {},
   "outputs": [],
   "source": [
    "X_test_tfidf = tf_idf_2(test, vocabulario_alpha)"
   ]
  },
  {
   "cell_type": "code",
   "execution_count": 435,
   "metadata": {},
   "outputs": [],
   "source": [
    "matriz_test_tfidf = np.zeros(shape = (len(test), len(vocabulario_alpha)), dtype='float')\n",
    "for doc in range(len(test)):\n",
    "    for ter in vocabulario_alpha:\n",
    "        for line in X_test_tfidf:\n",
    "            if doc == line[0]:\n",
    "                if vocabulario_alpha.index(ter) == line[1]:\n",
    "                    matriz_test_tfidf[doc, vocabulario_alpha.index(ter)] = line[2]"
   ]
  },
  {
   "cell_type": "markdown",
   "metadata": {},
   "source": [
    "#### Modelo\n",
    "alpha_vectorizer"
   ]
  },
  {
   "cell_type": "code",
   "execution_count": 416,
   "metadata": {},
   "outputs": [],
   "source": [
    "from sklearn.naive_bayes import MultinomialNB\n",
    "from sklearn.metrics import accuracy_score\n",
    "from sklearn.metrics import confusion_matrix"
   ]
  },
  {
   "cell_type": "code",
   "execution_count": 418,
   "metadata": {},
   "outputs": [
    {
     "data": {
      "text/plain": [
       "MultinomialNB()"
      ]
     },
     "execution_count": 418,
     "metadata": {},
     "output_type": "execute_result"
    }
   ],
   "source": [
    "multi_nb = MultinomialNB()\n",
    "\n",
    "multi_nb.fit(matriz_train, y_train.values.astype(int))"
   ]
  },
  {
   "cell_type": "code",
   "execution_count": 426,
   "metadata": {},
   "outputs": [],
   "source": [
    "y_pred = multi_nb.predict(matrix_maker(test.apply(alpha_tokenizer), vocabulario_alpha))"
   ]
  },
  {
   "cell_type": "code",
   "execution_count": 427,
   "metadata": {},
   "outputs": [
    {
     "name": "stdout",
     "output_type": "stream",
     "text": [
      "[1 1 0 1 0 1 0 1]\n"
     ]
    }
   ],
   "source": [
    "print(y_pred)"
   ]
  },
  {
   "cell_type": "code",
   "execution_count": 428,
   "metadata": {},
   "outputs": [],
   "source": [
    "from sklearn.metrics import accuracy_score"
   ]
  },
  {
   "cell_type": "code",
   "execution_count": 429,
   "metadata": {},
   "outputs": [
    {
     "data": {
      "text/plain": [
       "1.0"
      ]
     },
     "execution_count": 429,
     "metadata": {},
     "output_type": "execute_result"
    }
   ],
   "source": [
    "accuracy_score(y_pred, y_test.values.astype(int))"
   ]
  },
  {
   "cell_type": "code",
   "execution_count": 430,
   "metadata": {},
   "outputs": [
    {
     "data": {
      "text/plain": [
       "4     1\n",
       "1     1\n",
       "19    0\n",
       "15    1\n",
       "16    0\n",
       "9     1\n",
       "23    0\n",
       "0     1\n",
       "Name: 1, dtype: object"
      ]
     },
     "execution_count": 430,
     "metadata": {},
     "output_type": "execute_result"
    }
   ],
   "source": [
    "y_test"
   ]
  },
  {
   "cell_type": "markdown",
   "metadata": {},
   "source": [
    "tf_idf_2"
   ]
  },
  {
   "cell_type": "code",
   "execution_count": 433,
   "metadata": {},
   "outputs": [
    {
     "data": {
      "text/plain": [
       "MultinomialNB()"
      ]
     },
     "execution_count": 433,
     "metadata": {},
     "output_type": "execute_result"
    }
   ],
   "source": [
    "multi_nb.fit(matriz_train_tfidf, y_train.values.astype(int))"
   ]
  },
  {
   "cell_type": "code",
   "execution_count": 437,
   "metadata": {},
   "outputs": [],
   "source": [
    "y_pred_tfidf = multi_nb.predict(matriz_test_tfidf)"
   ]
  },
  {
   "cell_type": "code",
   "execution_count": 438,
   "metadata": {},
   "outputs": [
    {
     "data": {
      "text/plain": [
       "0.75"
      ]
     },
     "execution_count": 438,
     "metadata": {},
     "output_type": "execute_result"
    }
   ],
   "source": [
    "accuracy_score(y_pred_tfidf, y_test.values.astype(int))"
   ]
  },
  {
   "cell_type": "markdown",
   "metadata": {},
   "source": [
    "#### PCA con Vectorización (Prueba nro. 2)"
   ]
  },
  {
   "cell_type": "code",
   "execution_count": 439,
   "metadata": {},
   "outputs": [],
   "source": [
    "from sklearn.decomposition import PCA\n",
    "import plotly.graph_objects as go"
   ]
  },
  {
   "cell_type": "code",
   "execution_count": 440,
   "metadata": {},
   "outputs": [],
   "source": [
    "pca = PCA(n_components=2).fit(dummies_relevancia_alpha)\n",
    "pca_tfidf = pca.transform(dummies_relevancia_alpha)"
   ]
  },
  {
   "cell_type": "code",
   "execution_count": 441,
   "metadata": {},
   "outputs": [
    {
     "data": {
      "application/vnd.plotly.v1+json": {
       "config": {
        "plotlyServerURL": "https://plotly.com"
       },
       "data": [
        {
         "marker": {
          "color": [
           1,
           0,
           0,
           1,
           0,
           0,
           1,
           0,
           0,
           1,
           0,
           1,
           1,
           1,
           1,
           0,
           1,
           0,
           0,
           1,
           1
          ],
          "size": 10
         },
         "mode": "markers+text",
         "text": [
          "t0",
          "t1",
          "t2",
          "t3",
          "t4",
          "t5",
          "t6",
          "t7",
          "t8",
          "t9",
          "t10",
          "t11",
          "t12",
          "t13",
          "t14",
          "t15",
          "t16",
          "t17",
          "t18",
          "t19",
          "t20"
         ],
         "textfont": {
          "color": "Blue",
          "size": 10
         },
         "textposition": "middle left",
         "type": "scatter",
         "x": [
          0.005570082110757825,
          0.01896240126629925,
          0.016877209647882134,
          0.6029162227261812,
          0.1859770308494099,
          0.09458324577804117,
          0.04356166118356404,
          0.18190065811317355,
          0.11501657667201957,
          0.11182289833514676,
          0.03211367707655109,
          0.011524583895877913,
          0.13081798115320242,
          0.04041020173373403,
          0.026271124464807106,
          0.0401227325259857,
          -0.017067212618116313,
          -0.3096125066883217,
          -0.21369924231376455,
          -0.12146270180649515,
          -0.5047700871355485,
          -0.03702331970636362,
          0.05533348288269408,
          0.03201235107657229,
          -0.04855257666487054,
          0.11217661685433897,
          -0.013425162080500385,
          -0.3053001342382667,
          -0.28705779509399093
         ],
         "y": [
          -0.06999169082162815,
          -0.12715465970614248,
          -0.5464859009356252,
          0.581889881531682,
          0.028457221684803958,
          -0.028092273890342637,
          -0.09481295681162523,
          0.06711044989006737,
          -0.01713041387217938,
          -0.0060293735540223525,
          -0.08014200925068407,
          -0.10630150883949895,
          -0.02839349182679037,
          -0.09795707617636451,
          -0.12355998549352058,
          -0.10877061781656021,
          -0.06142532720806319,
          0.15790525969738503,
          0.07578181562866794,
          0.03669086514828291,
          0.33374871952223195,
          -0.05157891579262688,
          0.06401046603683419,
          -0.09391270698911464,
          -0.023103270245474518,
          0.009344340943996015,
          -0.012501688936392613,
          0.1682076897668158,
          0.15419715831588904
         ]
        }
       ],
       "layout": {
        "autosize": true,
        "template": {
         "data": {
          "bar": [
           {
            "error_x": {
             "color": "#2a3f5f"
            },
            "error_y": {
             "color": "#2a3f5f"
            },
            "marker": {
             "line": {
              "color": "#E5ECF6",
              "width": 0.5
             }
            },
            "type": "bar"
           }
          ],
          "barpolar": [
           {
            "marker": {
             "line": {
              "color": "#E5ECF6",
              "width": 0.5
             }
            },
            "type": "barpolar"
           }
          ],
          "carpet": [
           {
            "aaxis": {
             "endlinecolor": "#2a3f5f",
             "gridcolor": "white",
             "linecolor": "white",
             "minorgridcolor": "white",
             "startlinecolor": "#2a3f5f"
            },
            "baxis": {
             "endlinecolor": "#2a3f5f",
             "gridcolor": "white",
             "linecolor": "white",
             "minorgridcolor": "white",
             "startlinecolor": "#2a3f5f"
            },
            "type": "carpet"
           }
          ],
          "choropleth": [
           {
            "colorbar": {
             "outlinewidth": 0,
             "ticks": ""
            },
            "type": "choropleth"
           }
          ],
          "contour": [
           {
            "colorbar": {
             "outlinewidth": 0,
             "ticks": ""
            },
            "colorscale": [
             [
              0,
              "#0d0887"
             ],
             [
              0.1111111111111111,
              "#46039f"
             ],
             [
              0.2222222222222222,
              "#7201a8"
             ],
             [
              0.3333333333333333,
              "#9c179e"
             ],
             [
              0.4444444444444444,
              "#bd3786"
             ],
             [
              0.5555555555555556,
              "#d8576b"
             ],
             [
              0.6666666666666666,
              "#ed7953"
             ],
             [
              0.7777777777777778,
              "#fb9f3a"
             ],
             [
              0.8888888888888888,
              "#fdca26"
             ],
             [
              1,
              "#f0f921"
             ]
            ],
            "type": "contour"
           }
          ],
          "contourcarpet": [
           {
            "colorbar": {
             "outlinewidth": 0,
             "ticks": ""
            },
            "type": "contourcarpet"
           }
          ],
          "heatmap": [
           {
            "colorbar": {
             "outlinewidth": 0,
             "ticks": ""
            },
            "colorscale": [
             [
              0,
              "#0d0887"
             ],
             [
              0.1111111111111111,
              "#46039f"
             ],
             [
              0.2222222222222222,
              "#7201a8"
             ],
             [
              0.3333333333333333,
              "#9c179e"
             ],
             [
              0.4444444444444444,
              "#bd3786"
             ],
             [
              0.5555555555555556,
              "#d8576b"
             ],
             [
              0.6666666666666666,
              "#ed7953"
             ],
             [
              0.7777777777777778,
              "#fb9f3a"
             ],
             [
              0.8888888888888888,
              "#fdca26"
             ],
             [
              1,
              "#f0f921"
             ]
            ],
            "type": "heatmap"
           }
          ],
          "heatmapgl": [
           {
            "colorbar": {
             "outlinewidth": 0,
             "ticks": ""
            },
            "colorscale": [
             [
              0,
              "#0d0887"
             ],
             [
              0.1111111111111111,
              "#46039f"
             ],
             [
              0.2222222222222222,
              "#7201a8"
             ],
             [
              0.3333333333333333,
              "#9c179e"
             ],
             [
              0.4444444444444444,
              "#bd3786"
             ],
             [
              0.5555555555555556,
              "#d8576b"
             ],
             [
              0.6666666666666666,
              "#ed7953"
             ],
             [
              0.7777777777777778,
              "#fb9f3a"
             ],
             [
              0.8888888888888888,
              "#fdca26"
             ],
             [
              1,
              "#f0f921"
             ]
            ],
            "type": "heatmapgl"
           }
          ],
          "histogram": [
           {
            "marker": {
             "colorbar": {
              "outlinewidth": 0,
              "ticks": ""
             }
            },
            "type": "histogram"
           }
          ],
          "histogram2d": [
           {
            "colorbar": {
             "outlinewidth": 0,
             "ticks": ""
            },
            "colorscale": [
             [
              0,
              "#0d0887"
             ],
             [
              0.1111111111111111,
              "#46039f"
             ],
             [
              0.2222222222222222,
              "#7201a8"
             ],
             [
              0.3333333333333333,
              "#9c179e"
             ],
             [
              0.4444444444444444,
              "#bd3786"
             ],
             [
              0.5555555555555556,
              "#d8576b"
             ],
             [
              0.6666666666666666,
              "#ed7953"
             ],
             [
              0.7777777777777778,
              "#fb9f3a"
             ],
             [
              0.8888888888888888,
              "#fdca26"
             ],
             [
              1,
              "#f0f921"
             ]
            ],
            "type": "histogram2d"
           }
          ],
          "histogram2dcontour": [
           {
            "colorbar": {
             "outlinewidth": 0,
             "ticks": ""
            },
            "colorscale": [
             [
              0,
              "#0d0887"
             ],
             [
              0.1111111111111111,
              "#46039f"
             ],
             [
              0.2222222222222222,
              "#7201a8"
             ],
             [
              0.3333333333333333,
              "#9c179e"
             ],
             [
              0.4444444444444444,
              "#bd3786"
             ],
             [
              0.5555555555555556,
              "#d8576b"
             ],
             [
              0.6666666666666666,
              "#ed7953"
             ],
             [
              0.7777777777777778,
              "#fb9f3a"
             ],
             [
              0.8888888888888888,
              "#fdca26"
             ],
             [
              1,
              "#f0f921"
             ]
            ],
            "type": "histogram2dcontour"
           }
          ],
          "mesh3d": [
           {
            "colorbar": {
             "outlinewidth": 0,
             "ticks": ""
            },
            "type": "mesh3d"
           }
          ],
          "parcoords": [
           {
            "line": {
             "colorbar": {
              "outlinewidth": 0,
              "ticks": ""
             }
            },
            "type": "parcoords"
           }
          ],
          "pie": [
           {
            "automargin": true,
            "type": "pie"
           }
          ],
          "scatter": [
           {
            "marker": {
             "colorbar": {
              "outlinewidth": 0,
              "ticks": ""
             }
            },
            "type": "scatter"
           }
          ],
          "scatter3d": [
           {
            "line": {
             "colorbar": {
              "outlinewidth": 0,
              "ticks": ""
             }
            },
            "marker": {
             "colorbar": {
              "outlinewidth": 0,
              "ticks": ""
             }
            },
            "type": "scatter3d"
           }
          ],
          "scattercarpet": [
           {
            "marker": {
             "colorbar": {
              "outlinewidth": 0,
              "ticks": ""
             }
            },
            "type": "scattercarpet"
           }
          ],
          "scattergeo": [
           {
            "marker": {
             "colorbar": {
              "outlinewidth": 0,
              "ticks": ""
             }
            },
            "type": "scattergeo"
           }
          ],
          "scattergl": [
           {
            "marker": {
             "colorbar": {
              "outlinewidth": 0,
              "ticks": ""
             }
            },
            "type": "scattergl"
           }
          ],
          "scattermapbox": [
           {
            "marker": {
             "colorbar": {
              "outlinewidth": 0,
              "ticks": ""
             }
            },
            "type": "scattermapbox"
           }
          ],
          "scatterpolar": [
           {
            "marker": {
             "colorbar": {
              "outlinewidth": 0,
              "ticks": ""
             }
            },
            "type": "scatterpolar"
           }
          ],
          "scatterpolargl": [
           {
            "marker": {
             "colorbar": {
              "outlinewidth": 0,
              "ticks": ""
             }
            },
            "type": "scatterpolargl"
           }
          ],
          "scatterternary": [
           {
            "marker": {
             "colorbar": {
              "outlinewidth": 0,
              "ticks": ""
             }
            },
            "type": "scatterternary"
           }
          ],
          "surface": [
           {
            "colorbar": {
             "outlinewidth": 0,
             "ticks": ""
            },
            "colorscale": [
             [
              0,
              "#0d0887"
             ],
             [
              0.1111111111111111,
              "#46039f"
             ],
             [
              0.2222222222222222,
              "#7201a8"
             ],
             [
              0.3333333333333333,
              "#9c179e"
             ],
             [
              0.4444444444444444,
              "#bd3786"
             ],
             [
              0.5555555555555556,
              "#d8576b"
             ],
             [
              0.6666666666666666,
              "#ed7953"
             ],
             [
              0.7777777777777778,
              "#fb9f3a"
             ],
             [
              0.8888888888888888,
              "#fdca26"
             ],
             [
              1,
              "#f0f921"
             ]
            ],
            "type": "surface"
           }
          ],
          "table": [
           {
            "cells": {
             "fill": {
              "color": "#EBF0F8"
             },
             "line": {
              "color": "white"
             }
            },
            "header": {
             "fill": {
              "color": "#C8D4E3"
             },
             "line": {
              "color": "white"
             }
            },
            "type": "table"
           }
          ]
         },
         "layout": {
          "annotationdefaults": {
           "arrowcolor": "#2a3f5f",
           "arrowhead": 0,
           "arrowwidth": 1
          },
          "coloraxis": {
           "colorbar": {
            "outlinewidth": 0,
            "ticks": ""
           }
          },
          "colorscale": {
           "diverging": [
            [
             0,
             "#8e0152"
            ],
            [
             0.1,
             "#c51b7d"
            ],
            [
             0.2,
             "#de77ae"
            ],
            [
             0.3,
             "#f1b6da"
            ],
            [
             0.4,
             "#fde0ef"
            ],
            [
             0.5,
             "#f7f7f7"
            ],
            [
             0.6,
             "#e6f5d0"
            ],
            [
             0.7,
             "#b8e186"
            ],
            [
             0.8,
             "#7fbc41"
            ],
            [
             0.9,
             "#4d9221"
            ],
            [
             1,
             "#276419"
            ]
           ],
           "sequential": [
            [
             0,
             "#0d0887"
            ],
            [
             0.1111111111111111,
             "#46039f"
            ],
            [
             0.2222222222222222,
             "#7201a8"
            ],
            [
             0.3333333333333333,
             "#9c179e"
            ],
            [
             0.4444444444444444,
             "#bd3786"
            ],
            [
             0.5555555555555556,
             "#d8576b"
            ],
            [
             0.6666666666666666,
             "#ed7953"
            ],
            [
             0.7777777777777778,
             "#fb9f3a"
            ],
            [
             0.8888888888888888,
             "#fdca26"
            ],
            [
             1,
             "#f0f921"
            ]
           ],
           "sequentialminus": [
            [
             0,
             "#0d0887"
            ],
            [
             0.1111111111111111,
             "#46039f"
            ],
            [
             0.2222222222222222,
             "#7201a8"
            ],
            [
             0.3333333333333333,
             "#9c179e"
            ],
            [
             0.4444444444444444,
             "#bd3786"
            ],
            [
             0.5555555555555556,
             "#d8576b"
            ],
            [
             0.6666666666666666,
             "#ed7953"
            ],
            [
             0.7777777777777778,
             "#fb9f3a"
            ],
            [
             0.8888888888888888,
             "#fdca26"
            ],
            [
             1,
             "#f0f921"
            ]
           ]
          },
          "colorway": [
           "#636efa",
           "#EF553B",
           "#00cc96",
           "#ab63fa",
           "#FFA15A",
           "#19d3f3",
           "#FF6692",
           "#B6E880",
           "#FF97FF",
           "#FECB52"
          ],
          "font": {
           "color": "#2a3f5f"
          },
          "geo": {
           "bgcolor": "white",
           "lakecolor": "white",
           "landcolor": "#E5ECF6",
           "showlakes": true,
           "showland": true,
           "subunitcolor": "white"
          },
          "hoverlabel": {
           "align": "left"
          },
          "hovermode": "closest",
          "mapbox": {
           "style": "light"
          },
          "paper_bgcolor": "white",
          "plot_bgcolor": "#E5ECF6",
          "polar": {
           "angularaxis": {
            "gridcolor": "white",
            "linecolor": "white",
            "ticks": ""
           },
           "bgcolor": "#E5ECF6",
           "radialaxis": {
            "gridcolor": "white",
            "linecolor": "white",
            "ticks": ""
           }
          },
          "scene": {
           "xaxis": {
            "backgroundcolor": "#E5ECF6",
            "gridcolor": "white",
            "gridwidth": 2,
            "linecolor": "white",
            "showbackground": true,
            "ticks": "",
            "zerolinecolor": "white"
           },
           "yaxis": {
            "backgroundcolor": "#E5ECF6",
            "gridcolor": "white",
            "gridwidth": 2,
            "linecolor": "white",
            "showbackground": true,
            "ticks": "",
            "zerolinecolor": "white"
           },
           "zaxis": {
            "backgroundcolor": "#E5ECF6",
            "gridcolor": "white",
            "gridwidth": 2,
            "linecolor": "white",
            "showbackground": true,
            "ticks": "",
            "zerolinecolor": "white"
           }
          },
          "shapedefaults": {
           "line": {
            "color": "#2a3f5f"
           }
          },
          "ternary": {
           "aaxis": {
            "gridcolor": "white",
            "linecolor": "white",
            "ticks": ""
           },
           "baxis": {
            "gridcolor": "white",
            "linecolor": "white",
            "ticks": ""
           },
           "bgcolor": "#E5ECF6",
           "caxis": {
            "gridcolor": "white",
            "linecolor": "white",
            "ticks": ""
           }
          },
          "title": {
           "x": 0.05
          },
          "xaxis": {
           "automargin": true,
           "gridcolor": "white",
           "linecolor": "white",
           "ticks": "",
           "title": {
            "standoff": 15
           },
           "zerolinecolor": "white",
           "zerolinewidth": 2
          },
          "yaxis": {
           "automargin": true,
           "gridcolor": "white",
           "linecolor": "white",
           "ticks": "",
           "title": {
            "standoff": 15
           },
           "zerolinecolor": "white",
           "zerolinewidth": 2
          }
         }
        },
        "title": {
         "text": "Tópicos"
        },
        "xaxis": {
         "autorange": true,
         "range": [
          -0.5875634407740116,
          0.6857095763646442
         ],
         "type": "linear",
         "zeroline": true
        },
        "yaxis": {
         "autorange": true,
         "range": [
          -0.6431688584355355,
          0.6785728390315923
         ],
         "type": "linear"
        }
       }
      },
      "image/png": "[encoded data removed]",
      "text/html": [
       "<div>                            <div id=\"863960fd-9487-4d25-8323-5058e8fd7c0d\" class=\"plotly-graph-div\" style=\"height:525px; width:100%;\"></div>            <script type=\"text/javascript\">                require([\"plotly\"], function(Plotly) {                    window.PLOTLYENV=window.PLOTLYENV || {};                                    if (document.getElementById(\"863960fd-9487-4d25-8323-5058e8fd7c0d\")) {                    Plotly.newPlot(                        \"863960fd-9487-4d25-8323-5058e8fd7c0d\",                        [{\"marker\": {\"color\": [1, 0, 0, 1, 0, 0, 1, 0, 0, 1, 0, 1, 1, 1, 1, 0, 1, 0, 0, 1, 1], \"size\": 10}, \"mode\": \"markers+text\", \"text\": [\"t0\", \"t1\", \"t2\", \"t3\", \"t4\", \"t5\", \"t6\", \"t7\", \"t8\", \"t9\", \"t10\", \"t11\", \"t12\", \"t13\", \"t14\", \"t15\", \"t16\", \"t17\", \"t18\", \"t19\", \"t20\"], \"textfont\": {\"color\": \"Blue\", \"size\": 10}, \"textposition\": \"middle left\", \"type\": \"scatter\", \"x\": [0.005570082110757825, 0.01896240126629925, 0.016877209647882134, 0.6029162227261812, 0.1859770308494099, 0.09458324577804117, 0.04356166118356404, 0.18190065811317355, 0.11501657667201957, 0.11182289833514676, 0.03211367707655109, 0.011524583895877913, 0.13081798115320242, 0.04041020173373403, 0.026271124464807106, 0.0401227325259857, -0.017067212618116313, -0.3096125066883217, -0.21369924231376455, -0.12146270180649515, -0.5047700871355485, -0.03702331970636362, 0.05533348288269408, 0.03201235107657229, -0.04855257666487054, 0.11217661685433897, -0.013425162080500385, -0.3053001342382667, -0.28705779509399093], \"y\": [-0.06999169082162815, -0.12715465970614248, -0.5464859009356252, 0.581889881531682, 0.028457221684803958, -0.028092273890342637, -0.09481295681162523, 0.06711044989006737, -0.01713041387217938, -0.0060293735540223525, -0.08014200925068407, -0.10630150883949895, -0.02839349182679037, -0.09795707617636451, -0.12355998549352058, -0.10877061781656021, -0.06142532720806319, 0.15790525969738503, 0.07578181562866794, 0.03669086514828291, 0.33374871952223195, -0.05157891579262688, 0.06401046603683419, -0.09391270698911464, -0.023103270245474518, 0.009344340943996015, -0.012501688936392613, 0.1682076897668158, 0.15419715831588904]}],                        {\"template\": {\"data\": {\"bar\": [{\"error_x\": {\"color\": \"#2a3f5f\"}, \"error_y\": {\"color\": \"#2a3f5f\"}, \"marker\": {\"line\": {\"color\": \"#E5ECF6\", \"width\": 0.5}}, \"type\": \"bar\"}], \"barpolar\": [{\"marker\": {\"line\": {\"color\": \"#E5ECF6\", \"width\": 0.5}}, \"type\": \"barpolar\"}], \"carpet\": [{\"aaxis\": {\"endlinecolor\": \"#2a3f5f\", \"gridcolor\": \"white\", \"linecolor\": \"white\", \"minorgridcolor\": \"white\", \"startlinecolor\": \"#2a3f5f\"}, \"baxis\": {\"endlinecolor\": \"#2a3f5f\", \"gridcolor\": \"white\", \"linecolor\": \"white\", \"minorgridcolor\": \"white\", \"startlinecolor\": \"#2a3f5f\"}, \"type\": \"carpet\"}], \"choropleth\": [{\"colorbar\": {\"outlinewidth\": 0, \"ticks\": \"\"}, \"type\": \"choropleth\"}], \"contour\": [{\"colorbar\": {\"outlinewidth\": 0, \"ticks\": \"\"}, \"colorscale\": [[0.0, \"#0d0887\"], [0.1111111111111111, \"#46039f\"], [0.2222222222222222, \"#7201a8\"], [0.3333333333333333, \"#9c179e\"], [0.4444444444444444, \"#bd3786\"], [0.5555555555555556, \"#d8576b\"], [0.6666666666666666, \"#ed7953\"], [0.7777777777777778, \"#fb9f3a\"], [0.8888888888888888, \"#fdca26\"], [1.0, \"#f0f921\"]], \"type\": \"contour\"}], \"contourcarpet\": [{\"colorbar\": {\"outlinewidth\": 0, \"ticks\": \"\"}, \"type\": \"contourcarpet\"}], \"heatmap\": [{\"colorbar\": {\"outlinewidth\": 0, \"ticks\": \"\"}, \"colorscale\": [[0.0, \"#0d0887\"], [0.1111111111111111, \"#46039f\"], [0.2222222222222222, \"#7201a8\"], [0.3333333333333333, \"#9c179e\"], [0.4444444444444444, \"#bd3786\"], [0.5555555555555556, \"#d8576b\"], [0.6666666666666666, \"#ed7953\"], [0.7777777777777778, \"#fb9f3a\"], [0.8888888888888888, \"#fdca26\"], [1.0, \"#f0f921\"]], \"type\": \"heatmap\"}], \"heatmapgl\": [{\"colorbar\": {\"outlinewidth\": 0, \"ticks\": \"\"}, \"colorscale\": [[0.0, \"#0d0887\"], [0.1111111111111111, \"#46039f\"], [0.2222222222222222, \"#7201a8\"], [0.3333333333333333, \"#9c179e\"], [0.4444444444444444, \"#bd3786\"], [0.5555555555555556, \"#d8576b\"], [0.6666666666666666, \"#ed7953\"], [0.7777777777777778, \"#fb9f3a\"], [0.8888888888888888, \"#fdca26\"], [1.0, \"#f0f921\"]], \"type\": \"heatmapgl\"}], \"histogram\": [{\"marker\": {\"colorbar\": {\"outlinewidth\": 0, \"ticks\": \"\"}}, \"type\": \"histogram\"}], \"histogram2d\": [{\"colorbar\": {\"outlinewidth\": 0, \"ticks\": \"\"}, \"colorscale\": [[0.0, \"#0d0887\"], [0.1111111111111111, \"#46039f\"], [0.2222222222222222, \"#7201a8\"], [0.3333333333333333, \"#9c179e\"], [0.4444444444444444, \"#bd3786\"], [0.5555555555555556, \"#d8576b\"], [0.6666666666666666, \"#ed7953\"], [0.7777777777777778, \"#fb9f3a\"], [0.8888888888888888, \"#fdca26\"], [1.0, \"#f0f921\"]], \"type\": \"histogram2d\"}], \"histogram2dcontour\": [{\"colorbar\": {\"outlinewidth\": 0, \"ticks\": \"\"}, \"colorscale\": [[0.0, \"#0d0887\"], [0.1111111111111111, \"#46039f\"], [0.2222222222222222, \"#7201a8\"], [0.3333333333333333, \"#9c179e\"], [0.4444444444444444, \"#bd3786\"], [0.5555555555555556, \"#d8576b\"], [0.6666666666666666, \"#ed7953\"], [0.7777777777777778, \"#fb9f3a\"], [0.8888888888888888, \"#fdca26\"], [1.0, \"#f0f921\"]], \"type\": \"histogram2dcontour\"}], \"mesh3d\": [{\"colorbar\": {\"outlinewidth\": 0, \"ticks\": \"\"}, \"type\": \"mesh3d\"}], \"parcoords\": [{\"line\": {\"colorbar\": {\"outlinewidth\": 0, \"ticks\": \"\"}}, \"type\": \"parcoords\"}], \"pie\": [{\"automargin\": true, \"type\": \"pie\"}], \"scatter\": [{\"marker\": {\"colorbar\": {\"outlinewidth\": 0, \"ticks\": \"\"}}, \"type\": \"scatter\"}], \"scatter3d\": [{\"line\": {\"colorbar\": {\"outlinewidth\": 0, \"ticks\": \"\"}}, \"marker\": {\"colorbar\": {\"outlinewidth\": 0, \"ticks\": \"\"}}, \"type\": \"scatter3d\"}], \"scattercarpet\": [{\"marker\": {\"colorbar\": {\"outlinewidth\": 0, \"ticks\": \"\"}}, \"type\": \"scattercarpet\"}], \"scattergeo\": [{\"marker\": {\"colorbar\": {\"outlinewidth\": 0, \"ticks\": \"\"}}, \"type\": \"scattergeo\"}], \"scattergl\": [{\"marker\": {\"colorbar\": {\"outlinewidth\": 0, \"ticks\": \"\"}}, \"type\": \"scattergl\"}], \"scattermapbox\": [{\"marker\": {\"colorbar\": {\"outlinewidth\": 0, \"ticks\": \"\"}}, \"type\": \"scattermapbox\"}], \"scatterpolar\": [{\"marker\": {\"colorbar\": {\"outlinewidth\": 0, \"ticks\": \"\"}}, \"type\": \"scatterpolar\"}], \"scatterpolargl\": [{\"marker\": {\"colorbar\": {\"outlinewidth\": 0, \"ticks\": \"\"}}, \"type\": \"scatterpolargl\"}], \"scatterternary\": [{\"marker\": {\"colorbar\": {\"outlinewidth\": 0, \"ticks\": \"\"}}, \"type\": \"scatterternary\"}], \"surface\": [{\"colorbar\": {\"outlinewidth\": 0, \"ticks\": \"\"}, \"colorscale\": [[0.0, \"#0d0887\"], [0.1111111111111111, \"#46039f\"], [0.2222222222222222, \"#7201a8\"], [0.3333333333333333, \"#9c179e\"], [0.4444444444444444, \"#bd3786\"], [0.5555555555555556, \"#d8576b\"], [0.6666666666666666, \"#ed7953\"], [0.7777777777777778, \"#fb9f3a\"], [0.8888888888888888, \"#fdca26\"], [1.0, \"#f0f921\"]], \"type\": \"surface\"}], \"table\": [{\"cells\": {\"fill\": {\"color\": \"#EBF0F8\"}, \"line\": {\"color\": \"white\"}}, \"header\": {\"fill\": {\"color\": \"#C8D4E3\"}, \"line\": {\"color\": \"white\"}}, \"type\": \"table\"}]}, \"layout\": {\"annotationdefaults\": {\"arrowcolor\": \"#2a3f5f\", \"arrowhead\": 0, \"arrowwidth\": 1}, \"coloraxis\": {\"colorbar\": {\"outlinewidth\": 0, \"ticks\": \"\"}}, \"colorscale\": {\"diverging\": [[0, \"#8e0152\"], [0.1, \"#c51b7d\"], [0.2, \"#de77ae\"], [0.3, \"#f1b6da\"], [0.4, \"#fde0ef\"], [0.5, \"#f7f7f7\"], [0.6, \"#e6f5d0\"], [0.7, \"#b8e186\"], [0.8, \"#7fbc41\"], [0.9, \"#4d9221\"], [1, \"#276419\"]], \"sequential\": [[0.0, \"#0d0887\"], [0.1111111111111111, \"#46039f\"], [0.2222222222222222, \"#7201a8\"], [0.3333333333333333, \"#9c179e\"], [0.4444444444444444, \"#bd3786\"], [0.5555555555555556, \"#d8576b\"], [0.6666666666666666, \"#ed7953\"], [0.7777777777777778, \"#fb9f3a\"], [0.8888888888888888, \"#fdca26\"], [1.0, \"#f0f921\"]], \"sequentialminus\": [[0.0, \"#0d0887\"], [0.1111111111111111, \"#46039f\"], [0.2222222222222222, \"#7201a8\"], [0.3333333333333333, \"#9c179e\"], [0.4444444444444444, \"#bd3786\"], [0.5555555555555556, \"#d8576b\"], [0.6666666666666666, \"#ed7953\"], [0.7777777777777778, \"#fb9f3a\"], [0.8888888888888888, \"#fdca26\"], [1.0, \"#f0f921\"]]}, \"colorway\": [\"#636efa\", \"#EF553B\", \"#00cc96\", \"#ab63fa\", \"#FFA15A\", \"#19d3f3\", \"#FF6692\", \"#B6E880\", \"#FF97FF\", \"#FECB52\"], \"font\": {\"color\": \"#2a3f5f\"}, \"geo\": {\"bgcolor\": \"white\", \"lakecolor\": \"white\", \"landcolor\": \"#E5ECF6\", \"showlakes\": true, \"showland\": true, \"subunitcolor\": \"white\"}, \"hoverlabel\": {\"align\": \"left\"}, \"hovermode\": \"closest\", \"mapbox\": {\"style\": \"light\"}, \"paper_bgcolor\": \"white\", \"plot_bgcolor\": \"#E5ECF6\", \"polar\": {\"angularaxis\": {\"gridcolor\": \"white\", \"linecolor\": \"white\", \"ticks\": \"\"}, \"bgcolor\": \"#E5ECF6\", \"radialaxis\": {\"gridcolor\": \"white\", \"linecolor\": \"white\", \"ticks\": \"\"}}, \"scene\": {\"xaxis\": {\"backgroundcolor\": \"#E5ECF6\", \"gridcolor\": \"white\", \"gridwidth\": 2, \"linecolor\": \"white\", \"showbackground\": true, \"ticks\": \"\", \"zerolinecolor\": \"white\"}, \"yaxis\": {\"backgroundcolor\": \"#E5ECF6\", \"gridcolor\": \"white\", \"gridwidth\": 2, \"linecolor\": \"white\", \"showbackground\": true, \"ticks\": \"\", \"zerolinecolor\": \"white\"}, \"zaxis\": {\"backgroundcolor\": \"#E5ECF6\", \"gridcolor\": \"white\", \"gridwidth\": 2, \"linecolor\": \"white\", \"showbackground\": true, \"ticks\": \"\", \"zerolinecolor\": \"white\"}}, \"shapedefaults\": {\"line\": {\"color\": \"#2a3f5f\"}}, \"ternary\": {\"aaxis\": {\"gridcolor\": \"white\", \"linecolor\": \"white\", \"ticks\": \"\"}, \"baxis\": {\"gridcolor\": \"white\", \"linecolor\": \"white\", \"ticks\": \"\"}, \"bgcolor\": \"#E5ECF6\", \"caxis\": {\"gridcolor\": \"white\", \"linecolor\": \"white\", \"ticks\": \"\"}}, \"title\": {\"x\": 0.05}, \"xaxis\": {\"automargin\": true, \"gridcolor\": \"white\", \"linecolor\": \"white\", \"ticks\": \"\", \"title\": {\"standoff\": 15}, \"zerolinecolor\": \"white\", \"zerolinewidth\": 2}, \"yaxis\": {\"automargin\": true, \"gridcolor\": \"white\", \"linecolor\": \"white\", \"ticks\": \"\", \"title\": {\"standoff\": 15}, \"zerolinecolor\": \"white\", \"zerolinewidth\": 2}}}, \"title\": {\"text\": \"T\\u00f3picos\"}, \"xaxis\": {\"zeroline\": true}},                        {\"responsive\": true}                    ).then(function(){\n",
       "                            \n",
       "var gd = document.getElementById('863960fd-9487-4d25-8323-5058e8fd7c0d');\n",
       "var x = new MutationObserver(function (mutations, observer) {{\n",
       "        var display = window.getComputedStyle(gd).display;\n",
       "        if (!display || display === 'none') {{\n",
       "            console.log([gd, 'removed!']);\n",
       "            Plotly.purge(gd);\n",
       "            observer.disconnect();\n",
       "        }}\n",
       "}});\n",
       "\n",
       "// Listen for the removal of the full notebook cells\n",
       "var notebookContainer = gd.closest('#notebook-container');\n",
       "if (notebookContainer) {{\n",
       "    x.observe(notebookContainer, {childList: true});\n",
       "}}\n",
       "\n",
       "// Listen for the clearing of the current output cell\n",
       "var outputEl = gd.closest('.output');\n",
       "if (outputEl) {{\n",
       "    x.observe(outputEl, {childList: true});\n",
       "}}\n",
       "\n",
       "                        })                };                });            </script>        </div>"
      ]
     },
     "metadata": {},
     "output_type": "display_data"
    }
   ],
   "source": [
    "fig = go.Figure()\n",
    "fig.add_trace(go.Scatter(\n",
    "    x = pca_tfidf[:,0], y = pca_tfidf[:,1],\n",
    "    mode ='markers+text',\n",
    "    text = ['t' + str(i) for i in range(len(train))],\n",
    "    marker = dict(\n",
    "        size = 10,\n",
    "        color = y_train.values.astype(int),\n",
    "    ),\n",
    "    textposition=\"middle left\",\n",
    "    textfont=dict(\n",
    "        size=10,\n",
    "        color=\"Blue\"\n",
    "    )\n",
    "))\n",
    "fig.update_layout(title='Tópicos', xaxis_zeroline=True)\n",
    "\n",
    "fig.show()"
   ]
  },
  {
   "cell_type": "code",
   "execution_count": null,
   "metadata": {},
   "outputs": [],
   "source": []
  },
  {
   "cell_type": "code",
   "execution_count": null,
   "metadata": {},
   "outputs": [],
   "source": []
  }
 ],
 "metadata": {
  "kernelspec": {
   "display_name": "Python 3",
   "language": "python",
   "name": "python3"
  },
  "language_info": {
   "codemirror_mode": {
    "name": "ipython",
    "version": 3
   },
   "file_extension": ".py",
   "mimetype": "text/x-python",
   "name": "python",
   "nbconvert_exporter": "python",
   "pygments_lexer": "ipython3",
   "version": "3.7.7"
  }
 },
 "nbformat": 4,
 "nbformat_minor": 4
}
