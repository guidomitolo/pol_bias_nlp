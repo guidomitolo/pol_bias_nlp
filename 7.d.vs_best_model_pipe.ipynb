{
 "cells": [
  {
   "cell_type": "markdown",
   "metadata": {},
   "source": [
    "## Model selection with Pipeline\n",
    "### Topic (**Inflation**) according to each news portal"
   ]
  },
  {
   "cell_type": "code",
   "execution_count": 1,
   "metadata": {},
   "outputs": [],
   "source": [
    "import warnings\n",
    "warnings.filterwarnings('ignore')"
   ]
  },
  {
   "cell_type": "markdown",
   "metadata": {},
   "source": [
    "### Load"
   ]
  },
  {
   "cell_type": "code",
   "execution_count": 2,
   "metadata": {},
   "outputs": [],
   "source": [
    "import pickle"
   ]
  },
  {
   "cell_type": "code",
   "execution_count": 3,
   "metadata": {},
   "outputs": [],
   "source": [
    "import pandas as pd\n",
    "import numpy as np"
   ]
  },
  {
   "cell_type": "code",
   "execution_count": 4,
   "metadata": {},
   "outputs": [],
   "source": [
    "izq = pickle.load(open('data/df_clean_izq.pkl','rb'))\n",
    "der = pickle.load(open('data/df_clean_der.pkl','rb'))"
   ]
  },
  {
   "cell_type": "markdown",
   "metadata": {},
   "source": [
    "### Preparte Dataframe"
   ]
  },
  {
   "cell_type": "code",
   "execution_count": 98,
   "metadata": {},
   "outputs": [],
   "source": [
    "izq_inf = izq[izq.topics == 'inflation']\n",
    "der_inf = der[der.topics == 'inflation']"
   ]
  },
  {
   "cell_type": "code",
   "execution_count": 99,
   "metadata": {},
   "outputs": [],
   "source": [
    "izq_inf['bias'] = 'left'\n",
    "der_inf['bias'] = 'right'"
   ]
  },
  {
   "cell_type": "code",
   "execution_count": 100,
   "metadata": {},
   "outputs": [],
   "source": [
    "df_inf = izq_inf.loc[:,['bias', 'body']].append(der_inf.loc[:,['bias', 'body']])"
   ]
  },
  {
   "cell_type": "markdown",
   "metadata": {},
   "source": [
    "### Split Train - Test"
   ]
  },
  {
   "cell_type": "code",
   "execution_count": 5,
   "metadata": {},
   "outputs": [],
   "source": [
    "from sklearn.model_selection import train_test_split"
   ]
  },
  {
   "cell_type": "code",
   "execution_count": 102,
   "metadata": {},
   "outputs": [],
   "source": [
    "X = df_inf.body"
   ]
  },
  {
   "cell_type": "code",
   "execution_count": 103,
   "metadata": {},
   "outputs": [],
   "source": [
    "y = df_inf.bias"
   ]
  },
  {
   "cell_type": "code",
   "execution_count": 104,
   "metadata": {},
   "outputs": [],
   "source": [
    "X_train, X_test, y_train, y_test = train_test_split(X, y, train_size=0.75, stratify=y)"
   ]
  },
  {
   "cell_type": "code",
   "execution_count": 105,
   "metadata": {},
   "outputs": [
    {
     "name": "stdout",
     "output_type": "stream",
     "text": [
      "Train shape: 0.7435897435897436\n",
      "Test shape: 0.2564102564102564\n"
     ]
    }
   ],
   "source": [
    "print(f\"Train shape: {X_train.shape[0] / X.shape[0]}\\nTest shape: {X_test.shape[0] / X.shape[0]}\")"
   ]
  },
  {
   "cell_type": "code",
   "execution_count": 106,
   "metadata": {},
   "outputs": [
    {
     "name": "stdout",
     "output_type": "stream",
     "text": [
      "Target balance\n",
      "Train:\n",
      "right    0.534483\n",
      "left     0.465517\n",
      "Name: bias, dtype: float64\n",
      "Test:\n",
      "right    0.55\n",
      "left     0.45\n",
      "Name: bias, dtype: float64\n"
     ]
    }
   ],
   "source": [
    "print(f\"Target balance\\nTrain:\\n{y_train.value_counts(normalize=True)}\\nTest:\\n{y_test.value_counts(normalize=True)}\")"
   ]
  },
  {
   "cell_type": "markdown",
   "metadata": {},
   "source": [
    "### Looking for the model"
   ]
  },
  {
   "cell_type": "markdown",
   "metadata": {},
   "source": [
    "#### Preparing the input"
   ]
  },
  {
   "cell_type": "code",
   "execution_count": 6,
   "metadata": {},
   "outputs": [],
   "source": [
    "import re\n",
    "import unidecode\n",
    "from nltk.corpus import stopwords\n",
    "from nltk.tokenize import word_tokenize"
   ]
  },
  {
   "cell_type": "code",
   "execution_count": 7,
   "metadata": {},
   "outputs": [],
   "source": [
    "stopwords_sp = stopwords.words('spanish')"
   ]
  },
  {
   "cell_type": "code",
   "execution_count": 8,
   "metadata": {},
   "outputs": [],
   "source": [
    "from sklearn.feature_extraction.text import CountVectorizer, TfidfTransformer"
   ]
  },
  {
   "cell_type": "code",
   "execution_count": 9,
   "metadata": {},
   "outputs": [],
   "source": [
    "def removal(text):\n",
    "    text = re.sub(r'(\\d|\\$|\\%|\\+)', '', text.lower())\n",
    "    return re.sub(r'\\d+', '', text)"
   ]
  },
  {
   "cell_type": "markdown",
   "metadata": {},
   "source": [
    "#### Folds config"
   ]
  },
  {
   "cell_type": "code",
   "execution_count": 10,
   "metadata": {},
   "outputs": [],
   "source": [
    "from sklearn.model_selection import StratifiedKFold\n"
   ]
  },
  {
   "cell_type": "code",
   "execution_count": 32,
   "metadata": {},
   "outputs": [],
   "source": [
    "folds = StratifiedKFold(n_splits=5, random_state=19, shuffle=True)"
   ]
  },
  {
   "cell_type": "markdown",
   "metadata": {},
   "source": [
    "#### Calling the models"
   ]
  },
  {
   "cell_type": "code",
   "execution_count": 11,
   "metadata": {},
   "outputs": [],
   "source": [
    "from sklearn.naive_bayes import MultinomialNB"
   ]
  },
  {
   "cell_type": "code",
   "execution_count": 12,
   "metadata": {},
   "outputs": [],
   "source": [
    "from sklearn.linear_model import LogisticRegression, SGDClassifier"
   ]
  },
  {
   "cell_type": "code",
   "execution_count": 13,
   "metadata": {},
   "outputs": [],
   "source": [
    "from sklearn.neighbors import KNeighborsClassifier"
   ]
  },
  {
   "cell_type": "code",
   "execution_count": 14,
   "metadata": {},
   "outputs": [],
   "source": [
    "from sklearn.tree import DecisionTreeClassifier, plot_tree"
   ]
  },
  {
   "cell_type": "code",
   "execution_count": 15,
   "metadata": {},
   "outputs": [],
   "source": [
    "from sklearn.ensemble import AdaBoostClassifier, GradientBoostingClassifier"
   ]
  },
  {
   "cell_type": "markdown",
   "metadata": {},
   "source": [
    "### Pipeline\n",
    "\n",
    "#### Vectorizers + Model switcher ad-hoc class + Models "
   ]
  },
  {
   "cell_type": "code",
   "execution_count": 16,
   "metadata": {},
   "outputs": [],
   "source": [
    "from sklearn.pipeline import Pipeline\n",
    "from sklearn.base import BaseEstimator"
   ]
  },
  {
   "cell_type": "code",
   "execution_count": 17,
   "metadata": {},
   "outputs": [],
   "source": [
    "class ClfSwitcher(BaseEstimator):\n",
    "\n",
    "    def __init__(self, estimator = None):\n",
    "        self.estimator = estimator\n",
    "\n",
    "    def fit(self, X, y=None, **kwargs):\n",
    "        self.estimator.fit(X, y)\n",
    "        return self\n",
    "\n",
    "    def predict(self, X, y=None):\n",
    "        return self.estimator.predict(X)\n",
    "\n",
    "    def predict_proba(self, X):\n",
    "        return self.estimator.predict_proba(X)\n",
    "\n",
    "    def score(self, X, y):\n",
    "        return self.estimator.score(X, y)"
   ]
  },
  {
   "cell_type": "code",
   "execution_count": 18,
   "metadata": {},
   "outputs": [],
   "source": [
    "pipeline = Pipeline([\n",
    "    ('cv', CountVectorizer(stop_words=stopwords_sp)),\n",
    "    ('tfidf', TfidfTransformer()),\n",
    "    ('clf', ClfSwitcher()),\n",
    "])\n",
    "\n",
    "parameters = [\n",
    "    {\n",
    "        # vectorizer params\n",
    "        'cv__max_df': (0.5, 0.75, 1.0),\n",
    "        'cv__lowercase':  [True],\n",
    "        'cv__strip_accents':['unicode'], \n",
    "        'cv__preprocessor':[removal],\n",
    "        'cv__ngram_range': [(1,1),(1,2),(2,2)],\n",
    "        'cv__min_df':[1,2,3],\n",
    "        # model params\n",
    "        'clf__estimator': [SGDClassifier()], # SVM if hinge loss / logreg if log loss\n",
    "        'clf__estimator__penalty': ('l2', 'elasticnet', 'l1'),\n",
    "        'clf__estimator__max_iter': [50, 80],\n",
    "        'clf__estimator__tol': [1e-4],\n",
    "        'clf__estimator__loss': ['hinge', 'log', 'modified_huber'],\n",
    "    },\n",
    "    {\n",
    "        # vectorizer params\n",
    "        'cv__max_df': (0.5, 0.75, 1.0),\n",
    "        'cv__lowercase':  [True],\n",
    "        'cv__strip_accents':['unicode'], \n",
    "        'cv__preprocessor':[removal],\n",
    "        'cv__ngram_range': [(1,1),(1,2),(2,2)],\n",
    "        'cv__min_df':[1,2,3],\n",
    "        # model params\n",
    "        'clf__estimator': [MultinomialNB()],\n",
    "        'clf__estimator__alpha': (1e-2, 1e-3, 1e-1),\n",
    "    },\n",
    "    {\n",
    "        # vectorizer params\n",
    "        'cv__max_df': (0.5, 0.75, 1.0),\n",
    "        'cv__lowercase':  [True],\n",
    "        'cv__strip_accents':['unicode'], \n",
    "        'cv__preprocessor':[removal],\n",
    "        'cv__ngram_range': [(1,1),(1,2),(2,2)],\n",
    "        'cv__min_df':[1,2,3],\n",
    "        # model params\n",
    "        'clf__estimator': [KNeighborsClassifier()],\n",
    "        'clf__estimator__n_neighbors': range(1,4),\n",
    "        'clf__estimator__weights' : ['uniform', 'distance'],\n",
    "        'clf__estimator__p' : [1, 2, 3]\n",
    "    },\n",
    "    {\n",
    "        # vectorizer params\n",
    "        'cv__max_df': (0.5, 0.75, 1.0),\n",
    "        'cv__lowercase':  [True],\n",
    "        'cv__strip_accents':['unicode'], \n",
    "        'cv__preprocessor':[removal],\n",
    "        'cv__ngram_range': [(1,1),(1,2),(2,2)],\n",
    "        'cv__min_df':[1,2,3],\n",
    "        # model params\n",
    "        'clf__estimator': [LogisticRegression()],\n",
    "        'clf__estimator__C': [1, 10, 100, 1000],\n",
    "        'clf__estimator__penalty': ['l1', 'l2',],\n",
    "        'clf__estimator__solver': ['saga']\n",
    "    },\n",
    "    {\n",
    "        # vectorizer params\n",
    "        'cv__max_df': (0.5, 0.75, 1.0),\n",
    "        'cv__lowercase':  [True],\n",
    "        'cv__strip_accents':['unicode'], \n",
    "        'cv__preprocessor':[removal],\n",
    "        'cv__ngram_range': [(1,1),(1,2),(2,2)],\n",
    "        'cv__min_df':[1,2,3],\n",
    "        # model params\n",
    "        'clf__estimator': [DecisionTreeClassifier()],\n",
    "        \"clf__estimator__criterion\" : [\"gini\", \"entropy\"],\n",
    "        \"clf__estimator__min_samples_leaf\": [5,10,15,20,2], \n",
    "        \"clf__estimator__max_depth\" : [1,2,3,4,5,6,8,9,10,11,12,13,14,15,16,17],\n",
    "        \"clf__estimator__min_samples_split\": [2, 3, 4,None]\n",
    "    },    \n",
    "]"
   ]
  },
  {
   "cell_type": "markdown",
   "metadata": {},
   "source": [
    "#### Tuning model"
   ]
  },
  {
   "cell_type": "code",
   "execution_count": 19,
   "metadata": {},
   "outputs": [],
   "source": [
    "from sklearn.model_selection import GridSearchCV"
   ]
  },
  {
   "cell_type": "code",
   "execution_count": 29,
   "metadata": {},
   "outputs": [
    {
     "name": "stdout",
     "output_type": "stream",
     "text": [
      "Fitting 5 folds for each of 18549 candidates, totalling 92745 fits\n"
     ]
    },
    {
     "name": "stderr",
     "output_type": "stream",
     "text": [
      "[Parallel(n_jobs=12)]: Using backend LokyBackend with 12 concurrent workers.\n",
      "[Parallel(n_jobs=12)]: Done   8 tasks      | elapsed:    2.7s\n",
      "[Parallel(n_jobs=12)]: Done 104 tasks      | elapsed:    5.3s\n",
      "[Parallel(n_jobs=12)]: Done 264 tasks      | elapsed:    9.1s\n",
      "[Parallel(n_jobs=12)]: Done 488 tasks      | elapsed:   14.7s\n",
      "[Parallel(n_jobs=12)]: Done 776 tasks      | elapsed:   22.1s\n",
      "[Parallel(n_jobs=12)]: Done 1128 tasks      | elapsed:   30.0s\n",
      "[Parallel(n_jobs=12)]: Done 1544 tasks      | elapsed:   39.5s\n",
      "[Parallel(n_jobs=12)]: Done 2024 tasks      | elapsed:   50.9s\n",
      "[Parallel(n_jobs=12)]: Done 2568 tasks      | elapsed:  1.1min\n",
      "[Parallel(n_jobs=12)]: Done 3176 tasks      | elapsed:  1.3min\n",
      "[Parallel(n_jobs=12)]: Done 3848 tasks      | elapsed:  1.5min\n",
      "[Parallel(n_jobs=12)]: Done 4584 tasks      | elapsed:  1.8min\n",
      "[Parallel(n_jobs=12)]: Done 5384 tasks      | elapsed:  2.1min\n",
      "[Parallel(n_jobs=12)]: Done 6248 tasks      | elapsed:  2.5min\n",
      "[Parallel(n_jobs=12)]: Done 7176 tasks      | elapsed:  2.9min\n",
      "[Parallel(n_jobs=12)]: Done 8168 tasks      | elapsed:  3.2min\n",
      "[Parallel(n_jobs=12)]: Done 9224 tasks      | elapsed:  3.6min\n",
      "[Parallel(n_jobs=12)]: Done 10344 tasks      | elapsed:  4.1min\n",
      "[Parallel(n_jobs=12)]: Done 11528 tasks      | elapsed:  4.7min\n",
      "[Parallel(n_jobs=12)]: Done 12776 tasks      | elapsed:  5.1min\n",
      "[Parallel(n_jobs=12)]: Done 14088 tasks      | elapsed:  5.6min\n",
      "[Parallel(n_jobs=12)]: Done 15464 tasks      | elapsed:  6.1min\n",
      "[Parallel(n_jobs=12)]: Done 16904 tasks      | elapsed:  6.7min\n",
      "[Parallel(n_jobs=12)]: Done 18408 tasks      | elapsed:  7.2min\n",
      "[Parallel(n_jobs=12)]: Done 19976 tasks      | elapsed:  7.8min\n",
      "[Parallel(n_jobs=12)]: Done 21608 tasks      | elapsed:  8.4min\n",
      "[Parallel(n_jobs=12)]: Done 23304 tasks      | elapsed:  9.0min\n",
      "[Parallel(n_jobs=12)]: Done 25064 tasks      | elapsed:  9.7min\n",
      "[Parallel(n_jobs=12)]: Done 26888 tasks      | elapsed: 10.4min\n",
      "[Parallel(n_jobs=12)]: Done 28776 tasks      | elapsed: 11.2min\n",
      "[Parallel(n_jobs=12)]: Done 30728 tasks      | elapsed: 11.9min\n",
      "[Parallel(n_jobs=12)]: Done 32744 tasks      | elapsed: 12.6min\n",
      "[Parallel(n_jobs=12)]: Done 34824 tasks      | elapsed: 13.3min\n",
      "[Parallel(n_jobs=12)]: Done 36968 tasks      | elapsed: 14.1min\n",
      "[Parallel(n_jobs=12)]: Done 39176 tasks      | elapsed: 14.8min\n",
      "[Parallel(n_jobs=12)]: Done 41448 tasks      | elapsed: 15.6min\n",
      "[Parallel(n_jobs=12)]: Done 43784 tasks      | elapsed: 16.5min\n",
      "[Parallel(n_jobs=12)]: Done 46184 tasks      | elapsed: 17.3min\n",
      "[Parallel(n_jobs=12)]: Done 48648 tasks      | elapsed: 18.2min\n",
      "[Parallel(n_jobs=12)]: Done 51176 tasks      | elapsed: 19.1min\n",
      "[Parallel(n_jobs=12)]: Done 53768 tasks      | elapsed: 20.0min\n",
      "[Parallel(n_jobs=12)]: Done 56424 tasks      | elapsed: 21.1min\n",
      "[Parallel(n_jobs=12)]: Done 59144 tasks      | elapsed: 22.1min\n",
      "[Parallel(n_jobs=12)]: Done 61928 tasks      | elapsed: 23.1min\n",
      "[Parallel(n_jobs=12)]: Done 64776 tasks      | elapsed: 24.2min\n",
      "[Parallel(n_jobs=12)]: Done 67688 tasks      | elapsed: 25.3min\n",
      "[Parallel(n_jobs=12)]: Done 70664 tasks      | elapsed: 26.4min\n",
      "[Parallel(n_jobs=12)]: Done 73704 tasks      | elapsed: 27.5min\n",
      "[Parallel(n_jobs=12)]: Done 76808 tasks      | elapsed: 28.6min\n",
      "[Parallel(n_jobs=12)]: Done 79976 tasks      | elapsed: 29.8min\n",
      "[Parallel(n_jobs=12)]: Done 83208 tasks      | elapsed: 31.1min\n",
      "[Parallel(n_jobs=12)]: Done 86504 tasks      | elapsed: 32.2min\n",
      "[Parallel(n_jobs=12)]: Done 89864 tasks      | elapsed: 33.4min\n",
      "[Parallel(n_jobs=12)]: Done 92745 out of 92745 | elapsed: 34.4min finished\n"
     ]
    },
    {
     "data": {
      "text/plain": [
       "GridSearchCV(cv=StratifiedKFold(n_splits=5, random_state=19, shuffle=True),\n",
       "             estimator=Pipeline(steps=[('cv',\n",
       "                                        CountVectorizer(stop_words=['de', 'la',\n",
       "                                                                    'que', 'el',\n",
       "                                                                    'en', 'y',\n",
       "                                                                    'a', 'los',\n",
       "                                                                    'del', 'se',\n",
       "                                                                    'las',\n",
       "                                                                    'por', 'un',\n",
       "                                                                    'para',\n",
       "                                                                    'con', 'no',\n",
       "                                                                    'una', 'su',\n",
       "                                                                    'al', 'lo',\n",
       "                                                                    'como',\n",
       "                                                                    'más',\n",
       "                                                                    'pero',\n",
       "                                                                    'sus', 'le',\n",
       "                                                                    'ya', 'o',\n",
       "                                                                    'este',\n",
       "                                                                    'sí',\n",
       "                                                                    'porque', ...])),\n",
       "                                       ('tfidf', TfidfTransformer()),\n",
       "                                       ('clf', ClfSwi...\n",
       "                                                        10, 11, 12, 13, 14, 15,\n",
       "                                                        16, 17],\n",
       "                          'clf__estimator__min_samples_leaf': [5, 10, 15, 20,\n",
       "                                                               2],\n",
       "                          'clf__estimator__min_samples_split': [2, 3, 4, None],\n",
       "                          'cv__lowercase': [True],\n",
       "                          'cv__max_df': (0.5, 0.75, 1.0),\n",
       "                          'cv__min_df': [1, 2, 3],\n",
       "                          'cv__ngram_range': [(1, 1), (1, 2), (2, 2)],\n",
       "                          'cv__preprocessor': [<function removal at 0x7f88b3e2e950>],\n",
       "                          'cv__strip_accents': ['unicode']}],\n",
       "             return_train_score=True, verbose=3)"
      ]
     },
     "execution_count": 29,
     "metadata": {},
     "output_type": "execute_result"
    }
   ],
   "source": [
    "grid = GridSearchCV(pipeline, parameters, cv=folds, n_jobs=12, return_train_score=True, verbose=3)\n",
    "grid.fit(X_train, y_train)"
   ]
  },
  {
   "cell_type": "code",
   "execution_count": 108,
   "metadata": {},
   "outputs": [
    {
     "name": "stdout",
     "output_type": "stream",
     "text": [
      "Best parameters: {'clf__estimator': SGDClassifier(max_iter=50, tol=0.0001), 'clf__estimator__loss': 'hinge', 'clf__estimator__max_iter': 50, 'clf__estimator__penalty': 'l2', 'clf__estimator__tol': 0.0001, 'cv__lowercase': True, 'cv__max_df': 0.5, 'cv__min_df': 2, 'cv__ngram_range': (1, 1), 'cv__preprocessor': <function removal at 0x7f88b3e2e950>, 'cv__strip_accents': 'unicode'}\n",
      "Best Train Score: 1.0\n",
      "Best Test Score: 0.95\n"
     ]
    }
   ],
   "source": [
    "print(f'''Best parameters: {grid.best_params_}\n",
    "Best Train Score: {grid.best_score_}\n",
    "Best Test Score: {grid.score(X_test, y_test)}''')"
   ]
  },
  {
   "cell_type": "markdown",
   "metadata": {},
   "source": [
    "#### Report"
   ]
  },
  {
   "cell_type": "code",
   "execution_count": 20,
   "metadata": {},
   "outputs": [],
   "source": [
    "import seaborn as sns\n",
    "import matplotlib.pyplot as plt"
   ]
  },
  {
   "cell_type": "code",
   "execution_count": 21,
   "metadata": {},
   "outputs": [],
   "source": [
    "from sklearn.model_selection import cross_val_score\n",
    "from sklearn.metrics import classification_report, confusion_matrix, accuracy_score"
   ]
  },
  {
   "cell_type": "code",
   "execution_count": 111,
   "metadata": {},
   "outputs": [
    {
     "data": {
      "text/plain": [
       "(Pipeline(steps=[('cv',\n",
       "                  CountVectorizer(max_df=0.5, min_df=2,\n",
       "                                  preprocessor=<function removal at 0x7f88b3e2e950>,\n",
       "                                  stop_words=['de', 'la', 'que', 'el', 'en', 'y',\n",
       "                                              'a', 'los', 'del', 'se', 'las',\n",
       "                                              'por', 'un', 'para', 'con', 'no',\n",
       "                                              'una', 'su', 'al', 'lo', 'como',\n",
       "                                              'más', 'pero', 'sus', 'le', 'ya',\n",
       "                                              'o', 'este', 'sí', 'porque', ...],\n",
       "                                  strip_accents='unicode')),\n",
       "                 ('tfidf', TfidfTransformer()),\n",
       "                 ('clf',\n",
       "                  ClfSwitcher(estimator=SGDClassifier(max_iter=50,\n",
       "                                                      tol=0.0001)))]),\n",
       " 1.0,\n",
       " {'clf__estimator': SGDClassifier(max_iter=50, tol=0.0001),\n",
       "  'clf__estimator__loss': 'hinge',\n",
       "  'clf__estimator__max_iter': 50,\n",
       "  'clf__estimator__penalty': 'l2',\n",
       "  'clf__estimator__tol': 0.0001,\n",
       "  'cv__lowercase': True,\n",
       "  'cv__max_df': 0.5,\n",
       "  'cv__min_df': 2,\n",
       "  'cv__ngram_range': (1, 1),\n",
       "  'cv__preprocessor': <function __main__.removal(text)>,\n",
       "  'cv__strip_accents': 'unicode'})"
      ]
     },
     "execution_count": 111,
     "metadata": {},
     "output_type": "execute_result"
    }
   ],
   "source": [
    "grid.best_estimator_, grid.best_score_, grid.best_params_"
   ]
  },
  {
   "cell_type": "code",
   "execution_count": 112,
   "metadata": {},
   "outputs": [],
   "source": [
    "grid_pred = grid.predict(X_test)"
   ]
  },
  {
   "cell_type": "code",
   "execution_count": 113,
   "metadata": {},
   "outputs": [
    {
     "data": {
      "text/plain": [
       "0.95"
      ]
     },
     "execution_count": 113,
     "metadata": {},
     "output_type": "execute_result"
    }
   ],
   "source": [
    "matrix = confusion_matrix(y_test, grid_pred)\n",
    "accuracy_score(y_test, grid_pred)"
   ]
  },
  {
   "cell_type": "code",
   "execution_count": 114,
   "metadata": {},
   "outputs": [
    {
     "name": "stdout",
     "output_type": "stream",
     "text": [
      "              precision    recall  f1-score   support\n",
      "\n",
      "        left       0.90      1.00      0.95         9\n",
      "       right       1.00      0.91      0.95        11\n",
      "\n",
      "    accuracy                           0.95        20\n",
      "   macro avg       0.95      0.95      0.95        20\n",
      "weighted avg       0.96      0.95      0.95        20\n",
      "\n"
     ]
    }
   ],
   "source": [
    "print(classification_report(y_test, grid_pred))"
   ]
  },
  {
   "cell_type": "code",
   "execution_count": 132,
   "metadata": {},
   "outputs": [
    {
     "data": {
      "text/html": [
       "<div>\n",
       "<style scoped>\n",
       "    .dataframe tbody tr th:only-of-type {\n",
       "        vertical-align: middle;\n",
       "    }\n",
       "\n",
       "    .dataframe tbody tr th {\n",
       "        vertical-align: top;\n",
       "    }\n",
       "\n",
       "    .dataframe thead th {\n",
       "        text-align: right;\n",
       "    }\n",
       "</style>\n",
       "<table border=\"1\" class=\"dataframe\">\n",
       "  <thead>\n",
       "    <tr style=\"text-align: right;\">\n",
       "      <th></th>\n",
       "      <th>actual</th>\n",
       "      <th>pred</th>\n",
       "      <th>acc</th>\n",
       "    </tr>\n",
       "  </thead>\n",
       "  <tbody>\n",
       "    <tr>\n",
       "      <th>31</th>\n",
       "      <td>left</td>\n",
       "      <td>left</td>\n",
       "      <td>True</td>\n",
       "    </tr>\n",
       "    <tr>\n",
       "      <th>19</th>\n",
       "      <td>left</td>\n",
       "      <td>left</td>\n",
       "      <td>True</td>\n",
       "    </tr>\n",
       "    <tr>\n",
       "      <th>6</th>\n",
       "      <td>right</td>\n",
       "      <td>right</td>\n",
       "      <td>True</td>\n",
       "    </tr>\n",
       "    <tr>\n",
       "      <th>32</th>\n",
       "      <td>right</td>\n",
       "      <td>right</td>\n",
       "      <td>True</td>\n",
       "    </tr>\n",
       "    <tr>\n",
       "      <th>0</th>\n",
       "      <td>right</td>\n",
       "      <td>right</td>\n",
       "      <td>True</td>\n",
       "    </tr>\n",
       "    <tr>\n",
       "      <th>1</th>\n",
       "      <td>right</td>\n",
       "      <td>left</td>\n",
       "      <td>False</td>\n",
       "    </tr>\n",
       "    <tr>\n",
       "      <th>37</th>\n",
       "      <td>right</td>\n",
       "      <td>right</td>\n",
       "      <td>True</td>\n",
       "    </tr>\n",
       "    <tr>\n",
       "      <th>29</th>\n",
       "      <td>right</td>\n",
       "      <td>right</td>\n",
       "      <td>True</td>\n",
       "    </tr>\n",
       "    <tr>\n",
       "      <th>27</th>\n",
       "      <td>left</td>\n",
       "      <td>left</td>\n",
       "      <td>True</td>\n",
       "    </tr>\n",
       "    <tr>\n",
       "      <th>12</th>\n",
       "      <td>left</td>\n",
       "      <td>left</td>\n",
       "      <td>True</td>\n",
       "    </tr>\n",
       "    <tr>\n",
       "      <th>9</th>\n",
       "      <td>left</td>\n",
       "      <td>left</td>\n",
       "      <td>True</td>\n",
       "    </tr>\n",
       "    <tr>\n",
       "      <th>30</th>\n",
       "      <td>left</td>\n",
       "      <td>left</td>\n",
       "      <td>True</td>\n",
       "    </tr>\n",
       "    <tr>\n",
       "      <th>41</th>\n",
       "      <td>right</td>\n",
       "      <td>right</td>\n",
       "      <td>True</td>\n",
       "    </tr>\n",
       "    <tr>\n",
       "      <th>21</th>\n",
       "      <td>right</td>\n",
       "      <td>right</td>\n",
       "      <td>True</td>\n",
       "    </tr>\n",
       "    <tr>\n",
       "      <th>30</th>\n",
       "      <td>right</td>\n",
       "      <td>right</td>\n",
       "      <td>True</td>\n",
       "    </tr>\n",
       "    <tr>\n",
       "      <th>8</th>\n",
       "      <td>right</td>\n",
       "      <td>right</td>\n",
       "      <td>True</td>\n",
       "    </tr>\n",
       "    <tr>\n",
       "      <th>13</th>\n",
       "      <td>left</td>\n",
       "      <td>left</td>\n",
       "      <td>True</td>\n",
       "    </tr>\n",
       "    <tr>\n",
       "      <th>5</th>\n",
       "      <td>right</td>\n",
       "      <td>right</td>\n",
       "      <td>True</td>\n",
       "    </tr>\n",
       "    <tr>\n",
       "      <th>2</th>\n",
       "      <td>left</td>\n",
       "      <td>left</td>\n",
       "      <td>True</td>\n",
       "    </tr>\n",
       "    <tr>\n",
       "      <th>10</th>\n",
       "      <td>left</td>\n",
       "      <td>left</td>\n",
       "      <td>True</td>\n",
       "    </tr>\n",
       "  </tbody>\n",
       "</table>\n",
       "</div>"
      ],
      "text/plain": [
       "   actual   pred    acc\n",
       "31   left   left   True\n",
       "19   left   left   True\n",
       "6   right  right   True\n",
       "32  right  right   True\n",
       "0   right  right   True\n",
       "1   right   left  False\n",
       "37  right  right   True\n",
       "29  right  right   True\n",
       "27   left   left   True\n",
       "12   left   left   True\n",
       "9    left   left   True\n",
       "30   left   left   True\n",
       "41  right  right   True\n",
       "21  right  right   True\n",
       "30  right  right   True\n",
       "8   right  right   True\n",
       "13   left   left   True\n",
       "5   right  right   True\n",
       "2    left   left   True\n",
       "10   left   left   True"
      ]
     },
     "execution_count": 132,
     "metadata": {},
     "output_type": "execute_result"
    }
   ],
   "source": [
    "results = pd.DataFrame({'actual': y_test, 'pred': grid_pred, 'acc': y_test == grid_pred})\n",
    "results"
   ]
  },
  {
   "cell_type": "code",
   "execution_count": 135,
   "metadata": {},
   "outputs": [
    {
     "data": {
      "text/plain": [
       "(right    11\n",
       " left      9\n",
       " Name: actual, dtype: int64,\n",
       " right    10\n",
       " left     10\n",
       " Name: pred, dtype: int64)"
      ]
     },
     "execution_count": 135,
     "metadata": {},
     "output_type": "execute_result"
    }
   ],
   "source": [
    "results.actual.value_counts(), results.pred.value_counts()"
   ]
  },
  {
   "cell_type": "code",
   "execution_count": 130,
   "metadata": {},
   "outputs": [
    {
     "data": {
      "image/png": "[encoded data removed]",
      "text/plain": [
       "<Figure size 432x288 with 1 Axes>"
      ]
     },
     "metadata": {
      "needs_background": "light"
     },
     "output_type": "display_data"
    }
   ],
   "source": [
    "sns.heatmap(confusion_matrix(y_test, grid_pred), annot=True, cbar=False, cmap=\"Blues\")\n",
    "plt.xlabel('Predicted')\n",
    "plt.ylabel('Actual')\n",
    "plt.xticks([0.5, 1.5],['Izq.','Der.'])\n",
    "plt.yticks([0.5, 1.5],['Izq.','Der.'], rotation = 0.5)\n",
    "plt.title('Izquierda VS Derecha (inflation)\\n', loc='center')\n",
    "plt.show()"
   ]
  },
  {
   "cell_type": "markdown",
   "metadata": {},
   "source": [
    "### Topic (**Exchange**) according to each news portal"
   ]
  },
  {
   "cell_type": "markdown",
   "metadata": {},
   "source": [
    "### Prepare Dataframe"
   ]
  },
  {
   "cell_type": "code",
   "execution_count": 138,
   "metadata": {},
   "outputs": [],
   "source": [
    "izq_ex = izq[izq.topics == 'exchange']\n",
    "der_ex = der[der.topics == 'exchange']"
   ]
  },
  {
   "cell_type": "code",
   "execution_count": 139,
   "metadata": {},
   "outputs": [],
   "source": [
    "izq_ex['bias'] = 'left'\n",
    "der_ex['bias'] = 'right'"
   ]
  },
  {
   "cell_type": "code",
   "execution_count": 140,
   "metadata": {},
   "outputs": [],
   "source": [
    "df_ex = izq_ex.loc[:,['bias', 'body']].append(der_ex.loc[:,['bias', 'body']])"
   ]
  },
  {
   "cell_type": "markdown",
   "metadata": {},
   "source": [
    "### Split Train - Test"
   ]
  },
  {
   "cell_type": "code",
   "execution_count": 141,
   "metadata": {},
   "outputs": [],
   "source": [
    "X = df_ex.body"
   ]
  },
  {
   "cell_type": "code",
   "execution_count": 142,
   "metadata": {},
   "outputs": [],
   "source": [
    "y = df_ex.bias"
   ]
  },
  {
   "cell_type": "code",
   "execution_count": 143,
   "metadata": {},
   "outputs": [],
   "source": [
    "X_train, X_test, y_train, y_test = train_test_split(X, y, train_size=0.75, stratify=y)"
   ]
  },
  {
   "cell_type": "code",
   "execution_count": 144,
   "metadata": {},
   "outputs": [
    {
     "name": "stdout",
     "output_type": "stream",
     "text": [
      "Train shape: 0.75\n",
      "Test shape: 0.25\n"
     ]
    }
   ],
   "source": [
    "print(f\"Train shape: {X_train.shape[0] / X.shape[0]}\\nTest shape: {X_test.shape[0] / X.shape[0]}\")"
   ]
  },
  {
   "cell_type": "code",
   "execution_count": 145,
   "metadata": {},
   "outputs": [
    {
     "name": "stdout",
     "output_type": "stream",
     "text": [
      "Target balance\n",
      "Train:\n",
      "right    0.52381\n",
      "left     0.47619\n",
      "Name: bias, dtype: float64\n",
      "Test:\n",
      "right    0.571429\n",
      "left     0.428571\n",
      "Name: bias, dtype: float64\n"
     ]
    }
   ],
   "source": [
    "print(f\"Target balance\\nTrain:\\n{y_train.value_counts(normalize=True)}\\nTest:\\n{y_test.value_counts(normalize=True)}\")"
   ]
  },
  {
   "cell_type": "markdown",
   "metadata": {},
   "source": [
    "### Pipeline"
   ]
  },
  {
   "cell_type": "markdown",
   "metadata": {},
   "source": [
    "#### Tuning model"
   ]
  },
  {
   "cell_type": "code",
   "execution_count": 146,
   "metadata": {},
   "outputs": [
    {
     "name": "stdout",
     "output_type": "stream",
     "text": [
      "Fitting 5 folds for each of 18549 candidates, totalling 92745 fits\n"
     ]
    },
    {
     "name": "stderr",
     "output_type": "stream",
     "text": [
      "[Parallel(n_jobs=12)]: Using backend LokyBackend with 12 concurrent workers.\n",
      "[Parallel(n_jobs=12)]: Done   8 tasks      | elapsed:    2.5s\n",
      "[Parallel(n_jobs=12)]: Done 104 tasks      | elapsed:    4.5s\n",
      "[Parallel(n_jobs=12)]: Done 264 tasks      | elapsed:    7.3s\n",
      "[Parallel(n_jobs=12)]: Done 488 tasks      | elapsed:   11.5s\n",
      "[Parallel(n_jobs=12)]: Done 776 tasks      | elapsed:   16.6s\n",
      "[Parallel(n_jobs=12)]: Done 1128 tasks      | elapsed:   22.7s\n",
      "[Parallel(n_jobs=12)]: Done 1544 tasks      | elapsed:   30.2s\n",
      "[Parallel(n_jobs=12)]: Done 2024 tasks      | elapsed:   38.5s\n",
      "[Parallel(n_jobs=12)]: Done 2568 tasks      | elapsed:   47.9s\n",
      "[Parallel(n_jobs=12)]: Done 3176 tasks      | elapsed:   58.8s\n",
      "[Parallel(n_jobs=12)]: Done 3848 tasks      | elapsed:  1.2min\n",
      "[Parallel(n_jobs=12)]: Done 4584 tasks      | elapsed:  1.4min\n",
      "[Parallel(n_jobs=12)]: Done 5384 tasks      | elapsed:  1.6min\n",
      "[Parallel(n_jobs=12)]: Done 6248 tasks      | elapsed:  1.9min\n",
      "[Parallel(n_jobs=12)]: Done 7176 tasks      | elapsed:  2.2min\n",
      "[Parallel(n_jobs=12)]: Done 8168 tasks      | elapsed:  2.5min\n",
      "[Parallel(n_jobs=12)]: Done 9224 tasks      | elapsed:  2.8min\n",
      "[Parallel(n_jobs=12)]: Done 10344 tasks      | elapsed:  3.1min\n",
      "[Parallel(n_jobs=12)]: Done 11528 tasks      | elapsed:  3.5min\n",
      "[Parallel(n_jobs=12)]: Done 12776 tasks      | elapsed:  3.8min\n",
      "[Parallel(n_jobs=12)]: Done 14088 tasks      | elapsed:  4.2min\n",
      "[Parallel(n_jobs=12)]: Done 15464 tasks      | elapsed:  4.6min\n",
      "[Parallel(n_jobs=12)]: Done 16904 tasks      | elapsed:  5.0min\n",
      "[Parallel(n_jobs=12)]: Done 18408 tasks      | elapsed:  5.4min\n",
      "[Parallel(n_jobs=12)]: Done 19976 tasks      | elapsed:  5.9min\n",
      "[Parallel(n_jobs=12)]: Done 21608 tasks      | elapsed:  6.3min\n",
      "[Parallel(n_jobs=12)]: Done 23304 tasks      | elapsed:  6.9min\n",
      "[Parallel(n_jobs=12)]: Done 25064 tasks      | elapsed:  7.4min\n",
      "[Parallel(n_jobs=12)]: Done 26888 tasks      | elapsed:  8.0min\n",
      "[Parallel(n_jobs=12)]: Done 28776 tasks      | elapsed:  8.5min\n",
      "[Parallel(n_jobs=12)]: Done 30728 tasks      | elapsed:  9.0min\n",
      "[Parallel(n_jobs=12)]: Done 32744 tasks      | elapsed:  9.7min\n",
      "[Parallel(n_jobs=12)]: Done 34824 tasks      | elapsed: 10.3min\n",
      "[Parallel(n_jobs=12)]: Done 36968 tasks      | elapsed: 10.9min\n",
      "[Parallel(n_jobs=12)]: Done 39176 tasks      | elapsed: 11.6min\n",
      "[Parallel(n_jobs=12)]: Done 41448 tasks      | elapsed: 12.2min\n",
      "[Parallel(n_jobs=12)]: Done 43784 tasks      | elapsed: 12.9min\n",
      "[Parallel(n_jobs=12)]: Done 46184 tasks      | elapsed: 13.6min\n",
      "[Parallel(n_jobs=12)]: Done 48648 tasks      | elapsed: 14.2min\n",
      "[Parallel(n_jobs=12)]: Done 51176 tasks      | elapsed: 14.9min\n",
      "[Parallel(n_jobs=12)]: Done 53768 tasks      | elapsed: 15.6min\n",
      "[Parallel(n_jobs=12)]: Done 56424 tasks      | elapsed: 16.4min\n",
      "[Parallel(n_jobs=12)]: Done 59144 tasks      | elapsed: 17.1min\n",
      "[Parallel(n_jobs=12)]: Done 61928 tasks      | elapsed: 17.9min\n",
      "[Parallel(n_jobs=12)]: Done 64776 tasks      | elapsed: 18.7min\n",
      "[Parallel(n_jobs=12)]: Done 67688 tasks      | elapsed: 19.6min\n",
      "[Parallel(n_jobs=12)]: Done 70664 tasks      | elapsed: 20.4min\n",
      "[Parallel(n_jobs=12)]: Done 73704 tasks      | elapsed: 21.3min\n",
      "[Parallel(n_jobs=12)]: Done 76808 tasks      | elapsed: 22.1min\n",
      "[Parallel(n_jobs=12)]: Done 79976 tasks      | elapsed: 23.0min\n",
      "[Parallel(n_jobs=12)]: Done 83208 tasks      | elapsed: 23.9min\n",
      "[Parallel(n_jobs=12)]: Done 86504 tasks      | elapsed: 24.9min\n",
      "[Parallel(n_jobs=12)]: Done 89864 tasks      | elapsed: 25.9min\n",
      "[Parallel(n_jobs=12)]: Done 92745 out of 92745 | elapsed: 26.7min finished\n"
     ]
    },
    {
     "data": {
      "text/plain": [
       "GridSearchCV(cv=StratifiedKFold(n_splits=5, random_state=19, shuffle=True),\n",
       "             estimator=Pipeline(steps=[('cv',\n",
       "                                        CountVectorizer(stop_words=['de', 'la',\n",
       "                                                                    'que', 'el',\n",
       "                                                                    'en', 'y',\n",
       "                                                                    'a', 'los',\n",
       "                                                                    'del', 'se',\n",
       "                                                                    'las',\n",
       "                                                                    'por', 'un',\n",
       "                                                                    'para',\n",
       "                                                                    'con', 'no',\n",
       "                                                                    'una', 'su',\n",
       "                                                                    'al', 'lo',\n",
       "                                                                    'como',\n",
       "                                                                    'más',\n",
       "                                                                    'pero',\n",
       "                                                                    'sus', 'le',\n",
       "                                                                    'ya', 'o',\n",
       "                                                                    'este',\n",
       "                                                                    'sí',\n",
       "                                                                    'porque', ...])),\n",
       "                                       ('tfidf', TfidfTransformer()),\n",
       "                                       ('clf', ClfSwi...\n",
       "                                                        10, 11, 12, 13, 14, 15,\n",
       "                                                        16, 17],\n",
       "                          'clf__estimator__min_samples_leaf': [5, 10, 15, 20,\n",
       "                                                               2],\n",
       "                          'clf__estimator__min_samples_split': [2, 3, 4, None],\n",
       "                          'cv__lowercase': [True],\n",
       "                          'cv__max_df': (0.5, 0.75, 1.0),\n",
       "                          'cv__min_df': [1, 2, 3],\n",
       "                          'cv__ngram_range': [(1, 1), (1, 2), (2, 2)],\n",
       "                          'cv__preprocessor': [<function removal at 0x7f88b3e2e950>],\n",
       "                          'cv__strip_accents': ['unicode']}],\n",
       "             return_train_score=True, verbose=3)"
      ]
     },
     "execution_count": 146,
     "metadata": {},
     "output_type": "execute_result"
    }
   ],
   "source": [
    "grid = GridSearchCV(pipeline, parameters, cv=folds, n_jobs=12, return_train_score=True, verbose=3)\n",
    "grid.fit(X_train, y_train)"
   ]
  },
  {
   "cell_type": "code",
   "execution_count": 147,
   "metadata": {},
   "outputs": [
    {
     "name": "stdout",
     "output_type": "stream",
     "text": [
      "Best parameters: {'clf__estimator': SGDClassifier(loss='log', max_iter=50, tol=0.0001), 'clf__estimator__loss': 'log', 'clf__estimator__max_iter': 50, 'clf__estimator__penalty': 'l2', 'clf__estimator__tol': 0.0001, 'cv__lowercase': True, 'cv__max_df': 0.75, 'cv__min_df': 1, 'cv__ngram_range': (2, 2), 'cv__preprocessor': <function removal at 0x7f88b3e2e950>, 'cv__strip_accents': 'unicode'}\n",
      "Best Train Score: 1.0\n",
      "Best Test Score: 1.0\n"
     ]
    }
   ],
   "source": [
    "print(f'''Best parameters: {grid.best_params_}\n",
    "Best Train Score: {grid.best_score_}\n",
    "Best Test Score: {grid.score(X_test, y_test)}''')"
   ]
  },
  {
   "cell_type": "markdown",
   "metadata": {},
   "source": [
    "#### Report"
   ]
  },
  {
   "cell_type": "code",
   "execution_count": 148,
   "metadata": {},
   "outputs": [
    {
     "data": {
      "text/plain": [
       "(Pipeline(steps=[('cv',\n",
       "                  CountVectorizer(max_df=0.75, ngram_range=(2, 2),\n",
       "                                  preprocessor=<function removal at 0x7f88b3e2e950>,\n",
       "                                  stop_words=['de', 'la', 'que', 'el', 'en', 'y',\n",
       "                                              'a', 'los', 'del', 'se', 'las',\n",
       "                                              'por', 'un', 'para', 'con', 'no',\n",
       "                                              'una', 'su', 'al', 'lo', 'como',\n",
       "                                              'más', 'pero', 'sus', 'le', 'ya',\n",
       "                                              'o', 'este', 'sí', 'porque', ...],\n",
       "                                  strip_accents='unicode')),\n",
       "                 ('tfidf', TfidfTransformer()),\n",
       "                 ('clf',\n",
       "                  ClfSwitcher(estimator=SGDClassifier(loss='log', max_iter=50,\n",
       "                                                      tol=0.0001)))]),\n",
       " 1.0,\n",
       " {'clf__estimator': SGDClassifier(loss='log', max_iter=50, tol=0.0001),\n",
       "  'clf__estimator__loss': 'log',\n",
       "  'clf__estimator__max_iter': 50,\n",
       "  'clf__estimator__penalty': 'l2',\n",
       "  'clf__estimator__tol': 0.0001,\n",
       "  'cv__lowercase': True,\n",
       "  'cv__max_df': 0.75,\n",
       "  'cv__min_df': 1,\n",
       "  'cv__ngram_range': (2, 2),\n",
       "  'cv__preprocessor': <function __main__.removal(text)>,\n",
       "  'cv__strip_accents': 'unicode'})"
      ]
     },
     "execution_count": 148,
     "metadata": {},
     "output_type": "execute_result"
    }
   ],
   "source": [
    "grid.best_estimator_, grid.best_score_, grid.best_params_"
   ]
  },
  {
   "cell_type": "code",
   "execution_count": 149,
   "metadata": {},
   "outputs": [],
   "source": [
    "grid_pred = grid.predict(X_test)"
   ]
  },
  {
   "cell_type": "code",
   "execution_count": 150,
   "metadata": {},
   "outputs": [
    {
     "data": {
      "text/plain": [
       "1.0"
      ]
     },
     "execution_count": 150,
     "metadata": {},
     "output_type": "execute_result"
    }
   ],
   "source": [
    "matrix = confusion_matrix(y_test, grid_pred)\n",
    "accuracy_score(y_test, grid_pred)"
   ]
  },
  {
   "cell_type": "code",
   "execution_count": 151,
   "metadata": {},
   "outputs": [
    {
     "name": "stdout",
     "output_type": "stream",
     "text": [
      "              precision    recall  f1-score   support\n",
      "\n",
      "        left       1.00      1.00      1.00         6\n",
      "       right       1.00      1.00      1.00         8\n",
      "\n",
      "    accuracy                           1.00        14\n",
      "   macro avg       1.00      1.00      1.00        14\n",
      "weighted avg       1.00      1.00      1.00        14\n",
      "\n"
     ]
    }
   ],
   "source": [
    "print(classification_report(y_test, grid_pred))"
   ]
  },
  {
   "cell_type": "code",
   "execution_count": 152,
   "metadata": {},
   "outputs": [
    {
     "data": {
      "text/html": [
       "<div>\n",
       "<style scoped>\n",
       "    .dataframe tbody tr th:only-of-type {\n",
       "        vertical-align: middle;\n",
       "    }\n",
       "\n",
       "    .dataframe tbody tr th {\n",
       "        vertical-align: top;\n",
       "    }\n",
       "\n",
       "    .dataframe thead th {\n",
       "        text-align: right;\n",
       "    }\n",
       "</style>\n",
       "<table border=\"1\" class=\"dataframe\">\n",
       "  <thead>\n",
       "    <tr style=\"text-align: right;\">\n",
       "      <th></th>\n",
       "      <th>actual</th>\n",
       "      <th>pred</th>\n",
       "      <th>acc</th>\n",
       "    </tr>\n",
       "  </thead>\n",
       "  <tbody>\n",
       "    <tr>\n",
       "      <th>44</th>\n",
       "      <td>right</td>\n",
       "      <td>right</td>\n",
       "      <td>True</td>\n",
       "    </tr>\n",
       "    <tr>\n",
       "      <th>56</th>\n",
       "      <td>left</td>\n",
       "      <td>left</td>\n",
       "      <td>True</td>\n",
       "    </tr>\n",
       "    <tr>\n",
       "      <th>47</th>\n",
       "      <td>left</td>\n",
       "      <td>left</td>\n",
       "      <td>True</td>\n",
       "    </tr>\n",
       "    <tr>\n",
       "      <th>54</th>\n",
       "      <td>left</td>\n",
       "      <td>left</td>\n",
       "      <td>True</td>\n",
       "    </tr>\n",
       "    <tr>\n",
       "      <th>37</th>\n",
       "      <td>left</td>\n",
       "      <td>left</td>\n",
       "      <td>True</td>\n",
       "    </tr>\n",
       "    <tr>\n",
       "      <th>48</th>\n",
       "      <td>right</td>\n",
       "      <td>right</td>\n",
       "      <td>True</td>\n",
       "    </tr>\n",
       "    <tr>\n",
       "      <th>60</th>\n",
       "      <td>right</td>\n",
       "      <td>right</td>\n",
       "      <td>True</td>\n",
       "    </tr>\n",
       "    <tr>\n",
       "      <th>62</th>\n",
       "      <td>right</td>\n",
       "      <td>right</td>\n",
       "      <td>True</td>\n",
       "    </tr>\n",
       "    <tr>\n",
       "      <th>55</th>\n",
       "      <td>right</td>\n",
       "      <td>right</td>\n",
       "      <td>True</td>\n",
       "    </tr>\n",
       "    <tr>\n",
       "      <th>60</th>\n",
       "      <td>left</td>\n",
       "      <td>left</td>\n",
       "      <td>True</td>\n",
       "    </tr>\n",
       "    <tr>\n",
       "      <th>53</th>\n",
       "      <td>right</td>\n",
       "      <td>right</td>\n",
       "      <td>True</td>\n",
       "    </tr>\n",
       "    <tr>\n",
       "      <th>68</th>\n",
       "      <td>right</td>\n",
       "      <td>right</td>\n",
       "      <td>True</td>\n",
       "    </tr>\n",
       "    <tr>\n",
       "      <th>45</th>\n",
       "      <td>left</td>\n",
       "      <td>left</td>\n",
       "      <td>True</td>\n",
       "    </tr>\n",
       "    <tr>\n",
       "      <th>65</th>\n",
       "      <td>right</td>\n",
       "      <td>right</td>\n",
       "      <td>True</td>\n",
       "    </tr>\n",
       "  </tbody>\n",
       "</table>\n",
       "</div>"
      ],
      "text/plain": [
       "   actual   pred   acc\n",
       "44  right  right  True\n",
       "56   left   left  True\n",
       "47   left   left  True\n",
       "54   left   left  True\n",
       "37   left   left  True\n",
       "48  right  right  True\n",
       "60  right  right  True\n",
       "62  right  right  True\n",
       "55  right  right  True\n",
       "60   left   left  True\n",
       "53  right  right  True\n",
       "68  right  right  True\n",
       "45   left   left  True\n",
       "65  right  right  True"
      ]
     },
     "execution_count": 152,
     "metadata": {},
     "output_type": "execute_result"
    }
   ],
   "source": [
    "results = pd.DataFrame({'actual': y_test, 'pred': grid_pred, 'acc': y_test == grid_pred})\n",
    "results"
   ]
  },
  {
   "cell_type": "code",
   "execution_count": 153,
   "metadata": {},
   "outputs": [
    {
     "data": {
      "text/plain": [
       "(right    8\n",
       " left     6\n",
       " Name: actual, dtype: int64,\n",
       " right    8\n",
       " left     6\n",
       " Name: pred, dtype: int64)"
      ]
     },
     "execution_count": 153,
     "metadata": {},
     "output_type": "execute_result"
    }
   ],
   "source": [
    "results.actual.value_counts(), results.pred.value_counts()"
   ]
  },
  {
   "cell_type": "code",
   "execution_count": 154,
   "metadata": {},
   "outputs": [
    {
     "data": {
      "image/png": "[encoded data removed]",
      "text/plain": [
       "<Figure size 432x288 with 1 Axes>"
      ]
     },
     "metadata": {
      "needs_background": "light"
     },
     "output_type": "display_data"
    }
   ],
   "source": [
    "sns.heatmap(confusion_matrix(y_test, grid_pred), annot=True, cbar=False, cmap=\"Reds\")\n",
    "plt.xlabel('Predicted')\n",
    "plt.ylabel('Actual')\n",
    "plt.xticks([0.5, 1.5],['Izq.','Der.'])\n",
    "plt.yticks([0.5, 1.5],['Izq.','Der.'], rotation = 0.5)\n",
    "plt.title('Izquierda VS Derecha (Exchange)\\n', loc='center')\n",
    "plt.show()"
   ]
  },
  {
   "cell_type": "markdown",
   "metadata": {},
   "source": [
    "### All topics according to each news portal"
   ]
  },
  {
   "cell_type": "markdown",
   "metadata": {},
   "source": [
    "### Prepare Dataframe"
   ]
  },
  {
   "cell_type": "code",
   "execution_count": 22,
   "metadata": {},
   "outputs": [],
   "source": [
    "izq.drop(['topics'], axis=1, inplace=True)\n",
    "der.drop(['topics'], axis=1, inplace=True)"
   ]
  },
  {
   "cell_type": "code",
   "execution_count": 23,
   "metadata": {},
   "outputs": [],
   "source": [
    "izq['bias'] = 'left'\n",
    "der['bias'] = 'right'"
   ]
  },
  {
   "cell_type": "code",
   "execution_count": 24,
   "metadata": {},
   "outputs": [],
   "source": [
    "df_all = izq.loc[:,['bias', 'body']].append(der.loc[:,['bias', 'body']])"
   ]
  },
  {
   "cell_type": "code",
   "execution_count": 25,
   "metadata": {},
   "outputs": [
    {
     "data": {
      "text/plain": [
       "(134, 2)"
      ]
     },
     "execution_count": 25,
     "metadata": {},
     "output_type": "execute_result"
    }
   ],
   "source": [
    "df_all.shape"
   ]
  },
  {
   "cell_type": "markdown",
   "metadata": {},
   "source": [
    "### Split Train - Test"
   ]
  },
  {
   "cell_type": "code",
   "execution_count": 26,
   "metadata": {},
   "outputs": [],
   "source": [
    "X = df_all.body"
   ]
  },
  {
   "cell_type": "code",
   "execution_count": 27,
   "metadata": {},
   "outputs": [],
   "source": [
    "y = df_all.bias"
   ]
  },
  {
   "cell_type": "code",
   "execution_count": 28,
   "metadata": {},
   "outputs": [],
   "source": [
    "X_train, X_test, y_train, y_test = train_test_split(X, y, train_size=0.75, stratify=y)"
   ]
  },
  {
   "cell_type": "code",
   "execution_count": 29,
   "metadata": {},
   "outputs": [
    {
     "name": "stdout",
     "output_type": "stream",
     "text": [
      "Train shape: 0.746268656716418\n",
      "Test shape: 0.2537313432835821\n"
     ]
    }
   ],
   "source": [
    "print(f\"Train shape: {X_train.shape[0] / X.shape[0]}\\nTest shape: {X_test.shape[0] / X.shape[0]}\")"
   ]
  },
  {
   "cell_type": "code",
   "execution_count": 30,
   "metadata": {},
   "outputs": [
    {
     "name": "stdout",
     "output_type": "stream",
     "text": [
      "Target balance\n",
      "Train:\n",
      "right    0.54\n",
      "left     0.46\n",
      "Name: bias, dtype: float64\n",
      "Test:\n",
      "right    0.529412\n",
      "left     0.470588\n",
      "Name: bias, dtype: float64\n"
     ]
    }
   ],
   "source": [
    "print(f\"Target balance\\nTrain:\\n{y_train.value_counts(normalize=True)}\\nTest:\\n{y_test.value_counts(normalize=True)}\")"
   ]
  },
  {
   "cell_type": "markdown",
   "metadata": {},
   "source": [
    "### Pipeline"
   ]
  },
  {
   "cell_type": "markdown",
   "metadata": {},
   "source": [
    "#### Tuning model"
   ]
  },
  {
   "cell_type": "code",
   "execution_count": 33,
   "metadata": {},
   "outputs": [
    {
     "name": "stdout",
     "output_type": "stream",
     "text": [
      "Fitting 5 folds for each of 18549 candidates, totalling 92745 fits\n"
     ]
    },
    {
     "name": "stderr",
     "output_type": "stream",
     "text": [
      "[Parallel(n_jobs=12)]: Using backend LokyBackend with 12 concurrent workers.\n",
      "[Parallel(n_jobs=12)]: Done   8 tasks      | elapsed:    2.5s\n",
      "[Parallel(n_jobs=12)]: Done 104 tasks      | elapsed:    7.0s\n",
      "[Parallel(n_jobs=12)]: Done 264 tasks      | elapsed:   13.3s\n",
      "[Parallel(n_jobs=12)]: Done 488 tasks      | elapsed:   21.8s\n",
      "[Parallel(n_jobs=12)]: Done 776 tasks      | elapsed:   33.3s\n",
      "[Parallel(n_jobs=12)]: Done 1128 tasks      | elapsed:   46.2s\n",
      "[Parallel(n_jobs=12)]: Done 1544 tasks      | elapsed:  1.0min\n",
      "[Parallel(n_jobs=12)]: Done 2024 tasks      | elapsed:  1.3min\n",
      "[Parallel(n_jobs=12)]: Done 2568 tasks      | elapsed:  1.7min\n",
      "[Parallel(n_jobs=12)]: Done 3176 tasks      | elapsed:  2.1min\n",
      "[Parallel(n_jobs=12)]: Done 3848 tasks      | elapsed:  2.5min\n",
      "[Parallel(n_jobs=12)]: Done 4584 tasks      | elapsed:  2.9min\n",
      "[Parallel(n_jobs=12)]: Done 5384 tasks      | elapsed:  3.4min\n",
      "[Parallel(n_jobs=12)]: Done 6248 tasks      | elapsed:  4.2min\n",
      "[Parallel(n_jobs=12)]: Done 7176 tasks      | elapsed:  4.8min\n",
      "[Parallel(n_jobs=12)]: Done 8168 tasks      | elapsed:  5.4min\n",
      "[Parallel(n_jobs=12)]: Done 9224 tasks      | elapsed:  6.1min\n",
      "[Parallel(n_jobs=12)]: Done 10344 tasks      | elapsed:  6.7min\n",
      "[Parallel(n_jobs=12)]: Done 11528 tasks      | elapsed:  7.4min\n",
      "[Parallel(n_jobs=12)]: Done 12776 tasks      | elapsed:  8.2min\n",
      "[Parallel(n_jobs=12)]: Done 14088 tasks      | elapsed:  8.9min\n",
      "[Parallel(n_jobs=12)]: Done 15464 tasks      | elapsed:  9.8min\n",
      "[Parallel(n_jobs=12)]: Done 16904 tasks      | elapsed: 10.6min\n",
      "[Parallel(n_jobs=12)]: Done 18408 tasks      | elapsed: 11.5min\n",
      "[Parallel(n_jobs=12)]: Done 19976 tasks      | elapsed: 12.4min\n",
      "[Parallel(n_jobs=12)]: Done 21608 tasks      | elapsed: 13.3min\n",
      "[Parallel(n_jobs=12)]: Done 23304 tasks      | elapsed: 14.4min\n",
      "[Parallel(n_jobs=12)]: Done 25064 tasks      | elapsed: 15.5min\n",
      "[Parallel(n_jobs=12)]: Done 26888 tasks      | elapsed: 16.6min\n",
      "[Parallel(n_jobs=12)]: Done 28776 tasks      | elapsed: 17.8min\n",
      "[Parallel(n_jobs=12)]: Done 30728 tasks      | elapsed: 18.9min\n",
      "[Parallel(n_jobs=12)]: Done 32744 tasks      | elapsed: 20.1min\n",
      "[Parallel(n_jobs=12)]: Done 34824 tasks      | elapsed: 21.3min\n",
      "[Parallel(n_jobs=12)]: Done 36968 tasks      | elapsed: 22.6min\n",
      "[Parallel(n_jobs=12)]: Done 39176 tasks      | elapsed: 23.9min\n",
      "[Parallel(n_jobs=12)]: Done 41448 tasks      | elapsed: 25.2min\n",
      "[Parallel(n_jobs=12)]: Done 43784 tasks      | elapsed: 26.7min\n",
      "[Parallel(n_jobs=12)]: Done 46184 tasks      | elapsed: 28.1min\n",
      "[Parallel(n_jobs=12)]: Done 48648 tasks      | elapsed: 29.5min\n",
      "[Parallel(n_jobs=12)]: Done 51176 tasks      | elapsed: 31.0min\n",
      "[Parallel(n_jobs=12)]: Done 53768 tasks      | elapsed: 32.4min\n",
      "[Parallel(n_jobs=12)]: Done 56424 tasks      | elapsed: 34.0min\n",
      "[Parallel(n_jobs=12)]: Done 59144 tasks      | elapsed: 35.7min\n",
      "[Parallel(n_jobs=12)]: Done 61928 tasks      | elapsed: 37.4min\n",
      "[Parallel(n_jobs=12)]: Done 64776 tasks      | elapsed: 38.9min\n",
      "[Parallel(n_jobs=12)]: Done 67688 tasks      | elapsed: 40.5min\n",
      "[Parallel(n_jobs=12)]: Done 70664 tasks      | elapsed: 42.3min\n",
      "[Parallel(n_jobs=12)]: Done 73704 tasks      | elapsed: 44.1min\n",
      "[Parallel(n_jobs=12)]: Done 76808 tasks      | elapsed: 45.9min\n",
      "[Parallel(n_jobs=12)]: Done 79976 tasks      | elapsed: 47.7min\n",
      "[Parallel(n_jobs=12)]: Done 83208 tasks      | elapsed: 49.6min\n",
      "[Parallel(n_jobs=12)]: Done 86504 tasks      | elapsed: 51.5min\n",
      "[Parallel(n_jobs=12)]: Done 89864 tasks      | elapsed: 53.5min\n",
      "[Parallel(n_jobs=12)]: Done 92745 out of 92745 | elapsed: 55.2min finished\n"
     ]
    },
    {
     "data": {
      "text/plain": [
       "GridSearchCV(cv=StratifiedKFold(n_splits=5, random_state=19, shuffle=True),\n",
       "             estimator=Pipeline(steps=[('cv',\n",
       "                                        CountVectorizer(stop_words=['de', 'la',\n",
       "                                                                    'que', 'el',\n",
       "                                                                    'en', 'y',\n",
       "                                                                    'a', 'los',\n",
       "                                                                    'del', 'se',\n",
       "                                                                    'las',\n",
       "                                                                    'por', 'un',\n",
       "                                                                    'para',\n",
       "                                                                    'con', 'no',\n",
       "                                                                    'una', 'su',\n",
       "                                                                    'al', 'lo',\n",
       "                                                                    'como',\n",
       "                                                                    'más',\n",
       "                                                                    'pero',\n",
       "                                                                    'sus', 'le',\n",
       "                                                                    'ya', 'o',\n",
       "                                                                    'este',\n",
       "                                                                    'sí',\n",
       "                                                                    'porque', ...])),\n",
       "                                       ('tfidf', TfidfTransformer()),\n",
       "                                       ('clf', ClfSwi...\n",
       "                                                        10, 11, 12, 13, 14, 15,\n",
       "                                                        16, 17],\n",
       "                          'clf__estimator__min_samples_leaf': [5, 10, 15, 20,\n",
       "                                                               2],\n",
       "                          'clf__estimator__min_samples_split': [2, 3, 4, None],\n",
       "                          'cv__lowercase': [True],\n",
       "                          'cv__max_df': (0.5, 0.75, 1.0),\n",
       "                          'cv__min_df': [1, 2, 3],\n",
       "                          'cv__ngram_range': [(1, 1), (1, 2), (2, 2)],\n",
       "                          'cv__preprocessor': [<function removal at 0x7fc9b1f8cb90>],\n",
       "                          'cv__strip_accents': ['unicode']}],\n",
       "             return_train_score=True, verbose=3)"
      ]
     },
     "execution_count": 33,
     "metadata": {},
     "output_type": "execute_result"
    }
   ],
   "source": [
    "grid = GridSearchCV(pipeline, parameters, cv=folds, n_jobs=12, return_train_score=True, verbose=3)\n",
    "grid.fit(X_train, y_train)"
   ]
  },
  {
   "cell_type": "code",
   "execution_count": 34,
   "metadata": {},
   "outputs": [
    {
     "name": "stdout",
     "output_type": "stream",
     "text": [
      "Best parameters: {'clf__estimator': SGDClassifier(max_iter=50, penalty='elasticnet', tol=0.0001), 'clf__estimator__loss': 'hinge', 'clf__estimator__max_iter': 50, 'clf__estimator__penalty': 'elasticnet', 'clf__estimator__tol': 0.0001, 'cv__lowercase': True, 'cv__max_df': 0.5, 'cv__min_df': 3, 'cv__ngram_range': (1, 2), 'cv__preprocessor': <function removal at 0x7fc9b1f8cb90>, 'cv__strip_accents': 'unicode'}\n",
      "Best Train Score: 0.99\n",
      "Best Test Score: 0.9117647058823529\n"
     ]
    }
   ],
   "source": [
    "print(f'''Best parameters: {grid.best_params_}\n",
    "Best Train Score: {grid.best_score_}\n",
    "Best Test Score: {grid.score(X_test, y_test)}''')"
   ]
  },
  {
   "cell_type": "markdown",
   "metadata": {},
   "source": [
    "#### Report"
   ]
  },
  {
   "cell_type": "code",
   "execution_count": 35,
   "metadata": {},
   "outputs": [
    {
     "data": {
      "text/plain": [
       "(Pipeline(steps=[('cv',\n",
       "                  CountVectorizer(max_df=0.5, min_df=3, ngram_range=(1, 2),\n",
       "                                  preprocessor=<function removal at 0x7fc9b1f8cb90>,\n",
       "                                  stop_words=['de', 'la', 'que', 'el', 'en', 'y',\n",
       "                                              'a', 'los', 'del', 'se', 'las',\n",
       "                                              'por', 'un', 'para', 'con', 'no',\n",
       "                                              'una', 'su', 'al', 'lo', 'como',\n",
       "                                              'más', 'pero', 'sus', 'le', 'ya',\n",
       "                                              'o', 'este', 'sí', 'porque', ...],\n",
       "                                  strip_accents='unicode')),\n",
       "                 ('tfidf', TfidfTransformer()),\n",
       "                 ('clf',\n",
       "                  ClfSwitcher(estimator=SGDClassifier(max_iter=50,\n",
       "                                                      penalty='elasticnet',\n",
       "                                                      tol=0.0001)))]),\n",
       " 0.99,\n",
       " {'clf__estimator': SGDClassifier(max_iter=50, penalty='elasticnet', tol=0.0001),\n",
       "  'clf__estimator__loss': 'hinge',\n",
       "  'clf__estimator__max_iter': 50,\n",
       "  'clf__estimator__penalty': 'elasticnet',\n",
       "  'clf__estimator__tol': 0.0001,\n",
       "  'cv__lowercase': True,\n",
       "  'cv__max_df': 0.5,\n",
       "  'cv__min_df': 3,\n",
       "  'cv__ngram_range': (1, 2),\n",
       "  'cv__preprocessor': <function __main__.removal(text)>,\n",
       "  'cv__strip_accents': 'unicode'})"
      ]
     },
     "execution_count": 35,
     "metadata": {},
     "output_type": "execute_result"
    }
   ],
   "source": [
    "grid.best_estimator_, grid.best_score_, grid.best_params_"
   ]
  },
  {
   "cell_type": "code",
   "execution_count": 36,
   "metadata": {},
   "outputs": [],
   "source": [
    "grid_pred = grid.predict(X_test)"
   ]
  },
  {
   "cell_type": "code",
   "execution_count": 37,
   "metadata": {},
   "outputs": [
    {
     "data": {
      "text/plain": [
       "0.9117647058823529"
      ]
     },
     "execution_count": 37,
     "metadata": {},
     "output_type": "execute_result"
    }
   ],
   "source": [
    "matrix = confusion_matrix(y_test, grid_pred)\n",
    "accuracy_score(y_test, grid_pred)"
   ]
  },
  {
   "cell_type": "code",
   "execution_count": 38,
   "metadata": {},
   "outputs": [
    {
     "name": "stdout",
     "output_type": "stream",
     "text": [
      "              precision    recall  f1-score   support\n",
      "\n",
      "        left       1.00      0.81      0.90        16\n",
      "       right       0.86      1.00      0.92        18\n",
      "\n",
      "    accuracy                           0.91        34\n",
      "   macro avg       0.93      0.91      0.91        34\n",
      "weighted avg       0.92      0.91      0.91        34\n",
      "\n"
     ]
    }
   ],
   "source": [
    "print(classification_report(y_test, grid_pred))"
   ]
  },
  {
   "cell_type": "code",
   "execution_count": 43,
   "metadata": {},
   "outputs": [
    {
     "data": {
      "text/html": [
       "<div>\n",
       "<style scoped>\n",
       "    .dataframe tbody tr th:only-of-type {\n",
       "        vertical-align: middle;\n",
       "    }\n",
       "\n",
       "    .dataframe tbody tr th {\n",
       "        vertical-align: top;\n",
       "    }\n",
       "\n",
       "    .dataframe thead th {\n",
       "        text-align: right;\n",
       "    }\n",
       "</style>\n",
       "<table border=\"1\" class=\"dataframe\">\n",
       "  <thead>\n",
       "    <tr style=\"text-align: right;\">\n",
       "      <th></th>\n",
       "      <th>actual</th>\n",
       "      <th>pred</th>\n",
       "      <th>acc</th>\n",
       "    </tr>\n",
       "  </thead>\n",
       "  <tbody>\n",
       "    <tr>\n",
       "      <th>36</th>\n",
       "      <td>left</td>\n",
       "      <td>right</td>\n",
       "      <td>False</td>\n",
       "    </tr>\n",
       "    <tr>\n",
       "      <th>9</th>\n",
       "      <td>left</td>\n",
       "      <td>right</td>\n",
       "      <td>False</td>\n",
       "    </tr>\n",
       "    <tr>\n",
       "      <th>6</th>\n",
       "      <td>left</td>\n",
       "      <td>right</td>\n",
       "      <td>False</td>\n",
       "    </tr>\n",
       "  </tbody>\n",
       "</table>\n",
       "</div>"
      ],
      "text/plain": [
       "   actual   pred    acc\n",
       "36   left  right  False\n",
       "9    left  right  False\n",
       "6    left  right  False"
      ]
     },
     "execution_count": 43,
     "metadata": {},
     "output_type": "execute_result"
    }
   ],
   "source": [
    "results = pd.DataFrame({'actual': y_test, 'pred': grid_pred, 'acc': y_test == grid_pred})\n",
    "results[results.acc == False]"
   ]
  },
  {
   "cell_type": "code",
   "execution_count": 40,
   "metadata": {},
   "outputs": [
    {
     "data": {
      "text/plain": [
       "(right    18\n",
       " left     16\n",
       " Name: actual, dtype: int64,\n",
       " right    21\n",
       " left     13\n",
       " Name: pred, dtype: int64)"
      ]
     },
     "execution_count": 40,
     "metadata": {},
     "output_type": "execute_result"
    }
   ],
   "source": [
    "results.actual.value_counts(), results.pred.value_counts()"
   ]
  },
  {
   "cell_type": "code",
   "execution_count": 44,
   "metadata": {},
   "outputs": [
    {
     "data": {
      "image/png": "[encoded data removed]",
      "text/plain": [
       "<Figure size 432x288 with 1 Axes>"
      ]
     },
     "metadata": {
      "needs_background": "light"
     },
     "output_type": "display_data"
    }
   ],
   "source": [
    "sns.heatmap(confusion_matrix(y_test, grid_pred), annot=True, cbar=False, cmap=\"Greens\")\n",
    "plt.xlabel('Predicted')\n",
    "plt.ylabel('Actual')\n",
    "plt.xticks([0.5, 1.5],['Izq.','Der.'])\n",
    "plt.yticks([0.5, 1.5],['Izq.','Der.'], rotation = 0.5)\n",
    "plt.title('Izquierda VS Derecha (All topics)\\n', loc='center')\n",
    "plt.show()"
   ]
  },
  {
   "cell_type": "code",
   "execution_count": null,
   "metadata": {},
   "outputs": [],
   "source": []
  }
 ],
 "metadata": {
  "kernelspec": {
   "display_name": "Python 3",
   "language": "python",
   "name": "python3"
  },
  "language_info": {
   "codemirror_mode": {
    "name": "ipython",
    "version": 3
   },
   "file_extension": ".py",
   "mimetype": "text/x-python",
   "name": "python",
   "nbconvert_exporter": "python",
   "pygments_lexer": "ipython3",
   "version": "3.7.7"
  }
 },
 "nbformat": 4,
 "nbformat_minor": 4
}
