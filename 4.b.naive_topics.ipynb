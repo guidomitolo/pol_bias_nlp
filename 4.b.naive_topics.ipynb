{
 "cells": [
  {
   "cell_type": "markdown",
   "metadata": {},
   "source": [
    "## Naive Bayes\n",
    "Inflation VS currency exchange in \"Derecha Diario\""
   ]
  },
  {
   "cell_type": "code",
   "execution_count": 1,
   "metadata": {},
   "outputs": [],
   "source": [
    "import pandas as pd\n",
    "import pickle"
   ]
  },
  {
   "cell_type": "code",
   "execution_count": 2,
   "metadata": {},
   "outputs": [],
   "source": [
    "data = pickle.load(open('data/df_clean_der.pkl','rb'))"
   ]
  },
  {
   "cell_type": "code",
   "execution_count": 3,
   "metadata": {},
   "outputs": [
    {
     "data": {
      "text/plain": [
       "(42, 7)"
      ]
     },
     "execution_count": 3,
     "metadata": {},
     "output_type": "execute_result"
    }
   ],
   "source": [
    "inflation = data.loc[data.topics == 'inflation']\n",
    "inflation.shape"
   ]
  },
  {
   "cell_type": "code",
   "execution_count": 4,
   "metadata": {},
   "outputs": [
    {
     "data": {
      "text/plain": [
       "(30, 7)"
      ]
     },
     "execution_count": 4,
     "metadata": {},
     "output_type": "execute_result"
    }
   ],
   "source": [
    "exchange = data.loc[data.topics == 'exchange']\n",
    "exchange.shape"
   ]
  },
  {
   "cell_type": "code",
   "execution_count": 5,
   "metadata": {},
   "outputs": [
    {
     "data": {
      "text/plain": [
       "(72, 7)"
      ]
     },
     "execution_count": 5,
     "metadata": {},
     "output_type": "execute_result"
    }
   ],
   "source": [
    "corpus = inflation.append(exchange)\n",
    "corpus.shape"
   ]
  },
  {
   "cell_type": "code",
   "execution_count": 6,
   "metadata": {},
   "outputs": [
    {
     "data": {
      "text/html": [
       "<div>\n",
       "<style scoped>\n",
       "    .dataframe tbody tr th:only-of-type {\n",
       "        vertical-align: middle;\n",
       "    }\n",
       "\n",
       "    .dataframe tbody tr th {\n",
       "        vertical-align: top;\n",
       "    }\n",
       "\n",
       "    .dataframe thead th {\n",
       "        text-align: right;\n",
       "    }\n",
       "</style>\n",
       "<table border=\"1\" class=\"dataframe\">\n",
       "  <thead>\n",
       "    <tr style=\"text-align: right;\">\n",
       "      <th></th>\n",
       "      <th>topics</th>\n",
       "      <th>date</th>\n",
       "      <th>flyer</th>\n",
       "      <th>title</th>\n",
       "      <th>lead</th>\n",
       "      <th>body</th>\n",
       "      <th>url</th>\n",
       "    </tr>\n",
       "  </thead>\n",
       "  <tbody>\n",
       "    <tr>\n",
       "      <th>0</th>\n",
       "      <td>inflation</td>\n",
       "      <td>24/12/2020</td>\n",
       "      <td>Economía</td>\n",
       "      <td>Represión inflacionaria y riesgo para 2021: Mo...</td>\n",
       "      <td>La famosa multinacional financiera alerta sobr...</td>\n",
       "      <td>En medio de una época típicamente marcada por ...</td>\n",
       "      <td>https://derechadiario.com.ar/economia/represio...</td>\n",
       "    </tr>\n",
       "    <tr>\n",
       "      <th>1</th>\n",
       "      <td>inflation</td>\n",
       "      <td>16/12/2020</td>\n",
       "      <td>Economía</td>\n",
       "      <td>A pesar de las medidas de último recurso de Gu...</td>\n",
       "      <td>El INDEC difundió los resultados del índice de...</td>\n",
       "      <td>El Instituto Nacional de Estadística y Censos ...</td>\n",
       "      <td>https://derechadiario.com.ar/economia/a-pesar-...</td>\n",
       "    </tr>\n",
       "    <tr>\n",
       "      <th>2</th>\n",
       "      <td>inflation</td>\n",
       "      <td>15/12/2020</td>\n",
       "      <td>Economía</td>\n",
       "      <td>La AFIP no da respiro: el mínimo no imponible ...</td>\n",
       "      <td>El Mínimo No Imponible sólo aumentará 35,38% y...</td>\n",
       "      <td>Desde 2018, según lo establecido por la Ley 27...</td>\n",
       "      <td>https://derechadiario.com.ar/economia/la-afip-...</td>\n",
       "    </tr>\n",
       "    <tr>\n",
       "      <th>3</th>\n",
       "      <td>inflation</td>\n",
       "      <td>14/12/2020</td>\n",
       "      <td>Economía</td>\n",
       "      <td>Fracaso de los Precios Máximos: 580 negocios f...</td>\n",
       "      <td>Pese a los rigurosos controles de la Secretarí...</td>\n",
       "      <td>El Índice de Precios al Consumidor y las expec...</td>\n",
       "      <td>https://derechadiario.com.ar/economia/fracaso-...</td>\n",
       "    </tr>\n",
       "    <tr>\n",
       "      <th>4</th>\n",
       "      <td>inflation</td>\n",
       "      <td>12/12/2020</td>\n",
       "      <td>Economía</td>\n",
       "      <td>Crece el empleo estatal mientras cae el sector...</td>\n",
       "      <td>Pese al cepo laboral y las restricciones, el s...</td>\n",
       "      <td>Según el INDEC, el sector privado formal habrí...</td>\n",
       "      <td>https://derechadiario.com.ar/economia/crece-el...</td>\n",
       "    </tr>\n",
       "    <tr>\n",
       "      <th>...</th>\n",
       "      <td>...</td>\n",
       "      <td>...</td>\n",
       "      <td>...</td>\n",
       "      <td>...</td>\n",
       "      <td>...</td>\n",
       "      <td>...</td>\n",
       "      <td>...</td>\n",
       "    </tr>\n",
       "    <tr>\n",
       "      <th>67</th>\n",
       "      <td>exchange</td>\n",
       "      <td>17/04/2020</td>\n",
       "      <td>Economía</td>\n",
       "      <td>El dólar paralelo superó los $100 y ya no pare...</td>\n",
       "      <td>Alberto Fernández es el primero desde Alfonsín...</td>\n",
       "      <td>Tras el anuncio del presidente del Banco Centr...</td>\n",
       "      <td>https://derechadiario.com.ar/economia/el-dolar...</td>\n",
       "    </tr>\n",
       "    <tr>\n",
       "      <th>68</th>\n",
       "      <td>exchange</td>\n",
       "      <td>14/04/2020</td>\n",
       "      <td>Economía</td>\n",
       "      <td>Se dispara el dólar: alcanzó los 114 pesos y c...</td>\n",
       "      <td>El tipo de cambio CCL escaló hasta la alarmant...</td>\n",
       "      <td>La jornada de hoy se caracterizó por una fuert...</td>\n",
       "      <td>https://derechadiario.com.ar/economia/se-dispa...</td>\n",
       "    </tr>\n",
       "    <tr>\n",
       "      <th>69</th>\n",
       "      <td>exchange</td>\n",
       "      <td>04/04/2020</td>\n",
       "      <td>Economía</td>\n",
       "      <td>Inminente levantamiento de las restricciones s...</td>\n",
       "      <td>El gobierno se prepara para levantar el parkin...</td>\n",
       "      <td>El gobierno, mediante la Comisión Nacional de ...</td>\n",
       "      <td>https://derechadiario.com.ar/economia/inminent...</td>\n",
       "    </tr>\n",
       "    <tr>\n",
       "      <th>70</th>\n",
       "      <td>exchange</td>\n",
       "      <td>12/03/2020</td>\n",
       "      <td>Economía</td>\n",
       "      <td>Argentina en crisis: se dispara el riesgo país...</td>\n",
       "      <td>El Riesgo País sigue sin encontrar techo, sube...</td>\n",
       "      <td>Una nueva mañana comenzó este jueves 12 de mar...</td>\n",
       "      <td>https://derechadiario.com.ar/economia/argentin...</td>\n",
       "    </tr>\n",
       "    <tr>\n",
       "      <th>71</th>\n",
       "      <td>exchange</td>\n",
       "      <td>23/02/2020</td>\n",
       "      <td>Economía</td>\n",
       "      <td>Los argentinos quieren un cambio en su moneda</td>\n",
       "      <td>De acuerdo al estudio “Cryptocurrencies and th...</td>\n",
       "      <td>Los ciudadanos de países con poca confianza en...</td>\n",
       "      <td>https://derechadiario.com.ar/economia/los-arge...</td>\n",
       "    </tr>\n",
       "  </tbody>\n",
       "</table>\n",
       "<p>72 rows × 7 columns</p>\n",
       "</div>"
      ],
      "text/plain": [
       "       topics        date     flyer  \\\n",
       "0   inflation  24/12/2020  Economía   \n",
       "1   inflation  16/12/2020  Economía   \n",
       "2   inflation  15/12/2020  Economía   \n",
       "3   inflation  14/12/2020  Economía   \n",
       "4   inflation  12/12/2020  Economía   \n",
       "..        ...         ...       ...   \n",
       "67   exchange  17/04/2020  Economía   \n",
       "68   exchange  14/04/2020  Economía   \n",
       "69   exchange  04/04/2020  Economía   \n",
       "70   exchange  12/03/2020  Economía   \n",
       "71   exchange  23/02/2020  Economía   \n",
       "\n",
       "                                                title  \\\n",
       "0   Represión inflacionaria y riesgo para 2021: Mo...   \n",
       "1   A pesar de las medidas de último recurso de Gu...   \n",
       "2   La AFIP no da respiro: el mínimo no imponible ...   \n",
       "3   Fracaso de los Precios Máximos: 580 negocios f...   \n",
       "4   Crece el empleo estatal mientras cae el sector...   \n",
       "..                                                ...   \n",
       "67  El dólar paralelo superó los $100 y ya no pare...   \n",
       "68  Se dispara el dólar: alcanzó los 114 pesos y c...   \n",
       "69  Inminente levantamiento de las restricciones s...   \n",
       "70  Argentina en crisis: se dispara el riesgo país...   \n",
       "71      Los argentinos quieren un cambio en su moneda   \n",
       "\n",
       "                                                 lead  \\\n",
       "0   La famosa multinacional financiera alerta sobr...   \n",
       "1   El INDEC difundió los resultados del índice de...   \n",
       "2   El Mínimo No Imponible sólo aumentará 35,38% y...   \n",
       "3   Pese a los rigurosos controles de la Secretarí...   \n",
       "4   Pese al cepo laboral y las restricciones, el s...   \n",
       "..                                                ...   \n",
       "67  Alberto Fernández es el primero desde Alfonsín...   \n",
       "68  El tipo de cambio CCL escaló hasta la alarmant...   \n",
       "69  El gobierno se prepara para levantar el parkin...   \n",
       "70  El Riesgo País sigue sin encontrar techo, sube...   \n",
       "71  De acuerdo al estudio “Cryptocurrencies and th...   \n",
       "\n",
       "                                                 body  \\\n",
       "0   En medio de una época típicamente marcada por ...   \n",
       "1   El Instituto Nacional de Estadística y Censos ...   \n",
       "2   Desde 2018, según lo establecido por la Ley 27...   \n",
       "3   El Índice de Precios al Consumidor y las expec...   \n",
       "4   Según el INDEC, el sector privado formal habrí...   \n",
       "..                                                ...   \n",
       "67  Tras el anuncio del presidente del Banco Centr...   \n",
       "68  La jornada de hoy se caracterizó por una fuert...   \n",
       "69  El gobierno, mediante la Comisión Nacional de ...   \n",
       "70  Una nueva mañana comenzó este jueves 12 de mar...   \n",
       "71  Los ciudadanos de países con poca confianza en...   \n",
       "\n",
       "                                                  url  \n",
       "0   https://derechadiario.com.ar/economia/represio...  \n",
       "1   https://derechadiario.com.ar/economia/a-pesar-...  \n",
       "2   https://derechadiario.com.ar/economia/la-afip-...  \n",
       "3   https://derechadiario.com.ar/economia/fracaso-...  \n",
       "4   https://derechadiario.com.ar/economia/crece-el...  \n",
       "..                                                ...  \n",
       "67  https://derechadiario.com.ar/economia/el-dolar...  \n",
       "68  https://derechadiario.com.ar/economia/se-dispa...  \n",
       "69  https://derechadiario.com.ar/economia/inminent...  \n",
       "70  https://derechadiario.com.ar/economia/argentin...  \n",
       "71  https://derechadiario.com.ar/economia/los-arge...  \n",
       "\n",
       "[72 rows x 7 columns]"
      ]
     },
     "execution_count": 6,
     "metadata": {},
     "output_type": "execute_result"
    }
   ],
   "source": [
    "corpus"
   ]
  },
  {
   "cell_type": "markdown",
   "metadata": {},
   "source": [
    "#### Train - Test Split"
   ]
  },
  {
   "cell_type": "code",
   "execution_count": 7,
   "metadata": {},
   "outputs": [],
   "source": [
    "X = corpus.body"
   ]
  },
  {
   "cell_type": "code",
   "execution_count": 8,
   "metadata": {},
   "outputs": [],
   "source": [
    "y = corpus.topics"
   ]
  },
  {
   "cell_type": "code",
   "execution_count": 9,
   "metadata": {},
   "outputs": [],
   "source": [
    "from sklearn.model_selection import train_test_split"
   ]
  },
  {
   "cell_type": "code",
   "execution_count": 10,
   "metadata": {},
   "outputs": [],
   "source": [
    "train,test,y_train,y_test = train_test_split(X, y, train_size=0.75); "
   ]
  },
  {
   "cell_type": "code",
   "execution_count": 11,
   "metadata": {},
   "outputs": [
    {
     "data": {
      "text/plain": [
       "((54,), (18,))"
      ]
     },
     "execution_count": 11,
     "metadata": {},
     "output_type": "execute_result"
    }
   ],
   "source": [
    "train.shape, test.shape"
   ]
  },
  {
   "cell_type": "markdown",
   "metadata": {},
   "source": [
    "### Tokenization + Vectorization\n",
    "#### CountVectorizer"
   ]
  },
  {
   "cell_type": "code",
   "execution_count": 12,
   "metadata": {},
   "outputs": [],
   "source": [
    "from sklearn.feature_extraction.text import CountVectorizer\n",
    "from nltk.corpus import stopwords\n",
    "import re"
   ]
  },
  {
   "cell_type": "code",
   "execution_count": 13,
   "metadata": {},
   "outputs": [],
   "source": [
    "stopwords_sp = stopwords.words('spanish')"
   ]
  },
  {
   "cell_type": "code",
   "execution_count": 14,
   "metadata": {},
   "outputs": [],
   "source": [
    "def removal(text):\n",
    "    text = re.sub(r'(\\d|\\$|\\%|\\+)', '', text.lower())\n",
    "    return re.sub(r'\\d+', '', text)"
   ]
  },
  {
   "cell_type": "code",
   "execution_count": 15,
   "metadata": {},
   "outputs": [],
   "source": [
    "vectorizer = CountVectorizer(stop_words = stopwords_sp, lowercase = True, strip_accents='unicode', preprocessor=removal)"
   ]
  },
  {
   "cell_type": "code",
   "execution_count": 16,
   "metadata": {},
   "outputs": [
    {
     "data": {
      "text/plain": [
       "CountVectorizer(preprocessor=<function removal at 0x7fcafaaeca70>,\n",
       "                stop_words=['de', 'la', 'que', 'el', 'en', 'y', 'a', 'los',\n",
       "                            'del', 'se', 'las', 'por', 'un', 'para', 'con',\n",
       "                            'no', 'una', 'su', 'al', 'lo', 'como', 'más',\n",
       "                            'pero', 'sus', 'le', 'ya', 'o', 'este', 'sí',\n",
       "                            'porque', ...],\n",
       "                strip_accents='unicode')"
      ]
     },
     "execution_count": 16,
     "metadata": {},
     "output_type": "execute_result"
    }
   ],
   "source": [
    "vectorizer.fit(list(re.sub(r'(\\d|\\$|\\%|\\+)', '', doc) for doc in corpus.body))"
   ]
  },
  {
   "cell_type": "code",
   "execution_count": 17,
   "metadata": {},
   "outputs": [],
   "source": [
    "X_train = vectorizer.transform(train);"
   ]
  },
  {
   "cell_type": "code",
   "execution_count": 18,
   "metadata": {},
   "outputs": [
    {
     "data": {
      "text/plain": [
       "<54x5233 sparse matrix of type '<class 'numpy.int64'>'\n",
       "\twith 12119 stored elements in Compressed Sparse Row format>"
      ]
     },
     "execution_count": 18,
     "metadata": {},
     "output_type": "execute_result"
    }
   ],
   "source": [
    "X_train"
   ]
  },
  {
   "cell_type": "code",
   "execution_count": 19,
   "metadata": {},
   "outputs": [],
   "source": [
    "X_train_matriz = X_train.todense()"
   ]
  },
  {
   "cell_type": "code",
   "execution_count": 20,
   "metadata": {},
   "outputs": [],
   "source": [
    "X_test = vectorizer.transform(test);"
   ]
  },
  {
   "cell_type": "code",
   "execution_count": 21,
   "metadata": {},
   "outputs": [],
   "source": [
    "X_test_matriz = X_train.todense()"
   ]
  },
  {
   "cell_type": "markdown",
   "metadata": {},
   "source": [
    "#### Tf IDf Vectorizer"
   ]
  },
  {
   "cell_type": "code",
   "execution_count": 22,
   "metadata": {},
   "outputs": [],
   "source": [
    "from sklearn.feature_extraction.text import TfidfTransformer"
   ]
  },
  {
   "cell_type": "code",
   "execution_count": 23,
   "metadata": {},
   "outputs": [],
   "source": [
    "X_train_matriz_tfidf = TfidfTransformer().fit_transform(X_train_matriz);"
   ]
  },
  {
   "cell_type": "code",
   "execution_count": 24,
   "metadata": {},
   "outputs": [],
   "source": [
    "X_test_matriz_tfidf = TfidfTransformer().fit_transform(X_test_matriz);"
   ]
  },
  {
   "cell_type": "markdown",
   "metadata": {},
   "source": [
    "### Multinomial Naive Bayes + CountVectorizer"
   ]
  },
  {
   "cell_type": "code",
   "execution_count": 25,
   "metadata": {},
   "outputs": [],
   "source": [
    "from sklearn.naive_bayes import MultinomialNB\n",
    "from sklearn.metrics import accuracy_score\n",
    "from sklearn.metrics import confusion_matrix"
   ]
  },
  {
   "cell_type": "code",
   "execution_count": 26,
   "metadata": {},
   "outputs": [
    {
     "data": {
      "text/plain": [
       "MultinomialNB()"
      ]
     },
     "execution_count": 26,
     "metadata": {},
     "output_type": "execute_result"
    }
   ],
   "source": [
    "multi_nb = MultinomialNB()\n",
    "\n",
    "multi_nb.fit(X_train, y_train.values)"
   ]
  },
  {
   "cell_type": "code",
   "execution_count": 27,
   "metadata": {},
   "outputs": [],
   "source": [
    "y_pred = multi_nb.predict(X_test)"
   ]
  },
  {
   "cell_type": "code",
   "execution_count": 28,
   "metadata": {},
   "outputs": [],
   "source": [
    "from sklearn.metrics import accuracy_score"
   ]
  },
  {
   "cell_type": "code",
   "execution_count": 29,
   "metadata": {},
   "outputs": [
    {
     "data": {
      "text/plain": [
       "0.9444444444444444"
      ]
     },
     "execution_count": 29,
     "metadata": {},
     "output_type": "execute_result"
    }
   ],
   "source": [
    "accuracy_score(y_pred, y_test.values)"
   ]
  },
  {
   "cell_type": "code",
   "execution_count": 30,
   "metadata": {},
   "outputs": [
    {
     "data": {
      "text/plain": [
       "array([[ 6,  0],\n",
       "       [ 1, 11]])"
      ]
     },
     "execution_count": 30,
     "metadata": {},
     "output_type": "execute_result"
    }
   ],
   "source": [
    "confusion_matrix(y_pred, y_test.values)"
   ]
  },
  {
   "cell_type": "markdown",
   "metadata": {},
   "source": [
    "### Multinomial Naive Bayes + TfIDf"
   ]
  },
  {
   "cell_type": "code",
   "execution_count": 31,
   "metadata": {},
   "outputs": [
    {
     "data": {
      "text/plain": [
       "MultinomialNB()"
      ]
     },
     "execution_count": 31,
     "metadata": {},
     "output_type": "execute_result"
    }
   ],
   "source": [
    "multi_nb_2 = MultinomialNB()\n",
    "\n",
    "multi_nb_2.fit(X_train_matriz_tfidf, y_train.values)"
   ]
  },
  {
   "cell_type": "code",
   "execution_count": 32,
   "metadata": {},
   "outputs": [],
   "source": [
    "y_pred = multi_nb_2.predict(X_test)"
   ]
  },
  {
   "cell_type": "code",
   "execution_count": 33,
   "metadata": {},
   "outputs": [],
   "source": [
    "from sklearn.metrics import accuracy_score"
   ]
  },
  {
   "cell_type": "code",
   "execution_count": 34,
   "metadata": {},
   "outputs": [
    {
     "data": {
      "text/plain": [
       "0.8333333333333334"
      ]
     },
     "execution_count": 34,
     "metadata": {},
     "output_type": "execute_result"
    }
   ],
   "source": [
    "accuracy_score(y_pred, y_test.values)"
   ]
  },
  {
   "cell_type": "code",
   "execution_count": 35,
   "metadata": {},
   "outputs": [
    {
     "data": {
      "text/plain": [
       "array([[ 4,  0],\n",
       "       [ 3, 11]])"
      ]
     },
     "execution_count": 35,
     "metadata": {},
     "output_type": "execute_result"
    }
   ],
   "source": [
    "confusion_matrix(y_pred, y_test.values)"
   ]
  },
  {
   "cell_type": "markdown",
   "metadata": {},
   "source": [
    "### Tokenization + Vectorization (Manual)"
   ]
  },
  {
   "cell_type": "markdown",
   "metadata": {},
   "source": [
    "#### CountVectorizer with pre-built tokens"
   ]
  },
  {
   "cell_type": "code",
   "execution_count": 36,
   "metadata": {},
   "outputs": [],
   "source": [
    "cv_tokens = pickle.load(open('tokens/topic_tokens_der_new.pkl', 'rb'))"
   ]
  },
  {
   "cell_type": "code",
   "execution_count": 37,
   "metadata": {},
   "outputs": [
    {
     "data": {
      "text/plain": [
       "CountVectorizer(preprocessor=<function removal at 0x7fcafaaeca70>,\n",
       "                stop_words=['de', 'la', 'que', 'el', 'en', 'y', 'a', 'los',\n",
       "                            'del', 'se', 'las', 'por', 'un', 'para', 'con',\n",
       "                            'no', 'una', 'su', 'al', 'lo', 'como', 'más',\n",
       "                            'pero', 'sus', 'le', 'ya', 'o', 'este', 'sí',\n",
       "                            'porque', ...],\n",
       "                strip_accents='unicode')"
      ]
     },
     "execution_count": 37,
     "metadata": {},
     "output_type": "execute_result"
    }
   ],
   "source": [
    "vectorizer.fit(cv_tokens.drop('topics', axis=1))"
   ]
  },
  {
   "cell_type": "code",
   "execution_count": 38,
   "metadata": {},
   "outputs": [],
   "source": [
    "X_train_2 = vectorizer.transform(train)"
   ]
  },
  {
   "cell_type": "code",
   "execution_count": 39,
   "metadata": {},
   "outputs": [],
   "source": [
    "X_train_matriz_2 = X_train_2.todense()"
   ]
  },
  {
   "cell_type": "code",
   "execution_count": 40,
   "metadata": {},
   "outputs": [],
   "source": [
    "X_test_2 = vectorizer.transform(test)"
   ]
  },
  {
   "cell_type": "code",
   "execution_count": 41,
   "metadata": {},
   "outputs": [],
   "source": [
    "X_test_matriz_2 = X_test_2.todense()"
   ]
  },
  {
   "cell_type": "markdown",
   "metadata": {},
   "source": [
    "#### TF-IDF Vectorizer with pre-built tokens"
   ]
  },
  {
   "cell_type": "code",
   "execution_count": 42,
   "metadata": {},
   "outputs": [],
   "source": [
    "X_train_matriz_tfidf_2 = TfidfTransformer().fit_transform(X_train_matriz_2);"
   ]
  },
  {
   "cell_type": "code",
   "execution_count": 43,
   "metadata": {},
   "outputs": [],
   "source": [
    "X_test_matriz_tfidf_2 = TfidfTransformer().fit_transform(X_test_matriz_2);"
   ]
  },
  {
   "cell_type": "markdown",
   "metadata": {},
   "source": [
    "### Multinomial Naive Bayes + CountVectorizer (updated tokens)"
   ]
  },
  {
   "cell_type": "code",
   "execution_count": 44,
   "metadata": {},
   "outputs": [],
   "source": [
    "from sklearn.naive_bayes import MultinomialNB\n",
    "from sklearn.metrics import accuracy_score\n",
    "from sklearn.metrics import confusion_matrix"
   ]
  },
  {
   "cell_type": "code",
   "execution_count": 45,
   "metadata": {},
   "outputs": [
    {
     "data": {
      "text/plain": [
       "MultinomialNB()"
      ]
     },
     "execution_count": 45,
     "metadata": {},
     "output_type": "execute_result"
    }
   ],
   "source": [
    "multi_nb = MultinomialNB()\n",
    "\n",
    "multi_nb.fit(X_train_2, y_train.values)"
   ]
  },
  {
   "cell_type": "code",
   "execution_count": 46,
   "metadata": {},
   "outputs": [],
   "source": [
    "y_pred_2 = multi_nb.predict(X_test_2)"
   ]
  },
  {
   "cell_type": "code",
   "execution_count": 47,
   "metadata": {},
   "outputs": [],
   "source": [
    "from sklearn.metrics import accuracy_score"
   ]
  },
  {
   "cell_type": "code",
   "execution_count": 48,
   "metadata": {},
   "outputs": [
    {
     "data": {
      "text/plain": [
       "0.9444444444444444"
      ]
     },
     "execution_count": 48,
     "metadata": {},
     "output_type": "execute_result"
    }
   ],
   "source": [
    "accuracy_score(y_pred_2, y_test.values)"
   ]
  },
  {
   "cell_type": "code",
   "execution_count": 49,
   "metadata": {},
   "outputs": [
    {
     "data": {
      "text/plain": [
       "array([[ 6,  0],\n",
       "       [ 1, 11]])"
      ]
     },
     "execution_count": 49,
     "metadata": {},
     "output_type": "execute_result"
    }
   ],
   "source": [
    "confusion_matrix(y_pred_2, y_test.values)"
   ]
  },
  {
   "cell_type": "markdown",
   "metadata": {},
   "source": [
    "### Multinomial Naive Bayes + Tf IDf Vectorizer (updated tokens)"
   ]
  },
  {
   "cell_type": "code",
   "execution_count": 50,
   "metadata": {},
   "outputs": [
    {
     "data": {
      "text/plain": [
       "MultinomialNB()"
      ]
     },
     "execution_count": 50,
     "metadata": {},
     "output_type": "execute_result"
    }
   ],
   "source": [
    "multi_nb_2 = MultinomialNB()\n",
    "\n",
    "multi_nb_2.fit(X_train_matriz_tfidf_2, y_train.values)"
   ]
  },
  {
   "cell_type": "code",
   "execution_count": 51,
   "metadata": {},
   "outputs": [],
   "source": [
    "y_pred_2 = multi_nb_2.predict(X_test_matriz_tfidf_2)"
   ]
  },
  {
   "cell_type": "code",
   "execution_count": 52,
   "metadata": {},
   "outputs": [],
   "source": [
    "from sklearn.metrics import accuracy_score"
   ]
  },
  {
   "cell_type": "code",
   "execution_count": 53,
   "metadata": {},
   "outputs": [
    {
     "data": {
      "text/plain": [
       "0.8333333333333334"
      ]
     },
     "execution_count": 53,
     "metadata": {},
     "output_type": "execute_result"
    }
   ],
   "source": [
    "accuracy_score(y_pred_2, y_test.values)"
   ]
  },
  {
   "cell_type": "code",
   "execution_count": 54,
   "metadata": {},
   "outputs": [
    {
     "data": {
      "text/plain": [
       "array([[ 4,  0],\n",
       "       [ 3, 11]])"
      ]
     },
     "execution_count": 54,
     "metadata": {},
     "output_type": "execute_result"
    }
   ],
   "source": [
    "matrix = confusion_matrix(y_pred_2, y_test.values)\n",
    "matrix"
   ]
  },
  {
   "cell_type": "code",
   "execution_count": 57,
   "metadata": {},
   "outputs": [
    {
     "data": {
      "image/png": "[encoded data removed]",
      "text/plain": [
       "<Figure size 432x288 with 1 Axes>"
      ]
     },
     "metadata": {
      "needs_background": "light"
     },
     "output_type": "display_data"
    }
   ],
   "source": [
    "import seaborn as sns\n",
    "from matplotlib import pyplot as plt\n",
    "\n",
    "sns.heatmap(matrix, annot=True, cbar=False, cmap=\"Blues\")\n",
    "plt.xticks([0.5, 1.5],['exchange','inflation'])\n",
    "plt.yticks([0.5, 1.5],['exchange','inflation'], rotation = 0.5)\n",
    "plt.title('Naive B. CM - Derecha Diario', loc='right')\n",
    "plt.show()"
   ]
  },
  {
   "cell_type": "code",
   "execution_count": 56,
   "metadata": {},
   "outputs": [
    {
     "data": {
      "text/html": [
       "<div>\n",
       "<style scoped>\n",
       "    .dataframe tbody tr th:only-of-type {\n",
       "        vertical-align: middle;\n",
       "    }\n",
       "\n",
       "    .dataframe tbody tr th {\n",
       "        vertical-align: top;\n",
       "    }\n",
       "\n",
       "    .dataframe thead th {\n",
       "        text-align: right;\n",
       "    }\n",
       "</style>\n",
       "<table border=\"1\" class=\"dataframe\">\n",
       "  <thead>\n",
       "    <tr style=\"text-align: right;\">\n",
       "      <th></th>\n",
       "      <th>pred</th>\n",
       "      <th>actual</th>\n",
       "      <th>match</th>\n",
       "    </tr>\n",
       "  </thead>\n",
       "  <tbody>\n",
       "    <tr>\n",
       "      <th>3</th>\n",
       "      <td>inflation</td>\n",
       "      <td>inflation</td>\n",
       "      <td>True</td>\n",
       "    </tr>\n",
       "    <tr>\n",
       "      <th>57</th>\n",
       "      <td>exchange</td>\n",
       "      <td>exchange</td>\n",
       "      <td>True</td>\n",
       "    </tr>\n",
       "    <tr>\n",
       "      <th>27</th>\n",
       "      <td>inflation</td>\n",
       "      <td>inflation</td>\n",
       "      <td>True</td>\n",
       "    </tr>\n",
       "    <tr>\n",
       "      <th>41</th>\n",
       "      <td>inflation</td>\n",
       "      <td>inflation</td>\n",
       "      <td>True</td>\n",
       "    </tr>\n",
       "    <tr>\n",
       "      <th>10</th>\n",
       "      <td>inflation</td>\n",
       "      <td>inflation</td>\n",
       "      <td>True</td>\n",
       "    </tr>\n",
       "    <tr>\n",
       "      <th>16</th>\n",
       "      <td>inflation</td>\n",
       "      <td>inflation</td>\n",
       "      <td>True</td>\n",
       "    </tr>\n",
       "    <tr>\n",
       "      <th>60</th>\n",
       "      <td>inflation</td>\n",
       "      <td>exchange</td>\n",
       "      <td>False</td>\n",
       "    </tr>\n",
       "    <tr>\n",
       "      <th>58</th>\n",
       "      <td>inflation</td>\n",
       "      <td>exchange</td>\n",
       "      <td>False</td>\n",
       "    </tr>\n",
       "    <tr>\n",
       "      <th>38</th>\n",
       "      <td>inflation</td>\n",
       "      <td>inflation</td>\n",
       "      <td>True</td>\n",
       "    </tr>\n",
       "    <tr>\n",
       "      <th>61</th>\n",
       "      <td>exchange</td>\n",
       "      <td>exchange</td>\n",
       "      <td>True</td>\n",
       "    </tr>\n",
       "    <tr>\n",
       "      <th>22</th>\n",
       "      <td>inflation</td>\n",
       "      <td>inflation</td>\n",
       "      <td>True</td>\n",
       "    </tr>\n",
       "    <tr>\n",
       "      <th>56</th>\n",
       "      <td>exchange</td>\n",
       "      <td>exchange</td>\n",
       "      <td>True</td>\n",
       "    </tr>\n",
       "    <tr>\n",
       "      <th>15</th>\n",
       "      <td>inflation</td>\n",
       "      <td>inflation</td>\n",
       "      <td>True</td>\n",
       "    </tr>\n",
       "    <tr>\n",
       "      <th>8</th>\n",
       "      <td>inflation</td>\n",
       "      <td>inflation</td>\n",
       "      <td>True</td>\n",
       "    </tr>\n",
       "    <tr>\n",
       "      <th>52</th>\n",
       "      <td>inflation</td>\n",
       "      <td>exchange</td>\n",
       "      <td>False</td>\n",
       "    </tr>\n",
       "    <tr>\n",
       "      <th>12</th>\n",
       "      <td>inflation</td>\n",
       "      <td>inflation</td>\n",
       "      <td>True</td>\n",
       "    </tr>\n",
       "    <tr>\n",
       "      <th>33</th>\n",
       "      <td>inflation</td>\n",
       "      <td>inflation</td>\n",
       "      <td>True</td>\n",
       "    </tr>\n",
       "    <tr>\n",
       "      <th>47</th>\n",
       "      <td>exchange</td>\n",
       "      <td>exchange</td>\n",
       "      <td>True</td>\n",
       "    </tr>\n",
       "  </tbody>\n",
       "</table>\n",
       "</div>"
      ],
      "text/plain": [
       "         pred     actual  match\n",
       "3   inflation  inflation   True\n",
       "57   exchange   exchange   True\n",
       "27  inflation  inflation   True\n",
       "41  inflation  inflation   True\n",
       "10  inflation  inflation   True\n",
       "16  inflation  inflation   True\n",
       "60  inflation   exchange  False\n",
       "58  inflation   exchange  False\n",
       "38  inflation  inflation   True\n",
       "61   exchange   exchange   True\n",
       "22  inflation  inflation   True\n",
       "56   exchange   exchange   True\n",
       "15  inflation  inflation   True\n",
       "8   inflation  inflation   True\n",
       "52  inflation   exchange  False\n",
       "12  inflation  inflation   True\n",
       "33  inflation  inflation   True\n",
       "47   exchange   exchange   True"
      ]
     },
     "execution_count": 56,
     "metadata": {},
     "output_type": "execute_result"
    }
   ],
   "source": [
    "pd.DataFrame({'pred':y_pred_2,'actual': y_test, 'match': y_pred_2 == y_test })"
   ]
  },
  {
   "cell_type": "markdown",
   "metadata": {},
   "source": [
    "##### Multinomial Naive Bayes models finds more trouble to accuretly classify \"derecha diario\" news by topic. These scores can be explained from the results delivered by the SVD and PCA models, which proved that several news regarding inflation make use rather of a more monetary or financial lexicon to talk about the main topic."
   ]
  }
 ],
 "metadata": {
  "kernelspec": {
   "display_name": "Python 3",
   "language": "python",
   "name": "python3"
  },
  "language_info": {
   "codemirror_mode": {
    "name": "ipython",
    "version": 3
   },
   "file_extension": ".py",
   "mimetype": "text/x-python",
   "name": "python",
   "nbconvert_exporter": "python",
   "pygments_lexer": "ipython3",
   "version": "3.7.7"
  }
 },
 "nbformat": 4,
 "nbformat_minor": 4
}
