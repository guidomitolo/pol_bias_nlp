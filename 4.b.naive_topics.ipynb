{
 "cells": [
  {
   "cell_type": "markdown",
   "metadata": {},
   "source": [
    "## Naive Bayes"
   ]
  },
  {
   "cell_type": "code",
   "execution_count": 1,
   "metadata": {},
   "outputs": [],
   "source": [
    "import pandas as pd\n",
    "import pickle"
   ]
  },
  {
   "cell_type": "code",
   "execution_count": 2,
   "metadata": {},
   "outputs": [],
   "source": [
    "data = pickle.load(open('data/df_clean_der.pkl','rb'))"
   ]
  },
  {
   "cell_type": "code",
   "execution_count": 3,
   "metadata": {},
   "outputs": [
    {
     "data": {
      "text/plain": [
       "(33, 7)"
      ]
     },
     "execution_count": 3,
     "metadata": {},
     "output_type": "execute_result"
    }
   ],
   "source": [
    "inflation = data.loc[data.topics == 'inflation']\n",
    "inflation.shape"
   ]
  },
  {
   "cell_type": "code",
   "execution_count": 4,
   "metadata": {},
   "outputs": [
    {
     "data": {
      "text/plain": [
       "(28, 7)"
      ]
     },
     "execution_count": 4,
     "metadata": {},
     "output_type": "execute_result"
    }
   ],
   "source": [
    "exchange = data.loc[data.topics == 'exchange']\n",
    "exchange.shape"
   ]
  },
  {
   "cell_type": "code",
   "execution_count": 5,
   "metadata": {},
   "outputs": [
    {
     "data": {
      "text/plain": [
       "(61, 7)"
      ]
     },
     "execution_count": 5,
     "metadata": {},
     "output_type": "execute_result"
    }
   ],
   "source": [
    "corpus = inflation.append(exchange)\n",
    "corpus.shape"
   ]
  },
  {
   "cell_type": "code",
   "execution_count": 6,
   "metadata": {},
   "outputs": [
    {
     "data": {
      "text/html": [
       "<div>\n",
       "<style scoped>\n",
       "    .dataframe tbody tr th:only-of-type {\n",
       "        vertical-align: middle;\n",
       "    }\n",
       "\n",
       "    .dataframe tbody tr th {\n",
       "        vertical-align: top;\n",
       "    }\n",
       "\n",
       "    .dataframe thead th {\n",
       "        text-align: right;\n",
       "    }\n",
       "</style>\n",
       "<table border=\"1\" class=\"dataframe\">\n",
       "  <thead>\n",
       "    <tr style=\"text-align: right;\">\n",
       "      <th></th>\n",
       "      <th>topics</th>\n",
       "      <th>date</th>\n",
       "      <th>flyer</th>\n",
       "      <th>title</th>\n",
       "      <th>lead</th>\n",
       "      <th>body</th>\n",
       "      <th>url</th>\n",
       "    </tr>\n",
       "  </thead>\n",
       "  <tbody>\n",
       "    <tr>\n",
       "      <th>0</th>\n",
       "      <td>inflation</td>\n",
       "      <td>29/11/2020</td>\n",
       "      <td>Economía</td>\n",
       "      <td>La enfermedad crónica que tiene Argentina: cas...</td>\n",
       "      <td>Desde la década de 1940 Argentina padece una e...</td>\n",
       "      <td>Argentina sirve como uno de los países más par...</td>\n",
       "      <td>https://derechadiario.com.ar/economia/la-enfer...</td>\n",
       "    </tr>\n",
       "    <tr>\n",
       "      <th>1</th>\n",
       "      <td>inflation</td>\n",
       "      <td>12/11/2020</td>\n",
       "      <td>Economía</td>\n",
       "      <td>Se acelera el aumento de precios: la inflación...</td>\n",
       "      <td>El Índice de Precios al Consumidor aumentó un ...</td>\n",
       "      <td>El INDEC divulgó las cifras oficiales para el ...</td>\n",
       "      <td>https://derechadiario.com.ar/economia/se-acele...</td>\n",
       "    </tr>\n",
       "    <tr>\n",
       "      <th>2</th>\n",
       "      <td>inflation</td>\n",
       "      <td>11/11/2020</td>\n",
       "      <td>Economía</td>\n",
       "      <td>Socialismo y miseria: la economía venezolana c...</td>\n",
       "      <td>El régimen del dictador Maduro continúa destru...</td>\n",
       "      <td>Desde la toma ilegal del poder de Maduro hace ...</td>\n",
       "      <td>https://derechadiario.com.ar/economia/socialis...</td>\n",
       "    </tr>\n",
       "    <tr>\n",
       "      <th>3</th>\n",
       "      <td>inflation</td>\n",
       "      <td>09/11/2020</td>\n",
       "      <td>Economía</td>\n",
       "      <td>“Efecto Lipovetzky”: los alquileres siguen aum...</td>\n",
       "      <td>La iniciativa del PRO, formulada originalmente...</td>\n",
       "      <td>En un año marcado por las nuevas regulaciones ...</td>\n",
       "      <td>https://derechadiario.com.ar/economia/efecto-l...</td>\n",
       "    </tr>\n",
       "    <tr>\n",
       "      <th>4</th>\n",
       "      <td>inflation</td>\n",
       "      <td>02/11/2020</td>\n",
       "      <td>Economía</td>\n",
       "      <td>El Plan Guzmán para llegar a fin de año: más d...</td>\n",
       "      <td>Guzmán lanzó un quinto paquete de medidas orie...</td>\n",
       "      <td>Esta mañana, el ministro Guzmán lanzó un inusu...</td>\n",
       "      <td>https://derechadiario.com.ar/economia/el-plan-...</td>\n",
       "    </tr>\n",
       "    <tr>\n",
       "      <th>...</th>\n",
       "      <td>...</td>\n",
       "      <td>...</td>\n",
       "      <td>...</td>\n",
       "      <td>...</td>\n",
       "      <td>...</td>\n",
       "      <td>...</td>\n",
       "      <td>...</td>\n",
       "    </tr>\n",
       "    <tr>\n",
       "      <th>56</th>\n",
       "      <td>exchange</td>\n",
       "      <td>17/04/2020</td>\n",
       "      <td>Economía</td>\n",
       "      <td>El dólar paralelo superó los $100 y ya no pare...</td>\n",
       "      <td>Alberto Fernández es el primero desde Alfonsín...</td>\n",
       "      <td>“Son manionbras especulativas, al igual que es...</td>\n",
       "      <td>https://derechadiario.com.ar/economia/el-dolar...</td>\n",
       "    </tr>\n",
       "    <tr>\n",
       "      <th>57</th>\n",
       "      <td>exchange</td>\n",
       "      <td>14/04/2020</td>\n",
       "      <td>Economía</td>\n",
       "      <td>Se dispara el dólar: alcanzó los 114 pesos y c...</td>\n",
       "      <td>El tipo de cambio CCL escaló hasta la alarmant...</td>\n",
       "      <td>La jornada de hoy se caracterizó por una fuert...</td>\n",
       "      <td>https://derechadiario.com.ar/economia/se-dispa...</td>\n",
       "    </tr>\n",
       "    <tr>\n",
       "      <th>58</th>\n",
       "      <td>exchange</td>\n",
       "      <td>04/04/2020</td>\n",
       "      <td>Economía</td>\n",
       "      <td>Inminente levantamiento de las restricciones s...</td>\n",
       "      <td>El gobierno se prepara para levantar el parkin...</td>\n",
       "      <td>Comisión Nacional de Valores (CNV), Esta decis...</td>\n",
       "      <td>https://derechadiario.com.ar/economia/inminent...</td>\n",
       "    </tr>\n",
       "    <tr>\n",
       "      <th>59</th>\n",
       "      <td>exchange</td>\n",
       "      <td>12/03/2020</td>\n",
       "      <td>Economía</td>\n",
       "      <td>Argentina en crisis: se dispara el riesgo país...</td>\n",
       "      <td>El Riesgo País sigue sin encontrar techo, sube...</td>\n",
       "      <td>Una nueva\\nmañana comenzó este jueves 12 de ma...</td>\n",
       "      <td>https://derechadiario.com.ar/economia/argentin...</td>\n",
       "    </tr>\n",
       "    <tr>\n",
       "      <th>60</th>\n",
       "      <td>exchange</td>\n",
       "      <td>23/02/2020</td>\n",
       "      <td>Economía</td>\n",
       "      <td>Los argentinos quieren un cambio en su moneda</td>\n",
       "      <td>De acuerdo al estudio “Cryptocurrencies and th...</td>\n",
       "      <td>Los ciudadanos de países con poca confianza en...</td>\n",
       "      <td>https://derechadiario.com.ar/economia/los-arge...</td>\n",
       "    </tr>\n",
       "  </tbody>\n",
       "</table>\n",
       "<p>61 rows × 7 columns</p>\n",
       "</div>"
      ],
      "text/plain": [
       "       topics        date     flyer  \\\n",
       "0   inflation  29/11/2020  Economía   \n",
       "1   inflation  12/11/2020  Economía   \n",
       "2   inflation  11/11/2020  Economía   \n",
       "3   inflation  09/11/2020  Economía   \n",
       "4   inflation  02/11/2020  Economía   \n",
       "..        ...         ...       ...   \n",
       "56   exchange  17/04/2020  Economía   \n",
       "57   exchange  14/04/2020  Economía   \n",
       "58   exchange  04/04/2020  Economía   \n",
       "59   exchange  12/03/2020  Economía   \n",
       "60   exchange  23/02/2020  Economía   \n",
       "\n",
       "                                                title  \\\n",
       "0   La enfermedad crónica que tiene Argentina: cas...   \n",
       "1   Se acelera el aumento de precios: la inflación...   \n",
       "2   Socialismo y miseria: la economía venezolana c...   \n",
       "3   “Efecto Lipovetzky”: los alquileres siguen aum...   \n",
       "4   El Plan Guzmán para llegar a fin de año: más d...   \n",
       "..                                                ...   \n",
       "56  El dólar paralelo superó los $100 y ya no pare...   \n",
       "57  Se dispara el dólar: alcanzó los 114 pesos y c...   \n",
       "58  Inminente levantamiento de las restricciones s...   \n",
       "59  Argentina en crisis: se dispara el riesgo país...   \n",
       "60      Los argentinos quieren un cambio en su moneda   \n",
       "\n",
       "                                                 lead  \\\n",
       "0   Desde la década de 1940 Argentina padece una e...   \n",
       "1   El Índice de Precios al Consumidor aumentó un ...   \n",
       "2   El régimen del dictador Maduro continúa destru...   \n",
       "3   La iniciativa del PRO, formulada originalmente...   \n",
       "4   Guzmán lanzó un quinto paquete de medidas orie...   \n",
       "..                                                ...   \n",
       "56  Alberto Fernández es el primero desde Alfonsín...   \n",
       "57  El tipo de cambio CCL escaló hasta la alarmant...   \n",
       "58  El gobierno se prepara para levantar el parkin...   \n",
       "59  El Riesgo País sigue sin encontrar techo, sube...   \n",
       "60  De acuerdo al estudio “Cryptocurrencies and th...   \n",
       "\n",
       "                                                 body  \\\n",
       "0   Argentina sirve como uno de los países más par...   \n",
       "1   El INDEC divulgó las cifras oficiales para el ...   \n",
       "2   Desde la toma ilegal del poder de Maduro hace ...   \n",
       "3   En un año marcado por las nuevas regulaciones ...   \n",
       "4   Esta mañana, el ministro Guzmán lanzó un inusu...   \n",
       "..                                                ...   \n",
       "56  “Son manionbras especulativas, al igual que es...   \n",
       "57  La jornada de hoy se caracterizó por una fuert...   \n",
       "58  Comisión Nacional de Valores (CNV), Esta decis...   \n",
       "59  Una nueva\\nmañana comenzó este jueves 12 de ma...   \n",
       "60  Los ciudadanos de países con poca confianza en...   \n",
       "\n",
       "                                                  url  \n",
       "0   https://derechadiario.com.ar/economia/la-enfer...  \n",
       "1   https://derechadiario.com.ar/economia/se-acele...  \n",
       "2   https://derechadiario.com.ar/economia/socialis...  \n",
       "3   https://derechadiario.com.ar/economia/efecto-l...  \n",
       "4   https://derechadiario.com.ar/economia/el-plan-...  \n",
       "..                                                ...  \n",
       "56  https://derechadiario.com.ar/economia/el-dolar...  \n",
       "57  https://derechadiario.com.ar/economia/se-dispa...  \n",
       "58  https://derechadiario.com.ar/economia/inminent...  \n",
       "59  https://derechadiario.com.ar/economia/argentin...  \n",
       "60  https://derechadiario.com.ar/economia/los-arge...  \n",
       "\n",
       "[61 rows x 7 columns]"
      ]
     },
     "execution_count": 6,
     "metadata": {},
     "output_type": "execute_result"
    }
   ],
   "source": [
    "corpus"
   ]
  },
  {
   "cell_type": "markdown",
   "metadata": {},
   "source": [
    "#### Train - Test Split"
   ]
  },
  {
   "cell_type": "code",
   "execution_count": 7,
   "metadata": {},
   "outputs": [],
   "source": [
    "X = corpus.body"
   ]
  },
  {
   "cell_type": "code",
   "execution_count": 8,
   "metadata": {},
   "outputs": [],
   "source": [
    "y = corpus.topics"
   ]
  },
  {
   "cell_type": "code",
   "execution_count": 9,
   "metadata": {},
   "outputs": [],
   "source": [
    "from sklearn.model_selection import train_test_split"
   ]
  },
  {
   "cell_type": "code",
   "execution_count": 10,
   "metadata": {},
   "outputs": [],
   "source": [
    "train,test,y_train,y_test = train_test_split(X, y, train_size=0.75); "
   ]
  },
  {
   "cell_type": "code",
   "execution_count": 11,
   "metadata": {},
   "outputs": [
    {
     "data": {
      "text/plain": [
       "((45,), (16,))"
      ]
     },
     "execution_count": 11,
     "metadata": {},
     "output_type": "execute_result"
    }
   ],
   "source": [
    "train.shape, test.shape"
   ]
  },
  {
   "cell_type": "markdown",
   "metadata": {},
   "source": [
    "### Tokenization + Vectorization\n",
    "#### CountVectorizer"
   ]
  },
  {
   "cell_type": "code",
   "execution_count": 12,
   "metadata": {},
   "outputs": [],
   "source": [
    "from sklearn.feature_extraction.text import CountVectorizer\n",
    "from nltk.corpus import stopwords\n",
    "import re"
   ]
  },
  {
   "cell_type": "code",
   "execution_count": 13,
   "metadata": {},
   "outputs": [],
   "source": [
    "stopwords_sp = stopwords.words('spanish')"
   ]
  },
  {
   "cell_type": "code",
   "execution_count": 14,
   "metadata": {},
   "outputs": [],
   "source": [
    "def removal(text):\n",
    "    text = re.sub(r'(\\d|\\$|\\%|\\+)', '', text.lower())\n",
    "    return re.sub(r'\\d+', '', text)"
   ]
  },
  {
   "cell_type": "code",
   "execution_count": 15,
   "metadata": {},
   "outputs": [],
   "source": [
    "vectorizer = CountVectorizer(stop_words = stopwords_sp, lowercase = True, strip_accents='unicode', preprocessor=removal)"
   ]
  },
  {
   "cell_type": "code",
   "execution_count": 16,
   "metadata": {},
   "outputs": [
    {
     "data": {
      "text/plain": [
       "CountVectorizer(preprocessor=<function removal at 0x7fd72e1b7200>,\n",
       "                stop_words=['de', 'la', 'que', 'el', 'en', 'y', 'a', 'los',\n",
       "                            'del', 'se', 'las', 'por', 'un', 'para', 'con',\n",
       "                            'no', 'una', 'su', 'al', 'lo', 'como', 'más',\n",
       "                            'pero', 'sus', 'le', 'ya', 'o', 'este', 'sí',\n",
       "                            'porque', ...],\n",
       "                strip_accents='unicode')"
      ]
     },
     "execution_count": 16,
     "metadata": {},
     "output_type": "execute_result"
    }
   ],
   "source": [
    "vectorizer.fit(list(re.sub(r'(\\d|\\$|\\%|\\+)', '', doc) for doc in corpus.body))"
   ]
  },
  {
   "cell_type": "code",
   "execution_count": 17,
   "metadata": {},
   "outputs": [],
   "source": [
    "X_train = vectorizer.transform(train);"
   ]
  },
  {
   "cell_type": "code",
   "execution_count": 18,
   "metadata": {},
   "outputs": [
    {
     "data": {
      "text/plain": [
       "<45x4549 sparse matrix of type '<class 'numpy.int64'>'\n",
       "\twith 9461 stored elements in Compressed Sparse Row format>"
      ]
     },
     "execution_count": 18,
     "metadata": {},
     "output_type": "execute_result"
    }
   ],
   "source": [
    "X_train"
   ]
  },
  {
   "cell_type": "code",
   "execution_count": 19,
   "metadata": {},
   "outputs": [],
   "source": [
    "X_train_matriz = X_train.todense()"
   ]
  },
  {
   "cell_type": "code",
   "execution_count": 20,
   "metadata": {},
   "outputs": [],
   "source": [
    "X_test = vectorizer.transform(test);"
   ]
  },
  {
   "cell_type": "code",
   "execution_count": 21,
   "metadata": {},
   "outputs": [],
   "source": [
    "X_test_matriz = X_train.todense()"
   ]
  },
  {
   "cell_type": "markdown",
   "metadata": {},
   "source": [
    "#### Tf IDf Vectorizer"
   ]
  },
  {
   "cell_type": "code",
   "execution_count": 22,
   "metadata": {},
   "outputs": [],
   "source": [
    "from sklearn.feature_extraction.text import TfidfTransformer"
   ]
  },
  {
   "cell_type": "code",
   "execution_count": 23,
   "metadata": {},
   "outputs": [],
   "source": [
    "X_train_matriz_tfidf = TfidfTransformer().fit_transform(X_train_matriz);"
   ]
  },
  {
   "cell_type": "code",
   "execution_count": 24,
   "metadata": {},
   "outputs": [],
   "source": [
    "X_test_matriz_tfidf = TfidfTransformer().fit_transform(X_test_matriz);"
   ]
  },
  {
   "cell_type": "markdown",
   "metadata": {},
   "source": [
    "### Multinomial Naive Bayes + CountVectorizer"
   ]
  },
  {
   "cell_type": "code",
   "execution_count": 25,
   "metadata": {},
   "outputs": [],
   "source": [
    "from sklearn.naive_bayes import MultinomialNB\n",
    "from sklearn.metrics import accuracy_score\n",
    "from sklearn.metrics import confusion_matrix"
   ]
  },
  {
   "cell_type": "code",
   "execution_count": 26,
   "metadata": {},
   "outputs": [
    {
     "data": {
      "text/plain": [
       "MultinomialNB()"
      ]
     },
     "execution_count": 26,
     "metadata": {},
     "output_type": "execute_result"
    }
   ],
   "source": [
    "multi_nb = MultinomialNB()\n",
    "\n",
    "multi_nb.fit(X_train, y_train.values)"
   ]
  },
  {
   "cell_type": "code",
   "execution_count": 27,
   "metadata": {},
   "outputs": [],
   "source": [
    "y_pred = multi_nb.predict(X_test)"
   ]
  },
  {
   "cell_type": "code",
   "execution_count": 28,
   "metadata": {},
   "outputs": [],
   "source": [
    "from sklearn.metrics import accuracy_score"
   ]
  },
  {
   "cell_type": "code",
   "execution_count": 29,
   "metadata": {},
   "outputs": [
    {
     "data": {
      "text/plain": [
       "0.9375"
      ]
     },
     "execution_count": 29,
     "metadata": {},
     "output_type": "execute_result"
    }
   ],
   "source": [
    "accuracy_score(y_pred, y_test.values)"
   ]
  },
  {
   "cell_type": "markdown",
   "metadata": {},
   "source": [
    "### Multinomial Naive Bayes + TfIDf"
   ]
  },
  {
   "cell_type": "code",
   "execution_count": 30,
   "metadata": {},
   "outputs": [
    {
     "data": {
      "text/plain": [
       "MultinomialNB()"
      ]
     },
     "execution_count": 30,
     "metadata": {},
     "output_type": "execute_result"
    }
   ],
   "source": [
    "multi_nb_2 = MultinomialNB()\n",
    "\n",
    "multi_nb_2.fit(X_train_matriz_tfidf, y_train.values)"
   ]
  },
  {
   "cell_type": "code",
   "execution_count": 31,
   "metadata": {},
   "outputs": [],
   "source": [
    "y_pred = multi_nb_2.predict(X_test)"
   ]
  },
  {
   "cell_type": "code",
   "execution_count": 32,
   "metadata": {},
   "outputs": [],
   "source": [
    "from sklearn.metrics import accuracy_score"
   ]
  },
  {
   "cell_type": "code",
   "execution_count": 33,
   "metadata": {},
   "outputs": [
    {
     "data": {
      "text/plain": [
       "0.9375"
      ]
     },
     "execution_count": 33,
     "metadata": {},
     "output_type": "execute_result"
    }
   ],
   "source": [
    "accuracy_score(y_pred, y_test.values)"
   ]
  },
  {
   "cell_type": "markdown",
   "metadata": {},
   "source": [
    "### Tokenization + Vectorization (Manual)"
   ]
  },
  {
   "cell_type": "markdown",
   "metadata": {},
   "source": [
    "#### CountVectorizer with pre-built tokens"
   ]
  },
  {
   "cell_type": "code",
   "execution_count": 34,
   "metadata": {},
   "outputs": [],
   "source": [
    "cv_tokens = pickle.load(open('tokens/topic_tokens_der_new.pkl', 'rb'))"
   ]
  },
  {
   "cell_type": "code",
   "execution_count": 35,
   "metadata": {},
   "outputs": [
    {
     "data": {
      "text/plain": [
       "CountVectorizer(preprocessor=<function removal at 0x7fd72e1b7200>,\n",
       "                stop_words=['de', 'la', 'que', 'el', 'en', 'y', 'a', 'los',\n",
       "                            'del', 'se', 'las', 'por', 'un', 'para', 'con',\n",
       "                            'no', 'una', 'su', 'al', 'lo', 'como', 'más',\n",
       "                            'pero', 'sus', 'le', 'ya', 'o', 'este', 'sí',\n",
       "                            'porque', ...],\n",
       "                strip_accents='unicode')"
      ]
     },
     "execution_count": 35,
     "metadata": {},
     "output_type": "execute_result"
    }
   ],
   "source": [
    "vectorizer.fit(cv_tokens.drop('topics', axis=1))"
   ]
  },
  {
   "cell_type": "code",
   "execution_count": 36,
   "metadata": {},
   "outputs": [],
   "source": [
    "X_train_2 = vectorizer.transform(train)"
   ]
  },
  {
   "cell_type": "code",
   "execution_count": 37,
   "metadata": {},
   "outputs": [],
   "source": [
    "X_train_matriz_2 = X_train_2.todense()"
   ]
  },
  {
   "cell_type": "code",
   "execution_count": 38,
   "metadata": {},
   "outputs": [],
   "source": [
    "X_test_2 = vectorizer.transform(test)"
   ]
  },
  {
   "cell_type": "code",
   "execution_count": 39,
   "metadata": {},
   "outputs": [],
   "source": [
    "X_test_matriz_2 = X_test_2.todense()"
   ]
  },
  {
   "cell_type": "markdown",
   "metadata": {},
   "source": [
    "#### TF-IDF Vectorizer with pre-built tokens"
   ]
  },
  {
   "cell_type": "code",
   "execution_count": 40,
   "metadata": {},
   "outputs": [],
   "source": [
    "X_train_matriz_tfidf_2 = TfidfTransformer().fit_transform(X_train_matriz_2);"
   ]
  },
  {
   "cell_type": "code",
   "execution_count": 41,
   "metadata": {},
   "outputs": [],
   "source": [
    "X_test_matriz_tfidf_2 = TfidfTransformer().fit_transform(X_test_matriz_2);"
   ]
  },
  {
   "cell_type": "markdown",
   "metadata": {},
   "source": [
    "### Multinomial Naive Bayes + CountVectorizer (updated tokens)"
   ]
  },
  {
   "cell_type": "code",
   "execution_count": 42,
   "metadata": {},
   "outputs": [],
   "source": [
    "from sklearn.naive_bayes import MultinomialNB\n",
    "from sklearn.metrics import accuracy_score\n",
    "from sklearn.metrics import confusion_matrix"
   ]
  },
  {
   "cell_type": "code",
   "execution_count": 43,
   "metadata": {},
   "outputs": [
    {
     "data": {
      "text/plain": [
       "MultinomialNB()"
      ]
     },
     "execution_count": 43,
     "metadata": {},
     "output_type": "execute_result"
    }
   ],
   "source": [
    "multi_nb = MultinomialNB()\n",
    "\n",
    "multi_nb.fit(X_train_2, y_train.values)"
   ]
  },
  {
   "cell_type": "code",
   "execution_count": 44,
   "metadata": {},
   "outputs": [],
   "source": [
    "y_pred_2 = multi_nb.predict(X_test_2)"
   ]
  },
  {
   "cell_type": "code",
   "execution_count": 45,
   "metadata": {},
   "outputs": [],
   "source": [
    "from sklearn.metrics import accuracy_score"
   ]
  },
  {
   "cell_type": "code",
   "execution_count": 46,
   "metadata": {},
   "outputs": [
    {
     "data": {
      "text/plain": [
       "0.9375"
      ]
     },
     "execution_count": 46,
     "metadata": {},
     "output_type": "execute_result"
    }
   ],
   "source": [
    "accuracy_score(y_pred_2, y_test.values)"
   ]
  },
  {
   "cell_type": "markdown",
   "metadata": {},
   "source": [
    "### Multinomial Naive Bayes + Tf IDf Vectorizer (updated tokens)"
   ]
  },
  {
   "cell_type": "code",
   "execution_count": 47,
   "metadata": {},
   "outputs": [
    {
     "data": {
      "text/plain": [
       "MultinomialNB()"
      ]
     },
     "execution_count": 47,
     "metadata": {},
     "output_type": "execute_result"
    }
   ],
   "source": [
    "multi_nb_2 = MultinomialNB()\n",
    "\n",
    "multi_nb_2.fit(X_train_matriz_tfidf_2, y_train.values)"
   ]
  },
  {
   "cell_type": "code",
   "execution_count": 48,
   "metadata": {},
   "outputs": [],
   "source": [
    "y_pred_2 = multi_nb_2.predict(X_test_matriz_tfidf_2)"
   ]
  },
  {
   "cell_type": "code",
   "execution_count": 49,
   "metadata": {},
   "outputs": [],
   "source": [
    "from sklearn.metrics import accuracy_score"
   ]
  },
  {
   "cell_type": "code",
   "execution_count": 50,
   "metadata": {},
   "outputs": [
    {
     "data": {
      "text/plain": [
       "0.9375"
      ]
     },
     "execution_count": 50,
     "metadata": {},
     "output_type": "execute_result"
    }
   ],
   "source": [
    "accuracy_score(y_pred_2, y_test.values)"
   ]
  },
  {
   "cell_type": "markdown",
   "metadata": {},
   "source": [
    "Multinomial Naive Bayes models finds more trouble to accuretly classify \"derecha diario\" news by topic. These scores can be explained from the results delivered by the SVD and PCA models, which proved that several news regarding inflation make use rather of a more monetary or financial lexicon to talk about the main topic."
   ]
  }
 ],
 "metadata": {
  "kernelspec": {
   "display_name": "Python 3",
   "language": "python",
   "name": "python3"
  },
  "language_info": {
   "codemirror_mode": {
    "name": "ipython",
    "version": 3
   },
   "file_extension": ".py",
   "mimetype": "text/x-python",
   "name": "python",
   "nbconvert_exporter": "python",
   "pygments_lexer": "ipython3",
   "version": "3.7.7"
  }
 },
 "nbformat": 4,
 "nbformat_minor": 4
}
