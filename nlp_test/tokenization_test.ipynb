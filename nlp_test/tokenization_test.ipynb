{
 "cells": [
  {
   "cell_type": "code",
   "execution_count": 2,
   "metadata": {},
   "outputs": [],
   "source": [
    "import nltk\n",
    "import pandas as pd\n",
    "import numpy as np\n",
    "from nltk.tokenize import word_tokenize\n",
    "from nltk.corpus import stopwords\n",
    "from sklearn.feature_extraction.text import CountVectorizer"
   ]
  },
  {
   "cell_type": "markdown",
   "metadata": {},
   "source": [
    "### Load Data\n",
    "Load \"izquierda diario\" dataset from csv."
   ]
  },
  {
   "cell_type": "code",
   "execution_count": 4,
   "metadata": {},
   "outputs": [],
   "source": [
    "df = pd.read_csv('../data/izq_econ_news_2.csv')"
   ]
  },
  {
   "cell_type": "code",
   "execution_count": 5,
   "metadata": {},
   "outputs": [
    {
     "data": {
      "text/plain": [
       "(624, 7)"
      ]
     },
     "execution_count": 5,
     "metadata": {},
     "output_type": "execute_result"
    }
   ],
   "source": [
    "df.shape"
   ]
  },
  {
   "cell_type": "code",
   "execution_count": 6,
   "metadata": {},
   "outputs": [
    {
     "data": {
      "text/html": [
       "<div>\n",
       "<style scoped>\n",
       "    .dataframe tbody tr th:only-of-type {\n",
       "        vertical-align: middle;\n",
       "    }\n",
       "\n",
       "    .dataframe tbody tr th {\n",
       "        vertical-align: top;\n",
       "    }\n",
       "\n",
       "    .dataframe thead th {\n",
       "        text-align: right;\n",
       "    }\n",
       "</style>\n",
       "<table border=\"1\" class=\"dataframe\">\n",
       "  <thead>\n",
       "    <tr style=\"text-align: right;\">\n",
       "      <th></th>\n",
       "      <th>Unnamed: 0</th>\n",
       "      <th>date</th>\n",
       "      <th>flyer</th>\n",
       "      <th>lead</th>\n",
       "      <th>headline</th>\n",
       "      <th>body</th>\n",
       "      <th>url</th>\n",
       "    </tr>\n",
       "  </thead>\n",
       "  <tbody>\n",
       "    <tr>\n",
       "      <th>0</th>\n",
       "      <td>0</td>\n",
       "      <td>\\nMartes 22 de diciembre</td>\n",
       "      <td>AJUSTE PREVISIONAL</td>\n",
       "      <td>Cambian los gobiernos pero una constante se ma...</td>\n",
       "      <td>De Menem a Alberto, ¿por qué no se discute la ...</td>\n",
       "      <td>Desde hace décadas las jubilaciones se transfo...</td>\n",
       "      <td>https://www.laizquierdadiario.com/Economia/De-...</td>\n",
       "    </tr>\n",
       "    <tr>\n",
       "      <th>1</th>\n",
       "      <td>1</td>\n",
       "      <td>\\nLunes 21 de diciembre</td>\n",
       "      <td>INFORME INDEC</td>\n",
       "      <td>Al mismo tiempo los precios mayoristas del con...</td>\n",
       "      <td>Se disparó el costo de la construcción: en nov...</td>\n",
       "      <td>La inflación no se detiene y el fin de año par...</td>\n",
       "      <td>https://www.laizquierdadiario.com/Economia/Se-...</td>\n",
       "    </tr>\n",
       "    <tr>\n",
       "      <th>2</th>\n",
       "      <td>2</td>\n",
       "      <td>\\nLunes 21 de diciembre</td>\n",
       "      <td>CRISIS ECONOMICA</td>\n",
       "      <td>IRSA Propiedades Comerciales fue la más afecta...</td>\n",
       "      <td>Acciones argentinas en Wall Street cayeron has...</td>\n",
       "      <td>Las acciones de empresas argentinas que cotiza...</td>\n",
       "      <td>https://www.laizquierdadiario.com/Economia/Acc...</td>\n",
       "    </tr>\n",
       "    <tr>\n",
       "      <th>3</th>\n",
       "      <td>3</td>\n",
       "      <td>\\nLunes 21 de diciembre</td>\n",
       "      <td>TUCUMÁN</td>\n",
       "      <td>En un año más de 73.000 personas perdieron sus...</td>\n",
       "      <td>Más de 73.000 personas fueron expulsadas del m...</td>\n",
       "      <td>La semana pasada se publicaron los resultados ...</td>\n",
       "      <td>https://www.laizquierdadiario.com/Economia/Mas...</td>\n",
       "    </tr>\n",
       "    <tr>\n",
       "      <th>4</th>\n",
       "      <td>4</td>\n",
       "      <td>\\nLunes 21 de diciembre</td>\n",
       "      <td>CRISIS ECONOMICA</td>\n",
       "      <td>Se trata del sector de desocupados, ocupados y...</td>\n",
       "      <td>El 55% de la clase trabajadora tiene problemas...</td>\n",
       "      <td>El informe del “Mercado de Trabajo” publicado ...</td>\n",
       "      <td>https://www.laizquierdadiario.com/Economia/El-...</td>\n",
       "    </tr>\n",
       "  </tbody>\n",
       "</table>\n",
       "</div>"
      ],
      "text/plain": [
       "   Unnamed: 0                      date                flyer  \\\n",
       "0           0  \\nMartes 22 de diciembre   AJUSTE PREVISIONAL   \n",
       "1           1   \\nLunes 21 de diciembre        INFORME INDEC   \n",
       "2           2   \\nLunes 21 de diciembre     CRISIS ECONOMICA   \n",
       "3           3   \\nLunes 21 de diciembre              TUCUMÁN   \n",
       "4           4   \\nLunes 21 de diciembre     CRISIS ECONOMICA   \n",
       "\n",
       "                                                lead  \\\n",
       "0  Cambian los gobiernos pero una constante se ma...   \n",
       "1  Al mismo tiempo los precios mayoristas del con...   \n",
       "2  IRSA Propiedades Comerciales fue la más afecta...   \n",
       "3  En un año más de 73.000 personas perdieron sus...   \n",
       "4  Se trata del sector de desocupados, ocupados y...   \n",
       "\n",
       "                                            headline  \\\n",
       "0  De Menem a Alberto, ¿por qué no se discute la ...   \n",
       "1  Se disparó el costo de la construcción: en nov...   \n",
       "2  Acciones argentinas en Wall Street cayeron has...   \n",
       "3  Más de 73.000 personas fueron expulsadas del m...   \n",
       "4  El 55% de la clase trabajadora tiene problemas...   \n",
       "\n",
       "                                                body  \\\n",
       "0  Desde hace décadas las jubilaciones se transfo...   \n",
       "1  La inflación no se detiene y el fin de año par...   \n",
       "2  Las acciones de empresas argentinas que cotiza...   \n",
       "3  La semana pasada se publicaron los resultados ...   \n",
       "4  El informe del “Mercado de Trabajo” publicado ...   \n",
       "\n",
       "                                                 url  \n",
       "0  https://www.laizquierdadiario.com/Economia/De-...  \n",
       "1  https://www.laizquierdadiario.com/Economia/Se-...  \n",
       "2  https://www.laizquierdadiario.com/Economia/Acc...  \n",
       "3  https://www.laizquierdadiario.com/Economia/Mas...  \n",
       "4  https://www.laizquierdadiario.com/Economia/El-...  "
      ]
     },
     "execution_count": 6,
     "metadata": {},
     "output_type": "execute_result"
    }
   ],
   "source": [
    "df.head(5)"
   ]
  },
  {
   "cell_type": "code",
   "execution_count": 8,
   "metadata": {},
   "outputs": [
    {
     "data": {
      "text/plain": [
       "array([' AJUSTE PREVISIONAL', 'INFORME INDEC', 'CRISIS ECONOMICA',\n",
       "       'TUCUMÁN', 'CRISIS ECONOMICA', 'POLITICA', 'AJUSTE FISCAL ',\n",
       "       'CONGRESO NACIONAL', '¿CUÁNDO SE COBRA? ',\n",
       "       'Negocio para bonistas, ajuste para trabajadores'], dtype=object)"
      ]
     },
     "execution_count": 8,
     "metadata": {},
     "output_type": "execute_result"
    }
   ],
   "source": [
    "df.flyer.values[:10]"
   ]
  },
  {
   "cell_type": "markdown",
   "metadata": {},
   "source": [
    "### Topics\n",
    "Find from flyers the different topics inside the section about economy."
   ]
  },
  {
   "cell_type": "code",
   "execution_count": 9,
   "metadata": {},
   "outputs": [
    {
     "data": {
      "text/plain": [
       "(70, 7)"
      ]
     },
     "execution_count": 9,
     "metadata": {},
     "output_type": "execute_result"
    }
   ],
   "source": [
    "df[df.flyer.str.contains('DEUDA|Deuda|BONO', na=False)].shape"
   ]
  },
  {
   "cell_type": "code",
   "execution_count": 30,
   "metadata": {},
   "outputs": [
    {
     "data": {
      "text/plain": [
       "(25, 7)"
      ]
     },
     "execution_count": 30,
     "metadata": {},
     "output_type": "execute_result"
    }
   ],
   "source": [
    "df[df.flyer.str.contains('BRECHA|CAMBI|RESERV|DOLAR|CEPO', na=False)].shape"
   ]
  },
  {
   "cell_type": "code",
   "execution_count": 52,
   "metadata": {},
   "outputs": [
    {
     "data": {
      "text/plain": [
       "(42, 7)"
      ]
     },
     "execution_count": 52,
     "metadata": {},
     "output_type": "execute_result"
    }
   ],
   "source": [
    "df[df.flyer.str.contains('INDEC', na=False)].shape"
   ]
  },
  {
   "cell_type": "code",
   "execution_count": 32,
   "metadata": {},
   "outputs": [
    {
     "data": {
      "text/plain": [
       "(9, 7)"
      ]
     },
     "execution_count": 32,
     "metadata": {},
     "output_type": "execute_result"
    }
   ],
   "source": [
    "df[df.flyer.str.contains('FMI|FONDO', na=False)].shape"
   ]
  },
  {
   "cell_type": "code",
   "execution_count": 33,
   "metadata": {},
   "outputs": [
    {
     "data": {
      "text/plain": [
       "(9, 7)"
      ]
     },
     "execution_count": 33,
     "metadata": {},
     "output_type": "execute_result"
    }
   ],
   "source": [
    "df[df.flyer.str.contains('SALARIO|OBRER|TRABAJA', na=False)].shape"
   ]
  },
  {
   "cell_type": "markdown",
   "metadata": {},
   "source": [
    "### Corpus (Body)\n",
    "Get the body of those news which cover topics about inflation and the rate of exchange"
   ]
  },
  {
   "cell_type": "code",
   "execution_count": 53,
   "metadata": {},
   "outputs": [],
   "source": [
    "df_inflation = df.loc[df.flyer.str.contains('INFLA|INDEC|SUBA|PRECIO', na=False)]"
   ]
  },
  {
   "cell_type": "code",
   "execution_count": 54,
   "metadata": {},
   "outputs": [
    {
     "data": {
      "text/html": [
       "<div>\n",
       "<style scoped>\n",
       "    .dataframe tbody tr th:only-of-type {\n",
       "        vertical-align: middle;\n",
       "    }\n",
       "\n",
       "    .dataframe tbody tr th {\n",
       "        vertical-align: top;\n",
       "    }\n",
       "\n",
       "    .dataframe thead th {\n",
       "        text-align: right;\n",
       "    }\n",
       "</style>\n",
       "<table border=\"1\" class=\"dataframe\">\n",
       "  <thead>\n",
       "    <tr style=\"text-align: right;\">\n",
       "      <th></th>\n",
       "      <th>Unnamed: 0</th>\n",
       "      <th>date</th>\n",
       "      <th>flyer</th>\n",
       "      <th>lead</th>\n",
       "      <th>headline</th>\n",
       "      <th>body</th>\n",
       "      <th>url</th>\n",
       "    </tr>\n",
       "  </thead>\n",
       "  <tbody>\n",
       "    <tr>\n",
       "      <th>63</th>\n",
       "      <td>63</td>\n",
       "      <td>\\nMartes 1ro de diciembre</td>\n",
       "      <td>INFLACIÓN</td>\n",
       "      <td>Las variaciones podrían alcanzar un 4 % entre ...</td>\n",
       "      <td>Ante el aumento de impuestos a combustibles se...</td>\n",
       "      <td>El poder ejecutivo definió dos aumentos en los...</td>\n",
       "      <td>https://www.laizquierdadiario.com/Economia/Ant...</td>\n",
       "    </tr>\n",
       "    <tr>\n",
       "      <th>76</th>\n",
       "      <td>76</td>\n",
       "      <td>\\nMartes 24 de noviembre</td>\n",
       "      <td>INFORME INDEC</td>\n",
       "      <td>Las exportaciones se derrumbaron un 21,6 % res...</td>\n",
       "      <td>Fuerte caída de las exportaciones en octubre</td>\n",
       "      <td>El Indec informó que en octubre de 2020 las ex...</td>\n",
       "      <td>https://www.laizquierdadiario.com/Economia/Fue...</td>\n",
       "    </tr>\n",
       "    <tr>\n",
       "      <th>78</th>\n",
       "      <td>78</td>\n",
       "      <td>\\nMartes 24 de noviembre</td>\n",
       "      <td>INFORME INDEC</td>\n",
       "      <td>El Estimador Mensual de la Actividad Económica...</td>\n",
       "      <td>La economía se desplomó un 6,9 % en septiembre</td>\n",
       "      <td>El Estimador Mensual de la Actividad Económica...</td>\n",
       "      <td>https://www.laizquierdadiario.com/Economia/La-...</td>\n",
       "    </tr>\n",
       "    <tr>\n",
       "      <th>81</th>\n",
       "      <td>81</td>\n",
       "      <td>\\nLunes 23 de noviembre</td>\n",
       "      <td>INFLACIÓN</td>\n",
       "      <td>Será de un 7% y se aplicará a las marcas que f...</td>\n",
       "      <td>Cigarrillos cada vez más caros: aumentan un 7 %</td>\n",
       "      <td>Se trata del mismo aumento que aplicó Massalin...</td>\n",
       "      <td>https://www.laizquierdadiario.com/Economia/Otr...</td>\n",
       "    </tr>\n",
       "    <tr>\n",
       "      <th>83</th>\n",
       "      <td>83</td>\n",
       "      <td>\\nLunes 23 de noviembre</td>\n",
       "      <td>INFLACION</td>\n",
       "      <td>El resto de las cadenas ajustarán sus valores ...</td>\n",
       "      <td>Shell aumentó sus combustibles siguiendo el al...</td>\n",
       "      <td>La petrolera Raizen, dueña de la marca Shell, ...</td>\n",
       "      <td>https://www.laizquierdadiario.com/Economia/She...</td>\n",
       "    </tr>\n",
       "    <tr>\n",
       "      <th>86</th>\n",
       "      <td>86</td>\n",
       "      <td>\\nLunes 23 de noviembre</td>\n",
       "      <td>TARIFAS E INFLACIÓN</td>\n",
       "      <td>Es de un 2,5 % a partir de las 0 de hoy. Desde...</td>\n",
       "      <td>Ajuste por “goteo”: YPF aumentó otra vez el pr...</td>\n",
       "      <td>Los precios de los combustibles comercializado...</td>\n",
       "      <td>https://www.laizquierdadiario.com/Economia/Aju...</td>\n",
       "    </tr>\n",
       "    <tr>\n",
       "      <th>91</th>\n",
       "      <td>91</td>\n",
       "      <td>\\nViernes 20 de noviembre</td>\n",
       "      <td>PRECIOS</td>\n",
       "      <td>El poder de compra del salario cae con la suba...</td>\n",
       "      <td>Precios por las nubes, salarios por el piso</td>\n",
       "      <td>¿Cuántos días te dura el salario del mes? Segu...</td>\n",
       "      <td>https://www.laizquierdadiario.com/Economia/Pre...</td>\n",
       "    </tr>\n",
       "    <tr>\n",
       "      <th>96</th>\n",
       "      <td>96</td>\n",
       "      <td>\\nJueves 19 de noviembre</td>\n",
       "      <td>ESTIMACIÓN JUNTA INTERNA ATE INDEC</td>\n",
       "      <td>Es el monto de una canasta de consumos mínimos...</td>\n",
       "      <td>El salario debería ser de $ 76.500 como mínimo</td>\n",
       "      <td>La Junta Interna de ATE Indec calculó la canas...</td>\n",
       "      <td>https://www.laizquierdadiario.com/Economia/El-...</td>\n",
       "    </tr>\n",
       "    <tr>\n",
       "      <th>97</th>\n",
       "      <td>97</td>\n",
       "      <td>\\nJueves 19 de noviembre</td>\n",
       "      <td>INFORME INDEC</td>\n",
       "      <td>Es nivel más alto en lo que va del año y pone ...</td>\n",
       "      <td>Los precios mayoristas de octubre subieron al ...</td>\n",
       "      <td>El Indec informó este jueves que el Índice de ...</td>\n",
       "      <td>https://www.laizquierdadiario.com/Economia/Los...</td>\n",
       "    </tr>\n",
       "    <tr>\n",
       "      <th>103</th>\n",
       "      <td>103</td>\n",
       "      <td>\\nMartes 17 de noviembre</td>\n",
       "      <td>INFORME INDEC</td>\n",
       "      <td>El Indec informó que la Canasta Básica Total, ...</td>\n",
       "      <td>Imposible llegar a fin de mes: el costo de vid...</td>\n",
       "      <td>El Indec informó este martes que la Canasta Bá...</td>\n",
       "      <td>https://www.laizquierdadiario.com/Economia/Imp...</td>\n",
       "    </tr>\n",
       "    <tr>\n",
       "      <th>122</th>\n",
       "      <td>122</td>\n",
       "      <td>\\nViernes 13 de noviembre</td>\n",
       "      <td>SUBA DE PRECIOS</td>\n",
       "      <td>Mientras el Gobierno provincial se resiste a l...</td>\n",
       "      <td>La inflación en Mendoza registró su número más...</td>\n",
       "      <td>Este jueves la Dirección de Estadísticas e Inv...</td>\n",
       "      <td>https://www.laizquierdadiario.com/Economia/La-...</td>\n",
       "    </tr>\n",
       "    <tr>\n",
       "      <th>125</th>\n",
       "      <td>125</td>\n",
       "      <td>\\nJueves 12 de noviembre</td>\n",
       "      <td>INFORME INDEC</td>\n",
       "      <td>Es el registro más alto del año. En lo que va ...</td>\n",
       "      <td>Se acelera la inflación: alimentos y ropa, lo ...</td>\n",
       "      <td>La suba de precios no se detiene. Según anunci...</td>\n",
       "      <td>https://www.laizquierdadiario.com/Economia/La-...</td>\n",
       "    </tr>\n",
       "    <tr>\n",
       "      <th>155</th>\n",
       "      <td>155</td>\n",
       "      <td>\\nJueves 5 de noviembre</td>\n",
       "      <td>INFORME INDEC</td>\n",
       "      <td>La construcción se desplomó 3,9 % en septiembr...</td>\n",
       "      <td>La construcción cayó en septiembre, pero la in...</td>\n",
       "      <td>La construcción en septiembre tuvo una baja de...</td>\n",
       "      <td>https://www.laizquierdadiario.com/Economia/La-...</td>\n",
       "    </tr>\n",
       "    <tr>\n",
       "      <th>175</th>\n",
       "      <td>175</td>\n",
       "      <td>\\nJueves 29 de octubre</td>\n",
       "      <td>INFORME INDEC</td>\n",
       "      <td>El Indec publicó el índice de salarios de agos...</td>\n",
       "      <td>Los salarios perdieron hasta un 9 % en un año</td>\n",
       "      <td>Los salarios pierden ante la inflación. El Ind...</td>\n",
       "      <td>https://www.laizquierdadiario.com/Economia/Los...</td>\n",
       "    </tr>\n",
       "    <tr>\n",
       "      <th>196</th>\n",
       "      <td>196</td>\n",
       "      <td>\\nViernes 23 de octubre</td>\n",
       "      <td>ESTIMACIÓN JUNTA INTERNA ATE INDEC</td>\n",
       "      <td>Los trabajadores del Indec calcularon una cana...</td>\n",
       "      <td>El salario debería ser de $ 73.470 como mínimo</td>\n",
       "      <td>¿Cuánto debería ser el salario como mínimo? la...</td>\n",
       "      <td>https://www.laizquierdadiario.com/Economia/El-...</td>\n",
       "    </tr>\n",
       "    <tr>\n",
       "      <th>204</th>\n",
       "      <td>204</td>\n",
       "      <td>\\nJueves 22 de octubre</td>\n",
       "      <td>INFORME INDEC</td>\n",
       "      <td>En los primeros ocho meses del año la economía...</td>\n",
       "      <td>Crisis: la actividad económica cayó 11,6 % en ...</td>\n",
       "      <td>El Indec informó que el Estimador mensual de a...</td>\n",
       "      <td>https://www.laizquierdadiario.com/Economia/Cri...</td>\n",
       "    </tr>\n",
       "    <tr>\n",
       "      <th>208</th>\n",
       "      <td>208</td>\n",
       "      <td>\\nMiércoles 21 de octubre</td>\n",
       "      <td>INDEC</td>\n",
       "      <td>Mientras los materiales para la construcción c...</td>\n",
       "      <td>Los precios mayoristas aumentaron 3,7 % en sep...</td>\n",
       "      <td>Este miércoles el Indec publicó el índice de p...</td>\n",
       "      <td>https://www.laizquierdadiario.com/Economia/Los...</td>\n",
       "    </tr>\n",
       "    <tr>\n",
       "      <th>212</th>\n",
       "      <td>212</td>\n",
       "      <td>\\nMartes 20 de octubre</td>\n",
       "      <td>INFORME INDEC</td>\n",
       "      <td>El Indec informó que la canasta de pobreza fue...</td>\n",
       "      <td>Otro golpe al bolsillo: el costo de vida subió...</td>\n",
       "      <td>El Indec publicó que la canasta de pobreza fue...</td>\n",
       "      <td>https://www.laizquierdadiario.com/Economia/Otr...</td>\n",
       "    </tr>\n",
       "    <tr>\n",
       "      <th>228</th>\n",
       "      <td>228</td>\n",
       "      <td>\\nJueves 15 de octubre</td>\n",
       "      <td>INFORME INDEC</td>\n",
       "      <td>En el primer trimestre del año se registraron ...</td>\n",
       "      <td>¿Prohibición de despidos?: se perdieron 3.757....</td>\n",
       "      <td>El Indec confirmó que durante el segundo trime...</td>\n",
       "      <td>https://www.laizquierdadiario.com/Economia/Pro...</td>\n",
       "    </tr>\n",
       "    <tr>\n",
       "      <th>233</th>\n",
       "      <td>233</td>\n",
       "      <td>\\nMiércoles 14 de octubre</td>\n",
       "      <td>INFORME INDEC</td>\n",
       "      <td>El Indec informó que pese a la profunda recesi...</td>\n",
       "      <td>Inflación en ascenso: en septiembre fue de 2,8...</td>\n",
       "      <td>A pesar del contexto recesivo, este miércoles ...</td>\n",
       "      <td>https://www.laizquierdadiario.com/Economia/Inf...</td>\n",
       "    </tr>\n",
       "    <tr>\n",
       "      <th>237</th>\n",
       "      <td>237</td>\n",
       "      <td>\\nMartes 13 de octubre</td>\n",
       "      <td>INFLACIÓN</td>\n",
       "      <td>La Federación Argentina de la Industria del Pa...</td>\n",
       "      <td>Golpe al bolsillo: el pan aumenta un 10 %</td>\n",
       "      <td>La Federación Argentina de la Industria del Pa...</td>\n",
       "      <td>https://www.laizquierdadiario.com/Economia/Gol...</td>\n",
       "    </tr>\n",
       "    <tr>\n",
       "      <th>252</th>\n",
       "      <td>252</td>\n",
       "      <td>\\nMiércoles 7 de octubre</td>\n",
       "      <td>INFORME INDEC</td>\n",
       "      <td>El Indec confirmó que la caída acumulada en la...</td>\n",
       "      <td>Crisis: en agosto la industria se desplomó un ...</td>\n",
       "      <td>Este miércoles el organismo nacional de estadí...</td>\n",
       "      <td>https://www.laizquierdadiario.com/Economia/Cri...</td>\n",
       "    </tr>\n",
       "    <tr>\n",
       "      <th>267</th>\n",
       "      <td>267</td>\n",
       "      <td>\\nViernes 2 de octubre</td>\n",
       "      <td>INFORME DEL INDEC</td>\n",
       "      <td>El informe del Indec reveló un fuerte aumento ...</td>\n",
       "      <td>Cuatro de cada diez mendocinos están por debaj...</td>\n",
       "      <td>La crisis sanitaria, económica y social se hac...</td>\n",
       "      <td>https://www.laizquierdadiario.com/Economia/Cua...</td>\n",
       "    </tr>\n",
       "    <tr>\n",
       "      <th>268</th>\n",
       "      <td>268</td>\n",
       "      <td>\\nJueves 1ro de octubre</td>\n",
       "      <td>JUNTA INTERNA ATE INDEC</td>\n",
       "      <td>Es el monto de una canasta de consumos mínimos...</td>\n",
       "      <td>Ningún trabajador debería ganar menos de $ 72.700</td>\n",
       "      <td>La Junta Interna de ATE Indec estimó la canast...</td>\n",
       "      <td>https://www.laizquierdadiario.com/Economia/Nin...</td>\n",
       "    </tr>\n",
       "    <tr>\n",
       "      <th>274</th>\n",
       "      <td>274</td>\n",
       "      <td>\\nMiércoles 30 de septiembre</td>\n",
       "      <td>INFORME INDEC</td>\n",
       "      <td>Los mayores niveles se registraron entre los m...</td>\n",
       "      <td>Preocupante: subió la pobreza a 40,9 % y alcan...</td>\n",
       "      <td>Los datos publicados por el organismo nacional...</td>\n",
       "      <td>https://www.laizquierdadiario.com/Economia/Pre...</td>\n",
       "    </tr>\n",
       "    <tr>\n",
       "      <th>278</th>\n",
       "      <td>278</td>\n",
       "      <td>\\nMartes 29 de septiembre</td>\n",
       "      <td>INFORME INDEC</td>\n",
       "      <td>El 95 % de la deuda externa a valor nominal es...</td>\n",
       "      <td>La deuda externa alcanzó los U$S 270.825 millo...</td>\n",
       "      <td>El Indec publicó este martes que la deuda exte...</td>\n",
       "      <td>https://www.laizquierdadiario.com/Economia/La-...</td>\n",
       "    </tr>\n",
       "    <tr>\n",
       "      <th>289</th>\n",
       "      <td>289</td>\n",
       "      <td>\\nViernes 25 de septiembre</td>\n",
       "      <td>LAS EMPRESAS PRESIONAN POR SUBA DE PRECIOS</td>\n",
       "      <td>Las cámaras de supermercados denuncian que rec...</td>\n",
       "      <td>Precios Máximos: los supermercados reciben un ...</td>\n",
       "      <td>Directivos de cámaras de supermercados denunci...</td>\n",
       "      <td>https://www.laizquierdadiario.com/Economia/Pre...</td>\n",
       "    </tr>\n",
       "    <tr>\n",
       "      <th>292</th>\n",
       "      <td>292</td>\n",
       "      <td>\\nJueves 24 de septiembre</td>\n",
       "      <td>INFORME INDEC</td>\n",
       "      <td>Según publicó el Indec, el 10 % más pobre tuvo...</td>\n",
       "      <td>Más desigualdad: los más ricos ganaron 25 vece...</td>\n",
       "      <td>El informe del Indec de distribución del ingre...</td>\n",
       "      <td>https://www.laizquierdadiario.com/Economia/Mas...</td>\n",
       "    </tr>\n",
       "    <tr>\n",
       "      <th>297</th>\n",
       "      <td>297</td>\n",
       "      <td>\\nMiércoles 23 de septiembre</td>\n",
       "      <td>INDEC</td>\n",
       "      <td>En el segundo trimestre del año se destruyeron...</td>\n",
       "      <td>Estadística engañosa: ¿por qué caen el empleo ...</td>\n",
       "      <td>En su último informe sobre Mercado de Trabajo ...</td>\n",
       "      <td>https://www.laizquierdadiario.com/Economia/Est...</td>\n",
       "    </tr>\n",
       "    <tr>\n",
       "      <th>299</th>\n",
       "      <td>299</td>\n",
       "      <td>\\nMiércoles 23 de septiembre</td>\n",
       "      <td>INFORME INDEC</td>\n",
       "      <td>El Indec confirmó que la tasa de desempleo sub...</td>\n",
       "      <td>Grave: el desempleo llegó al 13,1 % y es el má...</td>\n",
       "      <td>La medición del Indec para el segundo trimestr...</td>\n",
       "      <td>https://www.laizquierdadiario.com/Economia/Gra...</td>\n",
       "    </tr>\n",
       "    <tr>\n",
       "      <th>303</th>\n",
       "      <td>303</td>\n",
       "      <td>\\nMartes 22 de septiembre</td>\n",
       "      <td>INFORME INDEC</td>\n",
       "      <td>Es la caída del PBI en comparación al mismo pe...</td>\n",
       "      <td>Crisis: la economía se desplomó un 19,1 % en e...</td>\n",
       "      <td>El Producto Bruto Interno (PBI) se derrumbó un...</td>\n",
       "      <td>https://www.laizquierdadiario.com/Economia/Cri...</td>\n",
       "    </tr>\n",
       "    <tr>\n",
       "      <th>310</th>\n",
       "      <td>310</td>\n",
       "      <td>\\nSábado 19 de septiembre</td>\n",
       "      <td>NUEVO AJUSTE DE PRECIOS</td>\n",
       "      <td>A partir de las cero horas del sábado 19 de se...</td>\n",
       "      <td>Golpe al bolsillo: YPF sube los precios de los...</td>\n",
       "      <td>YPF aumenta los combustibles un 3,5 % en prome...</td>\n",
       "      <td>https://www.laizquierdadiario.com/Economia/Gol...</td>\n",
       "    </tr>\n",
       "    <tr>\n",
       "      <th>315</th>\n",
       "      <td>315</td>\n",
       "      <td>\\nJueves 17 de septiembre</td>\n",
       "      <td>INFORME INDEC</td>\n",
       "      <td>En agosto subió 2,1 %, y la canasta básica ali...</td>\n",
       "      <td>El costo de vida aumentó 37,8 % en un año</td>\n",
       "      <td>La Canasta Básica Total (CBT) registró en agos...</td>\n",
       "      <td>https://www.laizquierdadiario.com/Economia/El-...</td>\n",
       "    </tr>\n",
       "    <tr>\n",
       "      <th>326</th>\n",
       "      <td>326</td>\n",
       "      <td>\\nLunes 14 de septiembre</td>\n",
       "      <td>PRECIOS</td>\n",
       "      <td>Daniel Funes de Rioja, titular de la Coordinad...</td>\n",
       "      <td>Los empresarios de la alimentación quieren aum...</td>\n",
       "      <td>En una entrevista en Tiempo Argentino el empre...</td>\n",
       "      <td>https://www.laizquierdadiario.com/Economia/Los...</td>\n",
       "    </tr>\n",
       "    <tr>\n",
       "      <th>365</th>\n",
       "      <td>365</td>\n",
       "      <td>\\nMartes 25 de agosto</td>\n",
       "      <td>ESTIMACIÓN JUNTA INTERNA ATE INDEC</td>\n",
       "      <td>Los trabajadores del Indec calcularon una cana...</td>\n",
       "      <td>El salario debería ser de $ 70.000 como mínimo</td>\n",
       "      <td>¿Cuánto debería ser el salario como mínimo? la...</td>\n",
       "      <td>https://www.laizquierdadiario.com/Economia/El-...</td>\n",
       "    </tr>\n",
       "    <tr>\n",
       "      <th>373</th>\n",
       "      <td>373</td>\n",
       "      <td>\\nViernes 21 de agosto</td>\n",
       "      <td>INFLACIÓN</td>\n",
       "      <td>Una familia mendocina necesitó casi $ 40.000 e...</td>\n",
       "      <td>La odisea de llegar a fin de mes en Mendoza: s...</td>\n",
       "      <td>Este jueves, la Dirección de Estadísticas e In...</td>\n",
       "      <td>https://www.laizquierdadiario.com/Economia/La-...</td>\n",
       "    </tr>\n",
       "    <tr>\n",
       "      <th>381</th>\n",
       "      <td>381</td>\n",
       "      <td>\\nMartes 18 de agosto</td>\n",
       "      <td>INFORME INDEC</td>\n",
       "      <td>La suba de precios acumula un incremento de 10...</td>\n",
       "      <td>La inflación mayorista aumentó 3,5 % en julio</td>\n",
       "      <td>El Indec publicó este martes que los precios m...</td>\n",
       "      <td>https://www.laizquierdadiario.com/Economia/La-...</td>\n",
       "    </tr>\n",
       "    <tr>\n",
       "      <th>450</th>\n",
       "      <td>450</td>\n",
       "      <td>\\nJueves 23 de julio</td>\n",
       "      <td>INFLACIÓN SIN CONTROL</td>\n",
       "      <td>Una familia mendocina necesitó en Junio $ 38.7...</td>\n",
       "      <td>La canasta básica en Mendoza aumentó mas de $ ...</td>\n",
       "      <td>Este miércoles, la Dirección de Estadísticas d...</td>\n",
       "      <td>https://www.laizquierdadiario.com/Economia/La-...</td>\n",
       "    </tr>\n",
       "    <tr>\n",
       "      <th>470</th>\n",
       "      <td>470</td>\n",
       "      <td>\\nJueves 16 de julio</td>\n",
       "      <td>INDEC</td>\n",
       "      <td>NaN</td>\n",
       "      <td>Precios sin cuarentena: el índice mayorista su...</td>\n",
       "      <td>Los precios mayoristas subieron en junio 3,7 %...</td>\n",
       "      <td>https://www.laizquierdadiario.com/Economia/Pre...</td>\n",
       "    </tr>\n",
       "    <tr>\n",
       "      <th>475</th>\n",
       "      <td>475</td>\n",
       "      <td>\\nMiércoles 15 de julio</td>\n",
       "      <td>PRECIOS EN CUARENTENA</td>\n",
       "      <td>Acumula un 42,8% en los últimos 12 meses, muy ...</td>\n",
       "      <td>Golpe al bolsillo: la inflación en la primera ...</td>\n",
       "      <td>El INDEC presentó este miércoles los datos de ...</td>\n",
       "      <td>https://www.laizquierdadiario.com/Economia/Gol...</td>\n",
       "    </tr>\n",
       "    <tr>\n",
       "      <th>482</th>\n",
       "      <td>482</td>\n",
       "      <td>\\nMartes 14 de julio</td>\n",
       "      <td>INFORME INDEC</td>\n",
       "      <td>El Indec informó una caída de 15,6 puntos porc...</td>\n",
       "      <td>La industria utilizó en mayo solo el 46,4 % de...</td>\n",
       "      <td>Este martes el Indec informó que en mayo pasad...</td>\n",
       "      <td>https://www.laizquierdadiario.com/Economia/La-...</td>\n",
       "    </tr>\n",
       "    <tr>\n",
       "      <th>510</th>\n",
       "      <td>510</td>\n",
       "      <td>\\nViernes 3 de julio</td>\n",
       "      <td>INDEC</td>\n",
       "      <td>En abril el poder de compra del salario cayó t...</td>\n",
       "      <td>Cuarentena con ajuste: en abril cayó fuerte el...</td>\n",
       "      <td>El jueves el Instituto Nacional de Estadística...</td>\n",
       "      <td>https://www.laizquierdadiario.com/Economia/Cua...</td>\n",
       "    </tr>\n",
       "    <tr>\n",
       "      <th>534</th>\n",
       "      <td>534</td>\n",
       "      <td>\\nMartes 23 de junio</td>\n",
       "      <td>INFORME INDEC</td>\n",
       "      <td>El Producto Bruto Interno (PBI) se contrajo en...</td>\n",
       "      <td>Antes de la cuarentena, la economía se desplom...</td>\n",
       "      <td>El Producto Bruto Interno (PBI) se derrumbó un...</td>\n",
       "      <td>https://www.laizquierdadiario.com/Economia/Ant...</td>\n",
       "    </tr>\n",
       "    <tr>\n",
       "      <th>535</th>\n",
       "      <td>535</td>\n",
       "      <td>\\nMartes 23 de junio</td>\n",
       "      <td>SOBRE EL INFORME INDEC</td>\n",
       "      <td>El coordinador del Observatorio del Derecho So...</td>\n",
       "      <td>Desocupación: Luis Campos advierte que \"la sit...</td>\n",
       "      <td>El Indec publicó este martes que la desocupaci...</td>\n",
       "      <td>https://www.laizquierdadiario.com/Economia/Des...</td>\n",
       "    </tr>\n",
       "    <tr>\n",
       "      <th>538</th>\n",
       "      <td>538</td>\n",
       "      <td>\\nMartes 23 de junio</td>\n",
       "      <td>INFORME INDEC</td>\n",
       "      <td>El Indec publicó el desempleo del primer trime...</td>\n",
       "      <td>El desempleo llegó a 10,4 %: previo a la cuare...</td>\n",
       "      <td>El Indec dio a conocer que la desocupación vol...</td>\n",
       "      <td>https://www.laizquierdadiario.com/Economia/El-...</td>\n",
       "    </tr>\n",
       "    <tr>\n",
       "      <th>558</th>\n",
       "      <td>558</td>\n",
       "      <td>\\nViernes 12 de junio</td>\n",
       "      <td>INFLACION SIN TREGUA</td>\n",
       "      <td>La suba generalizada de precios no da tregua e...</td>\n",
       "      <td>La inflación acumulada a mayo es del 13,3% en ...</td>\n",
       "      <td>El informe de Precios al Consumidor elaborado ...</td>\n",
       "      <td>https://www.laizquierdadiario.com/Economia/La-...</td>\n",
       "    </tr>\n",
       "    <tr>\n",
       "      <th>565</th>\n",
       "      <td>565</td>\n",
       "      <td>\\nMiércoles 10 de junio</td>\n",
       "      <td>INDEC</td>\n",
       "      <td>El dato surge de la caída al 42% de utilizació...</td>\n",
       "      <td>Cuarentena y crisis: en abril la industria con...</td>\n",
       "      <td>El INDEC informó que en abril, el primer mes c...</td>\n",
       "      <td>https://www.laizquierdadiario.com/Economia/Cua...</td>\n",
       "    </tr>\n",
       "    <tr>\n",
       "      <th>585</th>\n",
       "      <td>585</td>\n",
       "      <td>\\nJueves 4 de junio</td>\n",
       "      <td>INDEC</td>\n",
       "      <td>NaN</td>\n",
       "      <td>La construcción y la industria se desplomaron ...</td>\n",
       "      <td>La actividad industrial retrocedió un 33,5% du...</td>\n",
       "      <td>https://www.laizquierdadiario.com/Economia/La-...</td>\n",
       "    </tr>\n",
       "    <tr>\n",
       "      <th>604</th>\n",
       "      <td>604</td>\n",
       "      <td>\\nMiércoles 27 de mayo</td>\n",
       "      <td>INFORME INDEC</td>\n",
       "      <td>Las exportaciones bajaron casi un 19% y las im...</td>\n",
       "      <td>Efecto pandemia: el intercambio comercial se h...</td>\n",
       "      <td>Durante el mes de abril, según el informe pres...</td>\n",
       "      <td>https://www.laizquierdadiario.com/Economia/Efe...</td>\n",
       "    </tr>\n",
       "  </tbody>\n",
       "</table>\n",
       "</div>"
      ],
      "text/plain": [
       "     Unnamed: 0                          date  \\\n",
       "63           63     \\nMartes 1ro de diciembre   \n",
       "76           76      \\nMartes 24 de noviembre   \n",
       "78           78      \\nMartes 24 de noviembre   \n",
       "81           81       \\nLunes 23 de noviembre   \n",
       "83           83       \\nLunes 23 de noviembre   \n",
       "86           86       \\nLunes 23 de noviembre   \n",
       "91           91     \\nViernes 20 de noviembre   \n",
       "96           96      \\nJueves 19 de noviembre   \n",
       "97           97      \\nJueves 19 de noviembre   \n",
       "103         103      \\nMartes 17 de noviembre   \n",
       "122         122     \\nViernes 13 de noviembre   \n",
       "125         125      \\nJueves 12 de noviembre   \n",
       "155         155       \\nJueves 5 de noviembre   \n",
       "175         175        \\nJueves 29 de octubre   \n",
       "196         196       \\nViernes 23 de octubre   \n",
       "204         204        \\nJueves 22 de octubre   \n",
       "208         208     \\nMiércoles 21 de octubre   \n",
       "212         212        \\nMartes 20 de octubre   \n",
       "228         228        \\nJueves 15 de octubre   \n",
       "233         233     \\nMiércoles 14 de octubre   \n",
       "237         237        \\nMartes 13 de octubre   \n",
       "252         252      \\nMiércoles 7 de octubre   \n",
       "267         267        \\nViernes 2 de octubre   \n",
       "268         268       \\nJueves 1ro de octubre   \n",
       "274         274  \\nMiércoles 30 de septiembre   \n",
       "278         278     \\nMartes 29 de septiembre   \n",
       "289         289    \\nViernes 25 de septiembre   \n",
       "292         292     \\nJueves 24 de septiembre   \n",
       "297         297  \\nMiércoles 23 de septiembre   \n",
       "299         299  \\nMiércoles 23 de septiembre   \n",
       "303         303     \\nMartes 22 de septiembre   \n",
       "310         310     \\nSábado 19 de septiembre   \n",
       "315         315     \\nJueves 17 de septiembre   \n",
       "326         326      \\nLunes 14 de septiembre   \n",
       "365         365         \\nMartes 25 de agosto   \n",
       "373         373        \\nViernes 21 de agosto   \n",
       "381         381         \\nMartes 18 de agosto   \n",
       "450         450          \\nJueves 23 de julio   \n",
       "470         470          \\nJueves 16 de julio   \n",
       "475         475       \\nMiércoles 15 de julio   \n",
       "482         482          \\nMartes 14 de julio   \n",
       "510         510          \\nViernes 3 de julio   \n",
       "534         534          \\nMartes 23 de junio   \n",
       "535         535          \\nMartes 23 de junio   \n",
       "538         538          \\nMartes 23 de junio   \n",
       "558         558         \\nViernes 12 de junio   \n",
       "565         565       \\nMiércoles 10 de junio   \n",
       "585         585           \\nJueves 4 de junio   \n",
       "604         604        \\nMiércoles 27 de mayo   \n",
       "\n",
       "                                          flyer  \\\n",
       "63                                    INFLACIÓN   \n",
       "76                                INFORME INDEC   \n",
       "78                                INFORME INDEC   \n",
       "81                                    INFLACIÓN   \n",
       "83                                    INFLACION   \n",
       "86                          TARIFAS E INFLACIÓN   \n",
       "91                                      PRECIOS   \n",
       "96           ESTIMACIÓN JUNTA INTERNA ATE INDEC   \n",
       "97                                INFORME INDEC   \n",
       "103                               INFORME INDEC   \n",
       "122                             SUBA DE PRECIOS   \n",
       "125                               INFORME INDEC   \n",
       "155                               INFORME INDEC   \n",
       "175                               INFORME INDEC   \n",
       "196          ESTIMACIÓN JUNTA INTERNA ATE INDEC   \n",
       "204                              INFORME INDEC    \n",
       "208                                       INDEC   \n",
       "212                               INFORME INDEC   \n",
       "228                               INFORME INDEC   \n",
       "233                               INFORME INDEC   \n",
       "237                                   INFLACIÓN   \n",
       "252                               INFORME INDEC   \n",
       "267                           INFORME DEL INDEC   \n",
       "268                     JUNTA INTERNA ATE INDEC   \n",
       "274                               INFORME INDEC   \n",
       "278                               INFORME INDEC   \n",
       "289  LAS EMPRESAS PRESIONAN POR SUBA DE PRECIOS   \n",
       "292                               INFORME INDEC   \n",
       "297                                       INDEC   \n",
       "299                               INFORME INDEC   \n",
       "303                               INFORME INDEC   \n",
       "310                     NUEVO AJUSTE DE PRECIOS   \n",
       "315                               INFORME INDEC   \n",
       "326                                     PRECIOS   \n",
       "365          ESTIMACIÓN JUNTA INTERNA ATE INDEC   \n",
       "373                                   INFLACIÓN   \n",
       "381                               INFORME INDEC   \n",
       "450                       INFLACIÓN SIN CONTROL   \n",
       "470                                       INDEC   \n",
       "475                       PRECIOS EN CUARENTENA   \n",
       "482                               INFORME INDEC   \n",
       "510                                       INDEC   \n",
       "534                               INFORME INDEC   \n",
       "535                     SOBRE EL INFORME INDEC    \n",
       "538                               INFORME INDEC   \n",
       "558                        INFLACION SIN TREGUA   \n",
       "565                                       INDEC   \n",
       "585                                       INDEC   \n",
       "604                               INFORME INDEC   \n",
       "\n",
       "                                                  lead  \\\n",
       "63   Las variaciones podrían alcanzar un 4 % entre ...   \n",
       "76   Las exportaciones se derrumbaron un 21,6 % res...   \n",
       "78   El Estimador Mensual de la Actividad Económica...   \n",
       "81   Será de un 7% y se aplicará a las marcas que f...   \n",
       "83   El resto de las cadenas ajustarán sus valores ...   \n",
       "86   Es de un 2,5 % a partir de las 0 de hoy. Desde...   \n",
       "91   El poder de compra del salario cae con la suba...   \n",
       "96   Es el monto de una canasta de consumos mínimos...   \n",
       "97   Es nivel más alto en lo que va del año y pone ...   \n",
       "103  El Indec informó que la Canasta Básica Total, ...   \n",
       "122  Mientras el Gobierno provincial se resiste a l...   \n",
       "125  Es el registro más alto del año. En lo que va ...   \n",
       "155  La construcción se desplomó 3,9 % en septiembr...   \n",
       "175  El Indec publicó el índice de salarios de agos...   \n",
       "196  Los trabajadores del Indec calcularon una cana...   \n",
       "204  En los primeros ocho meses del año la economía...   \n",
       "208  Mientras los materiales para la construcción c...   \n",
       "212  El Indec informó que la canasta de pobreza fue...   \n",
       "228  En el primer trimestre del año se registraron ...   \n",
       "233  El Indec informó que pese a la profunda recesi...   \n",
       "237  La Federación Argentina de la Industria del Pa...   \n",
       "252  El Indec confirmó que la caída acumulada en la...   \n",
       "267  El informe del Indec reveló un fuerte aumento ...   \n",
       "268  Es el monto de una canasta de consumos mínimos...   \n",
       "274  Los mayores niveles se registraron entre los m...   \n",
       "278  El 95 % de la deuda externa a valor nominal es...   \n",
       "289  Las cámaras de supermercados denuncian que rec...   \n",
       "292  Según publicó el Indec, el 10 % más pobre tuvo...   \n",
       "297  En el segundo trimestre del año se destruyeron...   \n",
       "299  El Indec confirmó que la tasa de desempleo sub...   \n",
       "303  Es la caída del PBI en comparación al mismo pe...   \n",
       "310  A partir de las cero horas del sábado 19 de se...   \n",
       "315  En agosto subió 2,1 %, y la canasta básica ali...   \n",
       "326  Daniel Funes de Rioja, titular de la Coordinad...   \n",
       "365  Los trabajadores del Indec calcularon una cana...   \n",
       "373  Una familia mendocina necesitó casi $ 40.000 e...   \n",
       "381  La suba de precios acumula un incremento de 10...   \n",
       "450  Una familia mendocina necesitó en Junio $ 38.7...   \n",
       "470                                                NaN   \n",
       "475  Acumula un 42,8% en los últimos 12 meses, muy ...   \n",
       "482  El Indec informó una caída de 15,6 puntos porc...   \n",
       "510  En abril el poder de compra del salario cayó t...   \n",
       "534  El Producto Bruto Interno (PBI) se contrajo en...   \n",
       "535  El coordinador del Observatorio del Derecho So...   \n",
       "538  El Indec publicó el desempleo del primer trime...   \n",
       "558  La suba generalizada de precios no da tregua e...   \n",
       "565  El dato surge de la caída al 42% de utilizació...   \n",
       "585                                                NaN   \n",
       "604  Las exportaciones bajaron casi un 19% y las im...   \n",
       "\n",
       "                                              headline  \\\n",
       "63   Ante el aumento de impuestos a combustibles se...   \n",
       "76       Fuerte caída de las exportaciones en octubre    \n",
       "78      La economía se desplomó un 6,9 % en septiembre   \n",
       "81     Cigarrillos cada vez más caros: aumentan un 7 %   \n",
       "83   Shell aumentó sus combustibles siguiendo el al...   \n",
       "86   Ajuste por “goteo”: YPF aumentó otra vez el pr...   \n",
       "91         Precios por las nubes, salarios por el piso   \n",
       "96     El salario debería ser de $ 76.500 como mínimo    \n",
       "97   Los precios mayoristas de octubre subieron al ...   \n",
       "103  Imposible llegar a fin de mes: el costo de vid...   \n",
       "122  La inflación en Mendoza registró su número más...   \n",
       "125  Se acelera la inflación: alimentos y ropa, lo ...   \n",
       "155  La construcción cayó en septiembre, pero la in...   \n",
       "175      Los salarios perdieron hasta un 9 % en un año   \n",
       "196    El salario debería ser de $ 73.470 como mínimo    \n",
       "204  Crisis: la actividad económica cayó 11,6 % en ...   \n",
       "208  Los precios mayoristas aumentaron 3,7 % en sep...   \n",
       "212  Otro golpe al bolsillo: el costo de vida subió...   \n",
       "228  ¿Prohibición de despidos?: se perdieron 3.757....   \n",
       "233  Inflación en ascenso: en septiembre fue de 2,8...   \n",
       "237         Golpe al bolsillo: el pan aumenta un 10 %    \n",
       "252  Crisis: en agosto la industria se desplomó un ...   \n",
       "267  Cuatro de cada diez mendocinos están por debaj...   \n",
       "268  Ningún trabajador debería ganar menos de $ 72.700   \n",
       "274  Preocupante: subió la pobreza a 40,9 % y alcan...   \n",
       "278  La deuda externa alcanzó los U$S 270.825 millo...   \n",
       "289  Precios Máximos: los supermercados reciben un ...   \n",
       "292  Más desigualdad: los más ricos ganaron 25 vece...   \n",
       "297  Estadística engañosa: ¿por qué caen el empleo ...   \n",
       "299  Grave: el desempleo llegó al 13,1 % y es el má...   \n",
       "303  Crisis: la economía se desplomó un 19,1 % en e...   \n",
       "310  Golpe al bolsillo: YPF sube los precios de los...   \n",
       "315          El costo de vida aumentó 37,8 % en un año   \n",
       "326  Los empresarios de la alimentación quieren aum...   \n",
       "365     El salario debería ser de $ 70.000 como mínimo   \n",
       "373  La odisea de llegar a fin de mes en Mendoza: s...   \n",
       "381      La inflación mayorista aumentó 3,5 % en julio   \n",
       "450  La canasta básica en Mendoza aumentó mas de $ ...   \n",
       "470  Precios sin cuarentena: el índice mayorista su...   \n",
       "475  Golpe al bolsillo: la inflación en la primera ...   \n",
       "482  La industria utilizó en mayo solo el 46,4 % de...   \n",
       "510  Cuarentena con ajuste: en abril cayó fuerte el...   \n",
       "534  Antes de la cuarentena, la economía se desplom...   \n",
       "535  Desocupación: Luis Campos advierte que \"la sit...   \n",
       "538  El desempleo llegó a 10,4 %: previo a la cuare...   \n",
       "558  La inflación acumulada a mayo es del 13,3% en ...   \n",
       "565  Cuarentena y crisis: en abril la industria con...   \n",
       "585  La construcción y la industria se desplomaron ...   \n",
       "604  Efecto pandemia: el intercambio comercial se h...   \n",
       "\n",
       "                                                  body  \\\n",
       "63   El poder ejecutivo definió dos aumentos en los...   \n",
       "76   El Indec informó que en octubre de 2020 las ex...   \n",
       "78   El Estimador Mensual de la Actividad Económica...   \n",
       "81   Se trata del mismo aumento que aplicó Massalin...   \n",
       "83   La petrolera Raizen, dueña de la marca Shell, ...   \n",
       "86   Los precios de los combustibles comercializado...   \n",
       "91   ¿Cuántos días te dura el salario del mes? Segu...   \n",
       "96   La Junta Interna de ATE Indec calculó la canas...   \n",
       "97   El Indec informó este jueves que el Índice de ...   \n",
       "103  El Indec informó este martes que la Canasta Bá...   \n",
       "122  Este jueves la Dirección de Estadísticas e Inv...   \n",
       "125  La suba de precios no se detiene. Según anunci...   \n",
       "155  La construcción en septiembre tuvo una baja de...   \n",
       "175  Los salarios pierden ante la inflación. El Ind...   \n",
       "196  ¿Cuánto debería ser el salario como mínimo? la...   \n",
       "204  El Indec informó que el Estimador mensual de a...   \n",
       "208  Este miércoles el Indec publicó el índice de p...   \n",
       "212  El Indec publicó que la canasta de pobreza fue...   \n",
       "228  El Indec confirmó que durante el segundo trime...   \n",
       "233  A pesar del contexto recesivo, este miércoles ...   \n",
       "237  La Federación Argentina de la Industria del Pa...   \n",
       "252  Este miércoles el organismo nacional de estadí...   \n",
       "267  La crisis sanitaria, económica y social se hac...   \n",
       "268  La Junta Interna de ATE Indec estimó la canast...   \n",
       "274  Los datos publicados por el organismo nacional...   \n",
       "278  El Indec publicó este martes que la deuda exte...   \n",
       "289  Directivos de cámaras de supermercados denunci...   \n",
       "292  El informe del Indec de distribución del ingre...   \n",
       "297  En su último informe sobre Mercado de Trabajo ...   \n",
       "299  La medición del Indec para el segundo trimestr...   \n",
       "303  El Producto Bruto Interno (PBI) se derrumbó un...   \n",
       "310  YPF aumenta los combustibles un 3,5 % en prome...   \n",
       "315  La Canasta Básica Total (CBT) registró en agos...   \n",
       "326  En una entrevista en Tiempo Argentino el empre...   \n",
       "365  ¿Cuánto debería ser el salario como mínimo? la...   \n",
       "373  Este jueves, la Dirección de Estadísticas e In...   \n",
       "381  El Indec publicó este martes que los precios m...   \n",
       "450  Este miércoles, la Dirección de Estadísticas d...   \n",
       "470  Los precios mayoristas subieron en junio 3,7 %...   \n",
       "475  El INDEC presentó este miércoles los datos de ...   \n",
       "482  Este martes el Indec informó que en mayo pasad...   \n",
       "510  El jueves el Instituto Nacional de Estadística...   \n",
       "534  El Producto Bruto Interno (PBI) se derrumbó un...   \n",
       "535  El Indec publicó este martes que la desocupaci...   \n",
       "538  El Indec dio a conocer que la desocupación vol...   \n",
       "558  El informe de Precios al Consumidor elaborado ...   \n",
       "565  El INDEC informó que en abril, el primer mes c...   \n",
       "585  La actividad industrial retrocedió un 33,5% du...   \n",
       "604  Durante el mes de abril, según el informe pres...   \n",
       "\n",
       "                                                   url  \n",
       "63   https://www.laizquierdadiario.com/Economia/Ant...  \n",
       "76   https://www.laizquierdadiario.com/Economia/Fue...  \n",
       "78   https://www.laizquierdadiario.com/Economia/La-...  \n",
       "81   https://www.laizquierdadiario.com/Economia/Otr...  \n",
       "83   https://www.laizquierdadiario.com/Economia/She...  \n",
       "86   https://www.laizquierdadiario.com/Economia/Aju...  \n",
       "91   https://www.laizquierdadiario.com/Economia/Pre...  \n",
       "96   https://www.laizquierdadiario.com/Economia/El-...  \n",
       "97   https://www.laizquierdadiario.com/Economia/Los...  \n",
       "103  https://www.laizquierdadiario.com/Economia/Imp...  \n",
       "122  https://www.laizquierdadiario.com/Economia/La-...  \n",
       "125  https://www.laizquierdadiario.com/Economia/La-...  \n",
       "155  https://www.laizquierdadiario.com/Economia/La-...  \n",
       "175  https://www.laizquierdadiario.com/Economia/Los...  \n",
       "196  https://www.laizquierdadiario.com/Economia/El-...  \n",
       "204  https://www.laizquierdadiario.com/Economia/Cri...  \n",
       "208  https://www.laizquierdadiario.com/Economia/Los...  \n",
       "212  https://www.laizquierdadiario.com/Economia/Otr...  \n",
       "228  https://www.laizquierdadiario.com/Economia/Pro...  \n",
       "233  https://www.laizquierdadiario.com/Economia/Inf...  \n",
       "237  https://www.laizquierdadiario.com/Economia/Gol...  \n",
       "252  https://www.laizquierdadiario.com/Economia/Cri...  \n",
       "267  https://www.laizquierdadiario.com/Economia/Cua...  \n",
       "268  https://www.laizquierdadiario.com/Economia/Nin...  \n",
       "274  https://www.laizquierdadiario.com/Economia/Pre...  \n",
       "278  https://www.laizquierdadiario.com/Economia/La-...  \n",
       "289  https://www.laizquierdadiario.com/Economia/Pre...  \n",
       "292  https://www.laizquierdadiario.com/Economia/Mas...  \n",
       "297  https://www.laizquierdadiario.com/Economia/Est...  \n",
       "299  https://www.laizquierdadiario.com/Economia/Gra...  \n",
       "303  https://www.laizquierdadiario.com/Economia/Cri...  \n",
       "310  https://www.laizquierdadiario.com/Economia/Gol...  \n",
       "315  https://www.laizquierdadiario.com/Economia/El-...  \n",
       "326  https://www.laizquierdadiario.com/Economia/Los...  \n",
       "365  https://www.laizquierdadiario.com/Economia/El-...  \n",
       "373  https://www.laizquierdadiario.com/Economia/La-...  \n",
       "381  https://www.laizquierdadiario.com/Economia/La-...  \n",
       "450  https://www.laizquierdadiario.com/Economia/La-...  \n",
       "470  https://www.laizquierdadiario.com/Economia/Pre...  \n",
       "475  https://www.laizquierdadiario.com/Economia/Gol...  \n",
       "482  https://www.laizquierdadiario.com/Economia/La-...  \n",
       "510  https://www.laizquierdadiario.com/Economia/Cua...  \n",
       "534  https://www.laizquierdadiario.com/Economia/Ant...  \n",
       "535  https://www.laizquierdadiario.com/Economia/Des...  \n",
       "538  https://www.laizquierdadiario.com/Economia/El-...  \n",
       "558  https://www.laizquierdadiario.com/Economia/La-...  \n",
       "565  https://www.laizquierdadiario.com/Economia/Cua...  \n",
       "585  https://www.laizquierdadiario.com/Economia/La-...  \n",
       "604  https://www.laizquierdadiario.com/Economia/Efe...  "
      ]
     },
     "execution_count": 54,
     "metadata": {},
     "output_type": "execute_result"
    }
   ],
   "source": [
    "df_inflation[9:]"
   ]
  },
  {
   "cell_type": "code",
   "execution_count": 22,
   "metadata": {},
   "outputs": [],
   "source": [
    "df_exchange = df.loc[df.flyer.str.contains('BRECHA|CAMBI|RESERV', na=False), 'body'].values"
   ]
  },
  {
   "cell_type": "code",
   "execution_count": 23,
   "metadata": {},
   "outputs": [
    {
     "data": {
      "text/plain": [
       "82"
      ]
     },
     "execution_count": 23,
     "metadata": {},
     "output_type": "execute_result"
    }
   ],
   "source": [
    "corpus = list(df_inflation) + list(df_exchange)\n",
    "len(corpus)"
   ]
  },
  {
   "cell_type": "code",
   "execution_count": null,
   "metadata": {},
   "outputs": [],
   "source": []
  },
  {
   "cell_type": "code",
   "execution_count": 36,
   "metadata": {},
   "outputs": [],
   "source": [
    "df2= pd.read_csv('../data/derecha_econ_news.csv')"
   ]
  },
  {
   "cell_type": "code",
   "execution_count": 37,
   "metadata": {},
   "outputs": [
    {
     "data": {
      "text/plain": [
       "(339, 7)"
      ]
     },
     "execution_count": 37,
     "metadata": {},
     "output_type": "execute_result"
    }
   ],
   "source": [
    "df2.shape"
   ]
  },
  {
   "cell_type": "code",
   "execution_count": 43,
   "metadata": {},
   "outputs": [
    {
     "data": {
      "text/plain": [
       "(32, 7)"
      ]
     },
     "execution_count": 43,
     "metadata": {},
     "output_type": "execute_result"
    }
   ],
   "source": [
    "exchange = df2[df2.title.str.contains('dolar|dólar|dolares|dólares|dolarización|cambio|cepo')]\n",
    "exchange.shape"
   ]
  },
  {
   "cell_type": "code",
   "execution_count": 44,
   "metadata": {},
   "outputs": [
    {
     "data": {
      "text/plain": [
       "(38, 7)"
      ]
     },
     "execution_count": 44,
     "metadata": {},
     "output_type": "execute_result"
    }
   ],
   "source": [
    "inflation = df2[df2.title.str.contains('inflacion|inflación|emisión|salarios|salario|indec')]\n",
    "inflation.shape"
   ]
  },
  {
   "cell_type": "code",
   "execution_count": 46,
   "metadata": {},
   "outputs": [
    {
     "data": {
      "text/plain": [
       "2      29/11/2020\n",
       "8      24/11/2020\n",
       "13     18/11/2020\n",
       "18     13/11/2020\n",
       "39     26/10/2020\n",
       "42     23/10/2020\n",
       "49     19/10/2020\n",
       "55     15/10/2020\n",
       "60     09/10/2020\n",
       "63     07/10/2020\n",
       "65     05/10/2020\n",
       "68     02/10/2020\n",
       "74     25/09/2020\n",
       "82     16/09/2020\n",
       "83     15/09/2020\n",
       "90     09/09/2020\n",
       "113    14/08/2020\n",
       "128    25/07/2020\n",
       "145    03/07/2020\n",
       "166    11/06/2020\n",
       "171    07/06/2020\n",
       "181    29/05/2020\n",
       "218    04/05/2020\n",
       "227    27/04/2020\n",
       "228    27/04/2020\n",
       "232    23/04/2020\n",
       "242    17/04/2020\n",
       "243    17/04/2020\n",
       "248    14/04/2020\n",
       "267    04/04/2020\n",
       "307    12/03/2020\n",
       "331    23/02/2020\n",
       "Name: date, dtype: object"
      ]
     },
     "execution_count": 46,
     "metadata": {},
     "output_type": "execute_result"
    }
   ],
   "source": [
    "exchange.date"
   ]
  },
  {
   "cell_type": "markdown",
   "metadata": {},
   "source": [
    "### Corpus (Body)\n",
    "Get the body of those news which cover topics about inflation and the rate of exchange"
   ]
  },
  {
   "cell_type": "code",
   "execution_count": 7,
   "metadata": {},
   "outputs": [],
   "source": [
    "inflation = df.loc[df.title.str.contains('inflacion|inflación|emisión|salarios|salario|indec', na=False), 'body']"
   ]
  },
  {
   "cell_type": "code",
   "execution_count": null,
   "metadata": {},
   "outputs": [],
   "source": []
  },
  {
   "cell_type": "code",
   "execution_count": null,
   "metadata": {},
   "outputs": [],
   "source": []
  },
  {
   "cell_type": "code",
   "execution_count": null,
   "metadata": {},
   "outputs": [],
   "source": []
  },
  {
   "cell_type": "code",
   "execution_count": null,
   "metadata": {},
   "outputs": [],
   "source": []
  },
  {
   "cell_type": "code",
   "execution_count": null,
   "metadata": {},
   "outputs": [],
   "source": []
  },
  {
   "cell_type": "code",
   "execution_count": null,
   "metadata": {},
   "outputs": [],
   "source": []
  },
  {
   "cell_type": "code",
   "execution_count": null,
   "metadata": {},
   "outputs": [],
   "source": []
  },
  {
   "cell_type": "markdown",
   "metadata": {},
   "source": [
    "### Tokenization\n",
    "#### Manual"
   ]
  },
  {
   "cell_type": "code",
   "execution_count": 14,
   "metadata": {},
   "outputs": [],
   "source": [
    "import re\n",
    "import unidecode\n",
    "\n",
    "import matplotlib.pyplot as plt\n",
    "from wordcloud import WordCloud"
   ]
  },
  {
   "cell_type": "markdown",
   "metadata": {},
   "source": [
    "\"Stop words\", special characters, accents and numbers are removed"
   ]
  },
  {
   "cell_type": "code",
   "execution_count": 15,
   "metadata": {},
   "outputs": [],
   "source": [
    "stopwords_sp = stopwords.words('spanish')"
   ]
  },
  {
   "cell_type": "code",
   "execution_count": 16,
   "metadata": {},
   "outputs": [],
   "source": [
    "def tokenizer(texto):\n",
    "\n",
    "    alphanumeric = re.sub(r'([^\\s\\w]|_)+', '', texto).lower()\n",
    "    no_accents = unidecode.unidecode(alphanumeric)\n",
    "    \n",
    "    tockens = word_tokenize(no_accents)\n",
    "    \n",
    "    tockens_clean = [tocken for tocken in tockens if tocken not in stopwords_sp and tocken.isalpha()]\n",
    "    \n",
    "    terminos = tockens_clean\n",
    "\n",
    "    return terminos"
   ]
  },
  {
   "cell_type": "code",
   "execution_count": 17,
   "metadata": {},
   "outputs": [],
   "source": [
    "tokenized = [tokenizer(documento) for documento in corpus]"
   ]
  },
  {
   "cell_type": "code",
   "execution_count": 18,
   "metadata": {},
   "outputs": [],
   "source": [
    "vocabulario = sorted(list(set([word for group in tokenized for word in group])))"
   ]
  },
  {
   "cell_type": "code",
   "execution_count": 19,
   "metadata": {},
   "outputs": [
    {
     "data": {
      "text/plain": [
       "2034"
      ]
     },
     "execution_count": 19,
     "metadata": {},
     "output_type": "execute_result"
    }
   ],
   "source": [
    "len(vocabulario)"
   ]
  },
  {
   "cell_type": "markdown",
   "metadata": {},
   "source": [
    "#### CountVectorizer"
   ]
  },
  {
   "cell_type": "code",
   "execution_count": 20,
   "metadata": {},
   "outputs": [],
   "source": [
    "from sklearn.feature_extraction.text import CountVectorizer"
   ]
  },
  {
   "cell_type": "code",
   "execution_count": 21,
   "metadata": {},
   "outputs": [],
   "source": [
    "vectorizer = CountVectorizer(stop_words = stopwords_sp, lowercase = True, strip_accents='unicode')"
   ]
  },
  {
   "cell_type": "code",
   "execution_count": 22,
   "metadata": {},
   "outputs": [],
   "source": [
    "cleaning = [re.sub(r'(\\d|\\$|\\%|\\+)', '', doc) for doc in corpus]"
   ]
  },
  {
   "cell_type": "code",
   "execution_count": 23,
   "metadata": {},
   "outputs": [
    {
     "name": "stderr",
     "output_type": "stream",
     "text": [
      "/home/guido/anaconda3/envs/dh/lib/python3.7/site-packages/sklearn/feature_extraction/text.py:386: UserWarning: Your stop_words may be inconsistent with your preprocessing. Tokenizing the stop words generated tokens ['eramos', 'estabamos', 'estais', 'estan', 'estara', 'estaran', 'estaras', 'estare', 'estareis', 'estaria', 'estariais', 'estariamos', 'estarian', 'estarias', 'esteis', 'esten', 'estes', 'estuvieramos', 'estuviesemos', 'fueramos', 'fuesemos', 'habeis', 'habia', 'habiais', 'habiamos', 'habian', 'habias', 'habra', 'habran', 'habras', 'habre', 'habreis', 'habria', 'habriais', 'habriamos', 'habrian', 'habrias', 'hayais', 'hubieramos', 'hubiesemos', 'mas', 'mia', 'mias', 'mio', 'mios', 'seais', 'sera', 'seran', 'seras', 'sere', 'sereis', 'seria', 'seriais', 'seriamos', 'serian', 'serias', 'si', 'tambien', 'tendra', 'tendran', 'tendras', 'tendre', 'tendreis', 'tendria', 'tendriais', 'tendriamos', 'tendrian', 'tendrias', 'teneis', 'tengais', 'tenia', 'teniais', 'teniamos', 'tenian', 'tenias', 'tuvieramos', 'tuviesemos'] not in stop_words.\n",
      "  'stop_words.' % sorted(inconsistent))\n"
     ]
    },
    {
     "data": {
      "text/plain": [
       "CountVectorizer(stop_words=['de', 'la', 'que', 'el', 'en', 'y', 'a', 'los',\n",
       "                            'del', 'se', 'las', 'por', 'un', 'para', 'con',\n",
       "                            'no', 'una', 'su', 'al', 'lo', 'como', 'más',\n",
       "                            'pero', 'sus', 'le', 'ya', 'o', 'este', 'sí',\n",
       "                            'porque', ...],\n",
       "                strip_accents='unicode')"
      ]
     },
     "execution_count": 23,
     "metadata": {},
     "output_type": "execute_result"
    }
   ],
   "source": [
    "vectorizer.fit(cleaning)"
   ]
  },
  {
   "cell_type": "code",
   "execution_count": 24,
   "metadata": {},
   "outputs": [
    {
     "data": {
      "text/plain": [
       "(1936, 1936)"
      ]
     },
     "execution_count": 24,
     "metadata": {},
     "output_type": "execute_result"
    }
   ],
   "source": [
    "len(vectorizer.vocabulary_), len(vectorizer.get_feature_names())"
   ]
  },
  {
   "cell_type": "markdown",
   "metadata": {},
   "source": [
    "I prefare the manual tokenization results since more terms could be saved."
   ]
  },
  {
   "cell_type": "markdown",
   "metadata": {},
   "source": [
    "### Prepare tokens and pickle"
   ]
  },
  {
   "cell_type": "code",
   "execution_count": 25,
   "metadata": {},
   "outputs": [],
   "source": [
    "def token_matrix_maker(data, vocabulario):\n",
    "    matriz = np.zeros(shape = (len(data), len(vocabulario)), dtype='int')\n",
    "    for i, documento in enumerate(data):\n",
    "        for termino in documento:\n",
    "            matriz[i, vocabulario.index(termino)] += 1\n",
    "    return matriz"
   ]
  },
  {
   "cell_type": "code",
   "execution_count": 26,
   "metadata": {},
   "outputs": [],
   "source": [
    "matrix = token_matrix_maker(tokenized, vocabulario)"
   ]
  },
  {
   "cell_type": "code",
   "execution_count": 27,
   "metadata": {},
   "outputs": [
    {
     "data": {
      "text/plain": [
       "16"
      ]
     },
     "execution_count": 27,
     "metadata": {},
     "output_type": "execute_result"
    }
   ],
   "source": [
    "len(df_inflation)"
   ]
  },
  {
   "cell_type": "code",
   "execution_count": 28,
   "metadata": {},
   "outputs": [],
   "source": [
    "# make dataframe\n",
    "token_df = pd.DataFrame(matrix, columns=vocabulario, index = ['doc' + str(i + 1) for i in range(len(tokenized))] )"
   ]
  },
  {
   "cell_type": "code",
   "execution_count": 29,
   "metadata": {},
   "outputs": [],
   "source": [
    "# add classification column\n",
    "topics = ['inflation' for i in range(len(df_inflation))] + ['exchange' for i in range(len(df_exchange))]\n",
    "token_df.insert(loc=0, column='topics', value=topics)"
   ]
  },
  {
   "cell_type": "code",
   "execution_count": 30,
   "metadata": {},
   "outputs": [],
   "source": [
    "token_df.to_pickle('tokens/topic_tokens_izq.pkl')"
   ]
  }
 ],
 "metadata": {
  "kernelspec": {
   "display_name": "Python 3",
   "language": "python",
   "name": "python3"
  },
  "language_info": {
   "codemirror_mode": {
    "name": "ipython",
    "version": 3
   },
   "file_extension": ".py",
   "mimetype": "text/x-python",
   "name": "python",
   "nbconvert_exporter": "python",
   "pygments_lexer": "ipython3",
   "version": "3.7.7"
  }
 },
 "nbformat": 4,
 "nbformat_minor": 4
}
