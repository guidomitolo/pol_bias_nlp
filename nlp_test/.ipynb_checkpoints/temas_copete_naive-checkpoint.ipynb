{
 "cells": [
  {
   "cell_type": "code",
   "execution_count": 1,
   "metadata": {},
   "outputs": [],
   "source": [
    "import nltk\n",
    "import pandas as pd\n",
    "import numpy as np\n",
    "from nltk.tokenize import word_tokenize, sent_tokenize\n",
    "from nltk.corpus import stopwords\n",
    "from sklearn.feature_extraction.text import CountVectorizer"
   ]
  },
  {
   "cell_type": "code",
   "execution_count": 2,
   "metadata": {},
   "outputs": [],
   "source": [
    "data = pd.read_csv('../data/izq_econ_news.csv')"
   ]
  },
  {
   "cell_type": "code",
   "execution_count": 3,
   "metadata": {},
   "outputs": [
    {
     "data": {
      "text/plain": [
       "(144, 7)"
      ]
     },
     "execution_count": 3,
     "metadata": {},
     "output_type": "execute_result"
    }
   ],
   "source": [
    "data.shape"
   ]
  },
  {
   "cell_type": "code",
   "execution_count": 4,
   "metadata": {},
   "outputs": [
    {
     "data": {
      "text/html": [
       "<div>\n",
       "<style scoped>\n",
       "    .dataframe tbody tr th:only-of-type {\n",
       "        vertical-align: middle;\n",
       "    }\n",
       "\n",
       "    .dataframe tbody tr th {\n",
       "        vertical-align: top;\n",
       "    }\n",
       "\n",
       "    .dataframe thead th {\n",
       "        text-align: right;\n",
       "    }\n",
       "</style>\n",
       "<table border=\"1\" class=\"dataframe\">\n",
       "  <thead>\n",
       "    <tr style=\"text-align: right;\">\n",
       "      <th></th>\n",
       "      <th>Unnamed: 0</th>\n",
       "      <th>date</th>\n",
       "      <th>flyer</th>\n",
       "      <th>lead</th>\n",
       "      <th>headline</th>\n",
       "      <th>body</th>\n",
       "      <th>url</th>\n",
       "    </tr>\n",
       "  </thead>\n",
       "  <tbody>\n",
       "    <tr>\n",
       "      <th>0</th>\n",
       "      <td>0</td>\n",
       "      <td>\\nLunes 30 de noviembre</td>\n",
       "      <td>SENADO</td>\n",
       "      <td>El objetivo sería “proteger a la Argentina de ...</td>\n",
       "      <td>¿Qué dice la ley de “sostenibilidad de la deud...</td>\n",
       "      <td>Este lunes los senadores dieron media sanción ...</td>\n",
       "      <td>https://www.laizquierdadiario.com/Economia/Que...</td>\n",
       "    </tr>\n",
       "    <tr>\n",
       "      <th>1</th>\n",
       "      <td>1</td>\n",
       "      <td>\\nLunes 30 de noviembre</td>\n",
       "      <td>ECONOMÍA</td>\n",
       "      <td>El ministro de Trabajo, Claudio Moroni, confir...</td>\n",
       "      <td>Doble indemnización: pese a no frenar los desp...</td>\n",
       "      <td>El Gobierno nacional prorrogó hasta el próximo...</td>\n",
       "      <td>https://www.laizquierdadiario.com/Economia/Dob...</td>\n",
       "    </tr>\n",
       "    <tr>\n",
       "      <th>2</th>\n",
       "      <td>2</td>\n",
       "      <td>\\nDomingo 29 de noviembre</td>\n",
       "      <td>AJUSTAN AL SALARIO</td>\n",
       "      <td>El último tramo del aumento se pagaría con el ...</td>\n",
       "      <td>Paritarias estatales de Jujuy: ¿qué cambia con...</td>\n",
       "      <td>El viernes 27/11 por la tarde el Gobierno lueg...</td>\n",
       "      <td>https://www.laizquierdadiario.com/Economia/Par...</td>\n",
       "    </tr>\n",
       "    <tr>\n",
       "      <th>3</th>\n",
       "      <td>3</td>\n",
       "      <td>\\nSábado 28 de noviembre</td>\n",
       "      <td>JUBILACIONES</td>\n",
       "      <td>El proyecto del Ejecutivo para una nueva ley d...</td>\n",
       "      <td>Escándalo: el Gobierno quiere descontar a los ...</td>\n",
       "      <td>En un nuevo intento de robo a los jubilados, e...</td>\n",
       "      <td>https://www.laizquierdadiario.com/Economia/Esc...</td>\n",
       "    </tr>\n",
       "    <tr>\n",
       "      <th>4</th>\n",
       "      <td>4</td>\n",
       "      <td>\\nSábado 28 de noviembre</td>\n",
       "      <td>A PEDIDO DEL FMI</td>\n",
       "      <td>Se oficializa el ataque a las jubilaciones y p...</td>\n",
       "      <td>Ajuste a jubilados: el Gobierno envió al Congr...</td>\n",
       "      <td>El Ejecutivo giró este sábado al Congreso su p...</td>\n",
       "      <td>https://www.laizquierdadiario.com/Economia/Aju...</td>\n",
       "    </tr>\n",
       "  </tbody>\n",
       "</table>\n",
       "</div>"
      ],
      "text/plain": [
       "   Unnamed: 0                       date                flyer  \\\n",
       "0           0    \\nLunes 30 de noviembre               SENADO   \n",
       "1           1    \\nLunes 30 de noviembre             ECONOMÍA   \n",
       "2           2  \\nDomingo 29 de noviembre  AJUSTAN AL SALARIO    \n",
       "3           3   \\nSábado 28 de noviembre         JUBILACIONES   \n",
       "4           4   \\nSábado 28 de noviembre     A PEDIDO DEL FMI   \n",
       "\n",
       "                                                lead  \\\n",
       "0  El objetivo sería “proteger a la Argentina de ...   \n",
       "1  El ministro de Trabajo, Claudio Moroni, confir...   \n",
       "2  El último tramo del aumento se pagaría con el ...   \n",
       "3  El proyecto del Ejecutivo para una nueva ley d...   \n",
       "4  Se oficializa el ataque a las jubilaciones y p...   \n",
       "\n",
       "                                            headline  \\\n",
       "0  ¿Qué dice la ley de “sostenibilidad de la deud...   \n",
       "1  Doble indemnización: pese a no frenar los desp...   \n",
       "2  Paritarias estatales de Jujuy: ¿qué cambia con...   \n",
       "3  Escándalo: el Gobierno quiere descontar a los ...   \n",
       "4  Ajuste a jubilados: el Gobierno envió al Congr...   \n",
       "\n",
       "                                                body  \\\n",
       "0  Este lunes los senadores dieron media sanción ...   \n",
       "1  El Gobierno nacional prorrogó hasta el próximo...   \n",
       "2  El viernes 27/11 por la tarde el Gobierno lueg...   \n",
       "3  En un nuevo intento de robo a los jubilados, e...   \n",
       "4  El Ejecutivo giró este sábado al Congreso su p...   \n",
       "\n",
       "                                                 url  \n",
       "0  https://www.laizquierdadiario.com/Economia/Que...  \n",
       "1  https://www.laizquierdadiario.com/Economia/Dob...  \n",
       "2  https://www.laizquierdadiario.com/Economia/Par...  \n",
       "3  https://www.laizquierdadiario.com/Economia/Esc...  \n",
       "4  https://www.laizquierdadiario.com/Economia/Aju...  "
      ]
     },
     "execution_count": 4,
     "metadata": {},
     "output_type": "execute_result"
    }
   ],
   "source": [
    "data.head(5)"
   ]
  },
  {
   "cell_type": "code",
   "execution_count": 5,
   "metadata": {},
   "outputs": [
    {
     "data": {
      "text/plain": [
       "array(['SENADO', 'ECONOMÍA', 'AJUSTAN AL SALARIO ', 'JUBILACIONES',\n",
       "       'A PEDIDO DEL FMI', 'CONSUMO', 'CIERRE DE MINA AGUILAR S.A.',\n",
       "       'BRECHA CAMBIARIA', 'INFORME INDEC', 'OPTIMISMO EN LOS “MERCADOS”',\n",
       "       'INFORME INDEC', 'LEVANTARLA EN PALA',\n",
       "       'SEMANA ECONÓMICA EN CLAVES', 'INFLACIÓN', 'ESTADOS UNIDOS',\n",
       "       'INFLACION', 'SOCIEDAD', 'AJUSTE A PEDIDO DEL FMI ',\n",
       "       'TARIFAS E INFLACIÓN', 'CHANTAJE EMPRESARIAL ', 'TRIBUNA ABIERTA',\n",
       "       'TUCUMÁN', 'CUMBRE DEL G20', 'PRECIOS', 'COMUNICADO DE PRENSA',\n",
       "       'DOBLE DISCURSO', 'LICITACIÓN', 'AJUSTE',\n",
       "       'ESTIMACIÓN JUNTA INTERNA ATE INDEC', 'INFORME INDEC', 'AJUSTE',\n",
       "       'ANUNCIO OFICIAL', 'EXPORTACIONES', 'DÓLAR Y BRECHA',\n",
       "       'CELEBRAN LAS PATRONALES AGRARIAS', 'INFORME INDEC', 'AJUSTE',\n",
       "       'PRESUPUESTO 2021', 'MULTINACIONALES MINERAS',\n",
       "       'GANANCIA EMPRESARIA', 'NO AL AJUSTE A PEDIDO DEL FMI',\n",
       "       'COMERCIO INTERNACIONAL', 'MULTINACIONALES MINERAS', 'ACTUALIDAD',\n",
       "       'ENTREVISTA', 'CONSUMO MASIVO', 'PATEANDO EL TABLERO ',\n",
       "       'Decile Como Quieras Ep 29', 'SAQUEO A LA CLASE TRABAJADORA',\n",
       "       'ANUNCIÓ OBRAS', 'CONGRESO NACIONAL', 'TIPO DE CAMBIO',\n",
       "       'BENEFICIOS PARA EMPRESAS',\n",
       "       'En Economía, DECÍMELA FÁCIL - CAPÍTULO 4', 'SUBA DE PRECIOS',\n",
       "       'BCRA', 'GOLPE AL BOLSILLO', 'INFORME INDEC', 'NUEVA MEDIDA',\n",
       "       'TIPO DE CAMBIO', 'EN EL FONDO', 'FESTEJA EL CAMPO',\n",
       "       'TENSION CAMBIARIA', 'JUBILACIONES', 'Deuda municipal',\n",
       "       'ALERTA SPOILER', 'ENDEUDAMIENTO', 'MISIÓN DEL FONDO EN ARGENTINA',\n",
       "       'ROBO A LOS JUBILADOS ', 'BUEN FIN CDMX', 'DÉFICIT HABITACIONAL',\n",
       "       'TIPO DE CAMBIO', 'CRISIS', 'CRISIS Y AJUSTE', 'ALERTA SPOILER',\n",
       "       'DEUDA EXTERNA', 'PANDEMIA, CRISIS Y AJUSTE', 'JUBILACIONES',\n",
       "       'DEUDA EXTERNA', 'DEUDA IMPAGABLE', 'DEUDA EXTERNA',\n",
       "       'DEFENSA DEL SALARIO ', 'ACTUALIDAD', 'ENDEUDAMIENTO',\n",
       "       'NEGOCIOS MILLONARIOS ', 'PÉRDIDA DE RESERVAS DEL BANCO CENTRAL',\n",
       "       'ECONOMÍA', 'ECONOMÍA INTERNACIONAL', 'INFORME INDEC',\n",
       "       'REUNIÓN CON LOS DUEÑOS DEL PAÍS', 'CRISIS ECONOMICA',\n",
       "       'CONGRESO NACIONAL', 'ENDEUDAMIENTO',\n",
       "       'ELECCIONES EN ESTADOS UNIDOS', 'CRISIS CAMBIARIA',\n",
       "       'CRISIS ECONOMICA', 'ACTUALIDAD', 'COMUNICADO DE PRENSA',\n",
       "       'SEMANARIO IDEAS DE IZQUIERDA', 'DÓLAR',\n",
       "       'HAY PRIORIDADES Y PRIORIDADES', 'ECONOMIA',\n",
       "       'LO MISMO DE SIEMPRE ', 'RECLAMOS', 'BCRA', 'INFORME ESPECIAL',\n",
       "       'ANUNCIO OFICIAL', 'Deuda Pública ', 'INFORME INDEC', nan,\n",
       "       'TIPO DE CAMBIO', 'ENDEUDAMIENTO', 'PRIORIDADES',\n",
       "       'CRISIS INTERNACIONAL', 'CHARLAS ENTRE AMIGOS', 'CRISIS',\n",
       "       'DECLARACIONES', 'BONO ATADO AL DÓLAR', 'Panorama Provincial',\n",
       "       'ACTUALIDAD', 'ALERTA SPOILER', 'TENSION CAMBIARIA',\n",
       "       'ECONOMÍA INTERNACIONAL', 'CRISIS DEL DÓLAR ', 'CRISIS ECONOMICA',\n",
       "       'TENSION CAMBIARIA', 'ACTUALIDAD', nan, 'A 91 AÑOS',\n",
       "       'ESTIMACIÓN JUNTA INTERNA ATE INDEC', 'CONGRESO NACIONAL',\n",
       "       'ECONOMIA', 'TENSIÓN CAMBIARIA ', 'CRÍTICAS AL GOBIERNO',\n",
       "       'ACTUALIDAD', 'NEGOCIAN NUEVO ACUERDO', 'PRESUPUESTO 2021',\n",
       "       'INFORME INDEC ', 'MERCADO DE DIVISAS',\n",
       "       'ENCUENTRO IBEROAMERICANO CON EMPRESARIOS', 'MEDIDAS OFICIALES',\n",
       "       'INDEC', 'TENSIÓN CAMBIARIA', 'NUEVAS MEDIDAS OFICIALES '],\n",
       "      dtype=object)"
      ]
     },
     "execution_count": 5,
     "metadata": {},
     "output_type": "execute_result"
    }
   ],
   "source": [
    "data.flyer.values"
   ]
  },
  {
   "cell_type": "markdown",
   "metadata": {},
   "source": [
    "Tópicos"
   ]
  },
  {
   "cell_type": "code",
   "execution_count": 6,
   "metadata": {},
   "outputs": [
    {
     "data": {
      "text/plain": [
       "(11, 7)"
      ]
     },
     "execution_count": 6,
     "metadata": {},
     "output_type": "execute_result"
    }
   ],
   "source": [
    "data[data.flyer.str.contains('DEUDA|Deuda|BONO', na=False)].shape"
   ]
  },
  {
   "cell_type": "code",
   "execution_count": 7,
   "metadata": {},
   "outputs": [
    {
     "data": {
      "text/plain": [
       "(13, 7)"
      ]
     },
     "execution_count": 7,
     "metadata": {},
     "output_type": "execute_result"
    }
   ],
   "source": [
    "data[data.flyer.str.contains('BRECHA|CAMBI|RESERV', na=False)].shape"
   ]
  },
  {
   "cell_type": "code",
   "execution_count": 8,
   "metadata": {},
   "outputs": [
    {
     "data": {
      "text/plain": [
       "(16, 7)"
      ]
     },
     "execution_count": 8,
     "metadata": {},
     "output_type": "execute_result"
    }
   ],
   "source": [
    "data[data.flyer.str.contains('INFLA|INDEC|SUBA|PRECIO', na=False)].shape"
   ]
  },
  {
   "cell_type": "code",
   "execution_count": 9,
   "metadata": {},
   "outputs": [
    {
     "data": {
      "text/plain": [
       "(5, 7)"
      ]
     },
     "execution_count": 9,
     "metadata": {},
     "output_type": "execute_result"
    }
   ],
   "source": [
    "data[data.flyer.str.contains('FMI|FONDO', na=False)].shape"
   ]
  },
  {
   "cell_type": "code",
   "execution_count": 10,
   "metadata": {},
   "outputs": [
    {
     "data": {
      "text/plain": [
       "(3, 7)"
      ]
     },
     "execution_count": 10,
     "metadata": {},
     "output_type": "execute_result"
    }
   ],
   "source": [
    "data[data.flyer.str.contains('SALARIO|OBRER|TRABAJA', na=False)].shape"
   ]
  },
  {
   "cell_type": "markdown",
   "metadata": {},
   "source": [
    "Corpus"
   ]
  },
  {
   "cell_type": "code",
   "execution_count": 11,
   "metadata": {},
   "outputs": [],
   "source": [
    "df_inflacion = data.loc[data.flyer.str.contains('INFLA|INDEC|SUBA|PRECIO', na=False),'lead'].values"
   ]
  },
  {
   "cell_type": "code",
   "execution_count": 12,
   "metadata": {},
   "outputs": [],
   "source": [
    "df_cambio = data.loc[data.flyer.str.contains('BRECHA|CAMBI|RESERV', na=False), 'lead'].values"
   ]
  },
  {
   "cell_type": "code",
   "execution_count": 13,
   "metadata": {},
   "outputs": [],
   "source": [
    "target = list(np.ones(shape=len(df_inflacion))) + list(np.zeros(len(df_cambio)))"
   ]
  },
  {
   "cell_type": "code",
   "execution_count": 14,
   "metadata": {},
   "outputs": [],
   "source": [
    "corpus = list(df_inflacion) + list(df_cambio)\n",
    "target = list(np.ones(shape=len(df_inflacion))) + list(np.zeros(len(df_cambio)))"
   ]
  },
  {
   "cell_type": "code",
   "execution_count": 15,
   "metadata": {},
   "outputs": [
    {
     "data": {
      "text/html": [
       "<div>\n",
       "<style scoped>\n",
       "    .dataframe tbody tr th:only-of-type {\n",
       "        vertical-align: middle;\n",
       "    }\n",
       "\n",
       "    .dataframe tbody tr th {\n",
       "        vertical-align: top;\n",
       "    }\n",
       "\n",
       "    .dataframe thead th {\n",
       "        text-align: right;\n",
       "    }\n",
       "</style>\n",
       "<table border=\"1\" class=\"dataframe\">\n",
       "  <thead>\n",
       "    <tr style=\"text-align: right;\">\n",
       "      <th></th>\n",
       "      <th>0</th>\n",
       "      <th>1</th>\n",
       "    </tr>\n",
       "  </thead>\n",
       "  <tbody>\n",
       "    <tr>\n",
       "      <th>0</th>\n",
       "      <td>Las exportaciones se derrumbaron un 21,6 % res...</td>\n",
       "      <td>1</td>\n",
       "    </tr>\n",
       "    <tr>\n",
       "      <th>1</th>\n",
       "      <td>El Estimador Mensual de la Actividad Económica...</td>\n",
       "      <td>1</td>\n",
       "    </tr>\n",
       "    <tr>\n",
       "      <th>2</th>\n",
       "      <td>Será de un 7% y se aplicará a las marcas que f...</td>\n",
       "      <td>1</td>\n",
       "    </tr>\n",
       "    <tr>\n",
       "      <th>3</th>\n",
       "      <td>El resto de las cadenas ajustarán sus valores ...</td>\n",
       "      <td>1</td>\n",
       "    </tr>\n",
       "    <tr>\n",
       "      <th>4</th>\n",
       "      <td>Es de un 2,5 % a partir de las 0 de hoy. Desde...</td>\n",
       "      <td>1</td>\n",
       "    </tr>\n",
       "    <tr>\n",
       "      <th>5</th>\n",
       "      <td>El poder de compra del salario cae con la suba...</td>\n",
       "      <td>1</td>\n",
       "    </tr>\n",
       "    <tr>\n",
       "      <th>6</th>\n",
       "      <td>Es el monto de una canasta de consumos mínimos...</td>\n",
       "      <td>1</td>\n",
       "    </tr>\n",
       "    <tr>\n",
       "      <th>7</th>\n",
       "      <td>Es nivel más alto en lo que va del año y pone ...</td>\n",
       "      <td>1</td>\n",
       "    </tr>\n",
       "    <tr>\n",
       "      <th>8</th>\n",
       "      <td>El Indec informó que la Canasta Básica Total, ...</td>\n",
       "      <td>1</td>\n",
       "    </tr>\n",
       "    <tr>\n",
       "      <th>9</th>\n",
       "      <td>Mientras el Gobierno provincial se resiste a l...</td>\n",
       "      <td>1</td>\n",
       "    </tr>\n",
       "    <tr>\n",
       "      <th>10</th>\n",
       "      <td>Es el registro más alto del año. En lo que va ...</td>\n",
       "      <td>1</td>\n",
       "    </tr>\n",
       "    <tr>\n",
       "      <th>11</th>\n",
       "      <td>La construcción se desplomó 3,9 % en septiembr...</td>\n",
       "      <td>1</td>\n",
       "    </tr>\n",
       "    <tr>\n",
       "      <th>12</th>\n",
       "      <td>El Indec publicó el índice de salarios de agos...</td>\n",
       "      <td>1</td>\n",
       "    </tr>\n",
       "    <tr>\n",
       "      <th>13</th>\n",
       "      <td>Los trabajadores del Indec calcularon una cana...</td>\n",
       "      <td>1</td>\n",
       "    </tr>\n",
       "    <tr>\n",
       "      <th>14</th>\n",
       "      <td>En los primeros ocho meses del año la economía...</td>\n",
       "      <td>1</td>\n",
       "    </tr>\n",
       "    <tr>\n",
       "      <th>15</th>\n",
       "      <td>Mientras los materiales para la construcción c...</td>\n",
       "      <td>1</td>\n",
       "    </tr>\n",
       "    <tr>\n",
       "      <th>16</th>\n",
       "      <td>La CNV anunció que reduce de tres a dos días h...</td>\n",
       "      <td>0</td>\n",
       "    </tr>\n",
       "    <tr>\n",
       "      <th>17</th>\n",
       "      <td>A pesar de las medidas pro mercado de Guzmán, ...</td>\n",
       "      <td>0</td>\n",
       "    </tr>\n",
       "    <tr>\n",
       "      <th>18</th>\n",
       "      <td>Aumenta cinco pesos y es la tercera sesión con...</td>\n",
       "      <td>0</td>\n",
       "    </tr>\n",
       "    <tr>\n",
       "      <th>19</th>\n",
       "      <td>El dólar paralelo subió cinco pesos (+3,1 %) e...</td>\n",
       "      <td>0</td>\n",
       "    </tr>\n",
       "    <tr>\n",
       "      <th>20</th>\n",
       "      <td>El dólar Contado con liquidación cerró en $149...</td>\n",
       "      <td>0</td>\n",
       "    </tr>\n",
       "    <tr>\n",
       "      <th>21</th>\n",
       "      <td>Guzmán logró reducir la brecha cambiaria con m...</td>\n",
       "      <td>0</td>\n",
       "    </tr>\n",
       "    <tr>\n",
       "      <th>22</th>\n",
       "      <td>Mientras el “súper cepo” cerró más el grifo al...</td>\n",
       "      <td>0</td>\n",
       "    </tr>\n",
       "    <tr>\n",
       "      <th>23</th>\n",
       "      <td>El campo liquidó poco más de U$S 1.700 millone...</td>\n",
       "      <td>0</td>\n",
       "    </tr>\n",
       "    <tr>\n",
       "      <th>24</th>\n",
       "      <td>El blue desciende hasta los $ 175 y el Banco C...</td>\n",
       "      <td>0</td>\n",
       "    </tr>\n",
       "    <tr>\n",
       "      <th>25</th>\n",
       "      <td>También se emitirán bonos ligados a la inflaci...</td>\n",
       "      <td>0</td>\n",
       "    </tr>\n",
       "    <tr>\n",
       "      <th>26</th>\n",
       "      <td>Bajó $ 5 en relación al viernes y la brecha co...</td>\n",
       "      <td>0</td>\n",
       "    </tr>\n",
       "    <tr>\n",
       "      <th>27</th>\n",
       "      <td>En la semana, acumula así una suba de $ 14 y m...</td>\n",
       "      <td>0</td>\n",
       "    </tr>\n",
       "    <tr>\n",
       "      <th>28</th>\n",
       "      <td>Este miércoles anota una nueva jornada de suba...</td>\n",
       "      <td>0</td>\n",
       "    </tr>\n",
       "  </tbody>\n",
       "</table>\n",
       "</div>"
      ],
      "text/plain": [
       "                                                    0  1\n",
       "0   Las exportaciones se derrumbaron un 21,6 % res...  1\n",
       "1   El Estimador Mensual de la Actividad Económica...  1\n",
       "2   Será de un 7% y se aplicará a las marcas que f...  1\n",
       "3   El resto de las cadenas ajustarán sus valores ...  1\n",
       "4   Es de un 2,5 % a partir de las 0 de hoy. Desde...  1\n",
       "5   El poder de compra del salario cae con la suba...  1\n",
       "6   Es el monto de una canasta de consumos mínimos...  1\n",
       "7   Es nivel más alto en lo que va del año y pone ...  1\n",
       "8   El Indec informó que la Canasta Básica Total, ...  1\n",
       "9   Mientras el Gobierno provincial se resiste a l...  1\n",
       "10  Es el registro más alto del año. En lo que va ...  1\n",
       "11  La construcción se desplomó 3,9 % en septiembr...  1\n",
       "12  El Indec publicó el índice de salarios de agos...  1\n",
       "13  Los trabajadores del Indec calcularon una cana...  1\n",
       "14  En los primeros ocho meses del año la economía...  1\n",
       "15  Mientras los materiales para la construcción c...  1\n",
       "16  La CNV anunció que reduce de tres a dos días h...  0\n",
       "17  A pesar de las medidas pro mercado de Guzmán, ...  0\n",
       "18  Aumenta cinco pesos y es la tercera sesión con...  0\n",
       "19  El dólar paralelo subió cinco pesos (+3,1 %) e...  0\n",
       "20  El dólar Contado con liquidación cerró en $149...  0\n",
       "21  Guzmán logró reducir la brecha cambiaria con m...  0\n",
       "22  Mientras el “súper cepo” cerró más el grifo al...  0\n",
       "23  El campo liquidó poco más de U$S 1.700 millone...  0\n",
       "24  El blue desciende hasta los $ 175 y el Banco C...  0\n",
       "25  También se emitirán bonos ligados a la inflaci...  0\n",
       "26  Bajó $ 5 en relación al viernes y la brecha co...  0\n",
       "27  En la semana, acumula así una suba de $ 14 y m...  0\n",
       "28  Este miércoles anota una nueva jornada de suba...  0"
      ]
     },
     "execution_count": 15,
     "metadata": {},
     "output_type": "execute_result"
    }
   ],
   "source": [
    "df = pd.DataFrame([corpus, target]).transpose()\n",
    "df"
   ]
  },
  {
   "cell_type": "markdown",
   "metadata": {},
   "source": [
    "#### Train - Test Split"
   ]
  },
  {
   "cell_type": "code",
   "execution_count": 16,
   "metadata": {},
   "outputs": [],
   "source": [
    "from sklearn.model_selection import train_test_split"
   ]
  },
  {
   "cell_type": "code",
   "execution_count": 17,
   "metadata": {},
   "outputs": [],
   "source": [
    "train,test,y_train,y_test = train_test_split(df.iloc[:,0],df.iloc[:,1], train_size=0.75); "
   ]
  },
  {
   "cell_type": "code",
   "execution_count": 18,
   "metadata": {},
   "outputs": [
    {
     "data": {
      "text/plain": [
       "((8,), (8,))"
      ]
     },
     "execution_count": 18,
     "metadata": {},
     "output_type": "execute_result"
    }
   ],
   "source": [
    "test.shape, y_test.shape"
   ]
  },
  {
   "cell_type": "markdown",
   "metadata": {},
   "source": [
    "#### Tokenización y vectores\n",
    "#### CountVectorizer"
   ]
  },
  {
   "cell_type": "markdown",
   "metadata": {},
   "source": [
    "Remuevo nros. y carácters especiales"
   ]
  },
  {
   "cell_type": "code",
   "execution_count": 19,
   "metadata": {},
   "outputs": [],
   "source": [
    "import re"
   ]
  },
  {
   "cell_type": "code",
   "execution_count": 20,
   "metadata": {},
   "outputs": [],
   "source": [
    "train = train.apply(lambda x: re.sub(r'(\\d|\\$|\\%|\\+)', '', x))"
   ]
  },
  {
   "cell_type": "code",
   "execution_count": 21,
   "metadata": {},
   "outputs": [],
   "source": [
    "stopwords_sp = stopwords.words('spanish')\n",
    "# agrego palabras poco informativas\n",
    "stopwords_sp.append('mas')\n",
    "stopwords_sp.append('ano')\n",
    "stopwords_sp.append('mes')\n",
    "stopwords_sp.append('asi')"
   ]
  },
  {
   "cell_type": "code",
   "execution_count": 22,
   "metadata": {},
   "outputs": [
    {
     "name": "stderr",
     "output_type": "stream",
     "text": [
      "/home/guido/anaconda3/envs/dh/lib/python3.7/site-packages/sklearn/feature_extraction/text.py:386: UserWarning: Your stop_words may be inconsistent with your preprocessing. Tokenizing the stop words generated tokens ['eramos', 'estabamos', 'estais', 'estan', 'estara', 'estaran', 'estaras', 'estare', 'estareis', 'estaria', 'estariais', 'estariamos', 'estarian', 'estarias', 'esteis', 'esten', 'estes', 'estuvieramos', 'estuviesemos', 'fueramos', 'fuesemos', 'habeis', 'habia', 'habiais', 'habiamos', 'habian', 'habias', 'habra', 'habran', 'habras', 'habre', 'habreis', 'habria', 'habriais', 'habriamos', 'habrian', 'habrias', 'hayais', 'hubieramos', 'hubiesemos', 'mia', 'mias', 'mio', 'mios', 'seais', 'sera', 'seran', 'seras', 'sere', 'sereis', 'seria', 'seriais', 'seriamos', 'serian', 'serias', 'si', 'tambien', 'tendra', 'tendran', 'tendras', 'tendre', 'tendreis', 'tendria', 'tendriais', 'tendriamos', 'tendrian', 'tendrias', 'teneis', 'tengais', 'tenia', 'teniais', 'teniamos', 'tenian', 'tenias', 'tuvieramos', 'tuviesemos'] not in stop_words.\n",
      "  'stop_words.' % sorted(inconsistent))\n"
     ]
    },
    {
     "data": {
      "text/plain": [
       "CountVectorizer(stop_words=['de', 'la', 'que', 'el', 'en', 'y', 'a', 'los',\n",
       "                            'del', 'se', 'las', 'por', 'un', 'para', 'con',\n",
       "                            'no', 'una', 'su', 'al', 'lo', 'como', 'más',\n",
       "                            'pero', 'sus', 'le', 'ya', 'o', 'este', 'sí',\n",
       "                            'porque', ...],\n",
       "                strip_accents='unicode')"
      ]
     },
     "execution_count": 22,
     "metadata": {},
     "output_type": "execute_result"
    }
   ],
   "source": [
    "vectorizer = CountVectorizer(stop_words = stopwords_sp, lowercase = True, strip_accents='unicode')\n",
    "vectorizer.fit(train)"
   ]
  },
  {
   "cell_type": "code",
   "execution_count": 23,
   "metadata": {},
   "outputs": [
    {
     "name": "stdout",
     "output_type": "stream",
     "text": [
      "269\n"
     ]
    }
   ],
   "source": [
    "print(len(vectorizer.vocabulary_))"
   ]
  },
  {
   "cell_type": "code",
   "execution_count": 24,
   "metadata": {},
   "outputs": [
    {
     "name": "stdout",
     "output_type": "stream",
     "text": [
      "  (0, 7)\t1\n",
      "  (0, 81)\t1\n",
      "  (0, 91)\t1\n",
      "  (0, 140)\t1\n",
      "  (0, 165)\t1\n",
      "  (0, 173)\t1\n",
      "  (0, 184)\t1\n",
      "  (0, 198)\t1\n",
      "  (0, 210)\t1\n",
      "  (0, 211)\t1\n",
      "  (0, 226)\t1\n",
      "  (0, 229)\t1\n",
      "  (0, 244)\t1\n"
     ]
    }
   ],
   "source": [
    "X_train = vectorizer.transform(train);\n",
    "print(X_train[10])"
   ]
  },
  {
   "cell_type": "markdown",
   "metadata": {},
   "source": [
    "#### Term Frequency Inverse Document Frequency (TF-IDF)\n",
    "TfidfVectorizer, TfidfTransformer"
   ]
  },
  {
   "cell_type": "code",
   "execution_count": 25,
   "metadata": {},
   "outputs": [],
   "source": [
    "from sklearn.feature_extraction.text import TfidfTransformer"
   ]
  },
  {
   "cell_type": "code",
   "execution_count": 26,
   "metadata": {},
   "outputs": [],
   "source": [
    "X_train_tfidf = TfidfTransformer().fit_transform(X_train);"
   ]
  },
  {
   "cell_type": "code",
   "execution_count": 27,
   "metadata": {},
   "outputs": [
    {
     "name": "stdout",
     "output_type": "stream",
     "text": [
      "  (0, 244)\t0.23253412898673384\n",
      "  (0, 229)\t0.25726689442786255\n",
      "  (0, 226)\t0.2921257694628441\n",
      "  (0, 211)\t0.2921257694628441\n",
      "  (0, 210)\t0.2921257694628441\n",
      "  (0, 198)\t0.2921257694628441\n",
      "  (0, 184)\t0.2921257694628441\n",
      "  (0, 173)\t0.2921257694628441\n",
      "  (0, 165)\t0.25726689442786255\n",
      "  (0, 140)\t0.2921257694628441\n",
      "  (0, 91)\t0.21334990569704707\n",
      "  (0, 81)\t0.2921257694628441\n",
      "  (0, 7)\t0.2921257694628441\n"
     ]
    }
   ],
   "source": [
    "print(X_train_tfidf[10])"
   ]
  },
  {
   "cell_type": "code",
   "execution_count": 28,
   "metadata": {},
   "outputs": [],
   "source": [
    "dummies_tfidf = pd.DataFrame(X_train_tfidf.todense(), columns = vectorizer.get_feature_names())"
   ]
  },
  {
   "cell_type": "markdown",
   "metadata": {},
   "source": [
    "Terminos más relevantes por documento"
   ]
  },
  {
   "cell_type": "code",
   "execution_count": 29,
   "metadata": {},
   "outputs": [
    {
     "name": "stdout",
     "output_type": "stream",
     "text": [
      "0 interanual 0.28766343205916145\n",
      "1 millones 0.434188987326338\n",
      "2 cierran 0.23469962500237232\n",
      "3 dolar 0.31603840175609216\n",
      "4 nominados 0.232219985816718\n",
      "5 fondo 0.2508885720053001\n",
      "6 encontraron 0.30544950390412995\n",
      "7 agosto 0.2790290043106764\n",
      "8 rubros 0.2460146524873568\n",
      "9 alza 0.5274905497245108\n",
      "10 leve 0.2921257694628441\n",
      "11 trabajadores 0.3749352764221711\n",
      "12 acelera 0.2428961529938929\n",
      "13 precios 0.32699174284298715\n",
      "14 resto 0.3468828130494463\n",
      "15 dias 0.47182854821128334\n",
      "16 vienen 0.2991977324961564\n",
      "17 programa 0.27197594569019423\n",
      "18 pesos 0.34568997655852757\n",
      "19 banco 0.2562617919772549\n",
      "20 millones 0.40842628762777783\n"
     ]
    }
   ],
   "source": [
    "for row in range(dummies_tfidf.shape[0]):\n",
    "    print(row, dummies_tfidf.iloc[row].sort_values(ascending=False).index[0], dummies_tfidf.iloc[row].sort_values(ascending=False)[0])"
   ]
  },
  {
   "cell_type": "code",
   "execution_count": 30,
   "metadata": {},
   "outputs": [
    {
     "name": "stdout",
     "output_type": "stream",
     "text": [
      "documento 0 \n",
      " ['interanual', 'estimador', 'nueve', 'caera', 'actividad', 'economica', 'acumula', 'emae', 'mensual', 'estima', 'baja', 'meses', 'economia', 'habiles', 'dias', 'eliminar', 'efecto', 'incremento', 'dos', 'dolares', 'dolar', 'divisas', 'indec', 'disparo', 'indice'] \n",
      "peso: 0.12391032075826743\n",
      "--------------\n",
      "documento 1 \n",
      " ['millones', 'us', 'menos', 'faltante', 'divisas', 'liquido', 'objetivo', 'campo', 'agrava', 'medida', 'septiembre', 'logro', 'octubre', 'gobierno', 'vienen', 'dolar', 'diciembre', 'dolares', 'dos', 'economia', 'economica', 'efecto', 'eliminar', 'disparo', 'desciende'] \n",
      "peso: 0.12360110327535394\n",
      "--------------\n",
      "documento 2 \n",
      " ['cierran', 'consultoras', 'recomposicion', 'reclamo', 'salarial', 'salario', 'sectores', 'sera', 'movilizan', 'estiman', 'debajo', 'cae', 'acuerdos', 'paritarios', 'segun', 'poder', 'compra', 'trabajadores', 'suba', 'precios', 'inflacion', 'colocar', 'dias', 'construccion', 'diciembre'] \n",
      "peso: 0.156620606534277\n",
      "--------------\n",
      "documento 3 \n",
      " ['dolar', 'pese', 'liqui', 'oficial', 'nueva', 'disparo', 'miercoles', 'encendiendo', 'mayorista', 'anota', 'amplia', 'subas', 'llego', 'alarmas', 'concesiones', 'jornada', 'blue', 'mep', 'contado', 'brecha', 'guzman', 'cerro', 'dolares', 'dos', 'economia'] \n",
      "peso: 0.160339301670178\n",
      "--------------\n",
      "documento 4 \n",
      " ['nominados', 'canjeo', 'reducir', 'lunes', 'mayor', 'ministerio', 'inversion', 'beneficio', 'pimco', 'titulos', 'endeudamiento', 'fondos', 'templeton', 'cambiaria', 'logro', 'brecha', 'guzman', 'bonos', 'dos', 'dolares', 'pesos', 'economia', 'dolar', 'divisas', 'diciembre'] \n",
      "peso: 0.1605658153046546\n",
      "--------------\n",
      "documento 5 \n",
      " ['fondo', 'frente', 'pequeno', 'quiere', 'protegerse', 'super', 'preserva', 'cepo', 'fraudulenta', 'pagar', 'oficialismo', 'grifo', 'ahorrista', 'deuda', 'mientras', 'cerro', 'dolares', 'inflacion', 'contado', 'desciende', 'economia', 'dos', 'dolar', 'divisas', 'disparo'] \n",
      "peso: 0.1449995064940346\n",
      "--------------\n",
      "documento 6 \n",
      " ['encontraron', 'limite', 'finalizo', 'bajar', 'medidas', 'cotizaciones', 'liquidacion', 'paralelas', 'mep', 'contado', 'cerro', 'dolar', 'divisas', 'economica', 'eliminar', 'emae', 'economia', 'dos', 'emitiran', 'dolares', 'encendiendo', 'efecto', 'vienen', 'disparo', 'diciembre'] \n",
      "peso: 0.11889027968697866\n",
      "--------------\n",
      "documento 7 \n",
      " ['agosto', 'arrastre', 'partir', 'nielsen', 'cada', 'efecto', 'hoy', 'surtidores', 'ajusta', 'liberal', 'guillermo', 'precio', 'economia', 'inflacion', 'diciembre', 'dos', 'dolares', 'dolar', 'economica', 'eliminar', 'emae', 'divisas', 'disparo', 'denuncian', 'dias'] \n",
      "peso: 0.12784999359541527\n",
      "--------------\n",
      "documento 8 \n",
      " ['rubros', 'trabajadoras', 'deie', 'provincial', 'miles', 'resiste', 'aumentaron', 'salariales', 'apertura', 'paritarias', 'estatales', 'indumentaria', 'jueves', 'informo', 'alimentos', 'mientras', 'trabajadores', 'octubre', 'gobierno', 'inflacion', 'dolar', 'dolares', 'hogar', 'divisas', 'dos'] \n",
      "peso: 0.15281237559018793\n",
      "--------------\n",
      "documento 9 \n",
      " ['alza', 'supera', 'tercera', 'aumenta', 'consecutiva', 'arrancaron', 'sesion', 'financieros', 'ahorro', 'cinco', 'dolares', 'dolar', 'pesos', 'debajo', 'divisas', 'emitiran', 'emae', 'eliminar', 'concesiones', 'efecto', 'economica', 'construccion', 'economia', 'dos', 'consultoras'] \n",
      "peso: 0.11888253754877438\n",
      "--------------\n",
      "documento 10 \n",
      " ['leve', 'derrumbe', 'periodo', 'relacion', 'primeros', 'previo', 'acumulo', 'ocho', 'mismo', 'respecto', 'meses', 'suba', 'economia', 'deuda', 'dolar', 'dolares', 'disparo', 'diciembre', 'dos', 'economica', 'dias', 'efecto', 'divisas', 'vienen', 'desciende'] \n",
      "peso: 0.12377757754155526\n",
      "--------------\n",
      "documento 11 \n",
      " ['trabajadores', 'dos', 'calcularon', 'minimos', 'menores', 'paritaria', 'consumos', 'hogar', 'miserable', 'adultos', 'mayores', 'denuncian', 'canasta', 'estatales', 'septiembre', 'indec', 'deie', 'crecieron', 'eliminar', 'efecto', 'construccion', 'consultoras', 'economica', 'consumidor', 'contado'] \n",
      "peso: 0.13498827561393298\n",
      "--------------\n",
      "documento 12 \n",
      " ['acelera', 'transporte', 'incluye', 'caida', 'profundiza', 'basica', 'total', 'incremento', 'registro', 'informo', 'respecto', 'salarios', 'canasta', 'alimentos', 'anterior', 'indumentaria', 'compra', 'indec', 'poder', 'octubre', 'inflacion', 'divisas', 'dolar', 'dolares', 'dos'] \n",
      "peso: 0.1568027027761371\n",
      "--------------\n",
      "documento 13 \n",
      " ['precios', 'consumidor', 'supermercados', 'alimenticias', 'golpe', 'eliminar', 'lista', 'numero', 'negocio', 'articulos', 'bolsillo', 'importante', 'indice', 'segun', 'alto', 'maximos', 'subio', 'registro', 'va', 'indec', 'gobierno', 'construccion', 'efecto', 'economica', 'economia'] \n",
      "peso: 0.15648125901519327\n",
      "--------------\n",
      "documento 14 \n",
      " ['resto', 'horas', 'proximas', 'cadenas', 'ajustaran', 'afectara', 'valores', 'acelerada', 'inflacion', 'emae', 'eliminar', 'efecto', 'emitiran', 'diciembre', 'economica', 'economia', 'dos', 'dolares', 'dolar', 'encendiendo', 'divisas', 'disparo', 'vienen', 'dias', 'deuda'] \n",
      "peso: 0.10235854264812858\n",
      "--------------\n",
      "documento 15 \n",
      " ['dias', 'cnv', 'tener', 'venderlo', 'anuncio', 'vez', 'tres', 'cantidad', 'reduce', 'inversor', 'bono', 'habiles', 'poder', 'dos', 'compra', 'dolares', 'pesos', 'desciende', 'economia', 'dolar', 'divisas', 'economica', 'disparo', 'diciembre', 'deuda'] \n",
      "peso: 0.13706369008991415\n",
      "--------------\n",
      "documento 16 \n",
      " ['vienen', 'pone', 'nivel', 'presion', 'diciembre', 'tarifazos', 'noviembre', 'aceleraran', 'alto', 'aun', 'va', 'precios', 'inflacion', 'economica', 'economia', 'dos', 'dolares', 'divisas', 'efecto', 'disparo', 'dias', 'deuda', 'dolar', 'deie', 'desciende'] \n",
      "peso: 0.12308067341473083\n",
      "--------------\n",
      "documento 17 \n",
      " ['programa', 'habia', 'evitar', 'anunciado', 'sector', 'materiales', 'crecieron', 'solo', 'construccion', 'maximos', 'salarios', 'suba', 'mientras', 'logro', 'gobierno', 'precios', 'economica', 'efecto', 'dos', 'dias', 'diciembre', 'dolares', 'disparo', 'divisas', 'dolar'] \n",
      "peso: 0.1370199402857099\n",
      "--------------\n",
      "documento 18 \n",
      " ['pesos', 'paralelo', 'alcanzado', 'pasado', 'casi', 'rebote', 'record', 'billete', 'rueda', 'mantiene', 'luego', 'cinco', 'aun', 'anterior', 'subio', 'baja', 'jueves', 'dolar', 'octubre', 'fracasos', 'deie', 'habiles', 'dos', 'dolares', 'divisas'] \n",
      "peso: 0.1485715985891319\n",
      "--------------\n",
      "documento 19 \n",
      " ['banco', 'desciende', 'pases', 'rendimientos', 'aumento', 'medio', 'punto', 'plan', 'cerrar', 'festival', 'central', 'blue', 'cambiaria', 'deuda', 'guzman', 'bonos', 'brecha', 'deie', 'dolares', 'consultoras', 'efecto', 'consumidor', 'consumos', 'economica', 'economia'] \n",
      "peso: 0.14165123076980593\n",
      "--------------\n",
      "documento 20 \n",
      " ['millones', 'equivalente', 'podra', 'especuladores', 'buscan', 'calmar', 'fracasos', 'tambien', 'ligados', 'tasa', 'emitiran', 'colocar', 'acumulacion', 'interes', 'medida', 'us', 'bonos', 'inflacion', 'dolar', 'dolares', 'construccion', 'contado', 'dos', 'disparo', 'economia'] \n",
      "peso: 0.142936476434817\n",
      "--------------\n"
     ]
    }
   ],
   "source": [
    "for row in range(dummies_tfidf.shape[0]):\n",
    "    print('documento',row,'\\n',\n",
    "          list(dummies_tfidf.iloc[row].sort_values(ascending=False).index[0:25]), '\\n'\n",
    "          'peso:',\n",
    "          sum(dummies_tfidf.iloc[row].sort_values(ascending=False)[0:25]) / len(corpus))\n",
    "    print('--------------')"
   ]
  },
  {
   "cell_type": "markdown",
   "metadata": {},
   "source": [
    "#### Naive Bayes"
   ]
  },
  {
   "cell_type": "code",
   "execution_count": 31,
   "metadata": {},
   "outputs": [],
   "source": [
    "from sklearn.naive_bayes import MultinomialNB\n",
    "from sklearn.metrics import accuracy_score\n",
    "from sklearn.metrics import confusion_matrix"
   ]
  },
  {
   "cell_type": "code",
   "execution_count": 32,
   "metadata": {},
   "outputs": [
    {
     "data": {
      "text/plain": [
       "MultinomialNB()"
      ]
     },
     "execution_count": 32,
     "metadata": {},
     "output_type": "execute_result"
    }
   ],
   "source": [
    "multi_nb = MultinomialNB()\n",
    "\n",
    "multi_nb.fit(X_train, y_train.values.astype(int))"
   ]
  },
  {
   "cell_type": "code",
   "execution_count": 33,
   "metadata": {},
   "outputs": [],
   "source": [
    "#X_test = vectorizer.transform(test.apply(lambda x: re.sub(r'(\\d|\\$|\\%|\\+)', '', x)))\n",
    "X_test = vectorizer.transform(test)"
   ]
  },
  {
   "cell_type": "code",
   "execution_count": 34,
   "metadata": {},
   "outputs": [
    {
     "name": "stdout",
     "output_type": "stream",
     "text": [
      "  (0, 241)\t1\n",
      "  (1, 45)\t2\n",
      "  (1, 54)\t1\n",
      "  (1, 75)\t1\n",
      "  (1, 88)\t2\n",
      "  (1, 120)\t1\n",
      "  (1, 144)\t1\n",
      "  (1, 159)\t1\n",
      "  (1, 164)\t1\n",
      "  (1, 190)\t1\n",
      "  (1, 246)\t1\n",
      "  (2, 10)\t2\n",
      "  (2, 24)\t1\n",
      "  (2, 51)\t1\n",
      "  (2, 129)\t1\n",
      "  (2, 130)\t1\n",
      "  (2, 132)\t1\n",
      "  (2, 134)\t1\n",
      "  (2, 155)\t1\n",
      "  (2, 229)\t1\n",
      "  (2, 236)\t2\n",
      "  (2, 237)\t1\n",
      "  (2, 244)\t1\n",
      "  (2, 258)\t1\n",
      "  (2, 260)\t1\n",
      "  :\t:\n",
      "  (4, 157)\t1\n",
      "  (4, 164)\t1\n",
      "  (4, 244)\t1\n",
      "  (5, 45)\t1\n",
      "  (5, 75)\t1\n",
      "  (5, 116)\t1\n",
      "  (5, 144)\t1\n",
      "  (5, 152)\t1\n",
      "  (5, 186)\t1\n",
      "  (5, 200)\t1\n",
      "  (5, 222)\t1\n",
      "  (5, 226)\t1\n",
      "  (5, 251)\t1\n",
      "  (5, 265)\t1\n",
      "  (6, 20)\t1\n",
      "  (6, 24)\t1\n",
      "  (6, 35)\t1\n",
      "  (6, 65)\t1\n",
      "  (6, 173)\t1\n",
      "  (6, 229)\t1\n",
      "  (7, 3)\t1\n",
      "  (7, 71)\t1\n",
      "  (7, 165)\t2\n",
      "  (7, 238)\t1\n",
      "  (7, 240)\t1\n"
     ]
    }
   ],
   "source": [
    "print(X_test)"
   ]
  },
  {
   "cell_type": "code",
   "execution_count": 35,
   "metadata": {},
   "outputs": [],
   "source": [
    "y_pred = multi_nb.predict(X_test)"
   ]
  },
  {
   "cell_type": "code",
   "execution_count": 36,
   "metadata": {},
   "outputs": [],
   "source": [
    "from sklearn.metrics import accuracy_score"
   ]
  },
  {
   "cell_type": "code",
   "execution_count": 37,
   "metadata": {},
   "outputs": [
    {
     "data": {
      "text/plain": [
       "1.0"
      ]
     },
     "execution_count": 37,
     "metadata": {},
     "output_type": "execute_result"
    }
   ],
   "source": [
    "accuracy_score(y_pred, y_test.values.astype(int))"
   ]
  },
  {
   "cell_type": "code",
   "execution_count": null,
   "metadata": {},
   "outputs": [],
   "source": []
  }
 ],
 "metadata": {
  "kernelspec": {
   "display_name": "Python 3",
   "language": "python",
   "name": "python3"
  },
  "language_info": {
   "codemirror_mode": {
    "name": "ipython",
    "version": 3
   },
   "file_extension": ".py",
   "mimetype": "text/x-python",
   "name": "python",
   "nbconvert_exporter": "python",
   "pygments_lexer": "ipython3",
   "version": "3.7.7"
  }
 },
 "nbformat": 4,
 "nbformat_minor": 4
}
