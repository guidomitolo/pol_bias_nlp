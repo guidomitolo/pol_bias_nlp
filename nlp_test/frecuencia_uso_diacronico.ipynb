{
 "cells": [
  {
   "cell_type": "code",
   "execution_count": null,
   "metadata": {},
   "outputs": [],
   "source": [
    "import nltk\n",
    "from nltk.corpus import PlaintextCorpusReader\n",
    "corpus_root = './python_projects/blog' \n",
    "wordlists = PlaintextCorpusReader(corpus_root, '.*', encoding='latin-1')\n",
    "#wordlists.fileids() # con esto listamos los archivos del directorio\n",
    " \n",
    "cfd = nltk.ConditionalFreqDist(\n",
    "        (word,genre)\n",
    "        for genre in anios\n",
    "        for w in wordlists.words(genre + '.txt')\n",
    "        for word in ['casa','mundo','tiempo','vida']\n",
    "        if w.lower().startswith(word) )\n",
    "cfd.plot()"
   ]
  }
 ],
 "metadata": {
  "kernelspec": {
   "display_name": "Python 3",
   "language": "python",
   "name": "python3"
  },
  "language_info": {
   "codemirror_mode": {
    "name": "ipython",
    "version": 3
   },
   "file_extension": ".py",
   "mimetype": "text/x-python",
   "name": "python",
   "nbconvert_exporter": "python",
   "pygments_lexer": "ipython3",
   "version": "3.7.7"
  }
 },
 "nbformat": 4,
 "nbformat_minor": 4
}
