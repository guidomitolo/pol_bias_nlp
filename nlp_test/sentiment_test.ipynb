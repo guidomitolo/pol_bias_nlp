{
 "cells": [
  {
   "cell_type": "code",
   "execution_count": 21,
   "metadata": {},
   "outputs": [],
   "source": [
    "import pandas as pd\n",
    "from textblob import TextBlob"
   ]
  },
  {
   "cell_type": "code",
   "execution_count": 10,
   "metadata": {},
   "outputs": [
    {
     "name": "stdout",
     "output_type": "stream",
     "text": [
      "[('The', 'DT'), ('titular', 'JJ'), ('threat', 'NN'), ('of', 'IN'), ('The', 'DT'), ('Blob', 'NNP'), ('has', 'VBZ'), ('always', 'RB'), ('struck', 'VBN'), ('me', 'PRP'), ('as', 'IN'), ('the', 'DT'), ('ultimate', 'JJ'), ('movie', 'NN'), ('monster', 'NN'), ('an', 'DT'), ('insatiably', 'RB'), ('hungry', 'JJ'), ('amoeba-like', 'JJ'), ('mass', 'NN'), ('able', 'JJ'), ('to', 'TO'), ('penetrate', 'VB'), ('virtually', 'RB'), ('any', 'DT'), ('safeguard', 'NN'), ('capable', 'JJ'), ('of', 'IN'), ('as', 'IN'), ('a', 'DT'), ('doomed', 'JJ'), ('doctor', 'NN'), ('chillingly', 'RB'), ('describes', 'VBZ'), ('it', 'PRP'), ('assimilating', 'VBG'), ('flesh', 'NN'), ('on', 'IN'), ('contact', 'NN'), ('Snide', 'JJ'), ('comparisons', 'NNS'), ('to', 'TO'), ('gelatin', 'VB'), ('be', 'VB'), ('damned', 'VBN'), ('it', 'PRP'), (\"'s\", 'VBZ'), ('a', 'DT'), ('concept', 'NN'), ('with', 'IN'), ('the', 'DT'), ('most', 'RBS'), ('devastating', 'JJ'), ('of', 'IN'), ('potential', 'JJ'), ('consequences', 'NNS'), ('not', 'RB'), ('unlike', 'IN'), ('the', 'DT'), ('grey', 'NN'), ('goo', 'NN'), ('scenario', 'NN'), ('proposed', 'VBN'), ('by', 'IN'), ('technological', 'JJ'), ('theorists', 'NNS'), ('fearful', 'NN'), ('of', 'IN'), ('artificial', 'JJ'), ('intelligence', 'NN'), ('run', 'NN'), ('rampant', 'NN')]\n",
      "\n",
      "['titular threat', 'blob', 'ultimate movie monster', 'amoeba-like mass', 'snide', 'potential consequences', 'grey goo scenario', 'technological theorists fearful', 'artificial intelligence run rampant']\n",
      "\n",
      "[Sentence(\"\n",
      "The titular threat of The Blob has always struck me as the ultimate movie\n",
      "monster: an insatiably hungry, amoeba-like mass able to penetrate\n",
      "virtually any safeguard, capable of--as a doomed doctor chillingly\n",
      "describes it--\"assimilating flesh on contact.\"), Sentence(\"Snide comparisons to gelatin be damned, it's a concept with the most\n",
      "devastating of potential consequences, not unlike the grey goo scenario\n",
      "proposed by technological theorists fearful of\n",
      "artificial intelligence run rampant.\")] 2\n",
      "\n",
      "Sentiment(polarity=0.06000000000000001, subjectivity=0.605)\n",
      "0.06000000000000001\n",
      "Sentiment(polarity=-0.34166666666666673, subjectivity=0.7666666666666666)\n",
      "-0.34166666666666673\n"
     ]
    }
   ],
   "source": [
    "text = '''\n",
    "The titular threat of The Blob has always struck me as the ultimate movie\n",
    "monster: an insatiably hungry, amoeba-like mass able to penetrate\n",
    "virtually any safeguard, capable of--as a doomed doctor chillingly\n",
    "describes it--\"assimilating flesh on contact.\n",
    "Snide comparisons to gelatin be damned, it's a concept with the most\n",
    "devastating of potential consequences, not unlike the grey goo scenario\n",
    "proposed by technological theorists fearful of\n",
    "artificial intelligence run rampant.\n",
    "'''\n",
    "\n",
    "blob = TextBlob(text)\n",
    "blob.tags           # [('The', 'DT'), ('titular', 'JJ'),\n",
    "                    #  ('threat', 'NN'), ('of', 'IN'), ...]\n",
    "\n",
    "blob.noun_phrases   # WordList(['titular threat', 'blob',\n",
    "                    #            'ultimate movie monster',\n",
    "                    #            'amoeba-like mass', ...])\n",
    "\n",
    "print(blob.tags)\n",
    "print()\n",
    "print(blob.noun_phrases)\n",
    "print()\n",
    "print(blob.sentences, len(blob.sentences))\n",
    "print()        \n",
    "for sentence in blob.sentences:\n",
    "    print(sentence.sentiment)\n",
    "    print(sentence.sentiment.polarity)"
   ]
  },
  {
   "cell_type": "code",
   "execution_count": 19,
   "metadata": {},
   "outputs": [
    {
     "name": "stdout",
     "output_type": "stream",
     "text": [
      "es\n",
      "[('la', 'NN'), ('película', 'NN'), ('es', 'NN'), ('mediocre', 'NN'), ('como', 'NN'), ('el', 'NN'), ('pochoclo', 'NN')]\n",
      "\n",
      "['película es', 'como el pochoclo']\n",
      "\n",
      "[Sentence(\"la película es mediocre, como el pochoclo\")] 1\n",
      "\n",
      "Sentiment(polarity=-0.5, subjectivity=1.0)\n",
      "-0.5\n"
     ]
    }
   ],
   "source": [
    "# text = '''la película es horrible, pero el pochoclo es riquísimo'''\n",
    "text = '''la película es mediocre, como el pochoclo'''\n",
    "\n",
    "blob = TextBlob(text)\n",
    "\n",
    "language = blob.detect_language()\n",
    "print(language)\n",
    "\n",
    "#if language == 'en':\n",
    "#    print('en')\n",
    "#    analysis_ready = bob\n",
    "#else:\n",
    "#    print('translate')\n",
    "#    blob = blob.translate(to='sp')\n",
    "\n",
    "blob.tags\n",
    "\n",
    "blob.noun_phrases\n",
    "\n",
    "print(blob.tags)\n",
    "print()\n",
    "print(blob.noun_phrases)\n",
    "print()\n",
    "print(blob.sentences, len(blob.sentences))\n",
    "print()        \n",
    "for sentence in blob.sentences:\n",
    "    print(sentence.sentiment)\n",
    "    print(sentence.sentiment.polarity)"
   ]
  },
  {
   "cell_type": "code",
   "execution_count": 39,
   "metadata": {},
   "outputs": [],
   "source": [
    "df = pd.read_csv('./data/derecha_econ_news.csv')\n",
    "df2 = pd.read_csv('./data/izq_econ_news.csv')"
   ]
  },
  {
   "cell_type": "code",
   "execution_count": 42,
   "metadata": {},
   "outputs": [
    {
     "data": {
      "text/plain": [
       "'El ministro de Trabajo, Claudio Moroni, confirmó que el Gobierno nacional prorrogará la prohibición de despedir trabajadores y la doble indemnización. La medida no alcanza a aquellas personas que hayan ingresado a sus trabajos luego de decretada la emergencia sanitaria a causa de la pandemia de coronavirus ni a los empleados públicos.'"
      ]
     },
     "execution_count": 42,
     "metadata": {},
     "output_type": "execute_result"
    }
   ],
   "source": [
    "df2.lead[1]"
   ]
  },
  {
   "cell_type": "code",
   "execution_count": 43,
   "metadata": {},
   "outputs": [
    {
     "name": "stdout",
     "output_type": "stream",
     "text": [
      "es\n",
      "en\n",
      "[('The', 'DT'), ('Minister', 'NNP'), ('of', 'IN'), ('Labor', 'NNP'), ('Claudio', 'NNP'), ('Moroni', 'NNP'), ('confirmed', 'VBD'), ('that', 'IN'), ('the', 'DT'), ('national', 'JJ'), ('government', 'NN'), ('will', 'MD'), ('extend', 'VB'), ('the', 'DT'), ('ban', 'NN'), ('on', 'IN'), ('firing', 'VBG'), ('workers', 'NNS'), ('and', 'CC'), ('double', 'JJ'), ('compensation', 'NN'), ('The', 'DT'), ('measure', 'NN'), ('does', 'VBZ'), ('not', 'RB'), ('reach', 'VB'), ('those', 'DT'), ('people', 'NNS'), ('who', 'WP'), ('have', 'VBP'), ('entered', 'VBN'), ('their', 'PRP$'), ('jobs', 'NNS'), ('after', 'IN'), ('the', 'DT'), ('health', 'NN'), ('emergency', 'NN'), ('was', 'VBD'), ('decreed', 'VBN'), ('due', 'JJ'), ('to', 'TO'), ('the', 'DT'), ('coronavirus', 'NN'), ('pandemic', 'JJ'), ('or', 'CC'), ('public', 'JJ'), ('employees', 'NNS')]\n",
      "\n",
      "['claudio moroni', 'national government', 'double compensation', 'health emergency', 'coronavirus pandemic', 'public employees']\n",
      "\n",
      "[Sentence(\"The Minister of Labor, Claudio Moroni, confirmed that the national government will extend the ban on firing workers and double compensation.\"), Sentence(\"The measure does not reach those people who have entered their jobs after the health emergency was decreed due to the coronavirus pandemic or public employees.\")] 2\n",
      "\n",
      "Sentiment(polarity=0.2, subjectivity=0.5)\n",
      "0.2\n",
      "Sentiment(polarity=-0.0625, subjectivity=0.22083333333333333)\n",
      "-0.0625\n"
     ]
    }
   ],
   "source": [
    "# text = '''la película es horrible, pero el pochoclo es riquísimo'''\n",
    "# text = '''la película es mediocre, como el pochoclo'''\n",
    "text = df2.lead[1]\n",
    "\n",
    "blob = TextBlob(text)\n",
    "\n",
    "print(blob.detect_language())\n",
    "blob = blob.translate(to='en')\n",
    "print(blob.detect_language())\n",
    "\n",
    "blob.tags\n",
    "\n",
    "blob.noun_phrases\n",
    "\n",
    "print(blob.tags)\n",
    "print()\n",
    "print(blob.noun_phrases)\n",
    "print()\n",
    "print(blob.sentences, len(blob.sentences))\n",
    "print()        \n",
    "for sentence in blob.sentences:\n",
    "    print(sentence.sentiment)\n",
    "    print(sentence.sentiment.polarity)"
   ]
  },
  {
   "cell_type": "code",
   "execution_count": 2,
   "metadata": {},
   "outputs": [
    {
     "ename": "RuntimeError",
     "evalue": "Expected indico_api_token.txt in home directory, or provided as indicoio.config.api_token_path",
     "output_type": "error",
     "traceback": [
      "\u001b[0;31m---------------------------------------------------------------------------\u001b[0m",
      "\u001b[0;31mRuntimeError\u001b[0m                              Traceback (most recent call last)",
      "\u001b[0;32m<ipython-input-2-7a2c6c634cbf>\u001b[0m in \u001b[0;36m<module>\u001b[0;34m\u001b[0m\n\u001b[1;32m      2\u001b[0m \u001b[0;34m\u001b[0m\u001b[0m\n\u001b[1;32m      3\u001b[0m my_config = IndicoConfig(\n\u001b[0;32m----> 4\u001b[0;31m     \u001b[0mapi_token_path\u001b[0m\u001b[0;34m=\u001b[0m\u001b[0;34m'path/to/indico_api_token.txt'\u001b[0m\u001b[0;34m\u001b[0m\u001b[0;34m\u001b[0m\u001b[0m\n\u001b[0m\u001b[1;32m      5\u001b[0m )\n",
      "\u001b[0;32m~/anaconda3/envs/dh/lib/python3.7/site-packages/indico/config/config.py\u001b[0m in \u001b[0;36m__init__\u001b[0;34m(self, **kwargs)\u001b[0m\n\u001b[1;32m     59\u001b[0m \u001b[0;34m\u001b[0m\u001b[0m\n\u001b[1;32m     60\u001b[0m         \u001b[0;32mif\u001b[0m \u001b[0;32mnot\u001b[0m \u001b[0mself\u001b[0m\u001b[0;34m.\u001b[0m\u001b[0mapi_token\u001b[0m\u001b[0;34m:\u001b[0m\u001b[0;34m\u001b[0m\u001b[0;34m\u001b[0m\u001b[0m\n\u001b[0;32m---> 61\u001b[0;31m             \u001b[0mself\u001b[0m\u001b[0;34m.\u001b[0m\u001b[0mapi_token_path\u001b[0m\u001b[0;34m,\u001b[0m \u001b[0mself\u001b[0m\u001b[0;34m.\u001b[0m\u001b[0mapi_token\u001b[0m \u001b[0;34m=\u001b[0m \u001b[0mself\u001b[0m\u001b[0;34m.\u001b[0m\u001b[0m_resolve_api_token\u001b[0m\u001b[0;34m(\u001b[0m\u001b[0;34m)\u001b[0m\u001b[0;34m\u001b[0m\u001b[0;34m\u001b[0m\u001b[0m\n\u001b[0m\u001b[1;32m     62\u001b[0m \u001b[0;34m\u001b[0m\u001b[0m\n\u001b[1;32m     63\u001b[0m     \u001b[0;32mdef\u001b[0m \u001b[0m_resolve_api_token\u001b[0m\u001b[0;34m(\u001b[0m\u001b[0mself\u001b[0m\u001b[0;34m)\u001b[0m\u001b[0;34m:\u001b[0m\u001b[0;34m\u001b[0m\u001b[0;34m\u001b[0m\u001b[0m\n",
      "\u001b[0;32m~/anaconda3/envs/dh/lib/python3.7/site-packages/indico/config/config.py\u001b[0m in \u001b[0;36m_resolve_api_token\u001b[0;34m(self)\u001b[0m\n\u001b[1;32m     72\u001b[0m         \u001b[0;32mif\u001b[0m \u001b[0;32mnot\u001b[0m \u001b[0mpath\u001b[0m\u001b[0;34m.\u001b[0m\u001b[0mexists\u001b[0m\u001b[0;34m(\u001b[0m\u001b[0;34m)\u001b[0m\u001b[0;34m:\u001b[0m\u001b[0;34m\u001b[0m\u001b[0;34m\u001b[0m\u001b[0m\n\u001b[1;32m     73\u001b[0m             raise RuntimeError(\n\u001b[0;32m---> 74\u001b[0;31m                 \u001b[0;34m\"Expected indico_api_token.txt in home directory, \"\u001b[0m\u001b[0;34m\u001b[0m\u001b[0;34m\u001b[0m\u001b[0m\n\u001b[0m\u001b[1;32m     75\u001b[0m                 \u001b[0;34m\"or provided as indicoio.config.api_token_path\"\u001b[0m\u001b[0;34m\u001b[0m\u001b[0;34m\u001b[0m\u001b[0m\n\u001b[1;32m     76\u001b[0m             )\n",
      "\u001b[0;31mRuntimeError\u001b[0m: Expected indico_api_token.txt in home directory, or provided as indicoio.config.api_token_path"
     ]
    }
   ],
   "source": [
    "from indico import IndicoClient, IndicoConfig\n",
    "\n",
    "my_config = IndicoConfig(\n",
    "    api_token_path='path/to/indico_api_token.txt'\n",
    ")"
   ]
  },
  {
   "cell_type": "code",
   "execution_count": null,
   "metadata": {},
   "outputs": [],
   "source": []
  },
  {
   "cell_type": "code",
   "execution_count": null,
   "metadata": {},
   "outputs": [],
   "source": []
  },
  {
   "cell_type": "code",
   "execution_count": null,
   "metadata": {},
   "outputs": [],
   "source": []
  }
 ],
 "metadata": {
  "kernelspec": {
   "display_name": "Python 3",
   "language": "python",
   "name": "python3"
  },
  "language_info": {
   "codemirror_mode": {
    "name": "ipython",
    "version": 3
   },
   "file_extension": ".py",
   "mimetype": "text/x-python",
   "name": "python",
   "nbconvert_exporter": "python",
   "pygments_lexer": "ipython3",
   "version": "3.7.7"
  }
 },
 "nbformat": 4,
 "nbformat_minor": 4
}
