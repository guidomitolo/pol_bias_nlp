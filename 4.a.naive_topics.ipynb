{
 "cells": [
  {
   "cell_type": "markdown",
   "metadata": {},
   "source": [
    "## Naive Bayes"
   ]
  },
  {
   "cell_type": "code",
   "execution_count": 1,
   "metadata": {},
   "outputs": [],
   "source": [
    "import pandas as pd\n",
    "import pickle"
   ]
  },
  {
   "cell_type": "code",
   "execution_count": 2,
   "metadata": {},
   "outputs": [],
   "source": [
    "data = pickle.load(open('data/df_clean_izq.pkl','rb'))"
   ]
  },
  {
   "cell_type": "code",
   "execution_count": 3,
   "metadata": {},
   "outputs": [
    {
     "data": {
      "text/html": [
       "<div>\n",
       "<style scoped>\n",
       "    .dataframe tbody tr th:only-of-type {\n",
       "        vertical-align: middle;\n",
       "    }\n",
       "\n",
       "    .dataframe tbody tr th {\n",
       "        vertical-align: top;\n",
       "    }\n",
       "\n",
       "    .dataframe thead th {\n",
       "        text-align: right;\n",
       "    }\n",
       "</style>\n",
       "<table border=\"1\" class=\"dataframe\">\n",
       "  <thead>\n",
       "    <tr style=\"text-align: right;\">\n",
       "      <th></th>\n",
       "      <th>topics</th>\n",
       "      <th>date</th>\n",
       "      <th>flyer</th>\n",
       "      <th>lead</th>\n",
       "      <th>headline</th>\n",
       "      <th>body</th>\n",
       "      <th>url</th>\n",
       "    </tr>\n",
       "  </thead>\n",
       "  <tbody>\n",
       "    <tr>\n",
       "      <th>12</th>\n",
       "      <td>inflation</td>\n",
       "      <td>\\nViernes 25 de septiembre</td>\n",
       "      <td>LAS EMPRESAS PRESIONAN POR SUBA DE PRECIOS</td>\n",
       "      <td>Las cámaras de supermercados denuncian que rec...</td>\n",
       "      <td>Precios Máximos: los supermercados reciben un ...</td>\n",
       "      <td>Directivos de cámaras de supermercados denunci...</td>\n",
       "      <td>https://www.laizquierdadiario.com/Economia/Pre...</td>\n",
       "    </tr>\n",
       "    <tr>\n",
       "      <th>55</th>\n",
       "      <td>exchange</td>\n",
       "      <td>\\nJueves 17 de septiembre</td>\n",
       "      <td>RESTRICCIONES CAMBIARIAS</td>\n",
       "      <td>Ambos servicios se pueden pesificar para evita...</td>\n",
       "      <td>Netflix y Spotify: ¿cómo hacer para pesificar ...</td>\n",
       "      <td>Tras las nuevas medidas dispuestas por el Banc...</td>\n",
       "      <td>https://www.laizquierdadiario.com/Economia/Net...</td>\n",
       "    </tr>\n",
       "    <tr>\n",
       "      <th>8</th>\n",
       "      <td>inflation</td>\n",
       "      <td>\\nMiércoles 21 de octubre</td>\n",
       "      <td>INDEC</td>\n",
       "      <td>Mientras los materiales para la construcción c...</td>\n",
       "      <td>Los precios mayoristas aumentaron 3,7 % en sep...</td>\n",
       "      <td>Este miércoles el Indec publicó el índice de p...</td>\n",
       "      <td>https://www.laizquierdadiario.com/Economia/Los...</td>\n",
       "    </tr>\n",
       "    <tr>\n",
       "      <th>15</th>\n",
       "      <td>inflation</td>\n",
       "      <td>\\nJueves 17 de septiembre</td>\n",
       "      <td>INFORME INDEC</td>\n",
       "      <td>En agosto subió 2,1 %, y la canasta básica ali...</td>\n",
       "      <td>El costo de vida aumentó 37,8 % en un año</td>\n",
       "      <td>La Canasta Básica Total (CBT) registró en agos...</td>\n",
       "      <td>https://www.laizquierdadiario.com/Economia/El-...</td>\n",
       "    </tr>\n",
       "    <tr>\n",
       "      <th>7</th>\n",
       "      <td>inflation</td>\n",
       "      <td>\\nJueves 12 de noviembre</td>\n",
       "      <td>INFORME INDEC</td>\n",
       "      <td>Es el registro más alto del año. En lo que va ...</td>\n",
       "      <td>Se acelera la inflación: alimentos y ropa, lo ...</td>\n",
       "      <td>La suba de precios no se detiene. Según anunci...</td>\n",
       "      <td>https://www.laizquierdadiario.com/Economia/La-...</td>\n",
       "    </tr>\n",
       "  </tbody>\n",
       "</table>\n",
       "</div>"
      ],
      "text/plain": [
       "       topics                        date  \\\n",
       "12  inflation  \\nViernes 25 de septiembre   \n",
       "55   exchange   \\nJueves 17 de septiembre   \n",
       "8   inflation   \\nMiércoles 21 de octubre   \n",
       "15  inflation   \\nJueves 17 de septiembre   \n",
       "7   inflation    \\nJueves 12 de noviembre   \n",
       "\n",
       "                                         flyer  \\\n",
       "12  LAS EMPRESAS PRESIONAN POR SUBA DE PRECIOS   \n",
       "55                    RESTRICCIONES CAMBIARIAS   \n",
       "8                                        INDEC   \n",
       "15                               INFORME INDEC   \n",
       "7                                INFORME INDEC   \n",
       "\n",
       "                                                 lead  \\\n",
       "12  Las cámaras de supermercados denuncian que rec...   \n",
       "55  Ambos servicios se pueden pesificar para evita...   \n",
       "8   Mientras los materiales para la construcción c...   \n",
       "15  En agosto subió 2,1 %, y la canasta básica ali...   \n",
       "7   Es el registro más alto del año. En lo que va ...   \n",
       "\n",
       "                                             headline  \\\n",
       "12  Precios Máximos: los supermercados reciben un ...   \n",
       "55  Netflix y Spotify: ¿cómo hacer para pesificar ...   \n",
       "8   Los precios mayoristas aumentaron 3,7 % en sep...   \n",
       "15          El costo de vida aumentó 37,8 % en un año   \n",
       "7   Se acelera la inflación: alimentos y ropa, lo ...   \n",
       "\n",
       "                                                 body  \\\n",
       "12  Directivos de cámaras de supermercados denunci...   \n",
       "55  Tras las nuevas medidas dispuestas por el Banc...   \n",
       "8   Este miércoles el Indec publicó el índice de p...   \n",
       "15  La Canasta Básica Total (CBT) registró en agos...   \n",
       "7   La suba de precios no se detiene. Según anunci...   \n",
       "\n",
       "                                                  url  \n",
       "12  https://www.laizquierdadiario.com/Economia/Pre...  \n",
       "55  https://www.laizquierdadiario.com/Economia/Net...  \n",
       "8   https://www.laizquierdadiario.com/Economia/Los...  \n",
       "15  https://www.laizquierdadiario.com/Economia/El-...  \n",
       "7   https://www.laizquierdadiario.com/Economia/La-...  "
      ]
     },
     "execution_count": 3,
     "metadata": {},
     "output_type": "execute_result"
    }
   ],
   "source": [
    "data.sample(5)"
   ]
  },
  {
   "cell_type": "code",
   "execution_count": 4,
   "metadata": {},
   "outputs": [
    {
     "data": {
      "text/plain": [
       "(34, 7)"
      ]
     },
     "execution_count": 4,
     "metadata": {},
     "output_type": "execute_result"
    }
   ],
   "source": [
    "df_inflation = data.loc[data.topics == 'inflation']\n",
    "df_inflation.shape"
   ]
  },
  {
   "cell_type": "code",
   "execution_count": 5,
   "metadata": {},
   "outputs": [
    {
     "data": {
      "text/plain": [
       "(26, 7)"
      ]
     },
     "execution_count": 5,
     "metadata": {},
     "output_type": "execute_result"
    }
   ],
   "source": [
    "df_exchange = data.loc[data.topics == 'exchange']\n",
    "df_exchange.shape"
   ]
  },
  {
   "cell_type": "code",
   "execution_count": 6,
   "metadata": {},
   "outputs": [
    {
     "data": {
      "text/plain": [
       "60"
      ]
     },
     "execution_count": 6,
     "metadata": {},
     "output_type": "execute_result"
    }
   ],
   "source": [
    "corpus = list(df_inflation.body.values) + list(df_exchange.body.values)\n",
    "len(corpus)"
   ]
  },
  {
   "cell_type": "code",
   "execution_count": 7,
   "metadata": {},
   "outputs": [],
   "source": [
    "target = list(df_inflation.topics.values) + list(df_exchange.topics.values)"
   ]
  },
  {
   "cell_type": "code",
   "execution_count": 8,
   "metadata": {},
   "outputs": [
    {
     "data": {
      "text/html": [
       "<div>\n",
       "<style scoped>\n",
       "    .dataframe tbody tr th:only-of-type {\n",
       "        vertical-align: middle;\n",
       "    }\n",
       "\n",
       "    .dataframe tbody tr th {\n",
       "        vertical-align: top;\n",
       "    }\n",
       "\n",
       "    .dataframe thead th {\n",
       "        text-align: right;\n",
       "    }\n",
       "</style>\n",
       "<table border=\"1\" class=\"dataframe\">\n",
       "  <thead>\n",
       "    <tr style=\"text-align: right;\">\n",
       "      <th></th>\n",
       "      <th>0</th>\n",
       "      <th>1</th>\n",
       "    </tr>\n",
       "  </thead>\n",
       "  <tbody>\n",
       "    <tr>\n",
       "      <th>0</th>\n",
       "      <td>Se trata del mismo aumento que aplicó Massalin...</td>\n",
       "      <td>inflation</td>\n",
       "    </tr>\n",
       "    <tr>\n",
       "      <th>1</th>\n",
       "      <td>La petrolera Raizen, dueña de la marca Shell, ...</td>\n",
       "      <td>inflation</td>\n",
       "    </tr>\n",
       "    <tr>\n",
       "      <th>2</th>\n",
       "      <td>Los precios de los combustibles comercializado...</td>\n",
       "      <td>inflation</td>\n",
       "    </tr>\n",
       "    <tr>\n",
       "      <th>3</th>\n",
       "      <td>¿Cuántos días te dura el salario del mes? Segu...</td>\n",
       "      <td>inflation</td>\n",
       "    </tr>\n",
       "    <tr>\n",
       "      <th>4</th>\n",
       "      <td>El Indec informó este jueves que el Índice de ...</td>\n",
       "      <td>inflation</td>\n",
       "    </tr>\n",
       "    <tr>\n",
       "      <th>5</th>\n",
       "      <td>El Indec informó este martes que la Canasta Bá...</td>\n",
       "      <td>inflation</td>\n",
       "    </tr>\n",
       "    <tr>\n",
       "      <th>6</th>\n",
       "      <td>Este jueves la Dirección de Estadísticas e Inv...</td>\n",
       "      <td>inflation</td>\n",
       "    </tr>\n",
       "    <tr>\n",
       "      <th>7</th>\n",
       "      <td>La suba de precios no se detiene. Según anunci...</td>\n",
       "      <td>inflation</td>\n",
       "    </tr>\n",
       "    <tr>\n",
       "      <th>8</th>\n",
       "      <td>Este miércoles el Indec publicó el índice de p...</td>\n",
       "      <td>inflation</td>\n",
       "    </tr>\n",
       "    <tr>\n",
       "      <th>9</th>\n",
       "      <td>El Indec publicó que la canasta de pobreza fue...</td>\n",
       "      <td>inflation</td>\n",
       "    </tr>\n",
       "    <tr>\n",
       "      <th>10</th>\n",
       "      <td>La Federación Argentina de la Industria del Pa...</td>\n",
       "      <td>inflation</td>\n",
       "    </tr>\n",
       "    <tr>\n",
       "      <th>11</th>\n",
       "      <td>El Indec publicó este miércoles el Indice de s...</td>\n",
       "      <td>inflation</td>\n",
       "    </tr>\n",
       "    <tr>\n",
       "      <th>12</th>\n",
       "      <td>Directivos de cámaras de supermercados denunci...</td>\n",
       "      <td>inflation</td>\n",
       "    </tr>\n",
       "    <tr>\n",
       "      <th>13</th>\n",
       "      <td>El último año de gobierno de Mauricio Macri el...</td>\n",
       "      <td>inflation</td>\n",
       "    </tr>\n",
       "    <tr>\n",
       "      <th>14</th>\n",
       "      <td>YPF aumenta los combustibles un 3,5 % en prome...</td>\n",
       "      <td>inflation</td>\n",
       "    </tr>\n",
       "    <tr>\n",
       "      <th>15</th>\n",
       "      <td>La Canasta Básica Total (CBT) registró en agos...</td>\n",
       "      <td>inflation</td>\n",
       "    </tr>\n",
       "    <tr>\n",
       "      <th>16</th>\n",
       "      <td>En una entrevista en Tiempo Argentino el empre...</td>\n",
       "      <td>inflation</td>\n",
       "    </tr>\n",
       "    <tr>\n",
       "      <th>17</th>\n",
       "      <td>Este jueves, la Dirección de Estadísticas e In...</td>\n",
       "      <td>inflation</td>\n",
       "    </tr>\n",
       "    <tr>\n",
       "      <th>18</th>\n",
       "      <td>El Indec publicó este martes que los precios m...</td>\n",
       "      <td>inflation</td>\n",
       "    </tr>\n",
       "    <tr>\n",
       "      <th>19</th>\n",
       "      <td>Este miércoles, la Dirección de Estadísticas d...</td>\n",
       "      <td>inflation</td>\n",
       "    </tr>\n",
       "    <tr>\n",
       "      <th>20</th>\n",
       "      <td>La crisis económica se sigue profundizando, el...</td>\n",
       "      <td>inflation</td>\n",
       "    </tr>\n",
       "    <tr>\n",
       "      <th>21</th>\n",
       "      <td>El INDEC presentó este miércoles los datos de ...</td>\n",
       "      <td>inflation</td>\n",
       "    </tr>\n",
       "    <tr>\n",
       "      <th>22</th>\n",
       "      <td>El informe de Precios al Consumidor elaborado ...</td>\n",
       "      <td>inflation</td>\n",
       "    </tr>\n",
       "    <tr>\n",
       "      <th>23</th>\n",
       "      <td>En abril, el segundo mes de la cuarentena obli...</td>\n",
       "      <td>inflation</td>\n",
       "    </tr>\n",
       "    <tr>\n",
       "      <th>24</th>\n",
       "      <td>El Indec publicó que la inflación de abril fue...</td>\n",
       "      <td>inflation</td>\n",
       "    </tr>\n",
       "    <tr>\n",
       "      <th>25</th>\n",
       "      <td>Durante la mañana de este martes fue tendencia...</td>\n",
       "      <td>inflation</td>\n",
       "    </tr>\n",
       "    <tr>\n",
       "      <th>26</th>\n",
       "      <td>En el primer mes de la cuarentena obligatoria ...</td>\n",
       "      <td>inflation</td>\n",
       "    </tr>\n",
       "    <tr>\n",
       "      <th>27</th>\n",
       "      <td>La inflación se aceleró en marzo al 3,3 %, acu...</td>\n",
       "      <td>inflation</td>\n",
       "    </tr>\n",
       "    <tr>\n",
       "      <th>28</th>\n",
       "      <td>En medio de la cuarentena hacer las compras pa...</td>\n",
       "      <td>inflation</td>\n",
       "    </tr>\n",
       "    <tr>\n",
       "      <th>29</th>\n",
       "      <td>En lo que va de 2020 las acciones de YPF perdi...</td>\n",
       "      <td>inflation</td>\n",
       "    </tr>\n",
       "    <tr>\n",
       "      <th>30</th>\n",
       "      <td>La inflación de febrero fue del 2 %, según inf...</td>\n",
       "      <td>inflation</td>\n",
       "    </tr>\n",
       "    <tr>\n",
       "      <th>31</th>\n",
       "      <td>El índice de precios mayoristas aumentó 1,5 % ...</td>\n",
       "      <td>inflation</td>\n",
       "    </tr>\n",
       "    <tr>\n",
       "      <th>32</th>\n",
       "      <td>En el inicio del año la inflación según la Dir...</td>\n",
       "      <td>inflation</td>\n",
       "    </tr>\n",
       "    <tr>\n",
       "      <th>33</th>\n",
       "      <td>Este jueves el Indec dará a conocer la inflaci...</td>\n",
       "      <td>inflation</td>\n",
       "    </tr>\n",
       "    <tr>\n",
       "      <th>34</th>\n",
       "      <td>La Comisión Nacional de Valores (CNV) a través...</td>\n",
       "      <td>exchange</td>\n",
       "    </tr>\n",
       "    <tr>\n",
       "      <th>35</th>\n",
       "      <td>El día después de la votación del Presupuesto ...</td>\n",
       "      <td>exchange</td>\n",
       "    </tr>\n",
       "    <tr>\n",
       "      <th>36</th>\n",
       "      <td>El dólar blue vuelve a aumentar este viernes. ...</td>\n",
       "      <td>exchange</td>\n",
       "    </tr>\n",
       "    <tr>\n",
       "      <th>37</th>\n",
       "      <td>El dólar blue tuvo un incremento de cinco peso...</td>\n",
       "      <td>exchange</td>\n",
       "    </tr>\n",
       "    <tr>\n",
       "      <th>38</th>\n",
       "      <td>En medio de las reuniones con la delegación de...</td>\n",
       "      <td>exchange</td>\n",
       "    </tr>\n",
       "    <tr>\n",
       "      <th>39</th>\n",
       "      <td>El dólar blue volvió a bajar este martes y se ...</td>\n",
       "      <td>exchange</td>\n",
       "    </tr>\n",
       "    <tr>\n",
       "      <th>40</th>\n",
       "      <td>El Gobierno de Alberto Fernández pagó esta sem...</td>\n",
       "      <td>exchange</td>\n",
       "    </tr>\n",
       "    <tr>\n",
       "      <th>41</th>\n",
       "      <td>La falta de dólares es un “problema estructura...</td>\n",
       "      <td>exchange</td>\n",
       "    </tr>\n",
       "    <tr>\n",
       "      <th>42</th>\n",
       "      <td>El dólar blue descendió este jueves a $ 175, m...</td>\n",
       "      <td>exchange</td>\n",
       "    </tr>\n",
       "    <tr>\n",
       "      <th>43</th>\n",
       "      <td>Este martes el Gobierno hará una emisión de de...</td>\n",
       "      <td>exchange</td>\n",
       "    </tr>\n",
       "    <tr>\n",
       "      <th>44</th>\n",
       "      <td>La semana empezó con una fuerte volatilidad en...</td>\n",
       "      <td>exchange</td>\n",
       "    </tr>\n",
       "    <tr>\n",
       "      <th>45</th>\n",
       "      <td>El dólar blue se vende a $ 195 y alcanza un nu...</td>\n",
       "      <td>exchange</td>\n",
       "    </tr>\n",
       "    <tr>\n",
       "      <th>46</th>\n",
       "      <td>La cotización de la divisa norteamericana sigu...</td>\n",
       "      <td>exchange</td>\n",
       "    </tr>\n",
       "    <tr>\n",
       "      <th>47</th>\n",
       "      <td>Luego de las medidas anunciadas por el Ministe...</td>\n",
       "      <td>exchange</td>\n",
       "    </tr>\n",
       "    <tr>\n",
       "      <th>48</th>\n",
       "      <td>Este lunes el ministerio de Economía anunció n...</td>\n",
       "      <td>exchange</td>\n",
       "    </tr>\n",
       "    <tr>\n",
       "      <th>49</th>\n",
       "      <td>La tensión en el mercado de cambios no cede, r...</td>\n",
       "      <td>exchange</td>\n",
       "    </tr>\n",
       "    <tr>\n",
       "      <th>50</th>\n",
       "      <td>La tensión cambiaria no se detiene. El dólar b...</td>\n",
       "      <td>exchange</td>\n",
       "    </tr>\n",
       "    <tr>\n",
       "      <th>51</th>\n",
       "      <td>El dólar blue alcanzó los $ 158 para la venta,...</td>\n",
       "      <td>exchange</td>\n",
       "    </tr>\n",
       "    <tr>\n",
       "      <th>52</th>\n",
       "      <td>El dólar en el mercado informal aumentó $ 2 pa...</td>\n",
       "      <td>exchange</td>\n",
       "    </tr>\n",
       "    <tr>\n",
       "      <th>53</th>\n",
       "      <td>Las medidas anunciadas por el Banco Central y ...</td>\n",
       "      <td>exchange</td>\n",
       "    </tr>\n",
       "    <tr>\n",
       "      <th>54</th>\n",
       "      <td>El dólar blue cayó $ 1 este viernes y cerró en...</td>\n",
       "      <td>exchange</td>\n",
       "    </tr>\n",
       "    <tr>\n",
       "      <th>55</th>\n",
       "      <td>Tras las nuevas medidas dispuestas por el Banc...</td>\n",
       "      <td>exchange</td>\n",
       "    </tr>\n",
       "    <tr>\n",
       "      <th>56</th>\n",
       "      <td>Tras la euforia en los “mercados” por el acuer...</td>\n",
       "      <td>exchange</td>\n",
       "    </tr>\n",
       "    <tr>\n",
       "      <th>57</th>\n",
       "      <td>El dólar blue aumentó casi $ 10 en una semana....</td>\n",
       "      <td>exchange</td>\n",
       "    </tr>\n",
       "    <tr>\n",
       "      <th>58</th>\n",
       "      <td>El dólar blue alcanzó los $ 138, el “contado c...</td>\n",
       "      <td>exchange</td>\n",
       "    </tr>\n",
       "    <tr>\n",
       "      <th>59</th>\n",
       "      <td>El dólar paralelo tuvo otra jornada de suba. E...</td>\n",
       "      <td>exchange</td>\n",
       "    </tr>\n",
       "  </tbody>\n",
       "</table>\n",
       "</div>"
      ],
      "text/plain": [
       "                                                    0          1\n",
       "0   Se trata del mismo aumento que aplicó Massalin...  inflation\n",
       "1   La petrolera Raizen, dueña de la marca Shell, ...  inflation\n",
       "2   Los precios de los combustibles comercializado...  inflation\n",
       "3   ¿Cuántos días te dura el salario del mes? Segu...  inflation\n",
       "4   El Indec informó este jueves que el Índice de ...  inflation\n",
       "5   El Indec informó este martes que la Canasta Bá...  inflation\n",
       "6   Este jueves la Dirección de Estadísticas e Inv...  inflation\n",
       "7   La suba de precios no se detiene. Según anunci...  inflation\n",
       "8   Este miércoles el Indec publicó el índice de p...  inflation\n",
       "9   El Indec publicó que la canasta de pobreza fue...  inflation\n",
       "10  La Federación Argentina de la Industria del Pa...  inflation\n",
       "11  El Indec publicó este miércoles el Indice de s...  inflation\n",
       "12  Directivos de cámaras de supermercados denunci...  inflation\n",
       "13  El último año de gobierno de Mauricio Macri el...  inflation\n",
       "14  YPF aumenta los combustibles un 3,5 % en prome...  inflation\n",
       "15  La Canasta Básica Total (CBT) registró en agos...  inflation\n",
       "16  En una entrevista en Tiempo Argentino el empre...  inflation\n",
       "17  Este jueves, la Dirección de Estadísticas e In...  inflation\n",
       "18  El Indec publicó este martes que los precios m...  inflation\n",
       "19  Este miércoles, la Dirección de Estadísticas d...  inflation\n",
       "20  La crisis económica se sigue profundizando, el...  inflation\n",
       "21  El INDEC presentó este miércoles los datos de ...  inflation\n",
       "22  El informe de Precios al Consumidor elaborado ...  inflation\n",
       "23  En abril, el segundo mes de la cuarentena obli...  inflation\n",
       "24  El Indec publicó que la inflación de abril fue...  inflation\n",
       "25  Durante la mañana de este martes fue tendencia...  inflation\n",
       "26  En el primer mes de la cuarentena obligatoria ...  inflation\n",
       "27  La inflación se aceleró en marzo al 3,3 %, acu...  inflation\n",
       "28  En medio de la cuarentena hacer las compras pa...  inflation\n",
       "29  En lo que va de 2020 las acciones de YPF perdi...  inflation\n",
       "30  La inflación de febrero fue del 2 %, según inf...  inflation\n",
       "31  El índice de precios mayoristas aumentó 1,5 % ...  inflation\n",
       "32  En el inicio del año la inflación según la Dir...  inflation\n",
       "33  Este jueves el Indec dará a conocer la inflaci...  inflation\n",
       "34  La Comisión Nacional de Valores (CNV) a través...   exchange\n",
       "35  El día después de la votación del Presupuesto ...   exchange\n",
       "36  El dólar blue vuelve a aumentar este viernes. ...   exchange\n",
       "37  El dólar blue tuvo un incremento de cinco peso...   exchange\n",
       "38  En medio de las reuniones con la delegación de...   exchange\n",
       "39  El dólar blue volvió a bajar este martes y se ...   exchange\n",
       "40  El Gobierno de Alberto Fernández pagó esta sem...   exchange\n",
       "41  La falta de dólares es un “problema estructura...   exchange\n",
       "42  El dólar blue descendió este jueves a $ 175, m...   exchange\n",
       "43  Este martes el Gobierno hará una emisión de de...   exchange\n",
       "44  La semana empezó con una fuerte volatilidad en...   exchange\n",
       "45  El dólar blue se vende a $ 195 y alcanza un nu...   exchange\n",
       "46  La cotización de la divisa norteamericana sigu...   exchange\n",
       "47  Luego de las medidas anunciadas por el Ministe...   exchange\n",
       "48  Este lunes el ministerio de Economía anunció n...   exchange\n",
       "49  La tensión en el mercado de cambios no cede, r...   exchange\n",
       "50  La tensión cambiaria no se detiene. El dólar b...   exchange\n",
       "51  El dólar blue alcanzó los $ 158 para la venta,...   exchange\n",
       "52  El dólar en el mercado informal aumentó $ 2 pa...   exchange\n",
       "53  Las medidas anunciadas por el Banco Central y ...   exchange\n",
       "54  El dólar blue cayó $ 1 este viernes y cerró en...   exchange\n",
       "55  Tras las nuevas medidas dispuestas por el Banc...   exchange\n",
       "56  Tras la euforia en los “mercados” por el acuer...   exchange\n",
       "57  El dólar blue aumentó casi $ 10 en una semana....   exchange\n",
       "58  El dólar blue alcanzó los $ 138, el “contado c...   exchange\n",
       "59  El dólar paralelo tuvo otra jornada de suba. E...   exchange"
      ]
     },
     "execution_count": 8,
     "metadata": {},
     "output_type": "execute_result"
    }
   ],
   "source": [
    "data = pd.DataFrame([corpus, target]).transpose()\n",
    "data"
   ]
  },
  {
   "cell_type": "markdown",
   "metadata": {},
   "source": [
    "### Train - Test Split"
   ]
  },
  {
   "cell_type": "code",
   "execution_count": 9,
   "metadata": {},
   "outputs": [],
   "source": [
    "from sklearn.model_selection import train_test_split"
   ]
  },
  {
   "cell_type": "code",
   "execution_count": 10,
   "metadata": {},
   "outputs": [],
   "source": [
    "train,test,y_train,y_test = train_test_split(data.iloc[:,0], data.iloc[:,1], train_size=0.75); "
   ]
  },
  {
   "cell_type": "code",
   "execution_count": 11,
   "metadata": {},
   "outputs": [
    {
     "data": {
      "text/plain": [
       "((45,), (15,))"
      ]
     },
     "execution_count": 11,
     "metadata": {},
     "output_type": "execute_result"
    }
   ],
   "source": [
    "train.shape, test.shape"
   ]
  },
  {
   "cell_type": "markdown",
   "metadata": {},
   "source": [
    "### Tokenization + Vectorization\n",
    "#### CountVectorizer"
   ]
  },
  {
   "cell_type": "code",
   "execution_count": 12,
   "metadata": {},
   "outputs": [],
   "source": [
    "from sklearn.feature_extraction.text import CountVectorizer\n",
    "from nltk.corpus import stopwords\n",
    "import re"
   ]
  },
  {
   "cell_type": "code",
   "execution_count": 13,
   "metadata": {},
   "outputs": [],
   "source": [
    "stopwords_sp = stopwords.words('spanish')"
   ]
  },
  {
   "cell_type": "code",
   "execution_count": 14,
   "metadata": {},
   "outputs": [
    {
     "name": "stderr",
     "output_type": "stream",
     "text": [
      "/home/guido/anaconda3/envs/dh/lib/python3.7/site-packages/sklearn/feature_extraction/text.py:386: UserWarning: Your stop_words may be inconsistent with your preprocessing. Tokenizing the stop words generated tokens ['eramos', 'estabamos', 'estais', 'estan', 'estara', 'estaran', 'estaras', 'estare', 'estareis', 'estaria', 'estariais', 'estariamos', 'estarian', 'estarias', 'esteis', 'esten', 'estes', 'estuvieramos', 'estuviesemos', 'fueramos', 'fuesemos', 'habeis', 'habia', 'habiais', 'habiamos', 'habian', 'habias', 'habra', 'habran', 'habras', 'habre', 'habreis', 'habria', 'habriais', 'habriamos', 'habrian', 'habrias', 'hayais', 'hubieramos', 'hubiesemos', 'mas', 'mia', 'mias', 'mio', 'mios', 'seais', 'sera', 'seran', 'seras', 'sere', 'sereis', 'seria', 'seriais', 'seriamos', 'serian', 'serias', 'si', 'tambien', 'tendra', 'tendran', 'tendras', 'tendre', 'tendreis', 'tendria', 'tendriais', 'tendriamos', 'tendrian', 'tendrias', 'teneis', 'tengais', 'tenia', 'teniais', 'teniamos', 'tenian', 'tenias', 'tuvieramos', 'tuviesemos'] not in stop_words.\n",
      "  'stop_words.' % sorted(inconsistent))\n"
     ]
    },
    {
     "data": {
      "text/plain": [
       "CountVectorizer(stop_words=['de', 'la', 'que', 'el', 'en', 'y', 'a', 'los',\n",
       "                            'del', 'se', 'las', 'por', 'un', 'para', 'con',\n",
       "                            'no', 'una', 'su', 'al', 'lo', 'como', 'más',\n",
       "                            'pero', 'sus', 'le', 'ya', 'o', 'este', 'sí',\n",
       "                            'porque', ...],\n",
       "                strip_accents='unicode')"
      ]
     },
     "execution_count": 14,
     "metadata": {},
     "output_type": "execute_result"
    }
   ],
   "source": [
    "vectorizer = CountVectorizer(stop_words = stopwords_sp, lowercase = True, strip_accents='unicode')\n",
    "vectorizer.fit(list(re.sub(r'(\\d|\\$|\\%|\\+)', '', doc) for doc in corpus))"
   ]
  },
  {
   "cell_type": "code",
   "execution_count": 15,
   "metadata": {},
   "outputs": [],
   "source": [
    "X_train = vectorizer.transform(train);"
   ]
  },
  {
   "cell_type": "code",
   "execution_count": 16,
   "metadata": {},
   "outputs": [
    {
     "data": {
      "text/plain": [
       "<45x2903 sparse matrix of type '<class 'numpy.int64'>'\n",
       "\twith 5921 stored elements in Compressed Sparse Row format>"
      ]
     },
     "execution_count": 16,
     "metadata": {},
     "output_type": "execute_result"
    }
   ],
   "source": [
    "X_train"
   ]
  },
  {
   "cell_type": "code",
   "execution_count": 17,
   "metadata": {},
   "outputs": [],
   "source": [
    "X_train_matriz = X_train.todense()"
   ]
  },
  {
   "cell_type": "code",
   "execution_count": 18,
   "metadata": {},
   "outputs": [],
   "source": [
    "X_test = vectorizer.transform(test);"
   ]
  },
  {
   "cell_type": "code",
   "execution_count": 19,
   "metadata": {},
   "outputs": [],
   "source": [
    "X_test_matriz = X_train.todense()"
   ]
  },
  {
   "cell_type": "markdown",
   "metadata": {},
   "source": [
    "#### Tf IDf Vectorizer"
   ]
  },
  {
   "cell_type": "code",
   "execution_count": 20,
   "metadata": {},
   "outputs": [],
   "source": [
    "from sklearn.feature_extraction.text import TfidfTransformer"
   ]
  },
  {
   "cell_type": "code",
   "execution_count": 21,
   "metadata": {},
   "outputs": [],
   "source": [
    "X_train_matriz_tfidf = TfidfTransformer().fit_transform(X_train_matriz);"
   ]
  },
  {
   "cell_type": "code",
   "execution_count": 22,
   "metadata": {},
   "outputs": [],
   "source": [
    "X_test_matriz_tfidf = TfidfTransformer().fit_transform(X_test_matriz);"
   ]
  },
  {
   "cell_type": "markdown",
   "metadata": {},
   "source": [
    "### Multinomial Naive Bayes + CountVectorizer"
   ]
  },
  {
   "cell_type": "code",
   "execution_count": 23,
   "metadata": {},
   "outputs": [],
   "source": [
    "from sklearn.naive_bayes import MultinomialNB\n",
    "from sklearn.metrics import accuracy_score\n",
    "from sklearn.metrics import confusion_matrix"
   ]
  },
  {
   "cell_type": "code",
   "execution_count": 24,
   "metadata": {},
   "outputs": [
    {
     "data": {
      "text/plain": [
       "MultinomialNB()"
      ]
     },
     "execution_count": 24,
     "metadata": {},
     "output_type": "execute_result"
    }
   ],
   "source": [
    "multi_nb = MultinomialNB()\n",
    "\n",
    "multi_nb.fit(X_train, y_train.values)"
   ]
  },
  {
   "cell_type": "code",
   "execution_count": 25,
   "metadata": {},
   "outputs": [],
   "source": [
    "y_pred = multi_nb.predict(X_test)"
   ]
  },
  {
   "cell_type": "code",
   "execution_count": 26,
   "metadata": {},
   "outputs": [],
   "source": [
    "from sklearn.metrics import accuracy_score"
   ]
  },
  {
   "cell_type": "code",
   "execution_count": 27,
   "metadata": {},
   "outputs": [
    {
     "data": {
      "text/plain": [
       "1.0"
      ]
     },
     "execution_count": 27,
     "metadata": {},
     "output_type": "execute_result"
    }
   ],
   "source": [
    "accuracy_score(y_pred, y_test.values)"
   ]
  },
  {
   "cell_type": "markdown",
   "metadata": {},
   "source": [
    "### Multinomial Naive Bayes + TfIDf"
   ]
  },
  {
   "cell_type": "code",
   "execution_count": 28,
   "metadata": {},
   "outputs": [
    {
     "data": {
      "text/plain": [
       "MultinomialNB()"
      ]
     },
     "execution_count": 28,
     "metadata": {},
     "output_type": "execute_result"
    }
   ],
   "source": [
    "multi_nb_2 = MultinomialNB()\n",
    "\n",
    "multi_nb_2.fit(X_train_matriz_tfidf, y_train.values)"
   ]
  },
  {
   "cell_type": "code",
   "execution_count": 29,
   "metadata": {},
   "outputs": [],
   "source": [
    "y_pred = multi_nb_2.predict(X_test)"
   ]
  },
  {
   "cell_type": "code",
   "execution_count": 30,
   "metadata": {},
   "outputs": [],
   "source": [
    "from sklearn.metrics import accuracy_score"
   ]
  },
  {
   "cell_type": "code",
   "execution_count": 31,
   "metadata": {},
   "outputs": [
    {
     "data": {
      "text/plain": [
       "1.0"
      ]
     },
     "execution_count": 31,
     "metadata": {},
     "output_type": "execute_result"
    }
   ],
   "source": [
    "accuracy_score(y_pred, y_test.values)"
   ]
  },
  {
   "cell_type": "markdown",
   "metadata": {},
   "source": [
    "### Tokenization + Vectorization (Manual)"
   ]
  },
  {
   "cell_type": "markdown",
   "metadata": {},
   "source": [
    "#### CountVectorizer with pre-built tokens"
   ]
  },
  {
   "cell_type": "code",
   "execution_count": 32,
   "metadata": {},
   "outputs": [],
   "source": [
    "cv_tokens = pickle.load(open('tokens/topic_tokens_izq_new.pkl', 'rb'))"
   ]
  },
  {
   "cell_type": "code",
   "execution_count": 33,
   "metadata": {},
   "outputs": [
    {
     "data": {
      "text/plain": [
       "CountVectorizer(stop_words=['de', 'la', 'que', 'el', 'en', 'y', 'a', 'los',\n",
       "                            'del', 'se', 'las', 'por', 'un', 'para', 'con',\n",
       "                            'no', 'una', 'su', 'al', 'lo', 'como', 'más',\n",
       "                            'pero', 'sus', 'le', 'ya', 'o', 'este', 'sí',\n",
       "                            'porque', ...],\n",
       "                strip_accents='unicode')"
      ]
     },
     "execution_count": 33,
     "metadata": {},
     "output_type": "execute_result"
    }
   ],
   "source": [
    "vectorizer.fit(cv_tokens.drop('topics', axis=1))"
   ]
  },
  {
   "cell_type": "code",
   "execution_count": 34,
   "metadata": {},
   "outputs": [],
   "source": [
    "X_train_2 = vectorizer.transform(train)"
   ]
  },
  {
   "cell_type": "code",
   "execution_count": 35,
   "metadata": {},
   "outputs": [],
   "source": [
    "X_train_matriz_2 = X_train_2.todense()"
   ]
  },
  {
   "cell_type": "code",
   "execution_count": 36,
   "metadata": {},
   "outputs": [],
   "source": [
    "X_test_2 = vectorizer.transform(test)"
   ]
  },
  {
   "cell_type": "code",
   "execution_count": 37,
   "metadata": {},
   "outputs": [],
   "source": [
    "X_test_matriz_2 = X_test_2.todense()"
   ]
  },
  {
   "cell_type": "markdown",
   "metadata": {},
   "source": [
    "#### TF-IDF Vectorizer with pre-built tokens"
   ]
  },
  {
   "cell_type": "code",
   "execution_count": 38,
   "metadata": {},
   "outputs": [],
   "source": [
    "X_train_matriz_tfidf_2 = TfidfTransformer().fit_transform(X_train_matriz_2);"
   ]
  },
  {
   "cell_type": "code",
   "execution_count": 39,
   "metadata": {},
   "outputs": [],
   "source": [
    "X_test_matriz_tfidf_2 = TfidfTransformer().fit_transform(X_test_matriz_2);"
   ]
  },
  {
   "cell_type": "markdown",
   "metadata": {},
   "source": [
    "### Multinomial Naive Bayes + CountVectorizer (updated tokens)"
   ]
  },
  {
   "cell_type": "code",
   "execution_count": 40,
   "metadata": {},
   "outputs": [],
   "source": [
    "from sklearn.naive_bayes import MultinomialNB\n",
    "from sklearn.metrics import accuracy_score\n",
    "from sklearn.metrics import confusion_matrix"
   ]
  },
  {
   "cell_type": "code",
   "execution_count": 41,
   "metadata": {},
   "outputs": [
    {
     "data": {
      "text/plain": [
       "MultinomialNB()"
      ]
     },
     "execution_count": 41,
     "metadata": {},
     "output_type": "execute_result"
    }
   ],
   "source": [
    "multi_nb = MultinomialNB()\n",
    "\n",
    "multi_nb.fit(X_train_2, y_train.values)"
   ]
  },
  {
   "cell_type": "code",
   "execution_count": 42,
   "metadata": {},
   "outputs": [],
   "source": [
    "y_pred_2 = multi_nb.predict(X_test_2)"
   ]
  },
  {
   "cell_type": "code",
   "execution_count": 43,
   "metadata": {},
   "outputs": [],
   "source": [
    "from sklearn.metrics import accuracy_score"
   ]
  },
  {
   "cell_type": "code",
   "execution_count": 44,
   "metadata": {},
   "outputs": [
    {
     "data": {
      "text/plain": [
       "1.0"
      ]
     },
     "execution_count": 44,
     "metadata": {},
     "output_type": "execute_result"
    }
   ],
   "source": [
    "accuracy_score(y_pred_2, y_test.values)"
   ]
  },
  {
   "cell_type": "markdown",
   "metadata": {},
   "source": [
    "### Multinomial Naive Bayes + Tf IDf Vectorizer (updated tokens)"
   ]
  },
  {
   "cell_type": "code",
   "execution_count": 45,
   "metadata": {},
   "outputs": [
    {
     "data": {
      "text/plain": [
       "MultinomialNB()"
      ]
     },
     "execution_count": 45,
     "metadata": {},
     "output_type": "execute_result"
    }
   ],
   "source": [
    "multi_nb_2 = MultinomialNB()\n",
    "\n",
    "multi_nb_2.fit(X_train_matriz_tfidf_2, y_train.values)"
   ]
  },
  {
   "cell_type": "code",
   "execution_count": 46,
   "metadata": {},
   "outputs": [],
   "source": [
    "y_pred_2 = multi_nb_2.predict(X_test_matriz_tfidf_2)"
   ]
  },
  {
   "cell_type": "code",
   "execution_count": 47,
   "metadata": {},
   "outputs": [],
   "source": [
    "from sklearn.metrics import accuracy_score"
   ]
  },
  {
   "cell_type": "code",
   "execution_count": 48,
   "metadata": {},
   "outputs": [
    {
     "data": {
      "text/plain": [
       "1.0"
      ]
     },
     "execution_count": 48,
     "metadata": {},
     "output_type": "execute_result"
    }
   ],
   "source": [
    "accuracy_score(y_pred_2, y_test.values)"
   ]
  }
 ],
 "metadata": {
  "kernelspec": {
   "display_name": "Python 3",
   "language": "python",
   "name": "python3"
  },
  "language_info": {
   "codemirror_mode": {
    "name": "ipython",
    "version": 3
   },
   "file_extension": ".py",
   "mimetype": "text/x-python",
   "name": "python",
   "nbconvert_exporter": "python",
   "pygments_lexer": "ipython3",
   "version": "3.7.7"
  }
 },
 "nbformat": 4,
 "nbformat_minor": 4
}
