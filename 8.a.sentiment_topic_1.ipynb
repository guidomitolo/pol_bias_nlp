{
 "cells": [
  {
   "cell_type": "markdown",
   "metadata": {},
   "source": [
    "## Sentiment Analisys\n",
    "### Input: article lead"
   ]
  },
  {
   "cell_type": "markdown",
   "metadata": {},
   "source": [
    "## Load Data"
   ]
  },
  {
   "cell_type": "code",
   "execution_count": 21,
   "metadata": {},
   "outputs": [],
   "source": [
    "import pandas as pd\n",
    "import numpy as np\n",
    "import pickle"
   ]
  },
  {
   "cell_type": "code",
   "execution_count": 28,
   "metadata": {},
   "outputs": [],
   "source": [
    "data = pickle.load(open('data/df_clean_izq.pkl','rb'))"
   ]
  },
  {
   "cell_type": "code",
   "execution_count": 29,
   "metadata": {},
   "outputs": [
    {
     "data": {
      "text/plain": [
       "(26, 7)"
      ]
     },
     "execution_count": 29,
     "metadata": {},
     "output_type": "execute_result"
    }
   ],
   "source": [
    "ex_izq = data.loc[data.topics == 'exchange']\n",
    "ex_izq.shape"
   ]
  },
  {
   "cell_type": "code",
   "execution_count": 30,
   "metadata": {},
   "outputs": [],
   "source": [
    "data = pickle.load(open('data/df_clean_der.pkl','rb'))"
   ]
  },
  {
   "cell_type": "code",
   "execution_count": 31,
   "metadata": {},
   "outputs": [
    {
     "data": {
      "text/plain": [
       "(28, 7)"
      ]
     },
     "execution_count": 31,
     "metadata": {},
     "output_type": "execute_result"
    }
   ],
   "source": [
    "ex_der = data.loc[data.topics == 'exchange']\n",
    "ex_der.shape"
   ]
  },
  {
   "cell_type": "markdown",
   "metadata": {},
   "source": [
    "## Text Blob\n",
    "Translation with TextBlob and googletrans"
   ]
  },
  {
   "cell_type": "code",
   "execution_count": 26,
   "metadata": {},
   "outputs": [],
   "source": [
    "from textblob import TextBlob\n",
    "from googletrans import Translator"
   ]
  },
  {
   "cell_type": "markdown",
   "metadata": {},
   "source": [
    "#### Parts of Speech(POS) Tagging\n",
    "#### Spanish VS English (Example)\n",
    "There are evident issues in the tagging process before translation that lead to the imposibility of getting the sentiment scores."
   ]
  },
  {
   "cell_type": "code",
   "execution_count": 32,
   "metadata": {},
   "outputs": [
    {
     "name": "stdout",
     "output_type": "stream",
     "text": [
      "Input en español:\n",
      "La CNV anunció que reduce de tres a dos días hábiles la cantidad de días que el inversor tiene que tener un bono en su poder una vez que lo compra en pesos y antes de venderlo en dólares.\n",
      "\n",
      "POS: [('La', 'NNP'), ('CNV', 'NNP'), ('anunció', 'NN'), ('que', 'NN'), ('reduce', 'VB'), ('de', 'FW'), ('tres', 'FW'), ('a', 'DT'), ('dos', 'NN'), ('días', 'NN'), ('hábiles', 'NNS'), ('la', 'VBP'), ('cantidad', 'FW'), ('de', 'FW'), ('días', 'FW'), ('que', 'NN'), ('el', 'NN'), ('inversor', 'NN'), ('tiene', 'NN'), ('que', 'NN'), ('tener', 'NN'), ('un', 'FW'), ('bono', 'FW'), ('en', 'FW'), ('su', 'FW'), ('poder', 'NN'), ('una', 'JJ'), ('vez', 'NN'), ('que', 'NN'), ('lo', 'NN'), ('compra', 'NN'), ('en', 'IN'), ('pesos', 'NN'), ('y', 'NN'), ('antes', 'VBZ'), ('de', 'IN'), ('venderlo', 'FW'), ('en', 'FW'), ('dólares', 'NNS')]\n",
      "\n",
      "Sustantivos: ['cnv', 'anunció que', 'dos días hábiles', 'días que el inversor tiene que tener un bono', 'su poder una vez que lo compra', 'pesos y antes']\n",
      "\n",
      "Sentiment(polarity=0.0, subjectivity=0.0) \n",
      "\n",
      "Traducción:\n",
      "The CNV announced that it reduces from three to two business days the number of days that the investor has to have a bond in his possession once he buys it in pesos and before selling it in dollars.\n",
      "\n",
      "POS: [('The', 'DT'), ('CNV', 'NNP'), ('announced', 'VBD'), ('that', 'IN'), ('it', 'PRP'), ('reduces', 'VBZ'), ('from', 'IN'), ('three', 'CD'), ('to', 'TO'), ('two', 'CD'), ('business', 'NN'), ('days', 'NNS'), ('the', 'DT'), ('number', 'NN'), ('of', 'IN'), ('days', 'NNS'), ('that', 'IN'), ('the', 'DT'), ('investor', 'NN'), ('has', 'VBZ'), ('to', 'TO'), ('have', 'VB'), ('a', 'DT'), ('bond', 'NN'), ('in', 'IN'), ('his', 'PRP$'), ('possession', 'NN'), ('once', 'RB'), ('he', 'PRP'), ('buys', 'VBZ'), ('it', 'PRP'), ('in', 'IN'), ('pesos', 'NN'), ('and', 'CC'), ('before', 'IN'), ('selling', 'VBG'), ('it', 'PRP'), ('in', 'IN'), ('dollars', 'NNS')]\n",
      "\n",
      "Sustantivos: ['cnv', 'business days']\n",
      "\n",
      "Sentiment(polarity=0.0, subjectivity=0.0)\n"
     ]
    }
   ],
   "source": [
    "print(f'Input en español:\\n{ex_izq.iloc[0].lead}\\n')\n",
    "text = TextBlob(ex_izq.iloc[0].lead)\n",
    "\n",
    "print(f'POS: {text.tags}\\n')\n",
    "\n",
    "print(f'Sustantivos: {text.noun_phrases}\\n')\n",
    "\n",
    "print(text.sentiment,'\\n')\n",
    "\n",
    "translator = Translator()\n",
    "translation = translator.translate(ex_izq.iloc[0].lead, src='es', dest='en')\n",
    "\n",
    "print(f'Traducción:\\n{translation.text}\\n')\n",
    "text = TextBlob(translation.text)\n",
    "\n",
    "print(f'POS: {text.tags}\\n')\n",
    "\n",
    "print(f'Sustantivos: {text.noun_phrases}\\n') \n",
    "\n",
    "print(text.sentiment)"
   ]
  },
  {
   "cell_type": "code",
   "execution_count": 33,
   "metadata": {},
   "outputs": [
    {
     "name": "stdout",
     "output_type": "stream",
     "text": [
      "Input en español: El famoso hombre de las finanzas internacionales se pronunció al respecto de la situación económica argentina. Asegura que el único camino para estabilizar los precios es retornar a un esquema de privatizaciones y dolarizar completamente la economía.\n",
      "\n",
      "POS: [('El', 'NNP'), ('famoso', 'JJ'), ('hombre', 'NN'), ('de', 'IN'), ('las', 'FW'), ('finanzas', 'JJ'), ('internacionales', 'NNS'), ('se', 'VBP'), ('pronunció', 'JJ'), ('al', 'JJ'), ('respecto', 'NN'), ('de', 'IN'), ('la', 'FW'), ('situación', 'FW'), ('económica', 'FW'), ('argentina', 'NN'), ('Asegura', 'NNP'), ('que', 'NN'), ('el', 'NN'), ('único', 'NNP'), ('camino', 'NN'), ('para', 'NN'), ('estabilizar', 'FW'), ('los', 'JJ'), ('precios', 'NNS'), ('es', 'VBP'), ('retornar', 'VB'), ('a', 'DT'), ('un', 'JJ'), ('esquema', 'NN'), ('de', 'IN'), ('privatizaciones', 'NNS'), ('y', 'RB'), ('dolarizar', 'VBP'), ('completamente', 'JJ'), ('la', 'NN'), ('economía', 'NN')]\n",
      "\n",
      "Sustantivos: ['el', 'famoso hombre', 'las finanzas internacionales se pronunció', 'situación económica argentina', 'asegura', 'que el único camino para estabilizar los precios es retornar', 'un esquema', 'privatizaciones y dolarizar completamente']\n",
      "\n",
      "Sentiment(polarity=0.0, subjectivity=0.0) \n",
      "\n",
      "Traducción: The famous man of international finance spoke about the Argentine economic situation.He assures that the only way to stabilize prices is to return to a privatization scheme and fully dollarize the economy.\n",
      "\n",
      "POS: [('The', 'DT'), ('famous', 'JJ'), ('man', 'NN'), ('of', 'IN'), ('international', 'JJ'), ('finance', 'NN'), ('spoke', 'VBD'), ('about', 'IN'), ('the', 'DT'), ('Argentine', 'NNP'), ('economic', 'JJ'), ('situation.He', 'NN'), ('assures', 'NNS'), ('that', 'IN'), ('the', 'DT'), ('only', 'JJ'), ('way', 'NN'), ('to', 'TO'), ('stabilize', 'VB'), ('prices', 'NNS'), ('is', 'VBZ'), ('to', 'TO'), ('return', 'VB'), ('to', 'TO'), ('a', 'DT'), ('privatization', 'NN'), ('scheme', 'NN'), ('and', 'CC'), ('fully', 'RB'), ('dollarize', 'VB'), ('the', 'DT'), ('economy', 'NN')]\n",
      "\n",
      "Sustantivos: ['famous man', 'argentine', 'economic situation.he assures', 'stabilize prices', 'privatization scheme']\n",
      "\n",
      "Sentiment(polarity=0.175, subjectivity=0.55)\n"
     ]
    }
   ],
   "source": [
    "print(f'Input en español: {ex_der.iloc[0].lead}\\n')\n",
    "text = TextBlob(ex_der.iloc[0].lead)\n",
    "\n",
    "print(f'POS: {text.tags}\\n')\n",
    "\n",
    "print(f'Sustantivos: {text.noun_phrases}\\n')\n",
    "\n",
    "print(text.sentiment,'\\n')\n",
    "\n",
    "translator = Translator()\n",
    "translation = translator.translate(ex_der.iloc[0].lead, src='es', dest='en')\n",
    "\n",
    "print(f'Traducción: {translation.text}\\n')\n",
    "text = TextBlob(translation.text)\n",
    "\n",
    "print(f'POS: {text.tags}\\n')\n",
    "\n",
    "print(f'Sustantivos: {text.noun_phrases}\\n') \n",
    "\n",
    "print(text.sentiment)"
   ]
  },
  {
   "cell_type": "markdown",
   "metadata": {},
   "source": [
    "### Datasets - Sentiment Analisys"
   ]
  },
  {
   "cell_type": "markdown",
   "metadata": {},
   "source": [
    "#### 1. \"derecha diario\""
   ]
  },
  {
   "cell_type": "markdown",
   "metadata": {},
   "source": [
    "Text blob with google translator"
   ]
  },
  {
   "cell_type": "code",
   "execution_count": 34,
   "metadata": {},
   "outputs": [],
   "source": [
    "translator = Translator()\n",
    "pol_t = lambda x: np.around(TextBlob(translator.translate(x, src='es', dest='en').text).sentiment.polarity, 3)\n",
    "sub_t = lambda x: np.around(TextBlob(translator.translate(x, src='es', dest='en').text).sentiment.subjectivity, 3)"
   ]
  },
  {
   "cell_type": "code",
   "execution_count": 35,
   "metadata": {},
   "outputs": [
    {
     "name": "stderr",
     "output_type": "stream",
     "text": [
      "/home/guido/anaconda3/envs/dh/lib/python3.7/site-packages/ipykernel_launcher.py:1: SettingWithCopyWarning: \n",
      "A value is trying to be set on a copy of a slice from a DataFrame.\n",
      "Try using .loc[row_indexer,col_indexer] = value instead\n",
      "\n",
      "See the caveats in the documentation: https://pandas.pydata.org/pandas-docs/stable/user_guide/indexing.html#returning-a-view-versus-a-copy\n",
      "  \"\"\"Entry point for launching an IPython kernel.\n",
      "/home/guido/anaconda3/envs/dh/lib/python3.7/site-packages/ipykernel_launcher.py:2: SettingWithCopyWarning: \n",
      "A value is trying to be set on a copy of a slice from a DataFrame.\n",
      "Try using .loc[row_indexer,col_indexer] = value instead\n",
      "\n",
      "See the caveats in the documentation: https://pandas.pydata.org/pandas-docs/stable/user_guide/indexing.html#returning-a-view-versus-a-copy\n",
      "  \n"
     ]
    }
   ],
   "source": [
    "ex_der['polarity'] = ex_der.lead.apply(pol_t)\n",
    "ex_der['subjectivity'] = ex_der.lead.apply(sub_t)"
   ]
  },
  {
   "cell_type": "code",
   "execution_count": 37,
   "metadata": {},
   "outputs": [
    {
     "name": "stdout",
     "output_type": "stream",
     "text": [
      "Polarity: 0.09335714285714283\n",
      "Subjectivity: 0.4209999999999999\n"
     ]
    }
   ],
   "source": [
    "print(f'Polarity: {ex_der.polarity.mean()}\\nSubjectivity: {ex_der.subjectivity.mean()}')"
   ]
  },
  {
   "cell_type": "markdown",
   "metadata": {},
   "source": [
    "Text blob wit textblob translator"
   ]
  },
  {
   "cell_type": "code",
   "execution_count": 38,
   "metadata": {},
   "outputs": [],
   "source": [
    "pol = lambda x: np.around(TextBlob(x).translate(to='en').sentiment.polarity, 3)\n",
    "sub = lambda x: np.around(TextBlob(x).translate(to='en').sentiment.subjectivity, 3)"
   ]
  },
  {
   "cell_type": "code",
   "execution_count": 39,
   "metadata": {},
   "outputs": [
    {
     "name": "stderr",
     "output_type": "stream",
     "text": [
      "/home/guido/anaconda3/envs/dh/lib/python3.7/site-packages/ipykernel_launcher.py:1: SettingWithCopyWarning: \n",
      "A value is trying to be set on a copy of a slice from a DataFrame.\n",
      "Try using .loc[row_indexer,col_indexer] = value instead\n",
      "\n",
      "See the caveats in the documentation: https://pandas.pydata.org/pandas-docs/stable/user_guide/indexing.html#returning-a-view-versus-a-copy\n",
      "  \"\"\"Entry point for launching an IPython kernel.\n",
      "/home/guido/anaconda3/envs/dh/lib/python3.7/site-packages/ipykernel_launcher.py:2: SettingWithCopyWarning: \n",
      "A value is trying to be set on a copy of a slice from a DataFrame.\n",
      "Try using .loc[row_indexer,col_indexer] = value instead\n",
      "\n",
      "See the caveats in the documentation: https://pandas.pydata.org/pandas-docs/stable/user_guide/indexing.html#returning-a-view-versus-a-copy\n",
      "  \n"
     ]
    }
   ],
   "source": [
    "ex_der['polarity'] = ex_der.lead.apply(pol)\n",
    "ex_der['subjectivity'] = ex_der.lead.apply(sub)"
   ]
  },
  {
   "cell_type": "code",
   "execution_count": 40,
   "metadata": {},
   "outputs": [
    {
     "name": "stdout",
     "output_type": "stream",
     "text": [
      "Polarity: 0.09292857142857143\n",
      "Subjectivity: 0.41835714285714276\n"
     ]
    }
   ],
   "source": [
    "print(f'Polarity: {ex_der.polarity.mean()}\\nSubjectivity: {ex_der.subjectivity.mean()}')"
   ]
  },
  {
   "cell_type": "markdown",
   "metadata": {},
   "source": [
    "#### 2. \"izquierda diario\""
   ]
  },
  {
   "cell_type": "code",
   "execution_count": 41,
   "metadata": {},
   "outputs": [],
   "source": [
    "ex_izq['polarity'] = ex_izq.lead.apply(pol)\n",
    "ex_izq['subjectivity'] = ex_izq.lead.apply(sub)"
   ]
  },
  {
   "cell_type": "code",
   "execution_count": 42,
   "metadata": {},
   "outputs": [
    {
     "name": "stdout",
     "output_type": "stream",
     "text": [
      "Polarity: 0.10684615384615384\n",
      "Subjectivity: 0.31042307692307697\n"
     ]
    }
   ],
   "source": [
    "print(f'Polarity: {ex_izq.polarity.mean()}\\nSubjectivity: {ex_izq.subjectivity.mean()}')"
   ]
  },
  {
   "cell_type": "code",
   "execution_count": 43,
   "metadata": {},
   "outputs": [],
   "source": [
    "ex_izq['polarity'] = ex_izq.lead.apply(pol_t)\n",
    "ex_izq['subjectivity'] = ex_izq.lead.apply(sub_t)"
   ]
  },
  {
   "cell_type": "code",
   "execution_count": 44,
   "metadata": {},
   "outputs": [
    {
     "name": "stdout",
     "output_type": "stream",
     "text": [
      "Polarity: 0.07738461538461539\n",
      "Subjectivity: 0.2628076923076923\n"
     ]
    }
   ],
   "source": [
    "print(f'Polarity: {ex_izq.polarity.mean()}\\nSubjectivity: {ex_izq.subjectivity.mean()}')"
   ]
  },
  {
   "cell_type": "code",
   "execution_count": null,
   "metadata": {},
   "outputs": [],
   "source": []
  }
 ],
 "metadata": {
  "kernelspec": {
   "display_name": "Python 3",
   "language": "python",
   "name": "python3"
  },
  "language_info": {
   "codemirror_mode": {
    "name": "ipython",
    "version": 3
   },
   "file_extension": ".py",
   "mimetype": "text/x-python",
   "name": "python",
   "nbconvert_exporter": "python",
   "pygments_lexer": "ipython3",
   "version": "3.7.8"
  }
 },
 "nbformat": 4,
 "nbformat_minor": 4
}
