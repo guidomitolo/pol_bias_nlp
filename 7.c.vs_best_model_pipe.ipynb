{
 "cells": [
  {
   "cell_type": "markdown",
   "metadata": {},
   "source": [
    "## Pipeline - Best Vectorization and Model\n",
    "### Topic (**Inflation**) according to each news portal"
   ]
  },
  {
   "cell_type": "code",
   "execution_count": 1,
   "metadata": {},
   "outputs": [],
   "source": [
    "import warnings\n",
    "warnings.filterwarnings('ignore')"
   ]
  },
  {
   "cell_type": "markdown",
   "metadata": {},
   "source": [
    "### Load"
   ]
  },
  {
   "cell_type": "code",
   "execution_count": 2,
   "metadata": {},
   "outputs": [],
   "source": [
    "import pickle"
   ]
  },
  {
   "cell_type": "code",
   "execution_count": 3,
   "metadata": {},
   "outputs": [],
   "source": [
    "import pandas as pd\n",
    "import numpy as np"
   ]
  },
  {
   "cell_type": "code",
   "execution_count": 4,
   "metadata": {},
   "outputs": [],
   "source": [
    "izq = pickle.load(open('data/df_clean_izq.pkl','rb'))\n",
    "der = pickle.load(open('data/df_clean_der.pkl','rb'))"
   ]
  },
  {
   "cell_type": "markdown",
   "metadata": {},
   "source": [
    "### Preparte Dataframe"
   ]
  },
  {
   "cell_type": "code",
   "execution_count": 5,
   "metadata": {},
   "outputs": [],
   "source": [
    "izq = izq[izq.topics == 'inflation']\n",
    "der = der[der.topics == 'inflation']"
   ]
  },
  {
   "cell_type": "code",
   "execution_count": 6,
   "metadata": {},
   "outputs": [],
   "source": [
    "izq['bias'] = 'left'\n",
    "der['bias'] = 'right'"
   ]
  },
  {
   "cell_type": "code",
   "execution_count": 7,
   "metadata": {},
   "outputs": [],
   "source": [
    "df = izq.loc[:,['bias', 'body']].append(der.loc[:,['bias', 'body']])"
   ]
  },
  {
   "cell_type": "markdown",
   "metadata": {},
   "source": [
    "### Split Train - Test"
   ]
  },
  {
   "cell_type": "code",
   "execution_count": 8,
   "metadata": {},
   "outputs": [],
   "source": [
    "from sklearn.model_selection import train_test_split"
   ]
  },
  {
   "cell_type": "code",
   "execution_count": 9,
   "metadata": {},
   "outputs": [],
   "source": [
    "X = df.body"
   ]
  },
  {
   "cell_type": "code",
   "execution_count": 10,
   "metadata": {},
   "outputs": [],
   "source": [
    "y = df.bias"
   ]
  },
  {
   "cell_type": "code",
   "execution_count": 11,
   "metadata": {},
   "outputs": [],
   "source": [
    "X_train, X_test, y_train, y_test = train_test_split(X, y, train_size=0.75, stratify=y)"
   ]
  },
  {
   "cell_type": "code",
   "execution_count": 12,
   "metadata": {},
   "outputs": [
    {
     "name": "stdout",
     "output_type": "stream",
     "text": [
      "Train shape: 0.7435897435897436\n",
      "Test shape: 0.2564102564102564\n"
     ]
    }
   ],
   "source": [
    "print(f\"Train shape: {X_train.shape[0] / X.shape[0]}\\nTest shape: {X_test.shape[0] / X.shape[0]}\")"
   ]
  },
  {
   "cell_type": "code",
   "execution_count": 13,
   "metadata": {},
   "outputs": [
    {
     "name": "stdout",
     "output_type": "stream",
     "text": [
      "Target balance\n",
      "Train:\n",
      "right    0.534483\n",
      "left     0.465517\n",
      "Name: bias, dtype: float64\n",
      "Test:\n",
      "right    0.55\n",
      "left     0.45\n",
      "Name: bias, dtype: float64\n"
     ]
    }
   ],
   "source": [
    "print(f\"Target balance\\nTrain:\\n{y_train.value_counts(normalize=True)}\\nTest:\\n{y_test.value_counts(normalize=True)}\")"
   ]
  },
  {
   "cell_type": "markdown",
   "metadata": {},
   "source": [
    "### Looking for the model"
   ]
  },
  {
   "cell_type": "markdown",
   "metadata": {},
   "source": [
    "#### Preparing the input"
   ]
  },
  {
   "cell_type": "code",
   "execution_count": 14,
   "metadata": {},
   "outputs": [],
   "source": [
    "import re\n",
    "import unidecode\n",
    "from nltk.corpus import stopwords\n",
    "from nltk.tokenize import word_tokenize"
   ]
  },
  {
   "cell_type": "code",
   "execution_count": 15,
   "metadata": {},
   "outputs": [],
   "source": [
    "stopwords_sp = stopwords.words('spanish')"
   ]
  },
  {
   "cell_type": "code",
   "execution_count": 16,
   "metadata": {},
   "outputs": [],
   "source": [
    "from sklearn.feature_extraction.text import CountVectorizer, TfidfTransformer"
   ]
  },
  {
   "cell_type": "code",
   "execution_count": 17,
   "metadata": {},
   "outputs": [],
   "source": [
    "def removal(text):\n",
    "    text = re.sub(r'(\\d|\\$|\\%|\\+)', '', text.lower())\n",
    "    return re.sub(r'\\d+', '', text)"
   ]
  },
  {
   "cell_type": "markdown",
   "metadata": {},
   "source": [
    "#### Folds config"
   ]
  },
  {
   "cell_type": "code",
   "execution_count": 18,
   "metadata": {},
   "outputs": [],
   "source": [
    "from sklearn.model_selection import StratifiedKFold\n"
   ]
  },
  {
   "cell_type": "code",
   "execution_count": 19,
   "metadata": {},
   "outputs": [],
   "source": [
    "folds = StratifiedKFold(n_splits=5, random_state=19, shuffle=True)"
   ]
  },
  {
   "cell_type": "markdown",
   "metadata": {},
   "source": [
    "#### Calling the models"
   ]
  },
  {
   "cell_type": "code",
   "execution_count": 20,
   "metadata": {},
   "outputs": [],
   "source": [
    "from sklearn.naive_bayes import MultinomialNB"
   ]
  },
  {
   "cell_type": "code",
   "execution_count": 21,
   "metadata": {},
   "outputs": [],
   "source": [
    "from sklearn.linear_model import LogisticRegression, SGDClassifier"
   ]
  },
  {
   "cell_type": "code",
   "execution_count": 22,
   "metadata": {},
   "outputs": [],
   "source": [
    "from sklearn.neighbors import KNeighborsClassifier"
   ]
  },
  {
   "cell_type": "code",
   "execution_count": 23,
   "metadata": {},
   "outputs": [],
   "source": [
    "from sklearn.tree import DecisionTreeClassifier, plot_tree"
   ]
  },
  {
   "cell_type": "code",
   "execution_count": 24,
   "metadata": {},
   "outputs": [],
   "source": [
    "from sklearn.ensemble import AdaBoostClassifier, GradientBoostingClassifier"
   ]
  },
  {
   "cell_type": "markdown",
   "metadata": {},
   "source": [
    "### Pipeline\n",
    "\n",
    "#### Vectorizers + Model switcher ad-hoc class + Models "
   ]
  },
  {
   "cell_type": "code",
   "execution_count": 25,
   "metadata": {},
   "outputs": [],
   "source": [
    "from sklearn.pipeline import Pipeline\n",
    "from sklearn.base import BaseEstimator"
   ]
  },
  {
   "cell_type": "code",
   "execution_count": 26,
   "metadata": {},
   "outputs": [],
   "source": [
    "class ClfSwitcher(BaseEstimator):\n",
    "\n",
    "    def __init__(self, estimator = None):\n",
    "        self.estimator = estimator\n",
    "\n",
    "    def fit(self, X, y=None, **kwargs):\n",
    "        self.estimator.fit(X, y)\n",
    "        return self\n",
    "\n",
    "    def predict(self, X, y=None):\n",
    "        return self.estimator.predict(X)\n",
    "\n",
    "    def predict_proba(self, X):\n",
    "        return self.estimator.predict_proba(X)\n",
    "\n",
    "    def score(self, X, y):\n",
    "        return self.estimator.score(X, y)"
   ]
  },
  {
   "cell_type": "code",
   "execution_count": 27,
   "metadata": {},
   "outputs": [],
   "source": [
    "pipeline = Pipeline([\n",
    "    ('cv', CountVectorizer(stop_words=stopwords_sp)),\n",
    "    ('tfidf', TfidfTransformer()),\n",
    "    ('clf', ClfSwitcher()),\n",
    "])\n",
    "\n",
    "parameters = [\n",
    "    {\n",
    "        # vectorizer params\n",
    "        'cv__max_df': (0.5, 0.75, 1.0),\n",
    "        'cv__lowercase':  [True],\n",
    "        'cv__strip_accents':['unicode'], \n",
    "        'cv__preprocessor':[removal],\n",
    "        'cv__ngram_range': [(1,1),(1,2),(2,2)],\n",
    "        'cv__min_df':[1,2,3],\n",
    "        # model params\n",
    "        'clf__estimator': [SGDClassifier()], # SVM if hinge loss / logreg if log loss\n",
    "        'clf__estimator__penalty': ('l2', 'elasticnet', 'l1'),\n",
    "        'clf__estimator__max_iter': [50, 80],\n",
    "        'clf__estimator__tol': [1e-4],\n",
    "        'clf__estimator__loss': ['hinge', 'log', 'modified_huber'],\n",
    "    },\n",
    "    {\n",
    "        # vectorizer params\n",
    "        'cv__max_df': (0.5, 0.75, 1.0),\n",
    "        'cv__lowercase':  [True],\n",
    "        'cv__strip_accents':['unicode'], \n",
    "        'cv__preprocessor':[removal],\n",
    "        'cv__ngram_range': [(1,1),(1,2),(2,2)],\n",
    "        'cv__min_df':[1,2,3],\n",
    "        # model params\n",
    "        'clf__estimator': [MultinomialNB()],\n",
    "        'clf__estimator__alpha': (1e-2, 1e-3, 1e-1),\n",
    "    },\n",
    "    {\n",
    "        # vectorizer params\n",
    "        'cv__max_df': (0.5, 0.75, 1.0),\n",
    "        'cv__lowercase':  [True],\n",
    "        'cv__strip_accents':['unicode'], \n",
    "        'cv__preprocessor':[removal],\n",
    "        'cv__ngram_range': [(1,1),(1,2),(2,2)],\n",
    "        'cv__min_df':[1,2,3],\n",
    "        # model params\n",
    "        'clf__estimator': [KNeighborsClassifier()],\n",
    "        'clf__estimator__n_neighbors': range(1,4),\n",
    "        'clf__estimator__weights' : ['uniform', 'distance'],\n",
    "        'clf__estimator__p' : [1, 2, 3]\n",
    "    },\n",
    "    {\n",
    "        # vectorizer params\n",
    "        'cv__max_df': (0.5, 0.75, 1.0),\n",
    "        'cv__lowercase':  [True],\n",
    "        'cv__strip_accents':['unicode'], \n",
    "        'cv__preprocessor':[removal],\n",
    "        'cv__ngram_range': [(1,1),(1,2),(2,2)],\n",
    "        'cv__min_df':[1,2,3],\n",
    "        # model params\n",
    "        'clf__estimator': [LogisticRegression()],\n",
    "        'clf__estimator__C': [1, 10, 100, 1000],\n",
    "        'clf__estimator__penalty': ['l1', 'l2',],\n",
    "        'clf__estimator__solver': ['saga']\n",
    "    },\n",
    "    {\n",
    "        # vectorizer params\n",
    "        'cv__max_df': (0.5, 0.75, 1.0),\n",
    "        'cv__lowercase':  [True],\n",
    "        'cv__strip_accents':['unicode'], \n",
    "        'cv__preprocessor':[removal],\n",
    "        'cv__ngram_range': [(1,1),(1,2),(2,2)],\n",
    "        'cv__min_df':[1,2,3],\n",
    "        # model params\n",
    "        'clf__estimator': [DecisionTreeClassifier()],\n",
    "        \"clf__estimator__criterion\" : [\"gini\", \"entropy\"],\n",
    "        \"clf__estimator__min_samples_leaf\": [5,10,15,20,2], \n",
    "        \"clf__estimator__max_depth\" : [1,2,3,4,5,6,8,9,10,11,12,13,14,15,16,17],\n",
    "        \"clf__estimator__min_samples_split\": [2, 3, 4,None]\n",
    "    },    \n",
    "]"
   ]
  },
  {
   "cell_type": "markdown",
   "metadata": {},
   "source": [
    "#### Tuning model"
   ]
  },
  {
   "cell_type": "code",
   "execution_count": 28,
   "metadata": {},
   "outputs": [],
   "source": [
    "from sklearn.model_selection import GridSearchCV"
   ]
  },
  {
   "cell_type": "code",
   "execution_count": null,
   "metadata": {},
   "outputs": [
    {
     "name": "stdout",
     "output_type": "stream",
     "text": [
      "Fitting 5 folds for each of 18549 candidates, totalling 92745 fits\n"
     ]
    },
    {
     "name": "stderr",
     "output_type": "stream",
     "text": [
      "[Parallel(n_jobs=12)]: Using backend LokyBackend with 12 concurrent workers.\n",
      "[Parallel(n_jobs=12)]: Done   8 tasks      | elapsed:    8.1s\n",
      "[Parallel(n_jobs=12)]: Done 104 tasks      | elapsed:   17.6s\n",
      "[Parallel(n_jobs=12)]: Done 264 tasks      | elapsed:   30.5s\n",
      "[Parallel(n_jobs=12)]: Done 488 tasks      | elapsed:   49.4s\n",
      "[Parallel(n_jobs=12)]: Done 776 tasks      | elapsed:  1.2min\n",
      "[Parallel(n_jobs=12)]: Done 1128 tasks      | elapsed:  1.7min\n",
      "[Parallel(n_jobs=12)]: Done 1544 tasks      | elapsed:  2.3min\n",
      "[Parallel(n_jobs=12)]: Done 2024 tasks      | elapsed:  3.0min\n",
      "[Parallel(n_jobs=12)]: Done 2568 tasks      | elapsed:  3.7min\n",
      "[Parallel(n_jobs=12)]: Done 3176 tasks      | elapsed:  4.6min\n",
      "[Parallel(n_jobs=12)]: Done 3848 tasks      | elapsed:  5.4min\n",
      "[Parallel(n_jobs=12)]: Done 4584 tasks      | elapsed:  6.3min\n",
      "[Parallel(n_jobs=12)]: Done 5384 tasks      | elapsed:  7.3min\n",
      "[Parallel(n_jobs=12)]: Done 6248 tasks      | elapsed:  8.8min\n",
      "[Parallel(n_jobs=12)]: Done 7176 tasks      | elapsed: 10.1min\n",
      "[Parallel(n_jobs=12)]: Done 8168 tasks      | elapsed: 11.3min\n",
      "[Parallel(n_jobs=12)]: Done 9224 tasks      | elapsed: 12.7min\n",
      "[Parallel(n_jobs=12)]: Done 10344 tasks      | elapsed: 14.1min\n",
      "[Parallel(n_jobs=12)]: Done 11528 tasks      | elapsed: 15.7min\n",
      "[Parallel(n_jobs=12)]: Done 12776 tasks      | elapsed: 17.2min\n",
      "[Parallel(n_jobs=12)]: Done 14088 tasks      | elapsed: 18.9min\n",
      "[Parallel(n_jobs=12)]: Done 15464 tasks      | elapsed: 20.7min\n",
      "[Parallel(n_jobs=12)]: Done 16904 tasks      | elapsed: 22.6min\n",
      "[Parallel(n_jobs=12)]: Done 18408 tasks      | elapsed: 24.5min\n",
      "[Parallel(n_jobs=12)]: Done 19976 tasks      | elapsed: 26.6min\n",
      "[Parallel(n_jobs=12)]: Done 21608 tasks      | elapsed: 28.7min\n",
      "[Parallel(n_jobs=12)]: Done 23304 tasks      | elapsed: 30.9min\n"
     ]
    }
   ],
   "source": [
    "grid = GridSearchCV(pipeline, parameters, cv=folds, n_jobs=12, return_train_score=True, verbose=3)\n",
    "grid.fit(X_train, y_train)"
   ]
  },
  {
   "cell_type": "markdown",
   "metadata": {},
   "source": [
    "#### Report"
   ]
  },
  {
   "cell_type": "code",
   "execution_count": null,
   "metadata": {},
   "outputs": [],
   "source": [
    "import seaborn as sns\n",
    "import matplotlib.pyplot as plt"
   ]
  },
  {
   "cell_type": "code",
   "execution_count": null,
   "metadata": {},
   "outputs": [],
   "source": [
    "from sklearn.model_selection import cross_val_score\n",
    "from sklearn.metrics import classification_report, confusion_matrix, accuracy_score"
   ]
  },
  {
   "cell_type": "code",
   "execution_count": null,
   "metadata": {},
   "outputs": [],
   "source": [
    "grid.best_estimator_, grid.best_score_, grid.best_params_"
   ]
  },
  {
   "cell_type": "code",
   "execution_count": null,
   "metadata": {},
   "outputs": [],
   "source": [
    "grid_pred = grid.predict(X_test)"
   ]
  },
  {
   "cell_type": "code",
   "execution_count": null,
   "metadata": {},
   "outputs": [],
   "source": [
    "accuracy_score(y_test, grid_pred)"
   ]
  },
  {
   "cell_type": "code",
   "execution_count": null,
   "metadata": {},
   "outputs": [],
   "source": [
    "print(classification_report(y_test, grid_pred))"
   ]
  },
  {
   "cell_type": "code",
   "execution_count": null,
   "metadata": {},
   "outputs": [],
   "source": [
    "confusion_matrix(y_test, grid_pred)"
   ]
  }
 ],
 "metadata": {
  "kernelspec": {
   "display_name": "Python 3",
   "language": "python",
   "name": "python3"
  },
  "language_info": {
   "codemirror_mode": {
    "name": "ipython",
    "version": 3
   },
   "file_extension": ".py",
   "mimetype": "text/x-python",
   "name": "python",
   "nbconvert_exporter": "python",
   "pygments_lexer": "ipython3",
   "version": "3.7.7"
  }
 },
 "nbformat": 4,
 "nbformat_minor": 4
}
