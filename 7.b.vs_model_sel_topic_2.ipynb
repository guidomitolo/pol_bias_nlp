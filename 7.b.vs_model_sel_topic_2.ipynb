{
 "cells": [
  {
   "cell_type": "markdown",
   "metadata": {},
   "source": [
    "## Vectorizers + Models\n",
    "#### Currency exchange topic"
   ]
  },
  {
   "cell_type": "markdown",
   "metadata": {},
   "source": [
    "### Load"
   ]
  },
  {
   "cell_type": "markdown",
   "metadata": {},
   "source": [
    "Tokens"
   ]
  },
  {
   "cell_type": "code",
   "execution_count": 112,
   "metadata": {},
   "outputs": [],
   "source": [
    "import warnings\n",
    "warnings.filterwarnings('ignore')"
   ]
  },
  {
   "cell_type": "code",
   "execution_count": 113,
   "metadata": {},
   "outputs": [],
   "source": [
    "import pandas as pd\n",
    "import numpy as np"
   ]
  },
  {
   "cell_type": "code",
   "execution_count": 114,
   "metadata": {},
   "outputs": [],
   "source": [
    "tokens_izq = pd.read_pickle('tokens/topic_tokens_izq_new.pkl')\n",
    "tokens_der = pd.read_pickle('tokens/topic_tokens_der_new.pkl')"
   ]
  },
  {
   "cell_type": "code",
   "execution_count": 115,
   "metadata": {},
   "outputs": [],
   "source": [
    "tokens_izq_ex = tokens_izq[tokens_izq.topics == 'exchange'].drop('topics', axis=1)\n",
    "tokens_izq_ex.insert(loc=0, column='publication', value='left')"
   ]
  },
  {
   "cell_type": "code",
   "execution_count": 116,
   "metadata": {},
   "outputs": [],
   "source": [
    "tokens_der_ex = tokens_der[tokens_der.topics == 'exchange'].drop('topics', axis=1)\n",
    "tokens_der_ex.insert(loc=0, column='publication', value='right')"
   ]
  },
  {
   "cell_type": "code",
   "execution_count": 117,
   "metadata": {},
   "outputs": [],
   "source": [
    "tokens = tokens_izq_ex.append(tokens_der_ex)\n",
    "tokens.reset_index(inplace=True)\n",
    "tokens.drop('index', axis=1, inplace=True)\n",
    "tokens.fillna(0, inplace=True)"
   ]
  },
  {
   "cell_type": "code",
   "execution_count": 118,
   "metadata": {},
   "outputs": [
    {
     "data": {
      "text/html": [
       "<div>\n",
       "<style scoped>\n",
       "    .dataframe tbody tr th:only-of-type {\n",
       "        vertical-align: middle;\n",
       "    }\n",
       "\n",
       "    .dataframe tbody tr th {\n",
       "        vertical-align: top;\n",
       "    }\n",
       "\n",
       "    .dataframe thead th {\n",
       "        text-align: right;\n",
       "    }\n",
       "</style>\n",
       "<table border=\"1\" class=\"dataframe\">\n",
       "  <thead>\n",
       "    <tr style=\"text-align: right;\">\n",
       "      <th></th>\n",
       "      <th>publication</th>\n",
       "      <th>abajo</th>\n",
       "      <th>abarca</th>\n",
       "      <th>abastecimiento</th>\n",
       "      <th>abc</th>\n",
       "      <th>abierta</th>\n",
       "      <th>abiertamente</th>\n",
       "      <th>abierto</th>\n",
       "      <th>abiertos</th>\n",
       "      <th>abre</th>\n",
       "      <th>...</th>\n",
       "      <th>vuelva</th>\n",
       "      <th>vuelvan</th>\n",
       "      <th>vulgarmente</th>\n",
       "      <th>woyecheszen</th>\n",
       "      <th>xx</th>\n",
       "      <th>yaguarete</th>\n",
       "      <th>york</th>\n",
       "      <th>yuanes</th>\n",
       "      <th>zamora</th>\n",
       "      <th>zonas</th>\n",
       "    </tr>\n",
       "  </thead>\n",
       "  <tbody>\n",
       "    <tr>\n",
       "      <th>10</th>\n",
       "      <td>left</td>\n",
       "      <td>0</td>\n",
       "      <td>0.0</td>\n",
       "      <td>0</td>\n",
       "      <td>0.0</td>\n",
       "      <td>0</td>\n",
       "      <td>0.0</td>\n",
       "      <td>0</td>\n",
       "      <td>0.0</td>\n",
       "      <td>0</td>\n",
       "      <td>...</td>\n",
       "      <td>0.0</td>\n",
       "      <td>0.0</td>\n",
       "      <td>0.0</td>\n",
       "      <td>0.0</td>\n",
       "      <td>0.0</td>\n",
       "      <td>0.0</td>\n",
       "      <td>0.0</td>\n",
       "      <td>0.0</td>\n",
       "      <td>0.0</td>\n",
       "      <td>0.0</td>\n",
       "    </tr>\n",
       "    <tr>\n",
       "      <th>4</th>\n",
       "      <td>left</td>\n",
       "      <td>0</td>\n",
       "      <td>0.0</td>\n",
       "      <td>0</td>\n",
       "      <td>0.0</td>\n",
       "      <td>0</td>\n",
       "      <td>0.0</td>\n",
       "      <td>0</td>\n",
       "      <td>0.0</td>\n",
       "      <td>0</td>\n",
       "      <td>...</td>\n",
       "      <td>0.0</td>\n",
       "      <td>0.0</td>\n",
       "      <td>0.0</td>\n",
       "      <td>0.0</td>\n",
       "      <td>0.0</td>\n",
       "      <td>0.0</td>\n",
       "      <td>0.0</td>\n",
       "      <td>0.0</td>\n",
       "      <td>0.0</td>\n",
       "      <td>0.0</td>\n",
       "    </tr>\n",
       "    <tr>\n",
       "      <th>31</th>\n",
       "      <td>right</td>\n",
       "      <td>0</td>\n",
       "      <td>0.0</td>\n",
       "      <td>0</td>\n",
       "      <td>0.0</td>\n",
       "      <td>0</td>\n",
       "      <td>0.0</td>\n",
       "      <td>0</td>\n",
       "      <td>0.0</td>\n",
       "      <td>0</td>\n",
       "      <td>...</td>\n",
       "      <td>0.0</td>\n",
       "      <td>0.0</td>\n",
       "      <td>0.0</td>\n",
       "      <td>0.0</td>\n",
       "      <td>0.0</td>\n",
       "      <td>0.0</td>\n",
       "      <td>0.0</td>\n",
       "      <td>0.0</td>\n",
       "      <td>0.0</td>\n",
       "      <td>0.0</td>\n",
       "    </tr>\n",
       "    <tr>\n",
       "      <th>36</th>\n",
       "      <td>right</td>\n",
       "      <td>0</td>\n",
       "      <td>0.0</td>\n",
       "      <td>0</td>\n",
       "      <td>0.0</td>\n",
       "      <td>0</td>\n",
       "      <td>0.0</td>\n",
       "      <td>0</td>\n",
       "      <td>0.0</td>\n",
       "      <td>0</td>\n",
       "      <td>...</td>\n",
       "      <td>0.0</td>\n",
       "      <td>0.0</td>\n",
       "      <td>0.0</td>\n",
       "      <td>0.0</td>\n",
       "      <td>0.0</td>\n",
       "      <td>0.0</td>\n",
       "      <td>0.0</td>\n",
       "      <td>1.0</td>\n",
       "      <td>0.0</td>\n",
       "      <td>0.0</td>\n",
       "    </tr>\n",
       "    <tr>\n",
       "      <th>53</th>\n",
       "      <td>right</td>\n",
       "      <td>0</td>\n",
       "      <td>0.0</td>\n",
       "      <td>0</td>\n",
       "      <td>0.0</td>\n",
       "      <td>0</td>\n",
       "      <td>0.0</td>\n",
       "      <td>0</td>\n",
       "      <td>0.0</td>\n",
       "      <td>0</td>\n",
       "      <td>...</td>\n",
       "      <td>0.0</td>\n",
       "      <td>0.0</td>\n",
       "      <td>0.0</td>\n",
       "      <td>0.0</td>\n",
       "      <td>0.0</td>\n",
       "      <td>0.0</td>\n",
       "      <td>0.0</td>\n",
       "      <td>0.0</td>\n",
       "      <td>0.0</td>\n",
       "      <td>0.0</td>\n",
       "    </tr>\n",
       "  </tbody>\n",
       "</table>\n",
       "<p>5 rows × 7078 columns</p>\n",
       "</div>"
      ],
      "text/plain": [
       "   publication  abajo  abarca  abastecimiento  abc  abierta  abiertamente  \\\n",
       "10        left      0     0.0               0  0.0        0           0.0   \n",
       "4         left      0     0.0               0  0.0        0           0.0   \n",
       "31       right      0     0.0               0  0.0        0           0.0   \n",
       "36       right      0     0.0               0  0.0        0           0.0   \n",
       "53       right      0     0.0               0  0.0        0           0.0   \n",
       "\n",
       "    abierto  abiertos  abre  ...  vuelva  vuelvan  vulgarmente  woyecheszen  \\\n",
       "10        0       0.0     0  ...     0.0      0.0          0.0          0.0   \n",
       "4         0       0.0     0  ...     0.0      0.0          0.0          0.0   \n",
       "31        0       0.0     0  ...     0.0      0.0          0.0          0.0   \n",
       "36        0       0.0     0  ...     0.0      0.0          0.0          0.0   \n",
       "53        0       0.0     0  ...     0.0      0.0          0.0          0.0   \n",
       "\n",
       "     xx  yaguarete  york  yuanes  zamora  zonas  \n",
       "10  0.0        0.0   0.0     0.0     0.0    0.0  \n",
       "4   0.0        0.0   0.0     0.0     0.0    0.0  \n",
       "31  0.0        0.0   0.0     0.0     0.0    0.0  \n",
       "36  0.0        0.0   0.0     1.0     0.0    0.0  \n",
       "53  0.0        0.0   0.0     0.0     0.0    0.0  \n",
       "\n",
       "[5 rows x 7078 columns]"
      ]
     },
     "execution_count": 118,
     "metadata": {},
     "output_type": "execute_result"
    }
   ],
   "source": [
    "tokens.sample(5)"
   ]
  },
  {
   "cell_type": "markdown",
   "metadata": {},
   "source": [
    "#### Train - Test Split"
   ]
  },
  {
   "cell_type": "code",
   "execution_count": 119,
   "metadata": {},
   "outputs": [],
   "source": [
    "from sklearn.model_selection import train_test_split"
   ]
  },
  {
   "cell_type": "code",
   "execution_count": 120,
   "metadata": {},
   "outputs": [
    {
     "data": {
      "text/plain": [
       "right    0.535714\n",
       "left     0.464286\n",
       "Name: publication, dtype: float64"
      ]
     },
     "execution_count": 120,
     "metadata": {},
     "output_type": "execute_result"
    }
   ],
   "source": [
    "# data balance\n",
    "tokens.publication.value_counts(normalize=True)"
   ]
  },
  {
   "cell_type": "code",
   "execution_count": 121,
   "metadata": {},
   "outputs": [],
   "source": [
    "X = tokens.drop('publication', axis=1)"
   ]
  },
  {
   "cell_type": "code",
   "execution_count": 122,
   "metadata": {},
   "outputs": [],
   "source": [
    "y = tokens['publication']"
   ]
  },
  {
   "cell_type": "code",
   "execution_count": 123,
   "metadata": {},
   "outputs": [],
   "source": [
    "train, test, y_train, y_test = train_test_split(X, y, train_size=0.75, stratify=tokens.publication)"
   ]
  },
  {
   "cell_type": "markdown",
   "metadata": {},
   "source": [
    "Shapes and balance"
   ]
  },
  {
   "cell_type": "code",
   "execution_count": 124,
   "metadata": {},
   "outputs": [
    {
     "data": {
      "text/plain": [
       "42"
      ]
     },
     "metadata": {},
     "output_type": "display_data"
    },
    {
     "data": {
      "text/plain": [
       "0.75"
      ]
     },
     "metadata": {},
     "output_type": "display_data"
    }
   ],
   "source": [
    "# shape train\n",
    "display(train.shape[0],\n",
    "        train.shape[0] / X.shape[0])"
   ]
  },
  {
   "cell_type": "code",
   "execution_count": 125,
   "metadata": {},
   "outputs": [
    {
     "data": {
      "text/plain": [
       "14"
      ]
     },
     "metadata": {},
     "output_type": "display_data"
    },
    {
     "data": {
      "text/plain": [
       "0.25"
      ]
     },
     "metadata": {},
     "output_type": "display_data"
    }
   ],
   "source": [
    "# shape test\n",
    "display(test.shape[0],\n",
    "        test.shape[0] / X.shape[0])"
   ]
  },
  {
   "cell_type": "code",
   "execution_count": 126,
   "metadata": {},
   "outputs": [
    {
     "data": {
      "text/plain": [
       "right    0.52381\n",
       "left     0.47619\n",
       "Name: publication, dtype: float64"
      ]
     },
     "metadata": {},
     "output_type": "display_data"
    },
    {
     "data": {
      "text/plain": [
       "right    0.571429\n",
       "left     0.428571\n",
       "Name: publication, dtype: float64"
      ]
     },
     "metadata": {},
     "output_type": "display_data"
    }
   ],
   "source": [
    "# data balance - test\n",
    "display(y_train.value_counts(normalize=True), \n",
    "        y_test.value_counts(normalize=True))"
   ]
  },
  {
   "cell_type": "markdown",
   "metadata": {},
   "source": [
    "Vectorización con TF-IDF"
   ]
  },
  {
   "cell_type": "code",
   "execution_count": 127,
   "metadata": {},
   "outputs": [],
   "source": [
    "from sklearn.feature_extraction.text import TfidfTransformer"
   ]
  },
  {
   "cell_type": "code",
   "execution_count": 128,
   "metadata": {},
   "outputs": [],
   "source": [
    "tfidf_vector = TfidfTransformer().fit(train)\n",
    "train_tfidf = tfidf_vector.transform(train)"
   ]
  },
  {
   "cell_type": "code",
   "execution_count": 129,
   "metadata": {},
   "outputs": [],
   "source": [
    "test_tfidf = tfidf_vector.transform(test)"
   ]
  },
  {
   "cell_type": "markdown",
   "metadata": {},
   "source": [
    "#### Models calling"
   ]
  },
  {
   "cell_type": "code",
   "execution_count": 130,
   "metadata": {},
   "outputs": [],
   "source": [
    "from sklearn.naive_bayes import MultinomialNB"
   ]
  },
  {
   "cell_type": "code",
   "execution_count": 131,
   "metadata": {},
   "outputs": [],
   "source": [
    "from sklearn.linear_model import LogisticRegression, SGDClassifier"
   ]
  },
  {
   "cell_type": "code",
   "execution_count": 132,
   "metadata": {},
   "outputs": [],
   "source": [
    "from sklearn.neighbors import KNeighborsClassifier"
   ]
  },
  {
   "cell_type": "code",
   "execution_count": 133,
   "metadata": {},
   "outputs": [],
   "source": [
    "from sklearn.tree import DecisionTreeClassifier"
   ]
  },
  {
   "cell_type": "code",
   "execution_count": 134,
   "metadata": {},
   "outputs": [],
   "source": [
    "from sklearn.ensemble import AdaBoostClassifier, GradientBoostingClassifier"
   ]
  },
  {
   "cell_type": "code",
   "execution_count": 135,
   "metadata": {},
   "outputs": [],
   "source": [
    "from xgboost import XGBClassifier"
   ]
  },
  {
   "cell_type": "markdown",
   "metadata": {},
   "source": [
    "#### K-Folds + Cross Validation"
   ]
  },
  {
   "cell_type": "code",
   "execution_count": 136,
   "metadata": {},
   "outputs": [],
   "source": [
    "from sklearn.model_selection import StratifiedKFold, cross_val_score"
   ]
  },
  {
   "cell_type": "code",
   "execution_count": 137,
   "metadata": {},
   "outputs": [],
   "source": [
    "from sklearn.metrics import accuracy_score"
   ]
  },
  {
   "cell_type": "code",
   "execution_count": 138,
   "metadata": {},
   "outputs": [],
   "source": [
    "folds = StratifiedKFold(n_splits=5, random_state=19, shuffle=True)"
   ]
  },
  {
   "cell_type": "code",
   "execution_count": 139,
   "metadata": {},
   "outputs": [],
   "source": [
    "estimators = [\n",
    "    ('MNB', MultinomialNB()),\n",
    "    ('LR', LogisticRegression()),\n",
    "    ('SGD', SGDClassifier()),\n",
    "    ('KNN', KNeighborsClassifier()),\n",
    "    ('CART', DecisionTreeClassifier()),\n",
    "    ('ADA', AdaBoostClassifier()),\n",
    "    ('GDB', GradientBoostingClassifier()),\n",
    "    ('XGB', XGBClassifier())\n",
    "]\n",
    "results = []"
   ]
  },
  {
   "cell_type": "code",
   "execution_count": 140,
   "metadata": {},
   "outputs": [
    {
     "name": "stdout",
     "output_type": "stream",
     "text": [
      "model\tCV mean\t CV std\n",
      "MNB:\t0.963636 (0.072727)\n",
      "LR:\t0.928788 (0.035727)\n",
      "SGD:\t0.946970 (0.072029)\n",
      "KNN:\t0.463636 (0.018182)\n",
      "CART:\t0.928788 (0.067692)\n",
      "ADA:\t0.928788 (0.035727)\n",
      "GDB:\t0.928788 (0.035727)\n",
      "XGB:\t0.928788 (0.035727)\n"
     ]
    }
   ],
   "source": [
    "results = []\n",
    "scoring = 'accuracy'\n",
    "print(\"model\\tCV mean\\t CV std\")\n",
    "for name, model in estimators:\n",
    " \tcv_results = cross_val_score(model, X, y, cv=folds, scoring='accuracy')\n",
    " \tresults.append(cv_results)\n",
    " \tmsg = \"%s:\\t%f (%f)\" % (name, cv_results.mean(), cv_results.std())\n",
    " \tprint(msg)"
   ]
  },
  {
   "cell_type": "markdown",
   "metadata": {},
   "source": [
    "### GridSearchCV (Vectorization + Models)"
   ]
  },
  {
   "cell_type": "code",
   "execution_count": 141,
   "metadata": {},
   "outputs": [],
   "source": [
    "from sklearn.model_selection import GridSearchCV"
   ]
  },
  {
   "cell_type": "markdown",
   "metadata": {},
   "source": [
    "### 1. Naive Bayes"
   ]
  },
  {
   "cell_type": "markdown",
   "metadata": {},
   "source": [
    "CountVectorizer"
   ]
  },
  {
   "cell_type": "code",
   "execution_count": 142,
   "metadata": {},
   "outputs": [],
   "source": [
    "parameters = {\n",
    "        'alpha': (1e-2, 1e-3, 1e-1),\n",
    "    }"
   ]
  },
  {
   "cell_type": "code",
   "execution_count": 143,
   "metadata": {},
   "outputs": [],
   "source": [
    "grid_mnb = GridSearchCV(MultinomialNB(), parameters, cv=folds, scoring='accuracy')"
   ]
  },
  {
   "cell_type": "code",
   "execution_count": 144,
   "metadata": {},
   "outputs": [
    {
     "data": {
      "text/plain": [
       "GridSearchCV(cv=StratifiedKFold(n_splits=5, random_state=19, shuffle=True),\n",
       "             estimator=MultinomialNB(),\n",
       "             param_grid={'alpha': (0.01, 0.001, 0.1)}, scoring='accuracy')"
      ]
     },
     "execution_count": 144,
     "metadata": {},
     "output_type": "execute_result"
    }
   ],
   "source": [
    "grid_mnb.fit(train, y_train)"
   ]
  },
  {
   "cell_type": "code",
   "execution_count": 145,
   "metadata": {},
   "outputs": [],
   "source": [
    "mnb_train_score_cv = grid_mnb.score(train, y_train)\n",
    "mnb_test_score_cv = accuracy_score(grid_mnb.predict(test), y_test)"
   ]
  },
  {
   "cell_type": "code",
   "execution_count": 146,
   "metadata": {},
   "outputs": [],
   "source": [
    "mnb_cv_fold_test_mean = grid_mnb.cv_results_['mean_test_score'].mean()\n",
    "mnb_cv_fold_test_std = grid_mnb.cv_results_['std_test_score'].mean()"
   ]
  },
  {
   "cell_type": "code",
   "execution_count": 147,
   "metadata": {},
   "outputs": [
    {
     "name": "stdout",
     "output_type": "stream",
     "text": [
      "Best parameters: {'alpha': 0.01}\n",
      "Mean cv test score: 0.9444444444444443\n",
      "Std cv test score: 0.08176554381711859\n",
      "Train score: 1.0\n",
      "Test test score: 1.0\n"
     ]
    }
   ],
   "source": [
    "print(f'''Best parameters: {grid_mnb.best_params_}\n",
    "Mean cv test score: {grid_mnb.cv_results_['mean_test_score'].mean()}\n",
    "Std cv test score: {grid_mnb.cv_results_['std_test_score'].mean()}\n",
    "Train score: {mnb_train_score_cv}\n",
    "Test test score: {mnb_test_score_cv}''')"
   ]
  },
  {
   "cell_type": "markdown",
   "metadata": {},
   "source": [
    "Tfidfvectorizer"
   ]
  },
  {
   "cell_type": "code",
   "execution_count": 148,
   "metadata": {},
   "outputs": [
    {
     "data": {
      "text/plain": [
       "GridSearchCV(cv=StratifiedKFold(n_splits=5, random_state=19, shuffle=True),\n",
       "             estimator=MultinomialNB(),\n",
       "             param_grid={'alpha': (0.01, 0.001, 0.1)}, scoring='accuracy')"
      ]
     },
     "execution_count": 148,
     "metadata": {},
     "output_type": "execute_result"
    }
   ],
   "source": [
    "grid_mnb.fit(train_tfidf, y_train)"
   ]
  },
  {
   "cell_type": "code",
   "execution_count": 149,
   "metadata": {},
   "outputs": [],
   "source": [
    "mnb_train_score_td = grid_mnb.score(train_tfidf, y_train)\n",
    "mnb_test_score_td = accuracy_score(grid_mnb.predict(test_tfidf), y_test)"
   ]
  },
  {
   "cell_type": "code",
   "execution_count": 150,
   "metadata": {},
   "outputs": [],
   "source": [
    "mnb_td_fold_test_mean = grid_mnb.cv_results_['mean_test_score'].mean()\n",
    "mnb_td_fold_test_std = grid_mnb.cv_results_['std_test_score'].mean()"
   ]
  },
  {
   "cell_type": "code",
   "execution_count": 151,
   "metadata": {},
   "outputs": [
    {
     "name": "stdout",
     "output_type": "stream",
     "text": [
      "Best parameters: {'alpha': 0.01}\n",
      "Mean cv test score: 0.9518518518518518\n",
      "Std cv test score: 0.07200113521818723\n",
      "Train score: 1.0\n",
      "Test test score: 1.0\n"
     ]
    }
   ],
   "source": [
    "print(f'''Best parameters: {grid_mnb.best_params_}\n",
    "Mean cv test score: {grid_mnb.cv_results_['mean_test_score'].mean()}\n",
    "Std cv test score: {grid_mnb.cv_results_['std_test_score'].mean()}\n",
    "Train score: {mnb_train_score_td}\n",
    "Test test score: {mnb_test_score_td}''')"
   ]
  },
  {
   "cell_type": "markdown",
   "metadata": {},
   "source": [
    "### 2. LogisticRegression"
   ]
  },
  {
   "cell_type": "markdown",
   "metadata": {},
   "source": [
    "CountVectorizer"
   ]
  },
  {
   "cell_type": "code",
   "execution_count": 152,
   "metadata": {},
   "outputs": [],
   "source": [
    "parameters = {\n",
    "        'C': [1, 10, 100, 1000],\n",
    "        'penalty': ['l1', 'l2',],\n",
    "        'solver': ['saga']\n",
    "    }"
   ]
  },
  {
   "cell_type": "code",
   "execution_count": 153,
   "metadata": {},
   "outputs": [],
   "source": [
    "grid_log = GridSearchCV(LogisticRegression(), parameters, cv=folds, scoring='accuracy')"
   ]
  },
  {
   "cell_type": "code",
   "execution_count": 154,
   "metadata": {},
   "outputs": [
    {
     "data": {
      "text/plain": [
       "GridSearchCV(cv=StratifiedKFold(n_splits=5, random_state=19, shuffle=True),\n",
       "             estimator=LogisticRegression(),\n",
       "             param_grid={'C': [1, 10, 100, 1000], 'penalty': ['l1', 'l2'],\n",
       "                         'solver': ['saga']},\n",
       "             scoring='accuracy')"
      ]
     },
     "execution_count": 154,
     "metadata": {},
     "output_type": "execute_result"
    }
   ],
   "source": [
    "grid_log.fit(train, y_train)"
   ]
  },
  {
   "cell_type": "code",
   "execution_count": 155,
   "metadata": {},
   "outputs": [],
   "source": [
    "log_cv_train_score = grid_log.score(train, y_train)\n",
    "log_cv_test_score = accuracy_score(grid_log.predict(test), y_test)"
   ]
  },
  {
   "cell_type": "code",
   "execution_count": 156,
   "metadata": {},
   "outputs": [],
   "source": [
    "log_cv_fold_test_mean = grid_log.cv_results_['mean_test_score'].mean()\n",
    "log_cv_fold_test_std = grid_log.cv_results_['std_test_score'].mean()"
   ]
  },
  {
   "cell_type": "code",
   "execution_count": 157,
   "metadata": {},
   "outputs": [
    {
     "name": "stdout",
     "output_type": "stream",
     "text": [
      "Best parameters: {'C': 10, 'penalty': 'l1', 'solver': 'saga'}\n",
      "Mean cv test score: 0.8635416666666667\n",
      "Std cv test score: 0.17048558389891702\n",
      "Train score: 1.0\n",
      "Test test score: 1.0\n"
     ]
    }
   ],
   "source": [
    "print(f'''Best parameters: {grid_log.best_params_}\n",
    "Mean cv test score: {grid_log.cv_results_['mean_test_score'].mean()}\n",
    "Std cv test score: {grid_log.cv_results_['std_test_score'].mean()}\n",
    "Train score: {log_cv_train_score}\n",
    "Test test score: {log_cv_test_score}''')"
   ]
  },
  {
   "cell_type": "markdown",
   "metadata": {},
   "source": [
    "Tfidfvectorizer"
   ]
  },
  {
   "cell_type": "code",
   "execution_count": 158,
   "metadata": {},
   "outputs": [
    {
     "data": {
      "text/plain": [
       "GridSearchCV(cv=StratifiedKFold(n_splits=5, random_state=19, shuffle=True),\n",
       "             estimator=LogisticRegression(),\n",
       "             param_grid={'C': [1, 10, 100, 1000], 'penalty': ['l1', 'l2'],\n",
       "                         'solver': ['saga']},\n",
       "             scoring='accuracy')"
      ]
     },
     "execution_count": 158,
     "metadata": {},
     "output_type": "execute_result"
    }
   ],
   "source": [
    "grid_log.fit(train_tfidf, y_train)"
   ]
  },
  {
   "cell_type": "code",
   "execution_count": 159,
   "metadata": {},
   "outputs": [],
   "source": [
    "log_td_train_score = grid_log.score(train_tfidf, y_train)\n",
    "log_td_test_score = accuracy_score(grid_log.predict(test_tfidf), y_test)"
   ]
  },
  {
   "cell_type": "code",
   "execution_count": 160,
   "metadata": {},
   "outputs": [],
   "source": [
    "log_td_fold_test_mean = grid_log.cv_results_['mean_test_score'].mean()\n",
    "log_td_fold_test_std = grid_log.cv_results_['std_test_score'].mean()"
   ]
  },
  {
   "cell_type": "code",
   "execution_count": 161,
   "metadata": {},
   "outputs": [
    {
     "name": "stdout",
     "output_type": "stream",
     "text": [
      "Best parameters: {'C': 1000, 'penalty': 'l2', 'solver': 'saga'}\n",
      "Mean cv test score: 0.8604166666666666\n",
      "Std cv test score: 0.10151172476361903\n",
      "Train score: 1.0\n",
      "Test test score: 1.0\n"
     ]
    }
   ],
   "source": [
    "print(f'''Best parameters: {grid_log.best_params_}\n",
    "Mean cv test score: {grid_log.cv_results_['mean_test_score'].mean()}\n",
    "Std cv test score: {grid_log.cv_results_['std_test_score'].mean()}\n",
    "Train score: {log_td_train_score}\n",
    "Test test score: {log_td_test_score}''')"
   ]
  },
  {
   "cell_type": "markdown",
   "metadata": {},
   "source": [
    "### 3. SGDClassifier"
   ]
  },
  {
   "cell_type": "markdown",
   "metadata": {},
   "source": [
    "CountVectorizer"
   ]
  },
  {
   "cell_type": "code",
   "execution_count": 162,
   "metadata": {},
   "outputs": [],
   "source": [
    "parameters ={\n",
    "    'penalty': ('l2', 'elasticnet', 'l1'),\n",
    "    'max_iter': [50, 80],\n",
    "    'tol': [1e-4],\n",
    "    'loss': ['hinge', 'log', 'modified_huber'],\n",
    "}"
   ]
  },
  {
   "cell_type": "code",
   "execution_count": 163,
   "metadata": {},
   "outputs": [],
   "source": [
    "grid_sgd = GridSearchCV(SGDClassifier(), parameters, cv=folds, scoring='accuracy')"
   ]
  },
  {
   "cell_type": "code",
   "execution_count": 164,
   "metadata": {},
   "outputs": [
    {
     "data": {
      "text/plain": [
       "GridSearchCV(cv=StratifiedKFold(n_splits=5, random_state=19, shuffle=True),\n",
       "             estimator=SGDClassifier(),\n",
       "             param_grid={'loss': ['hinge', 'log', 'modified_huber'],\n",
       "                         'max_iter': [50, 80],\n",
       "                         'penalty': ('l2', 'elasticnet', 'l1'),\n",
       "                         'tol': [0.0001]},\n",
       "             scoring='accuracy')"
      ]
     },
     "execution_count": 164,
     "metadata": {},
     "output_type": "execute_result"
    }
   ],
   "source": [
    "grid_sgd.fit(train, y_train)"
   ]
  },
  {
   "cell_type": "code",
   "execution_count": 165,
   "metadata": {},
   "outputs": [],
   "source": [
    "sgd_cv_train_score = grid_sgd.score(train, y_train)\n",
    "sgd_cv_test_score = accuracy_score(grid_sgd.predict(test), y_test)"
   ]
  },
  {
   "cell_type": "code",
   "execution_count": 166,
   "metadata": {},
   "outputs": [],
   "source": [
    "sgd_cv_fold_test_mean = grid_sgd.cv_results_['mean_test_score'].mean()\n",
    "sgd_cv_fold_test_std = grid_sgd.cv_results_['std_test_score'].mean()"
   ]
  },
  {
   "cell_type": "code",
   "execution_count": 167,
   "metadata": {},
   "outputs": [
    {
     "name": "stdout",
     "output_type": "stream",
     "text": [
      "Best parameters: {'loss': 'hinge', 'max_iter': 50, 'penalty': 'l2', 'tol': 0.0001}\n",
      "Mean cv test score: 0.9001543209876542\n",
      "Std cv test score: 0.11970815625310943\n",
      "Train score: 1.0\n",
      "Test test score: 0.9285714285714286\n"
     ]
    }
   ],
   "source": [
    "print(f'''Best parameters: {grid_sgd.best_params_}\n",
    "Mean cv test score: {grid_sgd.cv_results_['mean_test_score'].mean()}\n",
    "Std cv test score: {grid_sgd.cv_results_['std_test_score'].mean()}\n",
    "Train score: {sgd_cv_train_score}\n",
    "Test test score: {sgd_cv_test_score}''')"
   ]
  },
  {
   "cell_type": "markdown",
   "metadata": {},
   "source": [
    "Tfidfvectorizer"
   ]
  },
  {
   "cell_type": "code",
   "execution_count": 168,
   "metadata": {},
   "outputs": [
    {
     "data": {
      "text/plain": [
       "GridSearchCV(cv=StratifiedKFold(n_splits=5, random_state=19, shuffle=True),\n",
       "             estimator=SGDClassifier(),\n",
       "             param_grid={'loss': ['hinge', 'log', 'modified_huber'],\n",
       "                         'max_iter': [50, 80],\n",
       "                         'penalty': ('l2', 'elasticnet', 'l1'),\n",
       "                         'tol': [0.0001]},\n",
       "             scoring='accuracy')"
      ]
     },
     "execution_count": 168,
     "metadata": {},
     "output_type": "execute_result"
    }
   ],
   "source": [
    "grid_sgd.fit(train_tfidf, y_train)"
   ]
  },
  {
   "cell_type": "code",
   "execution_count": 169,
   "metadata": {},
   "outputs": [],
   "source": [
    "sgd_td_train_score = grid_sgd.score(train_tfidf, y_train)\n",
    "sgd_td_test_score = accuracy_score(grid_sgd.predict(test_tfidf), y_test)"
   ]
  },
  {
   "cell_type": "code",
   "execution_count": 170,
   "metadata": {},
   "outputs": [],
   "source": [
    "sgd_td_fold_test_mean = grid_sgd.cv_results_['mean_test_score'].mean()\n",
    "sgd_td_fold_test_std = grid_sgd.cv_results_['std_test_score'].mean()"
   ]
  },
  {
   "cell_type": "code",
   "execution_count": 171,
   "metadata": {},
   "outputs": [
    {
     "name": "stdout",
     "output_type": "stream",
     "text": [
      "Best parameters: {'loss': 'hinge', 'max_iter': 50, 'penalty': 'l2', 'tol': 0.0001}\n",
      "Mean cv test score: 0.9208333333333333\n",
      "Std cv test score: 0.10841773961556156\n",
      "Train score: 1.0\n",
      "Test test score: 1.0\n"
     ]
    }
   ],
   "source": [
    "print(f'''Best parameters: {grid_sgd.best_params_}\n",
    "Mean cv test score: {grid_sgd.cv_results_['mean_test_score'].mean()}\n",
    "Std cv test score: {grid_sgd.cv_results_['std_test_score'].mean()}\n",
    "Train score: {log_td_train_score}\n",
    "Test test score: {log_td_test_score}''')"
   ]
  },
  {
   "cell_type": "markdown",
   "metadata": {},
   "source": [
    "### 4. KNeighborsClassifier"
   ]
  },
  {
   "cell_type": "markdown",
   "metadata": {},
   "source": [
    "CountVectorizer"
   ]
  },
  {
   "cell_type": "code",
   "execution_count": 172,
   "metadata": {},
   "outputs": [],
   "source": [
    "parameters ={\n",
    "        'n_neighbors': range(1,4),\n",
    "        'weights' : ['uniform', 'distance'],\n",
    "        'p' : [1, 2, 3]\n",
    "}"
   ]
  },
  {
   "cell_type": "code",
   "execution_count": 173,
   "metadata": {},
   "outputs": [],
   "source": [
    "grid_knn = GridSearchCV(KNeighborsClassifier(), parameters, cv=folds, scoring='accuracy')"
   ]
  },
  {
   "cell_type": "code",
   "execution_count": 174,
   "metadata": {},
   "outputs": [
    {
     "data": {
      "text/plain": [
       "GridSearchCV(cv=StratifiedKFold(n_splits=5, random_state=19, shuffle=True),\n",
       "             estimator=KNeighborsClassifier(),\n",
       "             param_grid={'n_neighbors': range(1, 4), 'p': [1, 2, 3],\n",
       "                         'weights': ['uniform', 'distance']},\n",
       "             scoring='accuracy')"
      ]
     },
     "execution_count": 174,
     "metadata": {},
     "output_type": "execute_result"
    }
   ],
   "source": [
    "grid_knn.fit(train, y_train)"
   ]
  },
  {
   "cell_type": "code",
   "execution_count": 175,
   "metadata": {},
   "outputs": [],
   "source": [
    "knn_cv_train_score = grid_knn.score(train, y_train)\n",
    "knn_cv_test_score = accuracy_score(grid_knn.predict(test), y_test)"
   ]
  },
  {
   "cell_type": "code",
   "execution_count": 176,
   "metadata": {},
   "outputs": [],
   "source": [
    "knn_cv_fold_test_mean = grid_knn.cv_results_['mean_test_score'].mean()\n",
    "knn_cv_fold_test_std = grid_knn.cv_results_['std_test_score'].mean()"
   ]
  },
  {
   "cell_type": "code",
   "execution_count": 177,
   "metadata": {},
   "outputs": [
    {
     "name": "stdout",
     "output_type": "stream",
     "text": [
      "Best parameters: {'n_neighbors': 1, 'p': 3, 'weights': 'uniform'}\n",
      "Mean cv test score: 0.5121913580246914\n",
      "Std cv test score: 0.05376097133307451\n",
      "Train score: 1.0\n",
      "Test test score: 0.5\n"
     ]
    }
   ],
   "source": [
    "print(f'''Best parameters: {grid_knn.best_params_}\n",
    "Mean cv test score: {grid_knn.cv_results_['mean_test_score'].mean()}\n",
    "Std cv test score: {grid_knn.cv_results_['std_test_score'].mean()}\n",
    "Train score: {knn_cv_train_score}\n",
    "Test test score: {knn_cv_test_score}''')"
   ]
  },
  {
   "cell_type": "markdown",
   "metadata": {},
   "source": [
    "Tfidfvectorizer"
   ]
  },
  {
   "cell_type": "code",
   "execution_count": 178,
   "metadata": {},
   "outputs": [
    {
     "data": {
      "text/plain": [
       "GridSearchCV(cv=StratifiedKFold(n_splits=5, random_state=19, shuffle=True),\n",
       "             estimator=KNeighborsClassifier(),\n",
       "             param_grid={'n_neighbors': range(1, 4), 'p': [1, 2, 3],\n",
       "                         'weights': ['uniform', 'distance']},\n",
       "             scoring='accuracy')"
      ]
     },
     "execution_count": 178,
     "metadata": {},
     "output_type": "execute_result"
    }
   ],
   "source": [
    "grid_knn.fit(train_tfidf, y_train)"
   ]
  },
  {
   "cell_type": "code",
   "execution_count": 179,
   "metadata": {},
   "outputs": [],
   "source": [
    "knn_td_train_score = grid_knn.score(train_tfidf, y_train)\n",
    "knn_td_test_score = accuracy_score(grid_knn.predict(test_tfidf), y_test)"
   ]
  },
  {
   "cell_type": "code",
   "execution_count": 180,
   "metadata": {},
   "outputs": [],
   "source": [
    "knn_td_fold_test_mean = grid_knn.cv_results_['mean_test_score'].mean()\n",
    "knn_td_fold_test_std = grid_knn.cv_results_['std_test_score'].mean()"
   ]
  },
  {
   "cell_type": "code",
   "execution_count": 181,
   "metadata": {},
   "outputs": [
    {
     "name": "stdout",
     "output_type": "stream",
     "text": [
      "Best parameters: {'n_neighbors': 1, 'p': 2, 'weights': 'uniform'}\n",
      "Best cv score: 0.9055555555555556\n",
      "Train score: 1.0\n",
      "Test test score: 0.8571428571428571\n"
     ]
    }
   ],
   "source": [
    "print(f'''Best parameters: {grid_knn.best_params_}\n",
    "Best cv score: {grid_knn.best_score_}\n",
    "Train score: {knn_td_train_score}\n",
    "Test test score: {knn_td_test_score}''')"
   ]
  },
  {
   "cell_type": "markdown",
   "metadata": {},
   "source": [
    "### 5. CART"
   ]
  },
  {
   "cell_type": "markdown",
   "metadata": {},
   "source": [
    "CountVectorizer"
   ]
  },
  {
   "cell_type": "code",
   "execution_count": 182,
   "metadata": {},
   "outputs": [],
   "source": [
    "parameters ={\n",
    "        \"criterion\" : [\"gini\", \"entropy\"],\n",
    "        \"min_samples_leaf\": [5,10,15,20,2], \n",
    "        \"max_depth\" : [1,2,3,4,5,6,8,9,10,11,12,13,14,15,16,17],\n",
    "        \"min_samples_split\": [2, 3, 4,None]\n",
    "}"
   ]
  },
  {
   "cell_type": "code",
   "execution_count": 183,
   "metadata": {},
   "outputs": [],
   "source": [
    "grid_dtc = GridSearchCV(DecisionTreeClassifier(), parameters, cv=folds, scoring='accuracy')"
   ]
  },
  {
   "cell_type": "code",
   "execution_count": 184,
   "metadata": {},
   "outputs": [
    {
     "data": {
      "text/plain": [
       "GridSearchCV(cv=StratifiedKFold(n_splits=5, random_state=19, shuffle=True),\n",
       "             estimator=DecisionTreeClassifier(),\n",
       "             param_grid={'criterion': ['gini', 'entropy'],\n",
       "                         'max_depth': [1, 2, 3, 4, 5, 6, 8, 9, 10, 11, 12, 13,\n",
       "                                       14, 15, 16, 17],\n",
       "                         'min_samples_leaf': [5, 10, 15, 20, 2],\n",
       "                         'min_samples_split': [2, 3, 4, None]},\n",
       "             scoring='accuracy')"
      ]
     },
     "execution_count": 184,
     "metadata": {},
     "output_type": "execute_result"
    }
   ],
   "source": [
    "grid_dtc.fit(train, y_train)"
   ]
  },
  {
   "cell_type": "code",
   "execution_count": 185,
   "metadata": {},
   "outputs": [],
   "source": [
    "dtc_cv_train_score = grid_dtc.score(train, y_train)\n",
    "dtc_cv_test_score = accuracy_score(grid_dtc .predict(test), y_test)"
   ]
  },
  {
   "cell_type": "code",
   "execution_count": 186,
   "metadata": {},
   "outputs": [],
   "source": [
    "dtc_cv_fold_test_mean = grid_dtc.cv_results_['mean_test_score'].mean()\n",
    "dtc_cv_fold_test_std = grid_dtc.cv_results_['std_test_score'].mean()"
   ]
  },
  {
   "cell_type": "code",
   "execution_count": 187,
   "metadata": {},
   "outputs": [
    {
     "name": "stdout",
     "output_type": "stream",
     "text": [
      "Best parameters: {'criterion': 'gini', 'max_depth': 2, 'min_samples_leaf': 2, 'min_samples_split': 4}\n",
      "Mean cv test score: nan\n",
      "Std cv test score: nan\n",
      "Train score: 1.0\n",
      "Test test score: 0.9285714285714286\n"
     ]
    }
   ],
   "source": [
    "print(f'''Best parameters: {grid_dtc.best_params_}\n",
    "Mean cv test score: {grid_dtc.cv_results_['mean_test_score'].mean()}\n",
    "Std cv test score: {grid_dtc.cv_results_['std_test_score'].mean()}\n",
    "Train score: {dtc_cv_train_score}\n",
    "Test test score: {dtc_cv_test_score}''')"
   ]
  },
  {
   "cell_type": "markdown",
   "metadata": {},
   "source": [
    "Tfidfvectorizer"
   ]
  },
  {
   "cell_type": "code",
   "execution_count": 188,
   "metadata": {},
   "outputs": [
    {
     "data": {
      "text/plain": [
       "GridSearchCV(cv=StratifiedKFold(n_splits=5, random_state=19, shuffle=True),\n",
       "             estimator=DecisionTreeClassifier(),\n",
       "             param_grid={'criterion': ['gini', 'entropy'],\n",
       "                         'max_depth': [1, 2, 3, 4, 5, 6, 8, 9, 10, 11, 12, 13,\n",
       "                                       14, 15, 16, 17],\n",
       "                         'min_samples_leaf': [5, 10, 15, 20, 2],\n",
       "                         'min_samples_split': [2, 3, 4, None]},\n",
       "             scoring='accuracy')"
      ]
     },
     "execution_count": 188,
     "metadata": {},
     "output_type": "execute_result"
    }
   ],
   "source": [
    "grid_dtc.fit(train_tfidf, y_train)"
   ]
  },
  {
   "cell_type": "code",
   "execution_count": 189,
   "metadata": {},
   "outputs": [],
   "source": [
    "dtc_td_train_score = grid_dtc.score(train_tfidf, y_train)\n",
    "dtc_td_test_score = accuracy_score(grid_dtc.predict(test_tfidf), y_test)"
   ]
  },
  {
   "cell_type": "code",
   "execution_count": 190,
   "metadata": {},
   "outputs": [],
   "source": [
    "dtc_td_fold_test_mean = grid_dtc.cv_results_['mean_test_score'].mean()\n",
    "dtc_td_fold_test_std = grid_dtc.cv_results_['std_test_score'].mean()"
   ]
  },
  {
   "cell_type": "code",
   "execution_count": 191,
   "metadata": {},
   "outputs": [
    {
     "name": "stdout",
     "output_type": "stream",
     "text": [
      "Best parameters: {'criterion': 'entropy', 'max_depth': 3, 'min_samples_leaf': 2, 'min_samples_split': 2}\n",
      "Mean cv test score: nan\n",
      "Std cv test score: nan\n",
      "Train score: 1.0\n",
      "Test test score: 0.8571428571428571\n"
     ]
    }
   ],
   "source": [
    "print(f'''Best parameters: {grid_dtc.best_params_}\n",
    "Mean cv test score: {grid_dtc.cv_results_['mean_test_score'].mean()}\n",
    "Std cv test score: {grid_dtc.cv_results_['std_test_score'].mean()}\n",
    "Train score: {knn_td_train_score}\n",
    "Test test score: {knn_td_test_score}''')"
   ]
  },
  {
   "cell_type": "markdown",
   "metadata": {},
   "source": [
    "### 6. AdaBoost"
   ]
  },
  {
   "cell_type": "markdown",
   "metadata": {},
   "source": [
    "CountVectorizer"
   ]
  },
  {
   "cell_type": "code",
   "execution_count": 192,
   "metadata": {},
   "outputs": [],
   "source": [
    "parameters = {\n",
    "    'learning_rate': [.5]\n",
    "}"
   ]
  },
  {
   "cell_type": "code",
   "execution_count": 193,
   "metadata": {},
   "outputs": [],
   "source": [
    "grid_ada = GridSearchCV(AdaBoostClassifier(), parameters, cv=folds, scoring='accuracy')"
   ]
  },
  {
   "cell_type": "code",
   "execution_count": 194,
   "metadata": {},
   "outputs": [
    {
     "data": {
      "text/plain": [
       "GridSearchCV(cv=StratifiedKFold(n_splits=5, random_state=19, shuffle=True),\n",
       "             estimator=AdaBoostClassifier(),\n",
       "             param_grid={'learning_rate': [0.5]}, scoring='accuracy')"
      ]
     },
     "execution_count": 194,
     "metadata": {},
     "output_type": "execute_result"
    }
   ],
   "source": [
    "grid_ada.fit(train, y_train)"
   ]
  },
  {
   "cell_type": "code",
   "execution_count": 195,
   "metadata": {},
   "outputs": [],
   "source": [
    "ada_cv_train_score = grid_ada.score(train, y_train)\n",
    "ada_cv_test_score = accuracy_score(grid_ada .predict(test), y_test)"
   ]
  },
  {
   "cell_type": "code",
   "execution_count": 196,
   "metadata": {},
   "outputs": [],
   "source": [
    "ada_cv_fold_test_mean = grid_ada.cv_results_['mean_test_score'].mean()\n",
    "ada_cv_fold_test_std = grid_ada.cv_results_['std_test_score'].mean()"
   ]
  },
  {
   "cell_type": "code",
   "execution_count": 197,
   "metadata": {},
   "outputs": [
    {
     "name": "stdout",
     "output_type": "stream",
     "text": [
      "Best parameters: {'learning_rate': 0.5}\n",
      "Mean cv test score: 0.95\n",
      "Std cv test score: 0.09999999999999999\n",
      "Train score: 1.0\n",
      "Test test score: 0.9285714285714286\n"
     ]
    }
   ],
   "source": [
    "print(f'''Best parameters: {grid_ada.best_params_}\n",
    "Mean cv test score: {grid_ada.cv_results_['mean_test_score'].mean()}\n",
    "Std cv test score: {grid_ada.cv_results_['std_test_score'].mean()}\n",
    "Train score: {ada_cv_train_score}\n",
    "Test test score: {ada_cv_test_score}''')"
   ]
  },
  {
   "cell_type": "markdown",
   "metadata": {},
   "source": [
    "Tfidfvectorizer"
   ]
  },
  {
   "cell_type": "code",
   "execution_count": 198,
   "metadata": {},
   "outputs": [
    {
     "data": {
      "text/plain": [
       "GridSearchCV(cv=StratifiedKFold(n_splits=5, random_state=19, shuffle=True),\n",
       "             estimator=AdaBoostClassifier(),\n",
       "             param_grid={'learning_rate': [0.5]}, scoring='accuracy')"
      ]
     },
     "execution_count": 198,
     "metadata": {},
     "output_type": "execute_result"
    }
   ],
   "source": [
    "grid_ada.fit(train_tfidf, y_train)"
   ]
  },
  {
   "cell_type": "code",
   "execution_count": 199,
   "metadata": {},
   "outputs": [],
   "source": [
    "ada_td_train_score = grid_ada.score(train_tfidf, y_train)\n",
    "ada_td_test_score = accuracy_score(grid_ada.predict(test_tfidf), y_test)"
   ]
  },
  {
   "cell_type": "code",
   "execution_count": 200,
   "metadata": {},
   "outputs": [],
   "source": [
    "ada_td_fold_test_mean = grid_ada.cv_results_['mean_test_score'].mean()\n",
    "ada_td_fold_test_std = grid_ada.cv_results_['std_test_score'].mean()"
   ]
  },
  {
   "cell_type": "code",
   "execution_count": 201,
   "metadata": {},
   "outputs": [
    {
     "name": "stdout",
     "output_type": "stream",
     "text": [
      "Best parameters: {'learning_rate': 0.5}\n",
      "Mean cv test score: 0.9027777777777779\n",
      "Std cv test score: 0.09296222517045283\n",
      "Train score: 1.0\n",
      "Test test score: 0.9285714285714286\n"
     ]
    }
   ],
   "source": [
    "print(f'''Best parameters: {grid_ada.best_params_}\n",
    "Mean cv test score: {grid_ada.cv_results_['mean_test_score'].mean()}\n",
    "Std cv test score: {grid_ada.cv_results_['std_test_score'].mean()}\n",
    "Train score: {ada_td_train_score}\n",
    "Test test score: {ada_td_test_score}''')"
   ]
  },
  {
   "cell_type": "markdown",
   "metadata": {},
   "source": [
    "### 7. GradientBoosting"
   ]
  },
  {
   "cell_type": "markdown",
   "metadata": {},
   "source": [
    "CountVectorizer"
   ]
  },
  {
   "cell_type": "code",
   "execution_count": 202,
   "metadata": {},
   "outputs": [],
   "source": [
    "parameters = {\n",
    "    'loss':['deviance', 'exponential']\n",
    "}"
   ]
  },
  {
   "cell_type": "code",
   "execution_count": 203,
   "metadata": {},
   "outputs": [],
   "source": [
    "grid_grb = GridSearchCV(GradientBoostingClassifier(), parameters, cv=folds, scoring='accuracy')"
   ]
  },
  {
   "cell_type": "code",
   "execution_count": 204,
   "metadata": {},
   "outputs": [
    {
     "data": {
      "text/plain": [
       "GridSearchCV(cv=StratifiedKFold(n_splits=5, random_state=19, shuffle=True),\n",
       "             estimator=GradientBoostingClassifier(),\n",
       "             param_grid={'loss': ['deviance', 'exponential']},\n",
       "             scoring='accuracy')"
      ]
     },
     "execution_count": 204,
     "metadata": {},
     "output_type": "execute_result"
    }
   ],
   "source": [
    "grid_grb.fit(train, y_train)"
   ]
  },
  {
   "cell_type": "code",
   "execution_count": 205,
   "metadata": {},
   "outputs": [],
   "source": [
    "grb_cv_train_score = grid_grb.score(train, y_train)\n",
    "grb_cv_test_score = accuracy_score(grid_grb.predict(test), y_test)"
   ]
  },
  {
   "cell_type": "code",
   "execution_count": 206,
   "metadata": {},
   "outputs": [],
   "source": [
    "grb_cv_fold_test_mean = grid_grb.cv_results_['mean_test_score'].mean()\n",
    "grb_cv_fold_test_std = grid_grb.cv_results_['std_test_score'].mean()"
   ]
  },
  {
   "cell_type": "code",
   "execution_count": 207,
   "metadata": {},
   "outputs": [
    {
     "name": "stdout",
     "output_type": "stream",
     "text": [
      "Best parameters: {'loss': 'deviance'}\n",
      "Mean cv test score: 0.95\n",
      "Std cv test score: 0.09999999999999999\n",
      "Train score: 1.0\n",
      "Test test score: 0.9285714285714286\n"
     ]
    }
   ],
   "source": [
    "print(f'''Best parameters: {grid_grb.best_params_}\n",
    "Mean cv test score: {grid_grb.cv_results_['mean_test_score'].mean()}\n",
    "Std cv test score: {grid_grb.cv_results_['std_test_score'].mean()}\n",
    "Train score: {grb_cv_train_score}\n",
    "Test test score: {grb_cv_test_score}''')"
   ]
  },
  {
   "cell_type": "markdown",
   "metadata": {},
   "source": [
    "Tfidfvectorizer"
   ]
  },
  {
   "cell_type": "code",
   "execution_count": 208,
   "metadata": {},
   "outputs": [
    {
     "data": {
      "text/plain": [
       "GridSearchCV(cv=StratifiedKFold(n_splits=5, random_state=19, shuffle=True),\n",
       "             estimator=GradientBoostingClassifier(),\n",
       "             param_grid={'loss': ['deviance', 'exponential']},\n",
       "             scoring='accuracy')"
      ]
     },
     "execution_count": 208,
     "metadata": {},
     "output_type": "execute_result"
    }
   ],
   "source": [
    "grid_grb.fit(train_tfidf, y_train)"
   ]
  },
  {
   "cell_type": "code",
   "execution_count": 209,
   "metadata": {},
   "outputs": [],
   "source": [
    "grb_td_train_score = grid_grb.score(train_tfidf, y_train)\n",
    "grb_td_test_score = accuracy_score(grid_grb.predict(test_tfidf), y_test)"
   ]
  },
  {
   "cell_type": "code",
   "execution_count": 210,
   "metadata": {},
   "outputs": [],
   "source": [
    "grb_td_fold_test_mean = grid_grb.cv_results_['mean_test_score'].mean()\n",
    "grb_td_fold_test_std = grid_grb.cv_results_['std_test_score'].mean()"
   ]
  },
  {
   "cell_type": "code",
   "execution_count": 212,
   "metadata": {},
   "outputs": [
    {
     "name": "stdout",
     "output_type": "stream",
     "text": [
      "Best parameters: {'loss': 'deviance'}\n",
      "Mean cv test score: 0.9277777777777778\n",
      "Std cv test score: 0.098757715747951\n",
      "Train score: 1.0\n",
      "Test test score: 0.8571428571428571\n"
     ]
    }
   ],
   "source": [
    "print(f'''Best parameters: {grid_grb.best_params_}\n",
    "Mean cv test score: {grid_grb.cv_results_['mean_test_score'].mean()}\n",
    "Std cv test score: {grid_grb.cv_results_['std_test_score'].mean()}\n",
    "Train score: {grb_td_train_score}\n",
    "Test test score: {grb_td_test_score}''')"
   ]
  },
  {
   "cell_type": "markdown",
   "metadata": {},
   "source": [
    "### 8. XGBoost"
   ]
  },
  {
   "cell_type": "markdown",
   "metadata": {},
   "source": [
    "CountVectorizer"
   ]
  },
  {
   "cell_type": "code",
   "execution_count": 213,
   "metadata": {},
   "outputs": [],
   "source": [
    "grid_xgb = GridSearchCV(XGBClassifier(), param_grid={}, cv=folds, scoring='accuracy')"
   ]
  },
  {
   "cell_type": "code",
   "execution_count": 214,
   "metadata": {},
   "outputs": [
    {
     "data": {
      "text/plain": [
       "GridSearchCV(cv=StratifiedKFold(n_splits=5, random_state=19, shuffle=True),\n",
       "             estimator=XGBClassifier(base_score=None, booster=None,\n",
       "                                     colsample_bylevel=None,\n",
       "                                     colsample_bynode=None,\n",
       "                                     colsample_bytree=None, gamma=None,\n",
       "                                     gpu_id=None, importance_type='gain',\n",
       "                                     interaction_constraints=None,\n",
       "                                     learning_rate=None, max_delta_step=None,\n",
       "                                     max_depth=None, min_child_weight=None,\n",
       "                                     missing=nan, monotone_constraints=None,\n",
       "                                     n_estimators=100, n_jobs=None,\n",
       "                                     num_parallel_tree=None, random_state=None,\n",
       "                                     reg_alpha=None, reg_lambda=None,\n",
       "                                     scale_pos_weight=None, subsample=None,\n",
       "                                     tree_method=None, validate_parameters=None,\n",
       "                                     verbosity=None),\n",
       "             param_grid={}, scoring='accuracy')"
      ]
     },
     "execution_count": 214,
     "metadata": {},
     "output_type": "execute_result"
    }
   ],
   "source": [
    "grid_xgb.fit(train, y_train)"
   ]
  },
  {
   "cell_type": "code",
   "execution_count": 215,
   "metadata": {},
   "outputs": [],
   "source": [
    "xgb_cv_train_score = grid_xgb.score(train, y_train)\n",
    "xgb_cv_test_score = accuracy_score(grid_xgb.predict(test), y_test)"
   ]
  },
  {
   "cell_type": "code",
   "execution_count": 216,
   "metadata": {},
   "outputs": [],
   "source": [
    "xgb_cv_fold_test_mean = grid_xgb.cv_results_['mean_test_score'].mean()\n",
    "xgb_cv_fold_test_std = grid_xgb.cv_results_['std_test_score'].mean()"
   ]
  },
  {
   "cell_type": "code",
   "execution_count": 217,
   "metadata": {},
   "outputs": [
    {
     "name": "stdout",
     "output_type": "stream",
     "text": [
      "Best parameters: {}\n",
      "Mean cv test score: 0.8583333333333332\n",
      "Std cv test score: 0.13333333333333333\n",
      "Train score: 1.0\n",
      "Test test score: 0.7857142857142857\n"
     ]
    }
   ],
   "source": [
    "print(f'''Best parameters: {grid_xgb.best_params_}\n",
    "Mean cv test score: {grid_xgb.cv_results_['mean_test_score'].mean()}\n",
    "Std cv test score: {grid_xgb.cv_results_['std_test_score'].mean()}\n",
    "Train score: {xgb_cv_train_score}\n",
    "Test test score: {xgb_cv_test_score}''')"
   ]
  },
  {
   "cell_type": "markdown",
   "metadata": {},
   "source": [
    "Tfidfvectorizer"
   ]
  },
  {
   "cell_type": "code",
   "execution_count": 218,
   "metadata": {},
   "outputs": [
    {
     "data": {
      "text/plain": [
       "GridSearchCV(cv=StratifiedKFold(n_splits=5, random_state=19, shuffle=True),\n",
       "             estimator=XGBClassifier(base_score=None, booster=None,\n",
       "                                     colsample_bylevel=None,\n",
       "                                     colsample_bynode=None,\n",
       "                                     colsample_bytree=None, gamma=None,\n",
       "                                     gpu_id=None, importance_type='gain',\n",
       "                                     interaction_constraints=None,\n",
       "                                     learning_rate=None, max_delta_step=None,\n",
       "                                     max_depth=None, min_child_weight=None,\n",
       "                                     missing=nan, monotone_constraints=None,\n",
       "                                     n_estimators=100, n_jobs=None,\n",
       "                                     num_parallel_tree=None, random_state=None,\n",
       "                                     reg_alpha=None, reg_lambda=None,\n",
       "                                     scale_pos_weight=None, subsample=None,\n",
       "                                     tree_method=None, validate_parameters=None,\n",
       "                                     verbosity=None),\n",
       "             param_grid={}, scoring='accuracy')"
      ]
     },
     "execution_count": 218,
     "metadata": {},
     "output_type": "execute_result"
    }
   ],
   "source": [
    "grid_xgb.fit(train_tfidf, y_train)"
   ]
  },
  {
   "cell_type": "code",
   "execution_count": 219,
   "metadata": {},
   "outputs": [],
   "source": [
    "xgb_td_train_score = grid_xgb.score(train_tfidf, y_train)\n",
    "xgb_td_test_score = accuracy_score(grid_xgb.predict(test_tfidf), y_test)"
   ]
  },
  {
   "cell_type": "code",
   "execution_count": 220,
   "metadata": {},
   "outputs": [],
   "source": [
    "xgb_td_fold_test_mean = grid_xgb.cv_results_['mean_test_score'].mean()\n",
    "xgb_td_fold_test_std = grid_xgb.cv_results_['std_test_score'].mean()"
   ]
  },
  {
   "cell_type": "code",
   "execution_count": 221,
   "metadata": {},
   "outputs": [
    {
     "name": "stdout",
     "output_type": "stream",
     "text": [
      "Best parameters: {}\n",
      "Mean cv test score: 0.8555555555555555\n",
      "Std cv test score: 0.08810417515085392\n",
      "Train score: 1.0\n",
      "Test test score: 0.9285714285714286\n"
     ]
    }
   ],
   "source": [
    "print(f'''Best parameters: {grid_xgb.best_params_}\n",
    "Mean cv test score: {grid_xgb.cv_results_['mean_test_score'].mean()}\n",
    "Std cv test score: {grid_xgb.cv_results_['std_test_score'].mean()}\n",
    "Train score: {xgb_td_train_score}\n",
    "Test test score: {xgb_td_test_score}''')"
   ]
  },
  {
   "cell_type": "markdown",
   "metadata": {},
   "source": [
    "## Results"
   ]
  },
  {
   "cell_type": "code",
   "execution_count": 222,
   "metadata": {},
   "outputs": [],
   "source": [
    "import seaborn as sns\n",
    "import matplotlib.pyplot as plt"
   ]
  },
  {
   "cell_type": "code",
   "execution_count": 223,
   "metadata": {},
   "outputs": [],
   "source": [
    "from sklearn.metrics import classification_report, confusion_matrix"
   ]
  },
  {
   "cell_type": "code",
   "execution_count": 235,
   "metadata": {},
   "outputs": [],
   "source": [
    "models = [\n",
    "    'MultinomialNB_cv',\n",
    "    'LogisticRegression_cv', \n",
    "    'SGD_cv',\n",
    "    'KNeighbors_cv', \n",
    "    'DecisionTree_cv',\n",
    "    'AdaBoost_cv',\n",
    "    'GradientBoosting_cv',\n",
    "    'XGB_cv',\n",
    "    'MultinomialNB_td',\n",
    "    'LogisticRegression_td',\n",
    "    'SGD_td',\n",
    "    'KNeighbors_td',\n",
    "    'DecisionTree_td',\n",
    "    'AdaBoost_td',\n",
    "    'GradientBoosting_td',\n",
    "    'XGB_td',\n",
    "]"
   ]
  },
  {
   "cell_type": "code",
   "execution_count": 236,
   "metadata": {},
   "outputs": [],
   "source": [
    "train_score_cv = [mnb_train_score_cv, log_cv_train_score, sgd_cv_train_score, knn_cv_train_score, dtc_cv_train_score, ada_cv_train_score, grb_cv_train_score, xgb_cv_train_score]\n",
    "train_score_td = [mnb_train_score_td, log_td_train_score, sgd_td_train_score, knn_td_train_score, dtc_td_train_score, ada_td_train_score, grb_td_train_score, xgb_td_train_score]"
   ]
  },
  {
   "cell_type": "code",
   "execution_count": 237,
   "metadata": {},
   "outputs": [],
   "source": [
    "test_score_cv = [mnb_test_score_cv, log_cv_test_score, sgd_cv_test_score, knn_cv_test_score, dtc_cv_test_score, ada_cv_test_score, grb_cv_test_score, xgb_cv_test_score]\n",
    "test_score_td = [mnb_test_score_td, log_td_test_score, sgd_td_test_score, knn_td_test_score, dtc_td_test_score, ada_td_test_score, grb_td_test_score, xgb_td_test_score]"
   ]
  },
  {
   "cell_type": "code",
   "execution_count": 238,
   "metadata": {},
   "outputs": [],
   "source": [
    "mean_fold_cv = [mnb_cv_fold_test_mean,log_cv_fold_test_mean,sgd_cv_fold_test_mean, knn_cv_fold_test_mean, dtc_cv_fold_test_mean, ada_cv_fold_test_mean, grb_cv_fold_test_mean, xgb_cv_fold_test_mean]\n",
    "std_fold_cv = [mnb_cv_fold_test_std,log_cv_fold_test_std, sgd_cv_fold_test_std,knn_cv_fold_test_std,dtc_cv_fold_test_std, ada_cv_fold_test_std, grb_cv_fold_test_std, xgb_cv_fold_test_std] "
   ]
  },
  {
   "cell_type": "code",
   "execution_count": 239,
   "metadata": {},
   "outputs": [],
   "source": [
    "mean_fold_td = [mnb_td_fold_test_mean, log_td_fold_test_mean, sgd_td_fold_test_mean,  knn_td_fold_test_mean,  dtc_td_fold_test_mean,  ada_td_fold_test_mean,  grb_td_fold_test_mean, xgb_td_fold_test_mean]\n",
    "std_fold_td = [mnb_td_fold_test_std,  log_td_fold_test_std, sgd_td_fold_test_std, knn_td_fold_test_std, dtc_td_fold_test_std, ada_td_fold_test_std, grb_td_fold_test_std, xgb_td_fold_test_std] "
   ]
  },
  {
   "cell_type": "code",
   "execution_count": 240,
   "metadata": {},
   "outputs": [
    {
     "data": {
      "text/html": [
       "<div>\n",
       "<style scoped>\n",
       "    .dataframe tbody tr th:only-of-type {\n",
       "        vertical-align: middle;\n",
       "    }\n",
       "\n",
       "    .dataframe tbody tr th {\n",
       "        vertical-align: top;\n",
       "    }\n",
       "\n",
       "    .dataframe thead th {\n",
       "        text-align: right;\n",
       "    }\n",
       "</style>\n",
       "<table border=\"1\" class=\"dataframe\">\n",
       "  <thead>\n",
       "    <tr style=\"text-align: right;\">\n",
       "      <th></th>\n",
       "      <th>model</th>\n",
       "      <th>mean fold test score</th>\n",
       "      <th>std fold test score</th>\n",
       "      <th>train score</th>\n",
       "      <th>test score</th>\n",
       "    </tr>\n",
       "  </thead>\n",
       "  <tbody>\n",
       "    <tr>\n",
       "      <th>0</th>\n",
       "      <td>MultinomialNB_cv</td>\n",
       "      <td>0.944444</td>\n",
       "      <td>0.081766</td>\n",
       "      <td>1.0</td>\n",
       "      <td>1.000000</td>\n",
       "    </tr>\n",
       "    <tr>\n",
       "      <th>1</th>\n",
       "      <td>LogisticRegression_cv</td>\n",
       "      <td>0.863542</td>\n",
       "      <td>0.170486</td>\n",
       "      <td>1.0</td>\n",
       "      <td>1.000000</td>\n",
       "    </tr>\n",
       "    <tr>\n",
       "      <th>2</th>\n",
       "      <td>SGD_cv</td>\n",
       "      <td>0.900154</td>\n",
       "      <td>0.119708</td>\n",
       "      <td>1.0</td>\n",
       "      <td>0.928571</td>\n",
       "    </tr>\n",
       "    <tr>\n",
       "      <th>3</th>\n",
       "      <td>KNeighbors_cv</td>\n",
       "      <td>0.512191</td>\n",
       "      <td>0.053761</td>\n",
       "      <td>1.0</td>\n",
       "      <td>0.500000</td>\n",
       "    </tr>\n",
       "    <tr>\n",
       "      <th>4</th>\n",
       "      <td>DecisionTree_cv</td>\n",
       "      <td>NaN</td>\n",
       "      <td>NaN</td>\n",
       "      <td>1.0</td>\n",
       "      <td>0.928571</td>\n",
       "    </tr>\n",
       "    <tr>\n",
       "      <th>5</th>\n",
       "      <td>AdaBoost_cv</td>\n",
       "      <td>0.950000</td>\n",
       "      <td>0.100000</td>\n",
       "      <td>1.0</td>\n",
       "      <td>0.928571</td>\n",
       "    </tr>\n",
       "    <tr>\n",
       "      <th>6</th>\n",
       "      <td>GradientBoosting_cv</td>\n",
       "      <td>0.950000</td>\n",
       "      <td>0.100000</td>\n",
       "      <td>1.0</td>\n",
       "      <td>0.928571</td>\n",
       "    </tr>\n",
       "    <tr>\n",
       "      <th>7</th>\n",
       "      <td>XGB_cv</td>\n",
       "      <td>0.858333</td>\n",
       "      <td>0.133333</td>\n",
       "      <td>1.0</td>\n",
       "      <td>0.785714</td>\n",
       "    </tr>\n",
       "    <tr>\n",
       "      <th>8</th>\n",
       "      <td>MultinomialNB_td</td>\n",
       "      <td>0.951852</td>\n",
       "      <td>0.072001</td>\n",
       "      <td>1.0</td>\n",
       "      <td>1.000000</td>\n",
       "    </tr>\n",
       "    <tr>\n",
       "      <th>9</th>\n",
       "      <td>LogisticRegression_td</td>\n",
       "      <td>0.860417</td>\n",
       "      <td>0.101512</td>\n",
       "      <td>1.0</td>\n",
       "      <td>1.000000</td>\n",
       "    </tr>\n",
       "    <tr>\n",
       "      <th>10</th>\n",
       "      <td>SGD_td</td>\n",
       "      <td>0.920833</td>\n",
       "      <td>0.108418</td>\n",
       "      <td>1.0</td>\n",
       "      <td>1.000000</td>\n",
       "    </tr>\n",
       "    <tr>\n",
       "      <th>11</th>\n",
       "      <td>KNeighbors_td</td>\n",
       "      <td>NaN</td>\n",
       "      <td>NaN</td>\n",
       "      <td>1.0</td>\n",
       "      <td>0.857143</td>\n",
       "    </tr>\n",
       "    <tr>\n",
       "      <th>12</th>\n",
       "      <td>DecisionTree_td</td>\n",
       "      <td>NaN</td>\n",
       "      <td>NaN</td>\n",
       "      <td>1.0</td>\n",
       "      <td>0.928571</td>\n",
       "    </tr>\n",
       "    <tr>\n",
       "      <th>13</th>\n",
       "      <td>AdaBoost_td</td>\n",
       "      <td>0.902778</td>\n",
       "      <td>0.092962</td>\n",
       "      <td>1.0</td>\n",
       "      <td>0.928571</td>\n",
       "    </tr>\n",
       "    <tr>\n",
       "      <th>14</th>\n",
       "      <td>GradientBoosting_td</td>\n",
       "      <td>0.927778</td>\n",
       "      <td>0.098758</td>\n",
       "      <td>1.0</td>\n",
       "      <td>0.857143</td>\n",
       "    </tr>\n",
       "    <tr>\n",
       "      <th>15</th>\n",
       "      <td>XGB_td</td>\n",
       "      <td>0.855556</td>\n",
       "      <td>0.088104</td>\n",
       "      <td>1.0</td>\n",
       "      <td>0.928571</td>\n",
       "    </tr>\n",
       "  </tbody>\n",
       "</table>\n",
       "</div>"
      ],
      "text/plain": [
       "                    model  mean fold test score  std fold test score  \\\n",
       "0        MultinomialNB_cv              0.944444             0.081766   \n",
       "1   LogisticRegression_cv              0.863542             0.170486   \n",
       "2                  SGD_cv              0.900154             0.119708   \n",
       "3           KNeighbors_cv              0.512191             0.053761   \n",
       "4         DecisionTree_cv                   NaN                  NaN   \n",
       "5             AdaBoost_cv              0.950000             0.100000   \n",
       "6     GradientBoosting_cv              0.950000             0.100000   \n",
       "7                  XGB_cv              0.858333             0.133333   \n",
       "8        MultinomialNB_td              0.951852             0.072001   \n",
       "9   LogisticRegression_td              0.860417             0.101512   \n",
       "10                 SGD_td              0.920833             0.108418   \n",
       "11          KNeighbors_td                   NaN                  NaN   \n",
       "12        DecisionTree_td                   NaN                  NaN   \n",
       "13            AdaBoost_td              0.902778             0.092962   \n",
       "14    GradientBoosting_td              0.927778             0.098758   \n",
       "15                 XGB_td              0.855556             0.088104   \n",
       "\n",
       "    train score  test score  \n",
       "0           1.0    1.000000  \n",
       "1           1.0    1.000000  \n",
       "2           1.0    0.928571  \n",
       "3           1.0    0.500000  \n",
       "4           1.0    0.928571  \n",
       "5           1.0    0.928571  \n",
       "6           1.0    0.928571  \n",
       "7           1.0    0.785714  \n",
       "8           1.0    1.000000  \n",
       "9           1.0    1.000000  \n",
       "10          1.0    1.000000  \n",
       "11          1.0    0.857143  \n",
       "12          1.0    0.928571  \n",
       "13          1.0    0.928571  \n",
       "14          1.0    0.857143  \n",
       "15          1.0    0.928571  "
      ]
     },
     "execution_count": 240,
     "metadata": {},
     "output_type": "execute_result"
    }
   ],
   "source": [
    "pd.DataFrame({'model':models, 'mean fold test score': mean_fold_cv+mean_fold_td,'std fold test score':std_fold_cv+st,'train score': train_score_cv + train_score_td, 'test score': test_score_cv + test_score_td})"
   ]
  }
 ],
 "metadata": {
  "kernelspec": {
   "display_name": "Python 3",
   "language": "python",
   "name": "python3"
  },
  "language_info": {
   "codemirror_mode": {
    "name": "ipython",
    "version": 3
   },
   "file_extension": ".py",
   "mimetype": "text/x-python",
   "name": "python",
   "nbconvert_exporter": "python",
   "pygments_lexer": "ipython3",
   "version": "3.7.7"
  }
 },
 "nbformat": 4,
 "nbformat_minor": 4
}
