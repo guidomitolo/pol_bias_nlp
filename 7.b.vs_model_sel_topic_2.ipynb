{
 "cells": [
  {
   "cell_type": "markdown",
   "metadata": {},
   "source": [
    "## Vectorizers + Models\n",
    "#### Currency exchange topic"
   ]
  },
  {
   "cell_type": "markdown",
   "metadata": {},
   "source": [
    "### Load"
   ]
  },
  {
   "cell_type": "markdown",
   "metadata": {},
   "source": [
    "Tokens"
   ]
  },
  {
   "cell_type": "code",
   "execution_count": 4,
   "metadata": {},
   "outputs": [],
   "source": [
    "import warnings\n",
    "warnings.filterwarnings('ignore')"
   ]
  },
  {
   "cell_type": "code",
   "execution_count": 5,
   "metadata": {},
   "outputs": [],
   "source": [
    "import pandas as pd\n",
    "import numpy as np"
   ]
  },
  {
   "cell_type": "code",
   "execution_count": 6,
   "metadata": {},
   "outputs": [],
   "source": [
    "tokens_izq = pd.read_pickle('tokens/topic_tokens_izq_new.pkl')\n",
    "tokens_der = pd.read_pickle('tokens/topic_tokens_der_new.pkl')"
   ]
  },
  {
   "cell_type": "code",
   "execution_count": 7,
   "metadata": {},
   "outputs": [],
   "source": [
    "tokens_izq_ex = tokens_izq[tokens_izq.topics == 'exchange'].drop('topics', axis=1)\n",
    "tokens_izq_ex.insert(loc=0, column='publication', value='left')"
   ]
  },
  {
   "cell_type": "code",
   "execution_count": 8,
   "metadata": {},
   "outputs": [],
   "source": [
    "tokens_der_ex = tokens_der[tokens_der.topics == 'exchange'].drop('topics', axis=1)\n",
    "tokens_der_ex.insert(loc=0, column='publication', value='right')"
   ]
  },
  {
   "cell_type": "code",
   "execution_count": 9,
   "metadata": {},
   "outputs": [],
   "source": [
    "tokens = tokens_izq_ex.append(tokens_der_ex)\n",
    "tokens.reset_index(inplace=True)\n",
    "tokens.drop('index', axis=1, inplace=True)\n",
    "tokens.fillna(0, inplace=True)"
   ]
  },
  {
   "cell_type": "code",
   "execution_count": 10,
   "metadata": {},
   "outputs": [
    {
     "data": {
      "text/html": [
       "<div>\n",
       "<style scoped>\n",
       "    .dataframe tbody tr th:only-of-type {\n",
       "        vertical-align: middle;\n",
       "    }\n",
       "\n",
       "    .dataframe tbody tr th {\n",
       "        vertical-align: top;\n",
       "    }\n",
       "\n",
       "    .dataframe thead th {\n",
       "        text-align: right;\n",
       "    }\n",
       "</style>\n",
       "<table border=\"1\" class=\"dataframe\">\n",
       "  <thead>\n",
       "    <tr style=\"text-align: right;\">\n",
       "      <th></th>\n",
       "      <th>publication</th>\n",
       "      <th>abajo</th>\n",
       "      <th>abarca</th>\n",
       "      <th>abastecimiento</th>\n",
       "      <th>abc</th>\n",
       "      <th>abierta</th>\n",
       "      <th>abiertamente</th>\n",
       "      <th>abierto</th>\n",
       "      <th>abiertos</th>\n",
       "      <th>abre</th>\n",
       "      <th>...</th>\n",
       "      <th>vuelva</th>\n",
       "      <th>vuelvan</th>\n",
       "      <th>vulgarmente</th>\n",
       "      <th>woyecheszen</th>\n",
       "      <th>xx</th>\n",
       "      <th>yaguarete</th>\n",
       "      <th>york</th>\n",
       "      <th>yuanes</th>\n",
       "      <th>zamora</th>\n",
       "      <th>zonas</th>\n",
       "    </tr>\n",
       "  </thead>\n",
       "  <tbody>\n",
       "    <tr>\n",
       "      <th>8</th>\n",
       "      <td>left</td>\n",
       "      <td>0</td>\n",
       "      <td>0.0</td>\n",
       "      <td>0</td>\n",
       "      <td>0.0</td>\n",
       "      <td>0</td>\n",
       "      <td>0.0</td>\n",
       "      <td>0</td>\n",
       "      <td>0.0</td>\n",
       "      <td>0</td>\n",
       "      <td>...</td>\n",
       "      <td>0.0</td>\n",
       "      <td>0.0</td>\n",
       "      <td>0.0</td>\n",
       "      <td>0.0</td>\n",
       "      <td>0.0</td>\n",
       "      <td>0.0</td>\n",
       "      <td>0.0</td>\n",
       "      <td>0.0</td>\n",
       "      <td>0.0</td>\n",
       "      <td>0.0</td>\n",
       "    </tr>\n",
       "    <tr>\n",
       "      <th>22</th>\n",
       "      <td>left</td>\n",
       "      <td>0</td>\n",
       "      <td>0.0</td>\n",
       "      <td>0</td>\n",
       "      <td>0.0</td>\n",
       "      <td>0</td>\n",
       "      <td>0.0</td>\n",
       "      <td>0</td>\n",
       "      <td>0.0</td>\n",
       "      <td>0</td>\n",
       "      <td>...</td>\n",
       "      <td>0.0</td>\n",
       "      <td>0.0</td>\n",
       "      <td>0.0</td>\n",
       "      <td>0.0</td>\n",
       "      <td>0.0</td>\n",
       "      <td>0.0</td>\n",
       "      <td>0.0</td>\n",
       "      <td>0.0</td>\n",
       "      <td>0.0</td>\n",
       "      <td>0.0</td>\n",
       "    </tr>\n",
       "    <tr>\n",
       "      <th>25</th>\n",
       "      <td>left</td>\n",
       "      <td>0</td>\n",
       "      <td>0.0</td>\n",
       "      <td>0</td>\n",
       "      <td>0.0</td>\n",
       "      <td>0</td>\n",
       "      <td>0.0</td>\n",
       "      <td>0</td>\n",
       "      <td>0.0</td>\n",
       "      <td>0</td>\n",
       "      <td>...</td>\n",
       "      <td>0.0</td>\n",
       "      <td>0.0</td>\n",
       "      <td>0.0</td>\n",
       "      <td>0.0</td>\n",
       "      <td>0.0</td>\n",
       "      <td>0.0</td>\n",
       "      <td>0.0</td>\n",
       "      <td>0.0</td>\n",
       "      <td>0.0</td>\n",
       "      <td>0.0</td>\n",
       "    </tr>\n",
       "    <tr>\n",
       "      <th>24</th>\n",
       "      <td>left</td>\n",
       "      <td>0</td>\n",
       "      <td>0.0</td>\n",
       "      <td>0</td>\n",
       "      <td>0.0</td>\n",
       "      <td>0</td>\n",
       "      <td>0.0</td>\n",
       "      <td>0</td>\n",
       "      <td>0.0</td>\n",
       "      <td>0</td>\n",
       "      <td>...</td>\n",
       "      <td>0.0</td>\n",
       "      <td>0.0</td>\n",
       "      <td>0.0</td>\n",
       "      <td>0.0</td>\n",
       "      <td>0.0</td>\n",
       "      <td>0.0</td>\n",
       "      <td>0.0</td>\n",
       "      <td>0.0</td>\n",
       "      <td>0.0</td>\n",
       "      <td>0.0</td>\n",
       "    </tr>\n",
       "    <tr>\n",
       "      <th>29</th>\n",
       "      <td>right</td>\n",
       "      <td>0</td>\n",
       "      <td>0.0</td>\n",
       "      <td>0</td>\n",
       "      <td>0.0</td>\n",
       "      <td>0</td>\n",
       "      <td>0.0</td>\n",
       "      <td>0</td>\n",
       "      <td>0.0</td>\n",
       "      <td>0</td>\n",
       "      <td>...</td>\n",
       "      <td>0.0</td>\n",
       "      <td>0.0</td>\n",
       "      <td>0.0</td>\n",
       "      <td>0.0</td>\n",
       "      <td>0.0</td>\n",
       "      <td>0.0</td>\n",
       "      <td>0.0</td>\n",
       "      <td>0.0</td>\n",
       "      <td>0.0</td>\n",
       "      <td>0.0</td>\n",
       "    </tr>\n",
       "  </tbody>\n",
       "</table>\n",
       "<p>5 rows × 7078 columns</p>\n",
       "</div>"
      ],
      "text/plain": [
       "   publication  abajo  abarca  abastecimiento  abc  abierta  abiertamente  \\\n",
       "8         left      0     0.0               0  0.0        0           0.0   \n",
       "22        left      0     0.0               0  0.0        0           0.0   \n",
       "25        left      0     0.0               0  0.0        0           0.0   \n",
       "24        left      0     0.0               0  0.0        0           0.0   \n",
       "29       right      0     0.0               0  0.0        0           0.0   \n",
       "\n",
       "    abierto  abiertos  abre  ...  vuelva  vuelvan  vulgarmente  woyecheszen  \\\n",
       "8         0       0.0     0  ...     0.0      0.0          0.0          0.0   \n",
       "22        0       0.0     0  ...     0.0      0.0          0.0          0.0   \n",
       "25        0       0.0     0  ...     0.0      0.0          0.0          0.0   \n",
       "24        0       0.0     0  ...     0.0      0.0          0.0          0.0   \n",
       "29        0       0.0     0  ...     0.0      0.0          0.0          0.0   \n",
       "\n",
       "     xx  yaguarete  york  yuanes  zamora  zonas  \n",
       "8   0.0        0.0   0.0     0.0     0.0    0.0  \n",
       "22  0.0        0.0   0.0     0.0     0.0    0.0  \n",
       "25  0.0        0.0   0.0     0.0     0.0    0.0  \n",
       "24  0.0        0.0   0.0     0.0     0.0    0.0  \n",
       "29  0.0        0.0   0.0     0.0     0.0    0.0  \n",
       "\n",
       "[5 rows x 7078 columns]"
      ]
     },
     "execution_count": 10,
     "metadata": {},
     "output_type": "execute_result"
    }
   ],
   "source": [
    "tokens.sample(5)"
   ]
  },
  {
   "cell_type": "markdown",
   "metadata": {},
   "source": [
    "#### Train - Test Split"
   ]
  },
  {
   "cell_type": "code",
   "execution_count": 11,
   "metadata": {},
   "outputs": [],
   "source": [
    "from sklearn.model_selection import train_test_split"
   ]
  },
  {
   "cell_type": "code",
   "execution_count": 12,
   "metadata": {},
   "outputs": [
    {
     "data": {
      "text/plain": [
       "right    0.535714\n",
       "left     0.464286\n",
       "Name: publication, dtype: float64"
      ]
     },
     "execution_count": 12,
     "metadata": {},
     "output_type": "execute_result"
    }
   ],
   "source": [
    "# data balance\n",
    "tokens.publication.value_counts(normalize=True)"
   ]
  },
  {
   "cell_type": "code",
   "execution_count": 13,
   "metadata": {},
   "outputs": [],
   "source": [
    "X = tokens.drop('publication', axis=1)"
   ]
  },
  {
   "cell_type": "code",
   "execution_count": 14,
   "metadata": {},
   "outputs": [],
   "source": [
    "y = tokens['publication']"
   ]
  },
  {
   "cell_type": "code",
   "execution_count": 15,
   "metadata": {},
   "outputs": [],
   "source": [
    "train, test, y_train, y_test = train_test_split(X, y, train_size=0.75, stratify=tokens.publication)"
   ]
  },
  {
   "cell_type": "markdown",
   "metadata": {},
   "source": [
    "Shapes and balance"
   ]
  },
  {
   "cell_type": "code",
   "execution_count": 16,
   "metadata": {},
   "outputs": [
    {
     "data": {
      "text/plain": [
       "42"
      ]
     },
     "metadata": {},
     "output_type": "display_data"
    },
    {
     "data": {
      "text/plain": [
       "0.75"
      ]
     },
     "metadata": {},
     "output_type": "display_data"
    }
   ],
   "source": [
    "# shape train\n",
    "display(train.shape[0],\n",
    "        train.shape[0] / X.shape[0])"
   ]
  },
  {
   "cell_type": "code",
   "execution_count": 17,
   "metadata": {},
   "outputs": [
    {
     "data": {
      "text/plain": [
       "14"
      ]
     },
     "metadata": {},
     "output_type": "display_data"
    },
    {
     "data": {
      "text/plain": [
       "0.25"
      ]
     },
     "metadata": {},
     "output_type": "display_data"
    }
   ],
   "source": [
    "# shape test\n",
    "display(test.shape[0],\n",
    "        test.shape[0] / X.shape[0])"
   ]
  },
  {
   "cell_type": "code",
   "execution_count": 18,
   "metadata": {},
   "outputs": [
    {
     "data": {
      "text/plain": [
       "right    0.52381\n",
       "left     0.47619\n",
       "Name: publication, dtype: float64"
      ]
     },
     "metadata": {},
     "output_type": "display_data"
    },
    {
     "data": {
      "text/plain": [
       "right    0.571429\n",
       "left     0.428571\n",
       "Name: publication, dtype: float64"
      ]
     },
     "metadata": {},
     "output_type": "display_data"
    }
   ],
   "source": [
    "# data balance - test\n",
    "display(y_train.value_counts(normalize=True), \n",
    "        y_test.value_counts(normalize=True))"
   ]
  },
  {
   "cell_type": "markdown",
   "metadata": {},
   "source": [
    "Vectorización con TF-IDF"
   ]
  },
  {
   "cell_type": "code",
   "execution_count": 19,
   "metadata": {},
   "outputs": [],
   "source": [
    "from sklearn.feature_extraction.text import TfidfTransformer"
   ]
  },
  {
   "cell_type": "code",
   "execution_count": 20,
   "metadata": {},
   "outputs": [],
   "source": [
    "tfidf_vector = TfidfTransformer().fit(train)\n",
    "train_tfidf = tfidf_vector.transform(train)"
   ]
  },
  {
   "cell_type": "code",
   "execution_count": 21,
   "metadata": {},
   "outputs": [],
   "source": [
    "test_tfidf = tfidf_vector.transform(test)"
   ]
  },
  {
   "cell_type": "markdown",
   "metadata": {},
   "source": [
    "#### Models calling"
   ]
  },
  {
   "cell_type": "code",
   "execution_count": 22,
   "metadata": {},
   "outputs": [],
   "source": [
    "from sklearn.naive_bayes import MultinomialNB"
   ]
  },
  {
   "cell_type": "code",
   "execution_count": 23,
   "metadata": {},
   "outputs": [],
   "source": [
    "from sklearn.linear_model import LogisticRegression, SGDClassifier"
   ]
  },
  {
   "cell_type": "code",
   "execution_count": 24,
   "metadata": {},
   "outputs": [],
   "source": [
    "from sklearn.neighbors import KNeighborsClassifier"
   ]
  },
  {
   "cell_type": "code",
   "execution_count": 25,
   "metadata": {},
   "outputs": [],
   "source": [
    "from sklearn.tree import DecisionTreeClassifier"
   ]
  },
  {
   "cell_type": "code",
   "execution_count": 26,
   "metadata": {},
   "outputs": [],
   "source": [
    "from sklearn.ensemble import AdaBoostClassifier, GradientBoostingClassifier"
   ]
  },
  {
   "cell_type": "code",
   "execution_count": 27,
   "metadata": {},
   "outputs": [],
   "source": [
    "from xgboost import XGBClassifier"
   ]
  },
  {
   "cell_type": "markdown",
   "metadata": {},
   "source": [
    "### GridSearchCV (Vectorization + Models)"
   ]
  },
  {
   "cell_type": "code",
   "execution_count": 28,
   "metadata": {},
   "outputs": [],
   "source": [
    "from sklearn.metrics import accuracy_score"
   ]
  },
  {
   "cell_type": "code",
   "execution_count": 29,
   "metadata": {},
   "outputs": [],
   "source": [
    "from sklearn.model_selection import GridSearchCV, StratifiedKFold"
   ]
  },
  {
   "cell_type": "code",
   "execution_count": 30,
   "metadata": {},
   "outputs": [],
   "source": [
    "folds = StratifiedKFold(n_splits=5, random_state=19, shuffle=True)"
   ]
  },
  {
   "cell_type": "markdown",
   "metadata": {},
   "source": [
    "### 1. Naive Bayes"
   ]
  },
  {
   "cell_type": "markdown",
   "metadata": {},
   "source": [
    "CountVectorizer"
   ]
  },
  {
   "cell_type": "code",
   "execution_count": 31,
   "metadata": {},
   "outputs": [],
   "source": [
    "parameters = {\n",
    "        'alpha': (1e-2, 1e-3, 1e-1),\n",
    "    }"
   ]
  },
  {
   "cell_type": "code",
   "execution_count": 32,
   "metadata": {},
   "outputs": [],
   "source": [
    "grid_mnb = GridSearchCV(MultinomialNB(), parameters, cv=folds, scoring='accuracy')"
   ]
  },
  {
   "cell_type": "code",
   "execution_count": 33,
   "metadata": {},
   "outputs": [
    {
     "data": {
      "text/plain": [
       "GridSearchCV(cv=StratifiedKFold(n_splits=5, random_state=19, shuffle=True),\n",
       "             estimator=MultinomialNB(),\n",
       "             param_grid={'alpha': (0.01, 0.001, 0.1)}, scoring='accuracy')"
      ]
     },
     "execution_count": 33,
     "metadata": {},
     "output_type": "execute_result"
    }
   ],
   "source": [
    "grid_mnb.fit(train, y_train)"
   ]
  },
  {
   "cell_type": "code",
   "execution_count": 34,
   "metadata": {},
   "outputs": [],
   "source": [
    "mnb_train_score_cv = grid_mnb.score(train, y_train)\n",
    "mnb_test_score_cv = accuracy_score(grid_mnb.predict(test), y_test)"
   ]
  },
  {
   "cell_type": "code",
   "execution_count": 35,
   "metadata": {},
   "outputs": [
    {
     "name": "stdout",
     "output_type": "stream",
     "text": [
      "Best parameters: {'alpha': 0.001}\n",
      "Best cv score: 1.0\n",
      "Train score: 1.0\n",
      "Test test score: 0.9285714285714286\n"
     ]
    }
   ],
   "source": [
    "print(f'''Best parameters: {grid_mnb.best_params_}\n",
    "Best cv score: {grid_mnb.best_score_}\n",
    "Train score: {mnb_train_score_cv}\n",
    "Test test score: {mnb_test_score_cv}''')"
   ]
  },
  {
   "cell_type": "markdown",
   "metadata": {},
   "source": [
    "Tfidfvectorizer"
   ]
  },
  {
   "cell_type": "code",
   "execution_count": 36,
   "metadata": {},
   "outputs": [
    {
     "data": {
      "text/plain": [
       "GridSearchCV(cv=StratifiedKFold(n_splits=5, random_state=19, shuffle=True),\n",
       "             estimator=MultinomialNB(),\n",
       "             param_grid={'alpha': (0.01, 0.001, 0.1)}, scoring='accuracy')"
      ]
     },
     "execution_count": 36,
     "metadata": {},
     "output_type": "execute_result"
    }
   ],
   "source": [
    "grid_mnb.fit(train_tfidf, y_train)"
   ]
  },
  {
   "cell_type": "code",
   "execution_count": 37,
   "metadata": {},
   "outputs": [],
   "source": [
    "mnb_train_score_td = grid_mnb.score(train_tfidf, y_train)\n",
    "mnb_test_score_td = accuracy_score(grid_mnb.predict(test_tfidf), y_test)"
   ]
  },
  {
   "cell_type": "code",
   "execution_count": 38,
   "metadata": {},
   "outputs": [
    {
     "name": "stdout",
     "output_type": "stream",
     "text": [
      "Best parameters: {'alpha': 0.001}\n",
      "Best cv score: 1.0\n",
      "Train score: 1.0\n",
      "Test test score: 0.9285714285714286\n"
     ]
    }
   ],
   "source": [
    "print(f'''Best parameters: {grid_mnb.best_params_}\n",
    "Best cv score: {grid_mnb.best_score_}\n",
    "Train score: {mnb_train_score_td}\n",
    "Test test score: {mnb_test_score_td}''')"
   ]
  },
  {
   "cell_type": "markdown",
   "metadata": {},
   "source": [
    "### 2. LogisticRegression"
   ]
  },
  {
   "cell_type": "markdown",
   "metadata": {},
   "source": [
    "CountVectorizer"
   ]
  },
  {
   "cell_type": "code",
   "execution_count": 39,
   "metadata": {},
   "outputs": [],
   "source": [
    "parameters = {\n",
    "        'C': [1, 10, 100, 1000],\n",
    "        'penalty': ['l1', 'l2',],\n",
    "        'solver': ['saga']\n",
    "    }"
   ]
  },
  {
   "cell_type": "code",
   "execution_count": 40,
   "metadata": {},
   "outputs": [],
   "source": [
    "grid_log = GridSearchCV(LogisticRegression(), parameters, cv=folds, scoring='accuracy')"
   ]
  },
  {
   "cell_type": "code",
   "execution_count": 41,
   "metadata": {},
   "outputs": [
    {
     "data": {
      "text/plain": [
       "GridSearchCV(cv=StratifiedKFold(n_splits=5, random_state=19, shuffle=True),\n",
       "             estimator=LogisticRegression(),\n",
       "             param_grid={'C': [1, 10, 100, 1000], 'penalty': ['l1', 'l2'],\n",
       "                         'solver': ['saga']},\n",
       "             scoring='accuracy')"
      ]
     },
     "execution_count": 41,
     "metadata": {},
     "output_type": "execute_result"
    }
   ],
   "source": [
    "grid_log.fit(train, y_train)"
   ]
  },
  {
   "cell_type": "code",
   "execution_count": 42,
   "metadata": {},
   "outputs": [],
   "source": [
    "log_cv_train_score = grid_log.score(train, y_train)\n",
    "log_cv_test_score = accuracy_score(grid_log.predict(test), y_test)"
   ]
  },
  {
   "cell_type": "code",
   "execution_count": 43,
   "metadata": {},
   "outputs": [
    {
     "name": "stdout",
     "output_type": "stream",
     "text": [
      "Best parameters: {'C': 10, 'penalty': 'l1', 'solver': 'saga'}\n",
      "Best cv score: 0.925\n",
      "Train score: 1.0\n",
      "Test test score: 1.0\n"
     ]
    }
   ],
   "source": [
    "print(f'''Best parameters: {grid_log.best_params_}\n",
    "Best cv score: {grid_log.best_score_}\n",
    "Train score: {log_cv_train_score}\n",
    "Test test score: {log_cv_test_score}''')"
   ]
  },
  {
   "cell_type": "markdown",
   "metadata": {},
   "source": [
    "Tfidfvectorizer"
   ]
  },
  {
   "cell_type": "code",
   "execution_count": 44,
   "metadata": {},
   "outputs": [
    {
     "data": {
      "text/plain": [
       "GridSearchCV(cv=StratifiedKFold(n_splits=5, random_state=19, shuffle=True),\n",
       "             estimator=LogisticRegression(),\n",
       "             param_grid={'C': [1, 10, 100, 1000], 'penalty': ['l1', 'l2'],\n",
       "                         'solver': ['saga']},\n",
       "             scoring='accuracy')"
      ]
     },
     "execution_count": 44,
     "metadata": {},
     "output_type": "execute_result"
    }
   ],
   "source": [
    "grid_log.fit(train_tfidf, y_train)"
   ]
  },
  {
   "cell_type": "code",
   "execution_count": 45,
   "metadata": {},
   "outputs": [],
   "source": [
    "log_td_train_score = grid_log.score(train_tfidf, y_train)\n",
    "log_td_test_score = accuracy_score(grid_log.predict(test_tfidf), y_test)"
   ]
  },
  {
   "cell_type": "code",
   "execution_count": 46,
   "metadata": {},
   "outputs": [
    {
     "name": "stdout",
     "output_type": "stream",
     "text": [
      "Best parameters: {'C': 10, 'penalty': 'l2', 'solver': 'saga'}\n",
      "Best cv score: 0.975\n",
      "Train score: 1.0\n",
      "Test test score: 0.9285714285714286\n"
     ]
    }
   ],
   "source": [
    "print(f'''Best parameters: {grid_log.best_params_}\n",
    "Best cv score: {grid_log.best_score_}\n",
    "Train score: {log_td_train_score}\n",
    "Test test score: {log_td_test_score}''')"
   ]
  },
  {
   "cell_type": "markdown",
   "metadata": {},
   "source": [
    "### 3. SGDClassifier"
   ]
  },
  {
   "cell_type": "markdown",
   "metadata": {},
   "source": [
    "CountVectorizer"
   ]
  },
  {
   "cell_type": "code",
   "execution_count": 47,
   "metadata": {},
   "outputs": [],
   "source": [
    "parameters ={\n",
    "    'penalty': ('l2', 'elasticnet', 'l1'),\n",
    "    'max_iter': [50, 80],\n",
    "    'tol': [1e-4],\n",
    "    'loss': ['hinge', 'log', 'modified_huber'],\n",
    "}"
   ]
  },
  {
   "cell_type": "code",
   "execution_count": 48,
   "metadata": {},
   "outputs": [],
   "source": [
    "grid_sgd = GridSearchCV(SGDClassifier(), parameters, cv=folds, scoring='accuracy')"
   ]
  },
  {
   "cell_type": "code",
   "execution_count": 49,
   "metadata": {},
   "outputs": [
    {
     "data": {
      "text/plain": [
       "GridSearchCV(cv=StratifiedKFold(n_splits=5, random_state=19, shuffle=True),\n",
       "             estimator=SGDClassifier(),\n",
       "             param_grid={'loss': ['hinge', 'log', 'modified_huber'],\n",
       "                         'max_iter': [50, 80],\n",
       "                         'penalty': ('l2', 'elasticnet', 'l1'),\n",
       "                         'tol': [0.0001]},\n",
       "             scoring='accuracy')"
      ]
     },
     "execution_count": 49,
     "metadata": {},
     "output_type": "execute_result"
    }
   ],
   "source": [
    "grid_sgd.fit(train, y_train)"
   ]
  },
  {
   "cell_type": "code",
   "execution_count": 50,
   "metadata": {},
   "outputs": [],
   "source": [
    "sgd_cv_train_score = grid_sgd.score(train, y_train)\n",
    "sgd_cv_test_score = accuracy_score(grid_sgd.predict(test), y_test)"
   ]
  },
  {
   "cell_type": "code",
   "execution_count": 51,
   "metadata": {},
   "outputs": [
    {
     "name": "stdout",
     "output_type": "stream",
     "text": [
      "Best parameters: {'loss': 'hinge', 'max_iter': 80, 'penalty': 'l1', 'tol': 0.0001}\n",
      "Best cv score: 0.975\n",
      "Train score: 1.0\n",
      "Test test score: 0.9285714285714286\n"
     ]
    }
   ],
   "source": [
    "print(f'''Best parameters: {grid_sgd.best_params_}\n",
    "Best cv score: {grid_sgd.best_score_}\n",
    "Train score: {sgd_cv_train_score}\n",
    "Test test score: {sgd_cv_test_score}''')"
   ]
  },
  {
   "cell_type": "markdown",
   "metadata": {},
   "source": [
    "Tfidfvectorizer"
   ]
  },
  {
   "cell_type": "code",
   "execution_count": 52,
   "metadata": {},
   "outputs": [
    {
     "data": {
      "text/plain": [
       "GridSearchCV(cv=StratifiedKFold(n_splits=5, random_state=19, shuffle=True),\n",
       "             estimator=SGDClassifier(),\n",
       "             param_grid={'loss': ['hinge', 'log', 'modified_huber'],\n",
       "                         'max_iter': [50, 80],\n",
       "                         'penalty': ('l2', 'elasticnet', 'l1'),\n",
       "                         'tol': [0.0001]},\n",
       "             scoring='accuracy')"
      ]
     },
     "execution_count": 52,
     "metadata": {},
     "output_type": "execute_result"
    }
   ],
   "source": [
    "grid_sgd.fit(train_tfidf, y_train)"
   ]
  },
  {
   "cell_type": "code",
   "execution_count": 53,
   "metadata": {},
   "outputs": [],
   "source": [
    "sgd_td_train_score = grid_sgd.score(train_tfidf, y_train)\n",
    "sgd_td_test_score = accuracy_score(grid_sgd.predict(test_tfidf), y_test)"
   ]
  },
  {
   "cell_type": "code",
   "execution_count": 54,
   "metadata": {},
   "outputs": [
    {
     "name": "stdout",
     "output_type": "stream",
     "text": [
      "Best parameters: {'loss': 'hinge', 'max_iter': 50, 'penalty': 'l2', 'tol': 0.0001}\n",
      "Best cv score: 1.0\n",
      "Train score: 1.0\n",
      "Test test score: 0.9285714285714286\n"
     ]
    }
   ],
   "source": [
    "print(f'''Best parameters: {grid_sgd.best_params_}\n",
    "Best cv score: {grid_sgd.best_score_}\n",
    "Train score: {log_td_train_score}\n",
    "Test test score: {log_td_test_score}''')"
   ]
  },
  {
   "cell_type": "markdown",
   "metadata": {},
   "source": [
    "### 4. KNeighborsClassifier"
   ]
  },
  {
   "cell_type": "markdown",
   "metadata": {},
   "source": [
    "CountVectorizer"
   ]
  },
  {
   "cell_type": "code",
   "execution_count": 55,
   "metadata": {},
   "outputs": [],
   "source": [
    "parameters ={\n",
    "        'n_neighbors': range(1,4),\n",
    "        'weights' : ['uniform', 'distance'],\n",
    "        'p' : [1, 2, 3]\n",
    "}"
   ]
  },
  {
   "cell_type": "code",
   "execution_count": 56,
   "metadata": {},
   "outputs": [],
   "source": [
    "grid_knn = GridSearchCV(KNeighborsClassifier(), parameters, cv=folds, scoring='accuracy')"
   ]
  },
  {
   "cell_type": "code",
   "execution_count": 57,
   "metadata": {},
   "outputs": [
    {
     "data": {
      "text/plain": [
       "GridSearchCV(cv=StratifiedKFold(n_splits=5, random_state=19, shuffle=True),\n",
       "             estimator=KNeighborsClassifier(),\n",
       "             param_grid={'n_neighbors': range(1, 4), 'p': [1, 2, 3],\n",
       "                         'weights': ['uniform', 'distance']},\n",
       "             scoring='accuracy')"
      ]
     },
     "execution_count": 57,
     "metadata": {},
     "output_type": "execute_result"
    }
   ],
   "source": [
    "grid_knn.fit(train, y_train)"
   ]
  },
  {
   "cell_type": "code",
   "execution_count": 58,
   "metadata": {},
   "outputs": [],
   "source": [
    "knn_cv_train_score = grid_knn.score(train, y_train)\n",
    "knn_cv_test_score = accuracy_score(grid_knn.predict(test), y_test)"
   ]
  },
  {
   "cell_type": "code",
   "execution_count": 59,
   "metadata": {},
   "outputs": [
    {
     "name": "stdout",
     "output_type": "stream",
     "text": [
      "Best parameters: {'n_neighbors': 1, 'p': 3, 'weights': 'uniform'}\n",
      "Best cv score: 0.6222222222222222\n",
      "Train score: 1.0\n",
      "Test test score: 0.5\n"
     ]
    }
   ],
   "source": [
    "print(f'''Best parameters: {grid_knn.best_params_}\n",
    "Best cv score: {grid_knn.best_score_}\n",
    "Train score: {knn_cv_train_score}\n",
    "Test test score: {knn_cv_test_score}''')"
   ]
  },
  {
   "cell_type": "markdown",
   "metadata": {},
   "source": [
    "Tfidfvectorizer"
   ]
  },
  {
   "cell_type": "code",
   "execution_count": 60,
   "metadata": {},
   "outputs": [
    {
     "data": {
      "text/plain": [
       "GridSearchCV(cv=StratifiedKFold(n_splits=5, random_state=19, shuffle=True),\n",
       "             estimator=KNeighborsClassifier(),\n",
       "             param_grid={'n_neighbors': range(1, 4), 'p': [1, 2, 3],\n",
       "                         'weights': ['uniform', 'distance']},\n",
       "             scoring='accuracy')"
      ]
     },
     "execution_count": 60,
     "metadata": {},
     "output_type": "execute_result"
    }
   ],
   "source": [
    "grid_knn.fit(train_tfidf, y_train)"
   ]
  },
  {
   "cell_type": "code",
   "execution_count": 61,
   "metadata": {},
   "outputs": [],
   "source": [
    "knn_td_train_score = grid_knn.score(train_tfidf, y_train)\n",
    "knn_td_test_score = accuracy_score(grid_knn.predict(test_tfidf), y_test)"
   ]
  },
  {
   "cell_type": "code",
   "execution_count": 62,
   "metadata": {},
   "outputs": [
    {
     "name": "stdout",
     "output_type": "stream",
     "text": [
      "Best parameters: {'n_neighbors': 3, 'p': 2, 'weights': 'uniform'}\n",
      "Best cv score: 0.9055555555555556\n",
      "Train score: 1.0\n",
      "Test test score: 0.9285714285714286\n"
     ]
    }
   ],
   "source": [
    "print(f'''Best parameters: {grid_knn.best_params_}\n",
    "Best cv score: {grid_knn.best_score_}\n",
    "Train score: {knn_td_train_score}\n",
    "Test test score: {knn_td_test_score}''')"
   ]
  },
  {
   "cell_type": "markdown",
   "metadata": {},
   "source": [
    "### 5. CART"
   ]
  },
  {
   "cell_type": "markdown",
   "metadata": {},
   "source": [
    "CountVectorizer"
   ]
  },
  {
   "cell_type": "code",
   "execution_count": 63,
   "metadata": {},
   "outputs": [],
   "source": [
    "parameters ={\n",
    "        \"criterion\" : [\"gini\", \"entropy\"],\n",
    "        \"min_samples_leaf\": [5,10,15,20,2], \n",
    "        \"max_depth\" : [1,2,3,4,5,6,8,9,10,11,12,13,14,15,16,17],\n",
    "        \"min_samples_split\": [2, 3, 4,None]\n",
    "}"
   ]
  },
  {
   "cell_type": "code",
   "execution_count": 64,
   "metadata": {},
   "outputs": [],
   "source": [
    "grid_dtc = GridSearchCV(DecisionTreeClassifier(), parameters, cv=folds, scoring='accuracy')"
   ]
  },
  {
   "cell_type": "code",
   "execution_count": 65,
   "metadata": {},
   "outputs": [
    {
     "data": {
      "text/plain": [
       "GridSearchCV(cv=StratifiedKFold(n_splits=5, random_state=19, shuffle=True),\n",
       "             estimator=DecisionTreeClassifier(),\n",
       "             param_grid={'criterion': ['gini', 'entropy'],\n",
       "                         'max_depth': [1, 2, 3, 4, 5, 6, 8, 9, 10, 11, 12, 13,\n",
       "                                       14, 15, 16, 17],\n",
       "                         'min_samples_leaf': [5, 10, 15, 20, 2],\n",
       "                         'min_samples_split': [2, 3, 4, None]},\n",
       "             scoring='accuracy')"
      ]
     },
     "execution_count": 65,
     "metadata": {},
     "output_type": "execute_result"
    }
   ],
   "source": [
    "grid_dtc.fit(train, y_train)"
   ]
  },
  {
   "cell_type": "code",
   "execution_count": 66,
   "metadata": {},
   "outputs": [],
   "source": [
    "dtc_cv_train_score = grid_dtc.score(train, y_train)\n",
    "dtc_cv_test_score = accuracy_score(grid_dtc .predict(test), y_test)"
   ]
  },
  {
   "cell_type": "code",
   "execution_count": 67,
   "metadata": {},
   "outputs": [
    {
     "name": "stdout",
     "output_type": "stream",
     "text": [
      "Best parameters: {'criterion': 'gini', 'max_depth': 8, 'min_samples_leaf': 2, 'min_samples_split': 4}\n",
      "Best cv score: 0.9777777777777779\n",
      "Train score: 1.0\n",
      "Test test score: 0.9285714285714286\n"
     ]
    }
   ],
   "source": [
    "print(f'''Best parameters: {grid_dtc.best_params_}\n",
    "Best cv score: {grid_dtc.best_score_}\n",
    "Train score: {dtc_cv_train_score}\n",
    "Test test score: {dtc_cv_test_score}''')"
   ]
  },
  {
   "cell_type": "markdown",
   "metadata": {},
   "source": [
    "Tfidfvectorizer"
   ]
  },
  {
   "cell_type": "code",
   "execution_count": 68,
   "metadata": {},
   "outputs": [
    {
     "data": {
      "text/plain": [
       "GridSearchCV(cv=StratifiedKFold(n_splits=5, random_state=19, shuffle=True),\n",
       "             estimator=DecisionTreeClassifier(),\n",
       "             param_grid={'criterion': ['gini', 'entropy'],\n",
       "                         'max_depth': [1, 2, 3, 4, 5, 6, 8, 9, 10, 11, 12, 13,\n",
       "                                       14, 15, 16, 17],\n",
       "                         'min_samples_leaf': [5, 10, 15, 20, 2],\n",
       "                         'min_samples_split': [2, 3, 4, None]},\n",
       "             scoring='accuracy')"
      ]
     },
     "execution_count": 68,
     "metadata": {},
     "output_type": "execute_result"
    }
   ],
   "source": [
    "grid_dtc.fit(train_tfidf, y_train)"
   ]
  },
  {
   "cell_type": "code",
   "execution_count": 69,
   "metadata": {},
   "outputs": [],
   "source": [
    "dtc_td_train_score = grid_dtc.score(train_tfidf, y_train)\n",
    "dtc_td_test_score = accuracy_score(grid_dtc.predict(test_tfidf), y_test)"
   ]
  },
  {
   "cell_type": "code",
   "execution_count": 70,
   "metadata": {},
   "outputs": [
    {
     "name": "stdout",
     "output_type": "stream",
     "text": [
      "Best parameters: {'criterion': 'gini', 'max_depth': 4, 'min_samples_leaf': 2, 'min_samples_split': 4}\n",
      "Best cv score: 0.9555555555555555\n",
      "Train score: 1.0\n",
      "Test test score: 0.9285714285714286\n"
     ]
    }
   ],
   "source": [
    "print(f'''Best parameters: {grid_dtc.best_params_}\n",
    "Best cv score: {grid_dtc.best_score_}\n",
    "Train score: {knn_td_train_score}\n",
    "Test test score: {knn_td_test_score}''')"
   ]
  },
  {
   "cell_type": "markdown",
   "metadata": {},
   "source": [
    "### 6. AdaBoost"
   ]
  },
  {
   "cell_type": "markdown",
   "metadata": {},
   "source": [
    "CountVectorizer"
   ]
  },
  {
   "cell_type": "code",
   "execution_count": 71,
   "metadata": {},
   "outputs": [],
   "source": [
    "parameters = {\n",
    "    'learning_rate': [.5]\n",
    "}"
   ]
  },
  {
   "cell_type": "code",
   "execution_count": 72,
   "metadata": {},
   "outputs": [],
   "source": [
    "grid_ada = GridSearchCV(AdaBoostClassifier(), parameters, cv=folds, scoring='accuracy')"
   ]
  },
  {
   "cell_type": "code",
   "execution_count": 73,
   "metadata": {},
   "outputs": [
    {
     "data": {
      "text/plain": [
       "GridSearchCV(cv=StratifiedKFold(n_splits=5, random_state=19, shuffle=True),\n",
       "             estimator=AdaBoostClassifier(),\n",
       "             param_grid={'learning_rate': [0.5]}, scoring='accuracy')"
      ]
     },
     "execution_count": 73,
     "metadata": {},
     "output_type": "execute_result"
    }
   ],
   "source": [
    "grid_ada.fit(train, y_train)"
   ]
  },
  {
   "cell_type": "code",
   "execution_count": 74,
   "metadata": {},
   "outputs": [],
   "source": [
    "ada_cv_train_score = grid_ada.score(train, y_train)\n",
    "ada_cv_test_score = accuracy_score(grid_ada .predict(test), y_test)"
   ]
  },
  {
   "cell_type": "code",
   "execution_count": 75,
   "metadata": {},
   "outputs": [
    {
     "name": "stdout",
     "output_type": "stream",
     "text": [
      "Best parameters: {'learning_rate': 0.5}\n",
      "Best cv score: 0.9305555555555556\n",
      "Train score: 1.0\n",
      "Test test score: 0.9285714285714286\n"
     ]
    }
   ],
   "source": [
    "print(f'''Best parameters: {grid_ada.best_params_}\n",
    "Best cv score: {grid_ada.best_score_}\n",
    "Train score: {ada_cv_train_score}\n",
    "Test test score: {ada_cv_test_score}''')"
   ]
  },
  {
   "cell_type": "markdown",
   "metadata": {},
   "source": [
    "Tfidfvectorizer"
   ]
  },
  {
   "cell_type": "code",
   "execution_count": 76,
   "metadata": {},
   "outputs": [
    {
     "data": {
      "text/plain": [
       "GridSearchCV(cv=StratifiedKFold(n_splits=5, random_state=19, shuffle=True),\n",
       "             estimator=AdaBoostClassifier(),\n",
       "             param_grid={'learning_rate': [0.5]}, scoring='accuracy')"
      ]
     },
     "execution_count": 76,
     "metadata": {},
     "output_type": "execute_result"
    }
   ],
   "source": [
    "grid_ada.fit(train_tfidf, y_train)"
   ]
  },
  {
   "cell_type": "code",
   "execution_count": 77,
   "metadata": {},
   "outputs": [],
   "source": [
    "ada_td_train_score = grid_ada.score(train_tfidf, y_train)\n",
    "ada_td_test_score = accuracy_score(grid_ada.predict(test_tfidf), y_test)"
   ]
  },
  {
   "cell_type": "code",
   "execution_count": 78,
   "metadata": {},
   "outputs": [
    {
     "name": "stdout",
     "output_type": "stream",
     "text": [
      "Best parameters: {'learning_rate': 0.5}\n",
      "Best cv score: 0.9027777777777779\n",
      "Train score: 1.0\n",
      "Test test score: 0.8571428571428571\n"
     ]
    }
   ],
   "source": [
    "print(f'''Best parameters: {grid_ada.best_params_}\n",
    "Best cv score: {grid_ada.best_score_}\n",
    "Train score: {ada_td_train_score}\n",
    "Test test score: {ada_td_test_score}''')"
   ]
  },
  {
   "cell_type": "markdown",
   "metadata": {},
   "source": [
    "### 7. GradientBoosting"
   ]
  },
  {
   "cell_type": "markdown",
   "metadata": {},
   "source": [
    "CountVectorizer"
   ]
  },
  {
   "cell_type": "code",
   "execution_count": 79,
   "metadata": {},
   "outputs": [],
   "source": [
    "parameters = {\n",
    "    'loss':['deviance', 'exponential']\n",
    "}"
   ]
  },
  {
   "cell_type": "code",
   "execution_count": 80,
   "metadata": {},
   "outputs": [],
   "source": [
    "grid_grb = GridSearchCV(GradientBoostingClassifier(), parameters, cv=folds, scoring='accuracy')"
   ]
  },
  {
   "cell_type": "code",
   "execution_count": 81,
   "metadata": {},
   "outputs": [
    {
     "data": {
      "text/plain": [
       "GridSearchCV(cv=StratifiedKFold(n_splits=5, random_state=19, shuffle=True),\n",
       "             estimator=GradientBoostingClassifier(),\n",
       "             param_grid={'loss': ['deviance', 'exponential']},\n",
       "             scoring='accuracy')"
      ]
     },
     "execution_count": 81,
     "metadata": {},
     "output_type": "execute_result"
    }
   ],
   "source": [
    "grid_grb.fit(train, y_train)"
   ]
  },
  {
   "cell_type": "code",
   "execution_count": 82,
   "metadata": {},
   "outputs": [],
   "source": [
    "grb_cv_train_score = grid_grb.score(train, y_train)\n",
    "grb_cv_test_score = accuracy_score(grid_grb.predict(test), y_test)"
   ]
  },
  {
   "cell_type": "code",
   "execution_count": 83,
   "metadata": {},
   "outputs": [
    {
     "name": "stdout",
     "output_type": "stream",
     "text": [
      "Best parameters: {'loss': 'deviance'}\n",
      "Best cv score: 0.9305555555555556\n",
      "Train score: 1.0\n",
      "Test test score: 0.9285714285714286\n"
     ]
    }
   ],
   "source": [
    "print(f'''Best parameters: {grid_grb.best_params_}\n",
    "Best cv score: {grid_grb.best_score_}\n",
    "Train score: {grb_cv_train_score}\n",
    "Test test score: {grb_cv_test_score}''')"
   ]
  },
  {
   "cell_type": "markdown",
   "metadata": {},
   "source": [
    "Tfidfvectorizer"
   ]
  },
  {
   "cell_type": "code",
   "execution_count": 84,
   "metadata": {},
   "outputs": [
    {
     "data": {
      "text/plain": [
       "GridSearchCV(cv=StratifiedKFold(n_splits=5, random_state=19, shuffle=True),\n",
       "             estimator=GradientBoostingClassifier(),\n",
       "             param_grid={'loss': ['deviance', 'exponential']},\n",
       "             scoring='accuracy')"
      ]
     },
     "execution_count": 84,
     "metadata": {},
     "output_type": "execute_result"
    }
   ],
   "source": [
    "grid_grb.fit(train_tfidf, y_train)"
   ]
  },
  {
   "cell_type": "code",
   "execution_count": 85,
   "metadata": {},
   "outputs": [],
   "source": [
    "grb_td_train_score = grid_grb.score(train_tfidf, y_train)\n",
    "grb_td_test_score = accuracy_score(grid_grb.predict(test_tfidf), y_test)"
   ]
  },
  {
   "cell_type": "code",
   "execution_count": 86,
   "metadata": {},
   "outputs": [
    {
     "name": "stdout",
     "output_type": "stream",
     "text": [
      "Best parameters: {'loss': 'deviance'}\n",
      "Best cv score: 0.8805555555555555\n",
      "Train score: 1.0\n",
      "Test test score: 0.9285714285714286\n"
     ]
    }
   ],
   "source": [
    "print(f'''Best parameters: {grid_grb.best_params_}\n",
    "Best cv score: {grid_grb.best_score_}\n",
    "Train score: {grb_td_train_score}\n",
    "Test test score: {grb_td_test_score}''')"
   ]
  },
  {
   "cell_type": "markdown",
   "metadata": {},
   "source": [
    "### 8. XGBoost"
   ]
  },
  {
   "cell_type": "markdown",
   "metadata": {},
   "source": [
    "CountVectorizer"
   ]
  },
  {
   "cell_type": "code",
   "execution_count": 87,
   "metadata": {},
   "outputs": [],
   "source": [
    "grid_xgb = GridSearchCV(XGBClassifier(), param_grid={}, cv=folds, scoring='accuracy')"
   ]
  },
  {
   "cell_type": "code",
   "execution_count": 88,
   "metadata": {},
   "outputs": [
    {
     "data": {
      "text/plain": [
       "GridSearchCV(cv=StratifiedKFold(n_splits=5, random_state=19, shuffle=True),\n",
       "             estimator=XGBClassifier(base_score=None, booster=None,\n",
       "                                     colsample_bylevel=None,\n",
       "                                     colsample_bynode=None,\n",
       "                                     colsample_bytree=None, gamma=None,\n",
       "                                     gpu_id=None, importance_type='gain',\n",
       "                                     interaction_constraints=None,\n",
       "                                     learning_rate=None, max_delta_step=None,\n",
       "                                     max_depth=None, min_child_weight=None,\n",
       "                                     missing=nan, monotone_constraints=None,\n",
       "                                     n_estimators=100, n_jobs=None,\n",
       "                                     num_parallel_tree=None, random_state=None,\n",
       "                                     reg_alpha=None, reg_lambda=None,\n",
       "                                     scale_pos_weight=None, subsample=None,\n",
       "                                     tree_method=None, validate_parameters=None,\n",
       "                                     verbosity=None),\n",
       "             param_grid={}, scoring='accuracy')"
      ]
     },
     "execution_count": 88,
     "metadata": {},
     "output_type": "execute_result"
    }
   ],
   "source": [
    "grid_xgb.fit(train, y_train)"
   ]
  },
  {
   "cell_type": "code",
   "execution_count": 89,
   "metadata": {},
   "outputs": [],
   "source": [
    "xgb_cv_train_score = grid_xgb.score(train, y_train)\n",
    "xgb_cv_test_score = accuracy_score(grid_xgb.predict(test), y_test)"
   ]
  },
  {
   "cell_type": "code",
   "execution_count": 90,
   "metadata": {},
   "outputs": [
    {
     "name": "stdout",
     "output_type": "stream",
     "text": [
      "Best parameters: {}\n",
      "Best cv score: 0.9305555555555556\n",
      "Train score: 1.0\n",
      "Test test score: 0.8571428571428571\n"
     ]
    }
   ],
   "source": [
    "print(f'''Best parameters: {grid_xgb.best_params_}\n",
    "Best cv score: {grid_xgb.best_score_}\n",
    "Train score: {xgb_cv_train_score}\n",
    "Test test score: {xgb_cv_test_score}''')"
   ]
  },
  {
   "cell_type": "markdown",
   "metadata": {},
   "source": [
    "Tfidfvectorizer"
   ]
  },
  {
   "cell_type": "code",
   "execution_count": 91,
   "metadata": {},
   "outputs": [
    {
     "data": {
      "text/plain": [
       "GridSearchCV(cv=StratifiedKFold(n_splits=5, random_state=19, shuffle=True),\n",
       "             estimator=XGBClassifier(base_score=None, booster=None,\n",
       "                                     colsample_bylevel=None,\n",
       "                                     colsample_bynode=None,\n",
       "                                     colsample_bytree=None, gamma=None,\n",
       "                                     gpu_id=None, importance_type='gain',\n",
       "                                     interaction_constraints=None,\n",
       "                                     learning_rate=None, max_delta_step=None,\n",
       "                                     max_depth=None, min_child_weight=None,\n",
       "                                     missing=nan, monotone_constraints=None,\n",
       "                                     n_estimators=100, n_jobs=None,\n",
       "                                     num_parallel_tree=None, random_state=None,\n",
       "                                     reg_alpha=None, reg_lambda=None,\n",
       "                                     scale_pos_weight=None, subsample=None,\n",
       "                                     tree_method=None, validate_parameters=None,\n",
       "                                     verbosity=None),\n",
       "             param_grid={}, scoring='accuracy')"
      ]
     },
     "execution_count": 91,
     "metadata": {},
     "output_type": "execute_result"
    }
   ],
   "source": [
    "grid_xgb.fit(train_tfidf, y_train)"
   ]
  },
  {
   "cell_type": "code",
   "execution_count": 92,
   "metadata": {},
   "outputs": [],
   "source": [
    "xgb_td_train_score = grid_xgb.score(train_tfidf, y_train)\n",
    "xgb_td_test_score = accuracy_score(grid_xgb.predict(test_tfidf), y_test)"
   ]
  },
  {
   "cell_type": "code",
   "execution_count": 93,
   "metadata": {},
   "outputs": [
    {
     "name": "stdout",
     "output_type": "stream",
     "text": [
      "Best parameters: {}\n",
      "Best cv score: 0.8305555555555555\n",
      "Train score: 1.0\n",
      "Test test score: 1.0\n"
     ]
    }
   ],
   "source": [
    "print(f'''Best parameters: {grid_xgb.best_params_}\n",
    "Best cv score: {grid_xgb.best_score_}\n",
    "Train score: {xgb_td_train_score}\n",
    "Test test score: {xgb_td_test_score}''')"
   ]
  },
  {
   "cell_type": "markdown",
   "metadata": {},
   "source": [
    "## Results"
   ]
  },
  {
   "cell_type": "code",
   "execution_count": 94,
   "metadata": {},
   "outputs": [],
   "source": [
    "import seaborn as sns\n",
    "import matplotlib.pyplot as plt"
   ]
  },
  {
   "cell_type": "code",
   "execution_count": 104,
   "metadata": {},
   "outputs": [],
   "source": [
    "from sklearn.metrics import classification_report, confusion_matrix\n",
    "from sklearn.model_selection import cross_val_score"
   ]
  },
  {
   "cell_type": "code",
   "execution_count": 96,
   "metadata": {},
   "outputs": [],
   "source": [
    "models = ['MultinomialNB_cv', \n",
    "          'MultinomialNB_td', \n",
    "          'LogisticRegression_cv', \n",
    "          'LogisticRegression_td',\n",
    "          'SGD_cv',\n",
    "          'SGD_td',\n",
    "          'KNeighbors_cv', \n",
    "          'KNeighbors_td',\n",
    "          'DecisionTree_cv',\n",
    "          'DecisionTree_td',\n",
    "          'AdaBoost_cv',\n",
    "          'AdaBoost_td',\n",
    "          'GradientBoosting_cv',\n",
    "          'GradientBoosting_td',\n",
    "          'XGB_cv',\n",
    "          'XGB_td']"
   ]
  },
  {
   "cell_type": "code",
   "execution_count": 97,
   "metadata": {},
   "outputs": [],
   "source": [
    "train_score_cv = [mnb_train_score_cv, log_cv_train_score, sgd_cv_train_score, knn_cv_train_score, dtc_cv_train_score, ada_cv_train_score, grb_cv_train_score, xgb_cv_train_score]\n",
    "train_score_td = [mnb_train_score_td, log_td_train_score, sgd_td_train_score, knn_td_train_score, dtc_td_train_score, ada_td_train_score, grb_td_train_score, xgb_td_train_score]"
   ]
  },
  {
   "cell_type": "code",
   "execution_count": 98,
   "metadata": {},
   "outputs": [],
   "source": [
    "test_score_cv = [mnb_test_score_cv, log_cv_test_score, sgd_cv_test_score, knn_cv_test_score, dtc_cv_test_score, ada_cv_test_score, grb_cv_test_score, xgb_cv_test_score]\n",
    "test_score_td = [mnb_test_score_td, log_td_test_score, sgd_td_test_score, knn_td_test_score, dtc_td_test_score, ada_td_test_score, grb_td_test_score, xgb_td_test_score]"
   ]
  },
  {
   "cell_type": "code",
   "execution_count": 99,
   "metadata": {},
   "outputs": [
    {
     "data": {
      "text/html": [
       "<div>\n",
       "<style scoped>\n",
       "    .dataframe tbody tr th:only-of-type {\n",
       "        vertical-align: middle;\n",
       "    }\n",
       "\n",
       "    .dataframe tbody tr th {\n",
       "        vertical-align: top;\n",
       "    }\n",
       "\n",
       "    .dataframe thead th {\n",
       "        text-align: right;\n",
       "    }\n",
       "</style>\n",
       "<table border=\"1\" class=\"dataframe\">\n",
       "  <thead>\n",
       "    <tr style=\"text-align: right;\">\n",
       "      <th></th>\n",
       "      <th>model</th>\n",
       "      <th>train score</th>\n",
       "      <th>test score</th>\n",
       "    </tr>\n",
       "  </thead>\n",
       "  <tbody>\n",
       "    <tr>\n",
       "      <th>0</th>\n",
       "      <td>MultinomialNB_cv</td>\n",
       "      <td>1.0</td>\n",
       "      <td>0.928571</td>\n",
       "    </tr>\n",
       "    <tr>\n",
       "      <th>1</th>\n",
       "      <td>MultinomialNB_td</td>\n",
       "      <td>1.0</td>\n",
       "      <td>1.000000</td>\n",
       "    </tr>\n",
       "    <tr>\n",
       "      <th>2</th>\n",
       "      <td>LogisticRegression_cv</td>\n",
       "      <td>1.0</td>\n",
       "      <td>0.928571</td>\n",
       "    </tr>\n",
       "    <tr>\n",
       "      <th>3</th>\n",
       "      <td>LogisticRegression_td</td>\n",
       "      <td>1.0</td>\n",
       "      <td>0.500000</td>\n",
       "    </tr>\n",
       "    <tr>\n",
       "      <th>4</th>\n",
       "      <td>SGD_cv</td>\n",
       "      <td>1.0</td>\n",
       "      <td>0.928571</td>\n",
       "    </tr>\n",
       "    <tr>\n",
       "      <th>5</th>\n",
       "      <td>SGD_td</td>\n",
       "      <td>1.0</td>\n",
       "      <td>0.928571</td>\n",
       "    </tr>\n",
       "    <tr>\n",
       "      <th>6</th>\n",
       "      <td>KNeighbors_cv</td>\n",
       "      <td>1.0</td>\n",
       "      <td>0.928571</td>\n",
       "    </tr>\n",
       "    <tr>\n",
       "      <th>7</th>\n",
       "      <td>KNeighbors_td</td>\n",
       "      <td>1.0</td>\n",
       "      <td>0.857143</td>\n",
       "    </tr>\n",
       "    <tr>\n",
       "      <th>8</th>\n",
       "      <td>DecisionTree_cv</td>\n",
       "      <td>1.0</td>\n",
       "      <td>0.928571</td>\n",
       "    </tr>\n",
       "    <tr>\n",
       "      <th>9</th>\n",
       "      <td>DecisionTree_td</td>\n",
       "      <td>1.0</td>\n",
       "      <td>0.928571</td>\n",
       "    </tr>\n",
       "    <tr>\n",
       "      <th>10</th>\n",
       "      <td>AdaBoost_cv</td>\n",
       "      <td>1.0</td>\n",
       "      <td>0.928571</td>\n",
       "    </tr>\n",
       "    <tr>\n",
       "      <th>11</th>\n",
       "      <td>AdaBoost_td</td>\n",
       "      <td>1.0</td>\n",
       "      <td>0.928571</td>\n",
       "    </tr>\n",
       "    <tr>\n",
       "      <th>12</th>\n",
       "      <td>GradientBoosting_cv</td>\n",
       "      <td>1.0</td>\n",
       "      <td>0.857143</td>\n",
       "    </tr>\n",
       "    <tr>\n",
       "      <th>13</th>\n",
       "      <td>GradientBoosting_td</td>\n",
       "      <td>1.0</td>\n",
       "      <td>0.857143</td>\n",
       "    </tr>\n",
       "    <tr>\n",
       "      <th>14</th>\n",
       "      <td>XGB_cv</td>\n",
       "      <td>1.0</td>\n",
       "      <td>0.928571</td>\n",
       "    </tr>\n",
       "    <tr>\n",
       "      <th>15</th>\n",
       "      <td>XGB_td</td>\n",
       "      <td>1.0</td>\n",
       "      <td>1.000000</td>\n",
       "    </tr>\n",
       "  </tbody>\n",
       "</table>\n",
       "</div>"
      ],
      "text/plain": [
       "                    model  train score  test score\n",
       "0        MultinomialNB_cv          1.0    0.928571\n",
       "1        MultinomialNB_td          1.0    1.000000\n",
       "2   LogisticRegression_cv          1.0    0.928571\n",
       "3   LogisticRegression_td          1.0    0.500000\n",
       "4                  SGD_cv          1.0    0.928571\n",
       "5                  SGD_td          1.0    0.928571\n",
       "6           KNeighbors_cv          1.0    0.928571\n",
       "7           KNeighbors_td          1.0    0.857143\n",
       "8         DecisionTree_cv          1.0    0.928571\n",
       "9         DecisionTree_td          1.0    0.928571\n",
       "10            AdaBoost_cv          1.0    0.928571\n",
       "11            AdaBoost_td          1.0    0.928571\n",
       "12    GradientBoosting_cv          1.0    0.857143\n",
       "13    GradientBoosting_td          1.0    0.857143\n",
       "14                 XGB_cv          1.0    0.928571\n",
       "15                 XGB_td          1.0    1.000000"
      ]
     },
     "execution_count": 99,
     "metadata": {},
     "output_type": "execute_result"
    }
   ],
   "source": [
    "pd.DataFrame({'model':models, 'train score': train_score_cv + train_score_td, 'test score': test_score_cv + test_score_td})"
   ]
  },
  {
   "cell_type": "code",
   "execution_count": 122,
   "metadata": {},
   "outputs": [],
   "source": [
    "estimators = [\n",
    "    ('MNB', MultinomialNB()),\n",
    "    ('LR', LogisticRegression()),\n",
    "    ('SGD', SGDClassifier()),\n",
    "    ('KNN', KNeighborsClassifier()),\n",
    "    ('CART', DecisionTreeClassifier()),\n",
    "    ('ADA', AdaBoostClassifier()),\n",
    "    ('GDB', GradientBoostingClassifier()),\n",
    "    ('XGB', XGBClassifier())\n",
    "]\n",
    "results = []"
   ]
  },
  {
   "cell_type": "code",
   "execution_count": 123,
   "metadata": {},
   "outputs": [
    {
     "name": "stdout",
     "output_type": "stream",
     "text": [
      "model\tCV mean\t CV std\n",
      "MNB:\t0.963636 (0.072727)\n",
      "LR:\t0.928788 (0.035727)\n",
      "SGD:\t0.946970 (0.043387)\n",
      "KNN:\t0.463636 (0.018182)\n",
      "CART:\t0.946970 (0.043387)\n",
      "ADA:\t0.946970 (0.043387)\n",
      "GDB:\t0.928788 (0.035727)\n",
      "XGB:\t0.928788 (0.035727)\n"
     ]
    }
   ],
   "source": [
    "results = []\n",
    "scoring = 'accuracy'\n",
    "print(\"model\\tCV mean\\t CV std\")\n",
    "for name, model in estimators:\n",
    " \tcv_results = cross_val_score(model, X, y, cv=folds, scoring='accuracy')\n",
    " \tresults.append(cv_results)\n",
    " \tmsg = \"%s:\\t%f (%f)\" % (name, cv_results.mean(), cv_results.std())\n",
    " \tprint(msg)"
   ]
  }
 ],
 "metadata": {
  "kernelspec": {
   "display_name": "Python 3",
   "language": "python",
   "name": "python3"
  },
  "language_info": {
   "codemirror_mode": {
    "name": "ipython",
    "version": 3
   },
   "file_extension": ".py",
   "mimetype": "text/x-python",
   "name": "python",
   "nbconvert_exporter": "python",
   "pygments_lexer": "ipython3",
   "version": "3.7.7"
  }
 },
 "nbformat": 4,
 "nbformat_minor": 4
}
